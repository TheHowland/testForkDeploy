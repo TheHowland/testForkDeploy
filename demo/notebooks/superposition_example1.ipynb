{
 "metadata": {
  "name": ""
 },
 "nbformat": 3,
 "nbformat_minor": 0,
 "worksheets": [
  {
   "cells": [
    {
     "cell_type": "code",
     "collapsed": false,
     "input": [
      "from lcapy import Circuit\n",
      "cct = Circuit()\n",
      "cct.add(\"\"\"\n",
      "V1 1 0_1 8; down\n",
      "R1 1 x 3; right, size=1.5, i=I\n",
      "R2 x 2 1; right, size=1.5\n",
      "V2 2 0_2 4; down\n",
      "W 0_1 0; right\n",
      "W 0 0_2; right\n",
      "Ox x 0; v=V_x\n",
      "\"\"\")\n",
      "cct.draw()"
     ],
     "language": "python",
     "metadata": {},
     "outputs": [
      {
       "metadata": {
        "png": {
         "width": 300
        }
       },
       "output_type": "display_data",
       "png": "[encoded data removed]"
      }
     ],
     "prompt_number": 1
    },
    {
     "cell_type": "markdown",
     "metadata": {},
     "source": [
      "Let's determine the current through R1.  There are many ways to solve this; the easiest is to combine the sources, combine the resistances, and then use Ohm's law. You can also use the principle of superposition."
     ]
    },
    {
     "cell_type": "code",
     "collapsed": false,
     "input": [
      "cct['R1'].I"
     ],
     "language": "python",
     "metadata": {},
     "outputs": [
      {
       "latex": [
        "$1$"
       ],
       "metadata": {},
       "output_type": "pyout",
       "prompt_number": 2,
       "text": [
        "1"
       ]
      }
     ],
     "prompt_number": 2
    },
    {
     "cell_type": "markdown",
     "metadata": {},
     "source": [
      "Not surprisingly due to KCL, this is the same as the current through R2."
     ]
    },
    {
     "cell_type": "code",
     "collapsed": false,
     "input": [
      "cct['R2'].I"
     ],
     "language": "python",
     "metadata": {},
     "outputs": [
      {
       "latex": [
        "$1$"
       ],
       "metadata": {},
       "output_type": "pyout",
       "prompt_number": 3,
       "text": [
        "1"
       ]
      }
     ],
     "prompt_number": 3
    },
    {
     "cell_type": "markdown",
     "metadata": {},
     "source": [
      "Now given the current, we can use Ohm's law to determine the voltage drop across R1."
     ]
    },
    {
     "cell_type": "code",
     "collapsed": false,
     "input": [
      "cct['R1'].Z * cct['R1'].I"
     ],
     "language": "python",
     "metadata": {},
     "outputs": [
      {
       "latex": [
        "$3$"
       ],
       "metadata": {},
       "output_type": "pyout",
       "prompt_number": 4,
       "text": [
        "3"
       ]
      }
     ],
     "prompt_number": 4
    },
    {
     "cell_type": "markdown",
     "metadata": {},
     "source": [
      "Lcapy can determine this directly."
     ]
    },
    {
     "cell_type": "code",
     "collapsed": false,
     "input": [
      "cct['R1'].V"
     ],
     "language": "python",
     "metadata": {},
     "outputs": [
      {
       "latex": [
        "$3$"
       ],
       "metadata": {},
       "output_type": "pyout",
       "prompt_number": 5,
       "text": [
        "3"
       ]
      }
     ],
     "prompt_number": 5
    },
    {
     "cell_type": "markdown",
     "metadata": {},
     "source": [
      "Using KVL, the unknown voltage is thus the voltage generated by the source V1 minus the voltage drop across R1."
     ]
    },
    {
     "cell_type": "code",
     "collapsed": false,
     "input": [
      "cct['V1'].V - cct['R1'].V"
     ],
     "language": "python",
     "metadata": {},
     "outputs": [
      {
       "latex": [
        "$5$"
       ],
       "metadata": {},
       "output_type": "pyout",
       "prompt_number": 6,
       "text": [
        "5"
       ]
      }
     ],
     "prompt_number": 6
    },
    {
     "cell_type": "markdown",
     "metadata": {},
     "source": [
      "Of course, Lcapy can determine this directly.  Here Ox is the name of the open circuit over which we wish to determine the voltage difference."
     ]
    },
    {
     "cell_type": "code",
     "collapsed": false,
     "input": [
      "cct['Ox'].V"
     ],
     "language": "python",
     "metadata": {},
     "outputs": [
      {
       "latex": [
        "$5$"
       ],
       "metadata": {},
       "output_type": "pyout",
       "prompt_number": 7,
       "text": [
        "5"
       ]
      }
     ],
     "prompt_number": 7
    },
    {
     "cell_type": "markdown",
     "metadata": {},
     "source": [
      "Alternatively, we can query Lcapy for the voltage at node 'x' with respect to ground."
     ]
    },
    {
     "cell_type": "code",
     "collapsed": false,
     "input": [
      "cct['x'].V"
     ],
     "language": "python",
     "metadata": {},
     "outputs": [
      {
       "latex": [
        "$5$"
       ],
       "metadata": {},
       "output_type": "pyout",
       "prompt_number": 8,
       "text": [
        "5"
       ]
      }
     ],
     "prompt_number": 8
    },
    {
     "cell_type": "markdown",
     "metadata": {},
     "source": [
      "Finally, we should check that the answer makes sense.  It is between 4 and 8 V and so is plausible.  Oh, we should also specify the units for each of our answers.  This helps to find errors."
     ]
    },
    {
     "cell_type": "markdown",
     "metadata": {},
     "source": [
      "Let's now try using superposition.  We start by analysing the circuit with all the sources except V1 killed."
     ]
    },
    {
     "cell_type": "code",
     "collapsed": false,
     "input": [
      "cct2 = cct.kill_except('V1')\n",
      "cct2.draw()"
     ],
     "language": "python",
     "metadata": {},
     "outputs": [
      {
       "metadata": {
        "png": {
         "width": 300
        }
       },
       "output_type": "display_data",
       "png": "[encoded data removed]"
      }
     ],
     "prompt_number": 9
    },
    {
     "cell_type": "markdown",
     "metadata": {},
     "source": [
      "This is a simpler circuit to analyse.  We can either recognise the circuit as a voltage divider or calculate the current and find the voltage drops.  Let's use the latter approach.  Combining the resistances gives 4 ohms and using Ohm's law, the current through R1 and R2 is given by:"
     ]
    },
    {
     "cell_type": "code",
     "collapsed": false,
     "input": [
      "cct2['V1'].V / 4"
     ],
     "language": "python",
     "metadata": {},
     "outputs": [
      {
       "latex": [
        "$2$"
       ],
       "metadata": {},
       "output_type": "pyout",
       "prompt_number": 10,
       "text": [
        "2"
       ]
      }
     ],
     "prompt_number": 10
    },
    {
     "cell_type": "markdown",
     "metadata": {},
     "source": [
      "Lcapy can determine this directly:"
     ]
    },
    {
     "cell_type": "code",
     "collapsed": false,
     "input": [
      "cct2['R2'].I"
     ],
     "language": "python",
     "metadata": {},
     "outputs": [
      {
       "latex": [
        "$2$"
       ],
       "metadata": {},
       "output_type": "pyout",
       "prompt_number": 11,
       "text": [
        "2"
       ]
      }
     ],
     "prompt_number": 11
    },
    {
     "cell_type": "markdown",
     "metadata": {},
     "source": [
      "The voltage drop across R2 can then be found from Ohm's law."
     ]
    },
    {
     "cell_type": "code",
     "collapsed": false,
     "input": [
      "cct2['R2'].I * cct2['R2'].Z"
     ],
     "language": "python",
     "metadata": {},
     "outputs": [
      {
       "latex": [
        "$2$"
       ],
       "metadata": {},
       "output_type": "pyout",
       "prompt_number": 12,
       "text": [
        "2"
       ]
      }
     ],
     "prompt_number": 12
    },
    {
     "cell_type": "markdown",
     "metadata": {},
     "source": [
      "Again, Lcapy can determine this directly:"
     ]
    },
    {
     "cell_type": "code",
     "collapsed": false,
     "input": [
      "cct2['x'].V"
     ],
     "language": "python",
     "metadata": {},
     "outputs": [
      {
       "latex": [
        "$2$"
       ],
       "metadata": {},
       "output_type": "pyout",
       "prompt_number": 14,
       "text": [
        "2"
       ]
      }
     ],
     "prompt_number": 14
    },
    {
     "cell_type": "markdown",
     "metadata": {},
     "source": [
      "So we have determine the voltage Vx due to source V1.  Let's now kill just V2 and determine the voltage Vx due to V2."
     ]
    },
    {
     "cell_type": "code",
     "collapsed": false,
     "input": [
      "cct3 = cct.kill_except('V2')\n",
      "cct3.draw()"
     ],
     "language": "python",
     "metadata": {},
     "outputs": [
      {
       "metadata": {
        "png": {
         "width": 300
        }
       },
       "output_type": "display_data",
       "png": "[encoded data removed]"
      }
     ],
     "prompt_number": 19
    },
    {
     "cell_type": "markdown",
     "metadata": {},
     "source": [
      "In this circuit the current flows in the opposite direction to the labelled current I.  Thus we will get a negative value for the current.  If you do not like negative currents, just relabel the current direction."
     ]
    },
    {
     "cell_type": "markdown",
     "metadata": {},
     "source": [
      "The unknown voltage Vx can be found as before, either by using the principle of the voltage divider or by calculating the current through R1 and R2 and then determining the voltage across R1.  "
     ]
    },
    {
     "cell_type": "code",
     "collapsed": false,
     "input": [
      "cct3['x'].V"
     ],
     "language": "python",
     "metadata": {},
     "outputs": [
      {
       "latex": [
        "$3$"
       ],
       "metadata": {},
       "output_type": "pyout",
       "prompt_number": 17,
       "text": [
        "3"
       ]
      }
     ],
     "prompt_number": 17
    },
    {
     "cell_type": "markdown",
     "metadata": {},
     "source": [
      "We now know Vx due to V1 and Vx due to V2.  Due to linearity, the total voltage Vx is simply the sum of the two contributions:"
     ]
    },
    {
     "cell_type": "code",
     "collapsed": false,
     "input": [
      "cct2['x'].V + cct3['x'].V"
     ],
     "language": "python",
     "metadata": {},
     "outputs": [
      {
       "latex": [
        "$5$"
       ],
       "metadata": {},
       "output_type": "pyout",
       "prompt_number": 18,
       "text": [
        "5"
       ]
      }
     ],
     "prompt_number": 18
    },
    {
     "cell_type": "markdown",
     "metadata": {},
     "source": [
      "This is the same as the result determined earlier."
     ]
    },
    {
     "cell_type": "code",
     "collapsed": false,
     "input": [],
     "language": "python",
     "metadata": {},
     "outputs": []
    }
   ],
   "metadata": {}
  }
 ]
}
