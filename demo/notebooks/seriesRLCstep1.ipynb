{
 "metadata": {
  "name": ""
 },
 "nbformat": 3,
 "nbformat_minor": 0,
 "worksheets": [
  {
   "cells": [
    {
     "cell_type": "markdown",
     "metadata": {},
     "source": [
      "Step response of series R L C circuit\n",
      "====================================="
     ]
    },
    {
     "cell_type": "code",
     "collapsed": false,
     "input": [
      "from lcapy import Circuit\n",
      "cct = Circuit()\n",
      "cct.add('V1 1 0 u(t); down')\n",
      "cct.add('R1 1 2 4; right')\n",
      "cct.add('L1 2 3 0.5; right')\n",
      "cct.add('C1 3 4 0.01; down')\n",
      "cct.add('W1 0 4; right')"
     ],
     "language": "python",
     "metadata": {
      "slideshow": {
       "slide_type": "-"
      }
     },
     "outputs": [],
     "prompt_number": 1
    },
    {
     "cell_type": "code",
     "collapsed": false,
     "input": [
      "cct.draw(svg=True)"
     ],
     "language": "python",
     "metadata": {},
     "outputs": [
      {
       "output_type": "stream",
       "stream": "stdout",
       "text": [
        "> /usr/local/lib/python2.7/dist-packages/lcapy/schematic.py(1244)draw()\n",
        "-> if png:\n"
       ]
      },
      {
       "name": "stdout",
       "output_type": "stream",
       "stream": "stdout",
       "text": [
        "(Pdb) n\n"
       ]
      },
      {
       "output_type": "stream",
       "stream": "stdout",
       "text": [
        "> /usr/local/lib/python2.7/dist-packages/lcapy/schematic.py(1254)draw()\n",
        "-> if svg:\n"
       ]
      },
      {
       "name": "stdout",
       "output_type": "stream",
       "stream": "stdout",
       "text": [
        "(Pdb) \n"
       ]
      },
      {
       "output_type": "stream",
       "stream": "stdout",
       "text": [
        "> /usr/local/lib/python2.7/dist-packages/lcapy/schematic.py(1255)draw()\n",
        "-> from IPython.display import SVG\n"
       ]
      },
      {
       "name": "stdout",
       "output_type": "stream",
       "stream": "stdout",
       "text": [
        "(Pdb) \n"
       ]
      },
      {
       "output_type": "stream",
       "stream": "stdout",
       "text": [
        "> /usr/local/lib/python2.7/dist-packages/lcapy/schematic.py(1257)draw()\n",
        "-> svgfilename = self._tmpfilename('.svg')\n"
       ]
      },
      {
       "name": "stdout",
       "output_type": "stream",
       "stream": "stdout",
       "text": [
        "(Pdb) \n"
       ]
      },
      {
       "output_type": "stream",
       "stream": "stdout",
       "text": [
        "> /usr/local/lib/python2.7/dist-packages/lcapy/schematic.py(1258)draw()\n",
        "-> self.tikz_draw(svgfilename, args=args, **kwargs)\n"
       ]
      },
      {
       "name": "stdout",
       "output_type": "stream",
       "stream": "stdout",
       "text": [
        "(Pdb) \n"
       ]
      },
      {
       "output_type": "stream",
       "stream": "stdout",
       "text": [
        "> /usr/local/lib/python2.7/dist-packages/lcapy/schematic.py(1263)draw()\n",
        "-> result = SVG(svgfilename)\n"
       ]
      },
      {
       "name": "stdout",
       "output_type": "stream",
       "stream": "stdout",
       "text": [
        "(Pdb) p svgfilename\n"
       ]
      },
      {
       "output_type": "stream",
       "stream": "stdout",
       "text": [
        "'/tmp/tmpR6HO2R.svg'\n"
       ]
      },
      {
       "name": "stdout",
       "output_type": "stream",
       "stream": "stdout",
       "text": [
        "(Pdb) n\n"
       ]
      },
      {
       "output_type": "stream",
       "stream": "stdout",
       "text": [
        "> /usr/local/lib/python2.7/dist-packages/lcapy/schematic.py(1264)draw()\n",
        "-> return result\n"
       ]
      },
      {
       "name": "stdout",
       "output_type": "stream",
       "stream": "stdout",
       "text": [
        "(Pdb) p result\n"
       ]
      },
      {
       "output_type": "stream",
       "stream": "stdout",
       "text": [
        "<IPython.core.display.SVG object at 0x7f76dd59d510>\n"
       ]
      },
      {
       "name": "stdout",
       "output_type": "stream",
       "stream": "stdout",
       "text": [
        "(Pdb) n\n"
       ]
      },
      {
       "output_type": "stream",
       "stream": "stdout",
       "text": [
        "--Return--\n",
        "> /usr/local/lib/python2.7/dist-packages/lcapy/schematic.py(1264)draw()-><IPython...dd59d510>\n",
        "-> return result\n"
       ]
      },
      {
       "name": "stdout",
       "output_type": "stream",
       "stream": "stdout",
       "text": [
        "(Pdb) \n"
       ]
      },
      {
       "output_type": "stream",
       "stream": "stdout",
       "text": [
        "--Return--\n",
        "> /usr/local/lib/python2.7/dist-packages/lcapy/netlist.py(884)draw()->None\n",
        "-> **kwargs2)\n"
       ]
      },
      {
       "name": "stdout",
       "output_type": "stream",
       "stream": "stdout",
       "text": [
        "(Pdb) \n"
       ]
      },
      {
       "output_type": "stream",
       "stream": "stdout",
       "text": [
        "--Call--\n",
        "> /usr/lib/python2.7/dist-packages/IPython/core/displayhook.py(237)__call__()\n",
        "-> def __call__(self, result=None):\n"
       ]
      },
      {
       "name": "stdout",
       "output_type": "stream",
       "stream": "stdout",
       "text": [
        "(Pdb) c\n"
       ]
      }
     ],
     "prompt_number": 2
    },
    {
     "cell_type": "code",
     "collapsed": false,
     "input": [
      "ip=get_ipython()\n",
      "ip.config"
     ],
     "language": "python",
     "metadata": {},
     "outputs": [
      {
       "metadata": {},
       "output_type": "pyout",
       "prompt_number": 3,
       "text": [
        "{'IPKernelApp': {'connection_file': u'/home/mph/.ipython/profile_default/security/kernel-20a183d6-a323-4e31-a640-ee15fc6cfe51.json',\n",
        "  'parent_appname': 'ipython-notebook',\n",
        "  'parent_handle': 1},\n",
        " 'ProfileDir': {'location': u'/home/mph/.ipython/profile_default'},\n",
        " 'Session': {'key': u'a1eb04d9-e1d8-4d20-8129-aaafe12302ba'},\n",
        " 'TerminalIPythonApp': {'ignore_old_config': True},\n",
        " 'TerminalInteractiveShell': {'pdb': True}}"
       ]
      }
     ],
     "prompt_number": 3
    },
    {
     "cell_type": "code",
     "collapsed": false,
     "input": [
      "%matplotlib inline\n",
      "cct.v[2].plot()\n"
     ],
     "language": "python",
     "metadata": {},
     "outputs": [
      {
       "metadata": {},
       "output_type": "display_data",
       "png": "[encoded data removed]",
       "text": [
        "<matplotlib.figure.Figure at 0x7f76f47a1650>"
       ]
      }
     ],
     "prompt_number": 4
    },
    {
     "cell_type": "code",
     "collapsed": false,
     "input": [
      "cct.v[3].plot()"
     ],
     "language": "python",
     "metadata": {},
     "outputs": [
      {
       "metadata": {},
       "output_type": "display_data",
       "png": "[encoded data removed]",
       "text": [
        "<matplotlib.figure.Figure at 0x7f76da63a950>"
       ]
      }
     ],
     "prompt_number": 5
    },
    {
     "cell_type": "code",
     "collapsed": false,
     "input": [
      "cct.i['R1'].plot()\n"
     ],
     "language": "python",
     "metadata": {},
     "outputs": [
      {
       "metadata": {},
       "output_type": "display_data",
       "png": "[encoded data removed]",
       "text": [
        "<matplotlib.figure.Figure at 0x7f76da09e390>"
       ]
      }
     ],
     "prompt_number": 6
    },
    {
     "cell_type": "markdown",
     "metadata": {},
     "source": [
      "s-domain model\n",
      "--------------"
     ]
    },
    {
     "cell_type": "code",
     "collapsed": false,
     "input": [
      "cct.s_model().draw()"
     ],
     "language": "python",
     "metadata": {},
     "outputs": [
      {
       "output_type": "stream",
       "stream": "stdout",
       "text": [
        "> /usr/local/lib/python2.7/dist-packages/lcapy/schematic.py(1244)draw()\n",
        "-> if png:\n"
       ]
      },
      {
       "name": "stdout",
       "output_type": "stream",
       "stream": "stdout",
       "text": [
        "(Pdb) c\n"
       ]
      }
     ],
     "prompt_number": 7
    },
    {
     "cell_type": "markdown",
     "metadata": {},
     "source": [
      "Poles and zeros\n",
      "---------------"
     ]
    },
    {
     "cell_type": "code",
     "collapsed": false,
     "input": [
      "cct.V[2].ZPK()"
     ],
     "language": "python",
     "metadata": {},
     "outputs": [
      {
       "latex": [
        "$\\frac{\\left(s - 10 \\sqrt{2} i\\right) \\left(s + 10 \\sqrt{2} i\\right)}{s \\left(s + 4 - 2 \\sqrt{46} i\\right) \\left(s + 4 + 2 \\sqrt{46} i\\right)}$"
       ],
       "metadata": {},
       "output_type": "pyout",
       "prompt_number": 8,
       "text": [
        "     \u239b         ___  \u239e \u239b         ___  \u239e     \n",
        "     \u239ds - 10\u22c5\u2572\u2571 2 \u22c5\u2148\u23a0\u22c5\u239ds + 10\u22c5\u2572\u2571 2 \u22c5\u2148\u23a0     \n",
        "\u2500\u2500\u2500\u2500\u2500\u2500\u2500\u2500\u2500\u2500\u2500\u2500\u2500\u2500\u2500\u2500\u2500\u2500\u2500\u2500\u2500\u2500\u2500\u2500\u2500\u2500\u2500\u2500\u2500\u2500\u2500\u2500\u2500\u2500\u2500\u2500\u2500\u2500\u2500\u2500\u2500\u2500\u2500\n",
        "  \u239b            ____  \u239e \u239b            ____  \u239e\n",
        "s\u22c5\u239ds + 4 - 2\u22c5\u2572\u2571 46 \u22c5\u2148\u23a0\u22c5\u239ds + 4 + 2\u22c5\u2572\u2571 46 \u22c5\u2148\u23a0"
       ]
      }
     ],
     "prompt_number": 8
    },
    {
     "cell_type": "code",
     "collapsed": false,
     "input": [
      "cct.V[2].poles()"
     ],
     "language": "python",
     "metadata": {},
     "outputs": [
      {
       "latex": [
        "$$\\begin{Bmatrix}0 : 1, & -4 - 2 \\sqrt{46} i : 1, & -4 + 2 \\sqrt{46} i : 1\\end{Bmatrix}$$"
       ],
       "metadata": {},
       "output_type": "pyout",
       "prompt_number": 9,
       "text": [
        "\u23a7               ____                ____     \u23ab\n",
        "\u23a80: 1, -4 - 2\u22c5\u2572\u2571 46 \u22c5\u2148: 1, -4 + 2\u22c5\u2572\u2571 46 \u22c5\u2148: 1\u23ac\n",
        "\u23a9                                            \u23ad"
       ]
      }
     ],
     "prompt_number": 9
    },
    {
     "cell_type": "code",
     "collapsed": false,
     "input": [
      "cct.V[2].zeros()"
     ],
     "language": "python",
     "metadata": {},
     "outputs": [
      {
       "latex": [
        "$$\\begin{Bmatrix}- 10 \\sqrt{2} i : 1, & 10 \\sqrt{2} i : 1\\end{Bmatrix}$$"
       ],
       "metadata": {},
       "output_type": "pyout",
       "prompt_number": 10,
       "text": [
        "\u23a7      ___            ___     \u23ab\n",
        "\u23a8-10\u22c5\u2572\u2571 2 \u22c5\u2148: 1, 10\u22c5\u2572\u2571 2 \u22c5\u2148: 1\u23ac\n",
        "\u23a9                             \u23ad"
       ]
      }
     ],
     "prompt_number": 10
    },
    {
     "cell_type": "code",
     "collapsed": false,
     "input": [
      " cct.V[2].plot()\n",
      " cct.V[2].latex()"
     ],
     "language": "python",
     "metadata": {},
     "outputs": [
      {
       "metadata": {},
       "output_type": "pyout",
       "prompt_number": 11,
       "text": [
        "'\\\\frac{s^{2} + 200}{s \\\\left(s^{2} + 8 s + 200\\\\right)}'"
       ]
      },
      {
       "metadata": {},
       "output_type": "display_data",
       "png": "[encoded data removed]",
       "text": [
        "<matplotlib.figure.Figure at 0x7f76da218890>"
       ]
      }
     ],
     "prompt_number": 11
    }
   ],
   "metadata": {}
  }
 ]
}