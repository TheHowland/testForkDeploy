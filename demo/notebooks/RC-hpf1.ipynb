{
 "metadata": {
  "name": "",
  "signature": "sha256:78870c992e7981fccfd3409b05b4f66b186eeda4a99bf1c925ac6095a020bb33"
 },
 "nbformat": 3,
 "nbformat_minor": 0,
 "worksheets": [
  {
   "cells": [
    {
     "cell_type": "code",
     "collapsed": false,
     "input": [
      "from lcapy import Circuit, j, omega\n",
      "cct = Circuit()\n",
      "cct.add(\"\"\"\n",
      "Vi 1 0_1; down\n",
      "C 1 2; right, size=1.5\n",
      "R 2 0; down\n",
      "W 0_1 0; right\n",
      "W 0 0_2; right, size=0.5\n",
      "P1 2_2 0_2; down\n",
      "W 2 2_2;right, size=0.5\"\"\")\n"
     ],
     "language": "python",
     "metadata": {},
     "outputs": [],
     "prompt_number": 1
    },
    {
     "cell_type": "code",
     "collapsed": false,
     "input": [
      "cct.draw()"
     ],
     "language": "python",
     "metadata": {},
     "outputs": [
      {
       "metadata": {
        "png": {
         "height": 100,
         "width": 200
        }
       },
       "output_type": "display_data",
       "png": "[encoded data removed]"
      }
     ],
     "prompt_number": 2
    },
    {
     "cell_type": "code",
     "collapsed": false,
     "input": [
      "H = (cct.R.V / cct.Vi.V).simplify()"
     ],
     "language": "python",
     "metadata": {},
     "outputs": [],
     "prompt_number": 3
    },
    {
     "cell_type": "code",
     "collapsed": false,
     "input": [
      "H(j * omega)"
     ],
     "language": "python",
     "metadata": {},
     "outputs": [
      {
       "latex": [
        "$\\frac{i C_{} R_{} \\omega}{i C_{} R_{} \\omega + 1}$"
       ],
       "metadata": {},
       "output_type": "pyout",
       "prompt_number": 4,
       "text": [
        "  \u2148\u22c5C\u22c5R\u22c5\u03c9  \n",
        "\u2500\u2500\u2500\u2500\u2500\u2500\u2500\u2500\u2500\u2500\u2500\n",
        "\u2148\u22c5C\u22c5R\u22c5\u03c9 + 1"
       ]
      }
     ],
     "prompt_number": 4
    },
    {
     "cell_type": "code",
     "collapsed": false,
     "input": [
      "H(j * omega).rationalize_denominator()"
     ],
     "language": "python",
     "metadata": {},
     "outputs": [
      {
       "latex": [
        "$\\frac{C_{}^2 R_{}^2 \\omega^2 + i C_{} R_{} \\omega}{C_{}^2 R_{}^2 \\omega^2 + 1}$"
       ],
       "metadata": {},
       "output_type": "pyout",
       "prompt_number": 5,
       "text": [
        " 2  2  2          \n",
        "C \u22c5R \u22c5\u03c9  + \u2148\u22c5C\u22c5R\u22c5\u03c9\n",
        "\u2500\u2500\u2500\u2500\u2500\u2500\u2500\u2500\u2500\u2500\u2500\u2500\u2500\u2500\u2500\u2500\u2500\u2500\n",
        "    2  2  2       \n",
        "   C \u22c5R \u22c5\u03c9  + 1   "
       ]
      }
     ],
     "prompt_number": 5
    },
    {
     "cell_type": "code",
     "collapsed": false,
     "input": [
      "H(j * omega).real_imag"
     ],
     "language": "python",
     "metadata": {},
     "outputs": [
      {
       "latex": [
        "$\\frac{C_{}^2 R_{}^2 \\omega^2}{C_{}^2 R_{}^2 \\omega^2 + 1} + \\frac{i C_{} R_{} \\omega}{C_{}^2 R_{}^2 \\omega^2 + 1}$"
       ],
       "metadata": {},
       "output_type": "pyout",
       "prompt_number": 6,
       "text": [
        "   2  2  2                 \n",
        "  C \u22c5R \u22c5\u03c9        \u2148\u22c5C\u22c5R\u22c5\u03c9   \n",
        "\u2500\u2500\u2500\u2500\u2500\u2500\u2500\u2500\u2500\u2500\u2500\u2500 + \u2500\u2500\u2500\u2500\u2500\u2500\u2500\u2500\u2500\u2500\u2500\u2500\n",
        " 2  2  2        2  2  2    \n",
        "C \u22c5R \u22c5\u03c9  + 1   C \u22c5R \u22c5\u03c9  + 1"
       ]
      }
     ],
     "prompt_number": 6
    },
    {
     "cell_type": "code",
     "collapsed": false,
     "input": [
      "H(j * omega).magnitude\n"
     ],
     "language": "python",
     "metadata": {},
     "outputs": [
      {
       "latex": [
        "$\\frac{\\sqrt{C_{}^4 R_{}^4 \\omega^4 + C_{}^2 R_{}^2 \\omega^2}}{C_{}^2 R_{}^2 \\omega^2 + 1}$"
       ],
       "metadata": {},
       "output_type": "pyout",
       "prompt_number": 7,
       "text": [
        "   _____________________\n",
        "  \u2571  4  4  4    2  2  2 \n",
        "\u2572\u2571  C \u22c5R \u22c5\u03c9  + C \u22c5R \u22c5\u03c9  \n",
        "\u2500\u2500\u2500\u2500\u2500\u2500\u2500\u2500\u2500\u2500\u2500\u2500\u2500\u2500\u2500\u2500\u2500\u2500\u2500\u2500\u2500\u2500\u2500\u2500\n",
        "       2  2  2          \n",
        "      C \u22c5R \u22c5\u03c9  + 1      "
       ]
      }
     ],
     "prompt_number": 7
    },
    {
     "cell_type": "code",
     "collapsed": false,
     "input": [
      "H(j * omega).phase_degrees"
     ],
     "language": "python",
     "metadata": {},
     "outputs": [
      {
       "latex": [
        "$\\frac{180.0}{\\pi} \\operatorname{atan2}{\\left (1,C_{} R_{} \\omega \\right )}$"
       ],
       "metadata": {},
       "output_type": "pyout",
       "prompt_number": 8,
       "text": [
        "180.0\u22c5atan2(1, C\u22c5R\u22c5\u03c9)\n",
        "\u2500\u2500\u2500\u2500\u2500\u2500\u2500\u2500\u2500\u2500\u2500\u2500\u2500\u2500\u2500\u2500\u2500\u2500\u2500\u2500\u2500\n",
        "          \u03c0          "
       ]
      }
     ],
     "prompt_number": 8
    },
    {
     "cell_type": "code",
     "collapsed": false,
     "input": [
      "H1 = H.subs('C', 1e-6).subs('R', 1e3)\n",
      "H1(j * omega)"
     ],
     "language": "python",
     "metadata": {},
     "outputs": [
      {
       "latex": [
        "$\\frac{0.001 i \\omega}{0.001 i \\omega + 1}$"
       ],
       "metadata": {},
       "output_type": "pyout",
       "prompt_number": 9,
       "text": [
        "  0.001\u22c5\u2148\u22c5\u03c9  \n",
        "\u2500\u2500\u2500\u2500\u2500\u2500\u2500\u2500\u2500\u2500\u2500\u2500\u2500\n",
        "0.001\u22c5\u2148\u22c5\u03c9 + 1"
       ]
      }
     ],
     "prompt_number": 9
    },
    {
     "cell_type": "code",
     "collapsed": false,
     "input": [
      "from numpy import logspace\n",
      "w = logspace(1, 6, 500)\n",
      "%matplotlib inline\n",
      "H1(j * omega).dB.plot(w, log_scale=True)"
     ],
     "language": "python",
     "metadata": {},
     "outputs": [
      {
       "metadata": {},
       "output_type": "display_data",
       "png": "[encoded data removed]",
       "text": [
        "<matplotlib.figure.Figure at 0x7fd25f9d3690>"
       ]
      }
     ],
     "prompt_number": 10
    },
    {
     "cell_type": "code",
     "collapsed": false,
     "input": [
      "H1(j * omega).phase_degrees.plot(w, log_scale=True)"
     ],
     "language": "python",
     "metadata": {},
     "outputs": [
      {
       "metadata": {},
       "output_type": "display_data",
       "png": "[encoded data removed]",
       "text": [
        "<matplotlib.figure.Figure at 0x7fd25cd611d0>"
       ]
      }
     ],
     "prompt_number": 11
    },
    {
     "cell_type": "code",
     "collapsed": false,
     "input": [],
     "language": "python",
     "metadata": {},
     "outputs": [],
     "prompt_number": 13
    }
   ],
   "metadata": {}
  }
 ]
}