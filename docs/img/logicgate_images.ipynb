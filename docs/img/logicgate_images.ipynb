{
 "cells": [
  {
   "cell_type": "markdown",
   "metadata": {},
   "source": [
    "### Examples of using logic gates\n"
   ]
  },
  {
   "cell_type": "code",
   "execution_count": 1,
   "metadata": {},
   "outputs": [],
   "source": [
    "%matplotlib inline\n",
    "\n",
    "import SchemDraw as schem\n",
    "import SchemDraw.elements as e\n",
    "import SchemDraw.logic as l"
   ]
  },
  {
   "cell_type": "code",
   "execution_count": 2,
   "metadata": {},
   "outputs": [
    {
     "data": {
      "image/png": "[encoded data removed]",
      "text/plain": [
       "<Figure size 127.98x105.804 with 1 Axes>"
      ]
     },
     "metadata": {
      "needs_background": "light"
     },
     "output_type": "display_data"
    }
   ],
   "source": [
    "# Half adder\n",
    "d = schem.Drawing(unit=.5)\n",
    "S = d.add(l.XOR2, rgtlabel='$S$')\n",
    "A = d.add(e.DOT, xy=S.in1)\n",
    "d.add(e.LINE, d='left', l=d.unit*2, lftlabel='$A$')\n",
    "d.add(e.LINE, d='left', xy=S.in2)\n",
    "B = d.add(e.DOT)\n",
    "d.add(e.LINE, d='left', lftlabel='$B$')\n",
    "\n",
    "d.add(e.LINE, d='down', xy=A.start, l=d.unit*3)\n",
    "C = d.add(l.AND2, d='right', anchor='in1', rgtlabel='$C$')\n",
    "d.add(e.LINE, d='down', xy=B.start, toy=C.in2)\n",
    "d.add(e.LINE, to=C.in2)\n",
    "d.draw()\n",
    "d.save('half_add.svg')\n"
   ]
  },
  {
   "cell_type": "code",
   "execution_count": 3,
   "metadata": {},
   "outputs": [
    {
     "data": {
      "image/png": "[encoded data removed]",
      "text/plain": [
       "<Figure size 296.28x175.104 with 1 Axes>"
      ]
     },
     "metadata": {
      "needs_background": "light"
     },
     "output_type": "display_data"
    }
   ],
   "source": [
    "# Full adder\n",
    "d = schem.Drawing(unit=.5)\n",
    "X1 = d.add(l.XOR2)\n",
    "d.add(e.DOT)\n",
    "A = d.add(e.DOT, xy=X1.in1)\n",
    "Ain = d.add(e.LINE, d='left', l=d.unit*2, lftlabel='$A$')\n",
    "d.add(e.LINE, d='left', xy=X1.in2)\n",
    "B = d.add(e.DOT)\n",
    "d.add(e.LINE, d='left', lftlabel='$B$')\n",
    "\n",
    "d.add(e.LINE, xy=X1.out, d='right', l=d.unit)\n",
    "X2 = d.add(l.XOR2, anchor='in1')\n",
    "C = d.add(e.LINE, d='down', xy=X2.in2, l=d.unit*2)\n",
    "d.push()\n",
    "d.add(e.DOT, xy=C.center)\n",
    "d.add(e.LINE, d='left', tox=Ain.end, lftlabel='$C_{in}$')\n",
    "d.pop()\n",
    "\n",
    "A1 = d.add(l.AND2, d='right', anchor='in1')\n",
    "d.add(e.LINE, d='left', xy=A1.in2, tox=X1.out)\n",
    "d.add(e.LINE, d='up', toy=X1.out)\n",
    "\n",
    "A2 = d.add(l.AND2, d='right', anchor='in1', xy=[A1.in1[0],A1.in2[1]-d.unit*2])\n",
    "d.add(e.LINE, xy=A2.in1, d='left', tox=A.start)\n",
    "d.add(e.LINE, d='up', toy=A.start)\n",
    "d.add(e.LINE, xy=A2.in2, d='left', tox=B.start)\n",
    "d.add(e.LINE, d='up', toy=B.start)\n",
    "\n",
    "O1 = d.add(l.OR2, d='right', xy=[A1.out[0],(A1.out[1]+A2.out[1])/2], rgtlabel='$C_{out}$')\n",
    "d.add(e.LINE, xy=A1.out,d='down', toy=O1.in1)\n",
    "d.add(e.LINE, xy=A2.out,d='up', toy=O1.in2)\n",
    "\n",
    "d.add(e.LINE, xy=X2.out, d='right', tox=O1.out, rgtlabel='$S$')\n",
    "\n",
    "d.draw()\n",
    "d.save('full_add.svg')\n"
   ]
  },
  {
   "cell_type": "code",
   "execution_count": 4,
   "metadata": {},
   "outputs": [
    {
     "data": {
      "image/png": "[encoded data removed]",
      "text/plain": [
       "<Figure size 171.54x145.008 with 1 Axes>"
      ]
     },
     "metadata": {
      "needs_background": "light"
     },
     "output_type": "display_data"
    }
   ],
   "source": [
    "# SR Latch\n",
    "d = schem.Drawing()\n",
    "d.add(e.LINE, l=d.unit/4, lftlabel='$R$')\n",
    "G1 = d.add(l.NOR2, anchor='in1')\n",
    "d.add(e.LINE, l=d.unit/4)\n",
    "Q = d.add(e.DOT)\n",
    "d.add(e.LINE, l=d.unit/4, rgtlabel='$Q$')\n",
    "\n",
    "G2 = d.add(l.NOR2, anchor='in1', xy=[G1.in1[0],G1.in1[1]-2.5])\n",
    "d.add(e.LINE, l=d.unit/4)\n",
    "Qb = d.add(e.DOT)\n",
    "d.add(e.LINE, l=d.unit/4, rgtlabel='$\\overline{Q}$')\n",
    "\n",
    "S1 = d.add(e.LINE, xy=G2.in1, d='up', l=d.unit/6)\n",
    "d.add(e.LINE, d='down', xy=Q.start, l=d.unit/6)\n",
    "d.add(e.LINE, to=S1.end)\n",
    "\n",
    "R1 = d.add(e.LINE, xy=G1.in2, d='down', l=d.unit/6)\n",
    "d.add(e.LINE, d='up', xy=Qb.start, l=d.unit/6)\n",
    "d.add(e.LINE, to=R1.end)\n",
    "\n",
    "d.add(e.LINE, d='left', xy=G2.in2, l=d.unit/4, lftlabel='$S$')\n",
    "\n",
    "d.draw()\n",
    "d.save('SR_latch_gate.svg')"
   ]
  },
  {
   "cell_type": "code",
   "execution_count": 5,
   "metadata": {},
   "outputs": [
    {
     "data": {
      "image/png": "[encoded data removed]",
      "text/plain": [
       "<Figure size 282.42x191.736 with 1 Axes>"
      ]
     },
     "metadata": {
      "needs_background": "light"
     },
     "output_type": "display_data"
    }
   ],
   "source": [
    "# JK Flip Flop\n",
    "d = schem.Drawing()\n",
    "\n",
    "# Two front gates (SR latch)\n",
    "G1 = d.add(l.NAND2, anchor='in1')\n",
    "d.add(e.LINE, l=d.unit/6)\n",
    "Q1 = d.add(e.DOT)\n",
    "d.add(e.LINE, l=d.unit/6)\n",
    "Q2 = d.add(e.DOT)\n",
    "d.add(e.LINE, l=d.unit/3, rgtlabel='$Q$')\n",
    "G2 = d.add(l.NAND2, anchor='in1', xy=[G1.in1[0],G1.in1[1]-2.5])\n",
    "d.add(e.LINE, l=d.unit/6)\n",
    "Qb = d.add(e.DOT)\n",
    "d.add(e.LINE, l=d.unit/3)\n",
    "Qb2 = d.add(e.DOT)\n",
    "d.add(e.LINE, l=d.unit/6, rgtlabel='$\\overline{Q}$')\n",
    "\n",
    "S1 = d.add(e.LINE, xy=G2.in1, d='up', l=d.unit/6)\n",
    "d.add(e.LINE, d='down', xy=Q1.start, l=d.unit/6)\n",
    "d.add(e.LINE, to=S1.end)\n",
    "R1 = d.add(e.LINE, xy=G1.in2, d='down', l=d.unit/6)\n",
    "d.add(e.LINE, d='up', xy=Qb.start, l=d.unit/6)\n",
    "d.add(e.LINE, to=R1.end)\n",
    "\n",
    "# Two back gates\n",
    "d.add(e.LINE, xy=G1.in1, d='left', l=d.unit/6)\n",
    "J = d.add(l.NAND3, anchor='out', reverse=True)\n",
    "d.add(e.LINE, xy=J.in3, d='up', l=d.unit/6)\n",
    "d.add(e.LINE, d='right', tox=Qb2.start)\n",
    "d.add(e.LINE, d='down', toy=Qb2.start)\n",
    "d.add(e.LINE, d='left', xy=J.in2, l=d.unit/4, lftlabel='$J$')\n",
    "\n",
    "d.add(e.LINE, xy=G2.in2, d='left', l=d.unit/6)\n",
    "K = d.add(l.NAND3, anchor='out', reverse=True)\n",
    "d.add(e.LINE, xy=K.in1, d='down', l=d.unit/6)\n",
    "d.add(e.LINE, d='right', tox=Q2.start)\n",
    "d.add(e.LINE, d='up', toy=Q2.start)\n",
    "d.add(e.LINE, d='left', xy=K.in2, l=d.unit/4, lftlabel='$K$')\n",
    "\n",
    "C = d.add(e.LINE, d='down', xy=J.in1, toy=K.in3)\n",
    "d.add(e.DOT, xy=C.center)\n",
    "d.add(e.LINE, d='left', xy=C.center, l=d.unit/4, lftlabel='$CLK$')\n",
    "\n",
    "d.draw()\n",
    "d.save('JK.svg')"
   ]
  },
  {
   "cell_type": "code",
   "execution_count": null,
   "metadata": {},
   "outputs": [],
   "source": []
  }
 ],
 "metadata": {
  "anaconda-cloud": {},
  "kernelspec": {
   "display_name": "Python 3",
   "language": "python",
   "name": "python3"
  },
  "language_info": {
   "codemirror_mode": {
    "name": "ipython",
    "version": 3
   },
   "file_extension": ".py",
   "mimetype": "text/x-python",
   "name": "python",
   "nbconvert_exporter": "python",
   "pygments_lexer": "ipython3",
   "version": "3.7.3"
  }
 },
 "nbformat": 4,
 "nbformat_minor": 4
}
