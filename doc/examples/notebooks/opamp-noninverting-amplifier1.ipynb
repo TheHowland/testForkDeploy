{
 "metadata": {
  "name": "",
  "signature": "sha256:4727a064ee938058b3f882f10554046520aad7b24a5feac5a7c8988f287a8b5a"
 },
 "nbformat": 3,
 "nbformat_minor": 0,
 "worksheets": [
  {
   "cells": [
    {
     "cell_type": "code",
     "collapsed": false,
     "input": [
      "from lcapy import Circuit\n",
      "cct = Circuit()\n",
      "cct.add(\"\"\"\n",
      "Vi 1 0_1 0.1; down\n",
      "W 2_1 2; down\n",
      "R1 2 0 100; down\n",
      "R2 2 3_1 900; right\n",
      "W 3 3_1; down\n",
      "E1 3 0_3 opamp 1_1 2_1 A;\n",
      "W 0_1 0; right\n",
      "W 3 3_2; right\n",
      "W 0 0_3; right\n",
      "RL 3_2 0_3 1e3; down\n",
      "W 1 1_1; right\"\"\")\n",
      "cct.draw()\n"
     ],
     "language": "python",
     "metadata": {},
     "outputs": [
      {
       "metadata": {
        "png": {
         "height": 300,
         "width": 440.00000000000006
        }
       },
       "output_type": "display_data",
       "png": "[encoded data removed]"
      }
     ],
     "prompt_number": 1
    },
    {
     "cell_type": "code",
     "collapsed": false,
     "input": [
      "cct[3].v"
     ],
     "language": "python",
     "metadata": {},
     "outputs": [
      {
       "latex": [
        "$\\frac{A}{A + 10}$"
       ],
       "metadata": {},
       "output_type": "pyout",
       "prompt_number": 6,
       "text": [
        "  A   \n",
        "\u2500\u2500\u2500\u2500\u2500\u2500\n",
        "A + 10"
       ]
      }
     ],
     "prompt_number": 6
    },
    {
     "cell_type": "code",
     "collapsed": false,
     "input": [
      "cct[2].v"
     ],
     "language": "python",
     "metadata": {},
     "outputs": [
      {
       "latex": [
        "$\\frac{A}{10 A + 100}$"
       ],
       "metadata": {},
       "output_type": "pyout",
       "prompt_number": 7,
       "text": [
        "     A     \n",
        "\u2500\u2500\u2500\u2500\u2500\u2500\u2500\u2500\u2500\u2500\u2500\n",
        "10\u22c5(A + 10)"
       ]
      }
     ],
     "prompt_number": 7
    },
    {
     "cell_type": "code",
     "collapsed": false,
     "input": [
      "(cct[1].v - cct[2].v).simplify()"
     ],
     "language": "python",
     "metadata": {},
     "outputs": [
      {
       "latex": [
        "$\\frac{1}{A + 10}$"
       ],
       "metadata": {},
       "output_type": "pyout",
       "prompt_number": 8,
       "text": [
        "  1   \n",
        "\u2500\u2500\u2500\u2500\u2500\u2500\n",
        "A + 10"
       ]
      }
     ],
     "prompt_number": 8
    },
    {
     "cell_type": "code",
     "collapsed": false,
     "input": [
      "cct.RL.i"
     ],
     "language": "python",
     "metadata": {},
     "outputs": [
      {
       "latex": [
        "$\\frac{A}{1000 A + 10000}$"
       ],
       "metadata": {},
       "output_type": "pyout",
       "prompt_number": 9,
       "text": [
        "      A      \n",
        "\u2500\u2500\u2500\u2500\u2500\u2500\u2500\u2500\u2500\u2500\u2500\u2500\u2500\n",
        "1000\u22c5(A + 10)"
       ]
      }
     ],
     "prompt_number": 9
    },
    {
     "cell_type": "code",
     "collapsed": false,
     "input": [
      "from lcapy import oo\n",
      "cct[3].v.limit('A', oo)"
     ],
     "language": "python",
     "metadata": {},
     "outputs": [
      {
       "latex": [
        "$1$"
       ],
       "metadata": {},
       "output_type": "pyout",
       "prompt_number": 12,
       "text": [
        "1"
       ]
      }
     ],
     "prompt_number": 12
    },
    {
     "cell_type": "code",
     "collapsed": false,
     "input": [],
     "language": "python",
     "metadata": {},
     "outputs": []
    }
   ],
   "metadata": {}
  }
 ]
}