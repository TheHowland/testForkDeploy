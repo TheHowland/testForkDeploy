{
 "cells": [
  {
   "cell_type": "code",
   "execution_count": 1,
   "metadata": {},
   "outputs": [],
   "source": [
    "from lcapy import Circuit, j, omega, s\n",
    "cct = Circuit(\"\"\"\n",
    "Vi 1 0_1 step; down\n",
    "C 1 2; right, size=1.5\n",
    "R 2 0; down\n",
    "W 0_1 0; right\n",
    "W 0 0_2; right, size=0.5\n",
    "P1 2_2 0_2; down\n",
    "W 2 2_2;right, size=0.5\"\"\")\n"
   ]
  },
  {
   "cell_type": "code",
   "execution_count": 2,
   "metadata": {},
   "outputs": [
    {
     "data": {
      "image/png": "[encoded data removed]"
     },
     "metadata": {
      "image/png": {
       "height": 100,
       "width": 200
      }
     },
     "output_type": "display_data"
    }
   ],
   "source": [
    "cct.draw()"
   ]
  },
  {
   "cell_type": "code",
   "execution_count": 3,
   "metadata": {},
   "outputs": [
    {
     "data": {
      "text/latex": [
       "$$\\frac{C R s}{C R s + 1}$$"
      ],
      "text/plain": [
       "  C⋅R⋅s  \n",
       "─────────\n",
       "C⋅R⋅s + 1"
      ]
     },
     "execution_count": 3,
     "metadata": {},
     "output_type": "execute_result"
    }
   ],
   "source": [
    "H = (cct.R.V(s) / cct.Vi.V(s)).simplify(); H"
   ]
  },
  {
   "cell_type": "code",
   "execution_count": 4,
   "metadata": {},
   "outputs": [
    {
     "data": {
      "text/latex": [
       "$$\\frac{\\mathrm{j} C R \\omega}{\\mathrm{j} C R \\omega + 1}$$"
      ],
      "text/plain": [
       "  ⅉ⋅C⋅R⋅ω  \n",
       "───────────\n",
       "ⅉ⋅C⋅R⋅ω + 1"
      ]
     },
     "execution_count": 4,
     "metadata": {},
     "output_type": "execute_result"
    }
   ],
   "source": [
    "H(j * omega)"
   ]
  },
  {
   "cell_type": "code",
   "execution_count": 5,
   "metadata": {},
   "outputs": [
    {
     "data": {
      "text/latex": [
       "$$\\frac{C^{2} R^{2} \\omega^{2} + \\mathrm{j} C R \\omega}{C^{2} R^{2} \\omega^{2} + 1}$$"
      ],
      "text/plain": [
       " 2  2  2          \n",
       "C ⋅R ⋅ω  + ⅉ⋅C⋅R⋅ω\n",
       "──────────────────\n",
       "    2  2  2       \n",
       "   C ⋅R ⋅ω  + 1   "
      ]
     },
     "execution_count": 5,
     "metadata": {},
     "output_type": "execute_result"
    }
   ],
   "source": [
    "H(j * omega).rationalize_denominator()"
   ]
  },
  {
   "cell_type": "code",
   "execution_count": 6,
   "metadata": {},
   "outputs": [
    {
     "data": {
      "text/latex": [
       "$$\\frac{C^{2} R^{2} \\omega^{2}}{C^{2} R^{2} \\omega^{2} + 1} + \\frac{\\mathrm{j} C R \\omega}{C^{2} R^{2} \\omega^{2} + 1}$$"
      ],
      "text/plain": [
       "   2  2  2                 \n",
       "  C ⋅R ⋅ω        ⅉ⋅C⋅R⋅ω   \n",
       "──────────── + ────────────\n",
       " 2  2  2        2  2  2    \n",
       "C ⋅R ⋅ω  + 1   C ⋅R ⋅ω  + 1"
      ]
     },
     "execution_count": 6,
     "metadata": {},
     "output_type": "execute_result"
    }
   ],
   "source": [
    "H(j * omega).real_imag"
   ]
  },
  {
   "cell_type": "code",
   "execution_count": 7,
   "metadata": {},
   "outputs": [
    {
     "data": {
      "text/latex": [
       "$$\\frac{\\sqrt{C^{4} R^{4} \\omega^{4} + C^{2} R^{2} \\omega^{2}}}{C^{2} R^{2} \\omega^{2} + 1}$$"
      ],
      "text/plain": [
       "   _____________________\n",
       "  ╱  4  4  4    2  2  2 \n",
       "╲╱  C ⋅R ⋅ω  + C ⋅R ⋅ω  \n",
       "────────────────────────\n",
       "       2  2  2          \n",
       "      C ⋅R ⋅ω  + 1      "
      ]
     },
     "execution_count": 7,
     "metadata": {},
     "output_type": "execute_result"
    }
   ],
   "source": [
    "H(j * omega).magnitude\n"
   ]
  },
  {
   "cell_type": "code",
   "execution_count": 8,
   "metadata": {},
   "outputs": [
    {
     "data": {
      "text/latex": [
       "$$\\frac{180 \\operatorname{atan_{2}}{\\left(1,C R \\omega \\right)}}{\\pi}$$"
      ],
      "text/plain": [
       "180⋅atan2(1, C⋅R⋅ω)\n",
       "───────────────────\n",
       "         π         "
      ]
     },
     "execution_count": 8,
     "metadata": {},
     "output_type": "execute_result"
    }
   ],
   "source": [
    "H(j * omega).phase_degrees"
   ]
  },
  {
   "cell_type": "code",
   "execution_count": 9,
   "metadata": {},
   "outputs": [
    {
     "data": {
      "text/latex": [
       "$$\\frac{\\mathrm{j} \\omega}{1000 \\left(\\frac{\\mathrm{j} \\omega}{1000} + 1\\right)}$$"
      ],
      "text/plain": [
       "      ⅉ⋅ω      \n",
       "───────────────\n",
       "     ⎛ⅉ⋅ω     ⎞\n",
       "1000⋅⎜──── + 1⎟\n",
       "     ⎝1000    ⎠"
      ]
     },
     "execution_count": 9,
     "metadata": {},
     "output_type": "execute_result"
    }
   ],
   "source": [
    "H1 = H.subs('C', 1e-6).subs('R', 1e3)\n",
    "H1(j * omega)"
   ]
  },
  {
   "cell_type": "code",
   "execution_count": 10,
   "metadata": {},
   "outputs": [
    {
     "data": {
      "image/png": "[encoded data removed]",
      "text/plain": [
       "<Figure size 432x288 with 1 Axes>"
      ]
     },
     "metadata": {
      "needs_background": "light"
     },
     "output_type": "display_data"
    }
   ],
   "source": [
    "from numpy import logspace\n",
    "w = logspace(1, 6, 500)\n",
    "%matplotlib inline\n",
    "ax = H1(j * omega).dB.plot(w, log_frequency=True)"
   ]
  },
  {
   "cell_type": "code",
   "execution_count": 11,
   "metadata": {},
   "outputs": [
    {
     "data": {
      "image/png": "[encoded data removed]",
      "text/plain": [
       "<Figure size 432x288 with 1 Axes>"
      ]
     },
     "metadata": {
      "needs_background": "light"
     },
     "output_type": "display_data"
    }
   ],
   "source": [
    "ax = H1(j * omega).phase_degrees.plot(w, log_frequency=True)"
   ]
  },
  {
   "cell_type": "code",
   "execution_count": 12,
   "metadata": {},
   "outputs": [
    {
     "data": {
      "text/latex": [
       "$$\\frac{s}{1000 \\left(\\frac{s}{1000} + 1\\right)}$$"
      ],
      "text/plain": [
       "       s       \n",
       "───────────────\n",
       "     ⎛ s      ⎞\n",
       "1000⋅⎜──── + 1⎟\n",
       "     ⎝1000    ⎠"
      ]
     },
     "execution_count": 12,
     "metadata": {},
     "output_type": "execute_result"
    }
   ],
   "source": [
    "H1"
   ]
  }
 ],
 "metadata": {
  "kernelspec": {
   "display_name": "Python 3",
   "language": "python",
   "name": "python3"
  },
  "language_info": {
   "codemirror_mode": {
    "name": "ipython",
    "version": 3
   },
   "file_extension": ".py",
   "mimetype": "text/x-python",
   "name": "python",
   "nbconvert_exporter": "python",
   "pygments_lexer": "ipython3",
   "version": "3.5.2"
  }
 },
 "nbformat": 4,
 "nbformat_minor": 1
}
