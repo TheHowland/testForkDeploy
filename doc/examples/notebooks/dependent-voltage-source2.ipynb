{
 "cells": [
  {
   "cell_type": "code",
   "execution_count": 1,
   "metadata": {},
   "outputs": [
    {
     "data": {
      "image/png": "[encoded data removed]"
     },
     "metadata": {
      "image/png": {
       "height": 100,
       "width": 300
      }
     },
     "output_type": "display_data"
    }
   ],
   "source": [
    "from lcapy import Circuit\n",
    "cct = Circuit(\"\"\"\n",
    "V1 1 0_1 dc; down\n",
    "R1 1 x; right, size=1.5, i=I\n",
    "R2 x 2; right, size=1.5\n",
    "E1 2 0_2 x 0 4; down, l=4 V_x\n",
    "W 0_1 0; right\n",
    "W 0 0_2; right\n",
    "Ox x 0; down, v^=V_x\n",
    "\"\"\")\n",
    "cct.draw()"
   ]
  },
  {
   "cell_type": "markdown",
   "metadata": {},
   "source": [
    "Let's determine the current through R1.  There are many ways to solve this; the easiest is to combine the sources, combine the resistances, and then use Ohm's law. "
   ]
  },
  {
   "cell_type": "code",
   "execution_count": 2,
   "metadata": {},
   "outputs": [
    {
     "data": {
      "text/latex": [
       "$$\\left\\{ t : \\frac{\\frac{4 R_{2} V_{1}}{3 R_{1} - R_{2}} + V_{1}}{R_{1} + R_{2}}\\right\\}$$"
      ],
      "text/plain": [
       "⎧     4⋅R₂⋅V₁      ⎫\n",
       "⎪    ───────── + V₁⎪\n",
       "⎨    3⋅R₁ - R₂     ⎬\n",
       "⎪dc: ──────────────⎪\n",
       "⎩       R₁ + R₂    ⎭"
      ]
     },
     "execution_count": 2,
     "metadata": {},
     "output_type": "execute_result"
    }
   ],
   "source": [
    "(cct.V1.V - cct.E1.V) / (cct.R1.Z + cct.R2.Z)"
   ]
  },
  {
   "cell_type": "markdown",
   "metadata": {},
   "source": [
    "This can be simplified:"
   ]
  },
  {
   "cell_type": "code",
   "execution_count": 3,
   "metadata": {},
   "outputs": [
    {
     "data": {
      "text/latex": [
       "$$\\left\\{ t : \\frac{3 V_{1}}{3 R_{1} - R_{2}}\\right\\}$$"
      ],
      "text/plain": [
       "⎧       3⋅V₁  ⎫\n",
       "⎨dc: ─────────⎬\n",
       "⎩    3⋅R₁ - R₂⎭"
      ]
     },
     "execution_count": 3,
     "metadata": {},
     "output_type": "execute_result"
    }
   ],
   "source": [
    "((cct.V1.V - cct.E1.V) / (cct.R1.Z + cct.R2.Z)).simplify()"
   ]
  },
  {
   "cell_type": "markdown",
   "metadata": {},
   "source": [
    "Not surprisingly due to KCL, this is the same as the current through R2.  Lcapy can solve this directly:"
   ]
  },
  {
   "cell_type": "code",
   "execution_count": 4,
   "metadata": {},
   "outputs": [
    {
     "data": {
      "text/latex": [
       "$$\\left\\{ t : \\frac{3 V_{1}}{3 R_{1} - R_{2}}\\right\\}$$"
      ],
      "text/plain": [
       "⎧       3⋅V₁  ⎫\n",
       "⎨dc: ─────────⎬\n",
       "⎩    3⋅R₁ - R₂⎭"
      ]
     },
     "execution_count": 4,
     "metadata": {},
     "output_type": "execute_result"
    }
   ],
   "source": [
    "cct.R2.I"
   ]
  },
  {
   "cell_type": "markdown",
   "metadata": {},
   "source": [
    "Now given the current, we can use Ohm's law to determine the voltage drop across R1."
   ]
  },
  {
   "cell_type": "code",
   "execution_count": 5,
   "metadata": {},
   "outputs": [
    {
     "data": {
      "text/latex": [
       "$$\\left\\{ t : \\frac{3 R_{1} V_{1}}{3 R_{1} - R_{2}}\\right\\}$$"
      ],
      "text/plain": [
       "⎧     3⋅R₁⋅V₁ ⎫\n",
       "⎨dc: ─────────⎬\n",
       "⎩    3⋅R₁ - R₂⎭"
      ]
     },
     "execution_count": 5,
     "metadata": {},
     "output_type": "execute_result"
    }
   ],
   "source": [
    "cct.R1.Z * cct.R1.I"
   ]
  },
  {
   "cell_type": "markdown",
   "metadata": {},
   "source": [
    "Lcapy can determine this directly."
   ]
  },
  {
   "cell_type": "code",
   "execution_count": 6,
   "metadata": {},
   "outputs": [
    {
     "data": {
      "text/latex": [
       "$$\\left\\{ t : \\frac{3 R_{1} V_{1}}{3 R_{1} - R_{2}}\\right\\}$$"
      ],
      "text/plain": [
       "⎧     3⋅R₁⋅V₁ ⎫\n",
       "⎨dc: ─────────⎬\n",
       "⎩    3⋅R₁ - R₂⎭"
      ]
     },
     "execution_count": 6,
     "metadata": {},
     "output_type": "execute_result"
    }
   ],
   "source": [
    "cct.R1.V"
   ]
  },
  {
   "cell_type": "markdown",
   "metadata": {},
   "source": [
    "This can be simplified..."
   ]
  },
  {
   "cell_type": "code",
   "execution_count": 7,
   "metadata": {},
   "outputs": [
    {
     "data": {
      "text/latex": [
       "$$\\left\\{ t : \\frac{3 R_{1} V_{1}}{3 R_{1} - R_{2}}\\right\\}$$"
      ],
      "text/plain": [
       "⎧     3⋅R₁⋅V₁ ⎫\n",
       "⎨dc: ─────────⎬\n",
       "⎩    3⋅R₁ - R₂⎭"
      ]
     },
     "execution_count": 7,
     "metadata": {},
     "output_type": "execute_result"
    }
   ],
   "source": [
    "cct.R1.V.simplify()"
   ]
  },
  {
   "cell_type": "markdown",
   "metadata": {},
   "source": [
    "Using KVL, the unknown voltage is thus the voltage generated by the source V1 minus the voltage drop across R1."
   ]
  },
  {
   "cell_type": "code",
   "execution_count": 8,
   "metadata": {},
   "outputs": [
    {
     "data": {
      "text/latex": [
       "$$\\left\\{ t : - \\frac{3 R_{1} V_{1}}{3 R_{1} - R_{2}} + V_{1}\\right\\}$$"
      ],
      "text/plain": [
       "⎧       3⋅R₁⋅V₁      ⎫\n",
       "⎨dc: - ───────── + V₁⎬\n",
       "⎩      3⋅R₁ - R₂     ⎭"
      ]
     },
     "execution_count": 8,
     "metadata": {},
     "output_type": "execute_result"
    }
   ],
   "source": [
    "cct.V1.V - cct.R1.V"
   ]
  },
  {
   "cell_type": "markdown",
   "metadata": {},
   "source": [
    "Of course, Lcapy can determine this directly.  Here Ox is the name of the open circuit over which we wish to determine the voltage difference."
   ]
  },
  {
   "cell_type": "code",
   "execution_count": 9,
   "metadata": {},
   "outputs": [
    {
     "data": {
      "text/latex": [
       "$$\\left\\{ t : - \\frac{R_{2} V_{1}}{3 R_{1} - R_{2}}\\right\\}$$"
      ],
      "text/plain": [
       "⎧     -R₂⋅V₁  ⎫\n",
       "⎨dc: ─────────⎬\n",
       "⎩    3⋅R₁ - R₂⎭"
      ]
     },
     "execution_count": 9,
     "metadata": {},
     "output_type": "execute_result"
    }
   ],
   "source": [
    "cct.Ox.V"
   ]
  },
  {
   "cell_type": "markdown",
   "metadata": {},
   "source": [
    "Alternatively, we can query Lcapy for the voltage at node 'x' with respect to ground.  This gives the same result."
   ]
  },
  {
   "cell_type": "code",
   "execution_count": 10,
   "metadata": {},
   "outputs": [
    {
     "data": {
      "text/latex": [
       "$$\\left\\{ t : - \\frac{R_{2} V_{1}}{3 R_{1} - R_{2}}\\right\\}$$"
      ],
      "text/plain": [
       "⎧     -R₂⋅V₁  ⎫\n",
       "⎨dc: ─────────⎬\n",
       "⎩    3⋅R₁ - R₂⎭"
      ]
     },
     "execution_count": 10,
     "metadata": {},
     "output_type": "execute_result"
    }
   ],
   "source": [
    "cct['x'].V"
   ]
  },
  {
   "cell_type": "markdown",
   "metadata": {},
   "source": [
    "This can be displayed in the time domain using:"
   ]
  },
  {
   "cell_type": "code",
   "execution_count": 11,
   "metadata": {},
   "outputs": [
    {
     "data": {
      "text/latex": [
       "$$- \\frac{R_{2} V_{1}}{3 R_{1} - R_{2}}$$"
      ],
      "text/plain": [
       " -R₂⋅V₁  \n",
       "─────────\n",
       "3⋅R₁ - R₂"
      ]
     },
     "execution_count": 11,
     "metadata": {},
     "output_type": "execute_result"
    }
   ],
   "source": [
    "cct['x'].v"
   ]
  },
  {
   "cell_type": "markdown",
   "metadata": {},
   "source": [
    "Or alternatively using:"
   ]
  },
  {
   "cell_type": "code",
   "execution_count": 12,
   "metadata": {},
   "outputs": [
    {
     "data": {
      "text/latex": [
       "$$- \\frac{R_{2} V_{1}}{3 R_{1} - R_{2}}$$"
      ],
      "text/plain": [
       " -R₂⋅V₁  \n",
       "─────────\n",
       "3⋅R₁ - R₂"
      ]
     },
     "execution_count": 12,
     "metadata": {},
     "output_type": "execute_result"
    }
   ],
   "source": [
    "from lcapy import t\n",
    "cct['x'].V(t)"
   ]
  }
 ],
 "metadata": {
  "kernelspec": {
   "display_name": "Python 3",
   "language": "python",
   "name": "python3"
  },
  "language_info": {
   "codemirror_mode": {
    "name": "ipython",
    "version": 3
   },
   "file_extension": ".py",
   "mimetype": "text/x-python",
   "name": "python",
   "nbconvert_exporter": "python",
   "pygments_lexer": "ipython3",
   "version": "3.5.2"
  }
 },
 "nbformat": 4,
 "nbformat_minor": 1
}
