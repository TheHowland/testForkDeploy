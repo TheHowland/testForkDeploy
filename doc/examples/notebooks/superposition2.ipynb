{
 "cells": [
  {
   "cell_type": "code",
   "execution_count": 1,
   "metadata": {},
   "outputs": [
    {
     "data": {
      "image/png": "[encoded data removed]"
     },
     "metadata": {
      "image/png": {
       "height": 100,
       "width": 300
      }
     },
     "output_type": "display_data"
    }
   ],
   "source": [
    "from lcapy import Circuit\n",
    "cct = Circuit(\"\"\"\n",
    "V1 1 0_1 dc; down\n",
    "R1 1 x; right, size=1.5, i=I\n",
    "R2 x 2; right, size=1.5\n",
    "V2 2 0_2 dc; down\n",
    "W 0_1 0; right\n",
    "W 0 0_2; right\n",
    "Ox x 0; down, v=V_x\n",
    "\"\"\")\n",
    "cct.draw(label_ids=True)"
   ]
  },
  {
   "cell_type": "markdown",
   "metadata": {},
   "source": [
    "Let's determine the current through R1.  There are many ways to solve this; the easiest is to combine the sources, combine the resistances, and then use Ohm's law. You can also use the principle of superposition."
   ]
  },
  {
   "cell_type": "code",
   "execution_count": 2,
   "metadata": {},
   "outputs": [
    {
     "data": {
      "text/latex": [
       "$$\\left\\{ t : \\frac{V_{1} - V_{2}}{R_{1} + R_{2}}\\right\\}$$"
      ],
      "text/plain": [
       "⎧    V₁ - V₂⎫\n",
       "⎨dc: ───────⎬\n",
       "⎩    R₁ + R₂⎭"
      ]
     },
     "execution_count": 2,
     "metadata": {},
     "output_type": "execute_result"
    }
   ],
   "source": [
    "cct.R1.I"
   ]
  },
  {
   "cell_type": "markdown",
   "metadata": {},
   "source": [
    "Not surprisingly due to KCL, this is the same as the current through R2."
   ]
  },
  {
   "cell_type": "code",
   "execution_count": 3,
   "metadata": {},
   "outputs": [
    {
     "data": {
      "text/latex": [
       "$$\\left\\{ t : \\frac{V_{1} - V_{2}}{R_{1} + R_{2}}\\right\\}$$"
      ],
      "text/plain": [
       "⎧    V₁ - V₂⎫\n",
       "⎨dc: ───────⎬\n",
       "⎩    R₁ + R₂⎭"
      ]
     },
     "execution_count": 3,
     "metadata": {},
     "output_type": "execute_result"
    }
   ],
   "source": [
    "cct.R2.I"
   ]
  },
  {
   "cell_type": "markdown",
   "metadata": {},
   "source": [
    "Now given the current, we can use Ohm's law to determine the voltage drop across R1."
   ]
  },
  {
   "cell_type": "code",
   "execution_count": 4,
   "metadata": {},
   "outputs": [
    {
     "data": {
      "text/latex": [
       "$$\\left\\{ t : \\frac{R_{1} \\left(V_{1} - V_{2}\\right)}{R_{1} + R_{2}}\\right\\}$$"
      ],
      "text/plain": [
       "⎧    R₁⋅(V₁ - V₂)⎫\n",
       "⎨dc: ────────────⎬\n",
       "⎩      R₁ + R₂   ⎭"
      ]
     },
     "execution_count": 4,
     "metadata": {},
     "output_type": "execute_result"
    }
   ],
   "source": [
    "cct.R1.Z * cct.R1.I"
   ]
  },
  {
   "cell_type": "markdown",
   "metadata": {},
   "source": [
    "Lcapy can determine this directly."
   ]
  },
  {
   "cell_type": "code",
   "execution_count": 5,
   "metadata": {},
   "outputs": [
    {
     "data": {
      "text/latex": [
       "$$\\left\\{ t : \\frac{R_{1} V_{1} - R_{1} V_{2}}{R_{1} + R_{2}}\\right\\}$$"
      ],
      "text/plain": [
       "⎧    R₁⋅V₁ - R₁⋅V₂⎫\n",
       "⎨dc: ─────────────⎬\n",
       "⎩       R₁ + R₂   ⎭"
      ]
     },
     "execution_count": 5,
     "metadata": {},
     "output_type": "execute_result"
    }
   ],
   "source": [
    "cct.R1.V"
   ]
  },
  {
   "cell_type": "markdown",
   "metadata": {},
   "source": [
    "This can be simplified..."
   ]
  },
  {
   "cell_type": "code",
   "execution_count": 6,
   "metadata": {},
   "outputs": [
    {
     "data": {
      "text/latex": [
       "$$\\left\\{ t : \\frac{R_{1} \\left(V_{1} - V_{2}\\right)}{R_{1} + R_{2}}\\right\\}$$"
      ],
      "text/plain": [
       "⎧    R₁⋅(V₁ - V₂)⎫\n",
       "⎨dc: ────────────⎬\n",
       "⎩      R₁ + R₂   ⎭"
      ]
     },
     "execution_count": 6,
     "metadata": {},
     "output_type": "execute_result"
    }
   ],
   "source": [
    "cct.R1.V.simplify()"
   ]
  },
  {
   "cell_type": "markdown",
   "metadata": {},
   "source": [
    "Using KVL, the unknown voltage is thus the voltage generated by the source V1 minus the voltage drop across R1."
   ]
  },
  {
   "cell_type": "code",
   "execution_count": 7,
   "metadata": {},
   "outputs": [
    {
     "data": {
      "text/latex": [
       "$$\\left\\{ t : V_{1} - \\frac{R_{1} V_{1} - R_{1} V_{2}}{R_{1} + R_{2}}\\right\\}$$"
      ],
      "text/plain": [
       "⎧         R₁⋅V₁ - R₁⋅V₂⎫\n",
       "⎨dc: V₁ - ─────────────⎬\n",
       "⎩            R₁ + R₂   ⎭"
      ]
     },
     "execution_count": 7,
     "metadata": {},
     "output_type": "execute_result"
    }
   ],
   "source": [
    "cct.V1.V - cct.R1.V"
   ]
  },
  {
   "cell_type": "markdown",
   "metadata": {},
   "source": [
    "Of course, Lcapy can determine this directly.  Here Ox is the name of the open circuit over which we wish to determine the voltage difference."
   ]
  },
  {
   "cell_type": "code",
   "execution_count": 8,
   "metadata": {},
   "outputs": [
    {
     "data": {
      "text/latex": [
       "$$\\left\\{ t : \\frac{R_{1} V_{2} + R_{2} V_{1}}{R_{1} + R_{2}}\\right\\}$$"
      ],
      "text/plain": [
       "⎧    R₁⋅V₂ + R₂⋅V₁⎫\n",
       "⎨dc: ─────────────⎬\n",
       "⎩       R₁ + R₂   ⎭"
      ]
     },
     "execution_count": 8,
     "metadata": {},
     "output_type": "execute_result"
    }
   ],
   "source": [
    "cct.Ox.V"
   ]
  },
  {
   "cell_type": "markdown",
   "metadata": {},
   "source": [
    "Alternatively, we can query Lcapy for the voltage at node 'x' with respect to ground."
   ]
  },
  {
   "cell_type": "code",
   "execution_count": 9,
   "metadata": {},
   "outputs": [
    {
     "data": {
      "text/latex": [
       "$$\\left\\{ t : \\frac{R_{1} V_{2} + R_{2} V_{1}}{R_{1} + R_{2}}\\right\\}$$"
      ],
      "text/plain": [
       "⎧    R₁⋅V₂ + R₂⋅V₁⎫\n",
       "⎨dc: ─────────────⎬\n",
       "⎩       R₁ + R₂   ⎭"
      ]
     },
     "execution_count": 9,
     "metadata": {},
     "output_type": "execute_result"
    }
   ],
   "source": [
    "cct['x'].V"
   ]
  },
  {
   "cell_type": "markdown",
   "metadata": {},
   "source": [
    "Finally, we should check that the answer makes sense.  It is between 4 and 8 V and so is plausible.  Oh, we should also specify the units for each of our answers.  This helps to find errors."
   ]
  },
  {
   "cell_type": "markdown",
   "metadata": {},
   "source": [
    "Let's now try using superposition.  We start by analysing the circuit with all the sources except V1 killed."
   ]
  },
  {
   "cell_type": "code",
   "execution_count": 10,
   "metadata": {},
   "outputs": [
    {
     "data": {
      "image/png": "[encoded data removed]"
     },
     "metadata": {
      "image/png": {
       "height": 100,
       "width": 300
      }
     },
     "output_type": "display_data"
    }
   ],
   "source": [
    "cct2 = cct.kill_except('V1')\n",
    "cct2.draw()"
   ]
  },
  {
   "cell_type": "markdown",
   "metadata": {},
   "source": [
    "This is a simpler circuit to analyse.  We can either recognise the circuit as a voltage divider or calculate the current and find the voltage drops.  Let's use the latter approach.  Combining the resistances gives R1 + R2 and using Ohm's law, the current through R1 and R2 is given by:"
   ]
  },
  {
   "cell_type": "code",
   "execution_count": 11,
   "metadata": {},
   "outputs": [
    {
     "data": {
      "text/latex": [
       "$$\\left\\{ t : \\frac{V_{1}}{R_{1} + R_{2}}\\right\\}$$"
      ],
      "text/plain": [
       "⎧       V₁  ⎫\n",
       "⎨dc: ───────⎬\n",
       "⎩    R₁ + R₂⎭"
      ]
     },
     "execution_count": 11,
     "metadata": {},
     "output_type": "execute_result"
    }
   ],
   "source": [
    "cct2.V1.V / (cct2.R1.Z + cct2.R2.Z)"
   ]
  },
  {
   "cell_type": "markdown",
   "metadata": {},
   "source": [
    "Lcapy can determine this directly:"
   ]
  },
  {
   "cell_type": "code",
   "execution_count": 12,
   "metadata": {},
   "outputs": [
    {
     "data": {
      "text/latex": [
       "$$\\left\\{ t : \\frac{V_{1}}{R_{1} + R_{2}}\\right\\}$$"
      ],
      "text/plain": [
       "⎧       V₁  ⎫\n",
       "⎨dc: ───────⎬\n",
       "⎩    R₁ + R₂⎭"
      ]
     },
     "execution_count": 12,
     "metadata": {},
     "output_type": "execute_result"
    }
   ],
   "source": [
    "cct2.R2.I"
   ]
  },
  {
   "cell_type": "markdown",
   "metadata": {},
   "source": [
    "The voltage drop across R2 can then be found from Ohm's law."
   ]
  },
  {
   "cell_type": "code",
   "execution_count": 13,
   "metadata": {},
   "outputs": [
    {
     "data": {
      "text/latex": [
       "$$\\left\\{ t : \\frac{R_{2} V_{1}}{R_{1} + R_{2}}\\right\\}$$"
      ],
      "text/plain": [
       "⎧     R₂⋅V₁ ⎫\n",
       "⎨dc: ───────⎬\n",
       "⎩    R₁ + R₂⎭"
      ]
     },
     "execution_count": 13,
     "metadata": {},
     "output_type": "execute_result"
    }
   ],
   "source": [
    "cct2.R2.I * cct2.R2.Z"
   ]
  },
  {
   "cell_type": "markdown",
   "metadata": {},
   "source": [
    "Again, Lcapy can determine this directly:"
   ]
  },
  {
   "cell_type": "code",
   "execution_count": 14,
   "metadata": {},
   "outputs": [
    {
     "data": {
      "text/latex": [
       "$$\\left\\{ t : \\frac{R_{2} V_{1}}{R_{1} + R_{2}}\\right\\}$$"
      ],
      "text/plain": [
       "⎧     R₂⋅V₁ ⎫\n",
       "⎨dc: ───────⎬\n",
       "⎩    R₁ + R₂⎭"
      ]
     },
     "execution_count": 14,
     "metadata": {},
     "output_type": "execute_result"
    }
   ],
   "source": [
    "cct2['x'].V"
   ]
  },
  {
   "cell_type": "markdown",
   "metadata": {},
   "source": [
    "So we have determine the voltage Vx due to source V1.  Let's now kill just V2 and determine the voltage Vx due to V2."
   ]
  },
  {
   "cell_type": "code",
   "execution_count": 15,
   "metadata": {},
   "outputs": [
    {
     "data": {
      "image/png": "[encoded data removed]"
     },
     "metadata": {
      "image/png": {
       "height": 100,
       "width": 300
      }
     },
     "output_type": "display_data"
    }
   ],
   "source": [
    "cct3 = cct.kill_except('V2')\n",
    "cct3.draw()"
   ]
  },
  {
   "cell_type": "markdown",
   "metadata": {},
   "source": [
    "In this circuit the current flows in the opposite direction to the labelled current I.  Thus we will get a negative value for the current.  If you do not like negative currents, just relabel the current direction."
   ]
  },
  {
   "cell_type": "markdown",
   "metadata": {},
   "source": [
    "The unknown voltage Vx can be found as before, either by using the principle of the voltage divider or by calculating the current through R1 and R2 and then determining the voltage across R1.  "
   ]
  },
  {
   "cell_type": "code",
   "execution_count": 16,
   "metadata": {},
   "outputs": [
    {
     "data": {
      "text/latex": [
       "$$\\left\\{ t : \\frac{R_{1} V_{2}}{R_{1} + R_{2}}\\right\\}$$"
      ],
      "text/plain": [
       "⎧     R₁⋅V₂ ⎫\n",
       "⎨dc: ───────⎬\n",
       "⎩    R₁ + R₂⎭"
      ]
     },
     "execution_count": 16,
     "metadata": {},
     "output_type": "execute_result"
    }
   ],
   "source": [
    "cct3['x'].V"
   ]
  },
  {
   "cell_type": "markdown",
   "metadata": {},
   "source": [
    "We now know Vx due to V1 and Vx due to V2.  Due to linearity, the total voltage Vx is simply the sum of the two contributions:"
   ]
  },
  {
   "cell_type": "code",
   "execution_count": 17,
   "metadata": {},
   "outputs": [
    {
     "data": {
      "text/latex": [
       "$$\\left\\{ t : \\frac{R_{1} V_{2}}{R_{1} + R_{2}} + \\frac{R_{2} V_{1}}{R_{1} + R_{2}}\\right\\}$$"
      ],
      "text/plain": [
       "⎧     R₁⋅V₂     R₂⋅V₁ ⎫\n",
       "⎨dc: ─────── + ───────⎬\n",
       "⎩    R₁ + R₂   R₁ + R₂⎭"
      ]
     },
     "execution_count": 17,
     "metadata": {},
     "output_type": "execute_result"
    }
   ],
   "source": [
    "cct2['x'].V + cct3['x'].V"
   ]
  },
  {
   "cell_type": "markdown",
   "metadata": {},
   "source": [
    "If we simplify this, we get the same result as determined earlier."
   ]
  },
  {
   "cell_type": "code",
   "execution_count": 18,
   "metadata": {},
   "outputs": [
    {
     "data": {
      "text/latex": [
       "$$\\left\\{ t : \\frac{R_{1} V_{2} + R_{2} V_{1}}{R_{1} + R_{2}}\\right\\}$$"
      ],
      "text/plain": [
       "⎧    R₁⋅V₂ + R₂⋅V₁⎫\n",
       "⎨dc: ─────────────⎬\n",
       "⎩       R₁ + R₂   ⎭"
      ]
     },
     "execution_count": 18,
     "metadata": {},
     "output_type": "execute_result"
    }
   ],
   "source": [
    "Vx = cct2['x'].V + cct3['x'].V\n",
    "Vx.simplify()"
   ]
  }
 ],
 "metadata": {
  "kernelspec": {
   "display_name": "Python 3",
   "language": "python",
   "name": "python3"
  },
  "language_info": {
   "codemirror_mode": {
    "name": "ipython",
    "version": 3
   },
   "file_extension": ".py",
   "mimetype": "text/x-python",
   "name": "python",
   "nbconvert_exporter": "python",
   "pygments_lexer": "ipython3",
   "version": "3.5.2"
  }
 },
 "nbformat": 4,
 "nbformat_minor": 1
}
