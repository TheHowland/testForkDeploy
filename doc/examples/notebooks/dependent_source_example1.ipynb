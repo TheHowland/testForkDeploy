{
 "metadata": {
  "name": "",
  "signature": "sha256:c290dba76021d60c2bada74f310f71da7604be17e5b6dc704b06619bd557feb8"
 },
 "nbformat": 3,
 "nbformat_minor": 0,
 "worksheets": [
  {
   "cells": [
    {
     "cell_type": "code",
     "collapsed": false,
     "input": [
      "from lcapy import Circuit, V\n",
      "cct = Circuit()\n",
      "cct.add(\"\"\"\n",
      "V1 1 0_1 8; down\n",
      "R1 1 x 3; right, size=2, i=I\n",
      "R2 x 2 1; right, size=2\n",
      "E1 2 0_2 x 0 4; down, l = 4 V_x\n",
      "W 0_1 0; right\n",
      "W 0 0_2; right\n",
      "Ox x 0; v=V_x\n",
      "\"\"\")\n",
      "cct.draw(label_ids=True)"
     ],
     "language": "python",
     "metadata": {},
     "outputs": [
      {
       "metadata": {
        "png": {
         "height": 100,
         "width": 400
        }
       },
       "output_type": "display_data",
       "png": "[encoded data removed]"
      }
     ],
     "prompt_number": 73
    },
    {
     "cell_type": "markdown",
     "metadata": {},
     "source": [
      "Let's determine the current through R1.  There are many ways to solve this; the easiest is to combine the sources, combine the resistances, and then use Ohm's law. The result is a function of $V_x$:"
     ]
    },
    {
     "cell_type": "code",
     "collapsed": false,
     "input": [
      "Vx = V('V_x').V\n",
      "I = (cct.V1.V - 4 * Vx) / (cct.R1.Z + cct.R2.Z)"
     ],
     "language": "python",
     "metadata": {},
     "outputs": [],
     "prompt_number": 74
    },
    {
     "cell_type": "markdown",
     "metadata": {},
     "source": [
      "Now given the current, we can use Ohm's law to determine the voltage drop across R1."
     ]
    },
    {
     "cell_type": "code",
     "collapsed": false,
     "input": [
      "I * cct.R1.Z"
     ],
     "language": "python",
     "metadata": {},
     "outputs": [
      {
       "latex": [
        "$- 3 V_x + 6$"
       ],
       "metadata": {},
       "output_type": "pyout",
       "prompt_number": 75,
       "text": [
        "-3\u22c5V\u2093 + 6"
       ]
      }
     ],
     "prompt_number": 75
    },
    {
     "cell_type": "code",
     "collapsed": false,
     "input": [
      "cct.V1.V - I * cct.R1.Z"
     ],
     "language": "python",
     "metadata": {},
     "outputs": [
      {
       "latex": [
        "$3 V_x + 2$"
       ],
       "metadata": {},
       "output_type": "pyout",
       "prompt_number": 76,
       "text": [
        "3\u22c5V\u2093 + 2"
       ]
      }
     ],
     "prompt_number": 76
    },
    {
     "cell_type": "markdown",
     "metadata": {},
     "source": [
      "Thus we know that $V_x = 3 V_x + 2$ or $V_x = -1$.  Of course, Lcapy can determine this directly. Here Ox is the name of the open circuit over which we wish to determine the voltage difference:\n"
     ]
    },
    {
     "cell_type": "code",
     "collapsed": false,
     "input": [
      "cct.Ox.V"
     ],
     "language": "python",
     "metadata": {},
     "outputs": [
      {
       "latex": [
        "$-1$"
       ],
       "metadata": {},
       "output_type": "pyout",
       "prompt_number": 80,
       "text": [
        "-1"
       ]
      }
     ],
     "prompt_number": 80
    },
    {
     "cell_type": "markdown",
     "metadata": {},
     "source": [
      "Alternatively, we can query Lcapy for the voltage at node 'x' with respect to ground.  This gives the same result."
     ]
    },
    {
     "cell_type": "code",
     "collapsed": false,
     "input": [
      "cct['x'].V"
     ],
     "language": "python",
     "metadata": {},
     "outputs": [
      {
       "latex": [
        "$-1$"
       ],
       "metadata": {},
       "output_type": "pyout",
       "prompt_number": 78,
       "text": [
        "-1"
       ]
      }
     ],
     "prompt_number": 78
    },
    {
     "cell_type": "markdown",
     "metadata": {},
     "source": [
      "Let's check the current with Lcapy:"
     ]
    },
    {
     "cell_type": "code",
     "collapsed": false,
     "input": [
      "cct.R1.I"
     ],
     "language": "python",
     "metadata": {},
     "outputs": [
      {
       "latex": [
        "$3$"
       ],
       "metadata": {},
       "output_type": "pyout",
       "prompt_number": 79,
       "text": [
        "3"
       ]
      }
     ],
     "prompt_number": 79
    }
   ],
   "metadata": {}
  }
 ]
}