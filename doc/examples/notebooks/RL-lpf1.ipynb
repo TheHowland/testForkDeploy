{
 "metadata": {
  "name": "",
  "signature": "sha256:ff1c36b9112c525d961d4a72ae907a41e125fd4f11589f8fc766d7e823e1dedd"
 },
 "nbformat": 3,
 "nbformat_minor": 0,
 "worksheets": [
  {
   "cells": [
    {
     "cell_type": "code",
     "collapsed": false,
     "input": [
      "from lcapy import Circuit, j, omega\n",
      "cct = Circuit()\n",
      "cct.add(\"\"\"\n",
      "Vi 1 0_1; down\n",
      "L 1 2; right, size=1.5\n",
      "R 2 0; down\n",
      "W 0_1 0; right\n",
      "W 0 0_2; right, size=0.5\n",
      "P1 2_2 0_2; down\n",
      "W 2 2_2;right, size=0.5\"\"\")\n"
     ],
     "language": "python",
     "metadata": {},
     "outputs": [],
     "prompt_number": 2
    },
    {
     "cell_type": "code",
     "collapsed": false,
     "input": [
      "cct.draw()"
     ],
     "language": "python",
     "metadata": {},
     "outputs": [
      {
       "metadata": {
        "png": {
         "height": 100,
         "width": 200
        }
       },
       "output_type": "display_data",
       "png": "[encoded data removed]"
      }
     ],
     "prompt_number": 3
    },
    {
     "cell_type": "code",
     "collapsed": false,
     "input": [
      "H = (cct.R.V / cct.Vi.V).simplify()"
     ],
     "language": "python",
     "metadata": {},
     "outputs": [],
     "prompt_number": 4
    },
    {
     "cell_type": "code",
     "collapsed": false,
     "input": [
      "H(j * omega)"
     ],
     "language": "python",
     "metadata": {},
     "outputs": [
      {
       "latex": [
        "$\\frac{R_{}}{i L_{} \\omega + R_{}}$"
       ],
       "metadata": {},
       "output_type": "pyout",
       "prompt_number": 5,
       "text": [
        "    R    \n",
        "\u2500\u2500\u2500\u2500\u2500\u2500\u2500\u2500\u2500\n",
        "\u2148\u22c5L\u22c5\u03c9 + R"
       ]
      }
     ],
     "prompt_number": 5
    },
    {
     "cell_type": "code",
     "collapsed": false,
     "input": [
      "H(j * omega).rationalize_denominator()"
     ],
     "language": "python",
     "metadata": {},
     "outputs": [
      {
       "latex": [
        "$\\frac{- i L_{} R_{} \\omega + R_{}^2}{L_{}^2 \\omega^2 + R_{}^2}$"
       ],
       "metadata": {},
       "output_type": "pyout",
       "prompt_number": 11,
       "text": [
        "            2\n",
        "-\u2148\u22c5L\u22c5R\u22c5\u03c9 + R \n",
        "\u2500\u2500\u2500\u2500\u2500\u2500\u2500\u2500\u2500\u2500\u2500\u2500\u2500\n",
        "   2  2    2 \n",
        "  L \u22c5\u03c9  + R  "
       ]
      }
     ],
     "prompt_number": 11
    },
    {
     "cell_type": "code",
     "collapsed": false,
     "input": [
      "H(j * omega).real_imag"
     ],
     "language": "python",
     "metadata": {},
     "outputs": [
      {
       "latex": [
        "$- \\frac{i L_{} R_{} \\omega}{L_{}^2 \\omega^2 + R_{}^2} + \\frac{R_{}^2}{L_{}^2 \\omega^2 + R_{}^2}$"
       ],
       "metadata": {},
       "output_type": "pyout",
       "prompt_number": 12,
       "text": [
        "                    2    \n",
        "   \u2148\u22c5L\u22c5R\u22c5\u03c9         R     \n",
        "- \u2500\u2500\u2500\u2500\u2500\u2500\u2500\u2500\u2500\u2500 + \u2500\u2500\u2500\u2500\u2500\u2500\u2500\u2500\u2500\u2500\n",
        "   2  2    2    2  2    2\n",
        "  L \u22c5\u03c9  + R    L \u22c5\u03c9  + R "
       ]
      }
     ],
     "prompt_number": 12
    },
    {
     "cell_type": "code",
     "collapsed": false,
     "input": [
      "H(j * omega).magnitude\n"
     ],
     "language": "python",
     "metadata": {},
     "outputs": [
      {
       "latex": [
        "$\\frac{R_{}}{\\sqrt{L_{}^2 \\omega^2 + R_{}^2}}$"
       ],
       "metadata": {},
       "output_type": "pyout",
       "prompt_number": 6,
       "text": [
        "       R       \n",
        "\u2500\u2500\u2500\u2500\u2500\u2500\u2500\u2500\u2500\u2500\u2500\u2500\u2500\u2500\u2500\n",
        "   ____________\n",
        "  \u2571  2  2    2 \n",
        "\u2572\u2571  L \u22c5\u03c9  + R  "
       ]
      }
     ],
     "prompt_number": 6
    },
    {
     "cell_type": "code",
     "collapsed": false,
     "input": [
      "H(j * omega).phase_degrees"
     ],
     "language": "python",
     "metadata": {},
     "outputs": [
      {
       "latex": [
        "$\\frac{180.0}{\\pi} \\operatorname{atan2}{\\left (- L_{} \\omega,R_{} \\right )}$"
       ],
       "metadata": {},
       "output_type": "pyout",
       "prompt_number": 7,
       "text": [
        "180.0\u22c5atan2(-L\u22c5\u03c9, R)\n",
        "\u2500\u2500\u2500\u2500\u2500\u2500\u2500\u2500\u2500\u2500\u2500\u2500\u2500\u2500\u2500\u2500\u2500\u2500\u2500\u2500\n",
        "         \u03c0          "
       ]
      }
     ],
     "prompt_number": 7
    },
    {
     "cell_type": "code",
     "collapsed": false,
     "input": [
      "H1 = H.subs('L',1).subs('R',1e3)\n",
      "H1(j * omega)"
     ],
     "language": "python",
     "metadata": {},
     "outputs": [
      {
       "latex": [
        "$\\frac{1000.0}{i \\omega + 1000.0}$"
       ],
       "metadata": {},
       "output_type": "pyout",
       "prompt_number": 8,
       "text": [
        "   1000.0   \n",
        "\u2500\u2500\u2500\u2500\u2500\u2500\u2500\u2500\u2500\u2500\u2500\u2500\n",
        "\u2148\u22c5\u03c9 + 1000.0"
       ]
      }
     ],
     "prompt_number": 8
    },
    {
     "cell_type": "code",
     "collapsed": false,
     "input": [
      "from numpy import logspace\n",
      "w = logspace(1, 6, 500)\n",
      "%matplotlib inline\n",
      "H1(j * omega).dB.plot(w, log_scale=True)"
     ],
     "language": "python",
     "metadata": {},
     "outputs": [
      {
       "metadata": {},
       "output_type": "display_data",
       "png": "[encoded data removed]",
       "text": [
        "<matplotlib.figure.Figure at 0x7f9bf2f7d8d0>"
       ]
      }
     ],
     "prompt_number": 9
    },
    {
     "cell_type": "code",
     "collapsed": false,
     "input": [
      "H1(j * omega).phase_degrees.plot(w, log_scale=True)"
     ],
     "language": "python",
     "metadata": {},
     "outputs": [
      {
       "metadata": {},
       "output_type": "display_data",
       "png": "[encoded data removed]",
       "text": [
        "<matplotlib.figure.Figure at 0x7f9bf0499790>"
       ]
      }
     ],
     "prompt_number": 10
    },
    {
     "cell_type": "code",
     "collapsed": false,
     "input": [],
     "language": "python",
     "metadata": {},
     "outputs": [],
     "prompt_number": 10
    }
   ],
   "metadata": {}
  }
 ]
}