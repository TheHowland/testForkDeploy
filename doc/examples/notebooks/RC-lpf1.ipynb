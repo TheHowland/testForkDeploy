{
 "cells": [
  {
   "cell_type": "code",
   "execution_count": 1,
   "metadata": {},
   "outputs": [],
   "source": [
    "from lcapy import Circuit, j, omega, s\n",
    "cct = Circuit(\"\"\"\n",
    "Vi 1 0_1 step; down\n",
    "R 1 2; right, size=1.5\n",
    "C 2 0; down\n",
    "W 0_1 0; right\n",
    "W 0 0_2; right, size=0.5\n",
    "P1 2_2 0_2; down\n",
    "W 2 2_2;right, size=0.5\"\"\")\n"
   ]
  },
  {
   "cell_type": "code",
   "execution_count": 2,
   "metadata": {},
   "outputs": [
    {
     "data": {
      "image/png": "[encoded data removed]"
     },
     "metadata": {
      "image/png": {
       "height": 150,
       "width": 268
      }
     },
     "output_type": "display_data"
    }
   ],
   "source": [
    "cct.draw()"
   ]
  },
  {
   "cell_type": "code",
   "execution_count": 3,
   "metadata": {},
   "outputs": [
    {
     "name": "stderr",
     "output_type": "stream",
     "text": [
      "/home/mph/.local/lib/python3.6/site-packages/sympy/__init__.py:676: SymPyDeprecationWarning: \n",
      "\n",
      "importing sympy.core.function with 'from sympy import *' has been\n",
      "deprecated since SymPy 1.6. Use import sympy.core.function instead.\n",
      "See https://github.com/sympy/sympy/issues/18245 for more info.\n",
      "\n",
      "  deprecated_since_version=\"1.6\").warn()\n"
     ]
    }
   ],
   "source": [
    "H = (cct.C.V(s) / cct.Vi.V(s)).simplify()"
   ]
  },
  {
   "cell_type": "code",
   "execution_count": 4,
   "metadata": {
    "scrolled": true
   },
   "outputs": [
    {
     "data": {
      "text/latex": [
       "$$\\frac{1}{\\mathrm{j} C R \\omega + 1}$$"
      ],
      "text/plain": [
       "     1     \n",
       "───────────\n",
       "ⅉ⋅C⋅R⋅ω + 1"
      ]
     },
     "execution_count": 4,
     "metadata": {},
     "output_type": "execute_result"
    }
   ],
   "source": [
    "H(j * omega)"
   ]
  },
  {
   "cell_type": "code",
   "execution_count": 5,
   "metadata": {},
   "outputs": [
    {
     "data": {
      "text/latex": [
       "$$\\frac{- \\mathrm{j} C R \\omega + 1}{C^{2} R^{2} \\omega^{2} + 1}$$"
      ],
      "text/plain": [
       "-ⅉ⋅C⋅R⋅ω + 1\n",
       "────────────\n",
       " 2  2  2    \n",
       "C ⋅R ⋅ω  + 1"
      ]
     },
     "execution_count": 5,
     "metadata": {},
     "output_type": "execute_result"
    }
   ],
   "source": [
    "H(j * omega).rationalize_denominator()"
   ]
  },
  {
   "cell_type": "code",
   "execution_count": 6,
   "metadata": {},
   "outputs": [
    {
     "data": {
      "text/latex": [
       "$$- \\frac{\\mathrm{j} C R \\omega}{C^{2} R^{2} \\omega^{2} + 1} + \\frac{1}{C^{2} R^{2} \\omega^{2} + 1}$$"
      ],
      "text/plain": [
       "    ⅉ⋅C⋅R⋅ω           1      \n",
       "- ──────────── + ────────────\n",
       "   2  2  2        2  2  2    \n",
       "  C ⋅R ⋅ω  + 1   C ⋅R ⋅ω  + 1"
      ]
     },
     "execution_count": 6,
     "metadata": {},
     "output_type": "execute_result"
    }
   ],
   "source": [
    "H(j * omega).real_imag"
   ]
  },
  {
   "cell_type": "code",
   "execution_count": 7,
   "metadata": {},
   "outputs": [
    {
     "data": {
      "text/latex": [
       "$$\\frac{1}{\\sqrt{C^{2} R^{2} \\omega^{2} + 1}}$$"
      ],
      "text/plain": [
       "        1        \n",
       "─────────────────\n",
       "   ______________\n",
       "  ╱  2  2  2     \n",
       "╲╱  C ⋅R ⋅ω  + 1 "
      ]
     },
     "execution_count": 7,
     "metadata": {},
     "output_type": "execute_result"
    }
   ],
   "source": [
    "H(j * omega).magnitude\n"
   ]
  },
  {
   "cell_type": "code",
   "execution_count": 8,
   "metadata": {},
   "outputs": [
    {
     "data": {
      "text/latex": [
       "$$- \\frac{180 \\operatorname{atan}{\\left(C R \\omega \\right)}}{\\pi}$$"
      ],
      "text/plain": [
       "-180⋅atan(C⋅R⋅ω) \n",
       "─────────────────\n",
       "        π        "
      ]
     },
     "execution_count": 8,
     "metadata": {},
     "output_type": "execute_result"
    }
   ],
   "source": [
    "H(j * omega).phase_degrees"
   ]
  },
  {
   "cell_type": "code",
   "execution_count": 9,
   "metadata": {},
   "outputs": [
    {
     "data": {
      "text/latex": [
       "$$\\frac{1}{\\frac{\\mathrm{j} \\omega}{1000} + 1}$$"
      ],
      "text/plain": [
       "   1    \n",
       "────────\n",
       "ⅉ⋅ω     \n",
       "──── + 1\n",
       "1000    "
      ]
     },
     "execution_count": 9,
     "metadata": {},
     "output_type": "execute_result"
    }
   ],
   "source": [
    "H1 = H.subs('C',1e-6).subs('R',1e3)\n",
    "H1(j * omega)"
   ]
  },
  {
   "cell_type": "code",
   "execution_count": 10,
   "metadata": {},
   "outputs": [
    {
     "data": {
      "image/png": "[encoded data removed]",
      "text/plain": [
       "<Figure size 432x288 with 1 Axes>"
      ]
     },
     "metadata": {
      "needs_background": "light"
     },
     "output_type": "display_data"
    }
   ],
   "source": [
    "from numpy import logspace\n",
    "w = logspace(1, 6, 500)\n",
    "%matplotlib inline\n",
    "ax = H1(j * omega).dB.plot(w, log_frequency=True)"
   ]
  },
  {
   "cell_type": "code",
   "execution_count": 11,
   "metadata": {},
   "outputs": [
    {
     "data": {
      "image/png": "[encoded data removed]",
      "text/plain": [
       "<Figure size 432x288 with 1 Axes>"
      ]
     },
     "metadata": {
      "needs_background": "light"
     },
     "output_type": "display_data"
    }
   ],
   "source": [
    "ax = H1(j * omega).phase_degrees.plot(w, log_frequency=True)"
   ]
  },
  {
   "cell_type": "code",
   "execution_count": null,
   "metadata": {},
   "outputs": [],
   "source": []
  }
 ],
 "metadata": {
  "kernelspec": {
   "display_name": "Python 3",
   "language": "python",
   "name": "python3"
  },
  "language_info": {
   "codemirror_mode": {
    "name": "ipython",
    "version": 3
   },
   "file_extension": ".py",
   "mimetype": "text/x-python",
   "name": "python",
   "nbconvert_exporter": "python",
   "pygments_lexer": "ipython3",
   "version": "3.6.9"
  }
 },
 "nbformat": 4,
 "nbformat_minor": 1
}
