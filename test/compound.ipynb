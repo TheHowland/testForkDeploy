{
 "cells": [
  {
   "cell_type": "code",
   "execution_count": 1,
   "metadata": {},
   "outputs": [],
   "source": [
    "import schemdraw\n",
    "import schemdraw.elements as elm\n",
    "schemdraw.use('svg')"
   ]
  },
  {
   "cell_type": "code",
   "execution_count": 2,
   "metadata": {},
   "outputs": [
    {
     "data": {
      "image/png": "[encoded data removed]",
      "image/svg+xml": [
       "<svg height=\"68.8pt\" width=\"65.39797993388339pt\" viewBox=\"-10.100000000000012 -2.0 65.39797993388339 68.8\"><path d=\"M -8.100000000000012,58.32 L -8.100000000000012,6.48 L 53.297979933883376,6.48 L 53.297979933883376,58.32 L -8.100000000000012,58.32\" style=\"stroke:black;fill:none;stroke-width:2;stroke-linecap:round;stroke-linejoin:round;\" />\n",
       "<path d=\"M -0.0 16.2 a 4.05 4.05 -270 1 1 0.0 8.100000000000001\" stroke=\"black\" stroke-width=\"2\" fill=\"none\"/>\n",
       "<path d=\"M -0.0 24.3 a 4.05 4.05 -270 1 1 0.0 8.099999999999998\" stroke=\"black\" stroke-width=\"2\" fill=\"none\"/>\n",
       "<path d=\"M -0.0 32.4 a 4.05 4.05 -270 1 1 0.0 8.100000000000001\" stroke=\"black\" stroke-width=\"2\" fill=\"none\"/>\n",
       "<path d=\"M -0.0 40.5 a 4.05 4.05 -270 1 1 0.0 8.100000000000001\" stroke=\"black\" stroke-width=\"2\" fill=\"none\"/>\n",
       "<circle cx=\"30.61797993388338\" cy=\"20.087999999999997\" r=\"3.888\" style=\"stroke:black;fill:none;stroke-width:2;\"/>\n",
       "<circle cx=\"30.617979933883376\" cy=\"44.711999999999996\" r=\"3.888\" style=\"stroke:black;fill:none;stroke-width:2;\"/>\n",
       "<path d=\"M 0.0,-0.0 L -2.975891721928068e-15,16.2 M -8.927675165784204e-15,48.599999999999994 L -1.1903566887712272e-14,64.8\" style=\"stroke:black;fill:none;stroke-width:2;stroke-linecap:round;stroke-linejoin:round;\" />\n",
       "<path d=\"M 8.909979933883388,16.2 L 8.909979933883385,32.4 L 8.909979933883381,48.599999999999994\" style=\"stroke:black;fill:none;stroke-width:2;stroke-linecap:round;stroke-linejoin:round;\" />\n",
       "<path d=\"M 30.617979933883383,-0.0 L 30.61797993388338,16.2 M 33.85797993388338,23.976 L 45.197979933883374,42.12 M 30.617979933883376,48.599999999999994 L 30.617979933883372,64.8\" style=\"stroke:black;fill:none;stroke-width:2;stroke-linecap:round;stroke-linejoin:round;\" />\n",
       "<path d=\"M 10.529979933883386,32.4 L 17.73896990082508,32.4 L 24.947959867766773,32.4\" style=\"stroke:black;fill:none;stroke-width:2;stroke-dasharray:2,3.3;stroke-linecap:round;stroke-linejoin:round;\" /></svg>"
      ],
      "text/plain": [
       "<schemdraw.elements.compound.Relay at 0x7ae143847340>"
      ]
     },
     "execution_count": 2,
     "metadata": {},
     "output_type": "execute_result"
    }
   ],
   "source": [
    "elm.Relay()"
   ]
  },
  {
   "cell_type": "code",
   "execution_count": 3,
   "metadata": {},
   "outputs": [
    {
     "data": {
      "image/png": "[encoded data removed]",
      "image/svg+xml": [
       "<svg height=\"84.07134349911514pt\" width=\"84.07134349911514pt\" viewBox=\"-3.1455129855222164 -35.105311092704646 84.07134349911514 84.07134349911514\"><path d=\"M 35.5109025511884,46.9660324064105 L -1.1455129855222164,10.309616869699871 L 42.269414976882295,-33.105311092704646 L 78.92583051359291,3.551104444005984 L 35.5109025511884,46.9660324064105\" style=\"stroke:black;fill:none;stroke-width:2;stroke-linecap:round;stroke-linejoin:round;\" />\n",
       "<path d=\"M 11.46 11.46 a 4.05 4.05 -315 1 1 5.719999999999999 5.719999999999999\" stroke=\"black\" stroke-width=\"2\" fill=\"none\"/>\n",
       "<path d=\"M 17.18 17.18 a 4.05 4.05 -315 1 1 5.73 5.73\" stroke=\"black\" stroke-width=\"2\" fill=\"none\"/>\n",
       "<path d=\"M 22.91 22.91 a 4.05 4.05 -315 1 1 5.73 5.73\" stroke=\"black\" stroke-width=\"2\" fill=\"none\"/>\n",
       "<path d=\"M 28.64 28.64 a 4.05 4.05 -315 1 1 5.729999999999997 5.729999999999997\" stroke=\"black\" stroke-width=\"2\" fill=\"none\"/>\n",
       "<circle cx=\"35.854542257957945\" cy=\"-7.445820217007211\" r=\"3.888\" style=\"stroke:black;fill:none;stroke-width:2;\"/>\n",
       "<circle cx=\"53.266339637895484\" cy=\"9.965977162930338\" r=\"3.888\" style=\"stroke:black;fill:none;stroke-width:2;\"/>\n",
       "<path d=\"M 0.0,-0.0 L 11.455129855222067,11.455129855222072 M 34.3653895656662,34.36538956566622 L 45.82051942088827,45.82051942088829\" style=\"stroke:black;fill:none;stroke-width:2;stroke-linecap:round;stroke-linejoin:round;\" />\n",
       "<path d=\"M 17.75543708670708,5.15482262373706 L 29.210566941929144,16.609952478959134 L 40.665696797151206,28.065082334181206\" style=\"stroke:black;fill:none;stroke-width:2;stroke-linecap:round;stroke-linejoin:round;\" />\n",
       "<path d=\"M 21.650181237482585,-21.65018123748258 L 33.105311092704646,-10.195051382260507 M 40.89479939425566,-6.987615022798326 L 61.74313573075982,-2.1764604836050503 M 56.01557080314878,12.715208328183639 L 67.47070065837084,24.17033818340571\" style=\"stroke:black;fill:none;stroke-width:2;stroke-linecap:round;stroke-linejoin:round;\" />\n",
       "<path d=\"M 30.356079927451354,15.464439493436926 L 35.45360561858161,10.36691380230667 L 40.55113130971186,5.269388111176415\" style=\"stroke:black;fill:none;stroke-width:2;stroke-dasharray:2,3.3;stroke-linecap:round;stroke-linejoin:round;\" /></svg>"
      ],
      "text/plain": [
       "<schemdraw.elements.compound.Relay at 0x7ae16c64e580>"
      ]
     },
     "execution_count": 3,
     "metadata": {},
     "output_type": "execute_result"
    }
   ],
   "source": [
    "elm.Relay(cycloid=True, theta=45)"
   ]
  },
  {
   "cell_type": "code",
   "execution_count": 4,
   "metadata": {},
   "outputs": [
    {
     "data": {
      "image/png": "[encoded data removed]",
      "image/svg+xml": [
       "<svg height=\"68.8pt\" width=\"61.18597993388339pt\" viewBox=\"-2.000000000000012 -2.0 61.18597993388339 68.8\"><path d=\"M -0.0 16.2 a 4.05 4.05 -270 1 1 0.0 8.100000000000001\" stroke=\"black\" stroke-width=\"2\" fill=\"none\"/>\n",
       "<path d=\"M -0.0 24.3 a 4.05 4.05 -270 1 1 0.0 8.099999999999998\" stroke=\"black\" stroke-width=\"2\" fill=\"none\"/>\n",
       "<path d=\"M -0.0 32.4 a 4.05 4.05 -270 1 1 0.0 8.100000000000001\" stroke=\"black\" stroke-width=\"2\" fill=\"none\"/>\n",
       "<path d=\"M -0.0 40.5 a 4.05 4.05 -270 1 1 0.0 8.100000000000001\" stroke=\"black\" stroke-width=\"2\" fill=\"none\"/>\n",
       "<circle cx=\"40.33797993388338\" cy=\"20.087999999999997\" r=\"3.888\" style=\"stroke:black;fill:none;stroke-width:2;\"/>\n",
       "<circle cx=\"27.37797993388338\" cy=\"44.711999999999996\" r=\"3.888\" style=\"stroke:black;fill:none;stroke-width:2;\"/>\n",
       "<circle cx=\"53.29797993388338\" cy=\"44.712\" r=\"3.888\" style=\"stroke:black;fill:none;stroke-width:2;\"/>\n",
       "<path d=\"M 0.0,-0.0 L -2.975891721928068e-15,16.2 M -8.927675165784204e-15,48.599999999999994 L -1.1903566887712272e-14,64.8\" style=\"stroke:black;fill:none;stroke-width:2;stroke-linecap:round;stroke-linejoin:round;\" />\n",
       "<path d=\"M 40.33797993388338,16.2 M 43.57797993388338,23.976 L 48.437979933883376,38.879999999999995 M 53.29797993388338,48.599999999999994\" style=\"stroke:black;fill:none;stroke-width:2;stroke-linecap:round;stroke-linejoin:round;\" />\n",
       "<path d=\"M 40.33797993388338,16.2 L 40.33797993388338,8.1 L 40.33797993388338,-0.0\" style=\"stroke:black;fill:none;stroke-width:2;stroke-linecap:round;stroke-linejoin:round;\" />\n",
       "<path d=\"M 53.29797993388338,48.599999999999994 L 53.29797993388338,56.699999999999996 L 53.29797993388338,64.8\" style=\"stroke:black;fill:none;stroke-width:2;stroke-linecap:round;stroke-linejoin:round;\" />\n",
       "<path d=\"M 27.37797993388338,48.599999999999994 L 27.37797993388338,56.699999999999996 L 27.377979933883378,64.8\" style=\"stroke:black;fill:none;stroke-width:2;stroke-linecap:round;stroke-linejoin:round;\" />\n",
       "<path d=\"M 10.529979933883386,32.4 L 24.21896990082508,32.4 L 37.90795986776678,32.4\" style=\"stroke:black;fill:none;stroke-width:2;stroke-dasharray:2,3.3;stroke-linecap:round;stroke-linejoin:round;\" /></svg>"
      ],
      "text/plain": [
       "<schemdraw.elements.compound.Relay at 0x7ae16c648850>"
      ]
     },
     "execution_count": 4,
     "metadata": {},
     "output_type": "execute_result"
    }
   ],
   "source": [
    "elm.Relay(switch='spdt', box=False, core=False)"
   ]
  },
  {
   "cell_type": "code",
   "execution_count": 5,
   "metadata": {},
   "outputs": [
    {
     "data": {
      "image/png": "[encoded data removed]",
      "image/svg+xml": [
       "<svg height=\"68.8pt\" width=\"64.4259799338834pt\" viewBox=\"-2.000000000000012 -2.0 64.4259799338834 68.8\"><path d=\"M -0.0 16.2 a 4.05 4.05 -270 1 1 0.0 8.100000000000001\" stroke=\"black\" stroke-width=\"2\" fill=\"none\"/>\n",
       "<path d=\"M -0.0 24.3 a 4.05 4.05 -270 1 1 0.0 8.099999999999998\" stroke=\"black\" stroke-width=\"2\" fill=\"none\"/>\n",
       "<path d=\"M -0.0 32.4 a 4.05 4.05 -270 1 1 0.0 8.100000000000001\" stroke=\"black\" stroke-width=\"2\" fill=\"none\"/>\n",
       "<path d=\"M -0.0 40.5 a 4.05 4.05 -270 1 1 0.0 8.100000000000001\" stroke=\"black\" stroke-width=\"2\" fill=\"none\"/>\n",
       "<circle cx=\"43.57797993388337\" cy=\"44.711999999999996\" r=\"3.888\" style=\"stroke:black;fill:none;stroke-width:2;\"/>\n",
       "<circle cx=\"30.61797993388338\" cy=\"20.087999999999994\" r=\"3.888\" style=\"stroke:black;fill:none;stroke-width:2;\"/>\n",
       "<circle cx=\"56.53797993388338\" cy=\"20.088\" r=\"3.888\" style=\"stroke:black;fill:none;stroke-width:2;\"/>\n",
       "<path d=\"M 0.0,-0.0 L -2.975891721928068e-15,16.2 M -8.927675165784204e-15,48.599999999999994 L -1.1903566887712272e-14,64.8\" style=\"stroke:black;fill:none;stroke-width:2;stroke-linecap:round;stroke-linejoin:round;\" />\n",
       "<path d=\"M 8.909979933883388,16.2 L 8.909979933883385,32.4 L 8.909979933883381,48.599999999999994\" style=\"stroke:black;fill:none;stroke-width:2;stroke-linecap:round;stroke-linejoin:round;\" />\n",
       "<path d=\"M 56.53797993388338,16.200000000000003 M 51.67797993388338,25.92 L 46.81797993388338,40.824 M 43.57797993388337,48.599999999999994\" style=\"stroke:black;fill:none;stroke-width:2;stroke-linecap:round;stroke-linejoin:round;\" />\n",
       "<path d=\"M 43.57797993388337,48.599999999999994 L 43.57797993388337,56.699999999999996 L 43.57797993388337,64.8\" style=\"stroke:black;fill:none;stroke-width:2;stroke-linecap:round;stroke-linejoin:round;\" />\n",
       "<path d=\"M 56.53797993388338,16.200000000000003 L 56.53797993388338,8.100000000000001 L 56.53797993388338,-0.0\" style=\"stroke:black;fill:none;stroke-width:2;stroke-linecap:round;stroke-linejoin:round;\" />\n",
       "<path d=\"M 30.61797993388338,16.199999999999996 L 30.61797993388338,8.099999999999998 L 30.61797993388338,-0.0\" style=\"stroke:black;fill:none;stroke-width:2;stroke-linecap:round;stroke-linejoin:round;\" /></svg>"
      ],
      "text/plain": [
       "<schemdraw.elements.compound.Relay at 0x7ae143847b80>"
      ]
     },
     "execution_count": 5,
     "metadata": {},
     "output_type": "execute_result"
    }
   ],
   "source": [
    "elm.Relay(switch='spdt', box=False, swreverse=True, link=False)"
   ]
  },
  {
   "cell_type": "code",
   "execution_count": 6,
   "metadata": {},
   "outputs": [
    {
     "data": {
      "image/png": "[encoded data removed]",
      "image/svg+xml": [
       "<svg height=\"68.8pt\" width=\"125.98597993388339pt\" viewBox=\"-10.100000000000012 -2.0 125.98597993388339 68.8\"><path d=\"M -8.100000000000012,58.32 L -8.100000000000012,6.48 L 113.88597993388338,6.48 L 113.88597993388338,58.32 L -8.100000000000012,58.32\" style=\"stroke:black;fill:lightgray;stroke-width:2;stroke-linecap:round;stroke-linejoin:round;\" />\n",
       "<path d=\"M -0.0 16.2 a 4.05 4.05 -270 1 1 0.0 8.100000000000001\" stroke=\"black\" stroke-width=\"2\" fill=\"none\"/>\n",
       "<path d=\"M -0.0 24.3 a 4.05 4.05 -270 1 1 0.0 8.099999999999998\" stroke=\"black\" stroke-width=\"2\" fill=\"none\"/>\n",
       "<path d=\"M -0.0 32.4 a 4.05 4.05 -270 1 1 0.0 8.100000000000001\" stroke=\"black\" stroke-width=\"2\" fill=\"none\"/>\n",
       "<path d=\"M -0.0 40.5 a 4.05 4.05 -270 1 1 0.0 8.100000000000001\" stroke=\"black\" stroke-width=\"2\" fill=\"none\"/>\n",
       "<circle cx=\"88.93797993388337\" cy=\"20.087999999999997\" r=\"3.888\" style=\"stroke:black;fill:none;stroke-width:2;\"/>\n",
       "<circle cx=\"75.97797993388336\" cy=\"44.711999999999996\" r=\"3.888\" style=\"stroke:black;fill:none;stroke-width:2;\"/>\n",
       "<circle cx=\"101.89797993388338\" cy=\"44.712\" r=\"3.888\" style=\"stroke:black;fill:none;stroke-width:2;\"/>\n",
       "<circle cx=\"43.57797993388338\" cy=\"20.08799999999999\" r=\"3.888\" style=\"stroke:black;fill:none;stroke-width:2;\"/>\n",
       "<circle cx=\"30.617979933883376\" cy=\"44.71199999999999\" r=\"3.888\" style=\"stroke:black;fill:none;stroke-width:2;\"/>\n",
       "<circle cx=\"56.53797993388338\" cy=\"44.711999999999996\" r=\"3.888\" style=\"stroke:black;fill:none;stroke-width:2;\"/>\n",
       "<path d=\"M 0.0,-0.0 L -2.975891721928068e-15,16.2 M -8.927675165784204e-15,48.599999999999994 L -1.1903566887712272e-14,64.8\" style=\"stroke:black;fill:none;stroke-width:2;stroke-linecap:round;stroke-linejoin:round;\" />\n",
       "<path d=\"M 8.909979933883388,16.2 L 8.909979933883385,32.4 L 8.909979933883381,48.599999999999994\" style=\"stroke:black;fill:none;stroke-width:2;stroke-linecap:round;stroke-linejoin:round;\" />\n",
       "<path d=\"M 88.93797993388337,16.2 M 92.17797993388338,23.976 L 97.03797993388338,38.879999999999995 M 101.89797993388338,48.599999999999994\" style=\"stroke:black;fill:none;stroke-width:2;stroke-linecap:round;stroke-linejoin:round;\" />\n",
       "<path d=\"M 43.57797993388338,16.19999999999999 M 46.817979933883386,23.975999999999992 L 51.67797993388337,38.87999999999999 M 56.53797993388338,48.59999999999999\" style=\"stroke:black;fill:none;stroke-width:2;stroke-linecap:round;stroke-linejoin:round;\" />\n",
       "<path d=\"M 101.89797993388338,48.599999999999994 L 101.89797993388338,56.699999999999996 L 101.89797993388338,64.8\" style=\"stroke:black;fill:none;stroke-width:2;stroke-linecap:round;stroke-linejoin:round;\" />\n",
       "<path d=\"M 75.97797993388336,48.599999999999994 L 75.97797993388336,56.699999999999996 L 75.97797993388336,64.8\" style=\"stroke:black;fill:none;stroke-width:2;stroke-linecap:round;stroke-linejoin:round;\" />\n",
       "<path d=\"M 56.53797993388338,48.59999999999999 L 56.53797993388338,56.699999999999996 L 56.53797993388338,64.8\" style=\"stroke:black;fill:none;stroke-width:2;stroke-linecap:round;stroke-linejoin:round;\" />\n",
       "<path d=\"M 30.617979933883376,48.59999999999998 L 30.617979933883376,56.69999999999999 L 30.617979933883372,64.8\" style=\"stroke:black;fill:none;stroke-width:2;stroke-linecap:round;stroke-linejoin:round;\" />\n",
       "<path d=\"M 88.93797993388337,16.2 L 88.93797993388337,8.1 L 88.93797993388337,-0.0\" style=\"stroke:black;fill:none;stroke-width:2;stroke-linecap:round;stroke-linejoin:round;\" />\n",
       "<path d=\"M 43.57797993388338,16.19999999999999 L 43.57797993388338,8.099999999999994 L 43.57797993388338,-0.0\" style=\"stroke:black;fill:none;stroke-width:2;stroke-linecap:round;stroke-linejoin:round;\" />\n",
       "<path d=\"M 10.529979933883386,32.4 L 46.89896990082508,32.4 L 83.26795986776676,32.4\" style=\"stroke:black;fill:none;stroke-width:2;stroke-dasharray:2,3.3;stroke-linecap:round;stroke-linejoin:round;\" /></svg>"
      ],
      "text/plain": [
       "<schemdraw.elements.compound.Relay at 0x7ae16c648d60>"
      ]
     },
     "execution_count": 6,
     "metadata": {},
     "output_type": "execute_result"
    }
   ],
   "source": [
    "elm.Relay(switch='dpdt', boxfill='lightgray')"
   ]
  },
  {
   "cell_type": "code",
   "execution_count": 7,
   "metadata": {},
   "outputs": [
    {
     "data": {
      "image/svg+xml": [
       "<svg height=\"157.31844616523162pt\" width=\"87.41740459313625pt\" viewBox=\"-10.099999999999998 -99.19999999999999 87.41740459313625 157.31844616523162\"><path d=\"M 22.145194229346032,54.55660154870847 L -3.7748057706539644,9.661844616523167 L 49.397404593136265,-21.03714535041852 L 75.31740459313626,23.857611581766783 L 22.145194229346032,54.55660154870847\" style=\"stroke:black;fill:none;stroke-width:2;stroke-linecap:round;stroke-linejoin:round;\" />\n",
       "<path d=\"M 8.1 14.03 a 4.05 4.05 -300 1 1 4.050000000000001 7.01\" stroke=\"black\" stroke-width=\"2\" fill=\"none\"/>\n",
       "<path d=\"M 12.15 21.04 a 4.05 4.05 -300 1 1 4.049999999999999 7.02\" stroke=\"black\" stroke-width=\"2\" fill=\"none\"/>\n",
       "<path d=\"M 16.2 28.06 a 4.05 4.05 -300 1 1 4.050000000000001 7.010000000000002\" stroke=\"black\" stroke-width=\"2\" fill=\"none\"/>\n",
       "<path d=\"M 20.25 35.07 a 4.05 4.05 -300 1 1 4.050000000000001 7.020000000000003\" stroke=\"black\" stroke-width=\"2\" fill=\"none\"/>\n",
       "<circle cx=\"36.559948435305195\" cy=\"2.0877283442801158\" r=\"3.888\" style=\"stroke:black;fill:none;stroke-width:2;\"/>\n",
       "<circle cx=\"48.871948435305185\" cy=\"23.412737887068133\" r=\"3.888\" style=\"stroke:black;fill:none;stroke-width:2;\"/>\n",
       "<path d=\"M 0.0,-0.0 L 8.099999999999996,14.029611541307908 M 24.299999999999986,42.088834623923724 L 32.399999999999984,56.11844616523163\" style=\"stroke:black;fill:none;stroke-width:2;stroke-linecap:round;stroke-linejoin:round;\" />\n",
       "<path d=\"M 15.816268969952606,9.574621574366214 L 23.9162689699526,23.604233115674123 L 32.0162689699526,37.63384465698202\" style=\"stroke:black;fill:none;stroke-width:2;stroke-linecap:round;stroke-linejoin:round;\" />\n",
       "<path d=\"M 26.515948435305198,-15.30898996694169 L 34.61594843530519,-1.2793784256337817 M 41.309870743566776,3.834835114194017 L 60.20259882248231,13.878000040458874 M 50.81594843530518,26.779844656982032 L 58.91594843530518,40.80945619828994\" style=\"stroke:black;fill:none;stroke-width:2;stroke-linecap:round;stroke-linejoin:round;\" />\n",
       "<path d=\"M 25.319230124083393,22.794233115674118 L 31.562398571082042,19.189738132203274 L 37.80556701808069,15.58524314873243\" style=\"stroke:black;fill:none;stroke-width:2;stroke-dasharray:2,3.3;stroke-linecap:round;stroke-linejoin:round;\" />\n",
       "<path d=\"M 0.0,-0.0 L 1.9839278146187122e-15,-32.4 L -8.099999999999998,-35.099999999999994 L 8.100000000000001,-40.5 L -8.099999999999996,-45.89999999999999 L 8.100000000000003,-51.3 L -8.099999999999996,-56.699999999999996 L 8.100000000000003,-62.099999999999994 L 3.9678556292374245e-15,-64.8 L 5.951783443856136e-15,-97.19999999999999\" style=\"stroke:black;fill:none;stroke-width:2;stroke-linecap:round;stroke-linejoin:round;\" />\n",
       "<circle cx=\"26.515948435305198\" cy=\"-15.30898996694169\" r=\"2.4299999999999997\" style=\"stroke:red;fill:red;stroke-width:2;\"/>\n",
       "<circle cx=\"58.91594843530518\" cy=\"40.80945619828994\" r=\"2.4299999999999997\" style=\"stroke:blue;fill:blue;stroke-width:2;\"/></svg>"
      ],
      "text/plain": [
       "<svg height=\"157.31844616523162pt\" width=\"87.41740459313625pt\" viewBox=\"-10.099999999999998 -99.19999999999999 87.41740459313625 157.31844616523162\"><path d=\"M 22.145194229346032,54.55660154870847 L -3.7748057706539644,9.661844616523167 L 49.397404593136265,-21.03714535041852 L 75.31740459313626,23.857611581766783 L 22.145194229346032,54.55660154870847\" style=\"stroke:black;fill:none;stroke-width:2;stroke-linecap:round;stroke-linejoin:round;\" />\n",
       "<path d=\"M 8.1 14.03 a 4.05 4.05 -300 1 1 4.050000000000001 7.01\" stroke=\"black\" stroke-width=\"2\" fill=\"none\"/>\n",
       "<path d=\"M 12.15 21.04 a 4.05 4.05 -300 1 1 4.049999999999999 7.02\" stroke=\"black\" stroke-width=\"2\" fill=\"none\"/>\n",
       "<path d=\"M 16.2 28.06 a 4.05 4.05 -300 1 1 4.050000000000001 7.010000000000002\" stroke=\"black\" stroke-width=\"2\" fill=\"none\"/>\n",
       "<path d=\"M 20.25 35.07 a 4.05 4.05 -300 1 1 4.050000000000001 7.020000000000003\" stroke=\"black\" stroke-width=\"2\" fill=\"none\"/>\n",
       "<circle cx=\"36.559948435305195\" cy=\"2.0877283442801158\" r=\"3.888\" style=\"stroke:black;fill:none;stroke-width:2;\"/>\n",
       "<circle cx=\"48.871948435305185\" cy=\"23.412737887068133\" r=\"3.888\" style=\"stroke:black;fill:none;stroke-width:2;\"/>\n",
       "<path d=\"M 0.0,-0.0 L 8.099999999999996,14.029611541307908 M 24.299999999999986,42.088834623923724 L 32.399999999999984,56.11844616523163\" style=\"stroke:black;fill:none;stroke-width:2;stroke-linecap:round;stroke-linejoin:round;\" />\n",
       "<path d=\"M 15.816268969952606,9.574621574366214 L 23.9162689699526,23.604233115674123 L 32.0162689699526,37.63384465698202\" style=\"stroke:black;fill:none;stroke-width:2;stroke-linecap:round;stroke-linejoin:round;\" />\n",
       "<path d=\"M 26.515948435305198,-15.30898996694169 L 34.61594843530519,-1.2793784256337817 M 41.309870743566776,3.834835114194017 L 60.20259882248231,13.878000040458874 M 50.81594843530518,26.779844656982032 L 58.91594843530518,40.80945619828994\" style=\"stroke:black;fill:none;stroke-width:2;stroke-linecap:round;stroke-linejoin:round;\" />\n",
       "<path d=\"M 25.319230124083393,22.794233115674118 L 31.562398571082042,19.189738132203274 L 37.80556701808069,15.58524314873243\" style=\"stroke:black;fill:none;stroke-width:2;stroke-dasharray:2,3.3;stroke-linecap:round;stroke-linejoin:round;\" />\n",
       "<path d=\"M 0.0,-0.0 L 1.9839278146187122e-15,-32.4 L -8.099999999999998,-35.099999999999994 L 8.100000000000001,-40.5 L -8.099999999999996,-45.89999999999999 L 8.100000000000003,-51.3 L -8.099999999999996,-56.699999999999996 L 8.100000000000003,-62.099999999999994 L 3.9678556292374245e-15,-64.8 L 5.951783443856136e-15,-97.19999999999999\" style=\"stroke:black;fill:none;stroke-width:2;stroke-linecap:round;stroke-linejoin:round;\" />\n",
       "<circle cx=\"26.515948435305198\" cy=\"-15.30898996694169\" r=\"2.4299999999999997\" style=\"stroke:red;fill:red;stroke-width:2;\"/>\n",
       "<circle cx=\"58.91594843530518\" cy=\"40.80945619828994\" r=\"2.4299999999999997\" style=\"stroke:blue;fill:blue;stroke-width:2;\"/></svg>"
      ]
     },
     "execution_count": 7,
     "metadata": {},
     "output_type": "execute_result"
    }
   ],
   "source": [
    "d = schemdraw.Drawing()\n",
    "R = d.add(elm.Relay(theta=30))\n",
    "d.add(elm.Resistor('up', at=R.in1))\n",
    "d.add(elm.Dot(at=R.a, color='red'))\n",
    "d.add(elm.Dot(at=R.b, color='blue'))\n",
    "d.draw()"
   ]
  },
  {
   "cell_type": "code",
   "execution_count": 8,
   "metadata": {},
   "outputs": [
    {
     "data": {
      "image/png": "[encoded data removed]",
      "image/svg+xml": [
       "<svg height=\"65.56pt\" width=\"81.814pt\" viewBox=\"-16.580000000000005 -8.48 81.814 65.56\"><path d=\"M -14.580000000000005,55.08 L -14.580000000000005,-6.48 L 63.23399999999999,-6.48 L 63.23399999999999,55.08 L -14.580000000000005,55.08\" style=\"stroke:black;fill:lightgray;stroke-width:2;stroke-linecap:round;stroke-linejoin:round;\" />\n",
       "<polygon points=\"8.099999999999996,18.63 -5.505399685566926e-15,29.969999999999995 -8.100000000000003,18.63 \" style=\"stroke:black;fill:blue;stroke-width:2;stroke-linecap:round;stroke-linejoin:round;\"/>\n",
       "<path d=\"M 56.75399999999999 40.931999999999995 L 49.725453166675535 39.17486329166888 L 51.83401721667287 36.71487190000532 L 44.28 30.24 L 51.83401721667287 36.71487190000532 L 53.94258126667021 34.254880508341756 Z\" style=\"stroke:black;fill:black;stroke-width:2;stroke-linecap:butt;stroke-linejoin:miter;\" />\n",
       "<path d=\"M 35.64 17.82 L 29.160000000000004 20.25 L 29.160000000000004 17.82 L 25.92 17.82 L 29.160000000000004 17.82 L 29.160000000000004 15.39 Z\" style=\"stroke:black;fill:black;stroke-width:2;stroke-linecap:butt;stroke-linejoin:miter;\" />\n",
       "<path d=\"M 35.64 30.779999999999998 L 29.160000000000004 33.209999999999994 L 29.160000000000004 30.779999999999998 L 25.92 30.779999999999998 L 29.160000000000004 30.779999999999998 L 29.160000000000004 28.349999999999998 Z\" style=\"stroke:black;fill:black;stroke-width:2;stroke-linecap:butt;stroke-linejoin:miter;\" />\n",
       "<path d=\"M 0.0,-0.0 L -3.4222754802172776e-15,18.63 M 8.099999999999994,29.969999999999995 L -8.100000000000005,29.969999999999995 M -5.505399685566926e-15,29.969999999999995 L -8.927675165784204e-15,48.599999999999994\" style=\"stroke:black;fill:none;stroke-width:2;stroke-linecap:round;stroke-linejoin:round;\" />\n",
       "<path d=\"M 44.28,12.42 L 44.28,36.18\" style=\"stroke:black;fill:none;stroke-width:2;stroke-linecap:round;stroke-linejoin:round;\" />\n",
       "<path d=\"M 44.28,18.36 L 56.75399999999999,7.668 L 56.75399999999999,1.7280000000000002\" style=\"stroke:black;fill:none;stroke-width:2;stroke-linecap:round;stroke-linejoin:round;\" />\n",
       "<path d=\"M 44.28,30.24 L 56.75399999999999,40.931999999999995 L 56.75399999999999,46.872\" style=\"stroke:black;fill:none;stroke-width:2;stroke-linecap:round;stroke-linejoin:round;\" />\n",
       "<path d=\"M 16.2,17.82 L 25.92,17.82 L 35.64,17.82\" style=\"stroke:black;fill:none;stroke-width:2;stroke-linecap:round;stroke-linejoin:round;\" />\n",
       "<path d=\"M 16.2,30.779999999999998 L 25.92,30.779999999999998 L 35.64,30.779999999999998\" style=\"stroke:black;fill:none;stroke-width:2;stroke-linecap:round;stroke-linejoin:round;\" />\n",
       "<path d=\"M 56.75399999999999,1.7280000000000002 L 59.99399999999999,1.7280000000000002 L 63.23399999999999,1.7280000000000002\" style=\"stroke:black;fill:none;stroke-width:2;stroke-linecap:round;stroke-linejoin:round;\" />\n",
       "<path d=\"M 56.75399999999999,46.872 L 59.99399999999999,46.872 L 63.23399999999999,46.872\" style=\"stroke:black;fill:none;stroke-width:2;stroke-linecap:round;stroke-linejoin:round;\" />\n",
       "<path d=\"M 0.0,-0.0 L -7.290000000000003,-8.927675165784207e-16 L -14.580000000000005,-1.7855350331568414e-15\" style=\"stroke:black;fill:none;stroke-width:2;stroke-linecap:round;stroke-linejoin:round;\" />\n",
       "<path d=\"M -8.927675165784204e-15,48.599999999999994 L -7.290000000000007,48.599999999999994 L -14.580000000000005,48.599999999999994\" style=\"stroke:black;fill:none;stroke-width:2;stroke-linecap:round;stroke-linejoin:round;\" /></svg>"
      ],
      "text/plain": [
       "<schemdraw.elements.compound.Optocoupler at 0x7ae143847fa0>"
      ]
     },
     "execution_count": 8,
     "metadata": {},
     "output_type": "execute_result"
    }
   ],
   "source": [
    "elm.Optocoupler(fill='blue', boxfill='lightgray')"
   ]
  },
  {
   "cell_type": "code",
   "execution_count": 9,
   "metadata": {},
   "outputs": [
    {
     "data": {
      "image/svg+xml": [
       "<svg height=\"102.55230052109385pt\" width=\"102.55230052109385pt\" viewBox=\"-16.891668811788694 -51.29524214363896 102.55230052109385 102.55230052109385\"><path d=\"M 28.637824638055164,49.257058377454904 L -14.891668811788694,5.727564927611037 L 40.131138259461316,-49.29524214363896 L 83.66063170930518,-5.765748693795096 L 28.637824638055164,49.257058377454904\" style=\"stroke:black;fill:none;stroke-width:2;stroke-linecap:round;stroke-linejoin:round;\" />\n",
       "<polygon points=\"18.90096426111641,7.445834405894347 21.191990232160823,21.191990232160833 7.445834405894339,18.900964261116417 \" style=\"stroke:black;fill:none;stroke-width:2;stroke-linecap:round;stroke-linejoin:round;\"/>\n",
       "<path d=\"M 69.07443302698907 -11.187843491933547 L 62.86201661732537 -7.460393646135326 L 62.61351996093882 -10.690850179160451 L 52.693597334021526 -9.927779207859121 L 62.61351996093882 -10.690850179160451 L 62.36502330455227 -13.921306712185576 Z\" style=\"stroke:black;fill:black;stroke-width:2;stroke-linecap:butt;stroke-linejoin:miter;\" />\n",
       "<path d=\"M 37.801928522232835 -12.600642840744275 L 34.938146058427314 -6.3003214203721365 L 33.219876580144 -8.018590898655447 L 30.92885060909959 -5.7275649276110325 L 33.219876580144 -8.018590898655447 L 31.501607101860696 -9.736860376938758 Z\" style=\"stroke:black;fill:black;stroke-width:2;stroke-linecap:butt;stroke-linejoin:miter;\" />\n",
       "<path d=\"M 46.966032406410484 -3.436538956566621 L 44.10224994260496 2.863782463805517 L 42.38398046432165 1.145512985522207 L 40.09295449327724 3.436538956566621 L 42.38398046432165 1.145512985522207 L 40.66571098603834 -0.5727564927611031 Z\" style=\"stroke:black;fill:black;stroke-width:2;stroke-linecap:butt;stroke-linejoin:miter;\" />\n",
       "<path d=\"M 0.0,-0.0 L 13.173399333505376,13.173399333505381 M 26.919555159771857,15.464425304549799 L 15.464425304549788,26.919555159771868 M 21.191990232160823,21.191990232160833 L 34.3653895656662,34.36538956566622\" style=\"stroke:black;fill:none;stroke-width:2;stroke-linecap:round;stroke-linejoin:round;\" />\n",
       "<path d=\"M 40.09295449327725,-22.528422048603396 L 56.89381161426961,-5.727564927611031\" style=\"stroke:black;fill:none;stroke-width:2;stroke-linecap:round;stroke-linejoin:round;\" />\n",
       "<path d=\"M 44.29316877352534,-18.328207768355306 L 45.55323305759976,-34.709043461322864 L 41.35301877735167,-38.909257741570954\" style=\"stroke:black;fill:none;stroke-width:2;stroke-linecap:round;stroke-linejoin:round;\" />\n",
       "<path d=\"M 52.693597334021526,-9.927779207859121 L 69.07443302698907,-11.187843491933545 L 73.27464730723717,-6.987629211685453\" style=\"stroke:black;fill:none;stroke-width:2;stroke-linecap:round;stroke-linejoin:round;\" />\n",
       "<path d=\"M 24.055772695966347,1.1455129855222101 L 30.92885060909959,-5.7275649276110325 L 37.801928522232835,-12.600642840744275\" style=\"stroke:black;fill:none;stroke-width:2;stroke-linecap:round;stroke-linejoin:round;\" />\n",
       "<path d=\"M 33.219876580144,10.309616869699864 L 40.09295449327724,3.436538956566621 L 46.966032406410484,-3.436538956566621\" style=\"stroke:black;fill:none;stroke-width:2;stroke-linecap:round;stroke-linejoin:round;\" />\n",
       "<path d=\"M 48.49338305377343,-14.127993488107213 L 46.77511357549012,-12.409724009823908 L 45.056844097206806,-10.691454531540597\" style=\"stroke:black;fill:none;stroke-width:2;stroke-linecap:round;stroke-linejoin:round;\" />\n",
       "<path d=\"M 45.056844097206806,-10.691454531540597 L 55.93921745966777,0.19091883092036985 L 66.82159082212874,11.07329219338134\" style=\"stroke:black;fill:none;stroke-width:2;stroke-linecap:round;stroke-linejoin:round;\" />\n",
       "<path d=\"M 41.35301877735167,-38.909257741570954 L 43.64404474839609,-41.20028371261537 L 45.935070719440496,-43.49130968365978\" style=\"stroke:black;fill:none;stroke-width:2;stroke-linecap:round;stroke-linejoin:round;\" />\n",
       "<path d=\"M 73.27464730723717,-6.987629211685453 L 75.5656732782816,-9.278655182729869 L 77.856699249326,-11.56968115377428\" style=\"stroke:black;fill:none;stroke-width:2;stroke-linecap:round;stroke-linejoin:round;\" />\n",
       "<path d=\"M 0.0,-0.0 L -5.154808434849935,5.154808434849932 L -10.30961686969987,10.309616869699864\" style=\"stroke:black;fill:none;stroke-width:2;stroke-linecap:round;stroke-linejoin:round;\" />\n",
       "<path d=\"M 34.3653895656662,34.36538956566622 L 29.21058113081627,39.520198000516146 L 24.055772695966336,44.67500643536608\" style=\"stroke:black;fill:none;stroke-width:2;stroke-linecap:round;stroke-linejoin:round;\" />\n",
       "<path d=\"M 66.82159082212874,11.07329219338134 L 66.82159082212874,24.03329219338134 L 58.72159082212874,24.03329219338134 L 74.92159082212873,24.03329219338134 M 61.15159082212874,27.92129219338134 L 72.49159082212873,27.92129219338134 M 65.20159082212875,31.80929219338134 L 68.44159082212873,31.80929219338134\" style=\"stroke:black;fill:none;stroke-width:2;stroke-linecap:round;stroke-linejoin:round;\" /></svg>"
      ],
      "text/plain": [
       "<schemdraw.schemdraw.Drawing at 0x7ae1437e0d30>"
      ]
     },
     "execution_count": 9,
     "metadata": {},
     "output_type": "execute_result"
    }
   ],
   "source": [
    "schemdraw.Drawing(\n",
    "Q := elm.Optocoupler(base=True, theta=45),\n",
    "     elm.Ground(at=(Q, 'base'))\n",
    "     )"
   ]
  },
  {
   "cell_type": "code",
   "execution_count": null,
   "metadata": {},
   "outputs": [],
   "source": []
  },
  {
   "cell_type": "code",
   "execution_count": null,
   "metadata": {},
   "outputs": [],
   "source": []
  }
 ],
 "metadata": {
  "kernelspec": {
   "display_name": "Python 3",
   "language": "python",
   "name": "python3"
  },
  "language_info": {
   "codemirror_mode": {
    "name": "ipython",
    "version": 3
   },
   "file_extension": ".py",
   "mimetype": "text/x-python",
   "name": "python",
   "nbconvert_exporter": "python",
   "pygments_lexer": "ipython3",
   "version": "3.8.5"
  }
 },
 "nbformat": 4,
 "nbformat_minor": 4
}
