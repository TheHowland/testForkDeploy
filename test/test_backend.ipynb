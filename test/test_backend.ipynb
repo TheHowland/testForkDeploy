{
 "cells": [
  {
   "cell_type": "code",
   "execution_count": 1,
   "id": "e5ced741",
   "metadata": {},
   "outputs": [],
   "source": [
    "import schemdraw\n",
    "from schemdraw import elements as elm\n",
    "from schemdraw import logic\n",
    "from schemdraw import transform\n",
    "from schemdraw.util import Point"
   ]
  },
  {
   "cell_type": "code",
   "execution_count": 2,
   "id": "341e551e",
   "metadata": {},
   "outputs": [
    {
     "data": {
      "text/plain": [
       "Point(1,1)"
      ]
     },
     "execution_count": 2,
     "metadata": {},
     "output_type": "execute_result"
    }
   ],
   "source": [
    "Point((1, 1))"
   ]
  },
  {
   "cell_type": "code",
   "execution_count": 3,
   "id": "fb5dca74",
   "metadata": {},
   "outputs": [
    {
     "data": {
      "text/plain": [
       "Point(3,3)"
      ]
     },
     "execution_count": 3,
     "metadata": {},
     "output_type": "execute_result"
    }
   ],
   "source": [
    "p1 = Point((1, 1))\n",
    "p2 = Point((2, 2))\n",
    "p3 = p1 + p2\n",
    "assert p3 == Point((3, 3))\n",
    "p3"
   ]
  },
  {
   "cell_type": "code",
   "execution_count": 4,
   "id": "fbf88482",
   "metadata": {},
   "outputs": [
    {
     "data": {
      "text/plain": [
       "Point(1,1)"
      ]
     },
     "execution_count": 4,
     "metadata": {},
     "output_type": "execute_result"
    }
   ],
   "source": [
    "p4 = p2-p1\n",
    "assert p4 == Point((1, 1))\n",
    "assert p2-1 == Point((1, 1))\n",
    "assert 1 - p2 == Point((-1, -1))\n",
    "p4"
   ]
  },
  {
   "cell_type": "code",
   "execution_count": 5,
   "id": "f8a831c7",
   "metadata": {},
   "outputs": [
    {
     "data": {
      "text/plain": [
       "Transform: xy=Point(0,0); theta=0; scale=1; lshift=Point(0,0)"
      ]
     },
     "execution_count": 5,
     "metadata": {},
     "output_type": "execute_result"
    }
   ],
   "source": [
    "t = transform.Transform(0, (0,0))\n",
    "t"
   ]
  },
  {
   "cell_type": "code",
   "execution_count": 6,
   "id": "db939804",
   "metadata": {},
   "outputs": [],
   "source": [
    "assert t.transform((1, 1)) == Point((1, 1))"
   ]
  },
  {
   "cell_type": "code",
   "execution_count": 7,
   "id": "b4d8f6aa",
   "metadata": {},
   "outputs": [],
   "source": [
    "t = transform.Transform(0, (1, 1))\n",
    "assert t.transform((1, 1)) == Point((2, 2))"
   ]
  },
  {
   "cell_type": "code",
   "execution_count": null,
   "id": "01752781",
   "metadata": {},
   "outputs": [],
   "source": []
  },
  {
   "cell_type": "code",
   "execution_count": 8,
   "id": "269ecaaa",
   "metadata": {},
   "outputs": [
    {
     "data": {
      "image/png": "[encoded data removed]",
      "image/svg+xml": [
       "<?xml version=\"1.0\" encoding=\"utf-8\" standalone=\"no\"?>\n",
       "<!DOCTYPE svg PUBLIC \"-//W3C//DTD SVG 1.1//EN\"\n",
       "  \"http://www.w3.org/Graphics/SVG/1.1/DTD/svg11.dtd\">\n",
       "<svg height=\"35.82pt\" version=\"1.1\" viewBox=\"0 0 295.92 35.82\" width=\"295.92pt\" xmlns=\"http://www.w3.org/2000/svg\" xmlns:xlink=\"http://www.w3.org/1999/xlink\">\n",
       " <metadata>\n",
       "  <rdf:RDF xmlns:cc=\"http://creativecommons.org/ns#\" xmlns:dc=\"http://purl.org/dc/elements/1.1/\" xmlns:rdf=\"http://www.w3.org/1999/02/22-rdf-syntax-ns#\">\n",
       "   <cc:Work>\n",
       "    <dc:type rdf:resource=\"http://purl.org/dc/dcmitype/StillImage\"/>\n",
       "    <dc:date>2021-11-05T16:26:28.269144</dc:date>\n",
       "    <dc:format>image/svg+xml</dc:format>\n",
       "    <dc:creator>\n",
       "     <cc:Agent>\n",
       "      <dc:title>Matplotlib v3.4.2, https://matplotlib.org/</dc:title>\n",
       "     </cc:Agent>\n",
       "    </dc:creator>\n",
       "   </cc:Work>\n",
       "  </rdf:RDF>\n",
       " </metadata>\n",
       " <defs>\n",
       "  <style type=\"text/css\">*{stroke-linecap:butt;stroke-linejoin:round;}</style>\n",
       " </defs>\n",
       " <g id=\"figure_1\">\n",
       "  <g id=\"patch_1\">\n",
       "   <path d=\"M 0 35.82 \n",
       "L 295.92 35.82 \n",
       "L 295.92 -0 \n",
       "L 0 -0 \n",
       "z\n",
       "\" style=\"fill:none;\"/>\n",
       "  </g>\n",
       "  <g id=\"axes_1\">\n",
       "   <g id=\"patch_2\">\n",
       "    <path clip-path=\"url(#pe9122f1358)\" d=\"M 234.405 10.26 \n",
       "L 245.115 17.91 \n",
       "L 234.405 25.56 \n",
       "z\n",
       "\" style=\"fill:none;stroke:#000000;stroke-linecap:round;stroke-width:2;\"/>\n",
       "   </g>\n",
       "   <g id=\"line2d_1\">\n",
       "    <path clip-path=\"url(#pe9122f1358)\" d=\"M 10.26 17.91 \n",
       "L 40.86 17.91 \n",
       "L 43.41 10.26 \n",
       "L 48.51 25.56 \n",
       "L 53.61 10.26 \n",
       "L 58.71 25.56 \n",
       "L 63.81 10.26 \n",
       "L 68.91 25.56 \n",
       "L 71.46 17.91 \n",
       "L 102.06 17.91 \n",
       "\" style=\"fill:none;stroke:#000000;stroke-linecap:round;stroke-width:2;\"/>\n",
       "   </g>\n",
       "   <g id=\"line2d_2\">\n",
       "    <path clip-path=\"url(#pe9122f1358)\" d=\"M 102.06 17.91 \n",
       "L 145.206 17.91 \n",
       "M 145.206 10.26 \n",
       "L 145.206 25.56 \n",
       "M 150.714 10.26 \n",
       "L 150.714 25.56 \n",
       "M 150.714 17.91 \n",
       "L 193.86 17.91 \n",
       "\" style=\"fill:none;stroke:#000000;stroke-linecap:round;stroke-width:2;\"/>\n",
       "   </g>\n",
       "   <g id=\"line2d_3\">\n",
       "    <path clip-path=\"url(#pe9122f1358)\" d=\"M 193.86 17.91 \n",
       "L 234.405 17.91 \n",
       "M 245.115 10.26 \n",
       "L 245.115 25.56 \n",
       "M 245.115 17.91 \n",
       "L 285.66 17.91 \n",
       "\" style=\"fill:none;stroke:#000000;stroke-linecap:round;stroke-width:2;\"/>\n",
       "   </g>\n",
       "  </g>\n",
       " </g>\n",
       " <defs>\n",
       "  <clipPath id=\"pe9122f1358\">\n",
       "   <rect height=\"21.42\" width=\"281.52\" x=\"7.2\" y=\"7.2\"/>\n",
       "  </clipPath>\n",
       " </defs>\n",
       "</svg>\n"
      ],
      "text/plain": [
       "<schemdraw.schemdraw.Drawing at 0x7e98f17411c0>"
      ]
     },
     "execution_count": 8,
     "metadata": {},
     "output_type": "execute_result"
    }
   ],
   "source": [
    "# add_elements function\n",
    "d = schemdraw.Drawing()\n",
    "d.add_elements(\n",
    "    elm.Resistor(),\n",
    "    elm.Capacitor(),\n",
    "    elm.Diode())\n",
    "d"
   ]
  },
  {
   "cell_type": "code",
   "execution_count": 9,
   "id": "11c0166f",
   "metadata": {},
   "outputs": [
    {
     "data": {
      "text/plain": [
       "b'<?xml version=\"1.0\" encoding=\"utf-8\" standalone=\"no\"?>\\n<!DOCTYPE svg PUBLIC \"-//W3C//DTD SVG 1.1//EN\"\\n  \"http://www.w3.org/Graphics/SVG/1.1/DTD/svg11.dtd\">\\n<svg height=\"35.82pt\" version=\"1.1\" viewBox=\"0 0 295.92 35.82\" width=\"295.92pt\" xmlns=\"http://www.w3.org/2000/svg\" xmlns:xlink=\"http://www.w3.org/1999/xlink\">\\n <metadata>\\n  <rdf:RDF xmlns:cc=\"http://creativecommons.org/ns#\" xmlns:dc=\"http://purl.org/dc/elements/1.1/\" xmlns:rdf=\"http://www.w3.org/1999/02/22-rdf-syntax-ns#\">\\n   <cc:Work>\\n    <dc:type rdf:resource=\"http://purl.org/dc/dcmitype/StillImage\"/>\\n    <dc:date>2021-11-05T16:26:28.430403</dc:date>\\n    <dc:format>image/svg+xml</dc:format>\\n    <dc:creator>\\n     <cc:Agent>\\n      <dc:title>Matplotlib v3.4.2, https://matplotlib.org/</dc:title>\\n     </cc:Agent>\\n    </dc:creator>\\n   </cc:Work>\\n  </rdf:RDF>\\n </metadata>\\n <defs>\\n  <style type=\"text/css\">*{stroke-linecap:butt;stroke-linejoin:round;}</style>\\n </defs>\\n <g id=\"figure_1\">\\n  <g id=\"patch_1\">\\n   <path d=\"M 0 35.82 \\nL 295.92 35.82 \\nL 295.92 -0 \\nL 0 -0 \\nz\\n\" style=\"fill:none;\"/>\\n  </g>\\n  <g id=\"axes_1\">\\n   <g id=\"patch_2\">\\n    <path clip-path=\"url(#p45d2d7211f)\" d=\"M 234.405 10.26 \\nL 245.115 17.91 \\nL 234.405 25.56 \\nz\\n\" style=\"fill:none;stroke:#000000;stroke-linecap:round;stroke-width:2;\"/>\\n   </g>\\n   <g id=\"line2d_1\">\\n    <path clip-path=\"url(#p45d2d7211f)\" d=\"M 10.26 17.91 \\nL 40.86 17.91 \\nL 43.41 10.26 \\nL 48.51 25.56 \\nL 53.61 10.26 \\nL 58.71 25.56 \\nL 63.81 10.26 \\nL 68.91 25.56 \\nL 71.46 17.91 \\nL 102.06 17.91 \\n\" style=\"fill:none;stroke:#000000;stroke-linecap:round;stroke-width:2;\"/>\\n   </g>\\n   <g id=\"line2d_2\">\\n    <path clip-path=\"url(#p45d2d7211f)\" d=\"M 102.06 17.91 \\nL 145.206 17.91 \\nM 145.206 10.26 \\nL 145.206 25.56 \\nM 150.714 10.26 \\nL 150.714 25.56 \\nM 150.714 17.91 \\nL 193.86 17.91 \\n\" style=\"fill:none;stroke:#000000;stroke-linecap:round;stroke-width:2;\"/>\\n   </g>\\n   <g id=\"line2d_3\">\\n    <path clip-path=\"url(#p45d2d7211f)\" d=\"M 193.86 17.91 \\nL 234.405 17.91 \\nM 245.115 10.26 \\nL 245.115 25.56 \\nM 245.115 17.91 \\nL 285.66 17.91 \\n\" style=\"fill:none;stroke:#000000;stroke-linecap:round;stroke-width:2;\"/>\\n   </g>\\n  </g>\\n </g>\\n <defs>\\n  <clipPath id=\"p45d2d7211f\">\\n   <rect height=\"21.42\" width=\"281.52\" x=\"7.2\" y=\"7.2\"/>\\n  </clipPath>\\n </defs>\\n</svg>\\n'"
      ]
     },
     "execution_count": 9,
     "metadata": {},
     "output_type": "execute_result"
    }
   ],
   "source": [
    "# Matplotlib backend\n",
    "d.get_imagedata('svg')"
   ]
  },
  {
   "cell_type": "code",
   "execution_count": 10,
   "id": "cfca9e73",
   "metadata": {},
   "outputs": [
    {
     "data": {
      "text/plain": [
       "b'<?xml version=\"1.0\" encoding=\"utf-8\" standalone=\"no\"?>\\n<!DOCTYPE svg PUBLIC \"-//W3C//DTD SVG 1.1//EN\"\\n  \"http://www.w3.org/Graphics/SVG/1.1/DTD/svg11.dtd\">\\n<svg height=\"35.82pt\" version=\"1.1\" viewBox=\"0 0 295.92 35.82\" width=\"295.92pt\" xmlns=\"http://www.w3.org/2000/svg\" xmlns:xlink=\"http://www.w3.org/1999/xlink\">\\n <metadata>\\n  <rdf:RDF xmlns:cc=\"http://creativecommons.org/ns#\" xmlns:dc=\"http://purl.org/dc/elements/1.1/\" xmlns:rdf=\"http://www.w3.org/1999/02/22-rdf-syntax-ns#\">\\n   <cc:Work>\\n    <dc:type rdf:resource=\"http://purl.org/dc/dcmitype/StillImage\"/>\\n    <dc:date>2021-11-05T16:26:28.478926</dc:date>\\n    <dc:format>image/svg+xml</dc:format>\\n    <dc:creator>\\n     <cc:Agent>\\n      <dc:title>Matplotlib v3.4.2, https://matplotlib.org/</dc:title>\\n     </cc:Agent>\\n    </dc:creator>\\n   </cc:Work>\\n  </rdf:RDF>\\n </metadata>\\n <defs>\\n  <style type=\"text/css\">*{stroke-linecap:butt;stroke-linejoin:round;}</style>\\n </defs>\\n <g id=\"figure_1\">\\n  <g id=\"patch_1\">\\n   <path d=\"M 0 35.82 \\nL 295.92 35.82 \\nL 295.92 -0 \\nL 0 -0 \\nz\\n\" style=\"fill:none;\"/>\\n  </g>\\n  <g id=\"axes_1\">\\n   <g id=\"patch_2\">\\n    <path clip-path=\"url(#p45d7795a14)\" d=\"M 234.405 10.26 \\nL 245.115 17.91 \\nL 234.405 25.56 \\nz\\n\" style=\"fill:none;stroke:#000000;stroke-linecap:round;stroke-width:2;\"/>\\n   </g>\\n   <g id=\"line2d_1\">\\n    <path clip-path=\"url(#p45d7795a14)\" d=\"M 10.26 17.91 \\nL 40.86 17.91 \\nL 43.41 10.26 \\nL 48.51 25.56 \\nL 53.61 10.26 \\nL 58.71 25.56 \\nL 63.81 10.26 \\nL 68.91 25.56 \\nL 71.46 17.91 \\nL 102.06 17.91 \\n\" style=\"fill:none;stroke:#000000;stroke-linecap:round;stroke-width:2;\"/>\\n   </g>\\n   <g id=\"line2d_2\">\\n    <path clip-path=\"url(#p45d7795a14)\" d=\"M 102.06 17.91 \\nL 145.206 17.91 \\nM 145.206 10.26 \\nL 145.206 25.56 \\nM 150.714 10.26 \\nL 150.714 25.56 \\nM 150.714 17.91 \\nL 193.86 17.91 \\n\" style=\"fill:none;stroke:#000000;stroke-linecap:round;stroke-width:2;\"/>\\n   </g>\\n   <g id=\"line2d_3\">\\n    <path clip-path=\"url(#p45d7795a14)\" d=\"M 193.86 17.91 \\nL 234.405 17.91 \\nM 245.115 10.26 \\nL 245.115 25.56 \\nM 245.115 17.91 \\nL 285.66 17.91 \\n\" style=\"fill:none;stroke:#000000;stroke-linecap:round;stroke-width:2;\"/>\\n   </g>\\n  </g>\\n </g>\\n <defs>\\n  <clipPath id=\"p45d7795a14\">\\n   <rect height=\"21.42\" width=\"281.52\" x=\"7.2\" y=\"7.2\"/>\\n  </clipPath>\\n </defs>\\n</svg>\\n'"
      ]
     },
     "execution_count": 10,
     "metadata": {},
     "output_type": "execute_result"
    }
   ],
   "source": [
    "# SVG backend\n",
    "schemdraw.use('svg')\n",
    "d.get_imagedata('svg')"
   ]
  },
  {
   "cell_type": "code",
   "execution_count": 11,
   "id": "4cdf72b5",
   "metadata": {},
   "outputs": [],
   "source": [
    "schemdraw.settextmode('path') # use ziamath"
   ]
  },
  {
   "cell_type": "code",
   "execution_count": 12,
   "id": "96c01c22",
   "metadata": {},
   "outputs": [
    {
     "data": {
      "image/png": "[encoded data removed]",
      "image/svg+xml": [
       "<?xml version=\"1.0\" encoding=\"utf-8\" standalone=\"no\"?>\n",
       "<!DOCTYPE svg PUBLIC \"-//W3C//DTD SVG 1.1//EN\"\n",
       "  \"http://www.w3.org/Graphics/SVG/1.1/DTD/svg11.dtd\">\n",
       "<svg height=\"57.172pt\" version=\"1.1\" viewBox=\"0 0 112.32 57.172\" width=\"112.32pt\" xmlns=\"http://www.w3.org/2000/svg\" xmlns:xlink=\"http://www.w3.org/1999/xlink\">\n",
       " <metadata>\n",
       "  <rdf:RDF xmlns:cc=\"http://creativecommons.org/ns#\" xmlns:dc=\"http://purl.org/dc/elements/1.1/\" xmlns:rdf=\"http://www.w3.org/1999/02/22-rdf-syntax-ns#\">\n",
       "   <cc:Work>\n",
       "    <dc:type rdf:resource=\"http://purl.org/dc/dcmitype/StillImage\"/>\n",
       "    <dc:date>2021-11-05T16:26:28.696714</dc:date>\n",
       "    <dc:format>image/svg+xml</dc:format>\n",
       "    <dc:creator>\n",
       "     <cc:Agent>\n",
       "      <dc:title>Matplotlib v3.4.2, https://matplotlib.org/</dc:title>\n",
       "     </cc:Agent>\n",
       "    </dc:creator>\n",
       "   </cc:Work>\n",
       "  </rdf:RDF>\n",
       " </metadata>\n",
       " <defs>\n",
       "  <style type=\"text/css\">*{stroke-linecap:butt;stroke-linejoin:round;}</style>\n",
       " </defs>\n",
       " <g id=\"figure_1\">\n",
       "  <g id=\"patch_1\">\n",
       "   <path d=\"M 0 57.172 \n",
       "L 112.32 57.172 \n",
       "L 112.32 -0 \n",
       "L 0 -0 \n",
       "z\n",
       "\" style=\"fill:none;\"/>\n",
       "  </g>\n",
       "  <g id=\"axes_1\">\n",
       "   <g id=\"line2d_1\">\n",
       "    <path clip-path=\"url(#p6156d28987)\" d=\"M 10.26 39.262 \n",
       "L 40.86 39.262 \n",
       "L 43.41 31.612 \n",
       "L 48.51 46.912 \n",
       "L 53.61 31.612 \n",
       "L 58.71 46.912 \n",
       "L 63.81 31.612 \n",
       "L 68.91 46.912 \n",
       "L 71.46 39.262 \n",
       "L 102.06 39.262 \n",
       "\" style=\"fill:none;stroke:#000000;stroke-linecap:round;stroke-width:2;\"/>\n",
       "   </g>\n",
       "   <g id=\"text_1\">\n",
       "    <!-- Hello -->\n",
       "    <g transform=\"translate(29.10375 24.392625)scale(0.2 -0.2)\">\n",
       "     <defs>\n",
       "      <path d=\"M 353 0 \n",
       "L 353 331 \n",
       "L 947 331 \n",
       "L 947 4331 \n",
       "L 353 4331 \n",
       "L 353 4666 \n",
       "L 2175 4666 \n",
       "L 2175 4331 \n",
       "L 1581 4331 \n",
       "L 1581 2719 \n",
       "L 4000 2719 \n",
       "L 4000 4331 \n",
       "L 3406 4331 \n",
       "L 3406 4666 \n",
       "L 5228 4666 \n",
       "L 5228 4331 \n",
       "L 4634 4331 \n",
       "L 4634 331 \n",
       "L 5228 331 \n",
       "L 5228 0 \n",
       "L 3406 0 \n",
       "L 3406 331 \n",
       "L 4000 331 \n",
       "L 4000 2338 \n",
       "L 1581 2338 \n",
       "L 1581 331 \n",
       "L 2175 331 \n",
       "L 2175 0 \n",
       "L 353 0 \n",
       "z\n",
       "\" id=\"DejaVuSerif-48\" transform=\"scale(0.015625)\"/>\n",
       "      <path d=\"M 3469 1600 \n",
       "L 991 1600 \n",
       "L 991 1575 \n",
       "Q 991 903 1244 561 \n",
       "Q 1497 219 1991 219 \n",
       "Q 2369 219 2611 417 \n",
       "Q 2853 616 2950 1006 \n",
       "L 3413 1006 \n",
       "Q 3275 459 2904 184 \n",
       "Q 2534 -91 1931 -91 \n",
       "Q 1203 -91 761 389 \n",
       "Q 319 869 319 1663 \n",
       "Q 319 2450 753 2931 \n",
       "Q 1188 3413 1894 3413 \n",
       "Q 2647 3413 3050 2948 \n",
       "Q 3453 2484 3469 1600 \n",
       "z\n",
       "M 2791 1931 \n",
       "Q 2772 2513 2545 2808 \n",
       "Q 2319 3103 1894 3103 \n",
       "Q 1497 3103 1269 2806 \n",
       "Q 1041 2509 991 1931 \n",
       "L 2791 1931 \n",
       "z\n",
       "\" id=\"DejaVuSerif-65\" transform=\"scale(0.015625)\"/>\n",
       "      <path d=\"M 1313 331 \n",
       "L 1856 331 \n",
       "L 1856 0 \n",
       "L 184 0 \n",
       "L 184 331 \n",
       "L 738 331 \n",
       "L 738 4531 \n",
       "L 184 4531 \n",
       "L 184 4863 \n",
       "L 1313 4863 \n",
       "L 1313 331 \n",
       "z\n",
       "\" id=\"DejaVuSerif-6c\" transform=\"scale(0.015625)\"/>\n",
       "      <path d=\"M 1925 219 \n",
       "Q 2388 219 2623 584 \n",
       "Q 2859 950 2859 1663 \n",
       "Q 2859 2375 2623 2739 \n",
       "Q 2388 3103 1925 3103 \n",
       "Q 1463 3103 1227 2739 \n",
       "Q 991 2375 991 1663 \n",
       "Q 991 950 1228 584 \n",
       "Q 1466 219 1925 219 \n",
       "z\n",
       "M 1925 -91 \n",
       "Q 1200 -91 759 389 \n",
       "Q 319 869 319 1663 \n",
       "Q 319 2456 758 2934 \n",
       "Q 1197 3413 1925 3413 \n",
       "Q 2653 3413 3092 2934 \n",
       "Q 3531 2456 3531 1663 \n",
       "Q 3531 869 3092 389 \n",
       "Q 2653 -91 1925 -91 \n",
       "z\n",
       "\" id=\"DejaVuSerif-6f\" transform=\"scale(0.015625)\"/>\n",
       "     </defs>\n",
       "     <use xlink:href=\"#DejaVuSerif-48\"/>\n",
       "     <use x=\"87.207031\" xlink:href=\"#DejaVuSerif-65\"/>\n",
       "     <use x=\"146.386719\" xlink:href=\"#DejaVuSerif-6c\"/>\n",
       "     <use x=\"178.369141\" xlink:href=\"#DejaVuSerif-6c\"/>\n",
       "     <use x=\"210.351562\" xlink:href=\"#DejaVuSerif-6f\"/>\n",
       "    </g>\n",
       "   </g>\n",
       "  </g>\n",
       " </g>\n",
       " <defs>\n",
       "  <clipPath id=\"p6156d28987\">\n",
       "   <rect height=\"42.772\" width=\"97.92\" x=\"7.2\" y=\"7.2\"/>\n",
       "  </clipPath>\n",
       " </defs>\n",
       "</svg>\n"
      ],
      "text/plain": [
       "<schemdraw.backends.mpl.Figure object at 0x7e98ef650730>"
      ]
     },
     "execution_count": 12,
     "metadata": {},
     "output_type": "execute_result"
    }
   ],
   "source": [
    "d = schemdraw.Drawing(font='serif', fontsize=20)\n",
    "d += elm.Resistor().label('Hello')\n",
    "d.draw(backend='matplotlib')"
   ]
  },
  {
   "cell_type": "code",
   "execution_count": 13,
   "id": "5764c299",
   "metadata": {},
   "outputs": [
    {
     "data": {
      "image/svg+xml": [
       "<svg xmlns=\"http://www.w3.org/2000/svg\" xml:lang=\"en\" height=\"42.808pt\" width=\"101.19999999999999pt\" viewBox=\"-2.0 -32.708 101.19999999999999 42.808\"><path d=\"M 0.0,-0.0 L 32.4,-0.0 L 35.099999999999994,-8.1 L 40.5,8.1 L 45.89999999999999,-8.1 L 51.3,8.1 L 56.699999999999996,-8.1 L 62.099999999999994,8.1 L 64.8,-0.0 L 97.19999999999999,-0.0\" style=\"stroke:black;fill:none;stroke-width:2;stroke-linecap:round;stroke-linejoin:round;\" /><g><g fill=\"black\"><symbol id=\"STIXTwoMath-Regular_10\" width=\"756\" height=\"51.216\" viewBox=\"0 -31.524 756 51.216\"><path d=\"M 2.868 -6.3 L 2.868 -4.284 L 6.804 -4.284 L 6.804 -6.3 Q 6.804 -6.768, 6.744 -7.038 Q 6.684 -7.308, 6.438000000000001 -7.416 Q 6.192 -7.524, 5.64 -7.524 L 5.64 -7.884 L 9.072000000000001 -7.884 L 9.072000000000001 -7.524 Q 8.508000000000001 -7.524, 8.256 -7.416 Q 8.004 -7.308, 7.949999999999999 -7.0440000000000005 Q 7.896 -6.78, 7.896 -6.3 L 7.896 -1.572 Q 7.896 -1.056, 7.962 -0.792 Q 8.028 -0.528, 8.280000000000001 -0.444 Q 8.532 -0.36, 9.072000000000001 -0.36 L 9.072000000000001 0.0 L 5.64 0.0 L 5.64 -0.36 Q 6.18 -0.36, 6.426 -0.444 Q 6.672 -0.528, 6.7379999999999995 -0.792 Q 6.804 -1.056, 6.804 -1.572 L 6.804 -3.8160000000000003 L 2.868 -3.8160000000000003 L 2.868 -1.572 Q 2.868 -1.044, 2.934 -0.786 Q 3.0 -0.528, 3.252 -0.444 Q 3.504 -0.36, 4.0440000000000005 -0.36 L 4.0440000000000005 0.0 L 0.6 0.0 L 0.6 -0.36 Q 1.1400000000000001 -0.36, 1.3860000000000001 -0.438 Q 1.6320000000000001 -0.516, 1.698 -0.78 Q 1.764 -1.044, 1.764 -1.572 L 1.764 -6.3 Q 1.764 -6.768, 1.7040000000000002 -7.038 Q 1.6440000000000001 -7.308, 1.3980000000000001 -7.416 Q 1.1520000000000001 -7.524, 0.6 -7.524 L 0.6 -7.884 L 4.0440000000000005 -7.884 L 4.0440000000000005 -7.524 Q 3.48 -7.524, 3.2279999999999998 -7.416 Q 2.976 -7.308, 2.9219999999999997 -7.038 Q 2.868 -6.768, 2.868 -6.3 Z \" /></symbol><use href=\"#STIXTwoMath-Regular_10\" transform=\"translate(25.389999999999993 -63.88) scale(1.6666666666666667)\" /><symbol id=\"STIXTwoMath-Regular_259\" width=\"434\" height=\"51.216\" viewBox=\"0 -31.524 434 51.216\"><path d=\"M 4.98 -1.716 L 5.208 -1.548 Q 4.992 -1.092, 4.704000000000001 -0.7140000000000001 Q 4.416 -0.336, 4.002000000000001 -0.10800000000000001 Q 3.588 0.12, 2.964 0.12 Q 2.244 0.12, 1.6620000000000001 -0.22200000000000003 Q 1.08 -0.5640000000000001, 0.744 -1.23 Q 0.40800000000000003 -1.8960000000000001, 0.40800000000000003 -2.856 Q 0.40800000000000003 -3.864, 0.75 -4.518 Q 1.092 -5.172, 1.6680000000000001 -5.496 Q 2.244 -5.82, 2.94 -5.82 Q 3.924 -5.82, 4.524 -5.136 Q 5.124 -4.452, 5.172 -3.192 L 1.3800000000000001 -3.192 Q 1.3800000000000001 -2.364, 1.65 -1.83 Q 1.92 -1.296, 2.346 -1.038 Q 2.7720000000000002 -0.78, 3.2520000000000002 -0.78 Q 3.744 -0.78, 4.05 -0.912 Q 4.356 -1.044, 4.572 -1.254 Q 4.788 -1.464, 4.98 -1.716 Z M 1.368 -3.636 L 4.0440000000000005 -3.636 Q 4.032 -4.08, 3.888 -4.470000000000001 Q 3.744 -4.86, 3.468 -5.1 Q 3.192 -5.34, 2.7600000000000002 -5.34 Q 1.512 -5.34, 1.368 -3.636 Z \" /></symbol><use href=\"#STIXTwoMath-Regular_259\" transform=\"translate(40.92999999999999 -63.88) scale(1.6666666666666667)\" /><symbol id=\"STIXTwoMath-Regular_267\" width=\"260\" height=\"51.216\" viewBox=\"0 -31.524 260 51.216\"><path d=\"M 3.12 -0.34800000000000003 L 3.12 0.0 L 0.36 0.0 L 0.36 -0.34800000000000003 Q 0.756 -0.34800000000000003, 0.936 -0.42600000000000005 Q 1.116 -0.504, 1.158 -0.69 Q 1.2 -0.876, 1.2 -1.212 L 1.2 -7.236 Q 1.2 -7.6080000000000005, 1.062 -7.68 Q 0.924 -7.752, 0.6960000000000001 -7.752 Q 0.54 -7.752, 0.42600000000000005 -7.74 Q 0.312 -7.728, 0.312 -7.728 L 0.312 -8.052 L 1.8960000000000001 -8.472 L 2.196 -8.472 L 2.196 -1.212 Q 2.196 -0.864, 2.25 -0.6779999999999999 Q 2.3040000000000003 -0.492, 2.4960000000000004 -0.42000000000000004 Q 2.688 -0.34800000000000003, 3.12 -0.34800000000000003 Z \" /></symbol><use href=\"#STIXTwoMath-Regular_267\" transform=\"translate(50.209999999999994 -63.88) scale(1.6666666666666667)\" /><use href=\"#STIXTwoMath-Regular_267\" transform=\"translate(55.86999999999999 -63.88) scale(1.6666666666666667)\" /><symbol id=\"STIXTwoMath-Regular_270\" width=\"480\" height=\"51.216\" viewBox=\"0 -31.524 480 51.216\"><path d=\"M 3.096 -5.82 Q 4.332 -5.82, 5.045999999999999 -5.052 Q 5.76 -4.284, 5.76 -2.952 Q 5.76 -1.944, 5.418 -1.26 Q 5.0760000000000005 -0.5760000000000001, 4.476 -0.22800000000000004 Q 3.876 0.12, 3.096 0.12 Q 1.836 0.12, 1.122 -0.6659999999999999 Q 0.40800000000000003 -1.452, 0.40800000000000003 -2.904 Q 0.40800000000000003 -3.7800000000000002, 0.744 -4.434 Q 1.08 -5.088, 1.6860000000000002 -5.454000000000001 Q 2.2920000000000003 -5.82, 3.096 -5.82 Z M 3.048 -5.364 Q 2.364 -5.364, 1.944 -4.788 Q 1.524 -4.212, 1.524 -3.06 Q 1.524 -1.6320000000000001, 1.95 -0.9900000000000001 Q 2.376 -0.34800000000000003, 3.144 -0.36 Q 3.636 -0.36, 3.972 -0.5880000000000001 Q 4.308 -0.8160000000000001, 4.481999999999999 -1.3679999999999999 Q 4.656 -1.92, 4.656 -2.892 Q 4.656 -3.996, 4.254 -4.68 Q 3.852 -5.364, 3.048 -5.364 Z \" /></symbol><use href=\"#STIXTwoMath-Regular_270\" transform=\"translate(61.529999999999994 -63.88) scale(1.6666666666666667)\" /></g></g></svg>"
      ],
      "text/plain": [
       "<svg xmlns=\"http://www.w3.org/2000/svg\" xml:lang=\"en\" height=\"42.808pt\" width=\"101.19999999999999pt\" viewBox=\"-2.0 -32.708 101.19999999999999 42.808\"><path d=\"M 0.0,-0.0 L 32.4,-0.0 L 35.099999999999994,-8.1 L 40.5,8.1 L 45.89999999999999,-8.1 L 51.3,8.1 L 56.699999999999996,-8.1 L 62.099999999999994,8.1 L 64.8,-0.0 L 97.19999999999999,-0.0\" style=\"stroke:black;fill:none;stroke-width:2;stroke-linecap:round;stroke-linejoin:round;\" /><g><g fill=\"black\"><symbol id=\"STIXTwoMath-Regular_10\" width=\"756\" height=\"51.216\" viewBox=\"0 -31.524 756 51.216\"><path d=\"M 2.868 -6.3 L 2.868 -4.284 L 6.804 -4.284 L 6.804 -6.3 Q 6.804 -6.768, 6.744 -7.038 Q 6.684 -7.308, 6.438000000000001 -7.416 Q 6.192 -7.524, 5.64 -7.524 L 5.64 -7.884 L 9.072000000000001 -7.884 L 9.072000000000001 -7.524 Q 8.508000000000001 -7.524, 8.256 -7.416 Q 8.004 -7.308, 7.949999999999999 -7.0440000000000005 Q 7.896 -6.78, 7.896 -6.3 L 7.896 -1.572 Q 7.896 -1.056, 7.962 -0.792 Q 8.028 -0.528, 8.280000000000001 -0.444 Q 8.532 -0.36, 9.072000000000001 -0.36 L 9.072000000000001 0.0 L 5.64 0.0 L 5.64 -0.36 Q 6.18 -0.36, 6.426 -0.444 Q 6.672 -0.528, 6.7379999999999995 -0.792 Q 6.804 -1.056, 6.804 -1.572 L 6.804 -3.8160000000000003 L 2.868 -3.8160000000000003 L 2.868 -1.572 Q 2.868 -1.044, 2.934 -0.786 Q 3.0 -0.528, 3.252 -0.444 Q 3.504 -0.36, 4.0440000000000005 -0.36 L 4.0440000000000005 0.0 L 0.6 0.0 L 0.6 -0.36 Q 1.1400000000000001 -0.36, 1.3860000000000001 -0.438 Q 1.6320000000000001 -0.516, 1.698 -0.78 Q 1.764 -1.044, 1.764 -1.572 L 1.764 -6.3 Q 1.764 -6.768, 1.7040000000000002 -7.038 Q 1.6440000000000001 -7.308, 1.3980000000000001 -7.416 Q 1.1520000000000001 -7.524, 0.6 -7.524 L 0.6 -7.884 L 4.0440000000000005 -7.884 L 4.0440000000000005 -7.524 Q 3.48 -7.524, 3.2279999999999998 -7.416 Q 2.976 -7.308, 2.9219999999999997 -7.038 Q 2.868 -6.768, 2.868 -6.3 Z \" /></symbol><use href=\"#STIXTwoMath-Regular_10\" transform=\"translate(25.389999999999993 -63.88) scale(1.6666666666666667)\" /><symbol id=\"STIXTwoMath-Regular_259\" width=\"434\" height=\"51.216\" viewBox=\"0 -31.524 434 51.216\"><path d=\"M 4.98 -1.716 L 5.208 -1.548 Q 4.992 -1.092, 4.704000000000001 -0.7140000000000001 Q 4.416 -0.336, 4.002000000000001 -0.10800000000000001 Q 3.588 0.12, 2.964 0.12 Q 2.244 0.12, 1.6620000000000001 -0.22200000000000003 Q 1.08 -0.5640000000000001, 0.744 -1.23 Q 0.40800000000000003 -1.8960000000000001, 0.40800000000000003 -2.856 Q 0.40800000000000003 -3.864, 0.75 -4.518 Q 1.092 -5.172, 1.6680000000000001 -5.496 Q 2.244 -5.82, 2.94 -5.82 Q 3.924 -5.82, 4.524 -5.136 Q 5.124 -4.452, 5.172 -3.192 L 1.3800000000000001 -3.192 Q 1.3800000000000001 -2.364, 1.65 -1.83 Q 1.92 -1.296, 2.346 -1.038 Q 2.7720000000000002 -0.78, 3.2520000000000002 -0.78 Q 3.744 -0.78, 4.05 -0.912 Q 4.356 -1.044, 4.572 -1.254 Q 4.788 -1.464, 4.98 -1.716 Z M 1.368 -3.636 L 4.0440000000000005 -3.636 Q 4.032 -4.08, 3.888 -4.470000000000001 Q 3.744 -4.86, 3.468 -5.1 Q 3.192 -5.34, 2.7600000000000002 -5.34 Q 1.512 -5.34, 1.368 -3.636 Z \" /></symbol><use href=\"#STIXTwoMath-Regular_259\" transform=\"translate(40.92999999999999 -63.88) scale(1.6666666666666667)\" /><symbol id=\"STIXTwoMath-Regular_267\" width=\"260\" height=\"51.216\" viewBox=\"0 -31.524 260 51.216\"><path d=\"M 3.12 -0.34800000000000003 L 3.12 0.0 L 0.36 0.0 L 0.36 -0.34800000000000003 Q 0.756 -0.34800000000000003, 0.936 -0.42600000000000005 Q 1.116 -0.504, 1.158 -0.69 Q 1.2 -0.876, 1.2 -1.212 L 1.2 -7.236 Q 1.2 -7.6080000000000005, 1.062 -7.68 Q 0.924 -7.752, 0.6960000000000001 -7.752 Q 0.54 -7.752, 0.42600000000000005 -7.74 Q 0.312 -7.728, 0.312 -7.728 L 0.312 -8.052 L 1.8960000000000001 -8.472 L 2.196 -8.472 L 2.196 -1.212 Q 2.196 -0.864, 2.25 -0.6779999999999999 Q 2.3040000000000003 -0.492, 2.4960000000000004 -0.42000000000000004 Q 2.688 -0.34800000000000003, 3.12 -0.34800000000000003 Z \" /></symbol><use href=\"#STIXTwoMath-Regular_267\" transform=\"translate(50.209999999999994 -63.88) scale(1.6666666666666667)\" /><use href=\"#STIXTwoMath-Regular_267\" transform=\"translate(55.86999999999999 -63.88) scale(1.6666666666666667)\" /><symbol id=\"STIXTwoMath-Regular_270\" width=\"480\" height=\"51.216\" viewBox=\"0 -31.524 480 51.216\"><path d=\"M 3.096 -5.82 Q 4.332 -5.82, 5.045999999999999 -5.052 Q 5.76 -4.284, 5.76 -2.952 Q 5.76 -1.944, 5.418 -1.26 Q 5.0760000000000005 -0.5760000000000001, 4.476 -0.22800000000000004 Q 3.876 0.12, 3.096 0.12 Q 1.836 0.12, 1.122 -0.6659999999999999 Q 0.40800000000000003 -1.452, 0.40800000000000003 -2.904 Q 0.40800000000000003 -3.7800000000000002, 0.744 -4.434 Q 1.08 -5.088, 1.6860000000000002 -5.454000000000001 Q 2.2920000000000003 -5.82, 3.096 -5.82 Z M 3.048 -5.364 Q 2.364 -5.364, 1.944 -4.788 Q 1.524 -4.212, 1.524 -3.06 Q 1.524 -1.6320000000000001, 1.95 -0.9900000000000001 Q 2.376 -0.34800000000000003, 3.144 -0.36 Q 3.636 -0.36, 3.972 -0.5880000000000001 Q 4.308 -0.8160000000000001, 4.481999999999999 -1.3679999999999999 Q 4.656 -1.92, 4.656 -2.892 Q 4.656 -3.996, 4.254 -4.68 Q 3.852 -5.364, 3.048 -5.364 Z \" /></symbol><use href=\"#STIXTwoMath-Regular_270\" transform=\"translate(61.529999999999994 -63.88) scale(1.6666666666666667)\" /></g></g></svg>"
      ]
     },
     "execution_count": 13,
     "metadata": {},
     "output_type": "execute_result"
    }
   ],
   "source": [
    "d = schemdraw.Drawing(font='serif', fontsize=20)\n",
    "d += elm.Resistor().label('Hello')\n",
    "d.draw(backend='svg')"
   ]
  },
  {
   "cell_type": "code",
   "execution_count": 14,
   "id": "4fddb4ef",
   "metadata": {},
   "outputs": [],
   "source": [
    "d.save('savetest.png')"
   ]
  },
  {
   "cell_type": "code",
   "execution_count": null,
   "id": "2869515f",
   "metadata": {},
   "outputs": [],
   "source": []
  },
  {
   "cell_type": "code",
   "execution_count": 15,
   "id": "e44fce8c",
   "metadata": {},
   "outputs": [
    {
     "data": {
      "image/svg+xml": [
       "<svg xmlns=\"http://www.w3.org/2000/svg\" xml:lang=\"en\" height=\"44.6944pt\" width=\"101.19999999999999pt\" viewBox=\"-2.0 -34.5944 101.19999999999999 44.6944\"><path d=\"M 0.0,-0.0 L 32.4,-0.0 L 35.099999999999994,-8.1 L 40.5,8.1 L 45.89999999999999,-8.1 L 51.3,8.1 L 56.699999999999996,-8.1 L 62.099999999999994,8.1 L 64.8,-0.0 L 97.19999999999999,-0.0\" style=\"stroke:black;fill:none;stroke-width:2;stroke-linecap:round;stroke-linejoin:round;\" /><g><g fill=\"black\"><symbol id=\"STIXTwoMath-Regular_3354\" width=\"540\" height=\"51.216\" viewBox=\"0 -31.524 540 51.216\"><path d=\"M 3.7800000000000002 -3.576 L 4.368 -4.5840000000000005 Q 4.6080000000000005 -5.016, 4.98 -5.382 Q 5.352 -5.748, 5.88 -5.748 Q 6.228 -5.748, 6.354 -5.61 Q 6.48 -5.472, 6.48 -5.22 Q 6.48 -5.0040000000000004, 6.324 -4.83 Q 6.168 -4.656, 5.928 -4.656 Q 5.784 -4.656, 5.604 -4.715999999999999 Q 5.424 -4.776, 5.304 -4.776 Q 5.1000000000000005 -4.776, 4.956 -4.65 Q 4.812 -4.524, 4.656 -4.272 L 3.924 -3.108 L 4.176 -2.2920000000000003 Q 4.428 -1.464, 4.638 -1.104 Q 4.848 -0.744, 5.124 -0.744 Q 5.364 -0.744, 5.556 -0.918 Q 5.748 -1.092, 5.988 -1.416 L 6.24 -1.224 Q 6.072 -0.96, 5.838 -0.648 Q 5.604 -0.336, 5.292 -0.10800000000000001 Q 4.98 0.12, 4.572 0.12 Q 4.164 0.12, 3.942 -0.20400000000000001 Q 3.72 -0.528, 3.588 -1.116 L 3.2880000000000003 -2.328 L 3.24 -2.328 L 2.472 -1.08 Q 2.184 -0.612, 1.848 -0.252 Q 1.512 0.108, 0.972 0.108 Q 0.588 0.108, 0.432 -0.07200000000000001 Q 0.276 -0.252, 0.276 -0.48 Q 0.276 -0.66, 0.402 -0.8220000000000001 Q 0.528 -0.984, 0.744 -0.984 Q 0.9480000000000001 -0.984, 1.1460000000000001 -0.906 Q 1.344 -0.8280000000000001, 1.5 -0.8280000000000001 Q 1.524 -0.8280000000000001, 1.608 -0.8580000000000001 Q 1.692 -0.888, 1.8479999999999999 -1.032 Q 2.004 -1.176, 2.232 -1.512 L 3.096 -2.7720000000000002 L 2.7600000000000002 -3.864 Q 2.604 -4.368, 2.4480000000000004 -4.656000000000001 Q 2.2920000000000003 -4.944, 2.064 -5.07 Q 1.836 -5.196, 1.44 -5.184 Q 1.296 -5.184, 1.182 -5.166 Q 1.068 -5.148, 1.068 -5.148 L 1.068 -5.508 L 2.736 -5.7 L 2.916 -5.7 Q 3.132 -5.448, 3.306 -5.064 Q 3.48 -4.68, 3.6 -4.188 L 3.744 -3.576 Z \" /></symbol><use href=\"#STIXTwoMath-Regular_3354\" transform=\"translate(39.44499999999999 -63.88) scale(1.6666666666666667)\" /><symbol id=\"STIXTwoMath-Regular_1139\" width=\"464\" height=\"51.216\" viewBox=\"0 -31.524 464 51.216\"><path d=\"M 5.5680000000000005 -1.92 L 5.184 0.0 L 0.456 0.0 L 0.456 -0.40800000000000003 L 2.2800000000000002 -2.232 Q 2.88 -2.844, 3.276 -3.3419999999999996 Q 3.672 -3.84, 3.87 -4.343999999999999 Q 4.0680000000000005 -4.848, 4.0680000000000005 -5.472 Q 4.0680000000000005 -6.144, 3.6660000000000004 -6.546 Q 3.2640000000000002 -6.948, 2.568 -6.948 Q 1.98 -6.948, 1.566 -6.696 Q 1.1520000000000001 -6.444, 0.8160000000000001 -5.772 L 0.528 -5.892 Q 0.804 -6.768, 1.404 -7.247999999999999 Q 2.004 -7.728, 2.88 -7.728 Q 3.564 -7.728, 4.08 -7.47 Q 4.596 -7.212, 4.890000000000001 -6.75 Q 5.184 -6.288, 5.184 -5.652 Q 5.184 -5.124, 4.962 -4.638 Q 4.74 -4.152, 4.302 -3.636 Q 3.864 -3.12, 3.228 -2.472 L 1.6440000000000001 -0.972 L 1.6440000000000001 -0.912 L 2.484 -0.9480000000000001 L 4.152 -0.9480000000000001 Q 4.632 -0.9480000000000001, 4.824 -1.1640000000000001 Q 5.016 -1.3800000000000001, 5.22 -1.92 Z \" /></symbol><use href=\"#STIXTwoMath-Regular_1139\" transform=\"translate(50.82499999999999 -55.318000000000005) scale(1.1666666666666667)\" /></g></g></svg>"
      ],
      "text/plain": [
       "<svg xmlns=\"http://www.w3.org/2000/svg\" xml:lang=\"en\" height=\"44.6944pt\" width=\"101.19999999999999pt\" viewBox=\"-2.0 -34.5944 101.19999999999999 44.6944\"><path d=\"M 0.0,-0.0 L 32.4,-0.0 L 35.099999999999994,-8.1 L 40.5,8.1 L 45.89999999999999,-8.1 L 51.3,8.1 L 56.699999999999996,-8.1 L 62.099999999999994,8.1 L 64.8,-0.0 L 97.19999999999999,-0.0\" style=\"stroke:black;fill:none;stroke-width:2;stroke-linecap:round;stroke-linejoin:round;\" /><g><g fill=\"black\"><symbol id=\"STIXTwoMath-Regular_3354\" width=\"540\" height=\"51.216\" viewBox=\"0 -31.524 540 51.216\"><path d=\"M 3.7800000000000002 -3.576 L 4.368 -4.5840000000000005 Q 4.6080000000000005 -5.016, 4.98 -5.382 Q 5.352 -5.748, 5.88 -5.748 Q 6.228 -5.748, 6.354 -5.61 Q 6.48 -5.472, 6.48 -5.22 Q 6.48 -5.0040000000000004, 6.324 -4.83 Q 6.168 -4.656, 5.928 -4.656 Q 5.784 -4.656, 5.604 -4.715999999999999 Q 5.424 -4.776, 5.304 -4.776 Q 5.1000000000000005 -4.776, 4.956 -4.65 Q 4.812 -4.524, 4.656 -4.272 L 3.924 -3.108 L 4.176 -2.2920000000000003 Q 4.428 -1.464, 4.638 -1.104 Q 4.848 -0.744, 5.124 -0.744 Q 5.364 -0.744, 5.556 -0.918 Q 5.748 -1.092, 5.988 -1.416 L 6.24 -1.224 Q 6.072 -0.96, 5.838 -0.648 Q 5.604 -0.336, 5.292 -0.10800000000000001 Q 4.98 0.12, 4.572 0.12 Q 4.164 0.12, 3.942 -0.20400000000000001 Q 3.72 -0.528, 3.588 -1.116 L 3.2880000000000003 -2.328 L 3.24 -2.328 L 2.472 -1.08 Q 2.184 -0.612, 1.848 -0.252 Q 1.512 0.108, 0.972 0.108 Q 0.588 0.108, 0.432 -0.07200000000000001 Q 0.276 -0.252, 0.276 -0.48 Q 0.276 -0.66, 0.402 -0.8220000000000001 Q 0.528 -0.984, 0.744 -0.984 Q 0.9480000000000001 -0.984, 1.1460000000000001 -0.906 Q 1.344 -0.8280000000000001, 1.5 -0.8280000000000001 Q 1.524 -0.8280000000000001, 1.608 -0.8580000000000001 Q 1.692 -0.888, 1.8479999999999999 -1.032 Q 2.004 -1.176, 2.232 -1.512 L 3.096 -2.7720000000000002 L 2.7600000000000002 -3.864 Q 2.604 -4.368, 2.4480000000000004 -4.656000000000001 Q 2.2920000000000003 -4.944, 2.064 -5.07 Q 1.836 -5.196, 1.44 -5.184 Q 1.296 -5.184, 1.182 -5.166 Q 1.068 -5.148, 1.068 -5.148 L 1.068 -5.508 L 2.736 -5.7 L 2.916 -5.7 Q 3.132 -5.448, 3.306 -5.064 Q 3.48 -4.68, 3.6 -4.188 L 3.744 -3.576 Z \" /></symbol><use href=\"#STIXTwoMath-Regular_3354\" transform=\"translate(39.44499999999999 -63.88) scale(1.6666666666666667)\" /><symbol id=\"STIXTwoMath-Regular_1139\" width=\"464\" height=\"51.216\" viewBox=\"0 -31.524 464 51.216\"><path d=\"M 5.5680000000000005 -1.92 L 5.184 0.0 L 0.456 0.0 L 0.456 -0.40800000000000003 L 2.2800000000000002 -2.232 Q 2.88 -2.844, 3.276 -3.3419999999999996 Q 3.672 -3.84, 3.87 -4.343999999999999 Q 4.0680000000000005 -4.848, 4.0680000000000005 -5.472 Q 4.0680000000000005 -6.144, 3.6660000000000004 -6.546 Q 3.2640000000000002 -6.948, 2.568 -6.948 Q 1.98 -6.948, 1.566 -6.696 Q 1.1520000000000001 -6.444, 0.8160000000000001 -5.772 L 0.528 -5.892 Q 0.804 -6.768, 1.404 -7.247999999999999 Q 2.004 -7.728, 2.88 -7.728 Q 3.564 -7.728, 4.08 -7.47 Q 4.596 -7.212, 4.890000000000001 -6.75 Q 5.184 -6.288, 5.184 -5.652 Q 5.184 -5.124, 4.962 -4.638 Q 4.74 -4.152, 4.302 -3.636 Q 3.864 -3.12, 3.228 -2.472 L 1.6440000000000001 -0.972 L 1.6440000000000001 -0.912 L 2.484 -0.9480000000000001 L 4.152 -0.9480000000000001 Q 4.632 -0.9480000000000001, 4.824 -1.1640000000000001 Q 5.016 -1.3800000000000001, 5.22 -1.92 Z \" /></symbol><use href=\"#STIXTwoMath-Regular_1139\" transform=\"translate(50.82499999999999 -55.318000000000005) scale(1.1666666666666667)\" /></g></g></svg>"
      ]
     },
     "execution_count": 15,
     "metadata": {},
     "output_type": "execute_result"
    }
   ],
   "source": [
    "schemdraw.settextmode('path')   # use ziamath\n",
    "d = schemdraw.Drawing(font='serif', fontsize=20)\n",
    "d += elm.Resistor().label(r'$x^2$', valign='bottom')\n",
    "d.draw(backend='svg')"
   ]
  },
  {
   "cell_type": "code",
   "execution_count": 16,
   "id": "ad6bdb8c",
   "metadata": {},
   "outputs": [
    {
     "data": {
      "image/svg+xml": [
       "<svg xmlns=\"http://www.w3.org/2000/svg\" xml:lang=\"en\" height=\"44.6944pt\" width=\"101.19999999999999pt\" viewBox=\"-2.0 -34.5944 101.19999999999999 44.6944\"><path d=\"M 0.0,-0.0 L 32.4,-0.0 L 35.099999999999994,-8.1 L 40.5,8.1 L 45.89999999999999,-8.1 L 51.3,8.1 L 56.699999999999996,-8.1 L 62.099999999999994,8.1 L 64.8,-0.0 L 97.19999999999999,-0.0\" style=\"stroke:black;fill:none;stroke-width:2;stroke-linecap:round;stroke-linejoin:round;\" /><g><g fill=\"black\"><path d=\"M 45.74499999999999 -17.299999999999997 L 46.724999999999994 -18.979999999999997 Q 47.12499999999999 -19.699999999999996, 47.74499999999999 -20.309999999999995 Q 48.364999999999995 -20.919999999999998, 49.24499999999999 -20.919999999999998 Q 49.824999999999996 -20.919999999999998, 50.035 -20.689999999999998 Q 50.24499999999999 -20.46, 50.24499999999999 -20.04 Q 50.24499999999999 -19.68, 49.98499999999999 -19.39 Q 49.724999999999994 -19.099999999999998, 49.324999999999996 -19.099999999999998 Q 49.084999999999994 -19.099999999999998, 48.785 -19.199999999999996 Q 48.48499999999999 -19.299999999999997, 48.285 -19.299999999999997 Q 47.94499999999999 -19.299999999999997, 47.70499999999999 -19.089999999999996 Q 47.46499999999999 -18.88, 47.20499999999999 -18.459999999999997 L 45.98499999999999 -16.519999999999996 L 46.404999999999994 -15.159999999999998 Q 46.824999999999996 -13.779999999999998, 47.175 -13.179999999999998 Q 47.52499999999999 -12.579999999999998, 47.98499999999999 -12.579999999999998 Q 48.38499999999999 -12.579999999999998, 48.70499999999999 -12.869999999999997 Q 49.02499999999999 -13.159999999999998, 49.425 -13.699999999999998 L 49.84499999999999 -13.379999999999999 Q 49.565 -12.939999999999998, 49.175 -12.419999999999998 Q 48.785 -11.899999999999999, 48.26499999999999 -11.52 Q 47.74499999999999 -11.139999999999999, 47.06499999999999 -11.139999999999999 Q 46.38499999999999 -11.139999999999999, 46.01499999999999 -11.68 Q 45.644999999999996 -12.219999999999999, 45.425 -13.199999999999998 L 44.925 -15.219999999999999 L 44.84499999999999 -15.219999999999999 L 43.56499999999999 -13.139999999999999 Q 43.084999999999994 -12.359999999999998, 42.52499999999999 -11.759999999999998 Q 41.964999999999996 -11.159999999999998, 41.06499999999999 -11.159999999999998 Q 40.42499999999999 -11.159999999999998, 40.16499999999999 -11.459999999999997 Q 39.904999999999994 -11.759999999999998, 39.904999999999994 -12.139999999999999 Q 39.904999999999994 -12.439999999999998, 40.114999999999995 -12.709999999999997 Q 40.324999999999996 -12.979999999999999, 40.684999999999995 -12.979999999999999 Q 41.02499999999999 -12.979999999999999, 41.35499999999999 -12.849999999999998 Q 41.684999999999995 -12.719999999999999, 41.94499999999999 -12.719999999999999 Q 41.98499999999999 -12.719999999999999, 42.12499999999999 -12.77 Q 42.26499999999999 -12.819999999999999, 42.52499999999999 -13.059999999999999 Q 42.785 -13.299999999999997, 43.16499999999999 -13.859999999999998 L 44.60499999999999 -15.959999999999997 L 44.044999999999995 -17.779999999999998 Q 43.785 -18.619999999999997, 43.52499999999999 -19.099999999999998 Q 43.26499999999999 -19.58, 42.88499999999999 -19.79 Q 42.504999999999995 -20.0, 41.84499999999999 -19.979999999999997 Q 41.60499999999999 -19.979999999999997, 41.41499999999999 -19.949999999999996 Q 41.224999999999994 -19.919999999999998, 41.224999999999994 -19.919999999999998 L 41.224999999999994 -20.519999999999996 L 44.004999999999995 -20.839999999999996 L 44.30499999999999 -20.839999999999996 Q 44.66499999999999 -20.419999999999998, 44.95499999999999 -19.779999999999998 Q 45.24499999999999 -19.139999999999997, 45.44499999999999 -18.32 L 45.684999999999995 -17.299999999999997 Z \" /><path d=\"M 57.32099999999999 -20.78 L 56.87299999999999 -18.54 L 51.356999999999985 -18.54 L 51.356999999999985 -19.016 L 53.48499999999999 -21.144 Q 54.18499999999999 -21.858, 54.64699999999999 -22.439 Q 55.10899999999999 -23.02, 55.33999999999999 -23.607999999999997 Q 55.57099999999999 -24.195999999999998, 55.57099999999999 -24.924 Q 55.57099999999999 -25.708, 55.10199999999999 -26.177 Q 54.63299999999999 -26.646, 53.82099999999999 -26.646 Q 53.13499999999999 -26.646, 52.65199999999999 -26.352 Q 52.16899999999999 -26.058, 51.77699999999999 -25.274 L 51.44099999999999 -25.414 Q 51.76299999999999 -26.436, 52.462999999999994 -26.996000000000002 Q 53.16299999999999 -27.556, 54.18499999999999 -27.556 Q 54.98299999999999 -27.556, 55.584999999999994 -27.255000000000003 Q 56.18699999999999 -26.954, 56.52999999999999 -26.415 Q 56.87299999999999 -25.876, 56.87299999999999 -25.134 Q 56.87299999999999 -24.518, 56.61399999999999 -23.951 Q 56.35499999999999 -23.384, 55.843999999999994 -22.782 Q 55.33299999999999 -22.18, 54.59099999999999 -21.424 L 52.74299999999999 -19.674 L 52.74299999999999 -19.604 L 53.72299999999999 -19.646 L 55.66899999999999 -19.646 Q 56.22899999999999 -19.646, 56.45299999999999 -19.898 Q 56.67699999999999 -20.15, 56.91499999999999 -20.78 Z \" /></g></g></svg>"
      ],
      "text/plain": [
       "<svg xmlns=\"http://www.w3.org/2000/svg\" xml:lang=\"en\" height=\"44.6944pt\" width=\"101.19999999999999pt\" viewBox=\"-2.0 -34.5944 101.19999999999999 44.6944\"><path d=\"M 0.0,-0.0 L 32.4,-0.0 L 35.099999999999994,-8.1 L 40.5,8.1 L 45.89999999999999,-8.1 L 51.3,8.1 L 56.699999999999996,-8.1 L 62.099999999999994,8.1 L 64.8,-0.0 L 97.19999999999999,-0.0\" style=\"stroke:black;fill:none;stroke-width:2;stroke-linecap:round;stroke-linejoin:round;\" /><g><g fill=\"black\"><path d=\"M 45.74499999999999 -17.299999999999997 L 46.724999999999994 -18.979999999999997 Q 47.12499999999999 -19.699999999999996, 47.74499999999999 -20.309999999999995 Q 48.364999999999995 -20.919999999999998, 49.24499999999999 -20.919999999999998 Q 49.824999999999996 -20.919999999999998, 50.035 -20.689999999999998 Q 50.24499999999999 -20.46, 50.24499999999999 -20.04 Q 50.24499999999999 -19.68, 49.98499999999999 -19.39 Q 49.724999999999994 -19.099999999999998, 49.324999999999996 -19.099999999999998 Q 49.084999999999994 -19.099999999999998, 48.785 -19.199999999999996 Q 48.48499999999999 -19.299999999999997, 48.285 -19.299999999999997 Q 47.94499999999999 -19.299999999999997, 47.70499999999999 -19.089999999999996 Q 47.46499999999999 -18.88, 47.20499999999999 -18.459999999999997 L 45.98499999999999 -16.519999999999996 L 46.404999999999994 -15.159999999999998 Q 46.824999999999996 -13.779999999999998, 47.175 -13.179999999999998 Q 47.52499999999999 -12.579999999999998, 47.98499999999999 -12.579999999999998 Q 48.38499999999999 -12.579999999999998, 48.70499999999999 -12.869999999999997 Q 49.02499999999999 -13.159999999999998, 49.425 -13.699999999999998 L 49.84499999999999 -13.379999999999999 Q 49.565 -12.939999999999998, 49.175 -12.419999999999998 Q 48.785 -11.899999999999999, 48.26499999999999 -11.52 Q 47.74499999999999 -11.139999999999999, 47.06499999999999 -11.139999999999999 Q 46.38499999999999 -11.139999999999999, 46.01499999999999 -11.68 Q 45.644999999999996 -12.219999999999999, 45.425 -13.199999999999998 L 44.925 -15.219999999999999 L 44.84499999999999 -15.219999999999999 L 43.56499999999999 -13.139999999999999 Q 43.084999999999994 -12.359999999999998, 42.52499999999999 -11.759999999999998 Q 41.964999999999996 -11.159999999999998, 41.06499999999999 -11.159999999999998 Q 40.42499999999999 -11.159999999999998, 40.16499999999999 -11.459999999999997 Q 39.904999999999994 -11.759999999999998, 39.904999999999994 -12.139999999999999 Q 39.904999999999994 -12.439999999999998, 40.114999999999995 -12.709999999999997 Q 40.324999999999996 -12.979999999999999, 40.684999999999995 -12.979999999999999 Q 41.02499999999999 -12.979999999999999, 41.35499999999999 -12.849999999999998 Q 41.684999999999995 -12.719999999999999, 41.94499999999999 -12.719999999999999 Q 41.98499999999999 -12.719999999999999, 42.12499999999999 -12.77 Q 42.26499999999999 -12.819999999999999, 42.52499999999999 -13.059999999999999 Q 42.785 -13.299999999999997, 43.16499999999999 -13.859999999999998 L 44.60499999999999 -15.959999999999997 L 44.044999999999995 -17.779999999999998 Q 43.785 -18.619999999999997, 43.52499999999999 -19.099999999999998 Q 43.26499999999999 -19.58, 42.88499999999999 -19.79 Q 42.504999999999995 -20.0, 41.84499999999999 -19.979999999999997 Q 41.60499999999999 -19.979999999999997, 41.41499999999999 -19.949999999999996 Q 41.224999999999994 -19.919999999999998, 41.224999999999994 -19.919999999999998 L 41.224999999999994 -20.519999999999996 L 44.004999999999995 -20.839999999999996 L 44.30499999999999 -20.839999999999996 Q 44.66499999999999 -20.419999999999998, 44.95499999999999 -19.779999999999998 Q 45.24499999999999 -19.139999999999997, 45.44499999999999 -18.32 L 45.684999999999995 -17.299999999999997 Z \" /><path d=\"M 57.32099999999999 -20.78 L 56.87299999999999 -18.54 L 51.356999999999985 -18.54 L 51.356999999999985 -19.016 L 53.48499999999999 -21.144 Q 54.18499999999999 -21.858, 54.64699999999999 -22.439 Q 55.10899999999999 -23.02, 55.33999999999999 -23.607999999999997 Q 55.57099999999999 -24.195999999999998, 55.57099999999999 -24.924 Q 55.57099999999999 -25.708, 55.10199999999999 -26.177 Q 54.63299999999999 -26.646, 53.82099999999999 -26.646 Q 53.13499999999999 -26.646, 52.65199999999999 -26.352 Q 52.16899999999999 -26.058, 51.77699999999999 -25.274 L 51.44099999999999 -25.414 Q 51.76299999999999 -26.436, 52.462999999999994 -26.996000000000002 Q 53.16299999999999 -27.556, 54.18499999999999 -27.556 Q 54.98299999999999 -27.556, 55.584999999999994 -27.255000000000003 Q 56.18699999999999 -26.954, 56.52999999999999 -26.415 Q 56.87299999999999 -25.876, 56.87299999999999 -25.134 Q 56.87299999999999 -24.518, 56.61399999999999 -23.951 Q 56.35499999999999 -23.384, 55.843999999999994 -22.782 Q 55.33299999999999 -22.18, 54.59099999999999 -21.424 L 52.74299999999999 -19.674 L 52.74299999999999 -19.604 L 53.72299999999999 -19.646 L 55.66899999999999 -19.646 Q 56.22899999999999 -19.646, 56.45299999999999 -19.898 Q 56.67699999999999 -20.15, 56.91499999999999 -20.78 Z \" /></g></g></svg>"
      ]
     },
     "execution_count": 16,
     "metadata": {},
     "output_type": "execute_result"
    }
   ],
   "source": [
    "schemdraw.settextmode('path', svg2=False)   # use ziamath with SVG1.x\n",
    "d = schemdraw.Drawing(font='serif', fontsize=20)\n",
    "d += elm.Resistor().label(r'$x^2$', valign='bottom')\n",
    "d.draw(backend='svg')"
   ]
  },
  {
   "cell_type": "code",
   "execution_count": 17,
   "id": "4f7a20a8",
   "metadata": {},
   "outputs": [
    {
     "data": {
      "image/svg+xml": [
       "<svg xmlns=\"http://www.w3.org/2000/svg\" xml:lang=\"en\" height=\"44.6944pt\" width=\"101.19999999999999pt\" viewBox=\"-2.0 -34.5944 101.19999999999999 44.6944\"><path d=\"M 0.0,-0.0 L 32.4,-0.0 L 35.099999999999994,-8.1 L 40.5,8.1 L 45.89999999999999,-8.1 L 51.3,8.1 L 56.699999999999996,-8.1 L 62.099999999999994,8.1 L 64.8,-0.0 L 97.19999999999999,-0.0\" style=\"stroke:black;fill:none;stroke-width:2;stroke-linecap:round;stroke-linejoin:round;\" /><text x=\"48.599999999999994\" y=\"-27.339999999999996\" fill=\"black\" font-size=\"20\" font-family=\"serif\" text-anchor=\"middle\" transform=\"rotate(0 48.599999999999994 -11.339999999999998)\"><tspan x=\"48.599999999999994\" dy=\"16.0\">x²</tspan></text></svg>"
      ],
      "text/plain": [
       "<svg xmlns=\"http://www.w3.org/2000/svg\" xml:lang=\"en\" height=\"44.6944pt\" width=\"101.19999999999999pt\" viewBox=\"-2.0 -34.5944 101.19999999999999 44.6944\"><path d=\"M 0.0,-0.0 L 32.4,-0.0 L 35.099999999999994,-8.1 L 40.5,8.1 L 45.89999999999999,-8.1 L 51.3,8.1 L 56.699999999999996,-8.1 L 62.099999999999994,8.1 L 64.8,-0.0 L 97.19999999999999,-0.0\" style=\"stroke:black;fill:none;stroke-width:2;stroke-linecap:round;stroke-linejoin:round;\" /><text x=\"48.599999999999994\" y=\"-27.339999999999996\" fill=\"black\" font-size=\"20\" font-family=\"serif\" text-anchor=\"middle\" transform=\"rotate(0 48.599999999999994 -11.339999999999998)\"><tspan x=\"48.599999999999994\" dy=\"16.0\">x²</tspan></text></svg>"
      ]
     },
     "execution_count": 17,
     "metadata": {},
     "output_type": "execute_result"
    }
   ],
   "source": [
    "schemdraw.settextmode('text')   # use <text>\n",
    "d = schemdraw.Drawing(font='serif', fontsize=20)\n",
    "d += elm.Resistor().label(r'$x^2$', valign='bottom')\n",
    "d.draw(backend='svg')\n"
   ]
  },
  {
   "cell_type": "code",
   "execution_count": 18,
   "id": "28267d40",
   "metadata": {},
   "outputs": [],
   "source": [
    "schemdraw.settextmode('path')   # use ziamath"
   ]
  },
  {
   "cell_type": "code",
   "execution_count": null,
   "id": "874e5110",
   "metadata": {},
   "outputs": [],
   "source": []
  },
  {
   "cell_type": "code",
   "execution_count": 19,
   "id": "4d6c2d77",
   "metadata": {},
   "outputs": [],
   "source": [
    "# Draw on matplotlib axis, or specify existing axis\n",
    "import matplotlib.pyplot as plt"
   ]
  },
  {
   "cell_type": "code",
   "execution_count": 20,
   "id": "782d3764",
   "metadata": {},
   "outputs": [
    {
     "data": {
      "image/png": "[encoded data removed]",
      "image/svg+xml": [
       "<?xml version=\"1.0\" encoding=\"utf-8\" standalone=\"no\"?>\n",
       "<!DOCTYPE svg PUBLIC \"-//W3C//DTD SVG 1.1//EN\"\n",
       "  \"http://www.w3.org/Graphics/SVG/1.1/DTD/svg11.dtd\">\n",
       "<svg height=\"35.82pt\" version=\"1.1\" viewBox=\"0 0 112.32 35.82\" width=\"112.32pt\" xmlns=\"http://www.w3.org/2000/svg\" xmlns:xlink=\"http://www.w3.org/1999/xlink\">\n",
       " <metadata>\n",
       "  <rdf:RDF xmlns:cc=\"http://creativecommons.org/ns#\" xmlns:dc=\"http://purl.org/dc/elements/1.1/\" xmlns:rdf=\"http://www.w3.org/1999/02/22-rdf-syntax-ns#\">\n",
       "   <cc:Work>\n",
       "    <dc:type rdf:resource=\"http://purl.org/dc/dcmitype/StillImage\"/>\n",
       "    <dc:date>2021-11-05T16:26:29.246621</dc:date>\n",
       "    <dc:format>image/svg+xml</dc:format>\n",
       "    <dc:creator>\n",
       "     <cc:Agent>\n",
       "      <dc:title>Matplotlib v3.4.2, https://matplotlib.org/</dc:title>\n",
       "     </cc:Agent>\n",
       "    </dc:creator>\n",
       "   </cc:Work>\n",
       "  </rdf:RDF>\n",
       " </metadata>\n",
       " <defs>\n",
       "  <style type=\"text/css\">*{stroke-linecap:butt;stroke-linejoin:round;}</style>\n",
       " </defs>\n",
       " <g id=\"figure_1\">\n",
       "  <g id=\"patch_1\">\n",
       "   <path d=\"M 0 35.82 \n",
       "L 112.32 35.82 \n",
       "L 112.32 -0 \n",
       "L 0 -0 \n",
       "z\n",
       "\" style=\"fill:none;\"/>\n",
       "  </g>\n",
       "  <g id=\"axes_1\">\n",
       "   <g id=\"line2d_1\">\n",
       "    <path clip-path=\"url(#p1e65654a9d)\" d=\"M 10.26 17.91 \n",
       "L 40.86 17.91 \n",
       "L 43.41 10.26 \n",
       "L 48.51 25.56 \n",
       "L 53.61 10.26 \n",
       "L 58.71 25.56 \n",
       "L 63.81 10.26 \n",
       "L 68.91 25.56 \n",
       "L 71.46 17.91 \n",
       "L 102.06 17.91 \n",
       "\" style=\"fill:none;stroke:#000000;stroke-linecap:round;stroke-width:2;\"/>\n",
       "   </g>\n",
       "   <g id=\"line2d_2\">\n",
       "    <path clip-path=\"url(#p1e65654a9d)\" d=\"M 25.56 28.62 \n",
       "L 25.56 7.2 \n",
       "\" style=\"fill:none;stroke:#800080;stroke-dasharray:5.55,2.4;stroke-dashoffset:0;stroke-width:1.5;\"/>\n",
       "   </g>\n",
       "   <g id=\"line2d_3\">\n",
       "    <path clip-path=\"url(#p1e65654a9d)\" d=\"M 86.76 28.62 \n",
       "L 86.76 7.2 \n",
       "\" style=\"fill:none;stroke:#ffa500;stroke-linecap:square;stroke-width:3;\"/>\n",
       "   </g>\n",
       "  </g>\n",
       " </g>\n",
       " <defs>\n",
       "  <clipPath id=\"p1e65654a9d\">\n",
       "   <rect height=\"21.42\" width=\"97.92\" x=\"7.2\" y=\"7.2\"/>\n",
       "  </clipPath>\n",
       " </defs>\n",
       "</svg>\n"
      ],
      "text/plain": [
       "<schemdraw.backends.mpl.Figure object at 0x7e98ef624d60>"
      ]
     },
     "metadata": {},
     "output_type": "display_data"
    }
   ],
   "source": [
    "schemdraw.use('matplotlib')\n",
    "d = schemdraw.Drawing()\n",
    "d.add(elm.Resistor)\n",
    "schemfig = d.draw()\n",
    "schemfig.ax.axvline(.5, color='purple', ls='--')\n",
    "schemfig.ax.axvline(2.5, color='orange', ls='-', lw=3);\n",
    "display(schemfig)"
   ]
  },
  {
   "cell_type": "code",
   "execution_count": 21,
   "id": "842379a0",
   "metadata": {},
   "outputs": [
    {
     "data": {
      "image/png": "[encoded data removed]",
      "text/plain": [
       "<Figure size 432x288 with 1 Axes>"
      ]
     },
     "execution_count": 21,
     "metadata": {},
     "output_type": "execute_result"
    },
    {
     "data": {
      "image/png": "[encoded data removed]",
      "text/plain": [
       "<Figure size 432x288 with 1 Axes>"
      ]
     },
     "metadata": {
      "needs_background": "light"
     },
     "output_type": "display_data"
    }
   ],
   "source": [
    "fig, ax = plt.subplots()\n",
    "ax.set_aspect('equal')\n",
    "d = schemdraw.Drawing()\n",
    "d += elm.Inductor()\n",
    "d.draw(ax=ax)\n",
    "ax.axvline(0, ls='--', color='red')\n",
    "fig"
   ]
  },
  {
   "cell_type": "code",
   "execution_count": 22,
   "id": "f9ca19c3",
   "metadata": {},
   "outputs": [
    {
     "data": {
      "image/png": "[encoded data removed]",
      "image/svg+xml": [
       "<?xml version=\"1.0\" encoding=\"utf-8\" standalone=\"no\"?>\n",
       "<!DOCTYPE svg PUBLIC \"-//W3C//DTD SVG 1.1//EN\"\n",
       "  \"http://www.w3.org/Graphics/SVG/1.1/DTD/svg11.dtd\">\n",
       "<svg height=\"35.812139pt\" version=\"1.1\" viewBox=\"0 0 112.32 35.812139\" width=\"112.32pt\" xmlns=\"http://www.w3.org/2000/svg\" xmlns:xlink=\"http://www.w3.org/1999/xlink\">\n",
       " <metadata>\n",
       "  <rdf:RDF xmlns:cc=\"http://creativecommons.org/ns#\" xmlns:dc=\"http://purl.org/dc/elements/1.1/\" xmlns:rdf=\"http://www.w3.org/1999/02/22-rdf-syntax-ns#\">\n",
       "   <cc:Work>\n",
       "    <dc:type rdf:resource=\"http://purl.org/dc/dcmitype/StillImage\"/>\n",
       "    <dc:date>2021-11-05T16:26:34.660993</dc:date>\n",
       "    <dc:format>image/svg+xml</dc:format>\n",
       "    <dc:creator>\n",
       "     <cc:Agent>\n",
       "      <dc:title>Matplotlib v3.4.2, https://matplotlib.org/</dc:title>\n",
       "     </cc:Agent>\n",
       "    </dc:creator>\n",
       "   </cc:Work>\n",
       "  </rdf:RDF>\n",
       " </metadata>\n",
       " <defs>\n",
       "  <style type=\"text/css\">*{stroke-linecap:butt;stroke-linejoin:round;}</style>\n",
       " </defs>\n",
       " <g id=\"figure_1\">\n",
       "  <g id=\"patch_1\">\n",
       "   <path d=\"M 0 35.812139 \n",
       "L 112.32 35.812139 \n",
       "L 112.32 0 \n",
       "L 0 0 \n",
       "z\n",
       "\"/>\n",
       "  </g>\n",
       "  <g id=\"axes_1\">\n",
       "   <g id=\"line2d_1\">\n",
       "    <path clip-path=\"url(#pb0042a4818)\" d=\"M 10.26 17.90607 \n",
       "L 42.696 17.90607 \n",
       "L 43.245551 16.927809 \n",
       "L 43.795102 15.965612 \n",
       "L 44.344653 15.035277 \n",
       "L 44.894204 14.15208 \n",
       "L 45.443755 13.330524 \n",
       "L 45.993306 12.584098 \n",
       "L 46.542857 11.925059 \n",
       "L 47.092408 11.364227 \n",
       "L 47.641959 10.910813 \n",
       "L 48.19151 10.57226 \n",
       "L 48.741061 10.354129 \n",
       "L 49.290612 10.26 \n",
       "L 49.840163 10.291419 \n",
       "L 50.389714 10.447871 \n",
       "L 50.939265 10.726786 \n",
       "L 51.488816 11.123585 \n",
       "L 52.038367 11.631752 \n",
       "L 52.587918 12.242943 \n",
       "L 53.137469 12.947122 \n",
       "L 53.68702 13.732728 \n",
       "L 54.236571 14.586859 \n",
       "L 54.786122 15.495492 \n",
       "L 55.335673 16.443706 \n",
       "L 55.885224 17.415932 \n",
       "L 56.434776 18.396207 \n",
       "L 56.984327 19.368433 \n",
       "L 57.533878 20.316647 \n",
       "L 58.083429 21.22528 \n",
       "L 58.63298 22.079412 \n",
       "L 59.182531 22.865017 \n",
       "L 59.732082 23.569196 \n",
       "L 60.281633 24.180387 \n",
       "L 60.831184 24.688554 \n",
       "L 61.380735 25.085353 \n",
       "L 61.930286 25.364268 \n",
       "L 62.479837 25.52072 \n",
       "L 63.029388 25.552139 \n",
       "L 63.578939 25.45801 \n",
       "L 64.12849 25.239879 \n",
       "L 64.678041 24.901326 \n",
       "L 65.227592 24.447912 \n",
       "L 65.777143 23.88708 \n",
       "L 66.326694 23.228041 \n",
       "L 66.876245 22.481615 \n",
       "L 67.425796 21.660059 \n",
       "L 67.975347 20.776862 \n",
       "L 68.524898 19.846527 \n",
       "L 69.074449 18.88433 \n",
       "L 69.624 17.90607 \n",
       "L 102.06 17.90607 \n",
       "\" style=\"fill:none;stroke:#ffffff;stroke-linecap:round;stroke-width:2;\"/>\n",
       "   </g>\n",
       "   <g id=\"line2d_2\">\n",
       "    <path clip-path=\"url(#pb0042a4818)\" d=\"M 35.352 17.90607 \n",
       "M 76.968 17.90607 \n",
       "\" style=\"fill:none;stroke:#ffffff;stroke-linecap:round;stroke-width:2;\"/>\n",
       "   </g>\n",
       "   <g id=\"patch_2\">\n",
       "    <path clip-path=\"url(#pb0042a4818)\" d=\"M 39.024 21.57807 \n",
       "C 39.997826 21.57807 40.931897 21.191164 41.620496 20.502566 \n",
       "C 42.309095 19.813967 42.696 18.879895 42.696 17.90607 \n",
       "C 42.696 16.932244 42.309095 15.998172 41.620496 15.309573 \n",
       "C 40.931897 14.620975 39.997826 14.23407 39.024 14.23407 \n",
       "C 38.050174 14.23407 37.116103 14.620975 36.427504 15.309573 \n",
       "C 35.738905 15.998172 35.352 16.932244 35.352 17.90607 \n",
       "C 35.352 18.879895 35.738905 19.813967 36.427504 20.502566 \n",
       "C 37.116103 21.191164 38.050174 21.57807 39.024 21.57807 \n",
       "z\n",
       "\" style=\"stroke:#ffffff;stroke-linejoin:miter;stroke-width:2;\"/>\n",
       "   </g>\n",
       "   <g id=\"patch_3\">\n",
       "    <path clip-path=\"url(#pb0042a4818)\" d=\"M 73.296 21.57807 \n",
       "C 74.269826 21.57807 75.203897 21.191164 75.892496 20.502566 \n",
       "C 76.581095 19.813967 76.968 18.879895 76.968 17.90607 \n",
       "C 76.968 16.932244 76.581095 15.998172 75.892496 15.309573 \n",
       "C 75.203897 14.620975 74.269826 14.23407 73.296 14.23407 \n",
       "C 72.322174 14.23407 71.388103 14.620975 70.699504 15.309573 \n",
       "C 70.010905 15.998172 69.624 16.932244 69.624 17.90607 \n",
       "C 69.624 18.879895 70.010905 19.813967 70.699504 20.502566 \n",
       "C 71.388103 21.191164 72.322174 21.57807 73.296 21.57807 \n",
       "z\n",
       "\" style=\"stroke:#ffffff;stroke-linejoin:miter;stroke-width:2;\"/>\n",
       "   </g>\n",
       "  </g>\n",
       " </g>\n",
       " <defs>\n",
       "  <clipPath id=\"pb0042a4818\">\n",
       "   <rect height=\"21.412139\" width=\"97.92\" x=\"7.2\" y=\"7.2\"/>\n",
       "  </clipPath>\n",
       " </defs>\n",
       "</svg>\n"
      ],
      "text/plain": [
       "<schemdraw.backends.mpl.Figure object at 0x7e98ef513400>"
      ]
     },
     "execution_count": 22,
     "metadata": {},
     "output_type": "execute_result"
    }
   ],
   "source": [
    "schemdraw.theme('dark')\n",
    "d = schemdraw.Drawing()\n",
    "d += elm.FuseUS()\n",
    "d.draw()"
   ]
  },
  {
   "cell_type": "code",
   "execution_count": 23,
   "id": "2ea55813",
   "metadata": {},
   "outputs": [],
   "source": [
    "d.save('testMPL.png')"
   ]
  },
  {
   "cell_type": "code",
   "execution_count": null,
   "id": "828a22f1",
   "metadata": {},
   "outputs": [],
   "source": []
  },
  {
   "cell_type": "code",
   "execution_count": null,
   "id": "37c7b3d0",
   "metadata": {},
   "outputs": [],
   "source": []
  },
  {
   "cell_type": "code",
   "execution_count": 24,
   "id": "92a13128",
   "metadata": {},
   "outputs": [
    {
     "data": {
      "image/png": "[encoded data removed]",
      "image/svg+xml": [
       "<?xml version=\"1.0\" encoding=\"utf-8\" standalone=\"no\"?>\n",
       "<!DOCTYPE svg PUBLIC \"-//W3C//DTD SVG 1.1//EN\"\n",
       "  \"http://www.w3.org/Graphics/SVG/1.1/DTD/svg11.dtd\">\n",
       "<svg height=\"35.82pt\" version=\"1.1\" viewBox=\"0 0 204.12 35.82\" width=\"204.12pt\" xmlns=\"http://www.w3.org/2000/svg\" xmlns:xlink=\"http://www.w3.org/1999/xlink\">\n",
       " <metadata>\n",
       "  <rdf:RDF xmlns:cc=\"http://creativecommons.org/ns#\" xmlns:dc=\"http://purl.org/dc/elements/1.1/\" xmlns:rdf=\"http://www.w3.org/1999/02/22-rdf-syntax-ns#\">\n",
       "   <cc:Work>\n",
       "    <dc:type rdf:resource=\"http://purl.org/dc/dcmitype/StillImage\"/>\n",
       "    <dc:date>2021-11-05T16:26:34.958831</dc:date>\n",
       "    <dc:format>image/svg+xml</dc:format>\n",
       "    <dc:creator>\n",
       "     <cc:Agent>\n",
       "      <dc:title>Matplotlib v3.4.2, https://matplotlib.org/</dc:title>\n",
       "     </cc:Agent>\n",
       "    </dc:creator>\n",
       "   </cc:Work>\n",
       "  </rdf:RDF>\n",
       " </metadata>\n",
       " <defs>\n",
       "  <style type=\"text/css\">*{stroke-linecap:butt;stroke-linejoin:round;}</style>\n",
       " </defs>\n",
       " <g id=\"figure_1\">\n",
       "  <g id=\"patch_1\">\n",
       "   <path d=\"M 0 35.82 \n",
       "L 204.12 35.82 \n",
       "L 204.12 -0 \n",
       "L 0 -0 \n",
       "z\n",
       "\"/>\n",
       "  </g>\n",
       "  <g id=\"axes_1\">\n",
       "   <g id=\"line2d_1\">\n",
       "    <path clip-path=\"url(#pb307ebf753)\" d=\"M 10.26 17.91 \n",
       "L 40.86 17.91 \n",
       "L 43.41 10.26 \n",
       "L 48.51 25.56 \n",
       "L 53.61 10.26 \n",
       "L 58.71 25.56 \n",
       "L 63.81 10.26 \n",
       "L 68.91 25.56 \n",
       "L 71.46 17.91 \n",
       "L 102.06 17.91 \n",
       "\" style=\"fill:none;stroke:#ffffff;stroke-width:2;\"/>\n",
       "   </g>\n",
       "   <g id=\"line2d_2\">\n",
       "    <path clip-path=\"url(#pb307ebf753)\" d=\"M 102.06 17.91 \n",
       "L 132.66 17.91 \n",
       "L 135.21 10.26 \n",
       "L 140.31 25.56 \n",
       "L 145.41 10.26 \n",
       "L 150.51 25.56 \n",
       "L 155.61 10.26 \n",
       "L 160.71 25.56 \n",
       "L 163.26 17.91 \n",
       "L 193.86 17.91 \n",
       "\" style=\"fill:none;stroke:#ffffff;stroke-linecap:square;stroke-width:2;\"/>\n",
       "   </g>\n",
       "  </g>\n",
       " </g>\n",
       " <defs>\n",
       "  <clipPath id=\"pb307ebf753\">\n",
       "   <rect height=\"21.42\" width=\"189.72\" x=\"7.2\" y=\"7.2\"/>\n",
       "  </clipPath>\n",
       " </defs>\n",
       "</svg>\n"
      ],
      "text/plain": [
       "<schemdraw.backends.mpl.Figure object at 0x7e98ef542130>"
      ]
     },
     "execution_count": 24,
     "metadata": {},
     "output_type": "execute_result"
    }
   ],
   "source": [
    "# Capstyle names are different in SVG vs Matplotlib\n",
    "# projecting == butt\n",
    "d = schemdraw.Drawing()\n",
    "d += elm.Resistor(capstyle='butt')\n",
    "d += elm.Resistor(capstyle='projecting')\n",
    "d.draw()"
   ]
  },
  {
   "cell_type": "code",
   "execution_count": 25,
   "id": "1735cb1a",
   "metadata": {},
   "outputs": [
    {
     "data": {
      "image/svg+xml": [
       "<svg xmlns=\"http://www.w3.org/2000/svg\" xml:lang=\"en\" height=\"20.2pt\" width=\"198.39999999999998pt\" viewBox=\"-2.0 -10.1 198.39999999999998 20.2\" style=\"background-color:black;\"><path d=\"M 0.0,-0.0 L 32.4,-0.0 L 35.099999999999994,-8.1 L 40.5,8.1 L 45.89999999999999,-8.1 L 51.3,8.1 L 56.699999999999996,-8.1 L 62.099999999999994,8.1 L 64.8,-0.0 L 97.19999999999999,-0.0\" style=\"stroke:white;fill:none;stroke-width:2;stroke-linecap:butt;stroke-linejoin:round;\" /><path d=\"M 97.19999999999999,-0.0 L 129.6,-0.0 L 132.29999999999998,-8.1 L 137.7,8.1 L 143.09999999999997,-8.1 L 148.49999999999997,8.1 L 153.9,-8.1 L 159.29999999999998,8.1 L 162.0,-0.0 L 194.39999999999998,-0.0\" style=\"stroke:white;fill:none;stroke-width:2;stroke-linecap:square;stroke-linejoin:round;\" /></svg>"
      ],
      "text/plain": [
       "<svg xmlns=\"http://www.w3.org/2000/svg\" xml:lang=\"en\" height=\"20.2pt\" width=\"198.39999999999998pt\" viewBox=\"-2.0 -10.1 198.39999999999998 20.2\" style=\"background-color:black;\"><path d=\"M 0.0,-0.0 L 32.4,-0.0 L 35.099999999999994,-8.1 L 40.5,8.1 L 45.89999999999999,-8.1 L 51.3,8.1 L 56.699999999999996,-8.1 L 62.099999999999994,8.1 L 64.8,-0.0 L 97.19999999999999,-0.0\" style=\"stroke:white;fill:none;stroke-width:2;stroke-linecap:butt;stroke-linejoin:round;\" /><path d=\"M 97.19999999999999,-0.0 L 129.6,-0.0 L 132.29999999999998,-8.1 L 137.7,8.1 L 143.09999999999997,-8.1 L 148.49999999999997,8.1 L 153.9,-8.1 L 159.29999999999998,8.1 L 162.0,-0.0 L 194.39999999999998,-0.0\" style=\"stroke:white;fill:none;stroke-width:2;stroke-linecap:square;stroke-linejoin:round;\" /></svg>"
      ]
     },
     "execution_count": 25,
     "metadata": {},
     "output_type": "execute_result"
    }
   ],
   "source": [
    "d = schemdraw.Drawing()\n",
    "d += elm.Resistor(capstyle='butt')\n",
    "d += elm.Resistor(capstyle='projecting')\n",
    "d.draw(backend='svg')"
   ]
  },
  {
   "cell_type": "code",
   "execution_count": null,
   "id": "0ef22aaa",
   "metadata": {},
   "outputs": [],
   "source": []
  },
  {
   "cell_type": "code",
   "execution_count": 26,
   "id": "b0d0afef",
   "metadata": {},
   "outputs": [
    {
     "data": {
      "image/png": "[encoded data removed]",
      "image/svg+xml": [
       "<?xml version=\"1.0\" encoding=\"utf-8\" standalone=\"no\"?>\n",
       "<!DOCTYPE svg PUBLIC \"-//W3C//DTD SVG 1.1//EN\"\n",
       "  \"http://www.w3.org/Graphics/SVG/1.1/DTD/svg11.dtd\">\n",
       "<svg height=\"79.834125pt\" version=\"1.1\" viewBox=\"0 0 74.803813 79.834125\" width=\"74.803813pt\" xmlns=\"http://www.w3.org/2000/svg\" xmlns:xlink=\"http://www.w3.org/1999/xlink\">\n",
       " <metadata>\n",
       "  <rdf:RDF xmlns:cc=\"http://creativecommons.org/ns#\" xmlns:dc=\"http://purl.org/dc/elements/1.1/\" xmlns:rdf=\"http://www.w3.org/1999/02/22-rdf-syntax-ns#\">\n",
       "   <cc:Work>\n",
       "    <dc:type rdf:resource=\"http://purl.org/dc/dcmitype/StillImage\"/>\n",
       "    <dc:date>2021-11-05T16:26:35.204677</dc:date>\n",
       "    <dc:format>image/svg+xml</dc:format>\n",
       "    <dc:creator>\n",
       "     <cc:Agent>\n",
       "      <dc:title>Matplotlib v3.4.2, https://matplotlib.org/</dc:title>\n",
       "     </cc:Agent>\n",
       "    </dc:creator>\n",
       "   </cc:Work>\n",
       "  </rdf:RDF>\n",
       " </metadata>\n",
       " <defs>\n",
       "  <style type=\"text/css\">*{stroke-linecap:butt;stroke-linejoin:round;}</style>\n",
       " </defs>\n",
       " <g id=\"figure_1\">\n",
       "  <g id=\"patch_1\">\n",
       "   <path d=\"M -0 79.834125 \n",
       "L 74.803813 79.834125 \n",
       "L 74.803813 0 \n",
       "L -0 0 \n",
       "z\n",
       "\" style=\"fill:#ffffff;\"/>\n",
       "  </g>\n",
       "  <g id=\"axes_1\">\n",
       "   <g id=\"patch_2\">\n",
       "    <path d=\"M 38.482813 55.956 \n",
       "L 67.603813 55.956 \n",
       "L 67.603813 7.2 \n",
       "L 38.482813 7.2 \n",
       "z\n",
       "\" style=\"fill:#ffffff;\"/>\n",
       "   </g>\n",
       "   <g id=\"matplotlib.axis_1\">\n",
       "    <g id=\"xtick_1\">\n",
       "     <g id=\"line2d_1\">\n",
       "      <defs>\n",
       "       <path d=\"M 0 0 \n",
       "L 0 3.5 \n",
       "\" id=\"mb41506c3a9\" style=\"stroke:#000000;stroke-width:0.8;\"/>\n",
       "      </defs>\n",
       "      <g>\n",
       "       <use style=\"stroke:#000000;stroke-width:0.8;\" x=\"41.542813\" xlink:href=\"#mb41506c3a9\" y=\"55.956\"/>\n",
       "      </g>\n",
       "     </g>\n",
       "     <g id=\"text_1\">\n",
       "      <!-- 0.0 -->\n",
       "      <g transform=\"translate(33.59125 70.554437)scale(0.1 -0.1)\">\n",
       "       <defs>\n",
       "        <path d=\"M 2034 4250 \n",
       "Q 1547 4250 1301 3770 \n",
       "Q 1056 3291 1056 2328 \n",
       "Q 1056 1369 1301 889 \n",
       "Q 1547 409 2034 409 \n",
       "Q 2525 409 2770 889 \n",
       "Q 3016 1369 3016 2328 \n",
       "Q 3016 3291 2770 3770 \n",
       "Q 2525 4250 2034 4250 \n",
       "z\n",
       "M 2034 4750 \n",
       "Q 2819 4750 3233 4129 \n",
       "Q 3647 3509 3647 2328 \n",
       "Q 3647 1150 3233 529 \n",
       "Q 2819 -91 2034 -91 \n",
       "Q 1250 -91 836 529 \n",
       "Q 422 1150 422 2328 \n",
       "Q 422 3509 836 4129 \n",
       "Q 1250 4750 2034 4750 \n",
       "z\n",
       "\" id=\"DejaVuSans-30\" transform=\"scale(0.015625)\"/>\n",
       "        <path d=\"M 684 794 \n",
       "L 1344 794 \n",
       "L 1344 0 \n",
       "L 684 0 \n",
       "L 684 794 \n",
       "z\n",
       "\" id=\"DejaVuSans-2e\" transform=\"scale(0.015625)\"/>\n",
       "       </defs>\n",
       "       <use xlink:href=\"#DejaVuSans-30\"/>\n",
       "       <use x=\"63.623047\" xlink:href=\"#DejaVuSans-2e\"/>\n",
       "       <use x=\"95.410156\" xlink:href=\"#DejaVuSans-30\"/>\n",
       "      </g>\n",
       "     </g>\n",
       "    </g>\n",
       "    <g id=\"xtick_2\">\n",
       "     <g id=\"line2d_2\">\n",
       "      <g>\n",
       "       <use style=\"stroke:#000000;stroke-width:0.8;\" x=\"56.842813\" xlink:href=\"#mb41506c3a9\" y=\"55.956\"/>\n",
       "      </g>\n",
       "     </g>\n",
       "     <g id=\"text_2\">\n",
       "      <!-- 0.5 -->\n",
       "      <g transform=\"translate(48.89125 70.554437)scale(0.1 -0.1)\">\n",
       "       <defs>\n",
       "        <path d=\"M 691 4666 \n",
       "L 3169 4666 \n",
       "L 3169 4134 \n",
       "L 1269 4134 \n",
       "L 1269 2991 \n",
       "Q 1406 3038 1543 3061 \n",
       "Q 1681 3084 1819 3084 \n",
       "Q 2600 3084 3056 2656 \n",
       "Q 3513 2228 3513 1497 \n",
       "Q 3513 744 3044 326 \n",
       "Q 2575 -91 1722 -91 \n",
       "Q 1428 -91 1123 -41 \n",
       "Q 819 9 494 109 \n",
       "L 494 744 \n",
       "Q 775 591 1075 516 \n",
       "Q 1375 441 1709 441 \n",
       "Q 2250 441 2565 725 \n",
       "Q 2881 1009 2881 1497 \n",
       "Q 2881 1984 2565 2268 \n",
       "Q 2250 2553 1709 2553 \n",
       "Q 1456 2553 1204 2497 \n",
       "Q 953 2441 691 2322 \n",
       "L 691 4666 \n",
       "z\n",
       "\" id=\"DejaVuSans-35\" transform=\"scale(0.015625)\"/>\n",
       "       </defs>\n",
       "       <use xlink:href=\"#DejaVuSans-30\"/>\n",
       "       <use x=\"63.623047\" xlink:href=\"#DejaVuSans-2e\"/>\n",
       "       <use x=\"95.410156\" xlink:href=\"#DejaVuSans-35\"/>\n",
       "      </g>\n",
       "     </g>\n",
       "    </g>\n",
       "   </g>\n",
       "   <g id=\"matplotlib.axis_2\">\n",
       "    <g id=\"ytick_1\">\n",
       "     <g id=\"line2d_3\">\n",
       "      <defs>\n",
       "       <path d=\"M 0 0 \n",
       "L -3.5 0 \n",
       "\" id=\"m101e90e4b1\" style=\"stroke:#000000;stroke-width:0.8;\"/>\n",
       "      </defs>\n",
       "      <g>\n",
       "       <use style=\"stroke:#000000;stroke-width:0.8;\" x=\"38.482813\" xlink:href=\"#m101e90e4b1\" y=\"46.878\"/>\n",
       "      </g>\n",
       "     </g>\n",
       "     <g id=\"text_3\">\n",
       "      <!-- −0.5 -->\n",
       "      <g transform=\"translate(7.2 50.677219)scale(0.1 -0.1)\">\n",
       "       <defs>\n",
       "        <path d=\"M 678 2272 \n",
       "L 4684 2272 \n",
       "L 4684 1741 \n",
       "L 678 1741 \n",
       "L 678 2272 \n",
       "z\n",
       "\" id=\"DejaVuSans-2212\" transform=\"scale(0.015625)\"/>\n",
       "       </defs>\n",
       "       <use xlink:href=\"#DejaVuSans-2212\"/>\n",
       "       <use x=\"83.789062\" xlink:href=\"#DejaVuSans-30\"/>\n",
       "       <use x=\"147.412109\" xlink:href=\"#DejaVuSans-2e\"/>\n",
       "       <use x=\"179.199219\" xlink:href=\"#DejaVuSans-35\"/>\n",
       "      </g>\n",
       "     </g>\n",
       "    </g>\n",
       "    <g id=\"ytick_2\">\n",
       "     <g id=\"line2d_4\">\n",
       "      <g>\n",
       "       <use style=\"stroke:#000000;stroke-width:0.8;\" x=\"38.482813\" xlink:href=\"#m101e90e4b1\" y=\"31.578\"/>\n",
       "      </g>\n",
       "     </g>\n",
       "     <g id=\"text_4\">\n",
       "      <!-- 0.0 -->\n",
       "      <g transform=\"translate(15.579688 35.377219)scale(0.1 -0.1)\">\n",
       "       <use xlink:href=\"#DejaVuSans-30\"/>\n",
       "       <use x=\"63.623047\" xlink:href=\"#DejaVuSans-2e\"/>\n",
       "       <use x=\"95.410156\" xlink:href=\"#DejaVuSans-30\"/>\n",
       "      </g>\n",
       "     </g>\n",
       "    </g>\n",
       "    <g id=\"ytick_3\">\n",
       "     <g id=\"line2d_5\">\n",
       "      <g>\n",
       "       <use style=\"stroke:#000000;stroke-width:0.8;\" x=\"38.482813\" xlink:href=\"#m101e90e4b1\" y=\"16.278\"/>\n",
       "      </g>\n",
       "     </g>\n",
       "     <g id=\"text_5\">\n",
       "      <!-- 0.5 -->\n",
       "      <g transform=\"translate(15.579688 20.077219)scale(0.1 -0.1)\">\n",
       "       <use xlink:href=\"#DejaVuSans-30\"/>\n",
       "       <use x=\"63.623047\" xlink:href=\"#DejaVuSans-2e\"/>\n",
       "       <use x=\"95.410156\" xlink:href=\"#DejaVuSans-35\"/>\n",
       "      </g>\n",
       "     </g>\n",
       "    </g>\n",
       "   </g>\n",
       "   <g id=\"line2d_6\">\n",
       "    <path clip-path=\"url(#p3e3bc607ba)\" d=\"M 41.542813 31.578 \n",
       "L 52.762813 31.578 \n",
       "\" style=\"fill:none;stroke:#000000;stroke-linecap:round;stroke-width:2;\"/>\n",
       "   </g>\n",
       "   <g id=\"line2d_7\">\n",
       "    <path clip-path=\"url(#p3e3bc607ba)\" d=\"M 52.762813 20.358 \n",
       "L 52.762813 42.798 \n",
       "\" style=\"fill:none;stroke:#000000;stroke-linecap:round;stroke-width:2;\"/>\n",
       "   </g>\n",
       "   <g id=\"line2d_8\">\n",
       "    <path clip-path=\"url(#p3e3bc607ba)\" d=\"M 52.762813 25.968 \n",
       "L 64.543813 15.87 \n",
       "L 64.543813 10.26 \n",
       "\" style=\"fill:none;stroke:#000000;stroke-linecap:round;stroke-width:2;\"/>\n",
       "   </g>\n",
       "   <g id=\"line2d_9\">\n",
       "    <path clip-path=\"url(#p3e3bc607ba)\" d=\"M 52.762813 37.188 \n",
       "L 64.543813 47.286 \n",
       "L 64.543813 52.896 \n",
       "\" style=\"fill:none;stroke:#000000;stroke-linecap:round;stroke-width:2;\"/>\n",
       "   </g>\n",
       "   <g id=\"patch_3\">\n",
       "    <path d=\"M 38.482813 55.956 \n",
       "L 38.482813 7.2 \n",
       "\" style=\"fill:none;stroke:#000000;stroke-linecap:square;stroke-linejoin:miter;stroke-width:0.8;\"/>\n",
       "   </g>\n",
       "   <g id=\"patch_4\">\n",
       "    <path d=\"M 67.603813 55.956 \n",
       "L 67.603813 7.2 \n",
       "\" style=\"fill:none;stroke:#000000;stroke-linecap:square;stroke-linejoin:miter;stroke-width:0.8;\"/>\n",
       "   </g>\n",
       "   <g id=\"patch_5\">\n",
       "    <path d=\"M 38.482813 55.956 \n",
       "L 67.603813 55.956 \n",
       "\" style=\"fill:none;stroke:#000000;stroke-linecap:square;stroke-linejoin:miter;stroke-width:0.8;\"/>\n",
       "   </g>\n",
       "   <g id=\"patch_6\">\n",
       "    <path d=\"M 38.482813 7.2 \n",
       "L 67.603813 7.2 \n",
       "\" style=\"fill:none;stroke:#000000;stroke-linecap:square;stroke-linejoin:miter;stroke-width:0.8;\"/>\n",
       "   </g>\n",
       "  </g>\n",
       " </g>\n",
       " <defs>\n",
       "  <clipPath id=\"p3e3bc607ba\">\n",
       "   <rect height=\"48.756\" width=\"29.121\" x=\"38.482813\" y=\"7.2\"/>\n",
       "  </clipPath>\n",
       " </defs>\n",
       "</svg>\n"
      ],
      "text/plain": [
       "<schemdraw.backends.mpl.Figure object at 0x7e98ef5c2e80>"
      ]
     },
     "execution_count": 26,
     "metadata": {},
     "output_type": "execute_result"
    }
   ],
   "source": [
    "schemdraw.theme('default')\n",
    "d = schemdraw.Drawing()\n",
    "d += elm.Bjt()\n",
    "d.draw(showframe=True)"
   ]
  },
  {
   "cell_type": "code",
   "execution_count": 27,
   "id": "4c03a06a",
   "metadata": {},
   "outputs": [
    {
     "data": {
      "image/svg+xml": [
       "<svg xmlns=\"http://www.w3.org/2000/svg\" xml:lang=\"en\" height=\"49.144pt\" width=\"28.353999999999996pt\" viewBox=\"-2.0 -24.572 28.353999999999996 49.144\" style=\"background-color:white;\"><rect x=\"-2.0\" y=\"-24.572\" width=\"24.353999999999996\" height=\"45.144\" style=\"fill:none; stroke-width:1; stroke:black;\" /><path d=\"M 0.0,-0.0 L 11.879999999999999,-0.0\" style=\"stroke:black;fill:none;stroke-width:2;stroke-linecap:round;stroke-linejoin:round;\" /><path d=\"M 11.879999999999999,-11.879999999999999 L 11.879999999999999,11.879999999999999\" style=\"stroke:black;fill:none;stroke-width:2;stroke-linecap:round;stroke-linejoin:round;\" /><path d=\"M 11.879999999999999,-5.9399999999999995 L 24.353999999999996,-16.631999999999998 L 24.353999999999996,-22.572\" style=\"stroke:black;fill:none;stroke-width:2;stroke-linecap:round;stroke-linejoin:round;\" /><path d=\"M 11.879999999999999,5.9399999999999995 L 24.353999999999996,16.631999999999998 L 24.353999999999996,22.572\" style=\"stroke:black;fill:none;stroke-width:2;stroke-linecap:round;stroke-linejoin:round;\" /></svg>"
      ],
      "text/plain": [
       "<svg xmlns=\"http://www.w3.org/2000/svg\" xml:lang=\"en\" height=\"49.144pt\" width=\"28.353999999999996pt\" viewBox=\"-2.0 -24.572 28.353999999999996 49.144\" style=\"background-color:white;\"><rect x=\"-2.0\" y=\"-24.572\" width=\"24.353999999999996\" height=\"45.144\" style=\"fill:none; stroke-width:1; stroke:black;\" /><path d=\"M 0.0,-0.0 L 11.879999999999999,-0.0\" style=\"stroke:black;fill:none;stroke-width:2;stroke-linecap:round;stroke-linejoin:round;\" /><path d=\"M 11.879999999999999,-11.879999999999999 L 11.879999999999999,11.879999999999999\" style=\"stroke:black;fill:none;stroke-width:2;stroke-linecap:round;stroke-linejoin:round;\" /><path d=\"M 11.879999999999999,-5.9399999999999995 L 24.353999999999996,-16.631999999999998 L 24.353999999999996,-22.572\" style=\"stroke:black;fill:none;stroke-width:2;stroke-linecap:round;stroke-linejoin:round;\" /><path d=\"M 11.879999999999999,5.9399999999999995 L 24.353999999999996,16.631999999999998 L 24.353999999999996,22.572\" style=\"stroke:black;fill:none;stroke-width:2;stroke-linecap:round;stroke-linejoin:round;\" /></svg>"
      ]
     },
     "execution_count": 27,
     "metadata": {},
     "output_type": "execute_result"
    }
   ],
   "source": [
    "d = schemdraw.Drawing()\n",
    "d += elm.Bjt()\n",
    "d.draw(backend='svg', showframe=True)"
   ]
  },
  {
   "cell_type": "code",
   "execution_count": 28,
   "id": "f2d3b961",
   "metadata": {},
   "outputs": [
    {
     "data": {
      "image/svg+xml": [
       "<svg xmlns=\"http://www.w3.org/2000/svg\" xml:lang=\"en\" height=\"110.66529999999999pt\" width=\"587.1999999999999pt\" viewBox=\"-2.0 -35.765299999999996 587.1999999999999 110.66529999999999\" style=\"background-color:white;\"><path d=\"M 0.0,-0.0 L 32.4,-0.0 L 35.099999999999994,-8.1 L 40.5,8.1 L 45.89999999999999,-8.1 L 51.3,8.1 L 56.699999999999996,-8.1 L 62.099999999999994,8.1 L 64.8,-0.0 L 97.19999999999999,-0.0\" style=\"stroke:black;fill:none;stroke-width:2;stroke-linecap:round;stroke-linejoin:round;\" /><path d=\"M 97.19999999999999,-0.0 L 129.6,-0.0 L 132.29999999999998,-8.1 L 137.7,8.1 L 143.09999999999997,-8.1 L 148.49999999999997,8.1 L 153.9,-8.1 L 159.29999999999998,8.1 L 162.0,-0.0 L 194.39999999999998,-0.0\" style=\"stroke:black;fill:none;stroke-width:2;stroke-linecap:round;stroke-linejoin:round;\" /><path d=\"M 194.39999999999998,-0.0 L 226.79999999999998,-0.0 L 229.49999999999997,-8.1 L 234.89999999999998,8.1 L 240.29999999999998,-8.1 L 245.7,8.1 L 251.1,-8.1 L 256.49999999999994,8.1 L 259.2,-0.0 L 291.59999999999997,-0.0\" style=\"stroke:black;fill:none;stroke-width:2;stroke-linecap:round;stroke-linejoin:round;\" /><path d=\"M 291.59999999999997,-0.0 L 324.0,-0.0 L 326.7,-8.1 L 332.09999999999997,8.1 L 337.49999999999994,-8.1 L 342.9,8.1 L 348.3,-8.1 L 353.7,8.1 L 356.4,-0.0 L 388.79999999999995,-0.0\" style=\"stroke:black;fill:none;stroke-width:2;stroke-linecap:round;stroke-linejoin:round;\" /><path d=\"M 388.79999999999995,-0.0 L 421.2,-0.0 L 423.9,-8.1 L 429.29999999999995,8.1 L 434.7,-8.1 L 440.1,8.1 L 445.5,-8.1 L 450.9,8.1 L 453.59999999999997,-0.0 L 486.0,-0.0\" style=\"stroke:black;fill:none;stroke-width:2;stroke-linecap:round;stroke-linejoin:round;\" /><path d=\"M 486.0,-0.0 L 518.4,-0.0 L 521.0999999999999,-8.1 L 526.5,8.1 L 531.9,-8.1 L 537.3,8.1 L 542.6999999999999,-8.1 L 548.1,8.1 L 550.8,-0.0 L 583.1999999999999,-0.0\" style=\"stroke:black;fill:none;stroke-width:2;stroke-linecap:round;stroke-linejoin:round;\" /><path d=\"M 0.0,64.8 L 32.4,64.8 L 35.099999999999994,56.699999999999996 L 40.5,72.89999999999999 L 45.89999999999999,56.699999999999996 L 51.3,72.89999999999999 L 56.699999999999996,56.699999999999996 L 62.099999999999994,72.89999999999999 L 64.8,64.8 L 97.19999999999999,64.8\" style=\"stroke:black;fill:none;stroke-width:2;stroke-linecap:round;stroke-linejoin:round;\" /><path d=\"M 97.19999999999999,64.8 L 129.6,64.8 L 132.29999999999998,56.699999999999996 L 137.7,72.89999999999999 L 143.09999999999997,56.699999999999996 L 148.49999999999997,72.89999999999999 L 153.9,56.699999999999996 L 159.29999999999998,72.89999999999999 L 162.0,64.8 L 194.39999999999998,64.8\" style=\"stroke:black;fill:none;stroke-width:2;stroke-linecap:round;stroke-linejoin:round;\" /><path d=\"M 194.39999999999998,64.8 L 226.79999999999998,64.8 L 229.49999999999997,56.699999999999996 L 234.89999999999998,72.89999999999999 L 240.29999999999998,56.699999999999996 L 245.7,72.89999999999999 L 251.1,56.699999999999996 L 256.49999999999994,72.89999999999999 L 259.2,64.8 L 291.59999999999997,64.8\" style=\"stroke:black;fill:none;stroke-width:2;stroke-linecap:round;stroke-linejoin:round;\" /><path d=\"M 291.59999999999997,64.8 L 324.0,64.8 L 326.7,56.699999999999996 L 332.09999999999997,72.89999999999999 L 337.49999999999994,56.699999999999996 L 342.9,72.89999999999999 L 348.3,56.699999999999996 L 353.7,72.89999999999999 L 356.4,64.8 L 388.79999999999995,64.8\" style=\"stroke:black;fill:none;stroke-width:2;stroke-linecap:round;stroke-linejoin:round;\" /><path d=\"M 388.79999999999995,64.8 L 421.2,64.8 L 423.9,56.699999999999996 L 429.29999999999995,72.89999999999999 L 434.7,56.699999999999996 L 440.1,72.89999999999999 L 445.5,56.699999999999996 L 450.9,72.89999999999999 L 453.59999999999997,64.8 L 486.0,64.8\" style=\"stroke:black;fill:none;stroke-width:2;stroke-linecap:round;stroke-linejoin:round;\" /><g><g fill=\"black\"><symbol id=\"STIXTwoMath-Regular_3784\" width=\"560\" height=\"51.216\" viewBox=\"0 -31.524 560 51.216\"><path d=\"M 0.396 0.0 L 1.992 -7.884 L 4.212 -7.884 Q 5.364 -7.884, 6.042 -7.452 Q 6.72 -7.0200000000000005, 6.72 -5.988 Q 6.72 -5.28, 6.4079999999999995 -4.758 Q 6.096 -4.236, 5.562 -3.894 Q 5.0280000000000005 -3.552, 4.356 -3.42 L 5.772 0.0 L 4.74 0.0 L 3.42 -3.336 L 2.028 -3.336 L 1.344 0.0 Z M 2.196 -4.104 L 3.396 -4.104 Q 4.548 -4.104, 5.16 -4.59 Q 5.772 -5.0760000000000005, 5.772 -5.88 Q 5.772 -6.5520000000000005, 5.328 -6.8340000000000005 Q 4.884 -7.1160000000000005, 3.972 -7.1160000000000005 L 2.7960000000000003 -7.1160000000000005 Z \" /></symbol><use href=\"#STIXTwoMath-Regular_3784\" transform=\"translate(39.645599999999995 -48.118) scale(1.1666666666666667)\" /><symbol id=\"STIXTwoMath-Regular_4244\" width=\"313\" height=\"51.216\" viewBox=\"0 -31.524 313 51.216\"><path d=\"M 3.7560000000000002 0.0 L 2.7600000000000002 0.0 L 2.7600000000000002 -6.348 L 1.212 -6.348 L 1.212 -6.996 Q 1.848 -7.0920000000000005, 2.2560000000000002 -7.23 Q 2.664 -7.368, 3.0 -7.5600000000000005 L 3.7560000000000002 -7.5600000000000005 Z \" /></symbol><use href=\"#STIXTwoMath-Regular_4244\" transform=\"translate(47.59759999999999 -34.144600000000004) scale(0.8166666666666668)\" /><use href=\"#STIXTwoMath-Regular_4244\" transform=\"translate(52.57599999999999 -34.144600000000004) scale(0.8166666666666668)\" /></g></g><g><g fill=\"black\"><symbol id=\"STIXTwoMath-Regular_3784\" width=\"560\" height=\"51.216\" viewBox=\"0 -31.524 560 51.216\"><path d=\"M 0.396 0.0 L 1.992 -7.884 L 4.212 -7.884 Q 5.364 -7.884, 6.042 -7.452 Q 6.72 -7.0200000000000005, 6.72 -5.988 Q 6.72 -5.28, 6.4079999999999995 -4.758 Q 6.096 -4.236, 5.562 -3.894 Q 5.0280000000000005 -3.552, 4.356 -3.42 L 5.772 0.0 L 4.74 0.0 L 3.42 -3.336 L 2.028 -3.336 L 1.344 0.0 Z M 2.196 -4.104 L 3.396 -4.104 Q 4.548 -4.104, 5.16 -4.59 Q 5.772 -5.0760000000000005, 5.772 -5.88 Q 5.772 -6.5520000000000005, 5.328 -6.8340000000000005 Q 4.884 -7.1160000000000005, 3.972 -7.1160000000000005 L 2.7960000000000003 -7.1160000000000005 Z \" /></symbol><use href=\"#STIXTwoMath-Regular_3784\" transform=\"translate(136.67059999999998 -48.118) scale(1.1666666666666667)\" /><symbol id=\"STIXTwoMath-Regular_4245\" width=\"462\" height=\"51.216\" viewBox=\"0 -31.524 462 51.216\"><path d=\"M 0.492 0.0 L 0.492 -0.6 Q 1.668 -1.728, 2.484 -2.58 Q 3.3000000000000003 -3.432, 3.732 -4.116 Q 4.164 -4.8, 4.164 -5.412 Q 4.164 -6.0600000000000005, 3.798 -6.468 Q 3.432 -6.876, 2.688 -6.876 Q 2.196 -6.876, 1.782 -6.618 Q 1.368 -6.36, 1.02 -5.976 L 0.444 -6.54 Q 0.936 -7.0680000000000005, 1.494 -7.380000000000001 Q 2.052 -7.692, 2.8080000000000003 -7.692 Q 3.9 -7.692, 4.53 -7.08 Q 5.16 -6.468, 5.16 -5.46 Q 5.16 -4.764, 4.746 -4.0440000000000005 Q 4.332 -3.3240000000000003, 3.612 -2.5260000000000002 Q 2.892 -1.728, 1.968 -0.804 Q 2.2800000000000002 -0.8280000000000001, 2.628 -0.8460000000000001 Q 2.976 -0.864, 3.2760000000000002 -0.864 L 5.5440000000000005 -0.864 L 5.5440000000000005 0.0 Z \" /></symbol><use href=\"#STIXTwoMath-Regular_4245\" transform=\"translate(144.97259999999997 -42.1246) scale(0.8166666666666668)\" /><use href=\"#STIXTwoMath-Regular_4245\" transform=\"translate(149.95099999999996 -42.1246) scale(0.8166666666666668)\" /></g></g><g><g fill=\"black\"><symbol id=\"STIXTwoMath-Regular_892\" width=\"467\" height=\"51.216\" viewBox=\"0 -31.524 467 51.216\"><path d=\"M 5.604 -4.272 Q 5.604 -2.088, 4.9079999999999995 -0.9540000000000001 Q 4.212 0.18, 3.108 0.18 Q 1.944 0.18, 1.266 -0.9480000000000001 Q 0.588 -2.076, 0.588 -4.08 Q 0.588 -4.944, 0.75 -5.742 Q 0.912 -6.54, 1.242 -7.17 Q 1.572 -7.8, 2.0700000000000003 -8.172 Q 2.568 -8.544, 3.228 -8.544 Q 3.84 -8.544, 4.284 -8.196 Q 4.728 -7.848, 5.022 -7.254 Q 5.316 -6.66, 5.46 -5.8919999999999995 Q 5.604 -5.124, 5.604 -4.272 Z M 3.12 -0.864 Q 3.984 -0.864, 4.506 -1.71 Q 5.0280000000000005 -2.556, 4.992 -4.032 L 1.176 -4.032 Q 1.2 -3.444, 1.3079999999999998 -2.88 Q 1.416 -2.316, 1.6440000000000001 -1.8599999999999999 Q 1.872 -1.4040000000000001, 2.238 -1.1340000000000001 Q 2.604 -0.864, 3.12 -0.864 Z M 3.192 -7.5120000000000005 Q 2.592 -7.5120000000000005, 2.154 -7.146000000000001 Q 1.716 -6.78, 1.464 -6.144 Q 1.212 -5.508, 1.176 -4.668 L 4.98 -4.668 Q 4.956 -5.16, 4.854 -5.664 Q 4.752 -6.168, 4.548 -6.588 Q 4.344 -7.008, 4.014 -7.26 Q 3.684 -7.5120000000000005, 3.192 -7.5120000000000005 Z \" /></symbol><use href=\"#STIXTwoMath-Regular_892\" transform=\"translate(239.402 -48.118) scale(1.1666666666666667)\" /></g></g><g><g fill=\"black\"><symbol id=\"STIXTwoMath-Regular_3783\" width=\"616\" height=\"51.216\" viewBox=\"0 -31.524 616 51.216\"><path d=\"M 5.508 1.956 Q 4.908 1.956, 4.362 1.758 Q 3.8160000000000003 1.56, 3.402 1.146 Q 2.988 0.732, 2.7840000000000003 0.07200000000000001 Q 1.788 -0.14400000000000002, 1.242 -0.996 Q 0.6960000000000001 -1.848, 0.6960000000000001 -3.12 Q 0.6960000000000001 -4.0440000000000005, 0.978 -4.914 Q 1.26 -5.784, 1.782 -6.486 Q 2.3040000000000003 -7.188, 3.0300000000000002 -7.602 Q 3.7560000000000002 -8.016, 4.644 -8.016 Q 5.508 -8.016, 6.1259999999999994 -7.6080000000000005 Q 6.744 -7.2, 7.068 -6.468 Q 7.392 -5.736, 7.392 -4.752 Q 7.392 -3.876, 7.134 -3.042 Q 6.876 -2.208, 6.396000000000001 -1.5180000000000002 Q 5.916 -0.8280000000000001, 5.25 -0.39 Q 4.5840000000000005 0.048, 3.7560000000000002 0.132 Q 3.96 0.648, 4.482 0.9000000000000001 Q 5.0040000000000004 1.1520000000000001, 5.664 1.1520000000000001 Q 6.024 1.1520000000000001, 6.324 1.068 L 6.384 1.824 Q 6.192 1.872, 5.994 1.9140000000000001 Q 5.796 1.956, 5.508 1.956 Z M 3.516 -0.648 Q 4.164 -0.648, 4.698 -0.996 Q 5.232 -1.344, 5.616 -1.932 Q 6.0 -2.52, 6.21 -3.246 Q 6.42 -3.972, 6.42 -4.728 Q 6.42 -5.436, 6.2219999999999995 -5.994 Q 6.024 -6.5520000000000005, 5.622 -6.882 Q 5.22 -7.212, 4.5840000000000005 -7.212 Q 3.924 -7.212, 3.3899999999999997 -6.864 Q 2.856 -6.516, 2.472 -5.928 Q 2.088 -5.34, 1.8780000000000001 -4.614 Q 1.668 -3.888, 1.668 -3.144 Q 1.668 -2.436, 1.866 -1.8719999999999999 Q 2.064 -1.308, 2.4779999999999998 -0.978 Q 2.892 -0.648, 3.516 -0.648 Z \" /></symbol><use href=\"#STIXTwoMath-Regular_3783\" transform=\"translate(333.1748 -48.118) scale(1.1666666666666667)\" /><symbol id=\"STIXTwoMath-Regular_4244\" width=\"313\" height=\"51.216\" viewBox=\"0 -31.524 313 51.216\"><path d=\"M 3.7560000000000002 0.0 L 2.7600000000000002 0.0 L 2.7600000000000002 -6.348 L 1.212 -6.348 L 1.212 -6.996 Q 1.848 -7.0920000000000005, 2.2560000000000002 -7.23 Q 2.664 -7.368, 3.0 -7.5600000000000005 L 3.7560000000000002 -7.5600000000000005 Z \" /></symbol><use href=\"#STIXTwoMath-Regular_4244\" transform=\"translate(342.2468 -31.862600000000004) scale(0.8166666666666668)\" /><symbol id=\"STIXTwoMath-Regular_695\" width=\"320\" height=\"51.216\" viewBox=\"0 -31.524 320 51.216\"><path d=\"M 3.84 -6.66 L 0.36 -6.66 L 0.36 -7.32 L 3.84 -7.32 Z \" /></symbol><use href=\"#STIXTwoMath-Regular_695\" transform=\"translate(338.632 -43.4476) scale(0.8166666666666668)\" /></g></g><g><g fill=\"black\"><symbol id=\"STIXTwoMath-Regular_3784\" width=\"560\" height=\"51.216\" viewBox=\"0 -31.524 560 51.216\"><path d=\"M 0.396 0.0 L 1.992 -7.884 L 4.212 -7.884 Q 5.364 -7.884, 6.042 -7.452 Q 6.72 -7.0200000000000005, 6.72 -5.988 Q 6.72 -5.28, 6.4079999999999995 -4.758 Q 6.096 -4.236, 5.562 -3.894 Q 5.0280000000000005 -3.552, 4.356 -3.42 L 5.772 0.0 L 4.74 0.0 L 3.42 -3.336 L 2.028 -3.336 L 1.344 0.0 Z M 2.196 -4.104 L 3.396 -4.104 Q 4.548 -4.104, 5.16 -4.59 Q 5.772 -5.0760000000000005, 5.772 -5.88 Q 5.772 -6.5520000000000005, 5.328 -6.8340000000000005 Q 4.884 -7.1160000000000005, 3.972 -7.1160000000000005 L 2.7960000000000003 -7.1160000000000005 Z \" /></symbol><use href=\"#STIXTwoMath-Regular_3784\" transform=\"translate(430.9348 -48.118) scale(1.1666666666666667)\" /><symbol id=\"STIXTwoMath-Regular_4244\" width=\"313\" height=\"51.216\" viewBox=\"0 -31.524 313 51.216\"><path d=\"M 3.7560000000000002 0.0 L 2.7600000000000002 0.0 L 2.7600000000000002 -6.348 L 1.212 -6.348 L 1.212 -6.996 Q 1.848 -7.0920000000000005, 2.2560000000000002 -7.23 Q 2.664 -7.368, 3.0 -7.5600000000000005 L 3.7560000000000002 -7.5600000000000005 Z \" /></symbol><use href=\"#STIXTwoMath-Regular_4244\" transform=\"translate(438.8868 -34.144600000000004) scale(0.8166666666666668)\" /></g></g><g><g fill=\"black\"><symbol id=\"STIXTwoMath-Regular_1657\" width=\"829\" height=\"51.216\" viewBox=\"0 -31.524 829 51.216\"><path d=\"M 8.004 -11.064 L 9.948 -11.064 L 9.948 -10.248 L 8.556000000000001 -10.248 L 4.956 3.18 L 4.452 3.18 L 1.6560000000000001 -3.8280000000000003 L 0.40800000000000003 -3.348 L 0.216 -3.684 L 2.124 -5.0040000000000004 L 2.364 -5.0040000000000004 L 4.74 1.116 L 4.788 1.116 Z \" /></symbol><use href=\"#STIXTwoMath-Regular_1657\" transform=\"translate(525.64 -48.118) scale(1.1666666666666667)\" /><symbol id=\"STIXTwoMath-Regular_3818\" width=\"447.564\" height=\"51.216\" viewBox=\"-0.5640000000000001 -31.524 447.564 51.216\"><path d=\"M -0.5640000000000001 0.0 L 1.98 -3.012 L 0.912 -5.688 L 1.836 -5.688 L 2.316 -4.416 Q 2.412 -4.164, 2.484 -3.936 Q 2.556 -3.708, 2.64 -3.468 L 2.688 -3.468 Q 2.88 -3.708, 3.066 -3.942 Q 3.2520000000000002 -4.176, 3.42 -4.416 L 4.404 -5.688 L 5.364 -5.688 L 3.048 -2.82 L 4.2 0.0 L 3.2760000000000002 0.0 L 2.7720000000000002 -1.332 Q 2.7600000000000002 -1.3800000000000001, 2.688 -1.566 Q 2.616 -1.752, 2.526 -1.98 Q 2.436 -2.208, 2.364 -2.376 L 2.316 -2.376 Q 2.136 -2.124, 1.9380000000000002 -1.872 Q 1.74 -1.62, 1.512 -1.344 L 0.42 0.0 Z \" /></symbol><use href=\"#STIXTwoMath-Regular_3818\" transform=\"translate(537.246 -48.118) scale(1.1666666666666667)\" /><rect x=\"537.246\" y=\"-24.247999999999998\" width=\"6.314\" height=\"0.9520000000000001\" /></g></g><g><g fill=\"black\"><symbol id=\"STIXTwoMath-Regular_868\" width=\"731\" height=\"51.216\" viewBox=\"0 -31.524 731 51.216\"><path d=\"M 8.496 0.0 L 5.364 0.0 L 5.364 -0.864 Q 5.928 -1.32, 6.318 -1.9500000000000002 Q 6.708 -2.58, 6.906000000000001 -3.282 Q 7.104 -3.984, 7.104 -4.644 Q 7.104 -6.0, 6.4559999999999995 -6.7620000000000005 Q 5.808 -7.524, 4.704 -7.524 Q 3.564 -7.524, 2.904 -6.75 Q 2.244 -5.976, 2.244 -4.644 Q 2.244 -3.996, 2.436 -3.282 Q 2.628 -2.568, 3.018 -1.932 Q 3.408 -1.296, 3.984 -0.852 L 3.984 0.0 L 0.8160000000000001 0.0 L 0.5640000000000001 -2.124 L 0.912 -2.124 Q 1.02 -1.716, 1.1219999999999999 -1.464 Q 1.224 -1.212, 1.4100000000000001 -1.092 Q 1.596 -0.972, 1.932 -0.972 L 3.024 -0.972 L 3.024 -1.044 Q 2.688 -1.296, 2.322 -1.626 Q 1.956 -1.956, 1.6440000000000001 -2.388 Q 1.332 -2.82, 1.1400000000000001 -3.3899999999999997 Q 0.9480000000000001 -3.96, 0.9480000000000001 -4.692 Q 0.9480000000000001 -5.688, 1.4280000000000002 -6.438 Q 1.9080000000000001 -7.188, 2.7600000000000002 -7.6080000000000005 Q 3.612 -8.028, 4.716 -8.028 Q 5.832 -8.028, 6.66 -7.6080000000000005 Q 7.488 -7.188, 7.944000000000001 -6.438 Q 8.4 -5.688, 8.4 -4.704 Q 8.4 -3.972, 8.196 -3.402 Q 7.992 -2.832, 7.6739999999999995 -2.394 Q 7.356 -1.956, 7.002000000000001 -1.626 Q 6.648000000000001 -1.296, 6.336 -1.044 L 6.336 -0.972 L 7.344 -0.972 Q 7.704 -0.972, 7.890000000000001 -1.092 Q 8.076 -1.212, 8.190000000000001 -1.47 Q 8.304 -1.728, 8.424 -2.124 L 8.772 -2.124 Z \" /></symbol><use href=\"#STIXTwoMath-Regular_868\" transform=\"translate(43.160999999999994 16.681999999999988) scale(1.1666666666666667)\" /></g></g><g><g fill=\"black\"><symbol id=\"STIXTwoMath-Regular_1681\" width=\"658\" height=\"51.216\" viewBox=\"0 -31.524 658 51.216\"><path d=\"M 7.896 0.0 L 0.276 0.0 L 6.984 -6.72 L 7.6080000000000005 -6.204 L 2.232 -0.804 L 7.896 -0.804 Z \" /></symbol><use href=\"#STIXTwoMath-Regular_1681\" transform=\"translate(140.89299999999997 16.681999999999988) scale(1.1666666666666667)\" /></g></g><g><g fill=\"black\"><symbol id=\"STIXTwoMath-Regular_4244\" width=\"313\" height=\"51.216\" viewBox=\"0 -31.524 313 51.216\"><path d=\"M 3.7560000000000002 0.0 L 2.7600000000000002 0.0 L 2.7600000000000002 -6.348 L 1.212 -6.348 L 1.212 -6.996 Q 1.848 -7.0920000000000005, 2.2560000000000002 -7.23 Q 2.664 -7.368, 3.0 -7.5600000000000005 L 3.7560000000000002 -7.5600000000000005 Z \" /></symbol><use href=\"#STIXTwoMath-Regular_4244\" transform=\"translate(231.044 16.681999999999988) scale(1.1666666666666667)\" /><symbol id=\"STIXTwoMath-Regular_4243\" width=\"463\" height=\"51.216\" viewBox=\"0 -31.524 463 51.216\"><path d=\"M 3.048 0.14400000000000002 Q 1.8840000000000001 0.14400000000000002, 1.218 -0.8820000000000001 Q 0.552 -1.9080000000000001, 0.552 -3.8040000000000003 Q 0.552 -5.712, 1.218 -6.702 Q 1.8840000000000001 -7.692, 3.048 -7.692 Q 4.224 -7.692, 4.890000000000001 -6.696 Q 5.556 -5.7, 5.556 -3.8040000000000003 Q 5.556 -1.9080000000000001, 4.890000000000001 -0.8820000000000001 Q 4.224 0.14400000000000002, 3.048 0.14400000000000002 Z M 3.048 -0.672 Q 3.732 -0.672, 4.152 -1.4100000000000001 Q 4.572 -2.148, 4.572 -3.8040000000000003 Q 4.572 -5.46, 4.152 -6.1739999999999995 Q 3.732 -6.888, 3.048 -6.888 Q 2.376 -6.888, 1.95 -6.1739999999999995 Q 1.524 -5.46, 1.524 -3.8040000000000003 Q 1.524 -2.148, 1.95 -1.4100000000000001 Q 2.376 -0.672, 3.048 -0.672 Z \" /></symbol><use href=\"#STIXTwoMath-Regular_4243\" transform=\"translate(238.156 16.681999999999988) scale(1.1666666666666667)\" /><symbol id=\"STIXTwoMath-Regular_1193\" width=\"647\" height=\"51.216\" viewBox=\"0 -31.524 647 51.216\"><path d=\"M 7.032 -7.992 L 2.172 0.252 L 1.596 0.252 L 5.88 -6.984 L 5.82 -6.984 Q 5.5200000000000005 -6.78, 5.238 -6.69 Q 4.956 -6.6000000000000005, 4.5840000000000005 -6.6000000000000005 Q 4.368 -6.6000000000000005, 4.206 -6.636 Q 4.0440000000000005 -6.672, 3.7680000000000002 -6.792 L 3.744 -6.768 Q 3.7800000000000002 -6.636, 3.8040000000000003 -6.468 Q 3.8280000000000003 -6.3, 3.8280000000000003 -6.096 Q 3.8280000000000003 -5.436, 3.5700000000000003 -4.884 Q 3.3120000000000003 -4.332, 2.862 -4.008 Q 2.412 -3.684, 1.836 -3.684 Q 1.224 -3.684, 0.882 -4.086 Q 0.54 -4.488, 0.54 -5.244 Q 0.54 -5.928, 0.804 -6.468 Q 1.068 -7.008, 1.524 -7.3260000000000005 Q 1.98 -7.644, 2.532 -7.644 Q 2.88 -7.644, 3.126 -7.536 Q 3.372 -7.428, 3.588 -7.284000000000001 Q 3.8040000000000003 -7.140000000000001, 4.074 -7.032 Q 4.344 -6.924, 4.74 -6.924 Q 5.016 -6.924, 5.25 -7.008000000000001 Q 5.484 -7.0920000000000005, 5.772 -7.3260000000000005 Q 6.0600000000000005 -7.5600000000000005, 6.492 -7.992 Z M 7.764 -2.184 Q 7.764 -1.512, 7.506 -0.96 Q 7.248 -0.40800000000000003, 6.804 -0.08400000000000002 Q 6.36 0.24, 5.784 0.24 Q 5.172 0.24, 4.824 -0.16200000000000003 Q 4.476 -0.5640000000000001, 4.476 -1.332 Q 4.476 -2.016, 4.734 -2.556 Q 4.992 -3.096, 5.448 -3.4080000000000004 Q 5.904 -3.72, 6.48 -3.72 Q 7.104 -3.72, 7.434 -3.324 Q 7.764 -2.928, 7.764 -2.184 Z M 7.356 -2.2680000000000002 Q 7.356 -3.396, 6.612 -3.396 Q 6.24 -3.396, 5.946 -3.114 Q 5.652 -2.832, 5.478 -2.346 Q 5.304 -1.86, 5.304 -1.248 Q 5.304 -0.684, 5.466 -0.42000000000000004 Q 5.628 -0.156, 5.964 -0.156 Q 6.348 -0.156, 6.66 -0.444 Q 6.972 -0.732, 7.164 -1.218 Q 7.356 -1.704, 7.356 -2.2680000000000002 Z M 3.42 -6.192 Q 3.42 -7.32, 2.676 -7.32 Q 2.3040000000000003 -7.32, 2.0100000000000002 -7.038 Q 1.716 -6.756, 1.542 -6.27 Q 1.368 -5.784, 1.368 -5.172 Q 1.368 -4.6080000000000005, 1.53 -4.344 Q 1.692 -4.08, 2.028 -4.08 Q 2.412 -4.08, 2.724 -4.368 Q 3.036 -4.656, 3.2279999999999998 -5.1419999999999995 Q 3.42 -5.628, 3.42 -6.192 Z \" /></symbol><use href=\"#STIXTwoMath-Regular_1193\" transform=\"translate(245.268 16.681999999999988) scale(1.1666666666666667)\" /></g></g><g><g fill=\"black\"><symbol id=\"STIXTwoMath-Regular_3784\" width=\"560\" height=\"51.216\" viewBox=\"0 -31.524 560 51.216\"><path d=\"M 0.396 0.0 L 1.992 -7.884 L 4.212 -7.884 Q 5.364 -7.884, 6.042 -7.452 Q 6.72 -7.0200000000000005, 6.72 -5.988 Q 6.72 -5.28, 6.4079999999999995 -4.758 Q 6.096 -4.236, 5.562 -3.894 Q 5.0280000000000005 -3.552, 4.356 -3.42 L 5.772 0.0 L 4.74 0.0 L 3.42 -3.336 L 2.028 -3.336 L 1.344 0.0 Z M 2.196 -4.104 L 3.396 -4.104 Q 4.548 -4.104, 5.16 -4.59 Q 5.772 -5.0760000000000005, 5.772 -5.88 Q 5.772 -6.5520000000000005, 5.328 -6.8340000000000005 Q 4.884 -7.1160000000000005, 3.972 -7.1160000000000005 L 2.7960000000000003 -7.1160000000000005 Z \" /></symbol><use href=\"#STIXTwoMath-Regular_3784\" transform=\"translate(333.5598 16.681999999999988) scale(1.1666666666666667)\" /><symbol id=\"STIXTwoMath-Regular_4245\" width=\"462\" height=\"51.216\" viewBox=\"0 -31.524 462 51.216\"><path d=\"M 0.492 0.0 L 0.492 -0.6 Q 1.668 -1.728, 2.484 -2.58 Q 3.3000000000000003 -3.432, 3.732 -4.116 Q 4.164 -4.8, 4.164 -5.412 Q 4.164 -6.0600000000000005, 3.798 -6.468 Q 3.432 -6.876, 2.688 -6.876 Q 2.196 -6.876, 1.782 -6.618 Q 1.368 -6.36, 1.02 -5.976 L 0.444 -6.54 Q 0.936 -7.0680000000000005, 1.494 -7.380000000000001 Q 2.052 -7.692, 2.8080000000000003 -7.692 Q 3.9 -7.692, 4.53 -7.08 Q 5.16 -6.468, 5.16 -5.46 Q 5.16 -4.764, 4.746 -4.0440000000000005 Q 4.332 -3.3240000000000003, 3.612 -2.5260000000000002 Q 2.892 -1.728, 1.968 -0.804 Q 2.2800000000000002 -0.8280000000000001, 2.628 -0.8460000000000001 Q 2.976 -0.864, 3.2760000000000002 -0.864 L 5.5440000000000005 -0.864 L 5.5440000000000005 0.0 Z \" /></symbol><use href=\"#STIXTwoMath-Regular_4245\" transform=\"translate(341.8618 22.67539999999999) scale(0.8166666666666668)\" /></g></g><g><g fill=\"black\"><symbol id=\"STIXTwoMath-Regular_3784\" width=\"560\" height=\"51.216\" viewBox=\"0 -31.524 560 51.216\"><path d=\"M 0.396 0.0 L 1.992 -7.884 L 4.212 -7.884 Q 5.364 -7.884, 6.042 -7.452 Q 6.72 -7.0200000000000005, 6.72 -5.988 Q 6.72 -5.28, 6.4079999999999995 -4.758 Q 6.096 -4.236, 5.562 -3.894 Q 5.0280000000000005 -3.552, 4.356 -3.42 L 5.772 0.0 L 4.74 0.0 L 3.42 -3.336 L 2.028 -3.336 L 1.344 0.0 Z M 2.196 -4.104 L 3.396 -4.104 Q 4.548 -4.104, 5.16 -4.59 Q 5.772 -5.0760000000000005, 5.772 -5.88 Q 5.772 -6.5520000000000005, 5.328 -6.8340000000000005 Q 4.884 -7.1160000000000005, 3.972 -7.1160000000000005 L 2.7960000000000003 -7.1160000000000005 Z \" /></symbol><use href=\"#STIXTwoMath-Regular_3784\" transform=\"translate(430.9348 16.681999999999988) scale(1.1666666666666667)\" /><symbol id=\"STIXTwoMath-Regular_4245\" width=\"462\" height=\"51.216\" viewBox=\"0 -31.524 462 51.216\"><path d=\"M 0.492 0.0 L 0.492 -0.6 Q 1.668 -1.728, 2.484 -2.58 Q 3.3000000000000003 -3.432, 3.732 -4.116 Q 4.164 -4.8, 4.164 -5.412 Q 4.164 -6.0600000000000005, 3.798 -6.468 Q 3.432 -6.876, 2.688 -6.876 Q 2.196 -6.876, 1.782 -6.618 Q 1.368 -6.36, 1.02 -5.976 L 0.444 -6.54 Q 0.936 -7.0680000000000005, 1.494 -7.380000000000001 Q 2.052 -7.692, 2.8080000000000003 -7.692 Q 3.9 -7.692, 4.53 -7.08 Q 5.16 -6.468, 5.16 -5.46 Q 5.16 -4.764, 4.746 -4.0440000000000005 Q 4.332 -3.3240000000000003, 3.612 -2.5260000000000002 Q 2.892 -1.728, 1.968 -0.804 Q 2.2800000000000002 -0.8280000000000001, 2.628 -0.8460000000000001 Q 2.976 -0.864, 3.2760000000000002 -0.864 L 5.5440000000000005 -0.864 L 5.5440000000000005 0.0 Z \" /></symbol><use href=\"#STIXTwoMath-Regular_4245\" transform=\"translate(438.8868 30.655399999999986) scale(0.8166666666666668)\" /></g></g></svg>"
      ],
      "text/plain": [
       "<svg xmlns=\"http://www.w3.org/2000/svg\" xml:lang=\"en\" height=\"110.66529999999999pt\" width=\"587.1999999999999pt\" viewBox=\"-2.0 -35.765299999999996 587.1999999999999 110.66529999999999\" style=\"background-color:white;\"><path d=\"M 0.0,-0.0 L 32.4,-0.0 L 35.099999999999994,-8.1 L 40.5,8.1 L 45.89999999999999,-8.1 L 51.3,8.1 L 56.699999999999996,-8.1 L 62.099999999999994,8.1 L 64.8,-0.0 L 97.19999999999999,-0.0\" style=\"stroke:black;fill:none;stroke-width:2;stroke-linecap:round;stroke-linejoin:round;\" /><path d=\"M 97.19999999999999,-0.0 L 129.6,-0.0 L 132.29999999999998,-8.1 L 137.7,8.1 L 143.09999999999997,-8.1 L 148.49999999999997,8.1 L 153.9,-8.1 L 159.29999999999998,8.1 L 162.0,-0.0 L 194.39999999999998,-0.0\" style=\"stroke:black;fill:none;stroke-width:2;stroke-linecap:round;stroke-linejoin:round;\" /><path d=\"M 194.39999999999998,-0.0 L 226.79999999999998,-0.0 L 229.49999999999997,-8.1 L 234.89999999999998,8.1 L 240.29999999999998,-8.1 L 245.7,8.1 L 251.1,-8.1 L 256.49999999999994,8.1 L 259.2,-0.0 L 291.59999999999997,-0.0\" style=\"stroke:black;fill:none;stroke-width:2;stroke-linecap:round;stroke-linejoin:round;\" /><path d=\"M 291.59999999999997,-0.0 L 324.0,-0.0 L 326.7,-8.1 L 332.09999999999997,8.1 L 337.49999999999994,-8.1 L 342.9,8.1 L 348.3,-8.1 L 353.7,8.1 L 356.4,-0.0 L 388.79999999999995,-0.0\" style=\"stroke:black;fill:none;stroke-width:2;stroke-linecap:round;stroke-linejoin:round;\" /><path d=\"M 388.79999999999995,-0.0 L 421.2,-0.0 L 423.9,-8.1 L 429.29999999999995,8.1 L 434.7,-8.1 L 440.1,8.1 L 445.5,-8.1 L 450.9,8.1 L 453.59999999999997,-0.0 L 486.0,-0.0\" style=\"stroke:black;fill:none;stroke-width:2;stroke-linecap:round;stroke-linejoin:round;\" /><path d=\"M 486.0,-0.0 L 518.4,-0.0 L 521.0999999999999,-8.1 L 526.5,8.1 L 531.9,-8.1 L 537.3,8.1 L 542.6999999999999,-8.1 L 548.1,8.1 L 550.8,-0.0 L 583.1999999999999,-0.0\" style=\"stroke:black;fill:none;stroke-width:2;stroke-linecap:round;stroke-linejoin:round;\" /><path d=\"M 0.0,64.8 L 32.4,64.8 L 35.099999999999994,56.699999999999996 L 40.5,72.89999999999999 L 45.89999999999999,56.699999999999996 L 51.3,72.89999999999999 L 56.699999999999996,56.699999999999996 L 62.099999999999994,72.89999999999999 L 64.8,64.8 L 97.19999999999999,64.8\" style=\"stroke:black;fill:none;stroke-width:2;stroke-linecap:round;stroke-linejoin:round;\" /><path d=\"M 97.19999999999999,64.8 L 129.6,64.8 L 132.29999999999998,56.699999999999996 L 137.7,72.89999999999999 L 143.09999999999997,56.699999999999996 L 148.49999999999997,72.89999999999999 L 153.9,56.699999999999996 L 159.29999999999998,72.89999999999999 L 162.0,64.8 L 194.39999999999998,64.8\" style=\"stroke:black;fill:none;stroke-width:2;stroke-linecap:round;stroke-linejoin:round;\" /><path d=\"M 194.39999999999998,64.8 L 226.79999999999998,64.8 L 229.49999999999997,56.699999999999996 L 234.89999999999998,72.89999999999999 L 240.29999999999998,56.699999999999996 L 245.7,72.89999999999999 L 251.1,56.699999999999996 L 256.49999999999994,72.89999999999999 L 259.2,64.8 L 291.59999999999997,64.8\" style=\"stroke:black;fill:none;stroke-width:2;stroke-linecap:round;stroke-linejoin:round;\" /><path d=\"M 291.59999999999997,64.8 L 324.0,64.8 L 326.7,56.699999999999996 L 332.09999999999997,72.89999999999999 L 337.49999999999994,56.699999999999996 L 342.9,72.89999999999999 L 348.3,56.699999999999996 L 353.7,72.89999999999999 L 356.4,64.8 L 388.79999999999995,64.8\" style=\"stroke:black;fill:none;stroke-width:2;stroke-linecap:round;stroke-linejoin:round;\" /><path d=\"M 388.79999999999995,64.8 L 421.2,64.8 L 423.9,56.699999999999996 L 429.29999999999995,72.89999999999999 L 434.7,56.699999999999996 L 440.1,72.89999999999999 L 445.5,56.699999999999996 L 450.9,72.89999999999999 L 453.59999999999997,64.8 L 486.0,64.8\" style=\"stroke:black;fill:none;stroke-width:2;stroke-linecap:round;stroke-linejoin:round;\" /><g><g fill=\"black\"><symbol id=\"STIXTwoMath-Regular_3784\" width=\"560\" height=\"51.216\" viewBox=\"0 -31.524 560 51.216\"><path d=\"M 0.396 0.0 L 1.992 -7.884 L 4.212 -7.884 Q 5.364 -7.884, 6.042 -7.452 Q 6.72 -7.0200000000000005, 6.72 -5.988 Q 6.72 -5.28, 6.4079999999999995 -4.758 Q 6.096 -4.236, 5.562 -3.894 Q 5.0280000000000005 -3.552, 4.356 -3.42 L 5.772 0.0 L 4.74 0.0 L 3.42 -3.336 L 2.028 -3.336 L 1.344 0.0 Z M 2.196 -4.104 L 3.396 -4.104 Q 4.548 -4.104, 5.16 -4.59 Q 5.772 -5.0760000000000005, 5.772 -5.88 Q 5.772 -6.5520000000000005, 5.328 -6.8340000000000005 Q 4.884 -7.1160000000000005, 3.972 -7.1160000000000005 L 2.7960000000000003 -7.1160000000000005 Z \" /></symbol><use href=\"#STIXTwoMath-Regular_3784\" transform=\"translate(39.645599999999995 -48.118) scale(1.1666666666666667)\" /><symbol id=\"STIXTwoMath-Regular_4244\" width=\"313\" height=\"51.216\" viewBox=\"0 -31.524 313 51.216\"><path d=\"M 3.7560000000000002 0.0 L 2.7600000000000002 0.0 L 2.7600000000000002 -6.348 L 1.212 -6.348 L 1.212 -6.996 Q 1.848 -7.0920000000000005, 2.2560000000000002 -7.23 Q 2.664 -7.368, 3.0 -7.5600000000000005 L 3.7560000000000002 -7.5600000000000005 Z \" /></symbol><use href=\"#STIXTwoMath-Regular_4244\" transform=\"translate(47.59759999999999 -34.144600000000004) scale(0.8166666666666668)\" /><use href=\"#STIXTwoMath-Regular_4244\" transform=\"translate(52.57599999999999 -34.144600000000004) scale(0.8166666666666668)\" /></g></g><g><g fill=\"black\"><symbol id=\"STIXTwoMath-Regular_3784\" width=\"560\" height=\"51.216\" viewBox=\"0 -31.524 560 51.216\"><path d=\"M 0.396 0.0 L 1.992 -7.884 L 4.212 -7.884 Q 5.364 -7.884, 6.042 -7.452 Q 6.72 -7.0200000000000005, 6.72 -5.988 Q 6.72 -5.28, 6.4079999999999995 -4.758 Q 6.096 -4.236, 5.562 -3.894 Q 5.0280000000000005 -3.552, 4.356 -3.42 L 5.772 0.0 L 4.74 0.0 L 3.42 -3.336 L 2.028 -3.336 L 1.344 0.0 Z M 2.196 -4.104 L 3.396 -4.104 Q 4.548 -4.104, 5.16 -4.59 Q 5.772 -5.0760000000000005, 5.772 -5.88 Q 5.772 -6.5520000000000005, 5.328 -6.8340000000000005 Q 4.884 -7.1160000000000005, 3.972 -7.1160000000000005 L 2.7960000000000003 -7.1160000000000005 Z \" /></symbol><use href=\"#STIXTwoMath-Regular_3784\" transform=\"translate(136.67059999999998 -48.118) scale(1.1666666666666667)\" /><symbol id=\"STIXTwoMath-Regular_4245\" width=\"462\" height=\"51.216\" viewBox=\"0 -31.524 462 51.216\"><path d=\"M 0.492 0.0 L 0.492 -0.6 Q 1.668 -1.728, 2.484 -2.58 Q 3.3000000000000003 -3.432, 3.732 -4.116 Q 4.164 -4.8, 4.164 -5.412 Q 4.164 -6.0600000000000005, 3.798 -6.468 Q 3.432 -6.876, 2.688 -6.876 Q 2.196 -6.876, 1.782 -6.618 Q 1.368 -6.36, 1.02 -5.976 L 0.444 -6.54 Q 0.936 -7.0680000000000005, 1.494 -7.380000000000001 Q 2.052 -7.692, 2.8080000000000003 -7.692 Q 3.9 -7.692, 4.53 -7.08 Q 5.16 -6.468, 5.16 -5.46 Q 5.16 -4.764, 4.746 -4.0440000000000005 Q 4.332 -3.3240000000000003, 3.612 -2.5260000000000002 Q 2.892 -1.728, 1.968 -0.804 Q 2.2800000000000002 -0.8280000000000001, 2.628 -0.8460000000000001 Q 2.976 -0.864, 3.2760000000000002 -0.864 L 5.5440000000000005 -0.864 L 5.5440000000000005 0.0 Z \" /></symbol><use href=\"#STIXTwoMath-Regular_4245\" transform=\"translate(144.97259999999997 -42.1246) scale(0.8166666666666668)\" /><use href=\"#STIXTwoMath-Regular_4245\" transform=\"translate(149.95099999999996 -42.1246) scale(0.8166666666666668)\" /></g></g><g><g fill=\"black\"><symbol id=\"STIXTwoMath-Regular_892\" width=\"467\" height=\"51.216\" viewBox=\"0 -31.524 467 51.216\"><path d=\"M 5.604 -4.272 Q 5.604 -2.088, 4.9079999999999995 -0.9540000000000001 Q 4.212 0.18, 3.108 0.18 Q 1.944 0.18, 1.266 -0.9480000000000001 Q 0.588 -2.076, 0.588 -4.08 Q 0.588 -4.944, 0.75 -5.742 Q 0.912 -6.54, 1.242 -7.17 Q 1.572 -7.8, 2.0700000000000003 -8.172 Q 2.568 -8.544, 3.228 -8.544 Q 3.84 -8.544, 4.284 -8.196 Q 4.728 -7.848, 5.022 -7.254 Q 5.316 -6.66, 5.46 -5.8919999999999995 Q 5.604 -5.124, 5.604 -4.272 Z M 3.12 -0.864 Q 3.984 -0.864, 4.506 -1.71 Q 5.0280000000000005 -2.556, 4.992 -4.032 L 1.176 -4.032 Q 1.2 -3.444, 1.3079999999999998 -2.88 Q 1.416 -2.316, 1.6440000000000001 -1.8599999999999999 Q 1.872 -1.4040000000000001, 2.238 -1.1340000000000001 Q 2.604 -0.864, 3.12 -0.864 Z M 3.192 -7.5120000000000005 Q 2.592 -7.5120000000000005, 2.154 -7.146000000000001 Q 1.716 -6.78, 1.464 -6.144 Q 1.212 -5.508, 1.176 -4.668 L 4.98 -4.668 Q 4.956 -5.16, 4.854 -5.664 Q 4.752 -6.168, 4.548 -6.588 Q 4.344 -7.008, 4.014 -7.26 Q 3.684 -7.5120000000000005, 3.192 -7.5120000000000005 Z \" /></symbol><use href=\"#STIXTwoMath-Regular_892\" transform=\"translate(239.402 -48.118) scale(1.1666666666666667)\" /></g></g><g><g fill=\"black\"><symbol id=\"STIXTwoMath-Regular_3783\" width=\"616\" height=\"51.216\" viewBox=\"0 -31.524 616 51.216\"><path d=\"M 5.508 1.956 Q 4.908 1.956, 4.362 1.758 Q 3.8160000000000003 1.56, 3.402 1.146 Q 2.988 0.732, 2.7840000000000003 0.07200000000000001 Q 1.788 -0.14400000000000002, 1.242 -0.996 Q 0.6960000000000001 -1.848, 0.6960000000000001 -3.12 Q 0.6960000000000001 -4.0440000000000005, 0.978 -4.914 Q 1.26 -5.784, 1.782 -6.486 Q 2.3040000000000003 -7.188, 3.0300000000000002 -7.602 Q 3.7560000000000002 -8.016, 4.644 -8.016 Q 5.508 -8.016, 6.1259999999999994 -7.6080000000000005 Q 6.744 -7.2, 7.068 -6.468 Q 7.392 -5.736, 7.392 -4.752 Q 7.392 -3.876, 7.134 -3.042 Q 6.876 -2.208, 6.396000000000001 -1.5180000000000002 Q 5.916 -0.8280000000000001, 5.25 -0.39 Q 4.5840000000000005 0.048, 3.7560000000000002 0.132 Q 3.96 0.648, 4.482 0.9000000000000001 Q 5.0040000000000004 1.1520000000000001, 5.664 1.1520000000000001 Q 6.024 1.1520000000000001, 6.324 1.068 L 6.384 1.824 Q 6.192 1.872, 5.994 1.9140000000000001 Q 5.796 1.956, 5.508 1.956 Z M 3.516 -0.648 Q 4.164 -0.648, 4.698 -0.996 Q 5.232 -1.344, 5.616 -1.932 Q 6.0 -2.52, 6.21 -3.246 Q 6.42 -3.972, 6.42 -4.728 Q 6.42 -5.436, 6.2219999999999995 -5.994 Q 6.024 -6.5520000000000005, 5.622 -6.882 Q 5.22 -7.212, 4.5840000000000005 -7.212 Q 3.924 -7.212, 3.3899999999999997 -6.864 Q 2.856 -6.516, 2.472 -5.928 Q 2.088 -5.34, 1.8780000000000001 -4.614 Q 1.668 -3.888, 1.668 -3.144 Q 1.668 -2.436, 1.866 -1.8719999999999999 Q 2.064 -1.308, 2.4779999999999998 -0.978 Q 2.892 -0.648, 3.516 -0.648 Z \" /></symbol><use href=\"#STIXTwoMath-Regular_3783\" transform=\"translate(333.1748 -48.118) scale(1.1666666666666667)\" /><symbol id=\"STIXTwoMath-Regular_4244\" width=\"313\" height=\"51.216\" viewBox=\"0 -31.524 313 51.216\"><path d=\"M 3.7560000000000002 0.0 L 2.7600000000000002 0.0 L 2.7600000000000002 -6.348 L 1.212 -6.348 L 1.212 -6.996 Q 1.848 -7.0920000000000005, 2.2560000000000002 -7.23 Q 2.664 -7.368, 3.0 -7.5600000000000005 L 3.7560000000000002 -7.5600000000000005 Z \" /></symbol><use href=\"#STIXTwoMath-Regular_4244\" transform=\"translate(342.2468 -31.862600000000004) scale(0.8166666666666668)\" /><symbol id=\"STIXTwoMath-Regular_695\" width=\"320\" height=\"51.216\" viewBox=\"0 -31.524 320 51.216\"><path d=\"M 3.84 -6.66 L 0.36 -6.66 L 0.36 -7.32 L 3.84 -7.32 Z \" /></symbol><use href=\"#STIXTwoMath-Regular_695\" transform=\"translate(338.632 -43.4476) scale(0.8166666666666668)\" /></g></g><g><g fill=\"black\"><symbol id=\"STIXTwoMath-Regular_3784\" width=\"560\" height=\"51.216\" viewBox=\"0 -31.524 560 51.216\"><path d=\"M 0.396 0.0 L 1.992 -7.884 L 4.212 -7.884 Q 5.364 -7.884, 6.042 -7.452 Q 6.72 -7.0200000000000005, 6.72 -5.988 Q 6.72 -5.28, 6.4079999999999995 -4.758 Q 6.096 -4.236, 5.562 -3.894 Q 5.0280000000000005 -3.552, 4.356 -3.42 L 5.772 0.0 L 4.74 0.0 L 3.42 -3.336 L 2.028 -3.336 L 1.344 0.0 Z M 2.196 -4.104 L 3.396 -4.104 Q 4.548 -4.104, 5.16 -4.59 Q 5.772 -5.0760000000000005, 5.772 -5.88 Q 5.772 -6.5520000000000005, 5.328 -6.8340000000000005 Q 4.884 -7.1160000000000005, 3.972 -7.1160000000000005 L 2.7960000000000003 -7.1160000000000005 Z \" /></symbol><use href=\"#STIXTwoMath-Regular_3784\" transform=\"translate(430.9348 -48.118) scale(1.1666666666666667)\" /><symbol id=\"STIXTwoMath-Regular_4244\" width=\"313\" height=\"51.216\" viewBox=\"0 -31.524 313 51.216\"><path d=\"M 3.7560000000000002 0.0 L 2.7600000000000002 0.0 L 2.7600000000000002 -6.348 L 1.212 -6.348 L 1.212 -6.996 Q 1.848 -7.0920000000000005, 2.2560000000000002 -7.23 Q 2.664 -7.368, 3.0 -7.5600000000000005 L 3.7560000000000002 -7.5600000000000005 Z \" /></symbol><use href=\"#STIXTwoMath-Regular_4244\" transform=\"translate(438.8868 -34.144600000000004) scale(0.8166666666666668)\" /></g></g><g><g fill=\"black\"><symbol id=\"STIXTwoMath-Regular_1657\" width=\"829\" height=\"51.216\" viewBox=\"0 -31.524 829 51.216\"><path d=\"M 8.004 -11.064 L 9.948 -11.064 L 9.948 -10.248 L 8.556000000000001 -10.248 L 4.956 3.18 L 4.452 3.18 L 1.6560000000000001 -3.8280000000000003 L 0.40800000000000003 -3.348 L 0.216 -3.684 L 2.124 -5.0040000000000004 L 2.364 -5.0040000000000004 L 4.74 1.116 L 4.788 1.116 Z \" /></symbol><use href=\"#STIXTwoMath-Regular_1657\" transform=\"translate(525.64 -48.118) scale(1.1666666666666667)\" /><symbol id=\"STIXTwoMath-Regular_3818\" width=\"447.564\" height=\"51.216\" viewBox=\"-0.5640000000000001 -31.524 447.564 51.216\"><path d=\"M -0.5640000000000001 0.0 L 1.98 -3.012 L 0.912 -5.688 L 1.836 -5.688 L 2.316 -4.416 Q 2.412 -4.164, 2.484 -3.936 Q 2.556 -3.708, 2.64 -3.468 L 2.688 -3.468 Q 2.88 -3.708, 3.066 -3.942 Q 3.2520000000000002 -4.176, 3.42 -4.416 L 4.404 -5.688 L 5.364 -5.688 L 3.048 -2.82 L 4.2 0.0 L 3.2760000000000002 0.0 L 2.7720000000000002 -1.332 Q 2.7600000000000002 -1.3800000000000001, 2.688 -1.566 Q 2.616 -1.752, 2.526 -1.98 Q 2.436 -2.208, 2.364 -2.376 L 2.316 -2.376 Q 2.136 -2.124, 1.9380000000000002 -1.872 Q 1.74 -1.62, 1.512 -1.344 L 0.42 0.0 Z \" /></symbol><use href=\"#STIXTwoMath-Regular_3818\" transform=\"translate(537.246 -48.118) scale(1.1666666666666667)\" /><rect x=\"537.246\" y=\"-24.247999999999998\" width=\"6.314\" height=\"0.9520000000000001\" /></g></g><g><g fill=\"black\"><symbol id=\"STIXTwoMath-Regular_868\" width=\"731\" height=\"51.216\" viewBox=\"0 -31.524 731 51.216\"><path d=\"M 8.496 0.0 L 5.364 0.0 L 5.364 -0.864 Q 5.928 -1.32, 6.318 -1.9500000000000002 Q 6.708 -2.58, 6.906000000000001 -3.282 Q 7.104 -3.984, 7.104 -4.644 Q 7.104 -6.0, 6.4559999999999995 -6.7620000000000005 Q 5.808 -7.524, 4.704 -7.524 Q 3.564 -7.524, 2.904 -6.75 Q 2.244 -5.976, 2.244 -4.644 Q 2.244 -3.996, 2.436 -3.282 Q 2.628 -2.568, 3.018 -1.932 Q 3.408 -1.296, 3.984 -0.852 L 3.984 0.0 L 0.8160000000000001 0.0 L 0.5640000000000001 -2.124 L 0.912 -2.124 Q 1.02 -1.716, 1.1219999999999999 -1.464 Q 1.224 -1.212, 1.4100000000000001 -1.092 Q 1.596 -0.972, 1.932 -0.972 L 3.024 -0.972 L 3.024 -1.044 Q 2.688 -1.296, 2.322 -1.626 Q 1.956 -1.956, 1.6440000000000001 -2.388 Q 1.332 -2.82, 1.1400000000000001 -3.3899999999999997 Q 0.9480000000000001 -3.96, 0.9480000000000001 -4.692 Q 0.9480000000000001 -5.688, 1.4280000000000002 -6.438 Q 1.9080000000000001 -7.188, 2.7600000000000002 -7.6080000000000005 Q 3.612 -8.028, 4.716 -8.028 Q 5.832 -8.028, 6.66 -7.6080000000000005 Q 7.488 -7.188, 7.944000000000001 -6.438 Q 8.4 -5.688, 8.4 -4.704 Q 8.4 -3.972, 8.196 -3.402 Q 7.992 -2.832, 7.6739999999999995 -2.394 Q 7.356 -1.956, 7.002000000000001 -1.626 Q 6.648000000000001 -1.296, 6.336 -1.044 L 6.336 -0.972 L 7.344 -0.972 Q 7.704 -0.972, 7.890000000000001 -1.092 Q 8.076 -1.212, 8.190000000000001 -1.47 Q 8.304 -1.728, 8.424 -2.124 L 8.772 -2.124 Z \" /></symbol><use href=\"#STIXTwoMath-Regular_868\" transform=\"translate(43.160999999999994 16.681999999999988) scale(1.1666666666666667)\" /></g></g><g><g fill=\"black\"><symbol id=\"STIXTwoMath-Regular_1681\" width=\"658\" height=\"51.216\" viewBox=\"0 -31.524 658 51.216\"><path d=\"M 7.896 0.0 L 0.276 0.0 L 6.984 -6.72 L 7.6080000000000005 -6.204 L 2.232 -0.804 L 7.896 -0.804 Z \" /></symbol><use href=\"#STIXTwoMath-Regular_1681\" transform=\"translate(140.89299999999997 16.681999999999988) scale(1.1666666666666667)\" /></g></g><g><g fill=\"black\"><symbol id=\"STIXTwoMath-Regular_4244\" width=\"313\" height=\"51.216\" viewBox=\"0 -31.524 313 51.216\"><path d=\"M 3.7560000000000002 0.0 L 2.7600000000000002 0.0 L 2.7600000000000002 -6.348 L 1.212 -6.348 L 1.212 -6.996 Q 1.848 -7.0920000000000005, 2.2560000000000002 -7.23 Q 2.664 -7.368, 3.0 -7.5600000000000005 L 3.7560000000000002 -7.5600000000000005 Z \" /></symbol><use href=\"#STIXTwoMath-Regular_4244\" transform=\"translate(231.044 16.681999999999988) scale(1.1666666666666667)\" /><symbol id=\"STIXTwoMath-Regular_4243\" width=\"463\" height=\"51.216\" viewBox=\"0 -31.524 463 51.216\"><path d=\"M 3.048 0.14400000000000002 Q 1.8840000000000001 0.14400000000000002, 1.218 -0.8820000000000001 Q 0.552 -1.9080000000000001, 0.552 -3.8040000000000003 Q 0.552 -5.712, 1.218 -6.702 Q 1.8840000000000001 -7.692, 3.048 -7.692 Q 4.224 -7.692, 4.890000000000001 -6.696 Q 5.556 -5.7, 5.556 -3.8040000000000003 Q 5.556 -1.9080000000000001, 4.890000000000001 -0.8820000000000001 Q 4.224 0.14400000000000002, 3.048 0.14400000000000002 Z M 3.048 -0.672 Q 3.732 -0.672, 4.152 -1.4100000000000001 Q 4.572 -2.148, 4.572 -3.8040000000000003 Q 4.572 -5.46, 4.152 -6.1739999999999995 Q 3.732 -6.888, 3.048 -6.888 Q 2.376 -6.888, 1.95 -6.1739999999999995 Q 1.524 -5.46, 1.524 -3.8040000000000003 Q 1.524 -2.148, 1.95 -1.4100000000000001 Q 2.376 -0.672, 3.048 -0.672 Z \" /></symbol><use href=\"#STIXTwoMath-Regular_4243\" transform=\"translate(238.156 16.681999999999988) scale(1.1666666666666667)\" /><symbol id=\"STIXTwoMath-Regular_1193\" width=\"647\" height=\"51.216\" viewBox=\"0 -31.524 647 51.216\"><path d=\"M 7.032 -7.992 L 2.172 0.252 L 1.596 0.252 L 5.88 -6.984 L 5.82 -6.984 Q 5.5200000000000005 -6.78, 5.238 -6.69 Q 4.956 -6.6000000000000005, 4.5840000000000005 -6.6000000000000005 Q 4.368 -6.6000000000000005, 4.206 -6.636 Q 4.0440000000000005 -6.672, 3.7680000000000002 -6.792 L 3.744 -6.768 Q 3.7800000000000002 -6.636, 3.8040000000000003 -6.468 Q 3.8280000000000003 -6.3, 3.8280000000000003 -6.096 Q 3.8280000000000003 -5.436, 3.5700000000000003 -4.884 Q 3.3120000000000003 -4.332, 2.862 -4.008 Q 2.412 -3.684, 1.836 -3.684 Q 1.224 -3.684, 0.882 -4.086 Q 0.54 -4.488, 0.54 -5.244 Q 0.54 -5.928, 0.804 -6.468 Q 1.068 -7.008, 1.524 -7.3260000000000005 Q 1.98 -7.644, 2.532 -7.644 Q 2.88 -7.644, 3.126 -7.536 Q 3.372 -7.428, 3.588 -7.284000000000001 Q 3.8040000000000003 -7.140000000000001, 4.074 -7.032 Q 4.344 -6.924, 4.74 -6.924 Q 5.016 -6.924, 5.25 -7.008000000000001 Q 5.484 -7.0920000000000005, 5.772 -7.3260000000000005 Q 6.0600000000000005 -7.5600000000000005, 6.492 -7.992 Z M 7.764 -2.184 Q 7.764 -1.512, 7.506 -0.96 Q 7.248 -0.40800000000000003, 6.804 -0.08400000000000002 Q 6.36 0.24, 5.784 0.24 Q 5.172 0.24, 4.824 -0.16200000000000003 Q 4.476 -0.5640000000000001, 4.476 -1.332 Q 4.476 -2.016, 4.734 -2.556 Q 4.992 -3.096, 5.448 -3.4080000000000004 Q 5.904 -3.72, 6.48 -3.72 Q 7.104 -3.72, 7.434 -3.324 Q 7.764 -2.928, 7.764 -2.184 Z M 7.356 -2.2680000000000002 Q 7.356 -3.396, 6.612 -3.396 Q 6.24 -3.396, 5.946 -3.114 Q 5.652 -2.832, 5.478 -2.346 Q 5.304 -1.86, 5.304 -1.248 Q 5.304 -0.684, 5.466 -0.42000000000000004 Q 5.628 -0.156, 5.964 -0.156 Q 6.348 -0.156, 6.66 -0.444 Q 6.972 -0.732, 7.164 -1.218 Q 7.356 -1.704, 7.356 -2.2680000000000002 Z M 3.42 -6.192 Q 3.42 -7.32, 2.676 -7.32 Q 2.3040000000000003 -7.32, 2.0100000000000002 -7.038 Q 1.716 -6.756, 1.542 -6.27 Q 1.368 -5.784, 1.368 -5.172 Q 1.368 -4.6080000000000005, 1.53 -4.344 Q 1.692 -4.08, 2.028 -4.08 Q 2.412 -4.08, 2.724 -4.368 Q 3.036 -4.656, 3.2279999999999998 -5.1419999999999995 Q 3.42 -5.628, 3.42 -6.192 Z \" /></symbol><use href=\"#STIXTwoMath-Regular_1193\" transform=\"translate(245.268 16.681999999999988) scale(1.1666666666666667)\" /></g></g><g><g fill=\"black\"><symbol id=\"STIXTwoMath-Regular_3784\" width=\"560\" height=\"51.216\" viewBox=\"0 -31.524 560 51.216\"><path d=\"M 0.396 0.0 L 1.992 -7.884 L 4.212 -7.884 Q 5.364 -7.884, 6.042 -7.452 Q 6.72 -7.0200000000000005, 6.72 -5.988 Q 6.72 -5.28, 6.4079999999999995 -4.758 Q 6.096 -4.236, 5.562 -3.894 Q 5.0280000000000005 -3.552, 4.356 -3.42 L 5.772 0.0 L 4.74 0.0 L 3.42 -3.336 L 2.028 -3.336 L 1.344 0.0 Z M 2.196 -4.104 L 3.396 -4.104 Q 4.548 -4.104, 5.16 -4.59 Q 5.772 -5.0760000000000005, 5.772 -5.88 Q 5.772 -6.5520000000000005, 5.328 -6.8340000000000005 Q 4.884 -7.1160000000000005, 3.972 -7.1160000000000005 L 2.7960000000000003 -7.1160000000000005 Z \" /></symbol><use href=\"#STIXTwoMath-Regular_3784\" transform=\"translate(333.5598 16.681999999999988) scale(1.1666666666666667)\" /><symbol id=\"STIXTwoMath-Regular_4245\" width=\"462\" height=\"51.216\" viewBox=\"0 -31.524 462 51.216\"><path d=\"M 0.492 0.0 L 0.492 -0.6 Q 1.668 -1.728, 2.484 -2.58 Q 3.3000000000000003 -3.432, 3.732 -4.116 Q 4.164 -4.8, 4.164 -5.412 Q 4.164 -6.0600000000000005, 3.798 -6.468 Q 3.432 -6.876, 2.688 -6.876 Q 2.196 -6.876, 1.782 -6.618 Q 1.368 -6.36, 1.02 -5.976 L 0.444 -6.54 Q 0.936 -7.0680000000000005, 1.494 -7.380000000000001 Q 2.052 -7.692, 2.8080000000000003 -7.692 Q 3.9 -7.692, 4.53 -7.08 Q 5.16 -6.468, 5.16 -5.46 Q 5.16 -4.764, 4.746 -4.0440000000000005 Q 4.332 -3.3240000000000003, 3.612 -2.5260000000000002 Q 2.892 -1.728, 1.968 -0.804 Q 2.2800000000000002 -0.8280000000000001, 2.628 -0.8460000000000001 Q 2.976 -0.864, 3.2760000000000002 -0.864 L 5.5440000000000005 -0.864 L 5.5440000000000005 0.0 Z \" /></symbol><use href=\"#STIXTwoMath-Regular_4245\" transform=\"translate(341.8618 22.67539999999999) scale(0.8166666666666668)\" /></g></g><g><g fill=\"black\"><symbol id=\"STIXTwoMath-Regular_3784\" width=\"560\" height=\"51.216\" viewBox=\"0 -31.524 560 51.216\"><path d=\"M 0.396 0.0 L 1.992 -7.884 L 4.212 -7.884 Q 5.364 -7.884, 6.042 -7.452 Q 6.72 -7.0200000000000005, 6.72 -5.988 Q 6.72 -5.28, 6.4079999999999995 -4.758 Q 6.096 -4.236, 5.562 -3.894 Q 5.0280000000000005 -3.552, 4.356 -3.42 L 5.772 0.0 L 4.74 0.0 L 3.42 -3.336 L 2.028 -3.336 L 1.344 0.0 Z M 2.196 -4.104 L 3.396 -4.104 Q 4.548 -4.104, 5.16 -4.59 Q 5.772 -5.0760000000000005, 5.772 -5.88 Q 5.772 -6.5520000000000005, 5.328 -6.8340000000000005 Q 4.884 -7.1160000000000005, 3.972 -7.1160000000000005 L 2.7960000000000003 -7.1160000000000005 Z \" /></symbol><use href=\"#STIXTwoMath-Regular_3784\" transform=\"translate(430.9348 16.681999999999988) scale(1.1666666666666667)\" /><symbol id=\"STIXTwoMath-Regular_4245\" width=\"462\" height=\"51.216\" viewBox=\"0 -31.524 462 51.216\"><path d=\"M 0.492 0.0 L 0.492 -0.6 Q 1.668 -1.728, 2.484 -2.58 Q 3.3000000000000003 -3.432, 3.732 -4.116 Q 4.164 -4.8, 4.164 -5.412 Q 4.164 -6.0600000000000005, 3.798 -6.468 Q 3.432 -6.876, 2.688 -6.876 Q 2.196 -6.876, 1.782 -6.618 Q 1.368 -6.36, 1.02 -5.976 L 0.444 -6.54 Q 0.936 -7.0680000000000005, 1.494 -7.380000000000001 Q 2.052 -7.692, 2.8080000000000003 -7.692 Q 3.9 -7.692, 4.53 -7.08 Q 5.16 -6.468, 5.16 -5.46 Q 5.16 -4.764, 4.746 -4.0440000000000005 Q 4.332 -3.3240000000000003, 3.612 -2.5260000000000002 Q 2.892 -1.728, 1.968 -0.804 Q 2.2800000000000002 -0.8280000000000001, 2.628 -0.8460000000000001 Q 2.976 -0.864, 3.2760000000000002 -0.864 L 5.5440000000000005 -0.864 L 5.5440000000000005 0.0 Z \" /></symbol><use href=\"#STIXTwoMath-Regular_4245\" transform=\"translate(438.8868 30.655399999999986) scale(0.8166666666666668)\" /></g></g></svg>"
      ]
     },
     "execution_count": 28,
     "metadata": {},
     "output_type": "execute_result"
    }
   ],
   "source": [
    "# Test some mathtext in svg backend\n",
    "schemdraw.use('svg')\n",
    "d = schemdraw.Drawing(font='sans')\n",
    "d += elm.Resistor().label('$R_{11}$')\n",
    "d += elm.Resistor().label('$R^{22}$')\n",
    "d += elm.Resistor().label(r'$\\theta$')\n",
    "d += elm.Resistor().label('$\\overline{Q_1}$')\n",
    "d += elm.Resistor().label('$R_1$')\n",
    "d += elm.Resistor().label('$\\sqrt{x}$')\n",
    "d.here = (0, -2)\n",
    "d += elm.Resistor().label('Ω')\n",
    "d += elm.Resistor().label('∠')\n",
    "d += elm.Resistor().label('10%')\n",
    "d += elm.Resistor().label('$R^2$')\n",
    "d += elm.Resistor().label('$R_2$')\n",
    "d.draw()"
   ]
  },
  {
   "cell_type": "code",
   "execution_count": 29,
   "id": "37321cf2",
   "metadata": {},
   "outputs": [
    {
     "data": {
      "image/svg+xml": [
       "<svg xmlns=\"http://www.w3.org/2000/svg\" xml:lang=\"en\" height=\"59.258199999999995pt\" width=\"93.06040000000002pt\" viewBox=\"-5.24 -54.8282 93.06040000000002 59.258199999999995\" style=\"background-color:white;\"><circle cx=\"0.0\" cy=\"-0.0\" r=\"2.4299999999999997\" style=\"stroke:black;fill:black;stroke-width:2;\" /><g transform=\"rotate(-45 0.0 -5.669999999999999)\"><g fill=\"black\"><symbol id=\"STIXTwoMath-Regular_3676\" width=\"557\" height=\"51.216\" viewBox=\"0 -31.524 557 51.216\"><path d=\"M 1.104 0.0 L 1.104 -7.884 L 3.636 -7.884 Q 4.452 -7.884, 5.088 -7.668 Q 5.724 -7.452, 6.084 -6.9719999999999995 Q 6.444 -6.492, 6.444 -5.676 Q 6.444 -4.728, 5.952 -4.176 Q 5.46 -3.624, 4.644 -3.432 L 6.684 0.0 L 5.5200000000000005 0.0 L 3.588 -3.3240000000000003 L 2.136 -3.3240000000000003 L 2.136 0.0 Z M 2.136 -4.152 L 3.48 -4.152 Q 4.416 -4.152, 4.92 -4.524 Q 5.424 -4.896, 5.424 -5.664 Q 5.424 -6.432, 4.92 -6.744 Q 4.416 -7.056, 3.48 -7.056 L 2.136 -7.056 Z \" /></symbol><use href=\"#STIXTwoMath-Regular_3676\" transform=\"translate(0.0 -42.44800000000001) scale(1.1666666666666667)\" /><symbol id=\"STIXTwoMath-Regular_4244\" width=\"313\" height=\"51.216\" viewBox=\"0 -31.524 313 51.216\"><path d=\"M 3.7560000000000002 0.0 L 2.7600000000000002 0.0 L 2.7600000000000002 -6.348 L 1.212 -6.348 L 1.212 -6.996 Q 1.848 -7.0920000000000005, 2.2560000000000002 -7.23 Q 2.664 -7.368, 3.0 -7.5600000000000005 L 3.7560000000000002 -7.5600000000000005 Z \" /></symbol><use href=\"#STIXTwoMath-Regular_4244\" transform=\"translate(8.162 -42.44800000000001) scale(1.1666666666666667)\" /></g></g><circle cx=\"32.4\" cy=\"-0.0\" r=\"2.4299999999999997\" style=\"stroke:black;fill:black;stroke-width:2;\" /><g transform=\"rotate(-45 32.4 -5.669999999999999)\"><g fill=\"black\"><symbol id=\"STIXTwoMath-Regular_3676\" width=\"557\" height=\"51.216\" viewBox=\"0 -31.524 557 51.216\"><path d=\"M 1.104 0.0 L 1.104 -7.884 L 3.636 -7.884 Q 4.452 -7.884, 5.088 -7.668 Q 5.724 -7.452, 6.084 -6.9719999999999995 Q 6.444 -6.492, 6.444 -5.676 Q 6.444 -4.728, 5.952 -4.176 Q 5.46 -3.624, 4.644 -3.432 L 6.684 0.0 L 5.5200000000000005 0.0 L 3.588 -3.3240000000000003 L 2.136 -3.3240000000000003 L 2.136 0.0 Z M 2.136 -4.152 L 3.48 -4.152 Q 4.416 -4.152, 4.92 -4.524 Q 5.424 -4.896, 5.424 -5.664 Q 5.424 -6.432, 4.92 -6.744 Q 4.416 -7.056, 3.48 -7.056 L 2.136 -7.056 Z \" /></symbol><use href=\"#STIXTwoMath-Regular_3676\" transform=\"translate(24.762999999999998 -42.44800000000001) scale(1.1666666666666667)\" /><symbol id=\"STIXTwoMath-Regular_4244\" width=\"313\" height=\"51.216\" viewBox=\"0 -31.524 313 51.216\"><path d=\"M 3.7560000000000002 0.0 L 2.7600000000000002 0.0 L 2.7600000000000002 -6.348 L 1.212 -6.348 L 1.212 -6.996 Q 1.848 -7.0920000000000005, 2.2560000000000002 -7.23 Q 2.664 -7.368, 3.0 -7.5600000000000005 L 3.7560000000000002 -7.5600000000000005 Z \" /></symbol><use href=\"#STIXTwoMath-Regular_4244\" transform=\"translate(32.925 -42.44800000000001) scale(1.1666666666666667)\" /></g></g><circle cx=\"64.8\" cy=\"-0.0\" r=\"2.4299999999999997\" style=\"stroke:black;fill:black;stroke-width:2;\" /><g transform=\"rotate(-45 64.8 -5.669999999999999)\"><g fill=\"black\"><symbol id=\"STIXTwoMath-Regular_3676\" width=\"557\" height=\"51.216\" viewBox=\"0 -31.524 557 51.216\"><path d=\"M 1.104 0.0 L 1.104 -7.884 L 3.636 -7.884 Q 4.452 -7.884, 5.088 -7.668 Q 5.724 -7.452, 6.084 -6.9719999999999995 Q 6.444 -6.492, 6.444 -5.676 Q 6.444 -4.728, 5.952 -4.176 Q 5.46 -3.624, 4.644 -3.432 L 6.684 0.0 L 5.5200000000000005 0.0 L 3.588 -3.3240000000000003 L 2.136 -3.3240000000000003 L 2.136 0.0 Z M 2.136 -4.152 L 3.48 -4.152 Q 4.416 -4.152, 4.92 -4.524 Q 5.424 -4.896, 5.424 -5.664 Q 5.424 -6.432, 4.92 -6.744 Q 4.416 -7.056, 3.48 -7.056 L 2.136 -7.056 Z \" /></symbol><use href=\"#STIXTwoMath-Regular_3676\" transform=\"translate(49.525999999999996 -42.44800000000001) scale(1.1666666666666667)\" /><symbol id=\"STIXTwoMath-Regular_4244\" width=\"313\" height=\"51.216\" viewBox=\"0 -31.524 313 51.216\"><path d=\"M 3.7560000000000002 0.0 L 2.7600000000000002 0.0 L 2.7600000000000002 -6.348 L 1.212 -6.348 L 1.212 -6.996 Q 1.848 -7.0920000000000005, 2.2560000000000002 -7.23 Q 2.664 -7.368, 3.0 -7.5600000000000005 L 3.7560000000000002 -7.5600000000000005 Z \" /></symbol><use href=\"#STIXTwoMath-Regular_4244\" transform=\"translate(57.687999999999995 -42.44800000000001) scale(1.1666666666666667)\" /></g></g><circle cx=\"0.0\" cy=\"-32.4\" r=\"2.4299999999999997\" style=\"stroke:black;fill:black;stroke-width:2;\" /><g transform=\"rotate(-45 0.0 -26.572499999999998)\"><g fill=\"black\"><symbol id=\"STIXTwoMath-Regular_3676\" width=\"557\" height=\"51.216\" viewBox=\"0 -31.524 557 51.216\"><path d=\"M 1.104 0.0 L 1.104 -7.884 L 3.636 -7.884 Q 4.452 -7.884, 5.088 -7.668 Q 5.724 -7.452, 6.084 -6.9719999999999995 Q 6.444 -6.492, 6.444 -5.676 Q 6.444 -4.728, 5.952 -4.176 Q 5.46 -3.624, 4.644 -3.432 L 6.684 0.0 L 5.5200000000000005 0.0 L 3.588 -3.3240000000000003 L 2.136 -3.3240000000000003 L 2.136 0.0 Z M 2.136 -4.152 L 3.48 -4.152 Q 4.416 -4.152, 4.92 -4.524 Q 5.424 -4.896, 5.424 -5.664 Q 5.424 -6.432, 4.92 -6.744 Q 4.416 -7.056, 3.48 -7.056 L 2.136 -7.056 Z \" /></symbol><use href=\"#STIXTwoMath-Regular_3676\" transform=\"translate(0.0 -63.350500000000004) scale(1.1666666666666667)\" /><symbol id=\"STIXTwoMath-Regular_4244\" width=\"313\" height=\"51.216\" viewBox=\"0 -31.524 313 51.216\"><path d=\"M 3.7560000000000002 0.0 L 2.7600000000000002 0.0 L 2.7600000000000002 -6.348 L 1.212 -6.348 L 1.212 -6.996 Q 1.848 -7.0920000000000005, 2.2560000000000002 -7.23 Q 2.664 -7.368, 3.0 -7.5600000000000005 L 3.7560000000000002 -7.5600000000000005 Z \" /></symbol><use href=\"#STIXTwoMath-Regular_4244\" transform=\"translate(8.162 -63.350500000000004) scale(1.1666666666666667)\" /></g></g><circle cx=\"32.4\" cy=\"-32.4\" r=\"2.4299999999999997\" style=\"stroke:black;fill:black;stroke-width:2;\" /><g transform=\"rotate(-45 32.4 -38.07)\"><g fill=\"black\"><symbol id=\"STIXTwoMath-Regular_3676\" width=\"557\" height=\"51.216\" viewBox=\"0 -31.524 557 51.216\"><path d=\"M 1.104 0.0 L 1.104 -7.884 L 3.636 -7.884 Q 4.452 -7.884, 5.088 -7.668 Q 5.724 -7.452, 6.084 -6.9719999999999995 Q 6.444 -6.492, 6.444 -5.676 Q 6.444 -4.728, 5.952 -4.176 Q 5.46 -3.624, 4.644 -3.432 L 6.684 0.0 L 5.5200000000000005 0.0 L 3.588 -3.3240000000000003 L 2.136 -3.3240000000000003 L 2.136 0.0 Z M 2.136 -4.152 L 3.48 -4.152 Q 4.416 -4.152, 4.92 -4.524 Q 5.424 -4.896, 5.424 -5.664 Q 5.424 -6.432, 4.92 -6.744 Q 4.416 -7.056, 3.48 -7.056 L 2.136 -7.056 Z \" /></symbol><use href=\"#STIXTwoMath-Regular_3676\" transform=\"translate(32.4 -74.84800000000001) scale(1.1666666666666667)\" /><symbol id=\"STIXTwoMath-Regular_4244\" width=\"313\" height=\"51.216\" viewBox=\"0 -31.524 313 51.216\"><path d=\"M 3.7560000000000002 0.0 L 2.7600000000000002 0.0 L 2.7600000000000002 -6.348 L 1.212 -6.348 L 1.212 -6.996 Q 1.848 -7.0920000000000005, 2.2560000000000002 -7.23 Q 2.664 -7.368, 3.0 -7.5600000000000005 L 3.7560000000000002 -7.5600000000000005 Z \" /></symbol><use href=\"#STIXTwoMath-Regular_4244\" transform=\"translate(40.562 -74.84800000000001) scale(1.1666666666666667)\" /></g></g><circle cx=\"64.8\" cy=\"-32.4\" r=\"2.4299999999999997\" style=\"stroke:black;fill:black;stroke-width:2;\" /><g transform=\"rotate(-45 64.8 -32.32125)\"><g fill=\"black\"><symbol id=\"STIXTwoMath-Regular_3676\" width=\"557\" height=\"51.216\" viewBox=\"0 -31.524 557 51.216\"><path d=\"M 1.104 0.0 L 1.104 -7.884 L 3.636 -7.884 Q 4.452 -7.884, 5.088 -7.668 Q 5.724 -7.452, 6.084 -6.9719999999999995 Q 6.444 -6.492, 6.444 -5.676 Q 6.444 -4.728, 5.952 -4.176 Q 5.46 -3.624, 4.644 -3.432 L 6.684 0.0 L 5.5200000000000005 0.0 L 3.588 -3.3240000000000003 L 2.136 -3.3240000000000003 L 2.136 0.0 Z M 2.136 -4.152 L 3.48 -4.152 Q 4.416 -4.152, 4.92 -4.524 Q 5.424 -4.896, 5.424 -5.664 Q 5.424 -6.432, 4.92 -6.744 Q 4.416 -7.056, 3.48 -7.056 L 2.136 -7.056 Z \" /></symbol><use href=\"#STIXTwoMath-Regular_3676\" transform=\"translate(64.8 -69.09925000000001) scale(1.1666666666666667)\" /><symbol id=\"STIXTwoMath-Regular_4244\" width=\"313\" height=\"51.216\" viewBox=\"0 -31.524 313 51.216\"><path d=\"M 3.7560000000000002 0.0 L 2.7600000000000002 0.0 L 2.7600000000000002 -6.348 L 1.212 -6.348 L 1.212 -6.996 Q 1.848 -7.0920000000000005, 2.2560000000000002 -7.23 Q 2.664 -7.368, 3.0 -7.5600000000000005 L 3.7560000000000002 -7.5600000000000005 Z \" /></symbol><use href=\"#STIXTwoMath-Regular_4244\" transform=\"translate(72.962 -69.09925000000001) scale(1.1666666666666667)\" /></g></g></svg>"
      ],
      "text/plain": [
       "<svg xmlns=\"http://www.w3.org/2000/svg\" xml:lang=\"en\" height=\"59.258199999999995pt\" width=\"93.06040000000002pt\" viewBox=\"-5.24 -54.8282 93.06040000000002 59.258199999999995\" style=\"background-color:white;\"><circle cx=\"0.0\" cy=\"-0.0\" r=\"2.4299999999999997\" style=\"stroke:black;fill:black;stroke-width:2;\" /><g transform=\"rotate(-45 0.0 -5.669999999999999)\"><g fill=\"black\"><symbol id=\"STIXTwoMath-Regular_3676\" width=\"557\" height=\"51.216\" viewBox=\"0 -31.524 557 51.216\"><path d=\"M 1.104 0.0 L 1.104 -7.884 L 3.636 -7.884 Q 4.452 -7.884, 5.088 -7.668 Q 5.724 -7.452, 6.084 -6.9719999999999995 Q 6.444 -6.492, 6.444 -5.676 Q 6.444 -4.728, 5.952 -4.176 Q 5.46 -3.624, 4.644 -3.432 L 6.684 0.0 L 5.5200000000000005 0.0 L 3.588 -3.3240000000000003 L 2.136 -3.3240000000000003 L 2.136 0.0 Z M 2.136 -4.152 L 3.48 -4.152 Q 4.416 -4.152, 4.92 -4.524 Q 5.424 -4.896, 5.424 -5.664 Q 5.424 -6.432, 4.92 -6.744 Q 4.416 -7.056, 3.48 -7.056 L 2.136 -7.056 Z \" /></symbol><use href=\"#STIXTwoMath-Regular_3676\" transform=\"translate(0.0 -42.44800000000001) scale(1.1666666666666667)\" /><symbol id=\"STIXTwoMath-Regular_4244\" width=\"313\" height=\"51.216\" viewBox=\"0 -31.524 313 51.216\"><path d=\"M 3.7560000000000002 0.0 L 2.7600000000000002 0.0 L 2.7600000000000002 -6.348 L 1.212 -6.348 L 1.212 -6.996 Q 1.848 -7.0920000000000005, 2.2560000000000002 -7.23 Q 2.664 -7.368, 3.0 -7.5600000000000005 L 3.7560000000000002 -7.5600000000000005 Z \" /></symbol><use href=\"#STIXTwoMath-Regular_4244\" transform=\"translate(8.162 -42.44800000000001) scale(1.1666666666666667)\" /></g></g><circle cx=\"32.4\" cy=\"-0.0\" r=\"2.4299999999999997\" style=\"stroke:black;fill:black;stroke-width:2;\" /><g transform=\"rotate(-45 32.4 -5.669999999999999)\"><g fill=\"black\"><symbol id=\"STIXTwoMath-Regular_3676\" width=\"557\" height=\"51.216\" viewBox=\"0 -31.524 557 51.216\"><path d=\"M 1.104 0.0 L 1.104 -7.884 L 3.636 -7.884 Q 4.452 -7.884, 5.088 -7.668 Q 5.724 -7.452, 6.084 -6.9719999999999995 Q 6.444 -6.492, 6.444 -5.676 Q 6.444 -4.728, 5.952 -4.176 Q 5.46 -3.624, 4.644 -3.432 L 6.684 0.0 L 5.5200000000000005 0.0 L 3.588 -3.3240000000000003 L 2.136 -3.3240000000000003 L 2.136 0.0 Z M 2.136 -4.152 L 3.48 -4.152 Q 4.416 -4.152, 4.92 -4.524 Q 5.424 -4.896, 5.424 -5.664 Q 5.424 -6.432, 4.92 -6.744 Q 4.416 -7.056, 3.48 -7.056 L 2.136 -7.056 Z \" /></symbol><use href=\"#STIXTwoMath-Regular_3676\" transform=\"translate(24.762999999999998 -42.44800000000001) scale(1.1666666666666667)\" /><symbol id=\"STIXTwoMath-Regular_4244\" width=\"313\" height=\"51.216\" viewBox=\"0 -31.524 313 51.216\"><path d=\"M 3.7560000000000002 0.0 L 2.7600000000000002 0.0 L 2.7600000000000002 -6.348 L 1.212 -6.348 L 1.212 -6.996 Q 1.848 -7.0920000000000005, 2.2560000000000002 -7.23 Q 2.664 -7.368, 3.0 -7.5600000000000005 L 3.7560000000000002 -7.5600000000000005 Z \" /></symbol><use href=\"#STIXTwoMath-Regular_4244\" transform=\"translate(32.925 -42.44800000000001) scale(1.1666666666666667)\" /></g></g><circle cx=\"64.8\" cy=\"-0.0\" r=\"2.4299999999999997\" style=\"stroke:black;fill:black;stroke-width:2;\" /><g transform=\"rotate(-45 64.8 -5.669999999999999)\"><g fill=\"black\"><symbol id=\"STIXTwoMath-Regular_3676\" width=\"557\" height=\"51.216\" viewBox=\"0 -31.524 557 51.216\"><path d=\"M 1.104 0.0 L 1.104 -7.884 L 3.636 -7.884 Q 4.452 -7.884, 5.088 -7.668 Q 5.724 -7.452, 6.084 -6.9719999999999995 Q 6.444 -6.492, 6.444 -5.676 Q 6.444 -4.728, 5.952 -4.176 Q 5.46 -3.624, 4.644 -3.432 L 6.684 0.0 L 5.5200000000000005 0.0 L 3.588 -3.3240000000000003 L 2.136 -3.3240000000000003 L 2.136 0.0 Z M 2.136 -4.152 L 3.48 -4.152 Q 4.416 -4.152, 4.92 -4.524 Q 5.424 -4.896, 5.424 -5.664 Q 5.424 -6.432, 4.92 -6.744 Q 4.416 -7.056, 3.48 -7.056 L 2.136 -7.056 Z \" /></symbol><use href=\"#STIXTwoMath-Regular_3676\" transform=\"translate(49.525999999999996 -42.44800000000001) scale(1.1666666666666667)\" /><symbol id=\"STIXTwoMath-Regular_4244\" width=\"313\" height=\"51.216\" viewBox=\"0 -31.524 313 51.216\"><path d=\"M 3.7560000000000002 0.0 L 2.7600000000000002 0.0 L 2.7600000000000002 -6.348 L 1.212 -6.348 L 1.212 -6.996 Q 1.848 -7.0920000000000005, 2.2560000000000002 -7.23 Q 2.664 -7.368, 3.0 -7.5600000000000005 L 3.7560000000000002 -7.5600000000000005 Z \" /></symbol><use href=\"#STIXTwoMath-Regular_4244\" transform=\"translate(57.687999999999995 -42.44800000000001) scale(1.1666666666666667)\" /></g></g><circle cx=\"0.0\" cy=\"-32.4\" r=\"2.4299999999999997\" style=\"stroke:black;fill:black;stroke-width:2;\" /><g transform=\"rotate(-45 0.0 -26.572499999999998)\"><g fill=\"black\"><symbol id=\"STIXTwoMath-Regular_3676\" width=\"557\" height=\"51.216\" viewBox=\"0 -31.524 557 51.216\"><path d=\"M 1.104 0.0 L 1.104 -7.884 L 3.636 -7.884 Q 4.452 -7.884, 5.088 -7.668 Q 5.724 -7.452, 6.084 -6.9719999999999995 Q 6.444 -6.492, 6.444 -5.676 Q 6.444 -4.728, 5.952 -4.176 Q 5.46 -3.624, 4.644 -3.432 L 6.684 0.0 L 5.5200000000000005 0.0 L 3.588 -3.3240000000000003 L 2.136 -3.3240000000000003 L 2.136 0.0 Z M 2.136 -4.152 L 3.48 -4.152 Q 4.416 -4.152, 4.92 -4.524 Q 5.424 -4.896, 5.424 -5.664 Q 5.424 -6.432, 4.92 -6.744 Q 4.416 -7.056, 3.48 -7.056 L 2.136 -7.056 Z \" /></symbol><use href=\"#STIXTwoMath-Regular_3676\" transform=\"translate(0.0 -63.350500000000004) scale(1.1666666666666667)\" /><symbol id=\"STIXTwoMath-Regular_4244\" width=\"313\" height=\"51.216\" viewBox=\"0 -31.524 313 51.216\"><path d=\"M 3.7560000000000002 0.0 L 2.7600000000000002 0.0 L 2.7600000000000002 -6.348 L 1.212 -6.348 L 1.212 -6.996 Q 1.848 -7.0920000000000005, 2.2560000000000002 -7.23 Q 2.664 -7.368, 3.0 -7.5600000000000005 L 3.7560000000000002 -7.5600000000000005 Z \" /></symbol><use href=\"#STIXTwoMath-Regular_4244\" transform=\"translate(8.162 -63.350500000000004) scale(1.1666666666666667)\" /></g></g><circle cx=\"32.4\" cy=\"-32.4\" r=\"2.4299999999999997\" style=\"stroke:black;fill:black;stroke-width:2;\" /><g transform=\"rotate(-45 32.4 -38.07)\"><g fill=\"black\"><symbol id=\"STIXTwoMath-Regular_3676\" width=\"557\" height=\"51.216\" viewBox=\"0 -31.524 557 51.216\"><path d=\"M 1.104 0.0 L 1.104 -7.884 L 3.636 -7.884 Q 4.452 -7.884, 5.088 -7.668 Q 5.724 -7.452, 6.084 -6.9719999999999995 Q 6.444 -6.492, 6.444 -5.676 Q 6.444 -4.728, 5.952 -4.176 Q 5.46 -3.624, 4.644 -3.432 L 6.684 0.0 L 5.5200000000000005 0.0 L 3.588 -3.3240000000000003 L 2.136 -3.3240000000000003 L 2.136 0.0 Z M 2.136 -4.152 L 3.48 -4.152 Q 4.416 -4.152, 4.92 -4.524 Q 5.424 -4.896, 5.424 -5.664 Q 5.424 -6.432, 4.92 -6.744 Q 4.416 -7.056, 3.48 -7.056 L 2.136 -7.056 Z \" /></symbol><use href=\"#STIXTwoMath-Regular_3676\" transform=\"translate(32.4 -74.84800000000001) scale(1.1666666666666667)\" /><symbol id=\"STIXTwoMath-Regular_4244\" width=\"313\" height=\"51.216\" viewBox=\"0 -31.524 313 51.216\"><path d=\"M 3.7560000000000002 0.0 L 2.7600000000000002 0.0 L 2.7600000000000002 -6.348 L 1.212 -6.348 L 1.212 -6.996 Q 1.848 -7.0920000000000005, 2.2560000000000002 -7.23 Q 2.664 -7.368, 3.0 -7.5600000000000005 L 3.7560000000000002 -7.5600000000000005 Z \" /></symbol><use href=\"#STIXTwoMath-Regular_4244\" transform=\"translate(40.562 -74.84800000000001) scale(1.1666666666666667)\" /></g></g><circle cx=\"64.8\" cy=\"-32.4\" r=\"2.4299999999999997\" style=\"stroke:black;fill:black;stroke-width:2;\" /><g transform=\"rotate(-45 64.8 -32.32125)\"><g fill=\"black\"><symbol id=\"STIXTwoMath-Regular_3676\" width=\"557\" height=\"51.216\" viewBox=\"0 -31.524 557 51.216\"><path d=\"M 1.104 0.0 L 1.104 -7.884 L 3.636 -7.884 Q 4.452 -7.884, 5.088 -7.668 Q 5.724 -7.452, 6.084 -6.9719999999999995 Q 6.444 -6.492, 6.444 -5.676 Q 6.444 -4.728, 5.952 -4.176 Q 5.46 -3.624, 4.644 -3.432 L 6.684 0.0 L 5.5200000000000005 0.0 L 3.588 -3.3240000000000003 L 2.136 -3.3240000000000003 L 2.136 0.0 Z M 2.136 -4.152 L 3.48 -4.152 Q 4.416 -4.152, 4.92 -4.524 Q 5.424 -4.896, 5.424 -5.664 Q 5.424 -6.432, 4.92 -6.744 Q 4.416 -7.056, 3.48 -7.056 L 2.136 -7.056 Z \" /></symbol><use href=\"#STIXTwoMath-Regular_3676\" transform=\"translate(64.8 -69.09925000000001) scale(1.1666666666666667)\" /><symbol id=\"STIXTwoMath-Regular_4244\" width=\"313\" height=\"51.216\" viewBox=\"0 -31.524 313 51.216\"><path d=\"M 3.7560000000000002 0.0 L 2.7600000000000002 0.0 L 2.7600000000000002 -6.348 L 1.212 -6.348 L 1.212 -6.996 Q 1.848 -7.0920000000000005, 2.2560000000000002 -7.23 Q 2.664 -7.368, 3.0 -7.5600000000000005 L 3.7560000000000002 -7.5600000000000005 Z \" /></symbol><use href=\"#STIXTwoMath-Regular_4244\" transform=\"translate(72.962 -69.09925000000001) scale(1.1666666666666667)\" /></g></g></svg>"
      ]
     },
     "execution_count": 29,
     "metadata": {},
     "output_type": "execute_result"
    }
   ],
   "source": [
    "# Test some mathtext in svg backend\n",
    "schemdraw.use('svg')\n",
    "d = schemdraw.Drawing()\n",
    "d += elm.Dot().label('R1', rotate=45)\n",
    "d += elm.Dot().at((1, 0)).label('R1', rotate=45, halign='center')\n",
    "d += elm.Dot().at((2, 0)).label('R1', rotate=45, halign='right')\n",
    "d += elm.Dot().at((0, 1)).label('R1', rotate=45, valign='top')\n",
    "d += elm.Dot().at((1, 1)).label('R1', rotate=45, valign='bottom')\n",
    "d += elm.Dot().at((2, 1)).label('R1', rotate=45, valign='center')\n",
    "d.draw()"
   ]
  },
  {
   "cell_type": "code",
   "execution_count": 30,
   "id": "64ddfde5",
   "metadata": {},
   "outputs": [],
   "source": [
    "from schemdraw.backends import svgtext\n",
    "from IPython.display import SVG\n",
    "from xml.etree import ElementTree as ET\n",
    "# These should appear similar to\n",
    "# https://matplotlib.org/3.1.1/gallery/text_labels_and_annotations/demo_text_rotation_mode.html"
   ]
  },
  {
   "cell_type": "code",
   "execution_count": 31,
   "id": "f18935df",
   "metadata": {},
   "outputs": [
    {
     "data": {
      "image/svg+xml": [
       "<svg xmlns=\"http://www.w3.org/2000/svg\" xml:lang=\"en\" height=\"150pt\" width=\"150pt\"><g><text x=\"50\" y=\"43.599999999999994\" fill=\"black\" font-size=\"16\" font-family=\"Arial\" text-anchor=\"start\" transform=\"rotate(-45 50 50)\"><tspan x=\"50\" dy=\"12.8\">ABC</tspan></text><rect x=\"50\" y=\"43.599999999999994\" width=\"32.256\" height=\"12.8\" style=\"stroke:blue;stroke-width:1;fill:none\" transform=\"rotate(-45 50 50)\"/><circle cx=\"50\" cy=\"50\" r=\"1.5\" stroke=\"red\" fill=\"red\"/><rect x=\"45.47451660040609\" y=\"22.666080266452816\" width=\"31.859403133141086\" height=\"31.859403133141086\" style=\"stroke:red;stroke-width:1;fill:none\"/></g></svg>"
      ],
      "text/plain": [
       "<IPython.core.display.SVG object>"
      ]
     },
     "execution_count": 31,
     "metadata": {},
     "output_type": "execute_result"
    }
   ],
   "source": [
    "svghead = '<svg xmlns=\"http://www.w3.org/2000/svg\" xml:lang=\"en\" height=\"150pt\" width=\"150pt\">{}</svg>'\n",
    "s = svgtext.text_tosvg('ABC', 50, 50, halign='left', rotation=45, testmode=True)\n",
    "SVG(svghead.format(ET.tostring(s, encoding='unicode')))"
   ]
  },
  {
   "cell_type": "code",
   "execution_count": 32,
   "id": "d6b57644",
   "metadata": {},
   "outputs": [
    {
     "data": {
      "image/svg+xml": [
       "<svg xmlns=\"http://www.w3.org/2000/svg\" xml:lang=\"en\" height=\"150pt\" width=\"150pt\"><g><text x=\"30\" y=\"29.999999999999996\" fill=\"black\" font-size=\"16\" font-family=\"Arial\" text-anchor=\"start\" transform=\"rotate(-30 30 30)\"><tspan x=\"30\" dy=\"12.8\">ABC</tspan></text><rect x=\"30\" y=\"29.999999999999996\" width=\"32.256\" height=\"12.8\" style=\"stroke:blue;stroke-width:1;fill:none\" transform=\"rotate(-30 30 30)\"/><circle cx=\"30\" cy=\"30\" r=\"1.5\" stroke=\"red\" fill=\"red\"/><rect x=\"30.0\" y=\"13.872\" width=\"34.33451542447085\" height=\"27.21312516844081\" style=\"stroke:red;stroke-width:1;fill:none\"/></g><g><text x=\"90\" y=\"29.999999999999996\" fill=\"black\" font-size=\"16\" font-family=\"Arial\" text-anchor=\"middle\" transform=\"rotate(-30 90 30)\"><tspan x=\"90\" dy=\"12.8\">ABC</tspan></text><rect x=\"73.872\" y=\"29.999999999999996\" width=\"32.256\" height=\"12.8\" style=\"stroke:blue;stroke-width:1;fill:none\" transform=\"rotate(-30 90 30)\"/><circle cx=\"90\" cy=\"30\" r=\"1.5\" stroke=\"red\" fill=\"red\"/><rect x=\"76.03274228776456\" y=\"21.936\" width=\"34.334515424470865\" height=\"27.21312516844081\" style=\"stroke:red;stroke-width:1;fill:none\"/></g><g><text x=\"150\" y=\"29.999999999999996\" fill=\"black\" font-size=\"16\" font-family=\"Arial\" text-anchor=\"end\" transform=\"rotate(-30 150 30)\"><tspan x=\"150\" dy=\"12.8\">ABC</tspan></text><rect x=\"117.744\" y=\"29.999999999999996\" width=\"32.256\" height=\"12.8\" style=\"stroke:blue;stroke-width:1;fill:none\" transform=\"rotate(-30 150 30)\"/><circle cx=\"150\" cy=\"30\" r=\"1.5\" stroke=\"red\" fill=\"red\"/><rect x=\"122.06548457552914\" y=\"29.999999999999996\" width=\"34.334515424470865\" height=\"27.213125168440815\" style=\"stroke:red;stroke-width:1;fill:none\"/></g><g><text x=\"30\" y=\"73.60000000000001\" fill=\"black\" font-size=\"16\" font-family=\"Arial\" text-anchor=\"start\" transform=\"rotate(-30 30 80)\"><tspan x=\"30\" dy=\"12.8\">ABC</tspan></text><rect x=\"30\" y=\"73.60000000000001\" width=\"32.256\" height=\"12.8\" style=\"stroke:blue;stroke-width:1;fill:none\" transform=\"rotate(-30 30 80)\"/><circle cx=\"30\" cy=\"80\" r=\"1.5\" stroke=\"red\" fill=\"red\"/><rect x=\"26.800000000000004\" y=\"58.3294374157796\" width=\"34.33451542447086\" height=\"27.213125168440804\" style=\"stroke:red;stroke-width:1;fill:none\"/></g><g><text x=\"90\" y=\"73.60000000000001\" fill=\"black\" font-size=\"16\" font-family=\"Arial\" text-anchor=\"middle\" transform=\"rotate(-30 90 80)\"><tspan x=\"90\" dy=\"12.8\">ABC</tspan></text><rect x=\"73.872\" y=\"73.60000000000001\" width=\"32.256\" height=\"12.8\" style=\"stroke:blue;stroke-width:1;fill:none\" transform=\"rotate(-30 90 80)\"/><circle cx=\"90\" cy=\"80\" r=\"1.5\" stroke=\"red\" fill=\"red\"/><rect x=\"72.83274228776457\" y=\"66.3934374157796\" width=\"34.33451542447085\" height=\"27.21312516844081\" style=\"stroke:red;stroke-width:1;fill:none\"/></g><g><text x=\"150\" y=\"73.60000000000001\" fill=\"black\" font-size=\"16\" font-family=\"Arial\" text-anchor=\"end\" transform=\"rotate(-30 150 80)\"><tspan x=\"150\" dy=\"12.8\">ABC</tspan></text><rect x=\"117.744\" y=\"73.60000000000001\" width=\"32.256\" height=\"12.8\" style=\"stroke:blue;stroke-width:1;fill:none\" transform=\"rotate(-30 150 80)\"/><circle cx=\"150\" cy=\"80\" r=\"1.5\" stroke=\"red\" fill=\"red\"/><rect x=\"118.86548457552915\" y=\"74.4574374157796\" width=\"34.33451542447084\" height=\"27.21312516844081\" style=\"stroke:red;stroke-width:1;fill:none\"/></g><g><text x=\"30\" y=\"117.2\" fill=\"black\" font-size=\"16\" font-family=\"Arial\" text-anchor=\"start\" transform=\"rotate(-30 30 130)\"><tspan x=\"30\" dy=\"12.8\">ABC</tspan></text><rect x=\"30\" y=\"117.2\" width=\"32.256\" height=\"12.8\" style=\"stroke:blue;stroke-width:1;fill:none\" transform=\"rotate(-30 30 130)\"/><circle cx=\"30\" cy=\"130\" r=\"1.5\" stroke=\"red\" fill=\"red\"/><rect x=\"23.6\" y=\"102.78687483155919\" width=\"34.33451542447086\" height=\"27.21312516844081\" style=\"stroke:red;stroke-width:1;fill:none\"/></g><g><text x=\"90\" y=\"117.2\" fill=\"black\" font-size=\"16\" font-family=\"Arial\" text-anchor=\"middle\" transform=\"rotate(-30 90 130)\"><tspan x=\"90\" dy=\"12.8\">ABC</tspan></text><rect x=\"73.872\" y=\"117.2\" width=\"32.256\" height=\"12.8\" style=\"stroke:blue;stroke-width:1;fill:none\" transform=\"rotate(-30 90 130)\"/><circle cx=\"90\" cy=\"130\" r=\"1.5\" stroke=\"red\" fill=\"red\"/><rect x=\"69.63274228776457\" y=\"110.8508748315592\" width=\"34.33451542447085\" height=\"27.213125168440797\" style=\"stroke:red;stroke-width:1;fill:none\"/></g><g><text x=\"150\" y=\"117.2\" fill=\"black\" font-size=\"16\" font-family=\"Arial\" text-anchor=\"end\" transform=\"rotate(-30 150 130)\"><tspan x=\"150\" dy=\"12.8\">ABC</tspan></text><rect x=\"117.744\" y=\"117.2\" width=\"32.256\" height=\"12.8\" style=\"stroke:blue;stroke-width:1;fill:none\" transform=\"rotate(-30 150 130)\"/><circle cx=\"150\" cy=\"130\" r=\"1.5\" stroke=\"red\" fill=\"red\"/><rect x=\"115.66548457552915\" y=\"118.91487483155919\" width=\"34.33451542447085\" height=\"27.213125168440797\" style=\"stroke:red;stroke-width:1;fill:none\"/></g></svg>"
      ],
      "text/plain": [
       "<IPython.core.display.SVG object>"
      ]
     },
     "execution_count": 32,
     "metadata": {},
     "output_type": "execute_result"
    }
   ],
   "source": [
    "# \"anchor\" rotation mode\n",
    "s = ET.tostring(svgtext.text_tosvg('ABC', 30, 30, rotation=30,\n",
    "                       halign='left', valign='top', \n",
    "                       testmode=True),\n",
    "                encoding='unicode')\n",
    "s += ET.tostring(svgtext.text_tosvg('ABC', 90, 30, rotation=30,\n",
    "                       halign='center', valign='top', \n",
    "                       testmode=True),\n",
    "                encoding='unicode')\n",
    "s += ET.tostring(svgtext.text_tosvg('ABC', 150, 30, rotation=30,\n",
    "                       halign='right', valign='top', \n",
    "                       testmode=True),\n",
    "                encoding='unicode')\n",
    "s += ET.tostring(svgtext.text_tosvg('ABC', 30, 80, rotation=30,\n",
    "                       halign='left', valign='center', \n",
    "                       testmode=True),\n",
    "                encoding='unicode')\n",
    "s += ET.tostring(svgtext.text_tosvg('ABC', 90, 80, rotation=30,\n",
    "                       halign='center', valign='center', \n",
    "                       testmode=True),\n",
    "                encoding='unicode')\n",
    "s += ET.tostring(svgtext.text_tosvg('ABC', 150, 80, rotation=30,\n",
    "                       halign='right', valign='center', \n",
    "                       testmode=True),\n",
    "                encoding='unicode')\n",
    "s += ET.tostring(svgtext.text_tosvg('ABC', 30, 130, rotation=30,\n",
    "                       halign='left', valign='bottom', \n",
    "                       testmode=True),\n",
    "                encoding='unicode')\n",
    "s += ET.tostring(svgtext.text_tosvg('ABC', 90, 130, rotation=30,\n",
    "                       halign='center', valign='bottom', \n",
    "                       testmode=True),\n",
    "                encoding='unicode')\n",
    "s += ET.tostring(svgtext.text_tosvg('ABC', 150, 130, rotation=30,\n",
    "                       halign='right', valign='bottom', \n",
    "                       testmode=True),\n",
    "                encoding='unicode')\n",
    "\n",
    "SVG(svghead.format(s))"
   ]
  },
  {
   "cell_type": "code",
   "execution_count": 33,
   "id": "619818c5",
   "metadata": {},
   "outputs": [
    {
     "data": {
      "image/svg+xml": [
       "<svg xmlns=\"http://www.w3.org/2000/svg\" xml:lang=\"en\" height=\"150pt\" width=\"150pt\"><g><text x=\"30\" y=\"29.999999999999996\" fill=\"black\" font-size=\"16\" font-family=\"Arial\" text-anchor=\"start\" transform=\"translate(0.0 16.128) rotate(-30 30 30)\"><tspan x=\"30\" dy=\"12.8\">ABC</tspan></text><rect x=\"30\" y=\"29.999999999999996\" width=\"32.256\" height=\"12.8\" style=\"stroke:blue;stroke-width:1;fill:none\" transform=\"translate(0.0 16.128) rotate(-30 30 30)\"/><circle cx=\"30\" cy=\"30\" r=\"1.5\" stroke=\"red\" fill=\"red\"/><rect x=\"30.0\" y=\"30.0\" width=\"34.33451542447085\" height=\"27.21312516844081\" style=\"stroke:red;stroke-width:1;fill:none\"/></g><g><text x=\"90\" y=\"29.999999999999996\" fill=\"black\" font-size=\"16\" font-family=\"Arial\" text-anchor=\"middle\" transform=\"translate(-3.1999999999999886 8.064) rotate(-30 90 30)\"><tspan x=\"90\" dy=\"12.8\">ABC</tspan></text><rect x=\"73.872\" y=\"29.999999999999996\" width=\"32.256\" height=\"12.8\" style=\"stroke:blue;stroke-width:1;fill:none\" transform=\"translate(-3.1999999999999886 8.064) rotate(-30 90 30)\"/><circle cx=\"90\" cy=\"30\" r=\"1.5\" stroke=\"red\" fill=\"red\"/><rect x=\"72.83274228776457\" y=\"30.0\" width=\"34.334515424470865\" height=\"27.21312516844081\" style=\"stroke:red;stroke-width:1;fill:none\"/></g><g><text x=\"150\" y=\"29.999999999999996\" fill=\"black\" font-size=\"16\" font-family=\"Arial\" text-anchor=\"end\" transform=\"translate(-6.400000000000006 3.552713678800501e-15) rotate(-30 150 30)\"><tspan x=\"150\" dy=\"12.8\">ABC</tspan></text><rect x=\"117.744\" y=\"29.999999999999996\" width=\"32.256\" height=\"12.8\" style=\"stroke:blue;stroke-width:1;fill:none\" transform=\"translate(-6.400000000000006 3.552713678800501e-15) rotate(-30 150 30)\"/><circle cx=\"150\" cy=\"30\" r=\"1.5\" stroke=\"red\" fill=\"red\"/><rect x=\"115.66548457552913\" y=\"30.0\" width=\"34.334515424470865\" height=\"27.21312516844081\" style=\"stroke:red;stroke-width:1;fill:none\"/></g><g><text x=\"30\" y=\"73.60000000000001\" fill=\"black\" font-size=\"16\" font-family=\"Arial\" text-anchor=\"start\" transform=\"translate(3.1999999999999957 8.063999999999993) rotate(-30 30 80)\"><tspan x=\"30\" dy=\"12.8\">ABC</tspan></text><rect x=\"30\" y=\"73.60000000000001\" width=\"32.256\" height=\"12.8\" style=\"stroke:blue;stroke-width:1;fill:none\" transform=\"translate(3.1999999999999957 8.063999999999993) rotate(-30 30 80)\"/><circle cx=\"30\" cy=\"80\" r=\"1.5\" stroke=\"red\" fill=\"red\"/><rect x=\"30.0\" y=\"66.3934374157796\" width=\"34.33451542447085\" height=\"27.213125168440797\" style=\"stroke:red;stroke-width:1;fill:none\"/></g><g><text x=\"90\" y=\"73.60000000000001\" fill=\"black\" font-size=\"16\" font-family=\"Arial\" text-anchor=\"middle\" transform=\"translate(0.0 0.0) rotate(-30 90 80)\"><tspan x=\"90\" dy=\"12.8\">ABC</tspan></text><rect x=\"73.872\" y=\"73.60000000000001\" width=\"32.256\" height=\"12.8\" style=\"stroke:blue;stroke-width:1;fill:none\" transform=\"translate(0.0 0.0) rotate(-30 90 80)\"/><circle cx=\"90\" cy=\"80\" r=\"1.5\" stroke=\"red\" fill=\"red\"/><rect x=\"72.83274228776457\" y=\"66.3934374157796\" width=\"34.33451542447085\" height=\"27.21312516844081\" style=\"stroke:red;stroke-width:1;fill:none\"/></g><g><text x=\"150\" y=\"73.60000000000001\" fill=\"black\" font-size=\"16\" font-family=\"Arial\" text-anchor=\"end\" transform=\"translate(-3.1999999999999886 -8.063999999999993) rotate(-30 150 80)\"><tspan x=\"150\" dy=\"12.8\">ABC</tspan></text><rect x=\"117.744\" y=\"73.60000000000001\" width=\"32.256\" height=\"12.8\" style=\"stroke:blue;stroke-width:1;fill:none\" transform=\"translate(-3.1999999999999886 -8.063999999999993) rotate(-30 150 80)\"/><circle cx=\"150\" cy=\"80\" r=\"1.5\" stroke=\"red\" fill=\"red\"/><rect x=\"115.66548457552916\" y=\"66.3934374157796\" width=\"34.33451542447084\" height=\"27.21312516844081\" style=\"stroke:red;stroke-width:1;fill:none\"/></g><g><text x=\"30\" y=\"117.2\" fill=\"black\" font-size=\"16\" font-family=\"Arial\" text-anchor=\"start\" transform=\"translate(6.399999999999999 0.0) rotate(-30 30 130)\"><tspan x=\"30\" dy=\"12.8\">ABC</tspan></text><rect x=\"30\" y=\"117.2\" width=\"32.256\" height=\"12.8\" style=\"stroke:blue;stroke-width:1;fill:none\" transform=\"translate(6.399999999999999 0.0) rotate(-30 30 130)\"/><circle cx=\"30\" cy=\"130\" r=\"1.5\" stroke=\"red\" fill=\"red\"/><rect x=\"30.0\" y=\"102.78687483155919\" width=\"34.33451542447085\" height=\"27.21312516844081\" style=\"stroke:red;stroke-width:1;fill:none\"/></g><g><text x=\"90\" y=\"117.2\" fill=\"black\" font-size=\"16\" font-family=\"Arial\" text-anchor=\"middle\" transform=\"translate(3.200000000000003 -8.063999999999993) rotate(-30 90 130)\"><tspan x=\"90\" dy=\"12.8\">ABC</tspan></text><rect x=\"73.872\" y=\"117.2\" width=\"32.256\" height=\"12.8\" style=\"stroke:blue;stroke-width:1;fill:none\" transform=\"translate(3.200000000000003 -8.063999999999993) rotate(-30 90 130)\"/><circle cx=\"90\" cy=\"130\" r=\"1.5\" stroke=\"red\" fill=\"red\"/><rect x=\"72.83274228776457\" y=\"102.7868748315592\" width=\"34.33451542447085\" height=\"27.213125168440797\" style=\"stroke:red;stroke-width:1;fill:none\"/></g><g><text x=\"150\" y=\"117.2\" fill=\"black\" font-size=\"16\" font-family=\"Arial\" text-anchor=\"end\" transform=\"translate(0.0 -16.127999999999986) rotate(-30 150 130)\"><tspan x=\"150\" dy=\"12.8\">ABC</tspan></text><rect x=\"117.744\" y=\"117.2\" width=\"32.256\" height=\"12.8\" style=\"stroke:blue;stroke-width:1;fill:none\" transform=\"translate(0.0 -16.127999999999986) rotate(-30 150 130)\"/><circle cx=\"150\" cy=\"130\" r=\"1.5\" stroke=\"red\" fill=\"red\"/><rect x=\"115.66548457552915\" y=\"102.7868748315592\" width=\"34.33451542447085\" height=\"27.213125168440797\" style=\"stroke:red;stroke-width:1;fill:none\"/></g></svg>"
      ],
      "text/plain": [
       "<IPython.core.display.SVG object>"
      ]
     },
     "execution_count": 33,
     "metadata": {},
     "output_type": "execute_result"
    }
   ],
   "source": [
    "# \"default\" rotation mode\n",
    "s = ET.tostring(svgtext.text_tosvg('ABC', 30, 30, rotation=30,\n",
    "                       halign='left', valign='top', \n",
    "                       rotation_mode='default', testmode=True),\n",
    "                encoding='unicode')\n",
    "s += ET.tostring(svgtext.text_tosvg('ABC', 90, 30, rotation=30,\n",
    "                       halign='center', valign='top', \n",
    "                       rotation_mode='default', testmode=True),\n",
    "                encoding='unicode')\n",
    "s += ET.tostring(svgtext.text_tosvg('ABC', 150, 30, rotation=30,\n",
    "                       halign='right', valign='top', \n",
    "                       rotation_mode='default', testmode=True),\n",
    "                encoding='unicode')\n",
    "s += ET.tostring(svgtext.text_tosvg('ABC', 30, 80, rotation=30,\n",
    "                       halign='left', valign='center', \n",
    "                       rotation_mode='default', testmode=True),\n",
    "                encoding='unicode')\n",
    "s += ET.tostring(svgtext.text_tosvg('ABC', 90, 80, rotation=30,\n",
    "                       halign='center', valign='center', \n",
    "                       rotation_mode='default', testmode=True),\n",
    "                encoding='unicode')\n",
    "s += ET.tostring(svgtext.text_tosvg('ABC', 150, 80, rotation=30,\n",
    "                       halign='right', valign='center', \n",
    "                       rotation_mode='default', testmode=True),\n",
    "                encoding='unicode')\n",
    "s += ET.tostring(svgtext.text_tosvg('ABC', 30, 130, rotation=30,\n",
    "                       halign='left', valign='bottom', \n",
    "                       rotation_mode='default', testmode=True),\n",
    "                encoding='unicode')\n",
    "s += ET.tostring(svgtext.text_tosvg('ABC', 90, 130, rotation=30,\n",
    "                       halign='center', valign='bottom', \n",
    "                       rotation_mode='default', testmode=True),\n",
    "                encoding='unicode')\n",
    "s += ET.tostring(svgtext.text_tosvg('ABC', 150, 130, rotation=30,\n",
    "                       halign='right', valign='bottom', \n",
    "                       rotation_mode='default', testmode=True),\n",
    "                encoding='unicode')\n",
    "\n",
    "SVG(svghead.format(s))"
   ]
  },
  {
   "cell_type": "code",
   "execution_count": 34,
   "id": "a25ad980",
   "metadata": {},
   "outputs": [
    {
     "data": {
      "image/svg+xml": [
       "<svg xmlns=\"http://www.w3.org/2000/svg\" xml:lang=\"en\" height=\"150pt\" width=\"150pt\">b'<g><text x=\"50\" y=\"43.599999999999994\" fill=\"black\" font-size=\"16\" font-family=\"Arial\" text-anchor=\"start\" transform=\"rotate(-145 50 50)\"><tspan x=\"50\" dy=\"12.8\">A<tspan baseline-shift=\"super\" font-size=\"smaller\">x</tspan> + B₁</tspan></text><rect x=\"50\" y=\"43.599999999999994\" width=\"60.19199999999999\" height=\"12.8\" style=\"stroke:blue;stroke-width:1;fill:none\" transform=\"rotate(-145 50 50)\"/><circle cx=\"50\" cy=\"50\" r=\"1.5\" stroke=\"red\" fill=\"red\"/><rect x=\"-2.9772890424896943\" y=\"10.2327140597083\" width=\"56.648178235136385\" height=\"45.00985902374126\" style=\"stroke:red;stroke-width:1;fill:none\"/></g>'</svg>"
      ],
      "text/plain": [
       "<IPython.core.display.SVG object>"
      ]
     },
     "execution_count": 34,
     "metadata": {},
     "output_type": "execute_result"
    }
   ],
   "source": [
    "svghead = '<svg xmlns=\"http://www.w3.org/2000/svg\" xml:lang=\"en\" height=\"150pt\" width=\"150pt\">{}</svg>'\n",
    "s = svgtext.text_tosvg('$A^x$ + $B_1$', 50, 50, halign='left', rotation=145, testmode=True)\n",
    "SVG(svghead.format(ET.tostring(s)))"
   ]
  },
  {
   "cell_type": "code",
   "execution_count": 35,
   "id": "154b6795",
   "metadata": {},
   "outputs": [
    {
     "data": {
      "image/svg+xml": [
       "<svg xmlns=\"http://www.w3.org/2000/svg\" xml:lang=\"en\" height=\"150pt\" width=\"150pt\">b'<g><text x=\"50\" y=\"41.199999999999996\" fill=\"black\" font-size=\"22\" font-family=\"Arial\" text-anchor=\"start\" transform=\"rotate(45 50 50)\"><tspan x=\"50\" dy=\"17.6\">A<tspan baseline-shift=\"super\" font-size=\"smaller\">xy</tspan> + B₁₁</tspan></text><rect x=\"50\" y=\"41.199999999999996\" width=\"103.884\" height=\"17.6\" style=\"stroke:blue;stroke-width:1;fill:none\" transform=\"rotate(45 50 50)\"/><circle cx=\"50\" cy=\"50\" r=\"1.5\" stroke=\"red\" fill=\"red\"/><rect x=\"43.77746032555839\" y=\"43.77746032555838\" width=\"85.90216020566655\" height=\"85.90216020566656\" style=\"stroke:red;stroke-width:1;fill:none\"/></g>'</svg>"
      ],
      "text/plain": [
       "<IPython.core.display.SVG object>"
      ]
     },
     "execution_count": 35,
     "metadata": {},
     "output_type": "execute_result"
    }
   ],
   "source": [
    "svghead = '<svg xmlns=\"http://www.w3.org/2000/svg\" xml:lang=\"en\" height=\"150pt\" width=\"150pt\">{}</svg>'\n",
    "s = svgtext.text_tosvg('$A^{xy}$ + $B_{11}$', 50, 50, halign='left', size=22, rotation=-45, testmode=True)\n",
    "SVG(svghead.format(ET.tostring(s)))"
   ]
  },
  {
   "cell_type": "code",
   "execution_count": null,
   "id": "7097ea9d",
   "metadata": {},
   "outputs": [],
   "source": []
  },
  {
   "cell_type": "code",
   "execution_count": 36,
   "id": "4994cf13",
   "metadata": {},
   "outputs": [],
   "source": [
    "schemdraw.settextmode('text')"
   ]
  },
  {
   "cell_type": "code",
   "execution_count": 37,
   "id": "60ae408c",
   "metadata": {},
   "outputs": [
    {
     "data": {
      "image/svg+xml": [
       "<svg xmlns=\"http://www.w3.org/2000/svg\" xml:lang=\"en\" height=\"150pt\" width=\"150pt\"><g><text x=\"30\" y=\"29.999999999999996\" fill=\"black\" font-size=\"16\" font-family=\"Arial\" text-anchor=\"start\" transform=\"translate(0.0 16.128) rotate(-30 30 30)\"><tspan x=\"30\" dy=\"12.8\">ABC</tspan></text><rect x=\"30\" y=\"29.999999999999996\" width=\"32.256\" height=\"12.8\" style=\"stroke:blue;stroke-width:1;fill:none\" transform=\"translate(0.0 16.128) rotate(-30 30 30)\"/><circle cx=\"30\" cy=\"30\" r=\"1.5\" stroke=\"red\" fill=\"red\"/><rect x=\"30.0\" y=\"30.0\" width=\"34.33451542447085\" height=\"27.21312516844081\" style=\"stroke:red;stroke-width:1;fill:none\"/></g><g><text x=\"90\" y=\"29.999999999999996\" fill=\"black\" font-size=\"16\" font-family=\"Arial\" text-anchor=\"middle\" transform=\"translate(-3.1999999999999886 8.064) rotate(-30 90 30)\"><tspan x=\"90\" dy=\"12.8\">ABC</tspan></text><rect x=\"73.872\" y=\"29.999999999999996\" width=\"32.256\" height=\"12.8\" style=\"stroke:blue;stroke-width:1;fill:none\" transform=\"translate(-3.1999999999999886 8.064) rotate(-30 90 30)\"/><circle cx=\"90\" cy=\"30\" r=\"1.5\" stroke=\"red\" fill=\"red\"/><rect x=\"72.83274228776457\" y=\"30.0\" width=\"34.334515424470865\" height=\"27.21312516844081\" style=\"stroke:red;stroke-width:1;fill:none\"/></g><g><text x=\"150\" y=\"29.999999999999996\" fill=\"black\" font-size=\"16\" font-family=\"Arial\" text-anchor=\"end\" transform=\"translate(-6.400000000000006 3.552713678800501e-15) rotate(-30 150 30)\"><tspan x=\"150\" dy=\"12.8\">ABC</tspan></text><rect x=\"117.744\" y=\"29.999999999999996\" width=\"32.256\" height=\"12.8\" style=\"stroke:blue;stroke-width:1;fill:none\" transform=\"translate(-6.400000000000006 3.552713678800501e-15) rotate(-30 150 30)\"/><circle cx=\"150\" cy=\"30\" r=\"1.5\" stroke=\"red\" fill=\"red\"/><rect x=\"115.66548457552913\" y=\"30.0\" width=\"34.334515424470865\" height=\"27.21312516844081\" style=\"stroke:red;stroke-width:1;fill:none\"/></g><g><text x=\"30\" y=\"73.60000000000001\" fill=\"black\" font-size=\"16\" font-family=\"Arial\" text-anchor=\"start\" transform=\"translate(3.1999999999999957 8.063999999999993) rotate(-30 30 80)\"><tspan x=\"30\" dy=\"12.8\">ABC</tspan></text><rect x=\"30\" y=\"73.60000000000001\" width=\"32.256\" height=\"12.8\" style=\"stroke:blue;stroke-width:1;fill:none\" transform=\"translate(3.1999999999999957 8.063999999999993) rotate(-30 30 80)\"/><circle cx=\"30\" cy=\"80\" r=\"1.5\" stroke=\"red\" fill=\"red\"/><rect x=\"30.0\" y=\"66.3934374157796\" width=\"34.33451542447085\" height=\"27.213125168440797\" style=\"stroke:red;stroke-width:1;fill:none\"/></g><g><text x=\"90\" y=\"73.60000000000001\" fill=\"black\" font-size=\"16\" font-family=\"Arial\" text-anchor=\"middle\" transform=\"translate(0.0 0.0) rotate(-30 90 80)\"><tspan x=\"90\" dy=\"12.8\">ABC</tspan></text><rect x=\"73.872\" y=\"73.60000000000001\" width=\"32.256\" height=\"12.8\" style=\"stroke:blue;stroke-width:1;fill:none\" transform=\"translate(0.0 0.0) rotate(-30 90 80)\"/><circle cx=\"90\" cy=\"80\" r=\"1.5\" stroke=\"red\" fill=\"red\"/><rect x=\"72.83274228776457\" y=\"66.3934374157796\" width=\"34.33451542447085\" height=\"27.21312516844081\" style=\"stroke:red;stroke-width:1;fill:none\"/></g><g><text x=\"150\" y=\"73.60000000000001\" fill=\"black\" font-size=\"16\" font-family=\"Arial\" text-anchor=\"end\" transform=\"translate(-3.1999999999999886 -8.063999999999993) rotate(-30 150 80)\"><tspan x=\"150\" dy=\"12.8\">ABC</tspan></text><rect x=\"117.744\" y=\"73.60000000000001\" width=\"32.256\" height=\"12.8\" style=\"stroke:blue;stroke-width:1;fill:none\" transform=\"translate(-3.1999999999999886 -8.063999999999993) rotate(-30 150 80)\"/><circle cx=\"150\" cy=\"80\" r=\"1.5\" stroke=\"red\" fill=\"red\"/><rect x=\"115.66548457552916\" y=\"66.3934374157796\" width=\"34.33451542447084\" height=\"27.21312516844081\" style=\"stroke:red;stroke-width:1;fill:none\"/></g><g><text x=\"30\" y=\"117.2\" fill=\"black\" font-size=\"16\" font-family=\"Arial\" text-anchor=\"start\" transform=\"translate(6.399999999999999 0.0) rotate(-30 30 130)\"><tspan x=\"30\" dy=\"12.8\">ABC</tspan></text><rect x=\"30\" y=\"117.2\" width=\"32.256\" height=\"12.8\" style=\"stroke:blue;stroke-width:1;fill:none\" transform=\"translate(6.399999999999999 0.0) rotate(-30 30 130)\"/><circle cx=\"30\" cy=\"130\" r=\"1.5\" stroke=\"red\" fill=\"red\"/><rect x=\"30.0\" y=\"102.78687483155919\" width=\"34.33451542447085\" height=\"27.21312516844081\" style=\"stroke:red;stroke-width:1;fill:none\"/></g><g><text x=\"90\" y=\"117.2\" fill=\"black\" font-size=\"16\" font-family=\"Arial\" text-anchor=\"middle\" transform=\"translate(3.200000000000003 -8.063999999999993) rotate(-30 90 130)\"><tspan x=\"90\" dy=\"12.8\">ABC</tspan></text><rect x=\"73.872\" y=\"117.2\" width=\"32.256\" height=\"12.8\" style=\"stroke:blue;stroke-width:1;fill:none\" transform=\"translate(3.200000000000003 -8.063999999999993) rotate(-30 90 130)\"/><circle cx=\"90\" cy=\"130\" r=\"1.5\" stroke=\"red\" fill=\"red\"/><rect x=\"72.83274228776457\" y=\"102.7868748315592\" width=\"34.33451542447085\" height=\"27.213125168440797\" style=\"stroke:red;stroke-width:1;fill:none\"/></g><g><text x=\"150\" y=\"117.2\" fill=\"black\" font-size=\"16\" font-family=\"Arial\" text-anchor=\"end\" transform=\"translate(0.0 -16.127999999999986) rotate(-30 150 130)\"><tspan x=\"150\" dy=\"12.8\">ABC</tspan></text><rect x=\"117.744\" y=\"117.2\" width=\"32.256\" height=\"12.8\" style=\"stroke:blue;stroke-width:1;fill:none\" transform=\"translate(0.0 -16.127999999999986) rotate(-30 150 130)\"/><circle cx=\"150\" cy=\"130\" r=\"1.5\" stroke=\"red\" fill=\"red\"/><rect x=\"115.66548457552915\" y=\"102.7868748315592\" width=\"34.33451542447085\" height=\"27.213125168440797\" style=\"stroke:red;stroke-width:1;fill:none\"/></g></svg>"
      ],
      "text/plain": [
       "<IPython.core.display.SVG object>"
      ]
     },
     "execution_count": 37,
     "metadata": {},
     "output_type": "execute_result"
    }
   ],
   "source": [
    "# \"default\" rotation mode\n",
    "s = ET.tostring(svgtext.text_tosvg('ABC', 30, 30, rotation=30,\n",
    "                       halign='left', valign='top', \n",
    "                       rotation_mode='default', testmode=True),\n",
    "                encoding='unicode')\n",
    "s += ET.tostring(svgtext.text_tosvg('ABC', 90, 30, rotation=30,\n",
    "                       halign='center', valign='top', \n",
    "                       rotation_mode='default', testmode=True),\n",
    "                encoding='unicode')\n",
    "s += ET.tostring(svgtext.text_tosvg('ABC', 150, 30, rotation=30,\n",
    "                       halign='right', valign='top', \n",
    "                       rotation_mode='default', testmode=True),\n",
    "                encoding='unicode')\n",
    "s += ET.tostring(svgtext.text_tosvg('ABC', 30, 80, rotation=30,\n",
    "                       halign='left', valign='center', \n",
    "                       rotation_mode='default', testmode=True),\n",
    "                encoding='unicode')\n",
    "s += ET.tostring(svgtext.text_tosvg('ABC', 90, 80, rotation=30,\n",
    "                       halign='center', valign='center', \n",
    "                       rotation_mode='default', testmode=True),\n",
    "                encoding='unicode')\n",
    "s += ET.tostring(svgtext.text_tosvg('ABC', 150, 80, rotation=30,\n",
    "                       halign='right', valign='center', \n",
    "                       rotation_mode='default', testmode=True),\n",
    "                encoding='unicode')\n",
    "s += ET.tostring(svgtext.text_tosvg('ABC', 30, 130, rotation=30,\n",
    "                       halign='left', valign='bottom', \n",
    "                       rotation_mode='default', testmode=True),\n",
    "                encoding='unicode')\n",
    "s += ET.tostring(svgtext.text_tosvg('ABC', 90, 130, rotation=30,\n",
    "                       halign='center', valign='bottom', \n",
    "                       rotation_mode='default', testmode=True),\n",
    "                encoding='unicode')\n",
    "s += ET.tostring(svgtext.text_tosvg('ABC', 150, 130, rotation=30,\n",
    "                       halign='right', valign='bottom', \n",
    "                       rotation_mode='default', testmode=True),\n",
    "                encoding='unicode')\n",
    "\n",
    "SVG(svghead.format(s))"
   ]
  },
  {
   "cell_type": "code",
   "execution_count": 38,
   "id": "1872f224",
   "metadata": {},
   "outputs": [
    {
     "data": {
      "image/svg+xml": [
       "<svg xmlns=\"http://www.w3.org/2000/svg\" xml:lang=\"en\" height=\"150pt\" width=\"150pt\"><g><text x=\"30\" y=\"29.999999999999996\" fill=\"black\" font-size=\"16\" font-family=\"Arial\" text-anchor=\"start\" transform=\"rotate(-30 30 30)\"><tspan x=\"30\" dy=\"12.8\">ABC</tspan></text><rect x=\"30\" y=\"29.999999999999996\" width=\"32.256\" height=\"12.8\" style=\"stroke:blue;stroke-width:1;fill:none\" transform=\"rotate(-30 30 30)\"/><circle cx=\"30\" cy=\"30\" r=\"1.5\" stroke=\"red\" fill=\"red\"/><rect x=\"30.0\" y=\"13.872\" width=\"34.33451542447085\" height=\"27.21312516844081\" style=\"stroke:red;stroke-width:1;fill:none\"/></g><g><text x=\"90\" y=\"29.999999999999996\" fill=\"black\" font-size=\"16\" font-family=\"Arial\" text-anchor=\"middle\" transform=\"rotate(-30 90 30)\"><tspan x=\"90\" dy=\"12.8\">ABC</tspan></text><rect x=\"73.872\" y=\"29.999999999999996\" width=\"32.256\" height=\"12.8\" style=\"stroke:blue;stroke-width:1;fill:none\" transform=\"rotate(-30 90 30)\"/><circle cx=\"90\" cy=\"30\" r=\"1.5\" stroke=\"red\" fill=\"red\"/><rect x=\"76.03274228776456\" y=\"21.936\" width=\"34.334515424470865\" height=\"27.21312516844081\" style=\"stroke:red;stroke-width:1;fill:none\"/></g><g><text x=\"150\" y=\"29.999999999999996\" fill=\"black\" font-size=\"16\" font-family=\"Arial\" text-anchor=\"end\" transform=\"rotate(-30 150 30)\"><tspan x=\"150\" dy=\"12.8\">ABC</tspan></text><rect x=\"117.744\" y=\"29.999999999999996\" width=\"32.256\" height=\"12.8\" style=\"stroke:blue;stroke-width:1;fill:none\" transform=\"rotate(-30 150 30)\"/><circle cx=\"150\" cy=\"30\" r=\"1.5\" stroke=\"red\" fill=\"red\"/><rect x=\"122.06548457552914\" y=\"29.999999999999996\" width=\"34.334515424470865\" height=\"27.213125168440815\" style=\"stroke:red;stroke-width:1;fill:none\"/></g><g><text x=\"30\" y=\"73.60000000000001\" fill=\"black\" font-size=\"16\" font-family=\"Arial\" text-anchor=\"start\" transform=\"rotate(-30 30 80)\"><tspan x=\"30\" dy=\"12.8\">ABC</tspan></text><rect x=\"30\" y=\"73.60000000000001\" width=\"32.256\" height=\"12.8\" style=\"stroke:blue;stroke-width:1;fill:none\" transform=\"rotate(-30 30 80)\"/><circle cx=\"30\" cy=\"80\" r=\"1.5\" stroke=\"red\" fill=\"red\"/><rect x=\"26.800000000000004\" y=\"58.3294374157796\" width=\"34.33451542447086\" height=\"27.213125168440804\" style=\"stroke:red;stroke-width:1;fill:none\"/></g><g><text x=\"90\" y=\"73.60000000000001\" fill=\"black\" font-size=\"16\" font-family=\"Arial\" text-anchor=\"middle\" transform=\"rotate(-30 90 80)\"><tspan x=\"90\" dy=\"12.8\">ABC</tspan></text><rect x=\"73.872\" y=\"73.60000000000001\" width=\"32.256\" height=\"12.8\" style=\"stroke:blue;stroke-width:1;fill:none\" transform=\"rotate(-30 90 80)\"/><circle cx=\"90\" cy=\"80\" r=\"1.5\" stroke=\"red\" fill=\"red\"/><rect x=\"72.83274228776457\" y=\"66.3934374157796\" width=\"34.33451542447085\" height=\"27.21312516844081\" style=\"stroke:red;stroke-width:1;fill:none\"/></g><g><text x=\"150\" y=\"73.60000000000001\" fill=\"black\" font-size=\"16\" font-family=\"Arial\" text-anchor=\"end\" transform=\"rotate(-30 150 80)\"><tspan x=\"150\" dy=\"12.8\">ABC</tspan></text><rect x=\"117.744\" y=\"73.60000000000001\" width=\"32.256\" height=\"12.8\" style=\"stroke:blue;stroke-width:1;fill:none\" transform=\"rotate(-30 150 80)\"/><circle cx=\"150\" cy=\"80\" r=\"1.5\" stroke=\"red\" fill=\"red\"/><rect x=\"118.86548457552915\" y=\"74.4574374157796\" width=\"34.33451542447084\" height=\"27.21312516844081\" style=\"stroke:red;stroke-width:1;fill:none\"/></g><g><text x=\"30\" y=\"117.2\" fill=\"black\" font-size=\"16\" font-family=\"Arial\" text-anchor=\"start\" transform=\"rotate(-30 30 130)\"><tspan x=\"30\" dy=\"12.8\">ABC</tspan></text><rect x=\"30\" y=\"117.2\" width=\"32.256\" height=\"12.8\" style=\"stroke:blue;stroke-width:1;fill:none\" transform=\"rotate(-30 30 130)\"/><circle cx=\"30\" cy=\"130\" r=\"1.5\" stroke=\"red\" fill=\"red\"/><rect x=\"23.6\" y=\"102.78687483155919\" width=\"34.33451542447086\" height=\"27.21312516844081\" style=\"stroke:red;stroke-width:1;fill:none\"/></g><g><text x=\"90\" y=\"117.2\" fill=\"black\" font-size=\"16\" font-family=\"Arial\" text-anchor=\"middle\" transform=\"rotate(-30 90 130)\"><tspan x=\"90\" dy=\"12.8\">ABC</tspan></text><rect x=\"73.872\" y=\"117.2\" width=\"32.256\" height=\"12.8\" style=\"stroke:blue;stroke-width:1;fill:none\" transform=\"rotate(-30 90 130)\"/><circle cx=\"90\" cy=\"130\" r=\"1.5\" stroke=\"red\" fill=\"red\"/><rect x=\"69.63274228776457\" y=\"110.8508748315592\" width=\"34.33451542447085\" height=\"27.213125168440797\" style=\"stroke:red;stroke-width:1;fill:none\"/></g><g><text x=\"150\" y=\"117.2\" fill=\"black\" font-size=\"16\" font-family=\"Arial\" text-anchor=\"end\" transform=\"rotate(-30 150 130)\"><tspan x=\"150\" dy=\"12.8\">ABC</tspan></text><rect x=\"117.744\" y=\"117.2\" width=\"32.256\" height=\"12.8\" style=\"stroke:blue;stroke-width:1;fill:none\" transform=\"rotate(-30 150 130)\"/><circle cx=\"150\" cy=\"130\" r=\"1.5\" stroke=\"red\" fill=\"red\"/><rect x=\"115.66548457552915\" y=\"118.91487483155919\" width=\"34.33451542447085\" height=\"27.213125168440797\" style=\"stroke:red;stroke-width:1;fill:none\"/></g></svg>"
      ],
      "text/plain": [
       "<IPython.core.display.SVG object>"
      ]
     },
     "execution_count": 38,
     "metadata": {},
     "output_type": "execute_result"
    }
   ],
   "source": [
    "# \"anchor\" rotation mode\n",
    "s = ET.tostring(svgtext.text_tosvg('ABC', 30, 30, rotation=30,\n",
    "                       halign='left', valign='top', \n",
    "                       testmode=True),\n",
    "                encoding='unicode')\n",
    "s += ET.tostring(svgtext.text_tosvg('ABC', 90, 30, rotation=30,\n",
    "                       halign='center', valign='top', \n",
    "                       testmode=True),\n",
    "                encoding='unicode')\n",
    "s += ET.tostring(svgtext.text_tosvg('ABC', 150, 30, rotation=30,\n",
    "                       halign='right', valign='top', \n",
    "                       testmode=True),\n",
    "                encoding='unicode')\n",
    "s += ET.tostring(svgtext.text_tosvg('ABC', 30, 80, rotation=30,\n",
    "                       halign='left', valign='center', \n",
    "                       testmode=True),\n",
    "                encoding='unicode')\n",
    "s += ET.tostring(svgtext.text_tosvg('ABC', 90, 80, rotation=30,\n",
    "                       halign='center', valign='center', \n",
    "                       testmode=True),\n",
    "                encoding='unicode')\n",
    "s += ET.tostring(svgtext.text_tosvg('ABC', 150, 80, rotation=30,\n",
    "                       halign='right', valign='center', \n",
    "                       testmode=True),\n",
    "                encoding='unicode')\n",
    "s += ET.tostring(svgtext.text_tosvg('ABC', 30, 130, rotation=30,\n",
    "                       halign='left', valign='bottom', \n",
    "                       testmode=True),\n",
    "                encoding='unicode')\n",
    "s += ET.tostring(svgtext.text_tosvg('ABC', 90, 130, rotation=30,\n",
    "                       halign='center', valign='bottom', \n",
    "                       testmode=True),\n",
    "                encoding='unicode')\n",
    "s += ET.tostring(svgtext.text_tosvg('ABC', 150, 130, rotation=30,\n",
    "                       halign='right', valign='bottom', \n",
    "                       testmode=True),\n",
    "                encoding='unicode')\n",
    "\n",
    "SVG(svghead.format(s))"
   ]
  },
  {
   "cell_type": "code",
   "execution_count": 39,
   "id": "bcf0abde",
   "metadata": {},
   "outputs": [
    {
     "data": {
      "image/svg+xml": [
       "<svg xmlns=\"http://www.w3.org/2000/svg\" xml:lang=\"en\" height=\"110.66529999999999pt\" width=\"587.1999999999999pt\" viewBox=\"-2.0 -35.765299999999996 587.1999999999999 110.66529999999999\" style=\"background-color:white;\"><path d=\"M 0.0,-0.0 L 32.4,-0.0 L 35.099999999999994,-8.1 L 40.5,8.1 L 45.89999999999999,-8.1 L 51.3,8.1 L 56.699999999999996,-8.1 L 62.099999999999994,8.1 L 64.8,-0.0 L 97.19999999999999,-0.0\" style=\"stroke:black;fill:none;stroke-width:2;stroke-linecap:round;stroke-linejoin:round;\" /><path d=\"M 97.19999999999999,-0.0 L 129.6,-0.0 L 132.29999999999998,-8.1 L 137.7,8.1 L 143.09999999999997,-8.1 L 148.49999999999997,8.1 L 153.9,-8.1 L 159.29999999999998,8.1 L 162.0,-0.0 L 194.39999999999998,-0.0\" style=\"stroke:black;fill:none;stroke-width:2;stroke-linecap:round;stroke-linejoin:round;\" /><path d=\"M 194.39999999999998,-0.0 L 226.79999999999998,-0.0 L 229.49999999999997,-8.1 L 234.89999999999998,8.1 L 240.29999999999998,-8.1 L 245.7,8.1 L 251.1,-8.1 L 256.49999999999994,8.1 L 259.2,-0.0 L 291.59999999999997,-0.0\" style=\"stroke:black;fill:none;stroke-width:2;stroke-linecap:round;stroke-linejoin:round;\" /><path d=\"M 291.59999999999997,-0.0 L 324.0,-0.0 L 326.7,-8.1 L 332.09999999999997,8.1 L 337.49999999999994,-8.1 L 342.9,8.1 L 348.3,-8.1 L 353.7,8.1 L 356.4,-0.0 L 388.79999999999995,-0.0\" style=\"stroke:black;fill:none;stroke-width:2;stroke-linecap:round;stroke-linejoin:round;\" /><path d=\"M 388.79999999999995,-0.0 L 421.2,-0.0 L 423.9,-8.1 L 429.29999999999995,8.1 L 434.7,-8.1 L 440.1,8.1 L 445.5,-8.1 L 450.9,8.1 L 453.59999999999997,-0.0 L 486.0,-0.0\" style=\"stroke:black;fill:none;stroke-width:2;stroke-linecap:round;stroke-linejoin:round;\" /><path d=\"M 486.0,-0.0 L 518.4,-0.0 L 521.0999999999999,-8.1 L 526.5,8.1 L 531.9,-8.1 L 537.3,8.1 L 542.6999999999999,-8.1 L 548.1,8.1 L 550.8,-0.0 L 583.1999999999999,-0.0\" style=\"stroke:black;fill:none;stroke-width:2;stroke-linecap:round;stroke-linejoin:round;\" /><path d=\"M 0.0,64.8 L 32.4,64.8 L 35.099999999999994,56.699999999999996 L 40.5,72.89999999999999 L 45.89999999999999,56.699999999999996 L 51.3,72.89999999999999 L 56.699999999999996,56.699999999999996 L 62.099999999999994,72.89999999999999 L 64.8,64.8 L 97.19999999999999,64.8\" style=\"stroke:black;fill:none;stroke-width:2;stroke-linecap:round;stroke-linejoin:round;\" /><path d=\"M 97.19999999999999,64.8 L 129.6,64.8 L 132.29999999999998,56.699999999999996 L 137.7,72.89999999999999 L 143.09999999999997,56.699999999999996 L 148.49999999999997,72.89999999999999 L 153.9,56.699999999999996 L 159.29999999999998,72.89999999999999 L 162.0,64.8 L 194.39999999999998,64.8\" style=\"stroke:black;fill:none;stroke-width:2;stroke-linecap:round;stroke-linejoin:round;\" /><path d=\"M 194.39999999999998,64.8 L 226.79999999999998,64.8 L 229.49999999999997,56.699999999999996 L 234.89999999999998,72.89999999999999 L 240.29999999999998,56.699999999999996 L 245.7,72.89999999999999 L 251.1,56.699999999999996 L 256.49999999999994,72.89999999999999 L 259.2,64.8 L 291.59999999999997,64.8\" style=\"stroke:black;fill:none;stroke-width:2;stroke-linecap:round;stroke-linejoin:round;\" /><path d=\"M 291.59999999999997,64.8 L 324.0,64.8 L 326.7,56.699999999999996 L 332.09999999999997,72.89999999999999 L 337.49999999999994,56.699999999999996 L 342.9,72.89999999999999 L 348.3,56.699999999999996 L 353.7,72.89999999999999 L 356.4,64.8 L 388.79999999999995,64.8\" style=\"stroke:black;fill:none;stroke-width:2;stroke-linecap:round;stroke-linejoin:round;\" /><path d=\"M 388.79999999999995,64.8 L 421.2,64.8 L 423.9,56.699999999999996 L 429.29999999999995,72.89999999999999 L 434.7,56.699999999999996 L 440.1,72.89999999999999 L 445.5,56.699999999999996 L 450.9,72.89999999999999 L 453.59999999999997,64.8 L 486.0,64.8\" style=\"stroke:black;fill:none;stroke-width:2;stroke-linecap:round;stroke-linejoin:round;\" /><text x=\"48.599999999999994\" y=\"-22.54\" fill=\"black\" font-size=\"14\" font-family=\"Times\" text-anchor=\"middle\" transform=\"rotate(0 48.599999999999994 -11.339999999999998)\"><tspan x=\"48.599999999999994\" dy=\"11.200000000000001\">R₁₁</tspan></text><text x=\"145.79999999999998\" y=\"-22.54\" fill=\"black\" font-size=\"14\" font-family=\"Times\" text-anchor=\"middle\" transform=\"rotate(0 145.79999999999998 -11.339999999999998)\"><tspan x=\"145.79999999999998\" dy=\"11.200000000000001\">R²²</tspan></text><text x=\"243.0\" y=\"-22.54\" fill=\"black\" font-size=\"14\" font-family=\"Times\" text-anchor=\"middle\" transform=\"rotate(0 243.0 -11.339999999999998)\"><tspan x=\"243.0\" dy=\"11.200000000000001\">θ</tspan></text><text x=\"340.2\" y=\"-22.54\" fill=\"black\" font-size=\"14\" font-family=\"Times\" text-anchor=\"middle\" transform=\"rotate(0 340.2 -11.339999999999998)\"><tspan x=\"340.2\" dy=\"11.200000000000001\"><tspan text-decoration=\"overline\">Q₁</tspan></tspan></text><text x=\"437.4\" y=\"-22.54\" fill=\"black\" font-size=\"14\" font-family=\"Times\" text-anchor=\"middle\" transform=\"rotate(0 437.4 -11.339999999999998)\"><tspan x=\"437.4\" dy=\"11.200000000000001\">R₁</tspan></text><text x=\"534.6\" y=\"-22.54\" fill=\"black\" font-size=\"14\" font-family=\"Times\" text-anchor=\"middle\" transform=\"rotate(0 534.6 -11.339999999999998)\"><tspan x=\"534.6\" dy=\"11.200000000000001\">√<tspan text-decoration=\"overline\">x</tspan></tspan></text><text x=\"48.599999999999994\" y=\"42.25999999999999\" fill=\"black\" font-size=\"14\" font-family=\"Times\" text-anchor=\"middle\" transform=\"rotate(0 48.599999999999994 53.459999999999994)\"><tspan x=\"48.599999999999994\" dy=\"11.200000000000001\">Ω</tspan></text><text x=\"145.79999999999998\" y=\"42.25999999999999\" fill=\"black\" font-size=\"14\" font-family=\"Times\" text-anchor=\"middle\" transform=\"rotate(0 145.79999999999998 53.459999999999994)\"><tspan x=\"145.79999999999998\" dy=\"11.200000000000001\">∠</tspan></text><text x=\"243.0\" y=\"42.25999999999999\" fill=\"black\" font-size=\"14\" font-family=\"Times\" text-anchor=\"middle\" transform=\"rotate(0 243.0 53.459999999999994)\"><tspan x=\"243.0\" dy=\"11.200000000000001\">10%</tspan></text><text x=\"340.2\" y=\"42.25999999999999\" fill=\"black\" font-size=\"14\" font-family=\"Times\" text-anchor=\"middle\" transform=\"rotate(0 340.2 53.459999999999994)\"><tspan x=\"340.2\" dy=\"11.200000000000001\">R²</tspan></text><text x=\"437.4\" y=\"42.25999999999999\" fill=\"black\" font-size=\"14\" font-family=\"Times\" text-anchor=\"middle\" transform=\"rotate(0 437.4 53.459999999999994)\"><tspan x=\"437.4\" dy=\"11.200000000000001\">R₂</tspan></text></svg>"
      ],
      "text/plain": [
       "<svg xmlns=\"http://www.w3.org/2000/svg\" xml:lang=\"en\" height=\"110.66529999999999pt\" width=\"587.1999999999999pt\" viewBox=\"-2.0 -35.765299999999996 587.1999999999999 110.66529999999999\" style=\"background-color:white;\"><path d=\"M 0.0,-0.0 L 32.4,-0.0 L 35.099999999999994,-8.1 L 40.5,8.1 L 45.89999999999999,-8.1 L 51.3,8.1 L 56.699999999999996,-8.1 L 62.099999999999994,8.1 L 64.8,-0.0 L 97.19999999999999,-0.0\" style=\"stroke:black;fill:none;stroke-width:2;stroke-linecap:round;stroke-linejoin:round;\" /><path d=\"M 97.19999999999999,-0.0 L 129.6,-0.0 L 132.29999999999998,-8.1 L 137.7,8.1 L 143.09999999999997,-8.1 L 148.49999999999997,8.1 L 153.9,-8.1 L 159.29999999999998,8.1 L 162.0,-0.0 L 194.39999999999998,-0.0\" style=\"stroke:black;fill:none;stroke-width:2;stroke-linecap:round;stroke-linejoin:round;\" /><path d=\"M 194.39999999999998,-0.0 L 226.79999999999998,-0.0 L 229.49999999999997,-8.1 L 234.89999999999998,8.1 L 240.29999999999998,-8.1 L 245.7,8.1 L 251.1,-8.1 L 256.49999999999994,8.1 L 259.2,-0.0 L 291.59999999999997,-0.0\" style=\"stroke:black;fill:none;stroke-width:2;stroke-linecap:round;stroke-linejoin:round;\" /><path d=\"M 291.59999999999997,-0.0 L 324.0,-0.0 L 326.7,-8.1 L 332.09999999999997,8.1 L 337.49999999999994,-8.1 L 342.9,8.1 L 348.3,-8.1 L 353.7,8.1 L 356.4,-0.0 L 388.79999999999995,-0.0\" style=\"stroke:black;fill:none;stroke-width:2;stroke-linecap:round;stroke-linejoin:round;\" /><path d=\"M 388.79999999999995,-0.0 L 421.2,-0.0 L 423.9,-8.1 L 429.29999999999995,8.1 L 434.7,-8.1 L 440.1,8.1 L 445.5,-8.1 L 450.9,8.1 L 453.59999999999997,-0.0 L 486.0,-0.0\" style=\"stroke:black;fill:none;stroke-width:2;stroke-linecap:round;stroke-linejoin:round;\" /><path d=\"M 486.0,-0.0 L 518.4,-0.0 L 521.0999999999999,-8.1 L 526.5,8.1 L 531.9,-8.1 L 537.3,8.1 L 542.6999999999999,-8.1 L 548.1,8.1 L 550.8,-0.0 L 583.1999999999999,-0.0\" style=\"stroke:black;fill:none;stroke-width:2;stroke-linecap:round;stroke-linejoin:round;\" /><path d=\"M 0.0,64.8 L 32.4,64.8 L 35.099999999999994,56.699999999999996 L 40.5,72.89999999999999 L 45.89999999999999,56.699999999999996 L 51.3,72.89999999999999 L 56.699999999999996,56.699999999999996 L 62.099999999999994,72.89999999999999 L 64.8,64.8 L 97.19999999999999,64.8\" style=\"stroke:black;fill:none;stroke-width:2;stroke-linecap:round;stroke-linejoin:round;\" /><path d=\"M 97.19999999999999,64.8 L 129.6,64.8 L 132.29999999999998,56.699999999999996 L 137.7,72.89999999999999 L 143.09999999999997,56.699999999999996 L 148.49999999999997,72.89999999999999 L 153.9,56.699999999999996 L 159.29999999999998,72.89999999999999 L 162.0,64.8 L 194.39999999999998,64.8\" style=\"stroke:black;fill:none;stroke-width:2;stroke-linecap:round;stroke-linejoin:round;\" /><path d=\"M 194.39999999999998,64.8 L 226.79999999999998,64.8 L 229.49999999999997,56.699999999999996 L 234.89999999999998,72.89999999999999 L 240.29999999999998,56.699999999999996 L 245.7,72.89999999999999 L 251.1,56.699999999999996 L 256.49999999999994,72.89999999999999 L 259.2,64.8 L 291.59999999999997,64.8\" style=\"stroke:black;fill:none;stroke-width:2;stroke-linecap:round;stroke-linejoin:round;\" /><path d=\"M 291.59999999999997,64.8 L 324.0,64.8 L 326.7,56.699999999999996 L 332.09999999999997,72.89999999999999 L 337.49999999999994,56.699999999999996 L 342.9,72.89999999999999 L 348.3,56.699999999999996 L 353.7,72.89999999999999 L 356.4,64.8 L 388.79999999999995,64.8\" style=\"stroke:black;fill:none;stroke-width:2;stroke-linecap:round;stroke-linejoin:round;\" /><path d=\"M 388.79999999999995,64.8 L 421.2,64.8 L 423.9,56.699999999999996 L 429.29999999999995,72.89999999999999 L 434.7,56.699999999999996 L 440.1,72.89999999999999 L 445.5,56.699999999999996 L 450.9,72.89999999999999 L 453.59999999999997,64.8 L 486.0,64.8\" style=\"stroke:black;fill:none;stroke-width:2;stroke-linecap:round;stroke-linejoin:round;\" /><text x=\"48.599999999999994\" y=\"-22.54\" fill=\"black\" font-size=\"14\" font-family=\"Times\" text-anchor=\"middle\" transform=\"rotate(0 48.599999999999994 -11.339999999999998)\"><tspan x=\"48.599999999999994\" dy=\"11.200000000000001\">R₁₁</tspan></text><text x=\"145.79999999999998\" y=\"-22.54\" fill=\"black\" font-size=\"14\" font-family=\"Times\" text-anchor=\"middle\" transform=\"rotate(0 145.79999999999998 -11.339999999999998)\"><tspan x=\"145.79999999999998\" dy=\"11.200000000000001\">R²²</tspan></text><text x=\"243.0\" y=\"-22.54\" fill=\"black\" font-size=\"14\" font-family=\"Times\" text-anchor=\"middle\" transform=\"rotate(0 243.0 -11.339999999999998)\"><tspan x=\"243.0\" dy=\"11.200000000000001\">θ</tspan></text><text x=\"340.2\" y=\"-22.54\" fill=\"black\" font-size=\"14\" font-family=\"Times\" text-anchor=\"middle\" transform=\"rotate(0 340.2 -11.339999999999998)\"><tspan x=\"340.2\" dy=\"11.200000000000001\"><tspan text-decoration=\"overline\">Q₁</tspan></tspan></text><text x=\"437.4\" y=\"-22.54\" fill=\"black\" font-size=\"14\" font-family=\"Times\" text-anchor=\"middle\" transform=\"rotate(0 437.4 -11.339999999999998)\"><tspan x=\"437.4\" dy=\"11.200000000000001\">R₁</tspan></text><text x=\"534.6\" y=\"-22.54\" fill=\"black\" font-size=\"14\" font-family=\"Times\" text-anchor=\"middle\" transform=\"rotate(0 534.6 -11.339999999999998)\"><tspan x=\"534.6\" dy=\"11.200000000000001\">√<tspan text-decoration=\"overline\">x</tspan></tspan></text><text x=\"48.599999999999994\" y=\"42.25999999999999\" fill=\"black\" font-size=\"14\" font-family=\"Times\" text-anchor=\"middle\" transform=\"rotate(0 48.599999999999994 53.459999999999994)\"><tspan x=\"48.599999999999994\" dy=\"11.200000000000001\">Ω</tspan></text><text x=\"145.79999999999998\" y=\"42.25999999999999\" fill=\"black\" font-size=\"14\" font-family=\"Times\" text-anchor=\"middle\" transform=\"rotate(0 145.79999999999998 53.459999999999994)\"><tspan x=\"145.79999999999998\" dy=\"11.200000000000001\">∠</tspan></text><text x=\"243.0\" y=\"42.25999999999999\" fill=\"black\" font-size=\"14\" font-family=\"Times\" text-anchor=\"middle\" transform=\"rotate(0 243.0 53.459999999999994)\"><tspan x=\"243.0\" dy=\"11.200000000000001\">10%</tspan></text><text x=\"340.2\" y=\"42.25999999999999\" fill=\"black\" font-size=\"14\" font-family=\"Times\" text-anchor=\"middle\" transform=\"rotate(0 340.2 53.459999999999994)\"><tspan x=\"340.2\" dy=\"11.200000000000001\">R²</tspan></text><text x=\"437.4\" y=\"42.25999999999999\" fill=\"black\" font-size=\"14\" font-family=\"Times\" text-anchor=\"middle\" transform=\"rotate(0 437.4 53.459999999999994)\"><tspan x=\"437.4\" dy=\"11.200000000000001\">R₂</tspan></text></svg>"
      ]
     },
     "execution_count": 39,
     "metadata": {},
     "output_type": "execute_result"
    }
   ],
   "source": [
    "# Test some mathtext in svg backend - text mode\n",
    "schemdraw.use('svg')\n",
    "d = schemdraw.Drawing(font='Times')\n",
    "d += elm.Resistor().label('$R_{11}$')\n",
    "d += elm.Resistor().label('$R^{22}$')\n",
    "d += elm.Resistor().label(r'$\\theta$')\n",
    "d += elm.Resistor().label('$\\overline{Q_1}$')\n",
    "d += elm.Resistor().label('$R_1$')\n",
    "d += elm.Resistor().label('$\\sqrt{x}$')\n",
    "d.here = (0, -2)\n",
    "d += elm.Resistor().label('Ω')\n",
    "d += elm.Resistor().label('∠')\n",
    "d += elm.Resistor().label('10%')\n",
    "d += elm.Resistor().label('$R^2$')\n",
    "d += elm.Resistor().label('$R_2$')\n",
    "d.draw()"
   ]
  },
  {
   "cell_type": "code",
   "execution_count": null,
   "id": "e15f4d08-b57f-4e5f-92ad-6f296ace97d2",
   "metadata": {},
   "outputs": [],
   "source": []
  },
  {
   "cell_type": "code",
   "execution_count": 40,
   "id": "0bf9de8a",
   "metadata": {},
   "outputs": [],
   "source": [
    "import copy\n",
    "import pickle"
   ]
  },
  {
   "cell_type": "code",
   "execution_count": 41,
   "id": "8fca1c78",
   "metadata": {},
   "outputs": [
    {
     "data": {
      "image/svg+xml": [
       "<svg xmlns=\"http://www.w3.org/2000/svg\" xml:lang=\"en\" height=\"20.2pt\" width=\"101.19999999999999pt\" viewBox=\"-2.0 -10.1 101.19999999999999 20.2\" style=\"background-color:white;\"><path d=\"M 0.0,-0.0 L 32.4,-0.0 L 35.099999999999994,-8.1 L 40.5,8.1 L 45.89999999999999,-8.1 L 51.3,8.1 L 56.699999999999996,-8.1 L 62.099999999999994,8.1 L 64.8,-0.0 L 97.19999999999999,-0.0\" style=\"stroke:black;fill:none;stroke-width:2;stroke-linecap:round;stroke-linejoin:round;\" /></svg>"
      ],
      "text/plain": [
       "<schemdraw.schemdraw.Drawing at 0x7e98ef46ed00>"
      ]
     },
     "execution_count": 41,
     "metadata": {},
     "output_type": "execute_result"
    }
   ],
   "source": [
    "d = schemdraw.Drawing()\n",
    "d.add(r:=elm.Resistor())\n",
    "copy.deepcopy(d)"
   ]
  },
  {
   "cell_type": "code",
   "execution_count": 42,
   "id": "b6126b83",
   "metadata": {},
   "outputs": [
    {
     "data": {
      "image/svg+xml": [
       "<svg xmlns=\"http://www.w3.org/2000/svg\" xml:lang=\"en\" height=\"20.2pt\" width=\"101.19999999999999pt\" viewBox=\"-2.0 -10.1 101.19999999999999 20.2\" style=\"background-color:white;\"><path d=\"M 0.0,-0.0 L 32.4,-0.0 L 35.099999999999994,-8.1 L 40.5,8.1 L 45.89999999999999,-8.1 L 51.3,8.1 L 56.699999999999996,-8.1 L 62.099999999999994,8.1 L 64.8,-0.0 L 97.19999999999999,-0.0\" style=\"stroke:black;fill:none;stroke-width:2;stroke-linecap:round;stroke-linejoin:round;\" /></svg>"
      ],
      "text/plain": [
       "<schemdraw.schemdraw.Drawing at 0x7e98ef3ac5b0>"
      ]
     },
     "execution_count": 42,
     "metadata": {},
     "output_type": "execute_result"
    }
   ],
   "source": [
    "pickle.loads(pickle.dumps(d))"
   ]
  },
  {
   "cell_type": "code",
   "execution_count": null,
   "id": "84e912a0-c9f1-45df-ad7f-a0e1b704bf8a",
   "metadata": {},
   "outputs": [],
   "source": []
  }
 ],
 "metadata": {
  "kernelspec": {
   "display_name": "Python 3 (ipykernel)",
   "language": "python",
   "name": "python3"
  },
  "language_info": {
   "codemirror_mode": {
    "name": "ipython",
    "version": 3
   },
   "file_extension": ".py",
   "mimetype": "text/x-python",
   "name": "python",
   "nbconvert_exporter": "python",
   "pygments_lexer": "ipython3",
   "version": "3.8.10"
  }
 },
 "nbformat": 4,
 "nbformat_minor": 5
}
