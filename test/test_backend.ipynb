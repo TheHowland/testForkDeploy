{
 "cells": [
  {
   "cell_type": "code",
   "execution_count": 1,
   "id": "acting-price",
   "metadata": {},
   "outputs": [],
   "source": [
    "import schemdraw\n",
    "from schemdraw import elements as elm\n",
    "from schemdraw import logic\n",
    "from schemdraw import transform\n",
    "from schemdraw.util import Point"
   ]
  },
  {
   "cell_type": "code",
   "execution_count": 2,
   "id": "quarterly-sherman",
   "metadata": {},
   "outputs": [
    {
     "data": {
      "text/plain": [
       "Point(1,1)"
      ]
     },
     "execution_count": 2,
     "metadata": {},
     "output_type": "execute_result"
    }
   ],
   "source": [
    "Point((1, 1))"
   ]
  },
  {
   "cell_type": "code",
   "execution_count": 3,
   "id": "informed-improvement",
   "metadata": {},
   "outputs": [
    {
     "data": {
      "text/plain": [
       "Point(3,3)"
      ]
     },
     "execution_count": 3,
     "metadata": {},
     "output_type": "execute_result"
    }
   ],
   "source": [
    "p1 = Point((1, 1))\n",
    "p2 = Point((2, 2))\n",
    "p3 = p1 + p2\n",
    "assert p3 == Point((3, 3))\n",
    "p3"
   ]
  },
  {
   "cell_type": "code",
   "execution_count": 4,
   "id": "twelve-spring",
   "metadata": {},
   "outputs": [
    {
     "data": {
      "text/plain": [
       "Point(1,1)"
      ]
     },
     "execution_count": 4,
     "metadata": {},
     "output_type": "execute_result"
    }
   ],
   "source": [
    "p4 = p2-p1\n",
    "assert p4 == Point((1, 1))\n",
    "assert p2-1 == Point((1, 1))\n",
    "assert 1 - p2 == Point((-1, -1))\n",
    "p4"
   ]
  },
  {
   "cell_type": "code",
   "execution_count": 5,
   "id": "respected-medicine",
   "metadata": {},
   "outputs": [
    {
     "data": {
      "text/plain": [
       "Transform: xy=Point(0,0); theta=0; scale=1"
      ]
     },
     "execution_count": 5,
     "metadata": {},
     "output_type": "execute_result"
    }
   ],
   "source": [
    "t = transform.Transform(0, (0,0))\n",
    "t"
   ]
  },
  {
   "cell_type": "code",
   "execution_count": 6,
   "id": "international-edwards",
   "metadata": {},
   "outputs": [],
   "source": [
    "assert t.transform((1, 1)) == Point((1, 1))"
   ]
  },
  {
   "cell_type": "code",
   "execution_count": 7,
   "id": "entitled-context",
   "metadata": {},
   "outputs": [],
   "source": [
    "t = transform.Transform(0, (1, 1))\n",
    "assert t.transform((1, 1)) == Point((2, 2))"
   ]
  },
  {
   "cell_type": "code",
   "execution_count": null,
   "id": "solved-amount",
   "metadata": {},
   "outputs": [],
   "source": []
  },
  {
   "cell_type": "code",
   "execution_count": null,
   "id": "pending-mexican",
   "metadata": {},
   "outputs": [],
   "source": []
  },
  {
   "cell_type": "code",
   "execution_count": null,
   "id": "double-dancing",
   "metadata": {},
   "outputs": [],
   "source": []
  },
  {
   "cell_type": "code",
   "execution_count": null,
   "id": "southwest-baptist",
   "metadata": {},
   "outputs": [],
   "source": []
  },
  {
   "cell_type": "code",
   "execution_count": null,
   "id": "biblical-millennium",
   "metadata": {},
   "outputs": [],
   "source": []
  },
  {
   "cell_type": "code",
   "execution_count": 8,
   "id": "given-steps",
   "metadata": {},
   "outputs": [
    {
     "data": {
      "image/png": "[encoded data removed]",
      "image/svg+xml": [
       "<?xml version=\"1.0\" encoding=\"utf-8\" standalone=\"no\"?>\n",
       "<!DOCTYPE svg PUBLIC \"-//W3C//DTD SVG 1.1//EN\"\n",
       "  \"http://www.w3.org/Graphics/SVG/1.1/DTD/svg11.dtd\">\n",
       "<!-- Created with matplotlib (https://matplotlib.org/) -->\n",
       "<svg height=\"35.82pt\" version=\"1.1\" viewBox=\"0 0 312.48 35.82\" width=\"312.48pt\" xmlns=\"http://www.w3.org/2000/svg\" xmlns:xlink=\"http://www.w3.org/1999/xlink\">\n",
       " <metadata>\n",
       "  <rdf:RDF xmlns:cc=\"http://creativecommons.org/ns#\" xmlns:dc=\"http://purl.org/dc/elements/1.1/\" xmlns:rdf=\"http://www.w3.org/1999/02/22-rdf-syntax-ns#\">\n",
       "   <cc:Work>\n",
       "    <dc:type rdf:resource=\"http://purl.org/dc/dcmitype/StillImage\"/>\n",
       "    <dc:date>2021-01-17T12:47:53.934548</dc:date>\n",
       "    <dc:format>image/svg+xml</dc:format>\n",
       "    <dc:creator>\n",
       "     <cc:Agent>\n",
       "      <dc:title>Matplotlib v3.3.2, https://matplotlib.org/</dc:title>\n",
       "     </cc:Agent>\n",
       "    </dc:creator>\n",
       "   </cc:Work>\n",
       "  </rdf:RDF>\n",
       " </metadata>\n",
       " <defs>\n",
       "  <style type=\"text/css\">*{stroke-linecap:butt;stroke-linejoin:round;}</style>\n",
       " </defs>\n",
       " <g id=\"figure_1\">\n",
       "  <g id=\"patch_1\">\n",
       "   <path d=\"M 0 35.82 \n",
       "L 312.48 35.82 \n",
       "L 312.48 -0 \n",
       "L 0 -0 \n",
       "z\n",
       "\" style=\"fill:none;\"/>\n",
       "  </g>\n",
       "  <g id=\"axes_1\">\n",
       "   <g id=\"patch_2\">\n",
       "    <path clip-path=\"url(#p31738331bd)\" d=\"M 247.77 10.26 \n",
       "L 259.11 17.91 \n",
       "L 247.77 25.56 \n",
       "z\n",
       "\" style=\"fill:none;stroke:#000000;stroke-linecap:round;stroke-width:2;\"/>\n",
       "   </g>\n",
       "   <g id=\"line2d_1\">\n",
       "    <path clip-path=\"url(#p31738331bd)\" d=\"M 10.44 17.91 \n",
       "L 42.84 17.91 \n",
       "L 45.54 10.26 \n",
       "L 50.94 25.56 \n",
       "L 56.34 10.26 \n",
       "L 61.74 25.56 \n",
       "L 67.14 10.26 \n",
       "L 72.54 25.56 \n",
       "L 75.24 17.91 \n",
       "L 107.64 17.91 \n",
       "\" style=\"fill:none;stroke:#000000;stroke-linecap:round;stroke-width:2;\"/>\n",
       "   </g>\n",
       "   <g id=\"line2d_2\">\n",
       "    <path clip-path=\"url(#p31738331bd)\" d=\"M 107.64 17.91 \n",
       "L 153.324 17.91 \n",
       "M 153.324 10.26 \n",
       "L 153.324 25.56 \n",
       "M 159.156 10.26 \n",
       "L 159.156 25.56 \n",
       "M 159.156 17.91 \n",
       "L 204.84 17.91 \n",
       "\" style=\"fill:none;stroke:#000000;stroke-linecap:round;stroke-width:2;\"/>\n",
       "   </g>\n",
       "   <g id=\"line2d_3\">\n",
       "    <path clip-path=\"url(#p31738331bd)\" d=\"M 204.84 17.91 \n",
       "L 247.77 17.91 \n",
       "M 259.11 10.26 \n",
       "L 259.11 25.56 \n",
       "M 259.11 17.91 \n",
       "L 302.04 17.91 \n",
       "\" style=\"fill:none;stroke:#000000;stroke-linecap:round;stroke-width:2;\"/>\n",
       "   </g>\n",
       "  </g>\n",
       " </g>\n",
       " <defs>\n",
       "  <clipPath id=\"p31738331bd\">\n",
       "   <rect height=\"21.42\" width=\"298.08\" x=\"7.2\" y=\"7.2\"/>\n",
       "  </clipPath>\n",
       " </defs>\n",
       "</svg>\n"
      ],
      "text/plain": [
       "<schemdraw.schemdraw.Drawing at 0x7bad2bc44e50>"
      ]
     },
     "execution_count": 8,
     "metadata": {},
     "output_type": "execute_result"
    }
   ],
   "source": [
    "# add_elements function\n",
    "d = schemdraw.Drawing()\n",
    "d.add_elements(\n",
    "    elm.Resistor(),\n",
    "    elm.Capacitor(),\n",
    "    elm.Diode())\n",
    "d"
   ]
  },
  {
   "cell_type": "code",
   "execution_count": 9,
   "id": "pediatric-original",
   "metadata": {},
   "outputs": [
    {
     "data": {
      "text/plain": [
       "b'<?xml version=\"1.0\" encoding=\"utf-8\" standalone=\"no\"?>\\n<!DOCTYPE svg PUBLIC \"-//W3C//DTD SVG 1.1//EN\"\\n  \"http://www.w3.org/Graphics/SVG/1.1/DTD/svg11.dtd\">\\n<!-- Created with matplotlib (https://matplotlib.org/) -->\\n<svg height=\"35.82pt\" version=\"1.1\" viewBox=\"0 0 312.48 35.82\" width=\"312.48pt\" xmlns=\"http://www.w3.org/2000/svg\" xmlns:xlink=\"http://www.w3.org/1999/xlink\">\\n <metadata>\\n  <rdf:RDF xmlns:cc=\"http://creativecommons.org/ns#\" xmlns:dc=\"http://purl.org/dc/elements/1.1/\" xmlns:rdf=\"http://www.w3.org/1999/02/22-rdf-syntax-ns#\">\\n   <cc:Work>\\n    <dc:type rdf:resource=\"http://purl.org/dc/dcmitype/StillImage\"/>\\n    <dc:date>2021-01-17T12:47:54.094383</dc:date>\\n    <dc:format>image/svg+xml</dc:format>\\n    <dc:creator>\\n     <cc:Agent>\\n      <dc:title>Matplotlib v3.3.2, https://matplotlib.org/</dc:title>\\n     </cc:Agent>\\n    </dc:creator>\\n   </cc:Work>\\n  </rdf:RDF>\\n </metadata>\\n <defs>\\n  <style type=\"text/css\">*{stroke-linecap:butt;stroke-linejoin:round;}</style>\\n </defs>\\n <g id=\"figure_1\">\\n  <g id=\"patch_1\">\\n   <path d=\"M 0 35.82 \\nL 312.48 35.82 \\nL 312.48 -0 \\nL 0 -0 \\nz\\n\" style=\"fill:none;\"/>\\n  </g>\\n  <g id=\"axes_1\">\\n   <g id=\"patch_2\">\\n    <path clip-path=\"url(#pcdb5be5a2d)\" d=\"M 247.77 10.26 \\nL 259.11 17.91 \\nL 247.77 25.56 \\nz\\n\" style=\"fill:none;stroke:#000000;stroke-linecap:round;stroke-width:2;\"/>\\n   </g>\\n   <g id=\"line2d_1\">\\n    <path clip-path=\"url(#pcdb5be5a2d)\" d=\"M 10.44 17.91 \\nL 42.84 17.91 \\nL 45.54 10.26 \\nL 50.94 25.56 \\nL 56.34 10.26 \\nL 61.74 25.56 \\nL 67.14 10.26 \\nL 72.54 25.56 \\nL 75.24 17.91 \\nL 107.64 17.91 \\n\" style=\"fill:none;stroke:#000000;stroke-linecap:round;stroke-width:2;\"/>\\n   </g>\\n   <g id=\"line2d_2\">\\n    <path clip-path=\"url(#pcdb5be5a2d)\" d=\"M 107.64 17.91 \\nL 153.324 17.91 \\nM 153.324 10.26 \\nL 153.324 25.56 \\nM 159.156 10.26 \\nL 159.156 25.56 \\nM 159.156 17.91 \\nL 204.84 17.91 \\n\" style=\"fill:none;stroke:#000000;stroke-linecap:round;stroke-width:2;\"/>\\n   </g>\\n   <g id=\"line2d_3\">\\n    <path clip-path=\"url(#pcdb5be5a2d)\" d=\"M 204.84 17.91 \\nL 247.77 17.91 \\nM 259.11 10.26 \\nL 259.11 25.56 \\nM 259.11 17.91 \\nL 302.04 17.91 \\n\" style=\"fill:none;stroke:#000000;stroke-linecap:round;stroke-width:2;\"/>\\n   </g>\\n  </g>\\n </g>\\n <defs>\\n  <clipPath id=\"pcdb5be5a2d\">\\n   <rect height=\"21.42\" width=\"298.08\" x=\"7.2\" y=\"7.2\"/>\\n  </clipPath>\\n </defs>\\n</svg>\\n'"
      ]
     },
     "execution_count": 9,
     "metadata": {},
     "output_type": "execute_result"
    }
   ],
   "source": [
    "# Matplotlib backend\n",
    "d.get_imagedata('svg')"
   ]
  },
  {
   "cell_type": "code",
   "execution_count": 10,
   "id": "local-cholesterol",
   "metadata": {},
   "outputs": [
    {
     "data": {
      "text/plain": [
       "b'<svg xmlns=\"http://www.w3.org/2000/svg\" xml:lang=\"en\" height=\"20.2pt\" width=\"295.59999999999997pt\" viewBox=\"-2.0 -10.1 295.59999999999997 20.2\"><polygon points=\"237.32999999999998,-8.1 248.67,-0.0 237.32999999999998,8.1 \" style=\"stroke:black;fill:none;stroke-width:2;stroke-linecap:round;stroke-linejoin:round;\"/>\\n<path d=\"M 0.0,-0.0 L 32.4,-0.0 L 35.099999999999994,-8.1 L 40.5,8.1 L 45.89999999999999,-8.1 L 51.3,8.1 L 56.699999999999996,-8.1 L 62.099999999999994,8.1 L 64.8,-0.0 L 97.19999999999999,-0.0\" style=\"stroke:black;fill:none;stroke-width:2;stroke-linecap:round;stroke-linejoin:round;\" />\\n<path d=\"M 97.19999999999999,-0.0 L 142.884,-0.0 M 142.884,-8.1 L 142.884,8.1 M 148.71599999999998,-8.1 L 148.71599999999998,8.1 M 148.71599999999998,-0.0 L 194.39999999999998,-0.0\" style=\"stroke:black;fill:none;stroke-width:2;stroke-linecap:round;stroke-linejoin:round;\" />\\n<path d=\"M 194.39999999999998,-0.0 L 237.32999999999998,-0.0 M 248.67,-8.1 L 248.67,8.1 M 248.67,-0.0 L 291.59999999999997,-0.0\" style=\"stroke:black;fill:none;stroke-width:2;stroke-linecap:round;stroke-linejoin:round;\" /></svg>'"
      ]
     },
     "execution_count": 10,
     "metadata": {},
     "output_type": "execute_result"
    }
   ],
   "source": [
    "# SVG backend\n",
    "schemdraw.use('svg')\n",
    "d.get_imagedata('svg')"
   ]
  },
  {
   "cell_type": "code",
   "execution_count": 11,
   "id": "fantastic-melbourne",
   "metadata": {},
   "outputs": [
    {
     "data": {
      "image/png": "[encoded data removed]",
      "image/svg+xml": [
       "<?xml version=\"1.0\" encoding=\"utf-8\" standalone=\"no\"?>\n",
       "<!DOCTYPE svg PUBLIC \"-//W3C//DTD SVG 1.1//EN\"\n",
       "  \"http://www.w3.org/Graphics/SVG/1.1/DTD/svg11.dtd\">\n",
       "<!-- Created with matplotlib (https://matplotlib.org/) -->\n",
       "<svg height=\"58.6pt\" version=\"1.1\" viewBox=\"0 0 118.08 58.6\" width=\"118.08pt\" xmlns=\"http://www.w3.org/2000/svg\" xmlns:xlink=\"http://www.w3.org/1999/xlink\">\n",
       " <metadata>\n",
       "  <rdf:RDF xmlns:cc=\"http://creativecommons.org/ns#\" xmlns:dc=\"http://purl.org/dc/elements/1.1/\" xmlns:rdf=\"http://www.w3.org/1999/02/22-rdf-syntax-ns#\">\n",
       "   <cc:Work>\n",
       "    <dc:type rdf:resource=\"http://purl.org/dc/dcmitype/StillImage\"/>\n",
       "    <dc:date>2021-01-17T12:47:54.204792</dc:date>\n",
       "    <dc:format>image/svg+xml</dc:format>\n",
       "    <dc:creator>\n",
       "     <cc:Agent>\n",
       "      <dc:title>Matplotlib v3.3.2, https://matplotlib.org/</dc:title>\n",
       "     </cc:Agent>\n",
       "    </dc:creator>\n",
       "   </cc:Work>\n",
       "  </rdf:RDF>\n",
       " </metadata>\n",
       " <defs>\n",
       "  <style type=\"text/css\">*{stroke-linecap:butt;stroke-linejoin:round;}</style>\n",
       " </defs>\n",
       " <g id=\"figure_1\">\n",
       "  <g id=\"patch_1\">\n",
       "   <path d=\"M 0 58.6 \n",
       "L 118.08 58.6 \n",
       "L 118.08 0 \n",
       "L 0 0 \n",
       "z\n",
       "\" style=\"fill:none;\"/>\n",
       "  </g>\n",
       "  <g id=\"axes_1\">\n",
       "   <g id=\"line2d_1\">\n",
       "    <path clip-path=\"url(#p3fab00b662)\" d=\"M 10.44 40.69 \n",
       "L 42.84 40.69 \n",
       "L 45.54 33.04 \n",
       "L 50.94 48.34 \n",
       "L 56.34 33.04 \n",
       "L 61.74 48.34 \n",
       "L 67.14 33.04 \n",
       "L 72.54 48.34 \n",
       "L 75.24 40.69 \n",
       "L 107.64 40.69 \n",
       "\" style=\"fill:none;stroke:#000000;stroke-linecap:round;stroke-width:2;\"/>\n",
       "   </g>\n",
       "   <g id=\"text_1\">\n",
       "    <!-- Hello -->\n",
       "    <g transform=\"translate(31.98375 25.820625)scale(0.2 -0.2)\">\n",
       "     <defs>\n",
       "      <path d=\"M 5.515625 0 \n",
       "L 5.515625 5.171875 \n",
       "L 14.796875 5.171875 \n",
       "L 14.796875 67.671875 \n",
       "L 5.515625 67.671875 \n",
       "L 5.515625 72.90625 \n",
       "L 33.984375 72.90625 \n",
       "L 33.984375 67.671875 \n",
       "L 24.703125 67.671875 \n",
       "L 24.703125 42.484375 \n",
       "L 62.5 42.484375 \n",
       "L 62.5 67.671875 \n",
       "L 53.21875 67.671875 \n",
       "L 53.21875 72.90625 \n",
       "L 81.6875 72.90625 \n",
       "L 81.6875 67.671875 \n",
       "L 72.40625 67.671875 \n",
       "L 72.40625 5.171875 \n",
       "L 81.6875 5.171875 \n",
       "L 81.6875 0 \n",
       "L 53.21875 0 \n",
       "L 53.21875 5.171875 \n",
       "L 62.5 5.171875 \n",
       "L 62.5 36.53125 \n",
       "L 24.703125 36.53125 \n",
       "L 24.703125 5.171875 \n",
       "L 33.984375 5.171875 \n",
       "L 33.984375 0 \n",
       "z\n",
       "\" id=\"DejaVuSerif-72\"/>\n",
       "      <path d=\"M 54.203125 25 \n",
       "L 15.484375 25 \n",
       "L 15.484375 24.609375 \n",
       "Q 15.484375 14.109375 19.4375 8.765625 \n",
       "Q 23.390625 3.421875 31.109375 3.421875 \n",
       "Q 37.015625 3.421875 40.796875 6.515625 \n",
       "Q 44.578125 9.625 46.09375 15.71875 \n",
       "L 53.328125 15.71875 \n",
       "Q 51.171875 7.171875 45.375 2.875 \n",
       "Q 39.59375 -1.421875 30.171875 -1.421875 \n",
       "Q 18.796875 -1.421875 11.890625 6.078125 \n",
       "Q 4.984375 13.578125 4.984375 25.984375 \n",
       "Q 4.984375 38.28125 11.765625 45.796875 \n",
       "Q 18.5625 53.328125 29.59375 53.328125 \n",
       "Q 41.359375 53.328125 47.65625 46.0625 \n",
       "Q 53.953125 38.8125 54.203125 25 \n",
       "z\n",
       "M 43.609375 30.171875 \n",
       "Q 43.3125 39.265625 39.765625 43.875 \n",
       "Q 36.234375 48.484375 29.59375 48.484375 \n",
       "Q 23.390625 48.484375 19.828125 43.84375 \n",
       "Q 16.265625 39.203125 15.484375 30.171875 \n",
       "z\n",
       "\" id=\"DejaVuSerif-101\"/>\n",
       "      <path d=\"M 20.515625 5.171875 \n",
       "L 29 5.171875 \n",
       "L 29 0 \n",
       "L 2.875 0 \n",
       "L 2.875 5.171875 \n",
       "L 11.53125 5.171875 \n",
       "L 11.53125 70.796875 \n",
       "L 2.875 70.796875 \n",
       "L 2.875 75.984375 \n",
       "L 20.515625 75.984375 \n",
       "z\n",
       "\" id=\"DejaVuSerif-108\"/>\n",
       "      <path d=\"M 30.078125 3.421875 \n",
       "Q 37.3125 3.421875 40.984375 9.125 \n",
       "Q 44.671875 14.84375 44.671875 25.984375 \n",
       "Q 44.671875 37.109375 40.984375 42.796875 \n",
       "Q 37.3125 48.484375 30.078125 48.484375 \n",
       "Q 22.859375 48.484375 19.171875 42.796875 \n",
       "Q 15.484375 37.109375 15.484375 25.984375 \n",
       "Q 15.484375 14.84375 19.1875 9.125 \n",
       "Q 22.90625 3.421875 30.078125 3.421875 \n",
       "z\n",
       "M 30.078125 -1.421875 \n",
       "Q 18.75 -1.421875 11.859375 6.078125 \n",
       "Q 4.984375 13.578125 4.984375 25.984375 \n",
       "Q 4.984375 38.375 11.84375 45.84375 \n",
       "Q 18.703125 53.328125 30.078125 53.328125 \n",
       "Q 41.453125 53.328125 48.3125 45.84375 \n",
       "Q 55.171875 38.375 55.171875 25.984375 \n",
       "Q 55.171875 13.578125 48.3125 6.078125 \n",
       "Q 41.453125 -1.421875 30.078125 -1.421875 \n",
       "z\n",
       "\" id=\"DejaVuSerif-111\"/>\n",
       "     </defs>\n",
       "     <use xlink:href=\"#DejaVuSerif-72\"/>\n",
       "     <use x=\"87.207031\" xlink:href=\"#DejaVuSerif-101\"/>\n",
       "     <use x=\"146.386719\" xlink:href=\"#DejaVuSerif-108\"/>\n",
       "     <use x=\"178.369141\" xlink:href=\"#DejaVuSerif-108\"/>\n",
       "     <use x=\"210.351562\" xlink:href=\"#DejaVuSerif-111\"/>\n",
       "    </g>\n",
       "   </g>\n",
       "  </g>\n",
       " </g>\n",
       " <defs>\n",
       "  <clipPath id=\"p3fab00b662\">\n",
       "   <rect height=\"44.2\" width=\"103.68\" x=\"7.2\" y=\"7.2\"/>\n",
       "  </clipPath>\n",
       " </defs>\n",
       "</svg>\n"
      ],
      "text/plain": [
       "<schemdraw.backends.mpl.Figure at 0x7bad00455a00>"
      ]
     },
     "execution_count": 11,
     "metadata": {},
     "output_type": "execute_result"
    }
   ],
   "source": [
    "d = schemdraw.Drawing(font='serif', fontsize=20)\n",
    "d += elm.Resistor().label('Hello')\n",
    "d.draw(backend='matplotlib')"
   ]
  },
  {
   "cell_type": "code",
   "execution_count": 12,
   "id": "adapted-billion",
   "metadata": {},
   "outputs": [
    {
     "data": {
      "image/svg+xml": [
       "<svg xmlns=\"http://www.w3.org/2000/svg\" xml:lang=\"en\" height=\"44.32pt\" width=\"101.19999999999999pt\" viewBox=\"-2.0 -34.22 101.19999999999999 44.32\"><path d=\"M 0.0,-0.0 L 32.4,-0.0 L 35.099999999999994,-8.1 L 40.5,8.1 L 45.89999999999999,-8.1 L 51.3,8.1 L 56.699999999999996,-8.1 L 62.099999999999994,8.1 L 64.8,-0.0 L 97.19999999999999,-0.0\" style=\"stroke:black;fill:none;stroke-width:2;stroke-linecap:round;stroke-linejoin:round;\" />\n",
       "<text x=\"48.599999999999994\" y=\"-27.339999999999996\" fill=\"black\" font-size=\"20\"\n",
       "font-family=\"serif\" text-anchor=\"middle\"  transform=\" rotate(0 48.599999999999994 -11.339999999999998)\"><tspan x=\"48.599999999999994\" dy=\"16.0\">Hello</tspan></text></svg>"
      ],
      "text/plain": [
       "<svg xmlns=\"http://www.w3.org/2000/svg\" xml:lang=\"en\" height=\"44.32pt\" width=\"101.19999999999999pt\" viewBox=\"-2.0 -34.22 101.19999999999999 44.32\"><path d=\"M 0.0,-0.0 L 32.4,-0.0 L 35.099999999999994,-8.1 L 40.5,8.1 L 45.89999999999999,-8.1 L 51.3,8.1 L 56.699999999999996,-8.1 L 62.099999999999994,8.1 L 64.8,-0.0 L 97.19999999999999,-0.0\" style=\"stroke:black;fill:none;stroke-width:2;stroke-linecap:round;stroke-linejoin:round;\" />\n",
       "<text x=\"48.599999999999994\" y=\"-27.339999999999996\" fill=\"black\" font-size=\"20\"\n",
       "font-family=\"serif\" text-anchor=\"middle\"  transform=\" rotate(0 48.599999999999994 -11.339999999999998)\"><tspan x=\"48.599999999999994\" dy=\"16.0\">Hello</tspan></text></svg>"
      ]
     },
     "execution_count": 12,
     "metadata": {},
     "output_type": "execute_result"
    }
   ],
   "source": [
    "d = schemdraw.Drawing(font='serif', fontsize=20)\n",
    "d += elm.Resistor().label('Hello')\n",
    "d.draw(backend='svg')"
   ]
  },
  {
   "cell_type": "code",
   "execution_count": 13,
   "id": "nearby-composite",
   "metadata": {},
   "outputs": [],
   "source": [
    "d.save('savetest.png')"
   ]
  },
  {
   "cell_type": "code",
   "execution_count": null,
   "id": "circular-tyler",
   "metadata": {},
   "outputs": [],
   "source": []
  },
  {
   "cell_type": "code",
   "execution_count": null,
   "id": "brutal-anderson",
   "metadata": {},
   "outputs": [],
   "source": []
  },
  {
   "cell_type": "code",
   "execution_count": 14,
   "id": "olive-sailing",
   "metadata": {},
   "outputs": [],
   "source": [
    "# Draw on matplotlib axis, or specify existing axis\n",
    "import matplotlib.pyplot as plt"
   ]
  },
  {
   "cell_type": "code",
   "execution_count": 15,
   "id": "cellular-parade",
   "metadata": {},
   "outputs": [
    {
     "data": {
      "image/png": "[encoded data removed]",
      "image/svg+xml": [
       "<?xml version=\"1.0\" encoding=\"utf-8\" standalone=\"no\"?>\n",
       "<!DOCTYPE svg PUBLIC \"-//W3C//DTD SVG 1.1//EN\"\n",
       "  \"http://www.w3.org/Graphics/SVG/1.1/DTD/svg11.dtd\">\n",
       "<!-- Created with matplotlib (https://matplotlib.org/) -->\n",
       "<svg height=\"35.82pt\" version=\"1.1\" viewBox=\"0 0 118.08 35.82\" width=\"118.08pt\" xmlns=\"http://www.w3.org/2000/svg\" xmlns:xlink=\"http://www.w3.org/1999/xlink\">\n",
       " <metadata>\n",
       "  <rdf:RDF xmlns:cc=\"http://creativecommons.org/ns#\" xmlns:dc=\"http://purl.org/dc/elements/1.1/\" xmlns:rdf=\"http://www.w3.org/1999/02/22-rdf-syntax-ns#\">\n",
       "   <cc:Work>\n",
       "    <dc:type rdf:resource=\"http://purl.org/dc/dcmitype/StillImage\"/>\n",
       "    <dc:date>2021-01-17T12:47:54.392842</dc:date>\n",
       "    <dc:format>image/svg+xml</dc:format>\n",
       "    <dc:creator>\n",
       "     <cc:Agent>\n",
       "      <dc:title>Matplotlib v3.3.2, https://matplotlib.org/</dc:title>\n",
       "     </cc:Agent>\n",
       "    </dc:creator>\n",
       "   </cc:Work>\n",
       "  </rdf:RDF>\n",
       " </metadata>\n",
       " <defs>\n",
       "  <style type=\"text/css\">*{stroke-linecap:butt;stroke-linejoin:round;}</style>\n",
       " </defs>\n",
       " <g id=\"figure_1\">\n",
       "  <g id=\"patch_1\">\n",
       "   <path d=\"M 0 35.82 \n",
       "L 118.08 35.82 \n",
       "L 118.08 -0 \n",
       "L 0 -0 \n",
       "z\n",
       "\" style=\"fill:none;\"/>\n",
       "  </g>\n",
       "  <g id=\"axes_1\">\n",
       "   <g id=\"line2d_1\">\n",
       "    <path clip-path=\"url(#p6b695b4926)\" d=\"M 10.44 17.91 \n",
       "L 42.84 17.91 \n",
       "L 45.54 10.26 \n",
       "L 50.94 25.56 \n",
       "L 56.34 10.26 \n",
       "L 61.74 25.56 \n",
       "L 67.14 10.26 \n",
       "L 72.54 25.56 \n",
       "L 75.24 17.91 \n",
       "L 107.64 17.91 \n",
       "\" style=\"fill:none;stroke:#000000;stroke-linecap:round;stroke-width:2;\"/>\n",
       "   </g>\n",
       "   <g id=\"line2d_2\">\n",
       "    <path clip-path=\"url(#p6b695b4926)\" d=\"M 26.64 28.62 \n",
       "L 26.64 7.2 \n",
       "\" style=\"fill:none;stroke:#800080;stroke-dasharray:5.55,2.4;stroke-dashoffset:0;stroke-width:1.5;\"/>\n",
       "   </g>\n",
       "   <g id=\"line2d_3\">\n",
       "    <path clip-path=\"url(#p6b695b4926)\" d=\"M 91.44 28.62 \n",
       "L 91.44 7.2 \n",
       "\" style=\"fill:none;stroke:#ffa500;stroke-linecap:square;stroke-width:3;\"/>\n",
       "   </g>\n",
       "  </g>\n",
       " </g>\n",
       " <defs>\n",
       "  <clipPath id=\"p6b695b4926\">\n",
       "   <rect height=\"21.42\" width=\"103.68\" x=\"7.2\" y=\"7.2\"/>\n",
       "  </clipPath>\n",
       " </defs>\n",
       "</svg>\n"
      ],
      "text/plain": [
       "<schemdraw.backends.mpl.Figure at 0x7bad28372550>"
      ]
     },
     "metadata": {},
     "output_type": "display_data"
    }
   ],
   "source": [
    "schemdraw.use('matplotlib')\n",
    "d = schemdraw.Drawing()\n",
    "d.add(elm.Resistor)\n",
    "schemfig = d.draw()\n",
    "schemfig.ax.axvline(.5, color='purple', ls='--')\n",
    "schemfig.ax.axvline(2.5, color='orange', ls='-', lw=3);\n",
    "display(schemfig)"
   ]
  },
  {
   "cell_type": "code",
   "execution_count": 16,
   "id": "sexual-taylor",
   "metadata": {},
   "outputs": [
    {
     "data": {
      "image/png": "[encoded data removed]",
      "text/plain": [
       "<Figure size 432x288 with 1 Axes>"
      ]
     },
     "execution_count": 16,
     "metadata": {},
     "output_type": "execute_result"
    }
   ],
   "source": [
    "fig, ax = plt.subplots()\n",
    "d = schemdraw.Drawing()\n",
    "d += elm.Inductor()\n",
    "d.draw(ax=ax)\n",
    "ax.axvline(0, ls='--', color='red')\n",
    "fig"
   ]
  },
  {
   "cell_type": "code",
   "execution_count": 17,
   "id": "structural-integration",
   "metadata": {},
   "outputs": [
    {
     "data": {
      "image/png": "[encoded data removed]",
      "image/svg+xml": [
       "<?xml version=\"1.0\" encoding=\"utf-8\" standalone=\"no\"?>\n",
       "<!DOCTYPE svg PUBLIC \"-//W3C//DTD SVG 1.1//EN\"\n",
       "  \"http://www.w3.org/Graphics/SVG/1.1/DTD/svg11.dtd\">\n",
       "<!-- Created with matplotlib (https://matplotlib.org/) -->\n",
       "<svg height=\"35.812139pt\" version=\"1.1\" viewBox=\"0 0 118.08 35.812139\" width=\"118.08pt\" xmlns=\"http://www.w3.org/2000/svg\" xmlns:xlink=\"http://www.w3.org/1999/xlink\">\n",
       " <metadata>\n",
       "  <rdf:RDF xmlns:cc=\"http://creativecommons.org/ns#\" xmlns:dc=\"http://purl.org/dc/elements/1.1/\" xmlns:rdf=\"http://www.w3.org/1999/02/22-rdf-syntax-ns#\">\n",
       "   <cc:Work>\n",
       "    <dc:type rdf:resource=\"http://purl.org/dc/dcmitype/StillImage\"/>\n",
       "    <dc:date>2021-01-17T12:47:54.714261</dc:date>\n",
       "    <dc:format>image/svg+xml</dc:format>\n",
       "    <dc:creator>\n",
       "     <cc:Agent>\n",
       "      <dc:title>Matplotlib v3.3.2, https://matplotlib.org/</dc:title>\n",
       "     </cc:Agent>\n",
       "    </dc:creator>\n",
       "   </cc:Work>\n",
       "  </rdf:RDF>\n",
       " </metadata>\n",
       " <defs>\n",
       "  <style type=\"text/css\">*{stroke-linecap:butt;stroke-linejoin:round;}</style>\n",
       " </defs>\n",
       " <g id=\"figure_1\">\n",
       "  <g id=\"patch_1\">\n",
       "   <path d=\"M 0 35.812139 \n",
       "L 118.08 35.812139 \n",
       "L 118.08 0 \n",
       "L 0 0 \n",
       "z\n",
       "\"/>\n",
       "  </g>\n",
       "  <g id=\"axes_1\">\n",
       "   <g id=\"line2d_1\">\n",
       "    <path clip-path=\"url(#p423fc68d42)\" d=\"M 10.44 17.90607 \n",
       "L 44.784 17.90607 \n",
       "L 45.365878 16.927809 \n",
       "L 45.947755 15.965612 \n",
       "L 46.529633 15.035277 \n",
       "L 47.11151 14.15208 \n",
       "L 47.693388 13.330524 \n",
       "L 48.275265 12.584098 \n",
       "L 48.857143 11.925059 \n",
       "L 49.43902 11.364227 \n",
       "L 50.020898 10.910813 \n",
       "L 50.602776 10.57226 \n",
       "L 51.184653 10.354129 \n",
       "L 51.766531 10.26 \n",
       "L 52.348408 10.291419 \n",
       "L 52.930286 10.447871 \n",
       "L 53.512163 10.726786 \n",
       "L 54.094041 11.123585 \n",
       "L 54.675918 11.631752 \n",
       "L 55.257796 12.242943 \n",
       "L 55.839673 12.947122 \n",
       "L 56.421551 13.732728 \n",
       "L 57.003429 14.586859 \n",
       "L 57.585306 15.495492 \n",
       "L 58.167184 16.443706 \n",
       "L 58.749061 17.415932 \n",
       "L 59.330939 18.396207 \n",
       "L 59.912816 19.368433 \n",
       "L 60.494694 20.316647 \n",
       "L 61.076571 21.22528 \n",
       "L 61.658449 22.079412 \n",
       "L 62.240327 22.865017 \n",
       "L 62.822204 23.569196 \n",
       "L 63.404082 24.180387 \n",
       "L 63.985959 24.688554 \n",
       "L 64.567837 25.085353 \n",
       "L 65.149714 25.364268 \n",
       "L 65.731592 25.52072 \n",
       "L 66.313469 25.552139 \n",
       "L 66.895347 25.45801 \n",
       "L 67.477224 25.239879 \n",
       "L 68.059102 24.901326 \n",
       "L 68.64098 24.447912 \n",
       "L 69.222857 23.88708 \n",
       "L 69.804735 23.228041 \n",
       "L 70.386612 22.481615 \n",
       "L 70.96849 21.660059 \n",
       "L 71.550367 20.776862 \n",
       "L 72.132245 19.846527 \n",
       "L 72.714122 18.88433 \n",
       "L 73.296 17.90607 \n",
       "L 107.64 17.90607 \n",
       "\" style=\"fill:none;stroke:#ffffff;stroke-linecap:round;stroke-width:2;\"/>\n",
       "   </g>\n",
       "   <g id=\"line2d_2\">\n",
       "    <path clip-path=\"url(#p423fc68d42)\" d=\"M 37.008 17.90607 \n",
       "M 81.072 17.90607 \n",
       "\" style=\"fill:none;stroke:#ffffff;stroke-linecap:round;stroke-width:2;\"/>\n",
       "   </g>\n",
       "   <g id=\"patch_2\">\n",
       "    <path clip-path=\"url(#p423fc68d42)\" d=\"M 40.896 21.57807 \n",
       "C 41.92711 21.57807 42.916127 21.191164 43.645231 20.502566 \n",
       "C 44.374336 19.813967 44.784 18.879895 44.784 17.90607 \n",
       "C 44.784 16.932244 44.374336 15.998172 43.645231 15.309573 \n",
       "C 42.916127 14.620975 41.92711 14.23407 40.896 14.23407 \n",
       "C 39.86489 14.23407 38.875873 14.620975 38.146769 15.309573 \n",
       "C 37.417664 15.998172 37.008 16.932244 37.008 17.90607 \n",
       "C 37.008 18.879895 37.417664 19.813967 38.146769 20.502566 \n",
       "C 38.875873 21.191164 39.86489 21.57807 40.896 21.57807 \n",
       "z\n",
       "\" style=\"stroke:#ffffff;stroke-linejoin:miter;stroke-width:2;\"/>\n",
       "   </g>\n",
       "   <g id=\"patch_3\">\n",
       "    <path clip-path=\"url(#p423fc68d42)\" d=\"M 77.184 21.57807 \n",
       "C 78.21511 21.57807 79.204127 21.191164 79.933231 20.502566 \n",
       "C 80.662336 19.813967 81.072 18.879895 81.072 17.90607 \n",
       "C 81.072 16.932244 80.662336 15.998172 79.933231 15.309573 \n",
       "C 79.204127 14.620975 78.21511 14.23407 77.184 14.23407 \n",
       "C 76.15289 14.23407 75.163873 14.620975 74.434769 15.309573 \n",
       "C 73.705664 15.998172 73.296 16.932244 73.296 17.90607 \n",
       "C 73.296 18.879895 73.705664 19.813967 74.434769 20.502566 \n",
       "C 75.163873 21.191164 76.15289 21.57807 77.184 21.57807 \n",
       "z\n",
       "\" style=\"stroke:#ffffff;stroke-linejoin:miter;stroke-width:2;\"/>\n",
       "   </g>\n",
       "  </g>\n",
       " </g>\n",
       " <defs>\n",
       "  <clipPath id=\"p423fc68d42\">\n",
       "   <rect height=\"21.412139\" width=\"103.68\" x=\"7.2\" y=\"7.2\"/>\n",
       "  </clipPath>\n",
       " </defs>\n",
       "</svg>\n"
      ],
      "text/plain": [
       "<schemdraw.backends.mpl.Figure at 0x7bad0038b0d0>"
      ]
     },
     "execution_count": 17,
     "metadata": {},
     "output_type": "execute_result"
    }
   ],
   "source": [
    "schemdraw.theme('dark')\n",
    "d = schemdraw.Drawing()\n",
    "d += elm.FuseUS()\n",
    "d.draw()"
   ]
  },
  {
   "cell_type": "code",
   "execution_count": 18,
   "id": "isolated-kidney",
   "metadata": {},
   "outputs": [],
   "source": [
    "d.save('testMPL.png')"
   ]
  },
  {
   "cell_type": "code",
   "execution_count": null,
   "id": "requested-vegetarian",
   "metadata": {},
   "outputs": [],
   "source": []
  },
  {
   "cell_type": "code",
   "execution_count": null,
   "id": "alert-burning",
   "metadata": {},
   "outputs": [],
   "source": []
  },
  {
   "cell_type": "code",
   "execution_count": 19,
   "id": "engaging-latest",
   "metadata": {},
   "outputs": [
    {
     "data": {
      "image/png": "[encoded data removed]",
      "image/svg+xml": [
       "<?xml version=\"1.0\" encoding=\"utf-8\" standalone=\"no\"?>\n",
       "<!DOCTYPE svg PUBLIC \"-//W3C//DTD SVG 1.1//EN\"\n",
       "  \"http://www.w3.org/Graphics/SVG/1.1/DTD/svg11.dtd\">\n",
       "<!-- Created with matplotlib (https://matplotlib.org/) -->\n",
       "<svg height=\"35.82pt\" version=\"1.1\" viewBox=\"0 0 215.28 35.82\" width=\"215.28pt\" xmlns=\"http://www.w3.org/2000/svg\" xmlns:xlink=\"http://www.w3.org/1999/xlink\">\n",
       " <metadata>\n",
       "  <rdf:RDF xmlns:cc=\"http://creativecommons.org/ns#\" xmlns:dc=\"http://purl.org/dc/elements/1.1/\" xmlns:rdf=\"http://www.w3.org/1999/02/22-rdf-syntax-ns#\">\n",
       "   <cc:Work>\n",
       "    <dc:type rdf:resource=\"http://purl.org/dc/dcmitype/StillImage\"/>\n",
       "    <dc:date>2021-01-17T12:47:54.846615</dc:date>\n",
       "    <dc:format>image/svg+xml</dc:format>\n",
       "    <dc:creator>\n",
       "     <cc:Agent>\n",
       "      <dc:title>Matplotlib v3.3.2, https://matplotlib.org/</dc:title>\n",
       "     </cc:Agent>\n",
       "    </dc:creator>\n",
       "   </cc:Work>\n",
       "  </rdf:RDF>\n",
       " </metadata>\n",
       " <defs>\n",
       "  <style type=\"text/css\">*{stroke-linecap:butt;stroke-linejoin:round;}</style>\n",
       " </defs>\n",
       " <g id=\"figure_1\">\n",
       "  <g id=\"patch_1\">\n",
       "   <path d=\"M 0 35.82 \n",
       "L 215.28 35.82 \n",
       "L 215.28 -0 \n",
       "L 0 -0 \n",
       "z\n",
       "\"/>\n",
       "  </g>\n",
       "  <g id=\"axes_1\">\n",
       "   <g id=\"line2d_1\">\n",
       "    <path clip-path=\"url(#p2d3da6f49f)\" d=\"M 10.44 17.91 \n",
       "L 42.84 17.91 \n",
       "L 45.54 10.26 \n",
       "L 50.94 25.56 \n",
       "L 56.34 10.26 \n",
       "L 61.74 25.56 \n",
       "L 67.14 10.26 \n",
       "L 72.54 25.56 \n",
       "L 75.24 17.91 \n",
       "L 107.64 17.91 \n",
       "\" style=\"fill:none;stroke:#ffffff;stroke-width:2;\"/>\n",
       "   </g>\n",
       "   <g id=\"line2d_2\">\n",
       "    <path clip-path=\"url(#p2d3da6f49f)\" d=\"M 107.64 17.91 \n",
       "L 140.04 17.91 \n",
       "L 142.74 10.26 \n",
       "L 148.14 25.56 \n",
       "L 153.54 10.26 \n",
       "L 158.94 25.56 \n",
       "L 164.34 10.26 \n",
       "L 169.74 25.56 \n",
       "L 172.44 17.91 \n",
       "L 204.84 17.91 \n",
       "\" style=\"fill:none;stroke:#ffffff;stroke-linecap:square;stroke-width:2;\"/>\n",
       "   </g>\n",
       "  </g>\n",
       " </g>\n",
       " <defs>\n",
       "  <clipPath id=\"p2d3da6f49f\">\n",
       "   <rect height=\"21.42\" width=\"200.88\" x=\"7.2\" y=\"7.2\"/>\n",
       "  </clipPath>\n",
       " </defs>\n",
       "</svg>\n"
      ],
      "text/plain": [
       "<schemdraw.backends.mpl.Figure at 0x7bad00cfb340>"
      ]
     },
     "execution_count": 19,
     "metadata": {},
     "output_type": "execute_result"
    }
   ],
   "source": [
    "# Capstyle names are different in SVG vs Matplotlib\n",
    "# projecting == butt\n",
    "d = schemdraw.Drawing()\n",
    "d += elm.Resistor(capstyle='butt')\n",
    "d += elm.Resistor(capstyle='projecting')\n",
    "d.draw()"
   ]
  },
  {
   "cell_type": "code",
   "execution_count": 20,
   "id": "caring-richardson",
   "metadata": {},
   "outputs": [
    {
     "data": {
      "image/svg+xml": [
       "<svg xmlns=\"http://www.w3.org/2000/svg\" xml:lang=\"en\" height=\"20.2pt\" width=\"198.39999999999998pt\" viewBox=\"-2.0 -10.1 198.39999999999998 20.2\" style=\"background-color:black;\"><path d=\"M 0.0,-0.0 L 32.4,-0.0 L 35.099999999999994,-8.1 L 40.5,8.1 L 45.89999999999999,-8.1 L 51.3,8.1 L 56.699999999999996,-8.1 L 62.099999999999994,8.1 L 64.8,-0.0 L 97.19999999999999,-0.0\" style=\"stroke:white;fill:none;stroke-width:2;stroke-linecap:butt;stroke-linejoin:round;\" />\n",
       "<path d=\"M 97.19999999999999,-0.0 L 129.6,-0.0 L 132.29999999999998,-8.1 L 137.7,8.1 L 143.09999999999997,-8.1 L 148.49999999999997,8.1 L 153.9,-8.1 L 159.29999999999998,8.1 L 162.0,-0.0 L 194.39999999999998,-0.0\" style=\"stroke:white;fill:none;stroke-width:2;stroke-linecap:square;stroke-linejoin:round;\" /></svg>"
      ],
      "text/plain": [
       "<svg xmlns=\"http://www.w3.org/2000/svg\" xml:lang=\"en\" height=\"20.2pt\" width=\"198.39999999999998pt\" viewBox=\"-2.0 -10.1 198.39999999999998 20.2\" style=\"background-color:black;\"><path d=\"M 0.0,-0.0 L 32.4,-0.0 L 35.099999999999994,-8.1 L 40.5,8.1 L 45.89999999999999,-8.1 L 51.3,8.1 L 56.699999999999996,-8.1 L 62.099999999999994,8.1 L 64.8,-0.0 L 97.19999999999999,-0.0\" style=\"stroke:white;fill:none;stroke-width:2;stroke-linecap:butt;stroke-linejoin:round;\" />\n",
       "<path d=\"M 97.19999999999999,-0.0 L 129.6,-0.0 L 132.29999999999998,-8.1 L 137.7,8.1 L 143.09999999999997,-8.1 L 148.49999999999997,8.1 L 153.9,-8.1 L 159.29999999999998,8.1 L 162.0,-0.0 L 194.39999999999998,-0.0\" style=\"stroke:white;fill:none;stroke-width:2;stroke-linecap:square;stroke-linejoin:round;\" /></svg>"
      ]
     },
     "execution_count": 20,
     "metadata": {},
     "output_type": "execute_result"
    }
   ],
   "source": [
    "d = schemdraw.Drawing()\n",
    "d += elm.Resistor(capstyle='butt')\n",
    "d += elm.Resistor(capstyle='projecting')\n",
    "d.draw(backend='svg')"
   ]
  },
  {
   "cell_type": "code",
   "execution_count": null,
   "id": "posted-literacy",
   "metadata": {},
   "outputs": [],
   "source": []
  },
  {
   "cell_type": "code",
   "execution_count": 21,
   "id": "dynamic-veteran",
   "metadata": {},
   "outputs": [
    {
     "data": {
      "image/png": "[encoded data removed]",
      "image/svg+xml": [
       "<?xml version=\"1.0\" encoding=\"utf-8\" standalone=\"no\"?>\n",
       "<!DOCTYPE svg PUBLIC \"-//W3C//DTD SVG 1.1//EN\"\n",
       "  \"http://www.w3.org/Graphics/SVG/1.1/DTD/svg11.dtd\">\n",
       "<!-- Created with matplotlib (https://matplotlib.org/) -->\n",
       "<svg height=\"79.834125pt\" version=\"1.1\" viewBox=\"0 0 76.516812 79.834125\" width=\"76.516812pt\" xmlns=\"http://www.w3.org/2000/svg\" xmlns:xlink=\"http://www.w3.org/1999/xlink\">\n",
       " <metadata>\n",
       "  <rdf:RDF xmlns:cc=\"http://creativecommons.org/ns#\" xmlns:dc=\"http://purl.org/dc/elements/1.1/\" xmlns:rdf=\"http://www.w3.org/1999/02/22-rdf-syntax-ns#\">\n",
       "   <cc:Work>\n",
       "    <dc:type rdf:resource=\"http://purl.org/dc/dcmitype/StillImage\"/>\n",
       "    <dc:date>2021-01-17T12:47:54.979438</dc:date>\n",
       "    <dc:format>image/svg+xml</dc:format>\n",
       "    <dc:creator>\n",
       "     <cc:Agent>\n",
       "      <dc:title>Matplotlib v3.3.2, https://matplotlib.org/</dc:title>\n",
       "     </cc:Agent>\n",
       "    </dc:creator>\n",
       "   </cc:Work>\n",
       "  </rdf:RDF>\n",
       " </metadata>\n",
       " <defs>\n",
       "  <style type=\"text/css\">*{stroke-linecap:butt;stroke-linejoin:round;}</style>\n",
       " </defs>\n",
       " <g id=\"figure_1\">\n",
       "  <g id=\"patch_1\">\n",
       "   <path d=\"M 0 79.834125 \n",
       "L 76.516812 79.834125 \n",
       "L 76.516812 0 \n",
       "L 0 0 \n",
       "z\n",
       "\" style=\"fill:#ffffff;\"/>\n",
       "  </g>\n",
       "  <g id=\"axes_1\">\n",
       "   <g id=\"patch_2\">\n",
       "    <path d=\"M 38.482813 55.956 \n",
       "L 69.316812 55.956 \n",
       "L 69.316812 7.2 \n",
       "L 38.482813 7.2 \n",
       "z\n",
       "\" style=\"fill:#ffffff;\"/>\n",
       "   </g>\n",
       "   <g id=\"matplotlib.axis_1\">\n",
       "    <g id=\"xtick_1\">\n",
       "     <g id=\"line2d_1\">\n",
       "      <defs>\n",
       "       <path d=\"M 0 0 \n",
       "L 0 3.5 \n",
       "\" id=\"m9f251d7189\" style=\"stroke:#000000;stroke-width:0.8;\"/>\n",
       "      </defs>\n",
       "      <g>\n",
       "       <use style=\"stroke:#000000;stroke-width:0.8;\" x=\"41.722813\" xlink:href=\"#m9f251d7189\" y=\"55.956\"/>\n",
       "      </g>\n",
       "     </g>\n",
       "     <g id=\"text_1\">\n",
       "      <!-- 0.0 -->\n",
       "      <g transform=\"translate(33.77125 70.554437)scale(0.1 -0.1)\">\n",
       "       <defs>\n",
       "        <path d=\"M 31.78125 66.40625 \n",
       "Q 24.171875 66.40625 20.328125 58.90625 \n",
       "Q 16.5 51.421875 16.5 36.375 \n",
       "Q 16.5 21.390625 20.328125 13.890625 \n",
       "Q 24.171875 6.390625 31.78125 6.390625 \n",
       "Q 39.453125 6.390625 43.28125 13.890625 \n",
       "Q 47.125 21.390625 47.125 36.375 \n",
       "Q 47.125 51.421875 43.28125 58.90625 \n",
       "Q 39.453125 66.40625 31.78125 66.40625 \n",
       "z\n",
       "M 31.78125 74.21875 \n",
       "Q 44.046875 74.21875 50.515625 64.515625 \n",
       "Q 56.984375 54.828125 56.984375 36.375 \n",
       "Q 56.984375 17.96875 50.515625 8.265625 \n",
       "Q 44.046875 -1.421875 31.78125 -1.421875 \n",
       "Q 19.53125 -1.421875 13.0625 8.265625 \n",
       "Q 6.59375 17.96875 6.59375 36.375 \n",
       "Q 6.59375 54.828125 13.0625 64.515625 \n",
       "Q 19.53125 74.21875 31.78125 74.21875 \n",
       "z\n",
       "\" id=\"DejaVuSans-48\"/>\n",
       "        <path d=\"M 10.6875 12.40625 \n",
       "L 21 12.40625 \n",
       "L 21 0 \n",
       "L 10.6875 0 \n",
       "z\n",
       "\" id=\"DejaVuSans-46\"/>\n",
       "       </defs>\n",
       "       <use xlink:href=\"#DejaVuSans-48\"/>\n",
       "       <use x=\"63.623047\" xlink:href=\"#DejaVuSans-46\"/>\n",
       "       <use x=\"95.410156\" xlink:href=\"#DejaVuSans-48\"/>\n",
       "      </g>\n",
       "     </g>\n",
       "    </g>\n",
       "    <g id=\"xtick_2\">\n",
       "     <g id=\"line2d_2\">\n",
       "      <g>\n",
       "       <use style=\"stroke:#000000;stroke-width:0.8;\" x=\"57.922813\" xlink:href=\"#m9f251d7189\" y=\"55.956\"/>\n",
       "      </g>\n",
       "     </g>\n",
       "     <g id=\"text_2\">\n",
       "      <!-- 0.5 -->\n",
       "      <g transform=\"translate(49.97125 70.554437)scale(0.1 -0.1)\">\n",
       "       <defs>\n",
       "        <path d=\"M 10.796875 72.90625 \n",
       "L 49.515625 72.90625 \n",
       "L 49.515625 64.59375 \n",
       "L 19.828125 64.59375 \n",
       "L 19.828125 46.734375 \n",
       "Q 21.96875 47.46875 24.109375 47.828125 \n",
       "Q 26.265625 48.1875 28.421875 48.1875 \n",
       "Q 40.625 48.1875 47.75 41.5 \n",
       "Q 54.890625 34.8125 54.890625 23.390625 \n",
       "Q 54.890625 11.625 47.5625 5.09375 \n",
       "Q 40.234375 -1.421875 26.90625 -1.421875 \n",
       "Q 22.3125 -1.421875 17.546875 -0.640625 \n",
       "Q 12.796875 0.140625 7.71875 1.703125 \n",
       "L 7.71875 11.625 \n",
       "Q 12.109375 9.234375 16.796875 8.0625 \n",
       "Q 21.484375 6.890625 26.703125 6.890625 \n",
       "Q 35.15625 6.890625 40.078125 11.328125 \n",
       "Q 45.015625 15.765625 45.015625 23.390625 \n",
       "Q 45.015625 31 40.078125 35.4375 \n",
       "Q 35.15625 39.890625 26.703125 39.890625 \n",
       "Q 22.75 39.890625 18.8125 39.015625 \n",
       "Q 14.890625 38.140625 10.796875 36.28125 \n",
       "z\n",
       "\" id=\"DejaVuSans-53\"/>\n",
       "       </defs>\n",
       "       <use xlink:href=\"#DejaVuSans-48\"/>\n",
       "       <use x=\"63.623047\" xlink:href=\"#DejaVuSans-46\"/>\n",
       "       <use x=\"95.410156\" xlink:href=\"#DejaVuSans-53\"/>\n",
       "      </g>\n",
       "     </g>\n",
       "    </g>\n",
       "   </g>\n",
       "   <g id=\"matplotlib.axis_2\">\n",
       "    <g id=\"ytick_1\">\n",
       "     <g id=\"line2d_3\">\n",
       "      <defs>\n",
       "       <path d=\"M 0 0 \n",
       "L -3.5 0 \n",
       "\" id=\"m42c9f50d1c\" style=\"stroke:#000000;stroke-width:0.8;\"/>\n",
       "      </defs>\n",
       "      <g>\n",
       "       <use style=\"stroke:#000000;stroke-width:0.8;\" x=\"38.482813\" xlink:href=\"#m42c9f50d1c\" y=\"46.878\"/>\n",
       "      </g>\n",
       "     </g>\n",
       "     <g id=\"text_3\">\n",
       "      <!-- −0.5 -->\n",
       "      <g transform=\"translate(7.2 50.677219)scale(0.1 -0.1)\">\n",
       "       <defs>\n",
       "        <path d=\"M 10.59375 35.5 \n",
       "L 73.1875 35.5 \n",
       "L 73.1875 27.203125 \n",
       "L 10.59375 27.203125 \n",
       "z\n",
       "\" id=\"DejaVuSans-8722\"/>\n",
       "       </defs>\n",
       "       <use xlink:href=\"#DejaVuSans-8722\"/>\n",
       "       <use x=\"83.789062\" xlink:href=\"#DejaVuSans-48\"/>\n",
       "       <use x=\"147.412109\" xlink:href=\"#DejaVuSans-46\"/>\n",
       "       <use x=\"179.199219\" xlink:href=\"#DejaVuSans-53\"/>\n",
       "      </g>\n",
       "     </g>\n",
       "    </g>\n",
       "    <g id=\"ytick_2\">\n",
       "     <g id=\"line2d_4\">\n",
       "      <g>\n",
       "       <use style=\"stroke:#000000;stroke-width:0.8;\" x=\"38.482813\" xlink:href=\"#m42c9f50d1c\" y=\"31.578\"/>\n",
       "      </g>\n",
       "     </g>\n",
       "     <g id=\"text_4\">\n",
       "      <!-- 0.0 -->\n",
       "      <g transform=\"translate(15.579688 35.377219)scale(0.1 -0.1)\">\n",
       "       <use xlink:href=\"#DejaVuSans-48\"/>\n",
       "       <use x=\"63.623047\" xlink:href=\"#DejaVuSans-46\"/>\n",
       "       <use x=\"95.410156\" xlink:href=\"#DejaVuSans-48\"/>\n",
       "      </g>\n",
       "     </g>\n",
       "    </g>\n",
       "    <g id=\"ytick_3\">\n",
       "     <g id=\"line2d_5\">\n",
       "      <g>\n",
       "       <use style=\"stroke:#000000;stroke-width:0.8;\" x=\"38.482813\" xlink:href=\"#m42c9f50d1c\" y=\"16.278\"/>\n",
       "      </g>\n",
       "     </g>\n",
       "     <g id=\"text_5\">\n",
       "      <!-- 0.5 -->\n",
       "      <g transform=\"translate(15.579688 20.077219)scale(0.1 -0.1)\">\n",
       "       <use xlink:href=\"#DejaVuSans-48\"/>\n",
       "       <use x=\"63.623047\" xlink:href=\"#DejaVuSans-46\"/>\n",
       "       <use x=\"95.410156\" xlink:href=\"#DejaVuSans-53\"/>\n",
       "      </g>\n",
       "     </g>\n",
       "    </g>\n",
       "   </g>\n",
       "   <g id=\"line2d_6\">\n",
       "    <path clip-path=\"url(#pedd422f23d)\" d=\"M 41.722813 31.578 \n",
       "L 53.602812 31.578 \n",
       "\" style=\"fill:none;stroke:#000000;stroke-linecap:round;stroke-width:2;\"/>\n",
       "   </g>\n",
       "   <g id=\"line2d_7\">\n",
       "    <path clip-path=\"url(#pedd422f23d)\" d=\"M 53.602812 20.358 \n",
       "L 53.602812 42.798 \n",
       "\" style=\"fill:none;stroke:#000000;stroke-linecap:round;stroke-width:2;\"/>\n",
       "   </g>\n",
       "   <g id=\"line2d_8\">\n",
       "    <path clip-path=\"url(#pedd422f23d)\" d=\"M 53.602812 25.968 \n",
       "L 66.076813 15.87 \n",
       "L 66.076813 10.26 \n",
       "\" style=\"fill:none;stroke:#000000;stroke-linecap:round;stroke-width:2;\"/>\n",
       "   </g>\n",
       "   <g id=\"line2d_9\">\n",
       "    <path clip-path=\"url(#pedd422f23d)\" d=\"M 53.602812 37.188 \n",
       "L 66.076813 47.286 \n",
       "L 66.076813 52.896 \n",
       "\" style=\"fill:none;stroke:#000000;stroke-linecap:round;stroke-width:2;\"/>\n",
       "   </g>\n",
       "   <g id=\"patch_3\">\n",
       "    <path d=\"M 38.482813 55.956 \n",
       "L 38.482813 7.2 \n",
       "\" style=\"fill:none;stroke:#000000;stroke-linecap:square;stroke-linejoin:miter;stroke-width:0.8;\"/>\n",
       "   </g>\n",
       "   <g id=\"patch_4\">\n",
       "    <path d=\"M 69.316812 55.956 \n",
       "L 69.316812 7.2 \n",
       "\" style=\"fill:none;stroke:#000000;stroke-linecap:square;stroke-linejoin:miter;stroke-width:0.8;\"/>\n",
       "   </g>\n",
       "   <g id=\"patch_5\">\n",
       "    <path d=\"M 38.482813 55.956 \n",
       "L 69.316812 55.956 \n",
       "\" style=\"fill:none;stroke:#000000;stroke-linecap:square;stroke-linejoin:miter;stroke-width:0.8;\"/>\n",
       "   </g>\n",
       "   <g id=\"patch_6\">\n",
       "    <path d=\"M 38.482813 7.2 \n",
       "L 69.316812 7.2 \n",
       "\" style=\"fill:none;stroke:#000000;stroke-linecap:square;stroke-linejoin:miter;stroke-width:0.8;\"/>\n",
       "   </g>\n",
       "  </g>\n",
       " </g>\n",
       " <defs>\n",
       "  <clipPath id=\"pedd422f23d\">\n",
       "   <rect height=\"48.756\" width=\"30.834\" x=\"38.482813\" y=\"7.2\"/>\n",
       "  </clipPath>\n",
       " </defs>\n",
       "</svg>\n"
      ],
      "text/plain": [
       "<schemdraw.backends.mpl.Figure at 0x7bad00368970>"
      ]
     },
     "execution_count": 21,
     "metadata": {},
     "output_type": "execute_result"
    }
   ],
   "source": [
    "schemdraw.theme('default')\n",
    "d = schemdraw.Drawing()\n",
    "d += elm.Bjt()\n",
    "d.draw(showframe=True)"
   ]
  },
  {
   "cell_type": "code",
   "execution_count": 22,
   "id": "previous-connectivity",
   "metadata": {},
   "outputs": [
    {
     "data": {
      "image/svg+xml": [
       "<svg xmlns=\"http://www.w3.org/2000/svg\" xml:lang=\"en\" height=\"49.144pt\" width=\"28.353999999999996pt\" viewBox=\"-2.0 -24.572 28.353999999999996 49.144\" style=\"background-color:white;\"><rect x=\"-2.0\" y=\"-24.572\" width=\"24.353999999999996\" height=\"45.144\" style=\"fill:none; stroke-width:1; stroke:black;\" /><path d=\"M 0.0,-0.0 L 11.879999999999999,-0.0\" style=\"stroke:black;fill:none;stroke-width:2;stroke-linecap:round;stroke-linejoin:round;\" />\n",
       "<path d=\"M 11.879999999999999,-11.879999999999999 L 11.879999999999999,11.879999999999999\" style=\"stroke:black;fill:none;stroke-width:2;stroke-linecap:round;stroke-linejoin:round;\" />\n",
       "<path d=\"M 11.879999999999999,-5.9399999999999995 L 24.353999999999996,-16.631999999999998 L 24.353999999999996,-22.572\" style=\"stroke:black;fill:none;stroke-width:2;stroke-linecap:round;stroke-linejoin:round;\" />\n",
       "<path d=\"M 11.879999999999999,5.9399999999999995 L 24.353999999999996,16.631999999999998 L 24.353999999999996,22.572\" style=\"stroke:black;fill:none;stroke-width:2;stroke-linecap:round;stroke-linejoin:round;\" /></svg>"
      ],
      "text/plain": [
       "<svg xmlns=\"http://www.w3.org/2000/svg\" xml:lang=\"en\" height=\"49.144pt\" width=\"28.353999999999996pt\" viewBox=\"-2.0 -24.572 28.353999999999996 49.144\" style=\"background-color:white;\"><rect x=\"-2.0\" y=\"-24.572\" width=\"24.353999999999996\" height=\"45.144\" style=\"fill:none; stroke-width:1; stroke:black;\" /><path d=\"M 0.0,-0.0 L 11.879999999999999,-0.0\" style=\"stroke:black;fill:none;stroke-width:2;stroke-linecap:round;stroke-linejoin:round;\" />\n",
       "<path d=\"M 11.879999999999999,-11.879999999999999 L 11.879999999999999,11.879999999999999\" style=\"stroke:black;fill:none;stroke-width:2;stroke-linecap:round;stroke-linejoin:round;\" />\n",
       "<path d=\"M 11.879999999999999,-5.9399999999999995 L 24.353999999999996,-16.631999999999998 L 24.353999999999996,-22.572\" style=\"stroke:black;fill:none;stroke-width:2;stroke-linecap:round;stroke-linejoin:round;\" />\n",
       "<path d=\"M 11.879999999999999,5.9399999999999995 L 24.353999999999996,16.631999999999998 L 24.353999999999996,22.572\" style=\"stroke:black;fill:none;stroke-width:2;stroke-linecap:round;stroke-linejoin:round;\" /></svg>"
      ]
     },
     "execution_count": 22,
     "metadata": {},
     "output_type": "execute_result"
    }
   ],
   "source": [
    "d = schemdraw.Drawing()\n",
    "d += elm.Bjt()\n",
    "d.draw(backend='svg', showframe=True)"
   ]
  },
  {
   "cell_type": "code",
   "execution_count": 31,
   "id": "floral-married",
   "metadata": {},
   "outputs": [
    {
     "ename": "NameError",
     "evalue": "name 'elmm' is not defined",
     "output_type": "error",
     "traceback": [
      "\u001b[0;31m---------------------------------------------------------------------------\u001b[0m",
      "\u001b[0;31mNameError\u001b[0m                                 Traceback (most recent call last)",
      "\u001b[0;32m<ipython-input-31-d5bafe55e3e4>\u001b[0m in \u001b[0;36m<module>\u001b[0;34m\u001b[0m\n\u001b[1;32m     12\u001b[0m \u001b[0md\u001b[0m \u001b[0;34m+=\u001b[0m \u001b[0melm\u001b[0m\u001b[0;34m.\u001b[0m\u001b[0mResistor\u001b[0m\u001b[0;34m(\u001b[0m\u001b[0;34m)\u001b[0m\u001b[0;34m.\u001b[0m\u001b[0mlabel\u001b[0m\u001b[0;34m(\u001b[0m\u001b[0;34m'∠'\u001b[0m\u001b[0;34m)\u001b[0m\u001b[0;34m\u001b[0m\u001b[0;34m\u001b[0m\u001b[0m\n\u001b[1;32m     13\u001b[0m \u001b[0md\u001b[0m \u001b[0;34m+=\u001b[0m \u001b[0melm\u001b[0m\u001b[0;34m.\u001b[0m\u001b[0mResistor\u001b[0m\u001b[0;34m(\u001b[0m\u001b[0;34m)\u001b[0m\u001b[0;34m.\u001b[0m\u001b[0mlabel\u001b[0m\u001b[0;34m(\u001b[0m\u001b[0;34m'10%'\u001b[0m\u001b[0;34m)\u001b[0m\u001b[0;34m\u001b[0m\u001b[0;34m\u001b[0m\u001b[0m\n\u001b[0;32m---> 14\u001b[0;31m \u001b[0md\u001b[0m \u001b[0;34m+=\u001b[0m \u001b[0melmm\u001b[0m\u001b[0;34m.\u001b[0m\u001b[0mResistor\u001b[0m\u001b[0;34m(\u001b[0m\u001b[0;34m)\u001b[0m\u001b[0;34m.\u001b[0m\u001b[0mlabel\u001b[0m\u001b[0;34m(\u001b[0m\u001b[0;34m'$R^2$'\u001b[0m\u001b[0;34m)\u001b[0m\u001b[0;34m\u001b[0m\u001b[0;34m\u001b[0m\u001b[0m\n\u001b[0m\u001b[1;32m     15\u001b[0m \u001b[0md\u001b[0m \u001b[0;34m+=\u001b[0m \u001b[0melmm\u001b[0m\u001b[0;34m.\u001b[0m\u001b[0mResistor\u001b[0m\u001b[0;34m(\u001b[0m\u001b[0;34m)\u001b[0m\u001b[0;34m.\u001b[0m\u001b[0mlabel\u001b[0m\u001b[0;34m(\u001b[0m\u001b[0;34m'$R_2$'\u001b[0m\u001b[0;34m)\u001b[0m\u001b[0;34m\u001b[0m\u001b[0;34m\u001b[0m\u001b[0m\n\u001b[1;32m     16\u001b[0m \u001b[0md\u001b[0m\u001b[0;34m.\u001b[0m\u001b[0mdraw\u001b[0m\u001b[0;34m(\u001b[0m\u001b[0;34m)\u001b[0m\u001b[0;34m\u001b[0m\u001b[0;34m\u001b[0m\u001b[0m\n",
      "\u001b[0;31mNameError\u001b[0m: name 'elmm' is not defined"
     ]
    }
   ],
   "source": [
    "# Test some mathtext in svg backend\n",
    "schemdraw.use('svg')\n",
    "d = schemdraw.Drawing(font='Times')\n",
    "d += elm.Resistor().label('$R_{11}$')\n",
    "d += elm.Resistor().label('$R^{22}$')\n",
    "d += elm.Resistor().label(r'$\\theta$')\n",
    "d += elm.Resistor().label('$\\overline{Q_1}$')\n",
    "d += elm.Resistor().label('$R_1$')\n",
    "d += elm.Resistor().label('$\\sqrt{x}$')\n",
    "d.here = (0, -2)\n",
    "d += elm.Resistor().label('Ω')\n",
    "d += elm.Resistor().label('∠')\n",
    "d += elm.Resistor().label('10%')\n",
    "d += elm.Resistor().label('$R^2$')\n",
    "d += elm.Resistor().label('$R_2$')\n",
    "d.draw()"
   ]
  },
  {
   "cell_type": "code",
   "execution_count": 30,
   "id": "warming-scanner",
   "metadata": {},
   "outputs": [
    {
     "data": {
      "image/svg+xml": [
       "<svg xmlns=\"http://www.w3.org/2000/svg\" xml:lang=\"en\" height=\"104.8pt\" width=\"587.1999999999999pt\" viewBox=\"-2.0 -29.900000000000002 587.1999999999999 104.8\" style=\"background-color:white;\"><path d=\"M 0.0,-0.0 L 32.4,-0.0 L 35.099999999999994,-8.1 L 40.5,8.1 L 45.89999999999999,-8.1 L 51.3,8.1 L 56.699999999999996,-8.1 L 62.099999999999994,8.1 L 64.8,-0.0 L 97.19999999999999,-0.0\" style=\"stroke:black;fill:none;stroke-width:2;stroke-linecap:round;stroke-linejoin:round;\" />\n",
       "<path d=\"M 97.19999999999999,-0.0 L 129.6,-0.0 L 132.29999999999998,-8.1 L 137.7,8.1 L 143.09999999999997,-8.1 L 148.49999999999997,8.1 L 153.9,-8.1 L 159.29999999999998,8.1 L 162.0,-0.0 L 194.39999999999998,-0.0\" style=\"stroke:black;fill:none;stroke-width:2;stroke-linecap:round;stroke-linejoin:round;\" />\n",
       "<path d=\"M 194.39999999999998,-0.0 L 226.79999999999998,-0.0 L 229.49999999999997,-8.1 L 234.89999999999998,8.1 L 240.29999999999998,-8.1 L 245.7,8.1 L 251.1,-8.1 L 256.49999999999994,8.1 L 259.2,-0.0 L 291.59999999999997,-0.0\" style=\"stroke:black;fill:none;stroke-width:2;stroke-linecap:round;stroke-linejoin:round;\" />\n",
       "<path d=\"M 291.59999999999997,-0.0 L 324.0,-0.0 L 326.7,-8.1 L 332.09999999999997,8.1 L 337.49999999999994,-8.1 L 342.9,8.1 L 348.3,-8.1 L 353.7,8.1 L 356.4,-0.0 L 388.79999999999995,-0.0\" style=\"stroke:black;fill:none;stroke-width:2;stroke-linecap:round;stroke-linejoin:round;\" />\n",
       "<path d=\"M 388.79999999999995,-0.0 L 421.2,-0.0 L 423.9,-8.1 L 429.29999999999995,8.1 L 434.7,-8.1 L 440.1,8.1 L 445.5,-8.1 L 450.9,8.1 L 453.59999999999997,-0.0 L 486.0,-0.0\" style=\"stroke:black;fill:none;stroke-width:2;stroke-linecap:round;stroke-linejoin:round;\" />\n",
       "<path d=\"M 486.0,-0.0 L 518.4,-0.0 L 521.0999999999999,-8.1 L 526.5,8.1 L 531.9,-8.1 L 537.3,8.1 L 542.6999999999999,-8.1 L 548.1,8.1 L 550.8,-0.0 L 583.1999999999999,-0.0\" style=\"stroke:black;fill:none;stroke-width:2;stroke-linecap:round;stroke-linejoin:round;\" />\n",
       "<path d=\"M 0.0,64.8 L 32.4,64.8 L 35.099999999999994,56.699999999999996 L 40.5,72.89999999999999 L 45.89999999999999,56.699999999999996 L 51.3,72.89999999999999 L 56.699999999999996,56.699999999999996 L 62.099999999999994,72.89999999999999 L 64.8,64.8 L 97.19999999999999,64.8\" style=\"stroke:black;fill:none;stroke-width:2;stroke-linecap:round;stroke-linejoin:round;\" />\n",
       "<path d=\"M 97.19999999999999,64.8 L 129.6,64.8 L 132.29999999999998,56.699999999999996 L 137.7,72.89999999999999 L 143.09999999999997,56.699999999999996 L 148.49999999999997,72.89999999999999 L 153.9,56.699999999999996 L 159.29999999999998,72.89999999999999 L 162.0,64.8 L 194.39999999999998,64.8\" style=\"stroke:black;fill:none;stroke-width:2;stroke-linecap:round;stroke-linejoin:round;\" />\n",
       "<path d=\"M 194.39999999999998,64.8 L 226.79999999999998,64.8 L 229.49999999999997,56.699999999999996 L 234.89999999999998,72.89999999999999 L 240.29999999999998,56.699999999999996 L 245.7,72.89999999999999 L 251.1,56.699999999999996 L 256.49999999999994,72.89999999999999 L 259.2,64.8 L 291.59999999999997,64.8\" style=\"stroke:black;fill:none;stroke-width:2;stroke-linecap:round;stroke-linejoin:round;\" />\n",
       "<text x=\"48.599999999999994\" y=\"-22.54\" fill=\"black\" font-size=\"14\"\n",
       "font-family=\"sans\" text-anchor=\"middle\"  transform=\" rotate(0 48.599999999999994 -11.339999999999998)\"><tspan x=\"48.599999999999994\" dy=\"11.200000000000001\">R₁₁</tspan></text>\n",
       "<text x=\"145.79999999999998\" y=\"-22.54\" fill=\"black\" font-size=\"14\"\n",
       "font-family=\"sans\" text-anchor=\"middle\"  transform=\" rotate(0 145.79999999999998 -11.339999999999998)\"><tspan x=\"145.79999999999998\" dy=\"11.200000000000001\">R²²</tspan></text>\n",
       "<text x=\"243.0\" y=\"-22.54\" fill=\"black\" font-size=\"14\"\n",
       "font-family=\"sans\" text-anchor=\"middle\"  transform=\" rotate(0 243.0 -11.339999999999998)\"><tspan x=\"243.0\" dy=\"11.200000000000001\">θ</tspan></text>\n",
       "<text x=\"340.2\" y=\"-22.54\" fill=\"black\" font-size=\"14\"\n",
       "font-family=\"sans\" text-anchor=\"middle\"  transform=\" rotate(0 340.2 -11.339999999999998)\"><tspan x=\"340.2\" dy=\"11.200000000000001\"><tspan text-decoration=\"overline\">Q₁</tspan></tspan></text>\n",
       "<text x=\"437.4\" y=\"-22.54\" fill=\"black\" font-size=\"14\"\n",
       "font-family=\"sans\" text-anchor=\"middle\"  transform=\" rotate(0 437.4 -11.339999999999998)\"><tspan x=\"437.4\" dy=\"11.200000000000001\">R₁</tspan></text>\n",
       "<text x=\"534.6\" y=\"-22.54\" fill=\"black\" font-size=\"14\"\n",
       "font-family=\"sans\" text-anchor=\"middle\"  transform=\" rotate(0 534.6 -11.339999999999998)\"><tspan x=\"534.6\" dy=\"11.200000000000001\">√<tspan text-decoration=\"overline\">x</tspan></tspan></text>\n",
       "<text x=\"48.599999999999994\" y=\"42.25999999999999\" fill=\"black\" font-size=\"14\"\n",
       "font-family=\"sans\" text-anchor=\"middle\"  transform=\" rotate(0 48.599999999999994 53.459999999999994)\"><tspan x=\"48.599999999999994\" dy=\"11.200000000000001\">Ω</tspan></text>\n",
       "<text x=\"145.79999999999998\" y=\"42.25999999999999\" fill=\"black\" font-size=\"14\"\n",
       "font-family=\"sans\" text-anchor=\"middle\"  transform=\" rotate(0 145.79999999999998 53.459999999999994)\"><tspan x=\"145.79999999999998\" dy=\"11.200000000000001\">∠</tspan></text>\n",
       "<text x=\"243.0\" y=\"42.25999999999999\" fill=\"black\" font-size=\"14\"\n",
       "font-family=\"sans\" text-anchor=\"middle\"  transform=\" rotate(0 243.0 53.459999999999994)\"><tspan x=\"243.0\" dy=\"11.200000000000001\">10%</tspan></text></svg>"
      ],
      "text/plain": [
       "<svg xmlns=\"http://www.w3.org/2000/svg\" xml:lang=\"en\" height=\"104.8pt\" width=\"587.1999999999999pt\" viewBox=\"-2.0 -29.900000000000002 587.1999999999999 104.8\" style=\"background-color:white;\"><path d=\"M 0.0,-0.0 L 32.4,-0.0 L 35.099999999999994,-8.1 L 40.5,8.1 L 45.89999999999999,-8.1 L 51.3,8.1 L 56.699999999999996,-8.1 L 62.099999999999994,8.1 L 64.8,-0.0 L 97.19999999999999,-0.0\" style=\"stroke:black;fill:none;stroke-width:2;stroke-linecap:round;stroke-linejoin:round;\" />\n",
       "<path d=\"M 97.19999999999999,-0.0 L 129.6,-0.0 L 132.29999999999998,-8.1 L 137.7,8.1 L 143.09999999999997,-8.1 L 148.49999999999997,8.1 L 153.9,-8.1 L 159.29999999999998,8.1 L 162.0,-0.0 L 194.39999999999998,-0.0\" style=\"stroke:black;fill:none;stroke-width:2;stroke-linecap:round;stroke-linejoin:round;\" />\n",
       "<path d=\"M 194.39999999999998,-0.0 L 226.79999999999998,-0.0 L 229.49999999999997,-8.1 L 234.89999999999998,8.1 L 240.29999999999998,-8.1 L 245.7,8.1 L 251.1,-8.1 L 256.49999999999994,8.1 L 259.2,-0.0 L 291.59999999999997,-0.0\" style=\"stroke:black;fill:none;stroke-width:2;stroke-linecap:round;stroke-linejoin:round;\" />\n",
       "<path d=\"M 291.59999999999997,-0.0 L 324.0,-0.0 L 326.7,-8.1 L 332.09999999999997,8.1 L 337.49999999999994,-8.1 L 342.9,8.1 L 348.3,-8.1 L 353.7,8.1 L 356.4,-0.0 L 388.79999999999995,-0.0\" style=\"stroke:black;fill:none;stroke-width:2;stroke-linecap:round;stroke-linejoin:round;\" />\n",
       "<path d=\"M 388.79999999999995,-0.0 L 421.2,-0.0 L 423.9,-8.1 L 429.29999999999995,8.1 L 434.7,-8.1 L 440.1,8.1 L 445.5,-8.1 L 450.9,8.1 L 453.59999999999997,-0.0 L 486.0,-0.0\" style=\"stroke:black;fill:none;stroke-width:2;stroke-linecap:round;stroke-linejoin:round;\" />\n",
       "<path d=\"M 486.0,-0.0 L 518.4,-0.0 L 521.0999999999999,-8.1 L 526.5,8.1 L 531.9,-8.1 L 537.3,8.1 L 542.6999999999999,-8.1 L 548.1,8.1 L 550.8,-0.0 L 583.1999999999999,-0.0\" style=\"stroke:black;fill:none;stroke-width:2;stroke-linecap:round;stroke-linejoin:round;\" />\n",
       "<path d=\"M 0.0,64.8 L 32.4,64.8 L 35.099999999999994,56.699999999999996 L 40.5,72.89999999999999 L 45.89999999999999,56.699999999999996 L 51.3,72.89999999999999 L 56.699999999999996,56.699999999999996 L 62.099999999999994,72.89999999999999 L 64.8,64.8 L 97.19999999999999,64.8\" style=\"stroke:black;fill:none;stroke-width:2;stroke-linecap:round;stroke-linejoin:round;\" />\n",
       "<path d=\"M 97.19999999999999,64.8 L 129.6,64.8 L 132.29999999999998,56.699999999999996 L 137.7,72.89999999999999 L 143.09999999999997,56.699999999999996 L 148.49999999999997,72.89999999999999 L 153.9,56.699999999999996 L 159.29999999999998,72.89999999999999 L 162.0,64.8 L 194.39999999999998,64.8\" style=\"stroke:black;fill:none;stroke-width:2;stroke-linecap:round;stroke-linejoin:round;\" />\n",
       "<path d=\"M 194.39999999999998,64.8 L 226.79999999999998,64.8 L 229.49999999999997,56.699999999999996 L 234.89999999999998,72.89999999999999 L 240.29999999999998,56.699999999999996 L 245.7,72.89999999999999 L 251.1,56.699999999999996 L 256.49999999999994,72.89999999999999 L 259.2,64.8 L 291.59999999999997,64.8\" style=\"stroke:black;fill:none;stroke-width:2;stroke-linecap:round;stroke-linejoin:round;\" />\n",
       "<text x=\"48.599999999999994\" y=\"-22.54\" fill=\"black\" font-size=\"14\"\n",
       "font-family=\"sans\" text-anchor=\"middle\"  transform=\" rotate(0 48.599999999999994 -11.339999999999998)\"><tspan x=\"48.599999999999994\" dy=\"11.200000000000001\">R₁₁</tspan></text>\n",
       "<text x=\"145.79999999999998\" y=\"-22.54\" fill=\"black\" font-size=\"14\"\n",
       "font-family=\"sans\" text-anchor=\"middle\"  transform=\" rotate(0 145.79999999999998 -11.339999999999998)\"><tspan x=\"145.79999999999998\" dy=\"11.200000000000001\">R²²</tspan></text>\n",
       "<text x=\"243.0\" y=\"-22.54\" fill=\"black\" font-size=\"14\"\n",
       "font-family=\"sans\" text-anchor=\"middle\"  transform=\" rotate(0 243.0 -11.339999999999998)\"><tspan x=\"243.0\" dy=\"11.200000000000001\">θ</tspan></text>\n",
       "<text x=\"340.2\" y=\"-22.54\" fill=\"black\" font-size=\"14\"\n",
       "font-family=\"sans\" text-anchor=\"middle\"  transform=\" rotate(0 340.2 -11.339999999999998)\"><tspan x=\"340.2\" dy=\"11.200000000000001\"><tspan text-decoration=\"overline\">Q₁</tspan></tspan></text>\n",
       "<text x=\"437.4\" y=\"-22.54\" fill=\"black\" font-size=\"14\"\n",
       "font-family=\"sans\" text-anchor=\"middle\"  transform=\" rotate(0 437.4 -11.339999999999998)\"><tspan x=\"437.4\" dy=\"11.200000000000001\">R₁</tspan></text>\n",
       "<text x=\"534.6\" y=\"-22.54\" fill=\"black\" font-size=\"14\"\n",
       "font-family=\"sans\" text-anchor=\"middle\"  transform=\" rotate(0 534.6 -11.339999999999998)\"><tspan x=\"534.6\" dy=\"11.200000000000001\">√<tspan text-decoration=\"overline\">x</tspan></tspan></text>\n",
       "<text x=\"48.599999999999994\" y=\"42.25999999999999\" fill=\"black\" font-size=\"14\"\n",
       "font-family=\"sans\" text-anchor=\"middle\"  transform=\" rotate(0 48.599999999999994 53.459999999999994)\"><tspan x=\"48.599999999999994\" dy=\"11.200000000000001\">Ω</tspan></text>\n",
       "<text x=\"145.79999999999998\" y=\"42.25999999999999\" fill=\"black\" font-size=\"14\"\n",
       "font-family=\"sans\" text-anchor=\"middle\"  transform=\" rotate(0 145.79999999999998 53.459999999999994)\"><tspan x=\"145.79999999999998\" dy=\"11.200000000000001\">∠</tspan></text>\n",
       "<text x=\"243.0\" y=\"42.25999999999999\" fill=\"black\" font-size=\"14\"\n",
       "font-family=\"sans\" text-anchor=\"middle\"  transform=\" rotate(0 243.0 53.459999999999994)\"><tspan x=\"243.0\" dy=\"11.200000000000001\">10%</tspan></text></svg>"
      ]
     },
     "execution_count": 30,
     "metadata": {},
     "output_type": "execute_result"
    }
   ],
   "source": [
    "# Test some mathtext in svg backend\n",
    "schemdraw.use('svg')\n",
    "d = schemdraw.Drawing(font='sans')\n",
    "d += elm.Resistor().label('$R_{11}$')\n",
    "d += elm.Resistor().label('$R^{22}$')\n",
    "d += elm.Resistor().label(r'$\\theta$')\n",
    "d += elm.Resistor().label('$\\overline{Q_1}$')\n",
    "d += elm.Resistor().label('$R_1$')\n",
    "d += elm.Resistor().label('$\\sqrt{x}$')\n",
    "d.here = (0, -2)\n",
    "d += elm.Resistor().label('Ω')\n",
    "d += elm.Resistor().label('∠')\n",
    "d += elm.Resistor().label('10%')\n",
    "d += elm.Resistor().label('$R^2$')\n",
    "d += elm.Resistor().label('$R_2$')\n",
    "d.draw()"
   ]
  },
  {
   "cell_type": "code",
   "execution_count": 24,
   "id": "indoor-programmer",
   "metadata": {},
   "outputs": [
    {
     "data": {
      "image/svg+xml": [
       "<svg xmlns=\"http://www.w3.org/2000/svg\" xml:lang=\"en\" height=\"61.059999999999995pt\" width=\"94.1692pt\" viewBox=\"-5.24 -56.629999999999995 94.1692 61.059999999999995\" style=\"background-color:white;\"><circle cx=\"0.0\" cy=\"-0.0\" r=\"2.4299999999999997\" style=\"stroke:black;fill:black;stroke-width:2;\"/>\n",
       "<text x=\"0.0\" y=\"-16.87\" fill=\"black\" font-size=\"14\"\n",
       "font-family=\"sans-serif\" text-anchor=\"start\"  transform=\" rotate(-45 0.0 -5.669999999999999)\"><tspan x=\"0.0\" dy=\"11.200000000000001\">R1</tspan></text>\n",
       "<circle cx=\"32.4\" cy=\"-0.0\" r=\"2.4299999999999997\" style=\"stroke:black;fill:black;stroke-width:2;\"/>\n",
       "<text x=\"32.4\" y=\"-16.87\" fill=\"black\" font-size=\"14\"\n",
       "font-family=\"sans-serif\" text-anchor=\"middle\"  transform=\" rotate(-45 32.4 -5.669999999999999)\"><tspan x=\"32.4\" dy=\"11.200000000000001\">R1</tspan></text>\n",
       "<circle cx=\"64.8\" cy=\"-0.0\" r=\"2.4299999999999997\" style=\"stroke:black;fill:black;stroke-width:2;\"/>\n",
       "<text x=\"64.8\" y=\"-16.87\" fill=\"black\" font-size=\"14\"\n",
       "font-family=\"sans-serif\" text-anchor=\"end\"  transform=\" rotate(-45 64.8 -5.669999999999999)\"><tspan x=\"64.8\" dy=\"11.200000000000001\">R1</tspan></text>\n",
       "<circle cx=\"0.0\" cy=\"-32.4\" r=\"2.4299999999999997\" style=\"stroke:black;fill:black;stroke-width:2;\"/>\n",
       "<text x=\"0.0\" y=\"-38.07\" fill=\"black\" font-size=\"14\"\n",
       "font-family=\"sans-serif\" text-anchor=\"start\"  transform=\" rotate(-45 0.0 -38.07)\"><tspan x=\"0.0\" dy=\"11.200000000000001\">R1</tspan></text>\n",
       "<circle cx=\"32.4\" cy=\"-32.4\" r=\"2.4299999999999997\" style=\"stroke:black;fill:black;stroke-width:2;\"/>\n",
       "<text x=\"32.4\" y=\"-49.27\" fill=\"black\" font-size=\"14\"\n",
       "font-family=\"sans-serif\" text-anchor=\"start\"  transform=\" rotate(-45 32.4 -38.07)\"><tspan x=\"32.4\" dy=\"11.200000000000001\">R1</tspan></text>\n",
       "<circle cx=\"64.8\" cy=\"-32.4\" r=\"2.4299999999999997\" style=\"stroke:black;fill:black;stroke-width:2;\"/>\n",
       "<text x=\"64.8\" y=\"-43.67\" fill=\"black\" font-size=\"14\"\n",
       "font-family=\"sans-serif\" text-anchor=\"start\"  transform=\" rotate(-45 64.8 -38.07)\"><tspan x=\"64.8\" dy=\"11.200000000000001\">R1</tspan></text></svg>"
      ],
      "text/plain": [
       "<svg xmlns=\"http://www.w3.org/2000/svg\" xml:lang=\"en\" height=\"61.059999999999995pt\" width=\"94.1692pt\" viewBox=\"-5.24 -56.629999999999995 94.1692 61.059999999999995\" style=\"background-color:white;\"><circle cx=\"0.0\" cy=\"-0.0\" r=\"2.4299999999999997\" style=\"stroke:black;fill:black;stroke-width:2;\"/>\n",
       "<text x=\"0.0\" y=\"-16.87\" fill=\"black\" font-size=\"14\"\n",
       "font-family=\"sans-serif\" text-anchor=\"start\"  transform=\" rotate(-45 0.0 -5.669999999999999)\"><tspan x=\"0.0\" dy=\"11.200000000000001\">R1</tspan></text>\n",
       "<circle cx=\"32.4\" cy=\"-0.0\" r=\"2.4299999999999997\" style=\"stroke:black;fill:black;stroke-width:2;\"/>\n",
       "<text x=\"32.4\" y=\"-16.87\" fill=\"black\" font-size=\"14\"\n",
       "font-family=\"sans-serif\" text-anchor=\"middle\"  transform=\" rotate(-45 32.4 -5.669999999999999)\"><tspan x=\"32.4\" dy=\"11.200000000000001\">R1</tspan></text>\n",
       "<circle cx=\"64.8\" cy=\"-0.0\" r=\"2.4299999999999997\" style=\"stroke:black;fill:black;stroke-width:2;\"/>\n",
       "<text x=\"64.8\" y=\"-16.87\" fill=\"black\" font-size=\"14\"\n",
       "font-family=\"sans-serif\" text-anchor=\"end\"  transform=\" rotate(-45 64.8 -5.669999999999999)\"><tspan x=\"64.8\" dy=\"11.200000000000001\">R1</tspan></text>\n",
       "<circle cx=\"0.0\" cy=\"-32.4\" r=\"2.4299999999999997\" style=\"stroke:black;fill:black;stroke-width:2;\"/>\n",
       "<text x=\"0.0\" y=\"-38.07\" fill=\"black\" font-size=\"14\"\n",
       "font-family=\"sans-serif\" text-anchor=\"start\"  transform=\" rotate(-45 0.0 -38.07)\"><tspan x=\"0.0\" dy=\"11.200000000000001\">R1</tspan></text>\n",
       "<circle cx=\"32.4\" cy=\"-32.4\" r=\"2.4299999999999997\" style=\"stroke:black;fill:black;stroke-width:2;\"/>\n",
       "<text x=\"32.4\" y=\"-49.27\" fill=\"black\" font-size=\"14\"\n",
       "font-family=\"sans-serif\" text-anchor=\"start\"  transform=\" rotate(-45 32.4 -38.07)\"><tspan x=\"32.4\" dy=\"11.200000000000001\">R1</tspan></text>\n",
       "<circle cx=\"64.8\" cy=\"-32.4\" r=\"2.4299999999999997\" style=\"stroke:black;fill:black;stroke-width:2;\"/>\n",
       "<text x=\"64.8\" y=\"-43.67\" fill=\"black\" font-size=\"14\"\n",
       "font-family=\"sans-serif\" text-anchor=\"start\"  transform=\" rotate(-45 64.8 -38.07)\"><tspan x=\"64.8\" dy=\"11.200000000000001\">R1</tspan></text></svg>"
      ]
     },
     "execution_count": 24,
     "metadata": {},
     "output_type": "execute_result"
    }
   ],
   "source": [
    "# Test some mathtext in svg backend\n",
    "schemdraw.use('svg')\n",
    "d = schemdraw.Drawing()\n",
    "d += elm.Dot().label('R1', rotate=45)\n",
    "d += elm.Dot().at((1, 0)).label('R1', rotate=45, halign='center')\n",
    "d += elm.Dot().at((2, 0)).label('R1', rotate=45, halign='right')\n",
    "d += elm.Dot().at((0, 1)).label('R1', rotate=45, valign='top')\n",
    "d += elm.Dot().at((1, 1)).label('R1', rotate=45, valign='bottom')\n",
    "d += elm.Dot().at((2, 1)).label('R1', rotate=45, valign='center')\n",
    "d.draw()"
   ]
  },
  {
   "cell_type": "code",
   "execution_count": 25,
   "id": "interracial-location",
   "metadata": {},
   "outputs": [],
   "source": [
    "from schemdraw.backends import svgtext\n",
    "from IPython.display import SVG\n",
    "# These should appear similar to\n",
    "# https://matplotlib.org/3.1.1/gallery/text_labels_and_annotations/demo_text_rotation_mode.html"
   ]
  },
  {
   "cell_type": "code",
   "execution_count": 26,
   "id": "south-thinking",
   "metadata": {},
   "outputs": [
    {
     "data": {
      "image/svg+xml": [
       "<svg xmlns=\"http://www.w3.org/2000/svg\" xml:lang=\"en\" height=\"150pt\" width=\"150pt\"><text x=\"50\" y=\"43.599999999999994\" fill=\"black\" font-size=\"16\" font-family=\"Arial\" text-anchor=\"start\" transform=\" rotate(-45 50 50)\"><tspan x=\"50\" dy=\"12.8\">ABC</tspan></text><rect x=\"50\" y=\"43.599999999999994\" width=\"32.256\" height=\"12.8\" style=\"stroke:blue;stroke-width:1;fill:none\" transform=\" rotate(-45 50 50)\"/>\n",
       "<circle cx=\"50\" cy=\"50\" r=\"1.5\" stroke=\"red\" fill=\"red\"/>\n",
       "<rect x=\"45.47451660040609\" y=\"22.666080266452816\" width=\"31.859403133141086\" height=\"31.859403133141086\" style=\"stroke:red;stroke-width:1;fill:none\"/></svg>"
      ],
      "text/plain": [
       "<IPython.core.display.SVG object>"
      ]
     },
     "execution_count": 26,
     "metadata": {},
     "output_type": "execute_result"
    }
   ],
   "source": [
    "svghead = '<svg xmlns=\"http://www.w3.org/2000/svg\" xml:lang=\"en\" height=\"150pt\" width=\"150pt\">{}</svg>'\n",
    "s = svgtext.text_tosvg('ABC', 50, 50, halign='left', rotation=45, testmode=True)\n",
    "SVG(svghead.format(s))"
   ]
  },
  {
   "cell_type": "code",
   "execution_count": 27,
   "id": "sized-investor",
   "metadata": {},
   "outputs": [
    {
     "data": {
      "image/svg+xml": [
       "<svg xmlns=\"http://www.w3.org/2000/svg\" xml:lang=\"en\" height=\"150pt\" width=\"150pt\"><text x=\"30\" y=\"29.999999999999996\" fill=\"black\" font-size=\"16\" font-family=\"Arial\" text-anchor=\"start\" transform=\" rotate(-30 30 30)\"><tspan x=\"30\" dy=\"12.8\">ABC</tspan></text><rect x=\"30\" y=\"29.999999999999996\" width=\"32.256\" height=\"12.8\" style=\"stroke:blue;stroke-width:1;fill:none\" transform=\" rotate(-30 30 30)\"/>\n",
       "<circle cx=\"30\" cy=\"30\" r=\"1.5\" stroke=\"red\" fill=\"red\"/>\n",
       "<rect x=\"30.0\" y=\"13.872\" width=\"34.33451542447085\" height=\"27.21312516844081\" style=\"stroke:red;stroke-width:1;fill:none\"/><text x=\"90\" y=\"29.999999999999996\" fill=\"black\" font-size=\"16\" font-family=\"Arial\" text-anchor=\"middle\" transform=\" rotate(-30 90 30)\"><tspan x=\"90\" dy=\"12.8\">ABC</tspan></text><rect x=\"73.872\" y=\"29.999999999999996\" width=\"32.256\" height=\"12.8\" style=\"stroke:blue;stroke-width:1;fill:none\" transform=\" rotate(-30 90 30)\"/>\n",
       "<circle cx=\"90\" cy=\"30\" r=\"1.5\" stroke=\"red\" fill=\"red\"/>\n",
       "<rect x=\"76.03274228776456\" y=\"21.936\" width=\"34.334515424470865\" height=\"27.21312516844081\" style=\"stroke:red;stroke-width:1;fill:none\"/><text x=\"150\" y=\"29.999999999999996\" fill=\"black\" font-size=\"16\" font-family=\"Arial\" text-anchor=\"end\" transform=\" rotate(-30 150 30)\"><tspan x=\"150\" dy=\"12.8\">ABC</tspan></text><rect x=\"117.744\" y=\"29.999999999999996\" width=\"32.256\" height=\"12.8\" style=\"stroke:blue;stroke-width:1;fill:none\" transform=\" rotate(-30 150 30)\"/>\n",
       "<circle cx=\"150\" cy=\"30\" r=\"1.5\" stroke=\"red\" fill=\"red\"/>\n",
       "<rect x=\"122.06548457552914\" y=\"29.999999999999996\" width=\"34.334515424470865\" height=\"27.213125168440815\" style=\"stroke:red;stroke-width:1;fill:none\"/><text x=\"30\" y=\"73.60000000000001\" fill=\"black\" font-size=\"16\" font-family=\"Arial\" text-anchor=\"start\" transform=\" rotate(-30 30 80)\"><tspan x=\"30\" dy=\"12.8\">ABC</tspan></text><rect x=\"30\" y=\"73.60000000000001\" width=\"32.256\" height=\"12.8\" style=\"stroke:blue;stroke-width:1;fill:none\" transform=\" rotate(-30 30 80)\"/>\n",
       "<circle cx=\"30\" cy=\"80\" r=\"1.5\" stroke=\"red\" fill=\"red\"/>\n",
       "<rect x=\"26.800000000000004\" y=\"58.3294374157796\" width=\"34.33451542447086\" height=\"27.213125168440804\" style=\"stroke:red;stroke-width:1;fill:none\"/><text x=\"90\" y=\"73.60000000000001\" fill=\"black\" font-size=\"16\" font-family=\"Arial\" text-anchor=\"middle\" transform=\" rotate(-30 90 80)\"><tspan x=\"90\" dy=\"12.8\">ABC</tspan></text><rect x=\"73.872\" y=\"73.60000000000001\" width=\"32.256\" height=\"12.8\" style=\"stroke:blue;stroke-width:1;fill:none\" transform=\" rotate(-30 90 80)\"/>\n",
       "<circle cx=\"90\" cy=\"80\" r=\"1.5\" stroke=\"red\" fill=\"red\"/>\n",
       "<rect x=\"72.83274228776457\" y=\"66.3934374157796\" width=\"34.33451542447085\" height=\"27.21312516844081\" style=\"stroke:red;stroke-width:1;fill:none\"/><text x=\"150\" y=\"73.60000000000001\" fill=\"black\" font-size=\"16\" font-family=\"Arial\" text-anchor=\"end\" transform=\" rotate(-30 150 80)\"><tspan x=\"150\" dy=\"12.8\">ABC</tspan></text><rect x=\"117.744\" y=\"73.60000000000001\" width=\"32.256\" height=\"12.8\" style=\"stroke:blue;stroke-width:1;fill:none\" transform=\" rotate(-30 150 80)\"/>\n",
       "<circle cx=\"150\" cy=\"80\" r=\"1.5\" stroke=\"red\" fill=\"red\"/>\n",
       "<rect x=\"118.86548457552915\" y=\"74.4574374157796\" width=\"34.33451542447084\" height=\"27.21312516844081\" style=\"stroke:red;stroke-width:1;fill:none\"/><text x=\"30\" y=\"117.2\" fill=\"black\" font-size=\"16\" font-family=\"Arial\" text-anchor=\"start\" transform=\" rotate(-30 30 130)\"><tspan x=\"30\" dy=\"12.8\">ABC</tspan></text><rect x=\"30\" y=\"117.2\" width=\"32.256\" height=\"12.8\" style=\"stroke:blue;stroke-width:1;fill:none\" transform=\" rotate(-30 30 130)\"/>\n",
       "<circle cx=\"30\" cy=\"130\" r=\"1.5\" stroke=\"red\" fill=\"red\"/>\n",
       "<rect x=\"23.6\" y=\"102.78687483155919\" width=\"34.33451542447086\" height=\"27.21312516844081\" style=\"stroke:red;stroke-width:1;fill:none\"/><text x=\"90\" y=\"117.2\" fill=\"black\" font-size=\"16\" font-family=\"Arial\" text-anchor=\"middle\" transform=\" rotate(-30 90 130)\"><tspan x=\"90\" dy=\"12.8\">ABC</tspan></text><rect x=\"73.872\" y=\"117.2\" width=\"32.256\" height=\"12.8\" style=\"stroke:blue;stroke-width:1;fill:none\" transform=\" rotate(-30 90 130)\"/>\n",
       "<circle cx=\"90\" cy=\"130\" r=\"1.5\" stroke=\"red\" fill=\"red\"/>\n",
       "<rect x=\"69.63274228776457\" y=\"110.8508748315592\" width=\"34.33451542447085\" height=\"27.213125168440797\" style=\"stroke:red;stroke-width:1;fill:none\"/><text x=\"150\" y=\"117.2\" fill=\"black\" font-size=\"16\" font-family=\"Arial\" text-anchor=\"end\" transform=\" rotate(-30 150 130)\"><tspan x=\"150\" dy=\"12.8\">ABC</tspan></text><rect x=\"117.744\" y=\"117.2\" width=\"32.256\" height=\"12.8\" style=\"stroke:blue;stroke-width:1;fill:none\" transform=\" rotate(-30 150 130)\"/>\n",
       "<circle cx=\"150\" cy=\"130\" r=\"1.5\" stroke=\"red\" fill=\"red\"/>\n",
       "<rect x=\"115.66548457552915\" y=\"118.91487483155919\" width=\"34.33451542447085\" height=\"27.213125168440797\" style=\"stroke:red;stroke-width:1;fill:none\"/></svg>"
      ],
      "text/plain": [
       "<IPython.core.display.SVG object>"
      ]
     },
     "execution_count": 27,
     "metadata": {},
     "output_type": "execute_result"
    }
   ],
   "source": [
    "# \"anchor\" rotation mode\n",
    "s = svgtext.text_tosvg('ABC', 30, 30, rotation=30,\n",
    "                       halign='left', valign='top', \n",
    "                       testmode=True)\n",
    "s += svgtext.text_tosvg('ABC', 90, 30, rotation=30,\n",
    "                       halign='center', valign='top', \n",
    "                       testmode=True)\n",
    "s += svgtext.text_tosvg('ABC', 150, 30, rotation=30,\n",
    "                       halign='right', valign='top', \n",
    "                       testmode=True)\n",
    "s += svgtext.text_tosvg('ABC', 30, 80, rotation=30,\n",
    "                       halign='left', valign='center', \n",
    "                       testmode=True)\n",
    "s += svgtext.text_tosvg('ABC', 90, 80, rotation=30,\n",
    "                       halign='center', valign='center', \n",
    "                       testmode=True)\n",
    "s += svgtext.text_tosvg('ABC', 150, 80, rotation=30,\n",
    "                       halign='right', valign='center', \n",
    "                       testmode=True)\n",
    "s += svgtext.text_tosvg('ABC', 30, 130, rotation=30,\n",
    "                       halign='left', valign='bottom', \n",
    "                       testmode=True)\n",
    "s += svgtext.text_tosvg('ABC', 90, 130, rotation=30,\n",
    "                       halign='center', valign='bottom', \n",
    "                       testmode=True)\n",
    "s += svgtext.text_tosvg('ABC', 150, 130, rotation=30,\n",
    "                       halign='right', valign='bottom', \n",
    "                       testmode=True)\n",
    "\n",
    "SVG(svghead.format(s))"
   ]
  },
  {
   "cell_type": "code",
   "execution_count": 28,
   "id": "headed-enterprise",
   "metadata": {},
   "outputs": [
    {
     "data": {
      "image/svg+xml": [
       "<svg xmlns=\"http://www.w3.org/2000/svg\" xml:lang=\"en\" height=\"150pt\" width=\"150pt\"><text x=\"30\" y=\"29.999999999999996\" fill=\"black\" font-size=\"16\" font-family=\"Arial\" text-anchor=\"start\" transform=\" translate(0.0 16.128) rotate(-30 30 30)\"><tspan x=\"30\" dy=\"12.8\">ABC</tspan></text><rect x=\"30\" y=\"29.999999999999996\" width=\"32.256\" height=\"12.8\" style=\"stroke:blue;stroke-width:1;fill:none\" transform=\" translate(0.0 16.128) rotate(-30 30 30)\"/>\n",
       "<circle cx=\"30\" cy=\"30\" r=\"1.5\" stroke=\"red\" fill=\"red\"/>\n",
       "<rect x=\"30.0\" y=\"30.0\" width=\"34.33451542447085\" height=\"27.21312516844081\" style=\"stroke:red;stroke-width:1;fill:none\"/><text x=\"90\" y=\"29.999999999999996\" fill=\"black\" font-size=\"16\" font-family=\"Arial\" text-anchor=\"middle\" transform=\" translate(-3.1999999999999886 8.064) rotate(-30 90 30)\"><tspan x=\"90\" dy=\"12.8\">ABC</tspan></text><rect x=\"73.872\" y=\"29.999999999999996\" width=\"32.256\" height=\"12.8\" style=\"stroke:blue;stroke-width:1;fill:none\" transform=\" translate(-3.1999999999999886 8.064) rotate(-30 90 30)\"/>\n",
       "<circle cx=\"90\" cy=\"30\" r=\"1.5\" stroke=\"red\" fill=\"red\"/>\n",
       "<rect x=\"72.83274228776457\" y=\"30.0\" width=\"34.334515424470865\" height=\"27.21312516844081\" style=\"stroke:red;stroke-width:1;fill:none\"/><text x=\"150\" y=\"29.999999999999996\" fill=\"black\" font-size=\"16\" font-family=\"Arial\" text-anchor=\"end\" transform=\" translate(-6.400000000000006 3.552713678800501e-15) rotate(-30 150 30)\"><tspan x=\"150\" dy=\"12.8\">ABC</tspan></text><rect x=\"117.744\" y=\"29.999999999999996\" width=\"32.256\" height=\"12.8\" style=\"stroke:blue;stroke-width:1;fill:none\" transform=\" translate(-6.400000000000006 3.552713678800501e-15) rotate(-30 150 30)\"/>\n",
       "<circle cx=\"150\" cy=\"30\" r=\"1.5\" stroke=\"red\" fill=\"red\"/>\n",
       "<rect x=\"115.66548457552913\" y=\"30.0\" width=\"34.334515424470865\" height=\"27.21312516844081\" style=\"stroke:red;stroke-width:1;fill:none\"/><text x=\"30\" y=\"73.60000000000001\" fill=\"black\" font-size=\"16\" font-family=\"Arial\" text-anchor=\"start\" transform=\" translate(3.1999999999999957 8.063999999999993) rotate(-30 30 80)\"><tspan x=\"30\" dy=\"12.8\">ABC</tspan></text><rect x=\"30\" y=\"73.60000000000001\" width=\"32.256\" height=\"12.8\" style=\"stroke:blue;stroke-width:1;fill:none\" transform=\" translate(3.1999999999999957 8.063999999999993) rotate(-30 30 80)\"/>\n",
       "<circle cx=\"30\" cy=\"80\" r=\"1.5\" stroke=\"red\" fill=\"red\"/>\n",
       "<rect x=\"30.0\" y=\"66.3934374157796\" width=\"34.33451542447085\" height=\"27.213125168440797\" style=\"stroke:red;stroke-width:1;fill:none\"/><text x=\"90\" y=\"73.60000000000001\" fill=\"black\" font-size=\"16\" font-family=\"Arial\" text-anchor=\"middle\" transform=\" translate(0.0 0.0) rotate(-30 90 80)\"><tspan x=\"90\" dy=\"12.8\">ABC</tspan></text><rect x=\"73.872\" y=\"73.60000000000001\" width=\"32.256\" height=\"12.8\" style=\"stroke:blue;stroke-width:1;fill:none\" transform=\" translate(0.0 0.0) rotate(-30 90 80)\"/>\n",
       "<circle cx=\"90\" cy=\"80\" r=\"1.5\" stroke=\"red\" fill=\"red\"/>\n",
       "<rect x=\"72.83274228776457\" y=\"66.3934374157796\" width=\"34.33451542447085\" height=\"27.21312516844081\" style=\"stroke:red;stroke-width:1;fill:none\"/><text x=\"150\" y=\"73.60000000000001\" fill=\"black\" font-size=\"16\" font-family=\"Arial\" text-anchor=\"end\" transform=\" translate(-3.1999999999999886 -8.063999999999993) rotate(-30 150 80)\"><tspan x=\"150\" dy=\"12.8\">ABC</tspan></text><rect x=\"117.744\" y=\"73.60000000000001\" width=\"32.256\" height=\"12.8\" style=\"stroke:blue;stroke-width:1;fill:none\" transform=\" translate(-3.1999999999999886 -8.063999999999993) rotate(-30 150 80)\"/>\n",
       "<circle cx=\"150\" cy=\"80\" r=\"1.5\" stroke=\"red\" fill=\"red\"/>\n",
       "<rect x=\"115.66548457552916\" y=\"66.3934374157796\" width=\"34.33451542447084\" height=\"27.21312516844081\" style=\"stroke:red;stroke-width:1;fill:none\"/><text x=\"30\" y=\"117.2\" fill=\"black\" font-size=\"16\" font-family=\"Arial\" text-anchor=\"start\" transform=\" translate(6.399999999999999 0.0) rotate(-30 30 130)\"><tspan x=\"30\" dy=\"12.8\">ABC</tspan></text><rect x=\"30\" y=\"117.2\" width=\"32.256\" height=\"12.8\" style=\"stroke:blue;stroke-width:1;fill:none\" transform=\" translate(6.399999999999999 0.0) rotate(-30 30 130)\"/>\n",
       "<circle cx=\"30\" cy=\"130\" r=\"1.5\" stroke=\"red\" fill=\"red\"/>\n",
       "<rect x=\"30.0\" y=\"102.78687483155919\" width=\"34.33451542447085\" height=\"27.21312516844081\" style=\"stroke:red;stroke-width:1;fill:none\"/><text x=\"90\" y=\"117.2\" fill=\"black\" font-size=\"16\" font-family=\"Arial\" text-anchor=\"middle\" transform=\" translate(3.200000000000003 -8.063999999999993) rotate(-30 90 130)\"><tspan x=\"90\" dy=\"12.8\">ABC</tspan></text><rect x=\"73.872\" y=\"117.2\" width=\"32.256\" height=\"12.8\" style=\"stroke:blue;stroke-width:1;fill:none\" transform=\" translate(3.200000000000003 -8.063999999999993) rotate(-30 90 130)\"/>\n",
       "<circle cx=\"90\" cy=\"130\" r=\"1.5\" stroke=\"red\" fill=\"red\"/>\n",
       "<rect x=\"72.83274228776457\" y=\"102.7868748315592\" width=\"34.33451542447085\" height=\"27.213125168440797\" style=\"stroke:red;stroke-width:1;fill:none\"/><text x=\"150\" y=\"117.2\" fill=\"black\" font-size=\"16\" font-family=\"Arial\" text-anchor=\"end\" transform=\" translate(0.0 -16.127999999999986) rotate(-30 150 130)\"><tspan x=\"150\" dy=\"12.8\">ABC</tspan></text><rect x=\"117.744\" y=\"117.2\" width=\"32.256\" height=\"12.8\" style=\"stroke:blue;stroke-width:1;fill:none\" transform=\" translate(0.0 -16.127999999999986) rotate(-30 150 130)\"/>\n",
       "<circle cx=\"150\" cy=\"130\" r=\"1.5\" stroke=\"red\" fill=\"red\"/>\n",
       "<rect x=\"115.66548457552915\" y=\"102.7868748315592\" width=\"34.33451542447085\" height=\"27.213125168440797\" style=\"stroke:red;stroke-width:1;fill:none\"/></svg>"
      ],
      "text/plain": [
       "<IPython.core.display.SVG object>"
      ]
     },
     "execution_count": 28,
     "metadata": {},
     "output_type": "execute_result"
    }
   ],
   "source": [
    "# \"default\" rotation mode\n",
    "s = svgtext.text_tosvg('ABC', 30, 30, rotation=30,\n",
    "                       halign='left', valign='top', \n",
    "                       rotation_mode='default', testmode=True)\n",
    "s += svgtext.text_tosvg('ABC', 90, 30, rotation=30,\n",
    "                       halign='center', valign='top', \n",
    "                       rotation_mode='default', testmode=True)\n",
    "s += svgtext.text_tosvg('ABC', 150, 30, rotation=30,\n",
    "                       halign='right', valign='top', \n",
    "                       rotation_mode='default', testmode=True)\n",
    "s += svgtext.text_tosvg('ABC', 30, 80, rotation=30,\n",
    "                       halign='left', valign='center', \n",
    "                       rotation_mode='default', testmode=True)\n",
    "s += svgtext.text_tosvg('ABC', 90, 80, rotation=30,\n",
    "                       halign='center', valign='center', \n",
    "                       rotation_mode='default', testmode=True)\n",
    "s += svgtext.text_tosvg('ABC', 150, 80, rotation=30,\n",
    "                       halign='right', valign='center', \n",
    "                       rotation_mode='default', testmode=True)\n",
    "s += svgtext.text_tosvg('ABC', 30, 130, rotation=30,\n",
    "                       halign='left', valign='bottom', \n",
    "                       rotation_mode='default', testmode=True)\n",
    "s += svgtext.text_tosvg('ABC', 90, 130, rotation=30,\n",
    "                       halign='center', valign='bottom', \n",
    "                       rotation_mode='default', testmode=True)\n",
    "s += svgtext.text_tosvg('ABC', 150, 130, rotation=30,\n",
    "                       halign='right', valign='bottom', \n",
    "                       rotation_mode='default', testmode=True)\n",
    "\n",
    "SVG(svghead.format(s))"
   ]
  },
  {
   "cell_type": "code",
   "execution_count": 39,
   "id": "permanent-invention",
   "metadata": {},
   "outputs": [
    {
     "data": {
      "image/svg+xml": [
       "<svg xmlns=\"http://www.w3.org/2000/svg\" xml:lang=\"en\" height=\"150pt\" width=\"150pt\"><text x=\"50\" y=\"43.599999999999994\" fill=\"black\" font-size=\"16\" font-family=\"Arial\" text-anchor=\"start\" transform=\" rotate(-145 50 50)\"><tspan x=\"50\" dy=\"12.8\">A<tspan baseline-shift=\"super\" font-size=\"smaller\">x</tspan> + B₁</tspan></text><rect x=\"50\" y=\"43.599999999999994\" width=\"53.088\" height=\"12.8\" style=\"stroke:blue;stroke-width:1;fill:none\" transform=\" rotate(-145 50 50)\"/>\n",
       "<circle cx=\"50\" cy=\"50\" r=\"1.5\" stroke=\"red\" fill=\"red\"/>\n",
       "<rect x=\"2.8419670801393053\" y=\"14.30740106354613\" width=\"50.828922112507385\" height=\"40.935172019903426\" style=\"stroke:red;stroke-width:1;fill:none\"/></svg>"
      ],
      "text/plain": [
       "<IPython.core.display.SVG object>"
      ]
     },
     "execution_count": 39,
     "metadata": {},
     "output_type": "execute_result"
    }
   ],
   "source": [
    "svghead = '<svg xmlns=\"http://www.w3.org/2000/svg\" xml:lang=\"en\" height=\"150pt\" width=\"150pt\">{}</svg>'\n",
    "s = svgtext.text_tosvg('$A^x$ + $B_1$', 50, 50, halign='left', rotation=145, testmode=True)\n",
    "SVG(svghead.format(s))"
   ]
  },
  {
   "cell_type": "code",
   "execution_count": 37,
   "id": "extra-stupid",
   "metadata": {},
   "outputs": [
    {
     "data": {
      "image/svg+xml": [
       "<svg xmlns=\"http://www.w3.org/2000/svg\" xml:lang=\"en\" height=\"150pt\" width=\"150pt\"><text x=\"50\" y=\"41.199999999999996\" fill=\"black\" font-size=\"22\" font-family=\"Arial\" text-anchor=\"start\" transform=\" rotate(45 50 50)\"><tspan x=\"50\" dy=\"17.6\">A<tspan baseline-shift=\"super\" font-size=\"smaller\">xy</tspan> + B₁₁</tspan></text><rect x=\"50\" y=\"41.199999999999996\" width=\"94.116\" height=\"17.6\" style=\"stroke:blue;stroke-width:1;fill:none\" transform=\" rotate(45 50 50)\"/>\n",
       "<circle cx=\"50\" cy=\"50\" r=\"1.5\" stroke=\"red\" fill=\"red\"/>\n",
       "<rect x=\"43.77746032555839\" y=\"43.77746032555838\" width=\"78.99514116703634\" height=\"78.99514116703634\" style=\"stroke:red;stroke-width:1;fill:none\"/></svg>"
      ],
      "text/plain": [
       "<IPython.core.display.SVG object>"
      ]
     },
     "execution_count": 37,
     "metadata": {},
     "output_type": "execute_result"
    }
   ],
   "source": [
    "svghead = '<svg xmlns=\"http://www.w3.org/2000/svg\" xml:lang=\"en\" height=\"150pt\" width=\"150pt\">{}</svg>'\n",
    "s = svgtext.text_tosvg('$A^{xy}$ + $B_{11}$', 50, 50, halign='left', size=22, rotation=-45, testmode=True)\n",
    "SVG(svghead.format(s))"
   ]
  },
  {
   "cell_type": "code",
   "execution_count": null,
   "id": "oriented-comment",
   "metadata": {},
   "outputs": [],
   "source": []
  }
 ],
 "metadata": {
  "kernelspec": {
   "display_name": "Python 3",
   "language": "python",
   "name": "python3"
  },
  "language_info": {
   "codemirror_mode": {
    "name": "ipython",
    "version": 3
   },
   "file_extension": ".py",
   "mimetype": "text/x-python",
   "name": "python",
   "nbconvert_exporter": "python",
   "pygments_lexer": "ipython3",
   "version": "3.8.5"
  }
 },
 "nbformat": 4,
 "nbformat_minor": 5
}
