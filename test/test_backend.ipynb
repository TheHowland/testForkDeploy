{
 "cells": [
  {
   "cell_type": "code",
   "execution_count": 1,
   "id": "e5ced741",
   "metadata": {},
   "outputs": [],
   "source": [
    "import os\n",
    "\n",
    "import schemdraw\n",
    "from schemdraw import elements as elm\n",
    "from schemdraw import logic\n",
    "from schemdraw import transform\n",
    "from schemdraw.util import Point"
   ]
  },
  {
   "cell_type": "code",
   "execution_count": 2,
   "id": "341e551e",
   "metadata": {},
   "outputs": [
    {
     "data": {
      "text/plain": [
       "Point(1,1)"
      ]
     },
     "execution_count": 2,
     "metadata": {},
     "output_type": "execute_result"
    }
   ],
   "source": [
    "Point((1, 1))"
   ]
  },
  {
   "cell_type": "code",
   "execution_count": 3,
   "id": "fb5dca74",
   "metadata": {},
   "outputs": [
    {
     "data": {
      "text/plain": [
       "Point(3,3)"
      ]
     },
     "execution_count": 3,
     "metadata": {},
     "output_type": "execute_result"
    }
   ],
   "source": [
    "p1 = Point((1, 1))\n",
    "p2 = Point((2, 2))\n",
    "p3 = p1 + p2\n",
    "assert p3 == Point((3, 3))\n",
    "p3"
   ]
  },
  {
   "cell_type": "code",
   "execution_count": 4,
   "id": "fbf88482",
   "metadata": {},
   "outputs": [
    {
     "data": {
      "text/plain": [
       "Point(1,1)"
      ]
     },
     "execution_count": 4,
     "metadata": {},
     "output_type": "execute_result"
    }
   ],
   "source": [
    "p4 = p2-p1\n",
    "assert p4 == Point((1, 1))\n",
    "assert p2-1 == Point((1, 1))\n",
    "assert 1 - p2 == Point((-1, -1))\n",
    "p4"
   ]
  },
  {
   "cell_type": "code",
   "execution_count": 5,
   "id": "f8a831c7",
   "metadata": {},
   "outputs": [
    {
     "data": {
      "text/plain": [
       "Transform: xy=Point(0,0); theta=0; scale=1; lshift=Point(0,0)"
      ]
     },
     "execution_count": 5,
     "metadata": {},
     "output_type": "execute_result"
    }
   ],
   "source": [
    "t = transform.Transform(0, (0,0))\n",
    "t"
   ]
  },
  {
   "cell_type": "code",
   "execution_count": 6,
   "id": "db939804",
   "metadata": {},
   "outputs": [],
   "source": [
    "assert t.transform((1, 1)) == Point((1, 1))"
   ]
  },
  {
   "cell_type": "code",
   "execution_count": 7,
   "id": "b4d8f6aa",
   "metadata": {},
   "outputs": [],
   "source": [
    "t = transform.Transform(0, (1, 1))\n",
    "assert t.transform((1, 1)) == Point((2, 2))"
   ]
  },
  {
   "cell_type": "code",
   "execution_count": null,
   "id": "01752781",
   "metadata": {},
   "outputs": [],
   "source": []
  },
  {
   "cell_type": "code",
   "execution_count": 8,
   "id": "269ecaaa",
   "metadata": {},
   "outputs": [
    {
     "data": {
      "image/svg+xml": [
       "<?xml version=\"1.0\" encoding=\"utf-8\" standalone=\"no\"?>\n",
       "<!DOCTYPE svg PUBLIC \"-//W3C//DTD SVG 1.1//EN\"\n",
       "  \"http://www.w3.org/Graphics/SVG/1.1/DTD/svg11.dtd\">\n",
       "<svg xmlns:xlink=\"http://www.w3.org/1999/xlink\" width=\"330.48pt\" height=\"18.36pt\" viewBox=\"0 0 330.48 18.36\" xmlns=\"http://www.w3.org/2000/svg\" version=\"1.1\">\n",
       " <metadata>\n",
       "  <rdf:RDF xmlns:dc=\"http://purl.org/dc/elements/1.1/\" xmlns:cc=\"http://creativecommons.org/ns#\" xmlns:rdf=\"http://www.w3.org/1999/02/22-rdf-syntax-ns#\">\n",
       "   <cc:Work>\n",
       "    <dc:type rdf:resource=\"http://purl.org/dc/dcmitype/StillImage\"/>\n",
       "    <dc:date>2023-05-30T19:55:53.015597</dc:date>\n",
       "    <dc:format>image/svg+xml</dc:format>\n",
       "    <dc:creator>\n",
       "     <cc:Agent>\n",
       "      <dc:title>Matplotlib v3.7.0, https://matplotlib.org/</dc:title>\n",
       "     </cc:Agent>\n",
       "    </dc:creator>\n",
       "   </cc:Work>\n",
       "  </rdf:RDF>\n",
       " </metadata>\n",
       " <defs>\n",
       "  <style type=\"text/css\">*{stroke-linejoin: round; stroke-linecap: butt}</style>\n",
       " </defs>\n",
       " <g id=\"figure_1\">\n",
       "  <g id=\"patch_1\">\n",
       "   <path d=\"M 0 18.36 \n",
       "L 330.48 18.36 \n",
       "L 330.48 0 \n",
       "L 0 0 \n",
       "z\n",
       "\" style=\"fill: #ffffff\"/>\n",
       "  </g>\n",
       "  <g id=\"axes_1\">\n",
       "   <g id=\"patch_2\">\n",
       "    <path d=\"M 266.94 0.18 \n",
       "L 279.54 9.18 \n",
       "L 266.94 18.18 \n",
       "L 266.94 0.18 \n",
       "z\n",
       "\" clip-path=\"url(#paaaaea698b)\" style=\"fill: none; stroke: #000000; stroke-width: 2; stroke-linecap: round\"/>\n",
       "   </g>\n",
       "   <g id=\"line2d_1\">\n",
       "    <path d=\"M 3.24 9.18 \n",
       "L 39.24 9.18 \n",
       "L 42.24 0.18 \n",
       "L 48.24 18.18 \n",
       "L 54.24 0.18 \n",
       "L 60.24 18.18 \n",
       "L 66.24 0.18 \n",
       "L 72.24 18.18 \n",
       "L 75.24 9.18 \n",
       "L 111.24 9.18 \n",
       "\" clip-path=\"url(#paaaaea698b)\" style=\"fill: none; stroke: #000000; stroke-width: 2; stroke-linecap: round\"/>\n",
       "   </g>\n",
       "   <g id=\"line2d_2\">\n",
       "    <path d=\"M 111.24 9.18 \n",
       "L 162 9.18 \n",
       "M 162 0.18 \n",
       "L 162 18.18 \n",
       "M 168.48 0.18 \n",
       "L 168.48 18.18 \n",
       "M 168.48 9.18 \n",
       "L 219.24 9.18 \n",
       "\" clip-path=\"url(#paaaaea698b)\" style=\"fill: none; stroke: #000000; stroke-width: 2; stroke-linecap: round\"/>\n",
       "   </g>\n",
       "   <g id=\"line2d_3\">\n",
       "    <path d=\"M 219.24 9.18 \n",
       "L 266.94 9.18 \n",
       "M 279.54 0.18 \n",
       "L 279.54 18.18 \n",
       "M 279.54 9.18 \n",
       "L 327.24 9.18 \n",
       "\" clip-path=\"url(#paaaaea698b)\" style=\"fill: none; stroke: #000000; stroke-width: 2; stroke-linecap: round\"/>\n",
       "   </g>\n",
       "  </g>\n",
       " </g>\n",
       " <defs>\n",
       "  <clipPath id=\"paaaaea698b\">\n",
       "   <rect x=\"0\" y=\"0\" width=\"330.48\" height=\"18.36\"/>\n",
       "  </clipPath>\n",
       " </defs>\n",
       "</svg>\n"
      ],
      "text/plain": [
       "<schemdraw.schemdraw.Drawing at 0x7834bc081fc0>"
      ]
     },
     "execution_count": 8,
     "metadata": {},
     "output_type": "execute_result"
    }
   ],
   "source": [
    "# add_elements function\n",
    "d = schemdraw.Drawing()\n",
    "d.add_elements(\n",
    "    elm.Resistor(),\n",
    "    elm.Capacitor(),\n",
    "    elm.Diode())\n",
    "d"
   ]
  },
  {
   "cell_type": "code",
   "execution_count": 9,
   "id": "e3d4a871-cdd4-42da-8d84-18b2caa8f52f",
   "metadata": {},
   "outputs": [
    {
     "data": {
      "image/png": "[encoded data removed]",
      "image/svg+xml": [
       "<?xml version=\"1.0\" encoding=\"utf-8\" standalone=\"no\"?>\n",
       "<!DOCTYPE svg PUBLIC \"-//W3C//DTD SVG 1.1//EN\"\n",
       "  \"http://www.w3.org/Graphics/SVG/1.1/DTD/svg11.dtd\">\n",
       "<svg xmlns:xlink=\"http://www.w3.org/1999/xlink\" width=\"330.48pt\" height=\"18.36pt\" viewBox=\"0 0 330.48 18.36\" xmlns=\"http://www.w3.org/2000/svg\" version=\"1.1\">\n",
       " <metadata>\n",
       "  <rdf:RDF xmlns:dc=\"http://purl.org/dc/elements/1.1/\" xmlns:cc=\"http://creativecommons.org/ns#\" xmlns:rdf=\"http://www.w3.org/1999/02/22-rdf-syntax-ns#\">\n",
       "   <cc:Work>\n",
       "    <dc:type rdf:resource=\"http://purl.org/dc/dcmitype/StillImage\"/>\n",
       "    <dc:date>2023-05-30T19:55:53.484991</dc:date>\n",
       "    <dc:format>image/svg+xml</dc:format>\n",
       "    <dc:creator>\n",
       "     <cc:Agent>\n",
       "      <dc:title>Matplotlib v3.7.0, https://matplotlib.org/</dc:title>\n",
       "     </cc:Agent>\n",
       "    </dc:creator>\n",
       "   </cc:Work>\n",
       "  </rdf:RDF>\n",
       " </metadata>\n",
       " <defs>\n",
       "  <style type=\"text/css\">*{stroke-linejoin: round; stroke-linecap: butt}</style>\n",
       " </defs>\n",
       " <g id=\"figure_1\">\n",
       "  <g id=\"patch_1\">\n",
       "   <path d=\"M 0 18.36 \n",
       "L 330.48 18.36 \n",
       "L 330.48 0 \n",
       "L 0 0 \n",
       "z\n",
       "\" style=\"fill: #ffffff\"/>\n",
       "  </g>\n",
       "  <g id=\"axes_1\">\n",
       "   <g id=\"patch_2\">\n",
       "    <path d=\"M 266.94 0.18 \n",
       "L 279.54 9.18 \n",
       "L 266.94 18.18 \n",
       "L 266.94 0.18 \n",
       "z\n",
       "\" clip-path=\"url(#pbbeca75ccc)\" style=\"fill: none; stroke: #000000; stroke-width: 2; stroke-linecap: round\"/>\n",
       "   </g>\n",
       "   <g id=\"patch_3\">\n",
       "    <path d=\"M 266.94 0.18 \n",
       "L 279.54 9.18 \n",
       "L 266.94 18.18 \n",
       "L 266.94 0.18 \n",
       "z\n",
       "\" clip-path=\"url(#pbbeca75ccc)\" style=\"fill: none; stroke: #000000; stroke-width: 2; stroke-linecap: round\"/>\n",
       "   </g>\n",
       "   <g id=\"line2d_1\">\n",
       "    <path d=\"M 3.24 9.18 \n",
       "L 39.24 9.18 \n",
       "L 42.24 0.18 \n",
       "L 48.24 18.18 \n",
       "L 54.24 0.18 \n",
       "L 60.24 18.18 \n",
       "L 66.24 0.18 \n",
       "L 72.24 18.18 \n",
       "L 75.24 9.18 \n",
       "L 111.24 9.18 \n",
       "\" clip-path=\"url(#pbbeca75ccc)\" style=\"fill: none; stroke: #000000; stroke-width: 2; stroke-linecap: round\"/>\n",
       "   </g>\n",
       "   <g id=\"line2d_2\">\n",
       "    <path d=\"M 111.24 9.18 \n",
       "L 162 9.18 \n",
       "M 162 0.18 \n",
       "L 162 18.18 \n",
       "M 168.48 0.18 \n",
       "L 168.48 18.18 \n",
       "M 168.48 9.18 \n",
       "L 219.24 9.18 \n",
       "\" clip-path=\"url(#pbbeca75ccc)\" style=\"fill: none; stroke: #000000; stroke-width: 2; stroke-linecap: round\"/>\n",
       "   </g>\n",
       "   <g id=\"line2d_3\">\n",
       "    <path d=\"M 219.24 9.18 \n",
       "L 266.94 9.18 \n",
       "M 279.54 0.18 \n",
       "L 279.54 18.18 \n",
       "M 279.54 9.18 \n",
       "L 327.24 9.18 \n",
       "\" clip-path=\"url(#pbbeca75ccc)\" style=\"fill: none; stroke: #000000; stroke-width: 2; stroke-linecap: round\"/>\n",
       "   </g>\n",
       "   <g id=\"line2d_4\">\n",
       "    <path d=\"M 3.24 9.18 \n",
       "L 39.24 9.18 \n",
       "L 42.24 0.18 \n",
       "L 48.24 18.18 \n",
       "L 54.24 0.18 \n",
       "L 60.24 18.18 \n",
       "L 66.24 0.18 \n",
       "L 72.24 18.18 \n",
       "L 75.24 9.18 \n",
       "L 111.24 9.18 \n",
       "\" clip-path=\"url(#pbbeca75ccc)\" style=\"fill: none; stroke: #000000; stroke-width: 2; stroke-linecap: round\"/>\n",
       "   </g>\n",
       "   <g id=\"line2d_5\">\n",
       "    <path d=\"M 111.24 9.18 \n",
       "L 162 9.18 \n",
       "M 162 0.18 \n",
       "L 162 18.18 \n",
       "M 168.48 0.18 \n",
       "L 168.48 18.18 \n",
       "M 168.48 9.18 \n",
       "L 219.24 9.18 \n",
       "\" clip-path=\"url(#pbbeca75ccc)\" style=\"fill: none; stroke: #000000; stroke-width: 2; stroke-linecap: round\"/>\n",
       "   </g>\n",
       "   <g id=\"line2d_6\">\n",
       "    <path d=\"M 219.24 9.18 \n",
       "L 266.94 9.18 \n",
       "M 279.54 0.18 \n",
       "L 279.54 18.18 \n",
       "M 279.54 9.18 \n",
       "L 327.24 9.18 \n",
       "\" clip-path=\"url(#pbbeca75ccc)\" style=\"fill: none; stroke: #000000; stroke-width: 2; stroke-linecap: round\"/>\n",
       "   </g>\n",
       "  </g>\n",
       " </g>\n",
       " <defs>\n",
       "  <clipPath id=\"pbbeca75ccc\">\n",
       "   <rect x=\"0\" y=\"0\" width=\"330.48\" height=\"18.36\"/>\n",
       "  </clipPath>\n",
       " </defs>\n",
       "</svg>\n"
      ],
      "text/plain": [
       "<schemdraw.backends.mpl.Figure object at 0x7834f236fd60>"
      ]
     },
     "metadata": {},
     "output_type": "display_data"
    }
   ],
   "source": [
    "# Context Manager - file save, should still draw in Jupyter\n",
    "try:\n",
    "    os.remove('savetest.png')\n",
    "except FileNotFoundError:\n",
    "    pass\n",
    "\n",
    "with schemdraw.Drawing(file='savetest.png') as d:\n",
    "    d += elm.Resistor()\n",
    "    d += elm.Capacitor()\n",
    "    d += elm.Diode()\n",
    "    \n",
    "assert os.path.exists('savetest.png')"
   ]
  },
  {
   "cell_type": "code",
   "execution_count": null,
   "id": "244dfadd-fed6-4e88-83f4-6f4590e84345",
   "metadata": {},
   "outputs": [],
   "source": []
  },
  {
   "cell_type": "code",
   "execution_count": 10,
   "id": "11c0166f",
   "metadata": {},
   "outputs": [
    {
     "data": {
      "text/plain": [
       "b'<?xml version=\"1.0\" encoding=\"utf-8\" standalone=\"no\"?>\\n<!DOCTYPE svg PUBLIC \"-//W3C//DTD SVG 1.1//EN\"\\n  \"http://www.w3.org/Graphics/SVG/1.1/DTD/svg11.dtd\">\\n<svg xmlns:xlink=\"http://www.w3.org/1999/xlink\" width=\"330.48pt\" height=\"18.36pt\" viewBox=\"0 0 330.48 18.36\" xmlns=\"http://www.w3.org/2000/svg\" version=\"1.1\">\\n <metadata>\\n  <rdf:RDF xmlns:dc=\"http://purl.org/dc/elements/1.1/\" xmlns:cc=\"http://creativecommons.org/ns#\" xmlns:rdf=\"http://www.w3.org/1999/02/22-rdf-syntax-ns#\">\\n   <cc:Work>\\n    <dc:type rdf:resource=\"http://purl.org/dc/dcmitype/StillImage\"/>\\n    <dc:date>2023-05-30T19:55:53.816288</dc:date>\\n    <dc:format>image/svg+xml</dc:format>\\n    <dc:creator>\\n     <cc:Agent>\\n      <dc:title>Matplotlib v3.7.0, https://matplotlib.org/</dc:title>\\n     </cc:Agent>\\n    </dc:creator>\\n   </cc:Work>\\n  </rdf:RDF>\\n </metadata>\\n <defs>\\n  <style type=\"text/css\">*{stroke-linejoin: round; stroke-linecap: butt}</style>\\n </defs>\\n <g id=\"figure_1\">\\n  <g id=\"patch_1\">\\n   <path d=\"M 0 18.36 \\nL 330.48 18.36 \\nL 330.48 0 \\nL 0 0 \\nz\\n\" style=\"fill: #ffffff\"/>\\n  </g>\\n  <g id=\"axes_1\">\\n   <g id=\"patch_2\">\\n    <path d=\"M 266.94 0.18 \\nL 279.54 9.18 \\nL 266.94 18.18 \\nL 266.94 0.18 \\nz\\n\" clip-path=\"url(#pdc819100df)\" style=\"fill: none; stroke: #000000; stroke-width: 2; stroke-linecap: round\"/>\\n   </g>\\n   <g id=\"patch_3\">\\n    <path d=\"M 266.94 0.18 \\nL 279.54 9.18 \\nL 266.94 18.18 \\nL 266.94 0.18 \\nz\\n\" clip-path=\"url(#pdc819100df)\" style=\"fill: none; stroke: #000000; stroke-width: 2; stroke-linecap: round\"/>\\n   </g>\\n   <g id=\"patch_4\">\\n    <path d=\"M 266.94 0.18 \\nL 279.54 9.18 \\nL 266.94 18.18 \\nL 266.94 0.18 \\nz\\n\" clip-path=\"url(#pdc819100df)\" style=\"fill: none; stroke: #000000; stroke-width: 2; stroke-linecap: round\"/>\\n   </g>\\n   <g id=\"line2d_1\">\\n    <path d=\"M 3.24 9.18 \\nL 39.24 9.18 \\nL 42.24 0.18 \\nL 48.24 18.18 \\nL 54.24 0.18 \\nL 60.24 18.18 \\nL 66.24 0.18 \\nL 72.24 18.18 \\nL 75.24 9.18 \\nL 111.24 9.18 \\n\" clip-path=\"url(#pdc819100df)\" style=\"fill: none; stroke: #000000; stroke-width: 2; stroke-linecap: round\"/>\\n   </g>\\n   <g id=\"line2d_2\">\\n    <path d=\"M 111.24 9.18 \\nL 162 9.18 \\nM 162 0.18 \\nL 162 18.18 \\nM 168.48 0.18 \\nL 168.48 18.18 \\nM 168.48 9.18 \\nL 219.24 9.18 \\n\" clip-path=\"url(#pdc819100df)\" style=\"fill: none; stroke: #000000; stroke-width: 2; stroke-linecap: round\"/>\\n   </g>\\n   <g id=\"line2d_3\">\\n    <path d=\"M 219.24 9.18 \\nL 266.94 9.18 \\nM 279.54 0.18 \\nL 279.54 18.18 \\nM 279.54 9.18 \\nL 327.24 9.18 \\n\" clip-path=\"url(#pdc819100df)\" style=\"fill: none; stroke: #000000; stroke-width: 2; stroke-linecap: round\"/>\\n   </g>\\n   <g id=\"line2d_4\">\\n    <path d=\"M 3.24 9.18 \\nL 39.24 9.18 \\nL 42.24 0.18 \\nL 48.24 18.18 \\nL 54.24 0.18 \\nL 60.24 18.18 \\nL 66.24 0.18 \\nL 72.24 18.18 \\nL 75.24 9.18 \\nL 111.24 9.18 \\n\" clip-path=\"url(#pdc819100df)\" style=\"fill: none; stroke: #000000; stroke-width: 2; stroke-linecap: round\"/>\\n   </g>\\n   <g id=\"line2d_5\">\\n    <path d=\"M 111.24 9.18 \\nL 162 9.18 \\nM 162 0.18 \\nL 162 18.18 \\nM 168.48 0.18 \\nL 168.48 18.18 \\nM 168.48 9.18 \\nL 219.24 9.18 \\n\" clip-path=\"url(#pdc819100df)\" style=\"fill: none; stroke: #000000; stroke-width: 2; stroke-linecap: round\"/>\\n   </g>\\n   <g id=\"line2d_6\">\\n    <path d=\"M 219.24 9.18 \\nL 266.94 9.18 \\nM 279.54 0.18 \\nL 279.54 18.18 \\nM 279.54 9.18 \\nL 327.24 9.18 \\n\" clip-path=\"url(#pdc819100df)\" style=\"fill: none; stroke: #000000; stroke-width: 2; stroke-linecap: round\"/>\\n   </g>\\n   <g id=\"line2d_7\">\\n    <path d=\"M 3.24 9.18 \\nL 39.24 9.18 \\nL 42.24 0.18 \\nL 48.24 18.18 \\nL 54.24 0.18 \\nL 60.24 18.18 \\nL 66.24 0.18 \\nL 72.24 18.18 \\nL 75.24 9.18 \\nL 111.24 9.18 \\n\" clip-path=\"url(#pdc819100df)\" style=\"fill: none; stroke: #000000; stroke-width: 2; stroke-linecap: round\"/>\\n   </g>\\n   <g id=\"line2d_8\">\\n    <path d=\"M 111.24 9.18 \\nL 162 9.18 \\nM 162 0.18 \\nL 162 18.18 \\nM 168.48 0.18 \\nL 168.48 18.18 \\nM 168.48 9.18 \\nL 219.24 9.18 \\n\" clip-path=\"url(#pdc819100df)\" style=\"fill: none; stroke: #000000; stroke-width: 2; stroke-linecap: round\"/>\\n   </g>\\n   <g id=\"line2d_9\">\\n    <path d=\"M 219.24 9.18 \\nL 266.94 9.18 \\nM 279.54 0.18 \\nL 279.54 18.18 \\nM 279.54 9.18 \\nL 327.24 9.18 \\n\" clip-path=\"url(#pdc819100df)\" style=\"fill: none; stroke: #000000; stroke-width: 2; stroke-linecap: round\"/>\\n   </g>\\n  </g>\\n </g>\\n <defs>\\n  <clipPath id=\"pdc819100df\">\\n   <rect x=\"0\" y=\"0\" width=\"330.48\" height=\"18.36\"/>\\n  </clipPath>\\n </defs>\\n</svg>\\n'"
      ]
     },
     "execution_count": 10,
     "metadata": {},
     "output_type": "execute_result"
    }
   ],
   "source": [
    "# Matplotlib backend\n",
    "d.draw(canvas='matplotlib')\n",
    "d.get_imagedata('svg')"
   ]
  },
  {
   "cell_type": "code",
   "execution_count": 11,
   "id": "cfca9e73",
   "metadata": {},
   "outputs": [
    {
     "data": {
      "text/plain": [
       "b'<?xml version=\"1.0\" encoding=\"utf-8\" standalone=\"no\"?>\\n<!DOCTYPE svg PUBLIC \"-//W3C//DTD SVG 1.1//EN\"\\n  \"http://www.w3.org/Graphics/SVG/1.1/DTD/svg11.dtd\">\\n<svg xmlns:xlink=\"http://www.w3.org/1999/xlink\" width=\"330.48pt\" height=\"18.36pt\" viewBox=\"0 0 330.48 18.36\" xmlns=\"http://www.w3.org/2000/svg\" version=\"1.1\">\\n <metadata>\\n  <rdf:RDF xmlns:dc=\"http://purl.org/dc/elements/1.1/\" xmlns:cc=\"http://creativecommons.org/ns#\" xmlns:rdf=\"http://www.w3.org/1999/02/22-rdf-syntax-ns#\">\\n   <cc:Work>\\n    <dc:type rdf:resource=\"http://purl.org/dc/dcmitype/StillImage\"/>\\n    <dc:date>2023-05-30T19:55:54.175220</dc:date>\\n    <dc:format>image/svg+xml</dc:format>\\n    <dc:creator>\\n     <cc:Agent>\\n      <dc:title>Matplotlib v3.7.0, https://matplotlib.org/</dc:title>\\n     </cc:Agent>\\n    </dc:creator>\\n   </cc:Work>\\n  </rdf:RDF>\\n </metadata>\\n <defs>\\n  <style type=\"text/css\">*{stroke-linejoin: round; stroke-linecap: butt}</style>\\n </defs>\\n <g id=\"figure_1\">\\n  <g id=\"patch_1\">\\n   <path d=\"M 0 18.36 \\nL 330.48 18.36 \\nL 330.48 0 \\nL 0 0 \\nz\\n\" style=\"fill: #ffffff\"/>\\n  </g>\\n  <g id=\"axes_1\">\\n   <g id=\"patch_2\">\\n    <path d=\"M 266.94 0.18 \\nL 279.54 9.18 \\nL 266.94 18.18 \\nL 266.94 0.18 \\nz\\n\" clip-path=\"url(#p904db983f9)\" style=\"fill: none; stroke: #000000; stroke-width: 2; stroke-linecap: round\"/>\\n   </g>\\n   <g id=\"patch_3\">\\n    <path d=\"M 266.94 0.18 \\nL 279.54 9.18 \\nL 266.94 18.18 \\nL 266.94 0.18 \\nz\\n\" clip-path=\"url(#p904db983f9)\" style=\"fill: none; stroke: #000000; stroke-width: 2; stroke-linecap: round\"/>\\n   </g>\\n   <g id=\"patch_4\">\\n    <path d=\"M 266.94 0.18 \\nL 279.54 9.18 \\nL 266.94 18.18 \\nL 266.94 0.18 \\nz\\n\" clip-path=\"url(#p904db983f9)\" style=\"fill: none; stroke: #000000; stroke-width: 2; stroke-linecap: round\"/>\\n   </g>\\n   <g id=\"patch_5\">\\n    <path d=\"M 266.94 0.18 \\nL 279.54 9.18 \\nL 266.94 18.18 \\nL 266.94 0.18 \\nz\\n\" clip-path=\"url(#p904db983f9)\" style=\"fill: none; stroke: #000000; stroke-width: 2; stroke-linecap: round\"/>\\n   </g>\\n   <g id=\"line2d_1\">\\n    <path d=\"M 3.24 9.18 \\nL 39.24 9.18 \\nL 42.24 0.18 \\nL 48.24 18.18 \\nL 54.24 0.18 \\nL 60.24 18.18 \\nL 66.24 0.18 \\nL 72.24 18.18 \\nL 75.24 9.18 \\nL 111.24 9.18 \\n\" clip-path=\"url(#p904db983f9)\" style=\"fill: none; stroke: #000000; stroke-width: 2; stroke-linecap: round\"/>\\n   </g>\\n   <g id=\"line2d_2\">\\n    <path d=\"M 111.24 9.18 \\nL 162 9.18 \\nM 162 0.18 \\nL 162 18.18 \\nM 168.48 0.18 \\nL 168.48 18.18 \\nM 168.48 9.18 \\nL 219.24 9.18 \\n\" clip-path=\"url(#p904db983f9)\" style=\"fill: none; stroke: #000000; stroke-width: 2; stroke-linecap: round\"/>\\n   </g>\\n   <g id=\"line2d_3\">\\n    <path d=\"M 219.24 9.18 \\nL 266.94 9.18 \\nM 279.54 0.18 \\nL 279.54 18.18 \\nM 279.54 9.18 \\nL 327.24 9.18 \\n\" clip-path=\"url(#p904db983f9)\" style=\"fill: none; stroke: #000000; stroke-width: 2; stroke-linecap: round\"/>\\n   </g>\\n   <g id=\"line2d_4\">\\n    <path d=\"M 3.24 9.18 \\nL 39.24 9.18 \\nL 42.24 0.18 \\nL 48.24 18.18 \\nL 54.24 0.18 \\nL 60.24 18.18 \\nL 66.24 0.18 \\nL 72.24 18.18 \\nL 75.24 9.18 \\nL 111.24 9.18 \\n\" clip-path=\"url(#p904db983f9)\" style=\"fill: none; stroke: #000000; stroke-width: 2; stroke-linecap: round\"/>\\n   </g>\\n   <g id=\"line2d_5\">\\n    <path d=\"M 111.24 9.18 \\nL 162 9.18 \\nM 162 0.18 \\nL 162 18.18 \\nM 168.48 0.18 \\nL 168.48 18.18 \\nM 168.48 9.18 \\nL 219.24 9.18 \\n\" clip-path=\"url(#p904db983f9)\" style=\"fill: none; stroke: #000000; stroke-width: 2; stroke-linecap: round\"/>\\n   </g>\\n   <g id=\"line2d_6\">\\n    <path d=\"M 219.24 9.18 \\nL 266.94 9.18 \\nM 279.54 0.18 \\nL 279.54 18.18 \\nM 279.54 9.18 \\nL 327.24 9.18 \\n\" clip-path=\"url(#p904db983f9)\" style=\"fill: none; stroke: #000000; stroke-width: 2; stroke-linecap: round\"/>\\n   </g>\\n   <g id=\"line2d_7\">\\n    <path d=\"M 3.24 9.18 \\nL 39.24 9.18 \\nL 42.24 0.18 \\nL 48.24 18.18 \\nL 54.24 0.18 \\nL 60.24 18.18 \\nL 66.24 0.18 \\nL 72.24 18.18 \\nL 75.24 9.18 \\nL 111.24 9.18 \\n\" clip-path=\"url(#p904db983f9)\" style=\"fill: none; stroke: #000000; stroke-width: 2; stroke-linecap: round\"/>\\n   </g>\\n   <g id=\"line2d_8\">\\n    <path d=\"M 111.24 9.18 \\nL 162 9.18 \\nM 162 0.18 \\nL 162 18.18 \\nM 168.48 0.18 \\nL 168.48 18.18 \\nM 168.48 9.18 \\nL 219.24 9.18 \\n\" clip-path=\"url(#p904db983f9)\" style=\"fill: none; stroke: #000000; stroke-width: 2; stroke-linecap: round\"/>\\n   </g>\\n   <g id=\"line2d_9\">\\n    <path d=\"M 219.24 9.18 \\nL 266.94 9.18 \\nM 279.54 0.18 \\nL 279.54 18.18 \\nM 279.54 9.18 \\nL 327.24 9.18 \\n\" clip-path=\"url(#p904db983f9)\" style=\"fill: none; stroke: #000000; stroke-width: 2; stroke-linecap: round\"/>\\n   </g>\\n   <g id=\"line2d_10\">\\n    <path d=\"M 3.24 9.18 \\nL 39.24 9.18 \\nL 42.24 0.18 \\nL 48.24 18.18 \\nL 54.24 0.18 \\nL 60.24 18.18 \\nL 66.24 0.18 \\nL 72.24 18.18 \\nL 75.24 9.18 \\nL 111.24 9.18 \\n\" clip-path=\"url(#p904db983f9)\" style=\"fill: none; stroke: #000000; stroke-width: 2; stroke-linecap: round\"/>\\n   </g>\\n   <g id=\"line2d_11\">\\n    <path d=\"M 111.24 9.18 \\nL 162 9.18 \\nM 162 0.18 \\nL 162 18.18 \\nM 168.48 0.18 \\nL 168.48 18.18 \\nM 168.48 9.18 \\nL 219.24 9.18 \\n\" clip-path=\"url(#p904db983f9)\" style=\"fill: none; stroke: #000000; stroke-width: 2; stroke-linecap: round\"/>\\n   </g>\\n   <g id=\"line2d_12\">\\n    <path d=\"M 219.24 9.18 \\nL 266.94 9.18 \\nM 279.54 0.18 \\nL 279.54 18.18 \\nM 279.54 9.18 \\nL 327.24 9.18 \\n\" clip-path=\"url(#p904db983f9)\" style=\"fill: none; stroke: #000000; stroke-width: 2; stroke-linecap: round\"/>\\n   </g>\\n  </g>\\n </g>\\n <defs>\\n  <clipPath id=\"p904db983f9\">\\n   <rect x=\"0\" y=\"0\" width=\"330.48\" height=\"18.36\"/>\\n  </clipPath>\\n </defs>\\n</svg>\\n'"
      ]
     },
     "execution_count": 11,
     "metadata": {},
     "output_type": "execute_result"
    }
   ],
   "source": [
    "# SVG backend\n",
    "d.draw(canvas='svg')\n",
    "d.get_imagedata('svg')"
   ]
  },
  {
   "cell_type": "code",
   "execution_count": 12,
   "id": "4cdf72b5",
   "metadata": {},
   "outputs": [],
   "source": [
    "schemdraw.svgconfig.text = 'path'  # use ziamath"
   ]
  },
  {
   "cell_type": "code",
   "execution_count": 13,
   "id": "96c01c22",
   "metadata": {},
   "outputs": [
    {
     "data": {
      "image/png": "[encoded data removed]",
      "image/svg+xml": [
       "<?xml version=\"1.0\" encoding=\"utf-8\" standalone=\"no\"?>\n",
       "<!DOCTYPE svg PUBLIC \"-//W3C//DTD SVG 1.1//EN\"\n",
       "  \"http://www.w3.org/Graphics/SVG/1.1/DTD/svg11.dtd\">\n",
       "<svg xmlns:xlink=\"http://www.w3.org/1999/xlink\" width=\"110.16pt\" height=\"39.684531pt\" viewBox=\"0 0 110.16 39.684531\" xmlns=\"http://www.w3.org/2000/svg\" version=\"1.1\">\n",
       " <metadata>\n",
       "  <rdf:RDF xmlns:dc=\"http://purl.org/dc/elements/1.1/\" xmlns:cc=\"http://creativecommons.org/ns#\" xmlns:rdf=\"http://www.w3.org/1999/02/22-rdf-syntax-ns#\">\n",
       "   <cc:Work>\n",
       "    <dc:type rdf:resource=\"http://purl.org/dc/dcmitype/StillImage\"/>\n",
       "    <dc:date>2023-05-30T19:55:54.451581</dc:date>\n",
       "    <dc:format>image/svg+xml</dc:format>\n",
       "    <dc:creator>\n",
       "     <cc:Agent>\n",
       "      <dc:title>Matplotlib v3.7.0, https://matplotlib.org/</dc:title>\n",
       "     </cc:Agent>\n",
       "    </dc:creator>\n",
       "   </cc:Work>\n",
       "  </rdf:RDF>\n",
       " </metadata>\n",
       " <defs>\n",
       "  <style type=\"text/css\">*{stroke-linejoin: round; stroke-linecap: butt}</style>\n",
       " </defs>\n",
       " <g id=\"figure_1\">\n",
       "  <g id=\"patch_1\">\n",
       "   <path d=\"M 0 39.684531 \n",
       "L 110.16 39.684531 \n",
       "L 110.16 0 \n",
       "L 0 0 \n",
       "z\n",
       "\" style=\"fill: #ffffff\"/>\n",
       "  </g>\n",
       "  <g id=\"axes_1\">\n",
       "   <g id=\"line2d_1\">\n",
       "    <path d=\"M 1.08 30.504531 \n",
       "L 37.08 30.504531 \n",
       "L 40.08 21.504531 \n",
       "L 46.08 39.504531 \n",
       "L 52.08 21.504531 \n",
       "L 58.08 39.504531 \n",
       "L 64.08 21.504531 \n",
       "L 70.08 39.504531 \n",
       "L 73.08 30.504531 \n",
       "L 109.08 30.504531 \n",
       "\" clip-path=\"url(#pdd3819b0bb)\" style=\"fill: none; stroke: #000000; stroke-width: 2; stroke-linecap: round\"/>\n",
       "   </g>\n",
       "   <g id=\"text_1\">\n",
       "    <!-- Hello -->\n",
       "    <g transform=\"translate(30.052969 14.057109) scale(0.185 -0.185)\">\n",
       "     <defs>\n",
       "      <path id=\"DejaVuSerif-48\" d=\"M 353 0 \n",
       "L 353 331 \n",
       "L 947 331 \n",
       "L 947 4331 \n",
       "L 353 4331 \n",
       "L 353 4666 \n",
       "L 2175 4666 \n",
       "L 2175 4331 \n",
       "L 1581 4331 \n",
       "L 1581 2719 \n",
       "L 4000 2719 \n",
       "L 4000 4331 \n",
       "L 3406 4331 \n",
       "L 3406 4666 \n",
       "L 5228 4666 \n",
       "L 5228 4331 \n",
       "L 4634 4331 \n",
       "L 4634 331 \n",
       "L 5228 331 \n",
       "L 5228 0 \n",
       "L 3406 0 \n",
       "L 3406 331 \n",
       "L 4000 331 \n",
       "L 4000 2338 \n",
       "L 1581 2338 \n",
       "L 1581 331 \n",
       "L 2175 331 \n",
       "L 2175 0 \n",
       "L 353 0 \n",
       "z\n",
       "\" transform=\"scale(0.015625)\"/>\n",
       "      <path id=\"DejaVuSerif-65\" d=\"M 3469 1600 \n",
       "L 991 1600 \n",
       "L 991 1575 \n",
       "Q 991 903 1244 561 \n",
       "Q 1497 219 1991 219 \n",
       "Q 2369 219 2611 417 \n",
       "Q 2853 616 2950 1006 \n",
       "L 3413 1006 \n",
       "Q 3275 459 2904 184 \n",
       "Q 2534 -91 1931 -91 \n",
       "Q 1203 -91 761 389 \n",
       "Q 319 869 319 1663 \n",
       "Q 319 2450 753 2931 \n",
       "Q 1188 3413 1894 3413 \n",
       "Q 2647 3413 3050 2948 \n",
       "Q 3453 2484 3469 1600 \n",
       "z\n",
       "M 2791 1931 \n",
       "Q 2772 2513 2545 2808 \n",
       "Q 2319 3103 1894 3103 \n",
       "Q 1497 3103 1269 2806 \n",
       "Q 1041 2509 991 1931 \n",
       "L 2791 1931 \n",
       "z\n",
       "\" transform=\"scale(0.015625)\"/>\n",
       "      <path id=\"DejaVuSerif-6c\" d=\"M 1313 331 \n",
       "L 1856 331 \n",
       "L 1856 0 \n",
       "L 184 0 \n",
       "L 184 331 \n",
       "L 738 331 \n",
       "L 738 4531 \n",
       "L 184 4531 \n",
       "L 184 4863 \n",
       "L 1313 4863 \n",
       "L 1313 331 \n",
       "z\n",
       "\" transform=\"scale(0.015625)\"/>\n",
       "      <path id=\"DejaVuSerif-6f\" d=\"M 1925 219 \n",
       "Q 2388 219 2623 584 \n",
       "Q 2859 950 2859 1663 \n",
       "Q 2859 2375 2623 2739 \n",
       "Q 2388 3103 1925 3103 \n",
       "Q 1463 3103 1227 2739 \n",
       "Q 991 2375 991 1663 \n",
       "Q 991 950 1228 584 \n",
       "Q 1466 219 1925 219 \n",
       "z\n",
       "M 1925 -91 \n",
       "Q 1200 -91 759 389 \n",
       "Q 319 869 319 1663 \n",
       "Q 319 2456 758 2934 \n",
       "Q 1197 3413 1925 3413 \n",
       "Q 2653 3413 3092 2934 \n",
       "Q 3531 2456 3531 1663 \n",
       "Q 3531 869 3092 389 \n",
       "Q 2653 -91 1925 -91 \n",
       "z\n",
       "\" transform=\"scale(0.015625)\"/>\n",
       "     </defs>\n",
       "     <use xlink:href=\"#DejaVuSerif-48\"/>\n",
       "     <use xlink:href=\"#DejaVuSerif-65\" x=\"87.207031\"/>\n",
       "     <use xlink:href=\"#DejaVuSerif-6c\" x=\"146.386719\"/>\n",
       "     <use xlink:href=\"#DejaVuSerif-6c\" x=\"178.369141\"/>\n",
       "     <use xlink:href=\"#DejaVuSerif-6f\" x=\"210.351562\"/>\n",
       "    </g>\n",
       "   </g>\n",
       "  </g>\n",
       " </g>\n",
       " <defs>\n",
       "  <clipPath id=\"pdd3819b0bb\">\n",
       "   <rect x=\"0\" y=\"21.324531\" width=\"110.16\" height=\"18.36\"/>\n",
       "  </clipPath>\n",
       " </defs>\n",
       "</svg>\n"
      ],
      "text/plain": [
       "<schemdraw.backends.mpl.Figure object at 0x7834bbfd99f0>"
      ]
     },
     "execution_count": 13,
     "metadata": {},
     "output_type": "execute_result"
    }
   ],
   "source": [
    "d = schemdraw.Drawing(font='serif', fontsize=20)\n",
    "d += elm.Resistor().label('Hello')\n",
    "d.draw(canvas='matplotlib')"
   ]
  },
  {
   "cell_type": "code",
   "execution_count": 14,
   "id": "5764c299",
   "metadata": {},
   "outputs": [
    {
     "data": {
      "image/svg+xml": [
       "<svg xmlns=\"http://www.w3.org/2000/svg\" xml:lang=\"en\" height=\"50.193760000000005pt\" width=\"103.14399999999998pt\" viewBox=\"-2.972 -39.64088 103.14399999999998 50.193760000000005\"><path d=\"M 0.0,-0.0 L 32.4,-0.0 L 35.099999999999994,-8.1 L 40.5,8.1 L 45.89999999999999,-8.1 L 51.3,8.1 L 56.699999999999996,-8.1 L 62.099999999999994,8.1 L 64.8,-0.0 L 97.19999999999999,-0.0\" style=\"stroke:black;fill:none;stroke-width:2.0;stroke-linecap:round;stroke-linejoin:round;\" /><g><g><g><symbol id=\"STIXTwoMathRegular_10\" width=\"9.072\" height=\"51.216\" viewBox=\"0 -31.524 9.072 51.216\"><path d=\"M 2.868 -6.3 L 2.868 -6.3 L 2.868 -4.284 L 6.804 -4.284 L 6.804 -6.3 Q 6.804 -6.768 6.744 -7.038 Q 6.684 -7.308 6.438 -7.416 Q 6.192 -7.524 5.64 -7.524 L 5.64 -7.884 L 9.072 -7.884 L 9.072 -7.524 Q 8.508 -7.524 8.256 -7.416 Q 8.004 -7.308 7.95 -7.044 Q 7.896 -6.78 7.896 -6.3 L 7.896 -1.572 Q 7.896 -1.056 7.962 -0.792 Q 8.028 -0.528 8.28 -0.444 Q 8.532 -0.36 9.072 -0.36 L 9.072 0 L 5.64 0 L 5.64 -0.36 Q 6.18 -0.36 6.426 -0.444 Q 6.672 -0.528 6.738 -0.792 Q 6.804 -1.056 6.804 -1.572 L 6.804 -3.816 L 2.868 -3.816 L 2.868 -1.572 Q 2.868 -1.044 2.934 -0.786 Q 3 -0.528 3.252 -0.444 Q 3.504 -0.36 4.044 -0.36 L 4.044 0 L 0.6 0 L 0.6 -0.36 Q 1.14 -0.36 1.386 -0.438 Q 1.632 -0.516 1.698 -0.78 Q 1.764 -1.044 1.764 -1.572 L 1.764 -6.3 Q 1.764 -6.768 1.704 -7.038 Q 1.644 -7.308 1.398 -7.416 Q 1.152 -7.524 0.6 -7.524 L 0.6 -7.884 L 4.044 -7.884 L 4.044 -7.524 Q 3.48 -7.524 3.228 -7.416 Q 2.976 -7.308 2.922 -7.038 Q 2.868 -6.768 2.868 -6.3 Z \" /></symbol><use href=\"#STIXTwoMathRegular_10\" transform=\"translate(25.89 -67.08) scale(1.667)\" fill=\"black\" /><symbol id=\"STIXTwoMathRegular_259\" width=\"5.208\" height=\"51.216\" viewBox=\"0 -31.524 5.208 51.216\"><path d=\"M 4.98 -1.716 L 4.98 -1.716 L 5.208 -1.548 Q 4.992 -1.092 4.704 -0.714 Q 4.416 -0.336 4.002 -0.108 Q 3.588 0.12 2.964 0.12 Q 2.244 0.12 1.662 -0.222 Q 1.08 -0.564 0.744 -1.23 Q 0.408 -1.896 0.408 -2.856 Q 0.408 -3.864 0.75 -4.518 Q 1.092 -5.172 1.668 -5.496 Q 2.244 -5.82 2.94 -5.82 Q 3.924 -5.82 4.524 -5.136 Q 5.124 -4.452 5.172 -3.192 L 1.38 -3.192 Q 1.38 -2.364 1.65 -1.83 Q 1.92 -1.296 2.346 -1.038 Q 2.772 -0.78 3.252 -0.78 Q 3.744 -0.78 4.05 -0.912 Q 4.356 -1.044 4.572 -1.254 Q 4.788 -1.464 4.98 -1.716 Z M 1.368 -3.636 L 1.368 -3.636 L 4.044 -3.636 Q 4.032 -4.08 3.888 -4.47 Q 3.744 -4.86 3.468 -5.1 Q 3.192 -5.34 2.76 -5.34 Q 1.512 -5.34 1.368 -3.636 Z \" /></symbol><use href=\"#STIXTwoMathRegular_259\" transform=\"translate(41.43 -67.08) scale(1.667)\" fill=\"black\" /><symbol id=\"STIXTwoMathRegular_267\" width=\"3.12\" height=\"51.216\" viewBox=\"0 -31.524 3.12 51.216\"><path d=\"M 3.12 -0.348 L 3.12 -0.348 L 3.12 0 L 0.36 0 L 0.36 -0.348 Q 0.756 -0.348 0.936 -0.426 Q 1.116 -0.504 1.158 -0.69 Q 1.2 -0.876 1.2 -1.212 L 1.2 -7.236 Q 1.2 -7.608 1.062 -7.68 Q 0.924 -7.752 0.696 -7.752 Q 0.54 -7.752 0.426 -7.74 Q 0.312 -7.728 0.312 -7.728 L 0.312 -8.052 L 1.896 -8.472 L 2.196 -8.472 L 2.196 -1.212 Q 2.196 -0.864 2.25 -0.678 Q 2.304 -0.492 2.496 -0.42 Q 2.688 -0.348 3.12 -0.348 Z \" /></symbol><use href=\"#STIXTwoMathRegular_267\" transform=\"translate(50.71 -67.08) scale(1.667)\" fill=\"black\" /><use href=\"#STIXTwoMathRegular_267\" transform=\"translate(56.37 -67.08) scale(1.667)\" fill=\"black\" /><symbol id=\"STIXTwoMathRegular_270\" width=\"5.76\" height=\"51.216\" viewBox=\"0 -31.524 5.76 51.216\"><path d=\"M 3.096 -5.82 L 3.096 -5.82 Q 4.332 -5.82 5.046 -5.052 Q 5.76 -4.284 5.76 -2.952 Q 5.76 -1.944 5.418 -1.26 Q 5.076 -0.576 4.476 -0.228 Q 3.876 0.12 3.096 0.12 Q 1.836 0.12 1.122 -0.666 Q 0.408 -1.452 0.408 -2.904 Q 0.408 -3.78 0.744 -4.434 Q 1.08 -5.088 1.686 -5.454 Q 2.292 -5.82 3.096 -5.82 Z M 3.048 -5.364 L 3.048 -5.364 Q 2.364 -5.364 1.944 -4.788 Q 1.524 -4.212 1.524 -3.06 Q 1.524 -1.632 1.95 -0.99 Q 2.376 -0.348 3.144 -0.36 Q 3.636 -0.36 3.972 -0.588 Q 4.308 -0.816 4.482 -1.368 Q 4.656 -1.92 4.656 -2.892 Q 4.656 -3.996 4.254 -4.68 Q 3.852 -5.364 3.048 -5.364 Z \" /></symbol><use href=\"#STIXTwoMathRegular_270\" transform=\"translate(62.03 -67.08) scale(1.667)\" fill=\"black\" /></g></g></g></svg>"
      ],
      "text/plain": [
       "<svg xmlns=\"http://www.w3.org/2000/svg\" xml:lang=\"en\" height=\"50.193760000000005pt\" width=\"103.14399999999998pt\" viewBox=\"-2.972 -39.64088 103.14399999999998 50.193760000000005\"><path d=\"M 0.0,-0.0 L 32.4,-0.0 L 35.099999999999994,-8.1 L 40.5,8.1 L 45.89999999999999,-8.1 L 51.3,8.1 L 56.699999999999996,-8.1 L 62.099999999999994,8.1 L 64.8,-0.0 L 97.19999999999999,-0.0\" style=\"stroke:black;fill:none;stroke-width:2.0;stroke-linecap:round;stroke-linejoin:round;\" /><g><g><g><symbol id=\"STIXTwoMathRegular_10\" width=\"9.072\" height=\"51.216\" viewBox=\"0 -31.524 9.072 51.216\"><path d=\"M 2.868 -6.3 L 2.868 -6.3 L 2.868 -4.284 L 6.804 -4.284 L 6.804 -6.3 Q 6.804 -6.768 6.744 -7.038 Q 6.684 -7.308 6.438 -7.416 Q 6.192 -7.524 5.64 -7.524 L 5.64 -7.884 L 9.072 -7.884 L 9.072 -7.524 Q 8.508 -7.524 8.256 -7.416 Q 8.004 -7.308 7.95 -7.044 Q 7.896 -6.78 7.896 -6.3 L 7.896 -1.572 Q 7.896 -1.056 7.962 -0.792 Q 8.028 -0.528 8.28 -0.444 Q 8.532 -0.36 9.072 -0.36 L 9.072 0 L 5.64 0 L 5.64 -0.36 Q 6.18 -0.36 6.426 -0.444 Q 6.672 -0.528 6.738 -0.792 Q 6.804 -1.056 6.804 -1.572 L 6.804 -3.816 L 2.868 -3.816 L 2.868 -1.572 Q 2.868 -1.044 2.934 -0.786 Q 3 -0.528 3.252 -0.444 Q 3.504 -0.36 4.044 -0.36 L 4.044 0 L 0.6 0 L 0.6 -0.36 Q 1.14 -0.36 1.386 -0.438 Q 1.632 -0.516 1.698 -0.78 Q 1.764 -1.044 1.764 -1.572 L 1.764 -6.3 Q 1.764 -6.768 1.704 -7.038 Q 1.644 -7.308 1.398 -7.416 Q 1.152 -7.524 0.6 -7.524 L 0.6 -7.884 L 4.044 -7.884 L 4.044 -7.524 Q 3.48 -7.524 3.228 -7.416 Q 2.976 -7.308 2.922 -7.038 Q 2.868 -6.768 2.868 -6.3 Z \" /></symbol><use href=\"#STIXTwoMathRegular_10\" transform=\"translate(25.89 -67.08) scale(1.667)\" fill=\"black\" /><symbol id=\"STIXTwoMathRegular_259\" width=\"5.208\" height=\"51.216\" viewBox=\"0 -31.524 5.208 51.216\"><path d=\"M 4.98 -1.716 L 4.98 -1.716 L 5.208 -1.548 Q 4.992 -1.092 4.704 -0.714 Q 4.416 -0.336 4.002 -0.108 Q 3.588 0.12 2.964 0.12 Q 2.244 0.12 1.662 -0.222 Q 1.08 -0.564 0.744 -1.23 Q 0.408 -1.896 0.408 -2.856 Q 0.408 -3.864 0.75 -4.518 Q 1.092 -5.172 1.668 -5.496 Q 2.244 -5.82 2.94 -5.82 Q 3.924 -5.82 4.524 -5.136 Q 5.124 -4.452 5.172 -3.192 L 1.38 -3.192 Q 1.38 -2.364 1.65 -1.83 Q 1.92 -1.296 2.346 -1.038 Q 2.772 -0.78 3.252 -0.78 Q 3.744 -0.78 4.05 -0.912 Q 4.356 -1.044 4.572 -1.254 Q 4.788 -1.464 4.98 -1.716 Z M 1.368 -3.636 L 1.368 -3.636 L 4.044 -3.636 Q 4.032 -4.08 3.888 -4.47 Q 3.744 -4.86 3.468 -5.1 Q 3.192 -5.34 2.76 -5.34 Q 1.512 -5.34 1.368 -3.636 Z \" /></symbol><use href=\"#STIXTwoMathRegular_259\" transform=\"translate(41.43 -67.08) scale(1.667)\" fill=\"black\" /><symbol id=\"STIXTwoMathRegular_267\" width=\"3.12\" height=\"51.216\" viewBox=\"0 -31.524 3.12 51.216\"><path d=\"M 3.12 -0.348 L 3.12 -0.348 L 3.12 0 L 0.36 0 L 0.36 -0.348 Q 0.756 -0.348 0.936 -0.426 Q 1.116 -0.504 1.158 -0.69 Q 1.2 -0.876 1.2 -1.212 L 1.2 -7.236 Q 1.2 -7.608 1.062 -7.68 Q 0.924 -7.752 0.696 -7.752 Q 0.54 -7.752 0.426 -7.74 Q 0.312 -7.728 0.312 -7.728 L 0.312 -8.052 L 1.896 -8.472 L 2.196 -8.472 L 2.196 -1.212 Q 2.196 -0.864 2.25 -0.678 Q 2.304 -0.492 2.496 -0.42 Q 2.688 -0.348 3.12 -0.348 Z \" /></symbol><use href=\"#STIXTwoMathRegular_267\" transform=\"translate(50.71 -67.08) scale(1.667)\" fill=\"black\" /><use href=\"#STIXTwoMathRegular_267\" transform=\"translate(56.37 -67.08) scale(1.667)\" fill=\"black\" /><symbol id=\"STIXTwoMathRegular_270\" width=\"5.76\" height=\"51.216\" viewBox=\"0 -31.524 5.76 51.216\"><path d=\"M 3.096 -5.82 L 3.096 -5.82 Q 4.332 -5.82 5.046 -5.052 Q 5.76 -4.284 5.76 -2.952 Q 5.76 -1.944 5.418 -1.26 Q 5.076 -0.576 4.476 -0.228 Q 3.876 0.12 3.096 0.12 Q 1.836 0.12 1.122 -0.666 Q 0.408 -1.452 0.408 -2.904 Q 0.408 -3.78 0.744 -4.434 Q 1.08 -5.088 1.686 -5.454 Q 2.292 -5.82 3.096 -5.82 Z M 3.048 -5.364 L 3.048 -5.364 Q 2.364 -5.364 1.944 -4.788 Q 1.524 -4.212 1.524 -3.06 Q 1.524 -1.632 1.95 -0.99 Q 2.376 -0.348 3.144 -0.36 Q 3.636 -0.36 3.972 -0.588 Q 4.308 -0.816 4.482 -1.368 Q 4.656 -1.92 4.656 -2.892 Q 4.656 -3.996 4.254 -4.68 Q 3.852 -5.364 3.048 -5.364 Z \" /></symbol><use href=\"#STIXTwoMathRegular_270\" transform=\"translate(62.03 -67.08) scale(1.667)\" fill=\"black\" /></g></g></g></svg>"
      ]
     },
     "execution_count": 14,
     "metadata": {},
     "output_type": "execute_result"
    }
   ],
   "source": [
    "d = schemdraw.Drawing(font='serif', fontsize=20)\n",
    "d += elm.Resistor().label('Hello')\n",
    "d.draw(canvas='svg')"
   ]
  },
  {
   "cell_type": "code",
   "execution_count": 15,
   "id": "4fddb4ef",
   "metadata": {},
   "outputs": [],
   "source": [
    "d.save('savetest.svg')"
   ]
  },
  {
   "cell_type": "code",
   "execution_count": null,
   "id": "2869515f",
   "metadata": {},
   "outputs": [],
   "source": []
  },
  {
   "cell_type": "code",
   "execution_count": 16,
   "id": "e44fce8c",
   "metadata": {},
   "outputs": [],
   "source": [
    "schemdraw.svgconfig.text = 'path'\n",
    "d = schemdraw.Drawing(font='serif', fontsize=20)\n",
    "d += elm.Resistor().label(r'$x^2$', valign='bottom')\n",
    "d.draw(canvas='svg')\n",
    "assert '<symbol' in d.get_imagedata('svg').decode()"
   ]
  },
  {
   "cell_type": "code",
   "execution_count": 17,
   "id": "ad6bdb8c",
   "metadata": {},
   "outputs": [],
   "source": [
    "schemdraw.svgconfig.svg2 = False   # use ziamath with SVG1.x\n",
    "d = schemdraw.Drawing(font='serif', fontsize=20)\n",
    "d += elm.Resistor().label(r'$x^2$', valign='bottom')\n",
    "d.draw(canvas='svg')\n",
    "d.get_imagedata('svg').decode()\n",
    "assert '<symbol' not in d.get_imagedata('svg').decode()"
   ]
  },
  {
   "cell_type": "code",
   "execution_count": 18,
   "id": "4f7a20a8",
   "metadata": {},
   "outputs": [],
   "source": [
    "schemdraw.svgconfig.text = 'text'   # use <text>\n",
    "d = schemdraw.Drawing(font='serif', fontsize=20)\n",
    "d += elm.Resistor().label(r'$x^2$', valign='bottom')\n",
    "d.draw(canvas='svg')\n",
    "assert '<text' in d.get_imagedata('svg').decode()"
   ]
  },
  {
   "cell_type": "code",
   "execution_count": null,
   "id": "26e1c624-365d-45e4-830b-6f9e87f81e1e",
   "metadata": {},
   "outputs": [],
   "source": []
  },
  {
   "cell_type": "code",
   "execution_count": 19,
   "id": "28267d40",
   "metadata": {},
   "outputs": [],
   "source": [
    "schemdraw.svgconfig.text = 'path'\n",
    "schemdraw.svgconfig.svg2 = True"
   ]
  },
  {
   "cell_type": "code",
   "execution_count": null,
   "id": "874e5110",
   "metadata": {},
   "outputs": [],
   "source": []
  },
  {
   "cell_type": "code",
   "execution_count": 20,
   "id": "4d6c2d77",
   "metadata": {},
   "outputs": [],
   "source": [
    "# Draw on matplotlib axis, or specify existing axis\n",
    "import matplotlib.pyplot as plt"
   ]
  },
  {
   "cell_type": "code",
   "execution_count": 21,
   "id": "782d3764",
   "metadata": {},
   "outputs": [
    {
     "data": {
      "image/png": "[encoded data removed]",
      "image/svg+xml": [
       "<?xml version=\"1.0\" encoding=\"utf-8\" standalone=\"no\"?>\n",
       "<!DOCTYPE svg PUBLIC \"-//W3C//DTD SVG 1.1//EN\"\n",
       "  \"http://www.w3.org/Graphics/SVG/1.1/DTD/svg11.dtd\">\n",
       "<svg xmlns:xlink=\"http://www.w3.org/1999/xlink\" width=\"110.16pt\" height=\"18.36pt\" viewBox=\"0 0 110.16 18.36\" xmlns=\"http://www.w3.org/2000/svg\" version=\"1.1\">\n",
       " <metadata>\n",
       "  <rdf:RDF xmlns:dc=\"http://purl.org/dc/elements/1.1/\" xmlns:cc=\"http://creativecommons.org/ns#\" xmlns:rdf=\"http://www.w3.org/1999/02/22-rdf-syntax-ns#\">\n",
       "   <cc:Work>\n",
       "    <dc:type rdf:resource=\"http://purl.org/dc/dcmitype/StillImage\"/>\n",
       "    <dc:date>2023-05-30T19:55:55.562593</dc:date>\n",
       "    <dc:format>image/svg+xml</dc:format>\n",
       "    <dc:creator>\n",
       "     <cc:Agent>\n",
       "      <dc:title>Matplotlib v3.7.0, https://matplotlib.org/</dc:title>\n",
       "     </cc:Agent>\n",
       "    </dc:creator>\n",
       "   </cc:Work>\n",
       "  </rdf:RDF>\n",
       " </metadata>\n",
       " <defs>\n",
       "  <style type=\"text/css\">*{stroke-linejoin: round; stroke-linecap: butt}</style>\n",
       " </defs>\n",
       " <g id=\"figure_1\">\n",
       "  <g id=\"patch_1\">\n",
       "   <path d=\"M 0 18.36 \n",
       "L 110.16 18.36 \n",
       "L 110.16 0 \n",
       "L 0 0 \n",
       "z\n",
       "\" style=\"fill: #ffffff\"/>\n",
       "  </g>\n",
       "  <g id=\"axes_1\">\n",
       "   <g id=\"line2d_1\">\n",
       "    <path d=\"M 1.08 9.18 \n",
       "L 37.08 9.18 \n",
       "L 40.08 0.18 \n",
       "L 46.08 18.18 \n",
       "L 52.08 0.18 \n",
       "L 58.08 18.18 \n",
       "L 64.08 0.18 \n",
       "L 70.08 18.18 \n",
       "L 73.08 9.18 \n",
       "L 109.08 9.18 \n",
       "\" clip-path=\"url(#p8b18239e80)\" style=\"fill: none; stroke: #000000; stroke-width: 2; stroke-linecap: round\"/>\n",
       "   </g>\n",
       "   <g id=\"line2d_2\">\n",
       "    <path d=\"M 19.08 18.36 \n",
       "L 19.08 0 \n",
       "\" clip-path=\"url(#p8b18239e80)\" style=\"fill: none; stroke-dasharray: 5.55,2.4; stroke-dashoffset: 0; stroke: #800080; stroke-width: 1.5\"/>\n",
       "   </g>\n",
       "   <g id=\"line2d_3\">\n",
       "    <path d=\"M 91.08 18.36 \n",
       "L 91.08 0 \n",
       "\" clip-path=\"url(#p8b18239e80)\" style=\"fill: none; stroke: #ffa500; stroke-width: 3; stroke-linecap: square\"/>\n",
       "   </g>\n",
       "  </g>\n",
       " </g>\n",
       " <defs>\n",
       "  <clipPath id=\"p8b18239e80\">\n",
       "   <rect x=\"0\" y=\"0\" width=\"110.16\" height=\"18.36\"/>\n",
       "  </clipPath>\n",
       " </defs>\n",
       "</svg>\n"
      ],
      "text/plain": [
       "<schemdraw.backends.mpl.Figure object at 0x7834bc082dd0>"
      ]
     },
     "metadata": {},
     "output_type": "display_data"
    }
   ],
   "source": [
    "schemdraw.use('matplotlib')\n",
    "d = schemdraw.Drawing()\n",
    "d.add(elm.Resistor())\n",
    "schemfig = d.draw()\n",
    "schemfig.ax.axvline(.5, color='purple', ls='--')\n",
    "schemfig.ax.axvline(2.5, color='orange', ls='-', lw=3);\n",
    "display(schemfig)"
   ]
  },
  {
   "cell_type": "code",
   "execution_count": 22,
   "id": "842379a0",
   "metadata": {},
   "outputs": [
    {
     "data": {
      "image/png": "[encoded data removed]",
      "text/plain": [
       "<Figure size 640x480 with 1 Axes>"
      ]
     },
     "metadata": {},
     "output_type": "display_data"
    }
   ],
   "source": [
    "fig, ax = plt.subplots()\n",
    "ax.set_aspect('equal')\n",
    "d = schemdraw.Drawing()\n",
    "d += elm.Inductor()\n",
    "d.draw(canvas=ax)\n",
    "ax.axvline(0, ls='--', color='red');"
   ]
  },
  {
   "cell_type": "code",
   "execution_count": 23,
   "id": "f9ca19c3",
   "metadata": {},
   "outputs": [
    {
     "data": {
      "image/png": "[encoded data removed]",
      "image/svg+xml": [
       "<?xml version=\"1.0\" encoding=\"utf-8\" standalone=\"no\"?>\n",
       "<!DOCTYPE svg PUBLIC \"-//W3C//DTD SVG 1.1//EN\"\n",
       "  \"http://www.w3.org/Graphics/SVG/1.1/DTD/svg11.dtd\">\n",
       "<svg xmlns:xlink=\"http://www.w3.org/1999/xlink\" width=\"110.16pt\" height=\"18.350567pt\" viewBox=\"0 0 110.16 18.350567\" xmlns=\"http://www.w3.org/2000/svg\" version=\"1.1\">\n",
       " <metadata>\n",
       "  <rdf:RDF xmlns:dc=\"http://purl.org/dc/elements/1.1/\" xmlns:cc=\"http://creativecommons.org/ns#\" xmlns:rdf=\"http://www.w3.org/1999/02/22-rdf-syntax-ns#\">\n",
       "   <cc:Work>\n",
       "    <dc:type rdf:resource=\"http://purl.org/dc/dcmitype/StillImage\"/>\n",
       "    <dc:date>2023-05-30T19:55:56.468441</dc:date>\n",
       "    <dc:format>image/svg+xml</dc:format>\n",
       "    <dc:creator>\n",
       "     <cc:Agent>\n",
       "      <dc:title>Matplotlib v3.7.0, https://matplotlib.org/</dc:title>\n",
       "     </cc:Agent>\n",
       "    </dc:creator>\n",
       "   </cc:Work>\n",
       "  </rdf:RDF>\n",
       " </metadata>\n",
       " <defs>\n",
       "  <style type=\"text/css\">*{stroke-linejoin: round; stroke-linecap: butt}</style>\n",
       " </defs>\n",
       " <g id=\"figure_1\">\n",
       "  <g id=\"patch_1\">\n",
       "   <path d=\"M 0 18.350567 \n",
       "L 110.16 18.350567 \n",
       "L 110.16 0 \n",
       "L 0 0 \n",
       "z\n",
       "\"/>\n",
       "  </g>\n",
       "  <g id=\"axes_1\">\n",
       "   <g id=\"line2d_1\">\n",
       "    <path d=\"M 1.08 9.175283 \n",
       "L 39.24 9.175283 \n",
       "L 39.886531 8.024389 \n",
       "L 40.533061 6.892392 \n",
       "L 41.179592 5.79788 \n",
       "L 41.826122 4.758825 \n",
       "L 42.472653 3.792289 \n",
       "L 43.119184 2.914141 \n",
       "L 43.765714 2.1388 \n",
       "L 44.412245 1.478999 \n",
       "L 45.058776 0.94557 \n",
       "L 45.705306 0.547273 \n",
       "L 46.351837 0.290647 \n",
       "L 46.998367 0.179908 \n",
       "L 47.644898 0.216871 \n",
       "L 48.291429 0.400932 \n",
       "L 48.937959 0.729068 \n",
       "L 49.58449 1.19589 \n",
       "L 50.23102 1.793733 \n",
       "L 50.877551 2.512781 \n",
       "L 51.524082 3.341228 \n",
       "L 52.170612 4.265469 \n",
       "L 52.817143 5.27033 \n",
       "L 53.463673 6.33931 \n",
       "L 54.110204 7.454856 \n",
       "L 54.756735 8.598651 \n",
       "L 55.403265 9.751915 \n",
       "L 56.049796 10.895711 \n",
       "L 56.696327 12.011257 \n",
       "L 57.342857 13.080237 \n",
       "L 57.989388 14.085098 \n",
       "L 58.635918 15.009339 \n",
       "L 59.282449 15.837785 \n",
       "L 59.92898 16.556834 \n",
       "L 60.57551 17.154677 \n",
       "L 61.222041 17.621499 \n",
       "L 61.868571 17.949635 \n",
       "L 62.515102 18.133695 \n",
       "L 63.161633 18.170659 \n",
       "L 63.808163 18.05992 \n",
       "L 64.454694 17.803294 \n",
       "L 65.101224 17.404997 \n",
       "L 65.747755 16.871568 \n",
       "L 66.394286 16.211767 \n",
       "L 67.040816 15.436426 \n",
       "L 67.687347 14.558278 \n",
       "L 68.333878 13.591741 \n",
       "L 68.980408 12.552687 \n",
       "L 69.626939 11.458175 \n",
       "L 70.273469 10.326178 \n",
       "L 70.92 9.175283 \n",
       "L 109.08 9.175283 \n",
       "\" clip-path=\"url(#p775320cb12)\" style=\"fill: none; stroke: #ffffff; stroke-width: 2; stroke-linecap: round\"/>\n",
       "   </g>\n",
       "   <g id=\"line2d_2\">\n",
       "    <path d=\"M 30.6 9.175283 \n",
       "M 79.56 9.175283 \n",
       "\" clip-path=\"url(#p775320cb12)\" style=\"fill: none; stroke: #ffffff; stroke-width: 2; stroke-linecap: round\"/>\n",
       "   </g>\n",
       "   <g id=\"patch_2\">\n",
       "    <path d=\"M 34.92 13.495283 \n",
       "C 36.065677 13.495283 37.164585 13.040101 37.974701 12.229985 \n",
       "C 38.784818 11.419869 39.24 10.320961 39.24 9.175283 \n",
       "C 39.24 8.029606 38.784818 6.930698 37.974701 6.120582 \n",
       "C 37.164585 5.310466 36.065677 4.855283 34.92 4.855283 \n",
       "C 33.774323 4.855283 32.675415 5.310466 31.865299 6.120582 \n",
       "C 31.055182 6.930698 30.6 8.029606 30.6 9.175283 \n",
       "C 30.6 10.320961 31.055182 11.419869 31.865299 12.229985 \n",
       "C 32.675415 13.040101 33.774323 13.495283 34.92 13.495283 \n",
       "z\n",
       "\" clip-path=\"url(#p775320cb12)\" style=\"stroke: #ffffff; stroke-width: 2; stroke-linejoin: miter\"/>\n",
       "   </g>\n",
       "   <g id=\"patch_3\">\n",
       "    <path d=\"M 75.24 13.495283 \n",
       "C 76.385677 13.495283 77.484585 13.040101 78.294701 12.229985 \n",
       "C 79.104818 11.419869 79.56 10.320961 79.56 9.175283 \n",
       "C 79.56 8.029606 79.104818 6.930698 78.294701 6.120582 \n",
       "C 77.484585 5.310466 76.385677 4.855283 75.24 4.855283 \n",
       "C 74.094323 4.855283 72.995415 5.310466 72.185299 6.120582 \n",
       "C 71.375182 6.930698 70.92 8.029606 70.92 9.175283 \n",
       "C 70.92 10.320961 71.375182 11.419869 72.185299 12.229985 \n",
       "C 72.995415 13.040101 74.094323 13.495283 75.24 13.495283 \n",
       "z\n",
       "\" clip-path=\"url(#p775320cb12)\" style=\"stroke: #ffffff; stroke-width: 2; stroke-linejoin: miter\"/>\n",
       "   </g>\n",
       "  </g>\n",
       " </g>\n",
       " <defs>\n",
       "  <clipPath id=\"p775320cb12\">\n",
       "   <rect x=\"0\" y=\"0\" width=\"110.16\" height=\"18.350567\"/>\n",
       "  </clipPath>\n",
       " </defs>\n",
       "</svg>\n"
      ],
      "text/plain": [
       "<schemdraw.backends.mpl.Figure object at 0x7834b9ca6e90>"
      ]
     },
     "execution_count": 23,
     "metadata": {},
     "output_type": "execute_result"
    }
   ],
   "source": [
    "schemdraw.theme('dark')\n",
    "d = schemdraw.Drawing()\n",
    "d += elm.FuseUS()\n",
    "d.draw()"
   ]
  },
  {
   "cell_type": "code",
   "execution_count": 24,
   "id": "2ea55813",
   "metadata": {},
   "outputs": [],
   "source": [
    "d.save('testMPL.png')"
   ]
  },
  {
   "cell_type": "code",
   "execution_count": null,
   "id": "828a22f1",
   "metadata": {},
   "outputs": [],
   "source": []
  },
  {
   "cell_type": "code",
   "execution_count": 25,
   "id": "92a13128",
   "metadata": {},
   "outputs": [
    {
     "data": {
      "image/png": "[encoded data removed]",
      "image/svg+xml": [
       "<?xml version=\"1.0\" encoding=\"utf-8\" standalone=\"no\"?>\n",
       "<!DOCTYPE svg PUBLIC \"-//W3C//DTD SVG 1.1//EN\"\n",
       "  \"http://www.w3.org/Graphics/SVG/1.1/DTD/svg11.dtd\">\n",
       "<svg xmlns:xlink=\"http://www.w3.org/1999/xlink\" width=\"220.32pt\" height=\"18.36pt\" viewBox=\"0 0 220.32 18.36\" xmlns=\"http://www.w3.org/2000/svg\" version=\"1.1\">\n",
       " <metadata>\n",
       "  <rdf:RDF xmlns:dc=\"http://purl.org/dc/elements/1.1/\" xmlns:cc=\"http://creativecommons.org/ns#\" xmlns:rdf=\"http://www.w3.org/1999/02/22-rdf-syntax-ns#\">\n",
       "   <cc:Work>\n",
       "    <dc:type rdf:resource=\"http://purl.org/dc/dcmitype/StillImage\"/>\n",
       "    <dc:date>2023-05-30T19:55:56.967763</dc:date>\n",
       "    <dc:format>image/svg+xml</dc:format>\n",
       "    <dc:creator>\n",
       "     <cc:Agent>\n",
       "      <dc:title>Matplotlib v3.7.0, https://matplotlib.org/</dc:title>\n",
       "     </cc:Agent>\n",
       "    </dc:creator>\n",
       "   </cc:Work>\n",
       "  </rdf:RDF>\n",
       " </metadata>\n",
       " <defs>\n",
       "  <style type=\"text/css\">*{stroke-linejoin: round; stroke-linecap: butt}</style>\n",
       " </defs>\n",
       " <g id=\"figure_1\">\n",
       "  <g id=\"patch_1\">\n",
       "   <path d=\"M 0 18.36 \n",
       "L 220.32 18.36 \n",
       "L 220.32 0 \n",
       "L 0 0 \n",
       "z\n",
       "\"/>\n",
       "  </g>\n",
       "  <g id=\"axes_1\">\n",
       "   <g id=\"line2d_1\">\n",
       "    <path d=\"M 2.16 9.18 \n",
       "L 38.16 9.18 \n",
       "L 41.16 0.18 \n",
       "L 47.16 18.18 \n",
       "L 53.16 0.18 \n",
       "L 59.16 18.18 \n",
       "L 65.16 0.18 \n",
       "L 71.16 18.18 \n",
       "L 74.16 9.18 \n",
       "L 110.16 9.18 \n",
       "\" clip-path=\"url(#p9f5d5f6294)\" style=\"fill: none; stroke: #ffffff; stroke-width: 2\"/>\n",
       "   </g>\n",
       "   <g id=\"line2d_2\">\n",
       "    <path d=\"M 110.16 9.18 \n",
       "L 146.16 9.18 \n",
       "L 149.16 0.18 \n",
       "L 155.16 18.18 \n",
       "L 161.16 0.18 \n",
       "L 167.16 18.18 \n",
       "L 173.16 0.18 \n",
       "L 179.16 18.18 \n",
       "L 182.16 9.18 \n",
       "L 218.16 9.18 \n",
       "\" clip-path=\"url(#p9f5d5f6294)\" style=\"fill: none; stroke: #ffffff; stroke-width: 2; stroke-linecap: square\"/>\n",
       "   </g>\n",
       "  </g>\n",
       " </g>\n",
       " <defs>\n",
       "  <clipPath id=\"p9f5d5f6294\">\n",
       "   <rect x=\"0\" y=\"0\" width=\"220.32\" height=\"18.36\"/>\n",
       "  </clipPath>\n",
       " </defs>\n",
       "</svg>\n"
      ],
      "text/plain": [
       "<schemdraw.backends.mpl.Figure object at 0x7834b9d09900>"
      ]
     },
     "execution_count": 25,
     "metadata": {},
     "output_type": "execute_result"
    }
   ],
   "source": [
    "# Capstyle names are different in SVG vs Matplotlib\n",
    "# projecting == butt\n",
    "d = schemdraw.Drawing()\n",
    "d += elm.Resistor(capstyle='butt')\n",
    "d += elm.Resistor(capstyle='projecting')\n",
    "d.draw()"
   ]
  },
  {
   "cell_type": "code",
   "execution_count": 26,
   "id": "1735cb1a",
   "metadata": {},
   "outputs": [
    {
     "data": {
      "image/svg+xml": [
       "<svg xmlns=\"http://www.w3.org/2000/svg\" xml:lang=\"en\" height=\"20.524pt\" width=\"202.28799999999995pt\" viewBox=\"-3.944 -10.262 202.28799999999995 20.524\" style=\"background-color:black;\"><path d=\"M 0.0,-0.0 L 32.4,-0.0 L 35.099999999999994,-8.1 L 40.5,8.1 L 45.89999999999999,-8.1 L 51.3,8.1 L 56.699999999999996,-8.1 L 62.099999999999994,8.1 L 64.8,-0.0 L 97.19999999999999,-0.0\" style=\"stroke:white;fill:none;stroke-width:2.0;stroke-linecap:butt;stroke-linejoin:round;\" /><path d=\"M 97.19999999999999,-0.0 L 129.6,-0.0 L 132.29999999999998,-8.1 L 137.7,8.1 L 143.09999999999997,-8.1 L 148.49999999999997,8.1 L 153.9,-8.1 L 159.29999999999998,8.1 L 162.0,-0.0 L 194.39999999999998,-0.0\" style=\"stroke:white;fill:none;stroke-width:2.0;stroke-linecap:square;stroke-linejoin:round;\" /></svg>"
      ],
      "text/plain": [
       "<svg xmlns=\"http://www.w3.org/2000/svg\" xml:lang=\"en\" height=\"20.524pt\" width=\"202.28799999999995pt\" viewBox=\"-3.944 -10.262 202.28799999999995 20.524\" style=\"background-color:black;\"><path d=\"M 0.0,-0.0 L 32.4,-0.0 L 35.099999999999994,-8.1 L 40.5,8.1 L 45.89999999999999,-8.1 L 51.3,8.1 L 56.699999999999996,-8.1 L 62.099999999999994,8.1 L 64.8,-0.0 L 97.19999999999999,-0.0\" style=\"stroke:white;fill:none;stroke-width:2.0;stroke-linecap:butt;stroke-linejoin:round;\" /><path d=\"M 97.19999999999999,-0.0 L 129.6,-0.0 L 132.29999999999998,-8.1 L 137.7,8.1 L 143.09999999999997,-8.1 L 148.49999999999997,8.1 L 153.9,-8.1 L 159.29999999999998,8.1 L 162.0,-0.0 L 194.39999999999998,-0.0\" style=\"stroke:white;fill:none;stroke-width:2.0;stroke-linecap:square;stroke-linejoin:round;\" /></svg>"
      ]
     },
     "execution_count": 26,
     "metadata": {},
     "output_type": "execute_result"
    }
   ],
   "source": [
    "d = schemdraw.Drawing()\n",
    "d += elm.Resistor(capstyle='butt')\n",
    "d += elm.Resistor(capstyle='projecting')\n",
    "d.draw(canvas='svg')"
   ]
  },
  {
   "cell_type": "code",
   "execution_count": null,
   "id": "0ef22aaa",
   "metadata": {},
   "outputs": [],
   "source": []
  },
  {
   "cell_type": "code",
   "execution_count": 27,
   "id": "b0d0afef",
   "metadata": {},
   "outputs": [
    {
     "data": {
      "image/png": "[encoded data removed]",
      "image/svg+xml": [
       "<?xml version=\"1.0\" encoding=\"utf-8\" standalone=\"no\"?>\n",
       "<!DOCTYPE svg PUBLIC \"-//W3C//DTD SVG 1.1//EN\"\n",
       "  \"http://www.w3.org/Graphics/SVG/1.1/DTD/svg11.dtd\">\n",
       "<svg xmlns:xlink=\"http://www.w3.org/1999/xlink\" width=\"58.884012pt\" height=\"67.841325pt\" viewBox=\"0 0 58.884012 67.841325\" xmlns=\"http://www.w3.org/2000/svg\" version=\"1.1\">\n",
       " <metadata>\n",
       "  <rdf:RDF xmlns:dc=\"http://purl.org/dc/elements/1.1/\" xmlns:cc=\"http://creativecommons.org/ns#\" xmlns:rdf=\"http://www.w3.org/1999/02/22-rdf-syntax-ns#\">\n",
       "   <cc:Work>\n",
       "    <dc:type rdf:resource=\"http://purl.org/dc/dcmitype/StillImage\"/>\n",
       "    <dc:date>2023-05-30T19:55:57.442801</dc:date>\n",
       "    <dc:format>image/svg+xml</dc:format>\n",
       "    <dc:creator>\n",
       "     <cc:Agent>\n",
       "      <dc:title>Matplotlib v3.7.0, https://matplotlib.org/</dc:title>\n",
       "     </cc:Agent>\n",
       "    </dc:creator>\n",
       "   </cc:Work>\n",
       "  </rdf:RDF>\n",
       " </metadata>\n",
       " <defs>\n",
       "  <style type=\"text/css\">*{stroke-linejoin: round; stroke-linecap: butt}</style>\n",
       " </defs>\n",
       " <g id=\"figure_1\">\n",
       "  <g id=\"patch_1\">\n",
       "   <path d=\"M -0 67.841325 \n",
       "L 58.884012 67.841325 \n",
       "L 58.884012 -0 \n",
       "L -0 -0 \n",
       "z\n",
       "\" style=\"fill: #ffffff\"/>\n",
       "  </g>\n",
       "  <g id=\"axes_1\">\n",
       "   <g id=\"patch_2\">\n",
       "    <path d=\"M 31.282812 51.1632 \n",
       "L 58.884012 51.1632 \n",
       "L 58.884012 -0 \n",
       "L 31.282812 -0 \n",
       "z\n",
       "\" style=\"fill: #ffffff\"/>\n",
       "   </g>\n",
       "   <g id=\"matplotlib.axis_1\">\n",
       "    <g id=\"xtick_1\">\n",
       "     <g id=\"line2d_1\">\n",
       "      <defs>\n",
       "       <path id=\"md6d88605c4\" d=\"M 0 0 \n",
       "L 0 3.5 \n",
       "\" style=\"stroke: #000000; stroke-width: 0.8\"/>\n",
       "      </defs>\n",
       "      <g>\n",
       "       <use xlink:href=\"#md6d88605c4\" x=\"31.553413\" y=\"51.1632\" style=\"stroke: #000000; stroke-width: 0.8\"/>\n",
       "      </g>\n",
       "     </g>\n",
       "     <g id=\"text_1\">\n",
       "      <!-- 0.0 -->\n",
       "      <g transform=\"translate(23.60185 65.761637) scale(0.1 -0.1)\">\n",
       "       <defs>\n",
       "        <path id=\"DejaVuSans-30\" d=\"M 2034 4250 \n",
       "Q 1547 4250 1301 3770 \n",
       "Q 1056 3291 1056 2328 \n",
       "Q 1056 1369 1301 889 \n",
       "Q 1547 409 2034 409 \n",
       "Q 2525 409 2770 889 \n",
       "Q 3016 1369 3016 2328 \n",
       "Q 3016 3291 2770 3770 \n",
       "Q 2525 4250 2034 4250 \n",
       "z\n",
       "M 2034 4750 \n",
       "Q 2819 4750 3233 4129 \n",
       "Q 3647 3509 3647 2328 \n",
       "Q 3647 1150 3233 529 \n",
       "Q 2819 -91 2034 -91 \n",
       "Q 1250 -91 836 529 \n",
       "Q 422 1150 422 2328 \n",
       "Q 422 3509 836 4129 \n",
       "Q 1250 4750 2034 4750 \n",
       "z\n",
       "\" transform=\"scale(0.015625)\"/>\n",
       "        <path id=\"DejaVuSans-2e\" d=\"M 684 794 \n",
       "L 1344 794 \n",
       "L 1344 0 \n",
       "L 684 0 \n",
       "L 684 794 \n",
       "z\n",
       "\" transform=\"scale(0.015625)\"/>\n",
       "       </defs>\n",
       "       <use xlink:href=\"#DejaVuSans-30\"/>\n",
       "       <use xlink:href=\"#DejaVuSans-2e\" x=\"63.623047\"/>\n",
       "       <use xlink:href=\"#DejaVuSans-30\" x=\"95.410156\"/>\n",
       "      </g>\n",
       "     </g>\n",
       "    </g>\n",
       "    <g id=\"xtick_2\">\n",
       "     <g id=\"line2d_2\">\n",
       "      <g>\n",
       "       <use xlink:href=\"#md6d88605c4\" x=\"49.553413\" y=\"51.1632\" style=\"stroke: #000000; stroke-width: 0.8\"/>\n",
       "      </g>\n",
       "     </g>\n",
       "     <g id=\"text_2\">\n",
       "      <!-- 0.5 -->\n",
       "      <g transform=\"translate(41.60185 65.761637) scale(0.1 -0.1)\">\n",
       "       <defs>\n",
       "        <path id=\"DejaVuSans-35\" d=\"M 691 4666 \n",
       "L 3169 4666 \n",
       "L 3169 4134 \n",
       "L 1269 4134 \n",
       "L 1269 2991 \n",
       "Q 1406 3038 1543 3061 \n",
       "Q 1681 3084 1819 3084 \n",
       "Q 2600 3084 3056 2656 \n",
       "Q 3513 2228 3513 1497 \n",
       "Q 3513 744 3044 326 \n",
       "Q 2575 -91 1722 -91 \n",
       "Q 1428 -91 1123 -41 \n",
       "Q 819 9 494 109 \n",
       "L 494 744 \n",
       "Q 775 591 1075 516 \n",
       "Q 1375 441 1709 441 \n",
       "Q 2250 441 2565 725 \n",
       "Q 2881 1009 2881 1497 \n",
       "Q 2881 1984 2565 2268 \n",
       "Q 2250 2553 1709 2553 \n",
       "Q 1456 2553 1204 2497 \n",
       "Q 953 2441 691 2322 \n",
       "L 691 4666 \n",
       "z\n",
       "\" transform=\"scale(0.015625)\"/>\n",
       "       </defs>\n",
       "       <use xlink:href=\"#DejaVuSans-30\"/>\n",
       "       <use xlink:href=\"#DejaVuSans-2e\" x=\"63.623047\"/>\n",
       "       <use xlink:href=\"#DejaVuSans-35\" x=\"95.410156\"/>\n",
       "      </g>\n",
       "     </g>\n",
       "    </g>\n",
       "   </g>\n",
       "   <g id=\"matplotlib.axis_2\">\n",
       "    <g id=\"ytick_1\">\n",
       "     <g id=\"line2d_3\">\n",
       "      <defs>\n",
       "       <path id=\"m8e74fad5fb\" d=\"M 0 0 \n",
       "L -3.5 0 \n",
       "\" style=\"stroke: #000000; stroke-width: 0.8\"/>\n",
       "      </defs>\n",
       "      <g>\n",
       "       <use xlink:href=\"#m8e74fad5fb\" x=\"31.282812\" y=\"43.5816\" style=\"stroke: #000000; stroke-width: 0.8\"/>\n",
       "      </g>\n",
       "     </g>\n",
       "     <g id=\"text_3\">\n",
       "      <!-- −0.5 -->\n",
       "      <g transform=\"translate(-0 47.380819) scale(0.1 -0.1)\">\n",
       "       <defs>\n",
       "        <path id=\"DejaVuSans-2212\" d=\"M 678 2272 \n",
       "L 4684 2272 \n",
       "L 4684 1741 \n",
       "L 678 1741 \n",
       "L 678 2272 \n",
       "z\n",
       "\" transform=\"scale(0.015625)\"/>\n",
       "       </defs>\n",
       "       <use xlink:href=\"#DejaVuSans-2212\"/>\n",
       "       <use xlink:href=\"#DejaVuSans-30\" x=\"83.789062\"/>\n",
       "       <use xlink:href=\"#DejaVuSans-2e\" x=\"147.412109\"/>\n",
       "       <use xlink:href=\"#DejaVuSans-35\" x=\"179.199219\"/>\n",
       "      </g>\n",
       "     </g>\n",
       "    </g>\n",
       "    <g id=\"ytick_2\">\n",
       "     <g id=\"line2d_4\">\n",
       "      <g>\n",
       "       <use xlink:href=\"#m8e74fad5fb\" x=\"31.282812\" y=\"25.5816\" style=\"stroke: #000000; stroke-width: 0.8\"/>\n",
       "      </g>\n",
       "     </g>\n",
       "     <g id=\"text_4\">\n",
       "      <!-- 0.0 -->\n",
       "      <g transform=\"translate(8.379687 29.380819) scale(0.1 -0.1)\">\n",
       "       <use xlink:href=\"#DejaVuSans-30\"/>\n",
       "       <use xlink:href=\"#DejaVuSans-2e\" x=\"63.623047\"/>\n",
       "       <use xlink:href=\"#DejaVuSans-30\" x=\"95.410156\"/>\n",
       "      </g>\n",
       "     </g>\n",
       "    </g>\n",
       "    <g id=\"ytick_3\">\n",
       "     <g id=\"line2d_5\">\n",
       "      <g>\n",
       "       <use xlink:href=\"#m8e74fad5fb\" x=\"31.282812\" y=\"7.5816\" style=\"stroke: #000000; stroke-width: 0.8\"/>\n",
       "      </g>\n",
       "     </g>\n",
       "     <g id=\"text_5\">\n",
       "      <!-- 0.5 -->\n",
       "      <g transform=\"translate(8.379687 11.380819) scale(0.1 -0.1)\">\n",
       "       <use xlink:href=\"#DejaVuSans-30\"/>\n",
       "       <use xlink:href=\"#DejaVuSans-2e\" x=\"63.623047\"/>\n",
       "       <use xlink:href=\"#DejaVuSans-35\" x=\"95.410156\"/>\n",
       "      </g>\n",
       "     </g>\n",
       "    </g>\n",
       "   </g>\n",
       "   <g id=\"line2d_6\">\n",
       "    <path d=\"M 31.553413 25.5816 \n",
       "L 44.753413 25.5816 \n",
       "\" clip-path=\"url(#p5025b3c0ec)\" style=\"fill: none; stroke: #000000; stroke-width: 2; stroke-linecap: round\"/>\n",
       "   </g>\n",
       "   <g id=\"line2d_7\">\n",
       "    <path d=\"M 44.753413 12.3816 \n",
       "L 44.753413 38.7816 \n",
       "\" clip-path=\"url(#p5025b3c0ec)\" style=\"fill: none; stroke: #000000; stroke-width: 2; stroke-linecap: round\"/>\n",
       "   </g>\n",
       "   <g id=\"line2d_8\">\n",
       "    <path d=\"M 44.753413 18.9816 \n",
       "L 58.613413 7.1016 \n",
       "L 58.613413 0.5016 \n",
       "\" clip-path=\"url(#p5025b3c0ec)\" style=\"fill: none; stroke: #000000; stroke-width: 2; stroke-linecap: round\"/>\n",
       "   </g>\n",
       "   <g id=\"line2d_9\">\n",
       "    <path d=\"M 44.753413 32.1816 \n",
       "L 58.613413 44.0616 \n",
       "L 58.613413 50.6616 \n",
       "\" clip-path=\"url(#p5025b3c0ec)\" style=\"fill: none; stroke: #000000; stroke-width: 2; stroke-linecap: round\"/>\n",
       "   </g>\n",
       "   <g id=\"patch_3\">\n",
       "    <path d=\"M 31.282812 51.1632 \n",
       "L 31.282812 -0 \n",
       "\" style=\"fill: none; stroke: #000000; stroke-width: 0.8; stroke-linejoin: miter; stroke-linecap: square\"/>\n",
       "   </g>\n",
       "   <g id=\"patch_4\">\n",
       "    <path d=\"M 58.884012 51.1632 \n",
       "L 58.884012 -0 \n",
       "\" style=\"fill: none; stroke: #000000; stroke-width: 0.8; stroke-linejoin: miter; stroke-linecap: square\"/>\n",
       "   </g>\n",
       "   <g id=\"patch_5\">\n",
       "    <path d=\"M 31.282812 51.1632 \n",
       "L 58.884012 51.1632 \n",
       "\" style=\"fill: none; stroke: #000000; stroke-width: 0.8; stroke-linejoin: miter; stroke-linecap: square\"/>\n",
       "   </g>\n",
       "   <g id=\"patch_6\">\n",
       "    <path d=\"M 31.282812 -0 \n",
       "L 58.884012 -0 \n",
       "\" style=\"fill: none; stroke: #000000; stroke-width: 0.8; stroke-linejoin: miter; stroke-linecap: square\"/>\n",
       "   </g>\n",
       "  </g>\n",
       " </g>\n",
       " <defs>\n",
       "  <clipPath id=\"p5025b3c0ec\">\n",
       "   <rect x=\"31.282812\" y=\"-0\" width=\"27.6012\" height=\"51.1632\"/>\n",
       "  </clipPath>\n",
       " </defs>\n",
       "</svg>\n"
      ],
      "text/plain": [
       "<schemdraw.backends.mpl.Figure object at 0x7834b9d09930>"
      ]
     },
     "execution_count": 27,
     "metadata": {},
     "output_type": "execute_result"
    }
   ],
   "source": [
    "schemdraw.theme('default')\n",
    "d = schemdraw.Drawing()\n",
    "d += elm.Bjt()\n",
    "d.draw(showframe=True)"
   ]
  },
  {
   "cell_type": "code",
   "execution_count": 28,
   "id": "4c03a06a",
   "metadata": {},
   "outputs": [
    {
     "data": {
      "image/svg+xml": [
       "<svg xmlns=\"http://www.w3.org/2000/svg\" xml:lang=\"en\" height=\"50.04688pt\" width=\"28.841079999999994pt\" viewBox=\"-2.24354 -25.02344 28.841079999999994 50.04688\" style=\"background-color:white;\"><rect x=\"-2.24354\" y=\"-25.02344\" width=\"24.841079999999994\" height=\"46.04688\" style=\"fill:none; stroke-width:1; stroke:black;\" /><path d=\"M 0.0,-0.0 L 11.879999999999999,-0.0\" style=\"stroke:black;fill:none;stroke-width:2.0;stroke-linecap:round;stroke-linejoin:round;\" /><path d=\"M 11.879999999999999,-11.879999999999999 L 11.879999999999999,11.879999999999999\" style=\"stroke:black;fill:none;stroke-width:2.0;stroke-linecap:round;stroke-linejoin:round;\" /><path d=\"M 11.879999999999999,-5.9399999999999995 L 24.353999999999996,-16.631999999999998 L 24.353999999999996,-22.572\" style=\"stroke:black;fill:none;stroke-width:2.0;stroke-linecap:round;stroke-linejoin:round;\" /><path d=\"M 11.879999999999999,5.9399999999999995 L 24.353999999999996,16.631999999999998 L 24.353999999999996,22.572\" style=\"stroke:black;fill:none;stroke-width:2.0;stroke-linecap:round;stroke-linejoin:round;\" /></svg>"
      ],
      "text/plain": [
       "<svg xmlns=\"http://www.w3.org/2000/svg\" xml:lang=\"en\" height=\"50.04688pt\" width=\"28.841079999999994pt\" viewBox=\"-2.24354 -25.02344 28.841079999999994 50.04688\" style=\"background-color:white;\"><rect x=\"-2.24354\" y=\"-25.02344\" width=\"24.841079999999994\" height=\"46.04688\" style=\"fill:none; stroke-width:1; stroke:black;\" /><path d=\"M 0.0,-0.0 L 11.879999999999999,-0.0\" style=\"stroke:black;fill:none;stroke-width:2.0;stroke-linecap:round;stroke-linejoin:round;\" /><path d=\"M 11.879999999999999,-11.879999999999999 L 11.879999999999999,11.879999999999999\" style=\"stroke:black;fill:none;stroke-width:2.0;stroke-linecap:round;stroke-linejoin:round;\" /><path d=\"M 11.879999999999999,-5.9399999999999995 L 24.353999999999996,-16.631999999999998 L 24.353999999999996,-22.572\" style=\"stroke:black;fill:none;stroke-width:2.0;stroke-linecap:round;stroke-linejoin:round;\" /><path d=\"M 11.879999999999999,5.9399999999999995 L 24.353999999999996,16.631999999999998 L 24.353999999999996,22.572\" style=\"stroke:black;fill:none;stroke-width:2.0;stroke-linecap:round;stroke-linejoin:round;\" /></svg>"
      ]
     },
     "execution_count": 28,
     "metadata": {},
     "output_type": "execute_result"
    }
   ],
   "source": [
    "d = schemdraw.Drawing()\n",
    "d += elm.Bjt()\n",
    "d.draw(canvas='svg', showframe=True)"
   ]
  },
  {
   "cell_type": "code",
   "execution_count": 29,
   "id": "f2d3b961",
   "metadata": {},
   "outputs": [
    {
     "data": {
      "image/svg+xml": [
       "<svg xmlns=\"http://www.w3.org/2000/svg\" xml:lang=\"en\" height=\"118.399324pt\" width=\"598.8639999999999pt\" viewBox=\"-7.832 -42.377762 598.8639999999999 118.399324\" style=\"background-color:white;\"><path d=\"M 0.0,-0.0 L 32.4,-0.0 L 35.099999999999994,-8.1 L 40.5,8.1 L 45.89999999999999,-8.1 L 51.3,8.1 L 56.699999999999996,-8.1 L 62.099999999999994,8.1 L 64.8,-0.0 L 97.19999999999999,-0.0\" style=\"stroke:black;fill:none;stroke-width:2.0;stroke-linecap:round;stroke-linejoin:round;\" /><path d=\"M 97.19999999999999,-0.0 L 129.6,-0.0 L 132.29999999999998,-8.1 L 137.7,8.1 L 143.09999999999997,-8.1 L 148.49999999999997,8.1 L 153.9,-8.1 L 159.29999999999998,8.1 L 162.0,-0.0 L 194.39999999999998,-0.0\" style=\"stroke:black;fill:none;stroke-width:2.0;stroke-linecap:round;stroke-linejoin:round;\" /><path d=\"M 194.39999999999998,-0.0 L 226.79999999999998,-0.0 L 229.49999999999997,-8.1 L 234.89999999999998,8.1 L 240.29999999999998,-8.1 L 245.7,8.1 L 251.1,-8.1 L 256.49999999999994,8.1 L 259.2,-0.0 L 291.59999999999997,-0.0\" style=\"stroke:black;fill:none;stroke-width:2.0;stroke-linecap:round;stroke-linejoin:round;\" /><path d=\"M 291.59999999999997,-0.0 L 324.0,-0.0 L 326.7,-8.1 L 332.09999999999997,8.1 L 337.49999999999994,-8.1 L 342.9,8.1 L 348.3,-8.1 L 353.7,8.1 L 356.4,-0.0 L 388.79999999999995,-0.0\" style=\"stroke:black;fill:none;stroke-width:2.0;stroke-linecap:round;stroke-linejoin:round;\" /><path d=\"M 388.79999999999995,-0.0 L 421.2,-0.0 L 423.9,-8.1 L 429.29999999999995,8.1 L 434.7,-8.1 L 440.1,8.1 L 445.5,-8.1 L 450.9,8.1 L 453.59999999999997,-0.0 L 486.0,-0.0\" style=\"stroke:black;fill:none;stroke-width:2.0;stroke-linecap:round;stroke-linejoin:round;\" /><path d=\"M 486.0,-0.0 L 518.4,-0.0 L 521.0999999999999,-8.1 L 526.5,8.1 L 531.9,-8.1 L 537.3,8.1 L 542.6999999999999,-8.1 L 548.1,8.1 L 550.8,-0.0 L 583.1999999999999,-0.0\" style=\"stroke:black;fill:none;stroke-width:2.0;stroke-linecap:round;stroke-linejoin:round;\" /><path d=\"M 0.0,64.8 L 32.4,64.8 L 35.099999999999994,56.699999999999996 L 40.5,72.89999999999999 L 45.89999999999999,56.699999999999996 L 51.3,72.89999999999999 L 56.699999999999996,56.699999999999996 L 62.099999999999994,72.89999999999999 L 64.8,64.8 L 97.19999999999999,64.8\" style=\"stroke:black;fill:none;stroke-width:2.0;stroke-linecap:round;stroke-linejoin:round;\" /><path d=\"M 97.19999999999999,64.8 L 129.6,64.8 L 132.29999999999998,56.699999999999996 L 137.7,72.89999999999999 L 143.09999999999997,56.699999999999996 L 148.49999999999997,72.89999999999999 L 153.9,56.699999999999996 L 159.29999999999998,72.89999999999999 L 162.0,64.8 L 194.39999999999998,64.8\" style=\"stroke:black;fill:none;stroke-width:2.0;stroke-linecap:round;stroke-linejoin:round;\" /><path d=\"M 194.39999999999998,64.8 L 226.79999999999998,64.8 L 229.49999999999997,56.699999999999996 L 234.89999999999998,72.89999999999999 L 240.29999999999998,56.699999999999996 L 245.7,72.89999999999999 L 251.1,56.699999999999996 L 256.49999999999994,72.89999999999999 L 259.2,64.8 L 291.59999999999997,64.8\" style=\"stroke:black;fill:none;stroke-width:2.0;stroke-linecap:round;stroke-linejoin:round;\" /><path d=\"M 291.59999999999997,64.8 L 324.0,64.8 L 326.7,56.699999999999996 L 332.09999999999997,72.89999999999999 L 337.49999999999994,56.699999999999996 L 342.9,72.89999999999999 L 348.3,56.699999999999996 L 353.7,72.89999999999999 L 356.4,64.8 L 388.79999999999995,64.8\" style=\"stroke:black;fill:none;stroke-width:2.0;stroke-linecap:round;stroke-linejoin:round;\" /><path d=\"M 388.79999999999995,64.8 L 421.2,64.8 L 423.9,56.699999999999996 L 429.29999999999995,72.89999999999999 L 434.7,56.699999999999996 L 440.1,72.89999999999999 L 445.5,56.699999999999996 L 450.9,72.89999999999999 L 453.59999999999997,64.8 L 486.0,64.8\" style=\"stroke:black;fill:none;stroke-width:2.0;stroke-linecap:round;stroke-linejoin:round;\" /><g><g><g><symbol id=\"STIXTwoMathRegular_3317\" width=\"7.296\" height=\"51.216\" viewBox=\"-0.108 -31.524 7.296 51.216\"><path d=\"M 6.948 -6.228 L 6.948 -6.228 Q 6.948 -5.592 6.708 -5.16 Q 6.468 -4.728 6.084 -4.452 Q 5.7 -4.176 5.262 -4.026 Q 4.824 -3.876 4.428 -3.804 L 4.428 -3.744 Q 4.644 -3.6 4.836 -3.306 Q 5.028 -3.012 5.31 -2.46 Q 5.592 -1.908 6.084 -0.972 Q 6.288 -0.612 6.534 -0.486 Q 6.78 -0.36 7.188 -0.36 L 7.116 0 L 5.292 0 Q 4.956 -0.744 4.728 -1.242 Q 4.5 -1.74 4.332 -2.076 Q 4.164 -2.412 4.038 -2.676 Q 3.912 -2.94 3.768 -3.216 Q 3.636 -3.468 3.48 -3.546 Q 3.324 -3.624 3 -3.624 L 2.748 -3.624 L 2.304 -1.488 Q 2.208 -0.996 2.238 -0.75 Q 2.268 -0.504 2.508 -0.432 Q 2.748 -0.36 3.264 -0.36 L 3.204 0 L -0.108 0 L -0.036 -0.36 Q 0.408 -0.36 0.648 -0.432 Q 0.888 -0.504 1.014 -0.744 Q 1.14 -0.984 1.236 -1.488 L 2.292 -6.636 Q 2.364 -6.972 2.328 -7.164 Q 2.292 -7.356 2.082 -7.44 Q 1.872 -7.524 1.392 -7.524 L 1.464 -7.884 L 4.284 -7.884 Q 5.544 -7.884 6.246 -7.494 Q 6.948 -7.104 6.948 -6.228 Z M 3.504 -7.38 L 3.504 -7.38 L 2.832 -4.068 L 3.204 -4.056 Q 3.924 -4.08 4.506 -4.29 Q 5.088 -4.5 5.424 -4.956 Q 5.76 -5.412 5.76 -6.18 Q 5.76 -6.504 5.622 -6.786 Q 5.484 -7.068 5.148 -7.242 Q 4.812 -7.416 4.212 -7.416 Q 3.984 -7.416 3.846 -7.41 Q 3.708 -7.404 3.504 -7.38 Z \" /></symbol><use href=\"#STIXTwoMathRegular_3317\" transform=\"translate(38.971 -53.158) scale(1.167)\" fill=\"black\" /><symbol id=\"STIXTwoMathRegular_4274\" width=\"5.184\" height=\"51.216\" viewBox=\"0 -31.524 5.184 51.216\"><path d=\"M 5.184 0 L 5.184 0 L 1.116 0 L 1.116 -0.432 Q 1.98 -0.432 2.262 -0.606 Q 2.544 -0.78 2.544 -1.236 L 2.544 -6.468 Q 2.544 -6.792 2.448 -6.936 Q 2.352 -7.08 2.1 -7.08 Q 1.908 -7.08 1.578 -7.026 Q 1.248 -6.972 1.008 -6.912 L 1.008 -7.392 L 3.228 -8.004 L 3.744 -8.004 L 3.744 -1.236 Q 3.744 -0.78 4.05 -0.606 Q 4.356 -0.432 5.184 -0.432 Z \" /></symbol><use href=\"#STIXTwoMathRegular_4274\" transform=\"translate(48.127 -39.185) scale(0.817)\" fill=\"black\" /><use href=\"#STIXTwoMathRegular_4274\" transform=\"translate(53.115 -39.185) scale(0.817)\" fill=\"black\" /></g></g></g><g><g><g><symbol id=\"STIXTwoMathRegular_3317\" width=\"7.296\" height=\"51.216\" viewBox=\"-0.108 -31.524 7.296 51.216\"><path d=\"M 6.948 -6.228 L 6.948 -6.228 Q 6.948 -5.592 6.708 -5.16 Q 6.468 -4.728 6.084 -4.452 Q 5.7 -4.176 5.262 -4.026 Q 4.824 -3.876 4.428 -3.804 L 4.428 -3.744 Q 4.644 -3.6 4.836 -3.306 Q 5.028 -3.012 5.31 -2.46 Q 5.592 -1.908 6.084 -0.972 Q 6.288 -0.612 6.534 -0.486 Q 6.78 -0.36 7.188 -0.36 L 7.116 0 L 5.292 0 Q 4.956 -0.744 4.728 -1.242 Q 4.5 -1.74 4.332 -2.076 Q 4.164 -2.412 4.038 -2.676 Q 3.912 -2.94 3.768 -3.216 Q 3.636 -3.468 3.48 -3.546 Q 3.324 -3.624 3 -3.624 L 2.748 -3.624 L 2.304 -1.488 Q 2.208 -0.996 2.238 -0.75 Q 2.268 -0.504 2.508 -0.432 Q 2.748 -0.36 3.264 -0.36 L 3.204 0 L -0.108 0 L -0.036 -0.36 Q 0.408 -0.36 0.648 -0.432 Q 0.888 -0.504 1.014 -0.744 Q 1.14 -0.984 1.236 -1.488 L 2.292 -6.636 Q 2.364 -6.972 2.328 -7.164 Q 2.292 -7.356 2.082 -7.44 Q 1.872 -7.524 1.392 -7.524 L 1.464 -7.884 L 4.284 -7.884 Q 5.544 -7.884 6.246 -7.494 Q 6.948 -7.104 6.948 -6.228 Z M 3.504 -7.38 L 3.504 -7.38 L 2.832 -4.068 L 3.204 -4.056 Q 3.924 -4.08 4.506 -4.29 Q 5.088 -4.5 5.424 -4.956 Q 5.76 -5.412 5.76 -6.18 Q 5.76 -6.504 5.622 -6.786 Q 5.484 -7.068 5.148 -7.242 Q 4.812 -7.416 4.212 -7.416 Q 3.984 -7.416 3.846 -7.41 Q 3.708 -7.404 3.504 -7.38 Z \" /></symbol><use href=\"#STIXTwoMathRegular_3317\" transform=\"translate(136.094 -50.218) scale(1.167)\" fill=\"black\" /><symbol id=\"STIXTwoMathRegular_4275\" width=\"5.868\" height=\"51.216\" viewBox=\"0 -31.524 5.868 51.216\"><path d=\"M 5.868 -2.088 L 5.868 -2.088 L 5.46 0 L 0.54 0 L 0.54 -0.588 L 2.244 -2.316 Q 2.916 -2.988 3.354 -3.504 Q 3.792 -4.02 4.008 -4.542 Q 4.224 -5.064 4.224 -5.736 Q 4.224 -6.372 3.834 -6.786 Q 3.444 -7.2 2.736 -7.2 Q 2.088 -7.2 1.65 -6.942 Q 1.212 -6.684 0.876 -6.096 L 0.552 -6.252 Q 0.852 -7.092 1.482 -7.572 Q 2.112 -8.052 3.036 -8.052 Q 3.756 -8.052 4.308 -7.794 Q 4.86 -7.536 5.172 -7.056 Q 5.484 -6.576 5.484 -5.892 Q 5.484 -5.304 5.22 -4.788 Q 4.956 -4.272 4.47 -3.732 Q 3.984 -3.192 3.312 -2.532 L 1.812 -1.08 L 1.812 -0.996 L 2.748 -1.044 L 4.308 -1.044 Q 4.656 -1.044 4.842 -1.14 Q 5.028 -1.236 5.16 -1.47 Q 5.292 -1.704 5.448 -2.088 Z \" /></symbol><use href=\"#STIXTwoMathRegular_4275\" transform=\"translate(145.11 -45.163) scale(0.817)\" fill=\"black\" /><use href=\"#STIXTwoMathRegular_4275\" transform=\"translate(150.245 -45.163) scale(0.817)\" fill=\"black\" /></g></g></g><g><g><g><symbol id=\"STIXTwoMathRegular_4022\" width=\"5.964\" height=\"51.216\" viewBox=\"0 -31.524 5.964 51.216\"><path d=\"M 5.964 -5.688 L 5.964 -5.688 Q 5.964 -3.864 5.496 -2.55 Q 5.028 -1.236 4.242 -0.534 Q 3.456 0.168 2.52 0.168 Q 1.716 0.168 1.188 -0.468 Q 0.66 -1.104 0.66 -2.496 Q 0.66 -3.732 0.948 -4.83 Q 1.236 -5.928 1.746 -6.78 Q 2.256 -7.632 2.91 -8.118 Q 3.564 -8.604 4.296 -8.604 Q 5.148 -8.604 5.556 -7.8 Q 5.964 -6.996 5.964 -5.688 Z M 2.76 -0.876 L 2.76 -0.876 Q 3.336 -0.876 3.846 -1.2 Q 4.356 -1.524 4.734 -2.226 Q 5.112 -2.928 5.268 -4.056 L 1.368 -4.056 Q 1.344 -3.828 1.326 -3.534 Q 1.308 -3.24 1.308 -3 Q 1.308 -2.16 1.536 -1.698 Q 1.764 -1.236 2.106 -1.056 Q 2.448 -0.876 2.76 -0.876 Z M 4.056 -7.56 L 4.056 -7.56 Q 3.552 -7.56 3.036 -7.218 Q 2.52 -6.876 2.112 -6.234 Q 1.704 -5.592 1.488 -4.692 L 5.352 -4.692 Q 5.364 -4.86 5.37 -5.052 Q 5.376 -5.244 5.376 -5.4 Q 5.376 -5.964 5.244 -6.456 Q 5.112 -6.948 4.818 -7.254 Q 4.524 -7.56 4.056 -7.56 Z \" /></symbol><use href=\"#STIXTwoMathRegular_4022\" transform=\"translate(239.787 -50.414) scale(1.167)\" fill=\"black\" /></g></g></g><g><g><g><symbol id=\"STIXTwoMathRegular_3316\" width=\"8.22\" height=\"51.216\" viewBox=\"0 -31.524 8.22 51.216\"><path d=\"M 8.22 -4.908 L 8.22 -4.908 Q 8.22 -3.516 7.752 -2.502 Q 7.284 -1.488 6.498 -0.87 Q 5.712 -0.252 4.752 -0.036 L 4.752 0 Q 4.932 0.264 5.136 0.57 Q 5.34 0.876 5.628 1.14 Q 5.916 1.404 6.348 1.572 Q 6.78 1.74 7.428 1.74 L 7.368 2.076 L 6.768 2.076 Q 5.844 2.076 5.256 1.92 Q 4.668 1.764 4.326 1.44 Q 3.984 1.116 3.792 0.612 L 3.612 0.096 Q 2.208 0.012 1.47 -0.744 Q 0.732 -1.5 0.72 -3.024 Q 0.72 -4.104 1.056 -5.016 Q 1.392 -5.928 1.992 -6.606 Q 2.592 -7.284 3.408 -7.656 Q 4.224 -8.028 5.184 -8.028 Q 6.252 -8.028 6.924 -7.59 Q 7.596 -7.152 7.908 -6.438 Q 8.22 -5.724 8.22 -4.908 Z M 6.996 -4.98 L 6.996 -4.98 Q 6.996 -6.096 6.522 -6.804 Q 6.048 -7.512 5.004 -7.512 Q 4.2 -7.512 3.504 -6.966 Q 2.808 -6.42 2.382 -5.394 Q 1.956 -4.368 1.956 -2.916 Q 1.956 -1.764 2.394 -1.068 Q 2.832 -0.372 3.888 -0.372 Q 4.86 -0.372 5.556 -0.954 Q 6.252 -1.536 6.624 -2.574 Q 6.996 -3.612 6.996 -4.98 Z \" /></symbol><use href=\"#STIXTwoMathRegular_3316\" transform=\"translate(333.058 -53.158) scale(1.167)\" fill=\"black\" /><symbol id=\"STIXTwoMathRegular_4274\" width=\"5.184\" height=\"51.216\" viewBox=\"0 -31.524 5.184 51.216\"><path d=\"M 5.184 0 L 5.184 0 L 1.116 0 L 1.116 -0.432 Q 1.98 -0.432 2.262 -0.606 Q 2.544 -0.78 2.544 -1.236 L 2.544 -6.468 Q 2.544 -6.792 2.448 -6.936 Q 2.352 -7.08 2.1 -7.08 Q 1.908 -7.08 1.578 -7.026 Q 1.248 -6.972 1.008 -6.912 L 1.008 -7.392 L 3.228 -8.004 L 3.744 -8.004 L 3.744 -1.236 Q 3.744 -0.78 4.05 -0.606 Q 4.356 -0.432 5.184 -0.432 Z \" /></symbol><use href=\"#STIXTwoMathRegular_4274\" transform=\"translate(342.354 -39.185) scale(0.817)\" fill=\"black\" /><rect x=\"333.058\" y=\"-28.672\" width=\"13.444\" height=\"0.952\" fill=\"black\" /></g></g></g><g><g><g><symbol id=\"STIXTwoMathRegular_3317\" width=\"7.296\" height=\"51.216\" viewBox=\"-0.108 -31.524 7.296 51.216\"><path d=\"M 6.948 -6.228 L 6.948 -6.228 Q 6.948 -5.592 6.708 -5.16 Q 6.468 -4.728 6.084 -4.452 Q 5.7 -4.176 5.262 -4.026 Q 4.824 -3.876 4.428 -3.804 L 4.428 -3.744 Q 4.644 -3.6 4.836 -3.306 Q 5.028 -3.012 5.31 -2.46 Q 5.592 -1.908 6.084 -0.972 Q 6.288 -0.612 6.534 -0.486 Q 6.78 -0.36 7.188 -0.36 L 7.116 0 L 5.292 0 Q 4.956 -0.744 4.728 -1.242 Q 4.5 -1.74 4.332 -2.076 Q 4.164 -2.412 4.038 -2.676 Q 3.912 -2.94 3.768 -3.216 Q 3.636 -3.468 3.48 -3.546 Q 3.324 -3.624 3 -3.624 L 2.748 -3.624 L 2.304 -1.488 Q 2.208 -0.996 2.238 -0.75 Q 2.268 -0.504 2.508 -0.432 Q 2.748 -0.36 3.264 -0.36 L 3.204 0 L -0.108 0 L -0.036 -0.36 Q 0.408 -0.36 0.648 -0.432 Q 0.888 -0.504 1.014 -0.744 Q 1.14 -0.984 1.236 -1.488 L 2.292 -6.636 Q 2.364 -6.972 2.328 -7.164 Q 2.292 -7.356 2.082 -7.44 Q 1.872 -7.524 1.392 -7.524 L 1.464 -7.884 L 4.284 -7.884 Q 5.544 -7.884 6.246 -7.494 Q 6.948 -7.104 6.948 -6.228 Z M 3.504 -7.38 L 3.504 -7.38 L 2.832 -4.068 L 3.204 -4.056 Q 3.924 -4.08 4.506 -4.29 Q 5.088 -4.5 5.424 -4.956 Q 5.76 -5.412 5.76 -6.18 Q 5.76 -6.504 5.622 -6.786 Q 5.484 -7.068 5.148 -7.242 Q 4.812 -7.416 4.212 -7.416 Q 3.984 -7.416 3.846 -7.41 Q 3.708 -7.404 3.504 -7.38 Z \" /></symbol><use href=\"#STIXTwoMathRegular_3317\" transform=\"translate(430.265 -53.158) scale(1.167)\" fill=\"black\" /><symbol id=\"STIXTwoMathRegular_4274\" width=\"5.184\" height=\"51.216\" viewBox=\"0 -31.524 5.184 51.216\"><path d=\"M 5.184 0 L 5.184 0 L 1.116 0 L 1.116 -0.432 Q 1.98 -0.432 2.262 -0.606 Q 2.544 -0.78 2.544 -1.236 L 2.544 -6.468 Q 2.544 -6.792 2.448 -6.936 Q 2.352 -7.08 2.1 -7.08 Q 1.908 -7.08 1.578 -7.026 Q 1.248 -6.972 1.008 -6.912 L 1.008 -7.392 L 3.228 -8.004 L 3.744 -8.004 L 3.744 -1.236 Q 3.744 -0.78 4.05 -0.606 Q 4.356 -0.432 5.184 -0.432 Z \" /></symbol><use href=\"#STIXTwoMathRegular_4274\" transform=\"translate(439.421 -39.185) scale(0.817)\" fill=\"black\" /></g></g></g><g><g><g><symbol id=\"STIXTwoMathRegular_1657\" width=\"9.948\" height=\"51.216\" viewBox=\"0 -31.524 9.948 51.216\"><path d=\"M 8.004 -11.064 L 8.004 -11.064 L 9.948 -11.064 L 9.948 -10.248 L 8.556 -10.248 L 4.956 3.18 L 4.452 3.18 L 1.656 -3.828 L 0.408 -3.348 L 0.216 -3.684 L 2.124 -5.004 L 2.364 -5.004 L 4.74 1.116 L 4.788 1.116 Z \" /></symbol><use href=\"#STIXTwoMathRegular_1657\" transform=\"translate(525.185 -53.928) scale(1.167)\" fill=\"black\" /><symbol id=\"STIXTwoMathRegular_3354\" width=\"6.48\" height=\"51.216\" viewBox=\"0 -31.524 6.48 51.216\"><path d=\"M 3.78 -3.576 L 3.78 -3.576 L 4.368 -4.584 Q 4.608 -5.016 4.98 -5.382 Q 5.352 -5.748 5.88 -5.748 Q 6.228 -5.748 6.354 -5.61 Q 6.48 -5.472 6.48 -5.22 Q 6.48 -5.004 6.324 -4.83 Q 6.168 -4.656 5.928 -4.656 Q 5.784 -4.656 5.604 -4.716 Q 5.424 -4.776 5.304 -4.776 Q 5.1 -4.776 4.956 -4.65 Q 4.812 -4.524 4.656 -4.272 L 3.924 -3.108 L 4.176 -2.292 Q 4.428 -1.464 4.638 -1.104 Q 4.848 -0.744 5.124 -0.744 Q 5.364 -0.744 5.556 -0.918 Q 5.748 -1.092 5.988 -1.416 L 6.24 -1.224 Q 6.072 -0.96 5.838 -0.648 Q 5.604 -0.336 5.292 -0.108 Q 4.98 0.12 4.572 0.12 Q 4.164 0.12 3.942 -0.204 Q 3.72 -0.528 3.588 -1.116 L 3.288 -2.328 L 3.24 -2.328 L 2.472 -1.08 Q 2.184 -0.612 1.848 -0.252 Q 1.512 0.108 0.972 0.108 Q 0.588 0.108 0.432 -0.072 Q 0.276 -0.252 0.276 -0.48 Q 0.276 -0.66 0.402 -0.822 Q 0.528 -0.984 0.744 -0.984 Q 0.948 -0.984 1.146 -0.906 Q 1.344 -0.828 1.5 -0.828 Q 1.524 -0.828 1.608 -0.858 Q 1.692 -0.888 1.848 -1.032 Q 2.004 -1.176 2.232 -1.512 L 3.096 -2.772 L 2.76 -3.864 Q 2.604 -4.368 2.448 -4.656 Q 2.292 -4.944 2.064 -5.07 Q 1.836 -5.196 1.44 -5.184 Q 1.296 -5.184 1.182 -5.166 Q 1.068 -5.148 1.068 -5.148 L 1.068 -5.508 L 2.736 -5.7 L 2.916 -5.7 Q 3.132 -5.448 3.306 -5.064 Q 3.48 -4.68 3.6 -4.188 L 3.744 -3.576 Z \" /></symbol><use href=\"#STIXTwoMathRegular_3354\" transform=\"translate(536.301 -53.928) scale(1.167)\" fill=\"black\" /><rect x=\"536.301\" y=\"-30.058\" width=\"7.966\" height=\"0.952\" fill=\"black\" /></g></g></g><g><g><g><symbol id=\"STIXTwoMathRegular_868\" width=\"8.772\" height=\"51.216\" viewBox=\"0 -31.524 8.772 51.216\"><path d=\"M 8.496 0 L 8.496 0 L 5.364 0 L 5.364 -0.864 Q 5.928 -1.32 6.318 -1.95 Q 6.708 -2.58 6.906 -3.282 Q 7.104 -3.984 7.104 -4.644 Q 7.104 -6 6.456 -6.762 Q 5.808 -7.524 4.704 -7.524 Q 3.564 -7.524 2.904 -6.75 Q 2.244 -5.976 2.244 -4.644 Q 2.244 -3.996 2.436 -3.282 Q 2.628 -2.568 3.018 -1.932 Q 3.408 -1.296 3.984 -0.852 L 3.984 0 L 0.816 0 L 0.564 -2.124 L 0.912 -2.124 Q 1.02 -1.716 1.122 -1.464 Q 1.224 -1.212 1.41 -1.092 Q 1.596 -0.972 1.932 -0.972 L 3.024 -0.972 L 3.024 -1.044 Q 2.688 -1.296 2.322 -1.626 Q 1.956 -1.956 1.644 -2.388 Q 1.332 -2.82 1.14 -3.39 Q 0.948 -3.96 0.948 -4.692 Q 0.948 -5.688 1.428 -6.438 Q 1.908 -7.188 2.76 -7.608 Q 3.612 -8.028 4.716 -8.028 Q 5.832 -8.028 6.66 -7.608 Q 7.488 -7.188 7.944 -6.438 Q 8.4 -5.688 8.4 -4.704 Q 8.4 -3.972 8.196 -3.402 Q 7.992 -2.832 7.674 -2.394 Q 7.356 -1.956 7.002 -1.626 Q 6.648 -1.296 6.336 -1.044 L 6.336 -0.972 L 7.344 -0.972 Q 7.704 -0.972 7.89 -1.092 Q 8.076 -1.212 8.19 -1.47 Q 8.304 -1.728 8.424 -2.124 L 8.772 -2.124 Z \" /></symbol><use href=\"#STIXTwoMathRegular_868\" transform=\"translate(43.49 14.582) scale(1.167)\" fill=\"black\" /></g></g></g><g><g><g><symbol id=\"STIXTwoMathRegular_1681\" width=\"7.896\" height=\"51.216\" viewBox=\"0 -31.524 7.896 51.216\"><path d=\"M 7.896 0 L 7.896 0 L 0.276 0 L 6.984 -6.72 L 7.608 -6.204 L 2.232 -0.804 L 7.896 -0.804 Z \" /></symbol><use href=\"#STIXTwoMathRegular_1681\" transform=\"translate(141.054 14.582) scale(1.167)\" fill=\"black\" /></g></g></g><g><g><g><symbol id=\"STIXTwoMathRegular_4244\" width=\"3.756\" height=\"51.216\" viewBox=\"0 -31.524 3.756 51.216\"><path d=\"M 3.756 0 L 3.756 0 L 2.76 0 L 2.76 -6.348 L 1.212 -6.348 L 1.212 -6.996 Q 1.848 -7.092 2.256 -7.23 Q 2.664 -7.368 3 -7.56 L 3.756 -7.56 Z \" /></symbol><use href=\"#STIXTwoMathRegular_4244\" transform=\"translate(231.751 14.288) scale(1.167)\" fill=\"black\" /><symbol id=\"STIXTwoMathRegular_4243\" width=\"5.556\" height=\"51.216\" viewBox=\"0 -31.524 5.556 51.216\"><path d=\"M 3.048 0.144 L 3.048 0.144 Q 1.884 0.144 1.218 -0.882 Q 0.552 -1.908 0.552 -3.804 Q 0.552 -5.712 1.218 -6.702 Q 1.884 -7.692 3.048 -7.692 Q 4.224 -7.692 4.89 -6.696 Q 5.556 -5.7 5.556 -3.804 Q 5.556 -1.908 4.89 -0.882 Q 4.224 0.144 3.048 0.144 Z M 3.048 -0.672 L 3.048 -0.672 Q 3.732 -0.672 4.152 -1.41 Q 4.572 -2.148 4.572 -3.804 Q 4.572 -5.46 4.152 -6.174 Q 3.732 -6.888 3.048 -6.888 Q 2.376 -6.888 1.95 -6.174 Q 1.524 -5.46 1.524 -3.804 Q 1.524 -2.148 1.95 -1.41 Q 2.376 -0.672 3.048 -0.672 Z \" /></symbol><use href=\"#STIXTwoMathRegular_4243\" transform=\"translate(238.863 14.288) scale(1.167)\" fill=\"black\" /><symbol id=\"STIXTwoMathRegular_1193\" width=\"7.764\" height=\"51.216\" viewBox=\"0 -31.524 7.764 51.216\"><path d=\"M 7.032 -7.992 L 7.032 -7.992 L 2.172 0.252 L 1.596 0.252 L 5.88 -6.984 L 5.82 -6.984 Q 5.52 -6.78 5.238 -6.69 Q 4.956 -6.6 4.584 -6.6 Q 4.368 -6.6 4.206 -6.636 Q 4.044 -6.672 3.768 -6.792 L 3.744 -6.768 Q 3.78 -6.636 3.804 -6.468 Q 3.828 -6.3 3.828 -6.096 Q 3.828 -5.436 3.57 -4.884 Q 3.312 -4.332 2.862 -4.008 Q 2.412 -3.684 1.836 -3.684 Q 1.224 -3.684 0.882 -4.086 Q 0.54 -4.488 0.54 -5.244 Q 0.54 -5.928 0.804 -6.468 Q 1.068 -7.008 1.524 -7.326 Q 1.98 -7.644 2.532 -7.644 Q 2.88 -7.644 3.126 -7.536 Q 3.372 -7.428 3.588 -7.284 Q 3.804 -7.14 4.074 -7.032 Q 4.344 -6.924 4.74 -6.924 Q 5.016 -6.924 5.25 -7.008 Q 5.484 -7.092 5.772 -7.326 Q 6.06 -7.56 6.492 -7.992 Z M 7.764 -2.184 L 7.764 -2.184 Q 7.764 -1.512 7.506 -0.96 Q 7.248 -0.408 6.804 -0.084 Q 6.36 0.24 5.784 0.24 Q 5.172 0.24 4.824 -0.162 Q 4.476 -0.564 4.476 -1.332 Q 4.476 -2.016 4.734 -2.556 Q 4.992 -3.096 5.448 -3.408 Q 5.904 -3.72 6.48 -3.72 Q 7.104 -3.72 7.434 -3.324 Q 7.764 -2.928 7.764 -2.184 Z M 7.356 -2.268 L 7.356 -2.268 Q 7.356 -3.396 6.612 -3.396 Q 6.24 -3.396 5.946 -3.114 Q 5.652 -2.832 5.478 -2.346 Q 5.304 -1.86 5.304 -1.248 Q 5.304 -0.684 5.466 -0.42 Q 5.628 -0.156 5.964 -0.156 Q 6.348 -0.156 6.66 -0.444 Q 6.972 -0.732 7.164 -1.218 Q 7.356 -1.704 7.356 -2.268 Z M 3.42 -6.192 L 3.42 -6.192 Q 3.42 -7.32 2.676 -7.32 Q 2.304 -7.32 2.01 -7.038 Q 1.716 -6.756 1.542 -6.27 Q 1.368 -5.784 1.368 -5.172 Q 1.368 -4.608 1.53 -4.344 Q 1.692 -4.08 2.028 -4.08 Q 2.412 -4.08 2.724 -4.368 Q 3.036 -4.656 3.228 -5.142 Q 3.42 -5.628 3.42 -6.192 Z \" /></symbol><use href=\"#STIXTwoMathRegular_1193\" transform=\"translate(245.975 14.288) scale(1.167)\" fill=\"black\" /></g></g></g><g><g><g><symbol id=\"STIXTwoMathRegular_3317\" width=\"7.296\" height=\"51.216\" viewBox=\"-0.108 -31.524 7.296 51.216\"><path d=\"M 6.948 -6.228 L 6.948 -6.228 Q 6.948 -5.592 6.708 -5.16 Q 6.468 -4.728 6.084 -4.452 Q 5.7 -4.176 5.262 -4.026 Q 4.824 -3.876 4.428 -3.804 L 4.428 -3.744 Q 4.644 -3.6 4.836 -3.306 Q 5.028 -3.012 5.31 -2.46 Q 5.592 -1.908 6.084 -0.972 Q 6.288 -0.612 6.534 -0.486 Q 6.78 -0.36 7.188 -0.36 L 7.116 0 L 5.292 0 Q 4.956 -0.744 4.728 -1.242 Q 4.5 -1.74 4.332 -2.076 Q 4.164 -2.412 4.038 -2.676 Q 3.912 -2.94 3.768 -3.216 Q 3.636 -3.468 3.48 -3.546 Q 3.324 -3.624 3 -3.624 L 2.748 -3.624 L 2.304 -1.488 Q 2.208 -0.996 2.238 -0.75 Q 2.268 -0.504 2.508 -0.432 Q 2.748 -0.36 3.264 -0.36 L 3.204 0 L -0.108 0 L -0.036 -0.36 Q 0.408 -0.36 0.648 -0.432 Q 0.888 -0.504 1.014 -0.744 Q 1.14 -0.984 1.236 -1.488 L 2.292 -6.636 Q 2.364 -6.972 2.328 -7.164 Q 2.292 -7.356 2.082 -7.44 Q 1.872 -7.524 1.392 -7.524 L 1.464 -7.884 L 4.284 -7.884 Q 5.544 -7.884 6.246 -7.494 Q 6.948 -7.104 6.948 -6.228 Z M 3.504 -7.38 L 3.504 -7.38 L 2.832 -4.068 L 3.204 -4.056 Q 3.924 -4.08 4.506 -4.29 Q 5.088 -4.5 5.424 -4.956 Q 5.76 -5.412 5.76 -6.18 Q 5.76 -6.504 5.622 -6.786 Q 5.484 -7.068 5.148 -7.242 Q 4.812 -7.416 4.212 -7.416 Q 3.984 -7.416 3.846 -7.41 Q 3.708 -7.404 3.504 -7.38 Z \" /></symbol><use href=\"#STIXTwoMathRegular_3317\" transform=\"translate(333.061 14.582) scale(1.167)\" fill=\"black\" /><symbol id=\"STIXTwoMathRegular_4275\" width=\"5.868\" height=\"51.216\" viewBox=\"0 -31.524 5.868 51.216\"><path d=\"M 5.868 -2.088 L 5.868 -2.088 L 5.46 0 L 0.54 0 L 0.54 -0.588 L 2.244 -2.316 Q 2.916 -2.988 3.354 -3.504 Q 3.792 -4.02 4.008 -4.542 Q 4.224 -5.064 4.224 -5.736 Q 4.224 -6.372 3.834 -6.786 Q 3.444 -7.2 2.736 -7.2 Q 2.088 -7.2 1.65 -6.942 Q 1.212 -6.684 0.876 -6.096 L 0.552 -6.252 Q 0.852 -7.092 1.482 -7.572 Q 2.112 -8.052 3.036 -8.052 Q 3.756 -8.052 4.308 -7.794 Q 4.86 -7.536 5.172 -7.056 Q 5.484 -6.576 5.484 -5.892 Q 5.484 -5.304 5.22 -4.788 Q 4.956 -4.272 4.47 -3.732 Q 3.984 -3.192 3.312 -2.532 L 1.812 -1.08 L 1.812 -0.996 L 2.748 -1.044 L 4.308 -1.044 Q 4.656 -1.044 4.842 -1.14 Q 5.028 -1.236 5.16 -1.47 Q 5.292 -1.704 5.448 -2.088 Z \" /></symbol><use href=\"#STIXTwoMathRegular_4275\" transform=\"translate(342.077 20.575) scale(0.817)\" fill=\"black\" /></g></g></g><g><g><g><symbol id=\"STIXTwoMathRegular_3317\" width=\"7.296\" height=\"51.216\" viewBox=\"-0.108 -31.524 7.296 51.216\"><path d=\"M 6.948 -6.228 L 6.948 -6.228 Q 6.948 -5.592 6.708 -5.16 Q 6.468 -4.728 6.084 -4.452 Q 5.7 -4.176 5.262 -4.026 Q 4.824 -3.876 4.428 -3.804 L 4.428 -3.744 Q 4.644 -3.6 4.836 -3.306 Q 5.028 -3.012 5.31 -2.46 Q 5.592 -1.908 6.084 -0.972 Q 6.288 -0.612 6.534 -0.486 Q 6.78 -0.36 7.188 -0.36 L 7.116 0 L 5.292 0 Q 4.956 -0.744 4.728 -1.242 Q 4.5 -1.74 4.332 -2.076 Q 4.164 -2.412 4.038 -2.676 Q 3.912 -2.94 3.768 -3.216 Q 3.636 -3.468 3.48 -3.546 Q 3.324 -3.624 3 -3.624 L 2.748 -3.624 L 2.304 -1.488 Q 2.208 -0.996 2.238 -0.75 Q 2.268 -0.504 2.508 -0.432 Q 2.748 -0.36 3.264 -0.36 L 3.204 0 L -0.108 0 L -0.036 -0.36 Q 0.408 -0.36 0.648 -0.432 Q 0.888 -0.504 1.014 -0.744 Q 1.14 -0.984 1.236 -1.488 L 2.292 -6.636 Q 2.364 -6.972 2.328 -7.164 Q 2.292 -7.356 2.082 -7.44 Q 1.872 -7.524 1.392 -7.524 L 1.464 -7.884 L 4.284 -7.884 Q 5.544 -7.884 6.246 -7.494 Q 6.948 -7.104 6.948 -6.228 Z M 3.504 -7.38 L 3.504 -7.38 L 2.832 -4.068 L 3.204 -4.056 Q 3.924 -4.08 4.506 -4.29 Q 5.088 -4.5 5.424 -4.956 Q 5.76 -5.412 5.76 -6.18 Q 5.76 -6.504 5.622 -6.786 Q 5.484 -7.068 5.148 -7.242 Q 4.812 -7.416 4.212 -7.416 Q 3.984 -7.416 3.846 -7.41 Q 3.708 -7.404 3.504 -7.38 Z \" /></symbol><use href=\"#STIXTwoMathRegular_3317\" transform=\"translate(430.191 11.642) scale(1.167)\" fill=\"black\" /><symbol id=\"STIXTwoMathRegular_4275\" width=\"5.868\" height=\"51.216\" viewBox=\"0 -31.524 5.868 51.216\"><path d=\"M 5.868 -2.088 L 5.868 -2.088 L 5.46 0 L 0.54 0 L 0.54 -0.588 L 2.244 -2.316 Q 2.916 -2.988 3.354 -3.504 Q 3.792 -4.02 4.008 -4.542 Q 4.224 -5.064 4.224 -5.736 Q 4.224 -6.372 3.834 -6.786 Q 3.444 -7.2 2.736 -7.2 Q 2.088 -7.2 1.65 -6.942 Q 1.212 -6.684 0.876 -6.096 L 0.552 -6.252 Q 0.852 -7.092 1.482 -7.572 Q 2.112 -8.052 3.036 -8.052 Q 3.756 -8.052 4.308 -7.794 Q 4.86 -7.536 5.172 -7.056 Q 5.484 -6.576 5.484 -5.892 Q 5.484 -5.304 5.22 -4.788 Q 4.956 -4.272 4.47 -3.732 Q 3.984 -3.192 3.312 -2.532 L 1.812 -1.08 L 1.812 -0.996 L 2.748 -1.044 L 4.308 -1.044 Q 4.656 -1.044 4.842 -1.14 Q 5.028 -1.236 5.16 -1.47 Q 5.292 -1.704 5.448 -2.088 Z \" /></symbol><use href=\"#STIXTwoMathRegular_4275\" transform=\"translate(439.347 25.615) scale(0.817)\" fill=\"black\" /></g></g></g></svg>"
      ],
      "text/plain": [
       "<svg xmlns=\"http://www.w3.org/2000/svg\" xml:lang=\"en\" height=\"118.399324pt\" width=\"598.8639999999999pt\" viewBox=\"-7.832 -42.377762 598.8639999999999 118.399324\" style=\"background-color:white;\"><path d=\"M 0.0,-0.0 L 32.4,-0.0 L 35.099999999999994,-8.1 L 40.5,8.1 L 45.89999999999999,-8.1 L 51.3,8.1 L 56.699999999999996,-8.1 L 62.099999999999994,8.1 L 64.8,-0.0 L 97.19999999999999,-0.0\" style=\"stroke:black;fill:none;stroke-width:2.0;stroke-linecap:round;stroke-linejoin:round;\" /><path d=\"M 97.19999999999999,-0.0 L 129.6,-0.0 L 132.29999999999998,-8.1 L 137.7,8.1 L 143.09999999999997,-8.1 L 148.49999999999997,8.1 L 153.9,-8.1 L 159.29999999999998,8.1 L 162.0,-0.0 L 194.39999999999998,-0.0\" style=\"stroke:black;fill:none;stroke-width:2.0;stroke-linecap:round;stroke-linejoin:round;\" /><path d=\"M 194.39999999999998,-0.0 L 226.79999999999998,-0.0 L 229.49999999999997,-8.1 L 234.89999999999998,8.1 L 240.29999999999998,-8.1 L 245.7,8.1 L 251.1,-8.1 L 256.49999999999994,8.1 L 259.2,-0.0 L 291.59999999999997,-0.0\" style=\"stroke:black;fill:none;stroke-width:2.0;stroke-linecap:round;stroke-linejoin:round;\" /><path d=\"M 291.59999999999997,-0.0 L 324.0,-0.0 L 326.7,-8.1 L 332.09999999999997,8.1 L 337.49999999999994,-8.1 L 342.9,8.1 L 348.3,-8.1 L 353.7,8.1 L 356.4,-0.0 L 388.79999999999995,-0.0\" style=\"stroke:black;fill:none;stroke-width:2.0;stroke-linecap:round;stroke-linejoin:round;\" /><path d=\"M 388.79999999999995,-0.0 L 421.2,-0.0 L 423.9,-8.1 L 429.29999999999995,8.1 L 434.7,-8.1 L 440.1,8.1 L 445.5,-8.1 L 450.9,8.1 L 453.59999999999997,-0.0 L 486.0,-0.0\" style=\"stroke:black;fill:none;stroke-width:2.0;stroke-linecap:round;stroke-linejoin:round;\" /><path d=\"M 486.0,-0.0 L 518.4,-0.0 L 521.0999999999999,-8.1 L 526.5,8.1 L 531.9,-8.1 L 537.3,8.1 L 542.6999999999999,-8.1 L 548.1,8.1 L 550.8,-0.0 L 583.1999999999999,-0.0\" style=\"stroke:black;fill:none;stroke-width:2.0;stroke-linecap:round;stroke-linejoin:round;\" /><path d=\"M 0.0,64.8 L 32.4,64.8 L 35.099999999999994,56.699999999999996 L 40.5,72.89999999999999 L 45.89999999999999,56.699999999999996 L 51.3,72.89999999999999 L 56.699999999999996,56.699999999999996 L 62.099999999999994,72.89999999999999 L 64.8,64.8 L 97.19999999999999,64.8\" style=\"stroke:black;fill:none;stroke-width:2.0;stroke-linecap:round;stroke-linejoin:round;\" /><path d=\"M 97.19999999999999,64.8 L 129.6,64.8 L 132.29999999999998,56.699999999999996 L 137.7,72.89999999999999 L 143.09999999999997,56.699999999999996 L 148.49999999999997,72.89999999999999 L 153.9,56.699999999999996 L 159.29999999999998,72.89999999999999 L 162.0,64.8 L 194.39999999999998,64.8\" style=\"stroke:black;fill:none;stroke-width:2.0;stroke-linecap:round;stroke-linejoin:round;\" /><path d=\"M 194.39999999999998,64.8 L 226.79999999999998,64.8 L 229.49999999999997,56.699999999999996 L 234.89999999999998,72.89999999999999 L 240.29999999999998,56.699999999999996 L 245.7,72.89999999999999 L 251.1,56.699999999999996 L 256.49999999999994,72.89999999999999 L 259.2,64.8 L 291.59999999999997,64.8\" style=\"stroke:black;fill:none;stroke-width:2.0;stroke-linecap:round;stroke-linejoin:round;\" /><path d=\"M 291.59999999999997,64.8 L 324.0,64.8 L 326.7,56.699999999999996 L 332.09999999999997,72.89999999999999 L 337.49999999999994,56.699999999999996 L 342.9,72.89999999999999 L 348.3,56.699999999999996 L 353.7,72.89999999999999 L 356.4,64.8 L 388.79999999999995,64.8\" style=\"stroke:black;fill:none;stroke-width:2.0;stroke-linecap:round;stroke-linejoin:round;\" /><path d=\"M 388.79999999999995,64.8 L 421.2,64.8 L 423.9,56.699999999999996 L 429.29999999999995,72.89999999999999 L 434.7,56.699999999999996 L 440.1,72.89999999999999 L 445.5,56.699999999999996 L 450.9,72.89999999999999 L 453.59999999999997,64.8 L 486.0,64.8\" style=\"stroke:black;fill:none;stroke-width:2.0;stroke-linecap:round;stroke-linejoin:round;\" /><g><g><g><symbol id=\"STIXTwoMathRegular_3317\" width=\"7.296\" height=\"51.216\" viewBox=\"-0.108 -31.524 7.296 51.216\"><path d=\"M 6.948 -6.228 L 6.948 -6.228 Q 6.948 -5.592 6.708 -5.16 Q 6.468 -4.728 6.084 -4.452 Q 5.7 -4.176 5.262 -4.026 Q 4.824 -3.876 4.428 -3.804 L 4.428 -3.744 Q 4.644 -3.6 4.836 -3.306 Q 5.028 -3.012 5.31 -2.46 Q 5.592 -1.908 6.084 -0.972 Q 6.288 -0.612 6.534 -0.486 Q 6.78 -0.36 7.188 -0.36 L 7.116 0 L 5.292 0 Q 4.956 -0.744 4.728 -1.242 Q 4.5 -1.74 4.332 -2.076 Q 4.164 -2.412 4.038 -2.676 Q 3.912 -2.94 3.768 -3.216 Q 3.636 -3.468 3.48 -3.546 Q 3.324 -3.624 3 -3.624 L 2.748 -3.624 L 2.304 -1.488 Q 2.208 -0.996 2.238 -0.75 Q 2.268 -0.504 2.508 -0.432 Q 2.748 -0.36 3.264 -0.36 L 3.204 0 L -0.108 0 L -0.036 -0.36 Q 0.408 -0.36 0.648 -0.432 Q 0.888 -0.504 1.014 -0.744 Q 1.14 -0.984 1.236 -1.488 L 2.292 -6.636 Q 2.364 -6.972 2.328 -7.164 Q 2.292 -7.356 2.082 -7.44 Q 1.872 -7.524 1.392 -7.524 L 1.464 -7.884 L 4.284 -7.884 Q 5.544 -7.884 6.246 -7.494 Q 6.948 -7.104 6.948 -6.228 Z M 3.504 -7.38 L 3.504 -7.38 L 2.832 -4.068 L 3.204 -4.056 Q 3.924 -4.08 4.506 -4.29 Q 5.088 -4.5 5.424 -4.956 Q 5.76 -5.412 5.76 -6.18 Q 5.76 -6.504 5.622 -6.786 Q 5.484 -7.068 5.148 -7.242 Q 4.812 -7.416 4.212 -7.416 Q 3.984 -7.416 3.846 -7.41 Q 3.708 -7.404 3.504 -7.38 Z \" /></symbol><use href=\"#STIXTwoMathRegular_3317\" transform=\"translate(38.971 -53.158) scale(1.167)\" fill=\"black\" /><symbol id=\"STIXTwoMathRegular_4274\" width=\"5.184\" height=\"51.216\" viewBox=\"0 -31.524 5.184 51.216\"><path d=\"M 5.184 0 L 5.184 0 L 1.116 0 L 1.116 -0.432 Q 1.98 -0.432 2.262 -0.606 Q 2.544 -0.78 2.544 -1.236 L 2.544 -6.468 Q 2.544 -6.792 2.448 -6.936 Q 2.352 -7.08 2.1 -7.08 Q 1.908 -7.08 1.578 -7.026 Q 1.248 -6.972 1.008 -6.912 L 1.008 -7.392 L 3.228 -8.004 L 3.744 -8.004 L 3.744 -1.236 Q 3.744 -0.78 4.05 -0.606 Q 4.356 -0.432 5.184 -0.432 Z \" /></symbol><use href=\"#STIXTwoMathRegular_4274\" transform=\"translate(48.127 -39.185) scale(0.817)\" fill=\"black\" /><use href=\"#STIXTwoMathRegular_4274\" transform=\"translate(53.115 -39.185) scale(0.817)\" fill=\"black\" /></g></g></g><g><g><g><symbol id=\"STIXTwoMathRegular_3317\" width=\"7.296\" height=\"51.216\" viewBox=\"-0.108 -31.524 7.296 51.216\"><path d=\"M 6.948 -6.228 L 6.948 -6.228 Q 6.948 -5.592 6.708 -5.16 Q 6.468 -4.728 6.084 -4.452 Q 5.7 -4.176 5.262 -4.026 Q 4.824 -3.876 4.428 -3.804 L 4.428 -3.744 Q 4.644 -3.6 4.836 -3.306 Q 5.028 -3.012 5.31 -2.46 Q 5.592 -1.908 6.084 -0.972 Q 6.288 -0.612 6.534 -0.486 Q 6.78 -0.36 7.188 -0.36 L 7.116 0 L 5.292 0 Q 4.956 -0.744 4.728 -1.242 Q 4.5 -1.74 4.332 -2.076 Q 4.164 -2.412 4.038 -2.676 Q 3.912 -2.94 3.768 -3.216 Q 3.636 -3.468 3.48 -3.546 Q 3.324 -3.624 3 -3.624 L 2.748 -3.624 L 2.304 -1.488 Q 2.208 -0.996 2.238 -0.75 Q 2.268 -0.504 2.508 -0.432 Q 2.748 -0.36 3.264 -0.36 L 3.204 0 L -0.108 0 L -0.036 -0.36 Q 0.408 -0.36 0.648 -0.432 Q 0.888 -0.504 1.014 -0.744 Q 1.14 -0.984 1.236 -1.488 L 2.292 -6.636 Q 2.364 -6.972 2.328 -7.164 Q 2.292 -7.356 2.082 -7.44 Q 1.872 -7.524 1.392 -7.524 L 1.464 -7.884 L 4.284 -7.884 Q 5.544 -7.884 6.246 -7.494 Q 6.948 -7.104 6.948 -6.228 Z M 3.504 -7.38 L 3.504 -7.38 L 2.832 -4.068 L 3.204 -4.056 Q 3.924 -4.08 4.506 -4.29 Q 5.088 -4.5 5.424 -4.956 Q 5.76 -5.412 5.76 -6.18 Q 5.76 -6.504 5.622 -6.786 Q 5.484 -7.068 5.148 -7.242 Q 4.812 -7.416 4.212 -7.416 Q 3.984 -7.416 3.846 -7.41 Q 3.708 -7.404 3.504 -7.38 Z \" /></symbol><use href=\"#STIXTwoMathRegular_3317\" transform=\"translate(136.094 -50.218) scale(1.167)\" fill=\"black\" /><symbol id=\"STIXTwoMathRegular_4275\" width=\"5.868\" height=\"51.216\" viewBox=\"0 -31.524 5.868 51.216\"><path d=\"M 5.868 -2.088 L 5.868 -2.088 L 5.46 0 L 0.54 0 L 0.54 -0.588 L 2.244 -2.316 Q 2.916 -2.988 3.354 -3.504 Q 3.792 -4.02 4.008 -4.542 Q 4.224 -5.064 4.224 -5.736 Q 4.224 -6.372 3.834 -6.786 Q 3.444 -7.2 2.736 -7.2 Q 2.088 -7.2 1.65 -6.942 Q 1.212 -6.684 0.876 -6.096 L 0.552 -6.252 Q 0.852 -7.092 1.482 -7.572 Q 2.112 -8.052 3.036 -8.052 Q 3.756 -8.052 4.308 -7.794 Q 4.86 -7.536 5.172 -7.056 Q 5.484 -6.576 5.484 -5.892 Q 5.484 -5.304 5.22 -4.788 Q 4.956 -4.272 4.47 -3.732 Q 3.984 -3.192 3.312 -2.532 L 1.812 -1.08 L 1.812 -0.996 L 2.748 -1.044 L 4.308 -1.044 Q 4.656 -1.044 4.842 -1.14 Q 5.028 -1.236 5.16 -1.47 Q 5.292 -1.704 5.448 -2.088 Z \" /></symbol><use href=\"#STIXTwoMathRegular_4275\" transform=\"translate(145.11 -45.163) scale(0.817)\" fill=\"black\" /><use href=\"#STIXTwoMathRegular_4275\" transform=\"translate(150.245 -45.163) scale(0.817)\" fill=\"black\" /></g></g></g><g><g><g><symbol id=\"STIXTwoMathRegular_4022\" width=\"5.964\" height=\"51.216\" viewBox=\"0 -31.524 5.964 51.216\"><path d=\"M 5.964 -5.688 L 5.964 -5.688 Q 5.964 -3.864 5.496 -2.55 Q 5.028 -1.236 4.242 -0.534 Q 3.456 0.168 2.52 0.168 Q 1.716 0.168 1.188 -0.468 Q 0.66 -1.104 0.66 -2.496 Q 0.66 -3.732 0.948 -4.83 Q 1.236 -5.928 1.746 -6.78 Q 2.256 -7.632 2.91 -8.118 Q 3.564 -8.604 4.296 -8.604 Q 5.148 -8.604 5.556 -7.8 Q 5.964 -6.996 5.964 -5.688 Z M 2.76 -0.876 L 2.76 -0.876 Q 3.336 -0.876 3.846 -1.2 Q 4.356 -1.524 4.734 -2.226 Q 5.112 -2.928 5.268 -4.056 L 1.368 -4.056 Q 1.344 -3.828 1.326 -3.534 Q 1.308 -3.24 1.308 -3 Q 1.308 -2.16 1.536 -1.698 Q 1.764 -1.236 2.106 -1.056 Q 2.448 -0.876 2.76 -0.876 Z M 4.056 -7.56 L 4.056 -7.56 Q 3.552 -7.56 3.036 -7.218 Q 2.52 -6.876 2.112 -6.234 Q 1.704 -5.592 1.488 -4.692 L 5.352 -4.692 Q 5.364 -4.86 5.37 -5.052 Q 5.376 -5.244 5.376 -5.4 Q 5.376 -5.964 5.244 -6.456 Q 5.112 -6.948 4.818 -7.254 Q 4.524 -7.56 4.056 -7.56 Z \" /></symbol><use href=\"#STIXTwoMathRegular_4022\" transform=\"translate(239.787 -50.414) scale(1.167)\" fill=\"black\" /></g></g></g><g><g><g><symbol id=\"STIXTwoMathRegular_3316\" width=\"8.22\" height=\"51.216\" viewBox=\"0 -31.524 8.22 51.216\"><path d=\"M 8.22 -4.908 L 8.22 -4.908 Q 8.22 -3.516 7.752 -2.502 Q 7.284 -1.488 6.498 -0.87 Q 5.712 -0.252 4.752 -0.036 L 4.752 0 Q 4.932 0.264 5.136 0.57 Q 5.34 0.876 5.628 1.14 Q 5.916 1.404 6.348 1.572 Q 6.78 1.74 7.428 1.74 L 7.368 2.076 L 6.768 2.076 Q 5.844 2.076 5.256 1.92 Q 4.668 1.764 4.326 1.44 Q 3.984 1.116 3.792 0.612 L 3.612 0.096 Q 2.208 0.012 1.47 -0.744 Q 0.732 -1.5 0.72 -3.024 Q 0.72 -4.104 1.056 -5.016 Q 1.392 -5.928 1.992 -6.606 Q 2.592 -7.284 3.408 -7.656 Q 4.224 -8.028 5.184 -8.028 Q 6.252 -8.028 6.924 -7.59 Q 7.596 -7.152 7.908 -6.438 Q 8.22 -5.724 8.22 -4.908 Z M 6.996 -4.98 L 6.996 -4.98 Q 6.996 -6.096 6.522 -6.804 Q 6.048 -7.512 5.004 -7.512 Q 4.2 -7.512 3.504 -6.966 Q 2.808 -6.42 2.382 -5.394 Q 1.956 -4.368 1.956 -2.916 Q 1.956 -1.764 2.394 -1.068 Q 2.832 -0.372 3.888 -0.372 Q 4.86 -0.372 5.556 -0.954 Q 6.252 -1.536 6.624 -2.574 Q 6.996 -3.612 6.996 -4.98 Z \" /></symbol><use href=\"#STIXTwoMathRegular_3316\" transform=\"translate(333.058 -53.158) scale(1.167)\" fill=\"black\" /><symbol id=\"STIXTwoMathRegular_4274\" width=\"5.184\" height=\"51.216\" viewBox=\"0 -31.524 5.184 51.216\"><path d=\"M 5.184 0 L 5.184 0 L 1.116 0 L 1.116 -0.432 Q 1.98 -0.432 2.262 -0.606 Q 2.544 -0.78 2.544 -1.236 L 2.544 -6.468 Q 2.544 -6.792 2.448 -6.936 Q 2.352 -7.08 2.1 -7.08 Q 1.908 -7.08 1.578 -7.026 Q 1.248 -6.972 1.008 -6.912 L 1.008 -7.392 L 3.228 -8.004 L 3.744 -8.004 L 3.744 -1.236 Q 3.744 -0.78 4.05 -0.606 Q 4.356 -0.432 5.184 -0.432 Z \" /></symbol><use href=\"#STIXTwoMathRegular_4274\" transform=\"translate(342.354 -39.185) scale(0.817)\" fill=\"black\" /><rect x=\"333.058\" y=\"-28.672\" width=\"13.444\" height=\"0.952\" fill=\"black\" /></g></g></g><g><g><g><symbol id=\"STIXTwoMathRegular_3317\" width=\"7.296\" height=\"51.216\" viewBox=\"-0.108 -31.524 7.296 51.216\"><path d=\"M 6.948 -6.228 L 6.948 -6.228 Q 6.948 -5.592 6.708 -5.16 Q 6.468 -4.728 6.084 -4.452 Q 5.7 -4.176 5.262 -4.026 Q 4.824 -3.876 4.428 -3.804 L 4.428 -3.744 Q 4.644 -3.6 4.836 -3.306 Q 5.028 -3.012 5.31 -2.46 Q 5.592 -1.908 6.084 -0.972 Q 6.288 -0.612 6.534 -0.486 Q 6.78 -0.36 7.188 -0.36 L 7.116 0 L 5.292 0 Q 4.956 -0.744 4.728 -1.242 Q 4.5 -1.74 4.332 -2.076 Q 4.164 -2.412 4.038 -2.676 Q 3.912 -2.94 3.768 -3.216 Q 3.636 -3.468 3.48 -3.546 Q 3.324 -3.624 3 -3.624 L 2.748 -3.624 L 2.304 -1.488 Q 2.208 -0.996 2.238 -0.75 Q 2.268 -0.504 2.508 -0.432 Q 2.748 -0.36 3.264 -0.36 L 3.204 0 L -0.108 0 L -0.036 -0.36 Q 0.408 -0.36 0.648 -0.432 Q 0.888 -0.504 1.014 -0.744 Q 1.14 -0.984 1.236 -1.488 L 2.292 -6.636 Q 2.364 -6.972 2.328 -7.164 Q 2.292 -7.356 2.082 -7.44 Q 1.872 -7.524 1.392 -7.524 L 1.464 -7.884 L 4.284 -7.884 Q 5.544 -7.884 6.246 -7.494 Q 6.948 -7.104 6.948 -6.228 Z M 3.504 -7.38 L 3.504 -7.38 L 2.832 -4.068 L 3.204 -4.056 Q 3.924 -4.08 4.506 -4.29 Q 5.088 -4.5 5.424 -4.956 Q 5.76 -5.412 5.76 -6.18 Q 5.76 -6.504 5.622 -6.786 Q 5.484 -7.068 5.148 -7.242 Q 4.812 -7.416 4.212 -7.416 Q 3.984 -7.416 3.846 -7.41 Q 3.708 -7.404 3.504 -7.38 Z \" /></symbol><use href=\"#STIXTwoMathRegular_3317\" transform=\"translate(430.265 -53.158) scale(1.167)\" fill=\"black\" /><symbol id=\"STIXTwoMathRegular_4274\" width=\"5.184\" height=\"51.216\" viewBox=\"0 -31.524 5.184 51.216\"><path d=\"M 5.184 0 L 5.184 0 L 1.116 0 L 1.116 -0.432 Q 1.98 -0.432 2.262 -0.606 Q 2.544 -0.78 2.544 -1.236 L 2.544 -6.468 Q 2.544 -6.792 2.448 -6.936 Q 2.352 -7.08 2.1 -7.08 Q 1.908 -7.08 1.578 -7.026 Q 1.248 -6.972 1.008 -6.912 L 1.008 -7.392 L 3.228 -8.004 L 3.744 -8.004 L 3.744 -1.236 Q 3.744 -0.78 4.05 -0.606 Q 4.356 -0.432 5.184 -0.432 Z \" /></symbol><use href=\"#STIXTwoMathRegular_4274\" transform=\"translate(439.421 -39.185) scale(0.817)\" fill=\"black\" /></g></g></g><g><g><g><symbol id=\"STIXTwoMathRegular_1657\" width=\"9.948\" height=\"51.216\" viewBox=\"0 -31.524 9.948 51.216\"><path d=\"M 8.004 -11.064 L 8.004 -11.064 L 9.948 -11.064 L 9.948 -10.248 L 8.556 -10.248 L 4.956 3.18 L 4.452 3.18 L 1.656 -3.828 L 0.408 -3.348 L 0.216 -3.684 L 2.124 -5.004 L 2.364 -5.004 L 4.74 1.116 L 4.788 1.116 Z \" /></symbol><use href=\"#STIXTwoMathRegular_1657\" transform=\"translate(525.185 -53.928) scale(1.167)\" fill=\"black\" /><symbol id=\"STIXTwoMathRegular_3354\" width=\"6.48\" height=\"51.216\" viewBox=\"0 -31.524 6.48 51.216\"><path d=\"M 3.78 -3.576 L 3.78 -3.576 L 4.368 -4.584 Q 4.608 -5.016 4.98 -5.382 Q 5.352 -5.748 5.88 -5.748 Q 6.228 -5.748 6.354 -5.61 Q 6.48 -5.472 6.48 -5.22 Q 6.48 -5.004 6.324 -4.83 Q 6.168 -4.656 5.928 -4.656 Q 5.784 -4.656 5.604 -4.716 Q 5.424 -4.776 5.304 -4.776 Q 5.1 -4.776 4.956 -4.65 Q 4.812 -4.524 4.656 -4.272 L 3.924 -3.108 L 4.176 -2.292 Q 4.428 -1.464 4.638 -1.104 Q 4.848 -0.744 5.124 -0.744 Q 5.364 -0.744 5.556 -0.918 Q 5.748 -1.092 5.988 -1.416 L 6.24 -1.224 Q 6.072 -0.96 5.838 -0.648 Q 5.604 -0.336 5.292 -0.108 Q 4.98 0.12 4.572 0.12 Q 4.164 0.12 3.942 -0.204 Q 3.72 -0.528 3.588 -1.116 L 3.288 -2.328 L 3.24 -2.328 L 2.472 -1.08 Q 2.184 -0.612 1.848 -0.252 Q 1.512 0.108 0.972 0.108 Q 0.588 0.108 0.432 -0.072 Q 0.276 -0.252 0.276 -0.48 Q 0.276 -0.66 0.402 -0.822 Q 0.528 -0.984 0.744 -0.984 Q 0.948 -0.984 1.146 -0.906 Q 1.344 -0.828 1.5 -0.828 Q 1.524 -0.828 1.608 -0.858 Q 1.692 -0.888 1.848 -1.032 Q 2.004 -1.176 2.232 -1.512 L 3.096 -2.772 L 2.76 -3.864 Q 2.604 -4.368 2.448 -4.656 Q 2.292 -4.944 2.064 -5.07 Q 1.836 -5.196 1.44 -5.184 Q 1.296 -5.184 1.182 -5.166 Q 1.068 -5.148 1.068 -5.148 L 1.068 -5.508 L 2.736 -5.7 L 2.916 -5.7 Q 3.132 -5.448 3.306 -5.064 Q 3.48 -4.68 3.6 -4.188 L 3.744 -3.576 Z \" /></symbol><use href=\"#STIXTwoMathRegular_3354\" transform=\"translate(536.301 -53.928) scale(1.167)\" fill=\"black\" /><rect x=\"536.301\" y=\"-30.058\" width=\"7.966\" height=\"0.952\" fill=\"black\" /></g></g></g><g><g><g><symbol id=\"STIXTwoMathRegular_868\" width=\"8.772\" height=\"51.216\" viewBox=\"0 -31.524 8.772 51.216\"><path d=\"M 8.496 0 L 8.496 0 L 5.364 0 L 5.364 -0.864 Q 5.928 -1.32 6.318 -1.95 Q 6.708 -2.58 6.906 -3.282 Q 7.104 -3.984 7.104 -4.644 Q 7.104 -6 6.456 -6.762 Q 5.808 -7.524 4.704 -7.524 Q 3.564 -7.524 2.904 -6.75 Q 2.244 -5.976 2.244 -4.644 Q 2.244 -3.996 2.436 -3.282 Q 2.628 -2.568 3.018 -1.932 Q 3.408 -1.296 3.984 -0.852 L 3.984 0 L 0.816 0 L 0.564 -2.124 L 0.912 -2.124 Q 1.02 -1.716 1.122 -1.464 Q 1.224 -1.212 1.41 -1.092 Q 1.596 -0.972 1.932 -0.972 L 3.024 -0.972 L 3.024 -1.044 Q 2.688 -1.296 2.322 -1.626 Q 1.956 -1.956 1.644 -2.388 Q 1.332 -2.82 1.14 -3.39 Q 0.948 -3.96 0.948 -4.692 Q 0.948 -5.688 1.428 -6.438 Q 1.908 -7.188 2.76 -7.608 Q 3.612 -8.028 4.716 -8.028 Q 5.832 -8.028 6.66 -7.608 Q 7.488 -7.188 7.944 -6.438 Q 8.4 -5.688 8.4 -4.704 Q 8.4 -3.972 8.196 -3.402 Q 7.992 -2.832 7.674 -2.394 Q 7.356 -1.956 7.002 -1.626 Q 6.648 -1.296 6.336 -1.044 L 6.336 -0.972 L 7.344 -0.972 Q 7.704 -0.972 7.89 -1.092 Q 8.076 -1.212 8.19 -1.47 Q 8.304 -1.728 8.424 -2.124 L 8.772 -2.124 Z \" /></symbol><use href=\"#STIXTwoMathRegular_868\" transform=\"translate(43.49 14.582) scale(1.167)\" fill=\"black\" /></g></g></g><g><g><g><symbol id=\"STIXTwoMathRegular_1681\" width=\"7.896\" height=\"51.216\" viewBox=\"0 -31.524 7.896 51.216\"><path d=\"M 7.896 0 L 7.896 0 L 0.276 0 L 6.984 -6.72 L 7.608 -6.204 L 2.232 -0.804 L 7.896 -0.804 Z \" /></symbol><use href=\"#STIXTwoMathRegular_1681\" transform=\"translate(141.054 14.582) scale(1.167)\" fill=\"black\" /></g></g></g><g><g><g><symbol id=\"STIXTwoMathRegular_4244\" width=\"3.756\" height=\"51.216\" viewBox=\"0 -31.524 3.756 51.216\"><path d=\"M 3.756 0 L 3.756 0 L 2.76 0 L 2.76 -6.348 L 1.212 -6.348 L 1.212 -6.996 Q 1.848 -7.092 2.256 -7.23 Q 2.664 -7.368 3 -7.56 L 3.756 -7.56 Z \" /></symbol><use href=\"#STIXTwoMathRegular_4244\" transform=\"translate(231.751 14.288) scale(1.167)\" fill=\"black\" /><symbol id=\"STIXTwoMathRegular_4243\" width=\"5.556\" height=\"51.216\" viewBox=\"0 -31.524 5.556 51.216\"><path d=\"M 3.048 0.144 L 3.048 0.144 Q 1.884 0.144 1.218 -0.882 Q 0.552 -1.908 0.552 -3.804 Q 0.552 -5.712 1.218 -6.702 Q 1.884 -7.692 3.048 -7.692 Q 4.224 -7.692 4.89 -6.696 Q 5.556 -5.7 5.556 -3.804 Q 5.556 -1.908 4.89 -0.882 Q 4.224 0.144 3.048 0.144 Z M 3.048 -0.672 L 3.048 -0.672 Q 3.732 -0.672 4.152 -1.41 Q 4.572 -2.148 4.572 -3.804 Q 4.572 -5.46 4.152 -6.174 Q 3.732 -6.888 3.048 -6.888 Q 2.376 -6.888 1.95 -6.174 Q 1.524 -5.46 1.524 -3.804 Q 1.524 -2.148 1.95 -1.41 Q 2.376 -0.672 3.048 -0.672 Z \" /></symbol><use href=\"#STIXTwoMathRegular_4243\" transform=\"translate(238.863 14.288) scale(1.167)\" fill=\"black\" /><symbol id=\"STIXTwoMathRegular_1193\" width=\"7.764\" height=\"51.216\" viewBox=\"0 -31.524 7.764 51.216\"><path d=\"M 7.032 -7.992 L 7.032 -7.992 L 2.172 0.252 L 1.596 0.252 L 5.88 -6.984 L 5.82 -6.984 Q 5.52 -6.78 5.238 -6.69 Q 4.956 -6.6 4.584 -6.6 Q 4.368 -6.6 4.206 -6.636 Q 4.044 -6.672 3.768 -6.792 L 3.744 -6.768 Q 3.78 -6.636 3.804 -6.468 Q 3.828 -6.3 3.828 -6.096 Q 3.828 -5.436 3.57 -4.884 Q 3.312 -4.332 2.862 -4.008 Q 2.412 -3.684 1.836 -3.684 Q 1.224 -3.684 0.882 -4.086 Q 0.54 -4.488 0.54 -5.244 Q 0.54 -5.928 0.804 -6.468 Q 1.068 -7.008 1.524 -7.326 Q 1.98 -7.644 2.532 -7.644 Q 2.88 -7.644 3.126 -7.536 Q 3.372 -7.428 3.588 -7.284 Q 3.804 -7.14 4.074 -7.032 Q 4.344 -6.924 4.74 -6.924 Q 5.016 -6.924 5.25 -7.008 Q 5.484 -7.092 5.772 -7.326 Q 6.06 -7.56 6.492 -7.992 Z M 7.764 -2.184 L 7.764 -2.184 Q 7.764 -1.512 7.506 -0.96 Q 7.248 -0.408 6.804 -0.084 Q 6.36 0.24 5.784 0.24 Q 5.172 0.24 4.824 -0.162 Q 4.476 -0.564 4.476 -1.332 Q 4.476 -2.016 4.734 -2.556 Q 4.992 -3.096 5.448 -3.408 Q 5.904 -3.72 6.48 -3.72 Q 7.104 -3.72 7.434 -3.324 Q 7.764 -2.928 7.764 -2.184 Z M 7.356 -2.268 L 7.356 -2.268 Q 7.356 -3.396 6.612 -3.396 Q 6.24 -3.396 5.946 -3.114 Q 5.652 -2.832 5.478 -2.346 Q 5.304 -1.86 5.304 -1.248 Q 5.304 -0.684 5.466 -0.42 Q 5.628 -0.156 5.964 -0.156 Q 6.348 -0.156 6.66 -0.444 Q 6.972 -0.732 7.164 -1.218 Q 7.356 -1.704 7.356 -2.268 Z M 3.42 -6.192 L 3.42 -6.192 Q 3.42 -7.32 2.676 -7.32 Q 2.304 -7.32 2.01 -7.038 Q 1.716 -6.756 1.542 -6.27 Q 1.368 -5.784 1.368 -5.172 Q 1.368 -4.608 1.53 -4.344 Q 1.692 -4.08 2.028 -4.08 Q 2.412 -4.08 2.724 -4.368 Q 3.036 -4.656 3.228 -5.142 Q 3.42 -5.628 3.42 -6.192 Z \" /></symbol><use href=\"#STIXTwoMathRegular_1193\" transform=\"translate(245.975 14.288) scale(1.167)\" fill=\"black\" /></g></g></g><g><g><g><symbol id=\"STIXTwoMathRegular_3317\" width=\"7.296\" height=\"51.216\" viewBox=\"-0.108 -31.524 7.296 51.216\"><path d=\"M 6.948 -6.228 L 6.948 -6.228 Q 6.948 -5.592 6.708 -5.16 Q 6.468 -4.728 6.084 -4.452 Q 5.7 -4.176 5.262 -4.026 Q 4.824 -3.876 4.428 -3.804 L 4.428 -3.744 Q 4.644 -3.6 4.836 -3.306 Q 5.028 -3.012 5.31 -2.46 Q 5.592 -1.908 6.084 -0.972 Q 6.288 -0.612 6.534 -0.486 Q 6.78 -0.36 7.188 -0.36 L 7.116 0 L 5.292 0 Q 4.956 -0.744 4.728 -1.242 Q 4.5 -1.74 4.332 -2.076 Q 4.164 -2.412 4.038 -2.676 Q 3.912 -2.94 3.768 -3.216 Q 3.636 -3.468 3.48 -3.546 Q 3.324 -3.624 3 -3.624 L 2.748 -3.624 L 2.304 -1.488 Q 2.208 -0.996 2.238 -0.75 Q 2.268 -0.504 2.508 -0.432 Q 2.748 -0.36 3.264 -0.36 L 3.204 0 L -0.108 0 L -0.036 -0.36 Q 0.408 -0.36 0.648 -0.432 Q 0.888 -0.504 1.014 -0.744 Q 1.14 -0.984 1.236 -1.488 L 2.292 -6.636 Q 2.364 -6.972 2.328 -7.164 Q 2.292 -7.356 2.082 -7.44 Q 1.872 -7.524 1.392 -7.524 L 1.464 -7.884 L 4.284 -7.884 Q 5.544 -7.884 6.246 -7.494 Q 6.948 -7.104 6.948 -6.228 Z M 3.504 -7.38 L 3.504 -7.38 L 2.832 -4.068 L 3.204 -4.056 Q 3.924 -4.08 4.506 -4.29 Q 5.088 -4.5 5.424 -4.956 Q 5.76 -5.412 5.76 -6.18 Q 5.76 -6.504 5.622 -6.786 Q 5.484 -7.068 5.148 -7.242 Q 4.812 -7.416 4.212 -7.416 Q 3.984 -7.416 3.846 -7.41 Q 3.708 -7.404 3.504 -7.38 Z \" /></symbol><use href=\"#STIXTwoMathRegular_3317\" transform=\"translate(333.061 14.582) scale(1.167)\" fill=\"black\" /><symbol id=\"STIXTwoMathRegular_4275\" width=\"5.868\" height=\"51.216\" viewBox=\"0 -31.524 5.868 51.216\"><path d=\"M 5.868 -2.088 L 5.868 -2.088 L 5.46 0 L 0.54 0 L 0.54 -0.588 L 2.244 -2.316 Q 2.916 -2.988 3.354 -3.504 Q 3.792 -4.02 4.008 -4.542 Q 4.224 -5.064 4.224 -5.736 Q 4.224 -6.372 3.834 -6.786 Q 3.444 -7.2 2.736 -7.2 Q 2.088 -7.2 1.65 -6.942 Q 1.212 -6.684 0.876 -6.096 L 0.552 -6.252 Q 0.852 -7.092 1.482 -7.572 Q 2.112 -8.052 3.036 -8.052 Q 3.756 -8.052 4.308 -7.794 Q 4.86 -7.536 5.172 -7.056 Q 5.484 -6.576 5.484 -5.892 Q 5.484 -5.304 5.22 -4.788 Q 4.956 -4.272 4.47 -3.732 Q 3.984 -3.192 3.312 -2.532 L 1.812 -1.08 L 1.812 -0.996 L 2.748 -1.044 L 4.308 -1.044 Q 4.656 -1.044 4.842 -1.14 Q 5.028 -1.236 5.16 -1.47 Q 5.292 -1.704 5.448 -2.088 Z \" /></symbol><use href=\"#STIXTwoMathRegular_4275\" transform=\"translate(342.077 20.575) scale(0.817)\" fill=\"black\" /></g></g></g><g><g><g><symbol id=\"STIXTwoMathRegular_3317\" width=\"7.296\" height=\"51.216\" viewBox=\"-0.108 -31.524 7.296 51.216\"><path d=\"M 6.948 -6.228 L 6.948 -6.228 Q 6.948 -5.592 6.708 -5.16 Q 6.468 -4.728 6.084 -4.452 Q 5.7 -4.176 5.262 -4.026 Q 4.824 -3.876 4.428 -3.804 L 4.428 -3.744 Q 4.644 -3.6 4.836 -3.306 Q 5.028 -3.012 5.31 -2.46 Q 5.592 -1.908 6.084 -0.972 Q 6.288 -0.612 6.534 -0.486 Q 6.78 -0.36 7.188 -0.36 L 7.116 0 L 5.292 0 Q 4.956 -0.744 4.728 -1.242 Q 4.5 -1.74 4.332 -2.076 Q 4.164 -2.412 4.038 -2.676 Q 3.912 -2.94 3.768 -3.216 Q 3.636 -3.468 3.48 -3.546 Q 3.324 -3.624 3 -3.624 L 2.748 -3.624 L 2.304 -1.488 Q 2.208 -0.996 2.238 -0.75 Q 2.268 -0.504 2.508 -0.432 Q 2.748 -0.36 3.264 -0.36 L 3.204 0 L -0.108 0 L -0.036 -0.36 Q 0.408 -0.36 0.648 -0.432 Q 0.888 -0.504 1.014 -0.744 Q 1.14 -0.984 1.236 -1.488 L 2.292 -6.636 Q 2.364 -6.972 2.328 -7.164 Q 2.292 -7.356 2.082 -7.44 Q 1.872 -7.524 1.392 -7.524 L 1.464 -7.884 L 4.284 -7.884 Q 5.544 -7.884 6.246 -7.494 Q 6.948 -7.104 6.948 -6.228 Z M 3.504 -7.38 L 3.504 -7.38 L 2.832 -4.068 L 3.204 -4.056 Q 3.924 -4.08 4.506 -4.29 Q 5.088 -4.5 5.424 -4.956 Q 5.76 -5.412 5.76 -6.18 Q 5.76 -6.504 5.622 -6.786 Q 5.484 -7.068 5.148 -7.242 Q 4.812 -7.416 4.212 -7.416 Q 3.984 -7.416 3.846 -7.41 Q 3.708 -7.404 3.504 -7.38 Z \" /></symbol><use href=\"#STIXTwoMathRegular_3317\" transform=\"translate(430.191 11.642) scale(1.167)\" fill=\"black\" /><symbol id=\"STIXTwoMathRegular_4275\" width=\"5.868\" height=\"51.216\" viewBox=\"0 -31.524 5.868 51.216\"><path d=\"M 5.868 -2.088 L 5.868 -2.088 L 5.46 0 L 0.54 0 L 0.54 -0.588 L 2.244 -2.316 Q 2.916 -2.988 3.354 -3.504 Q 3.792 -4.02 4.008 -4.542 Q 4.224 -5.064 4.224 -5.736 Q 4.224 -6.372 3.834 -6.786 Q 3.444 -7.2 2.736 -7.2 Q 2.088 -7.2 1.65 -6.942 Q 1.212 -6.684 0.876 -6.096 L 0.552 -6.252 Q 0.852 -7.092 1.482 -7.572 Q 2.112 -8.052 3.036 -8.052 Q 3.756 -8.052 4.308 -7.794 Q 4.86 -7.536 5.172 -7.056 Q 5.484 -6.576 5.484 -5.892 Q 5.484 -5.304 5.22 -4.788 Q 4.956 -4.272 4.47 -3.732 Q 3.984 -3.192 3.312 -2.532 L 1.812 -1.08 L 1.812 -0.996 L 2.748 -1.044 L 4.308 -1.044 Q 4.656 -1.044 4.842 -1.14 Q 5.028 -1.236 5.16 -1.47 Q 5.292 -1.704 5.448 -2.088 Z \" /></symbol><use href=\"#STIXTwoMathRegular_4275\" transform=\"translate(439.347 25.615) scale(0.817)\" fill=\"black\" /></g></g></g></svg>"
      ]
     },
     "execution_count": 29,
     "metadata": {},
     "output_type": "execute_result"
    }
   ],
   "source": [
    "# Test some mathtext in svg backend\n",
    "schemdraw.use('svg')\n",
    "d = schemdraw.Drawing(font='sans')\n",
    "d += elm.Resistor().label('$R_{11}$')\n",
    "d += elm.Resistor().label('$R^{22}$')\n",
    "d += elm.Resistor().label(r'$\\theta$')\n",
    "d += elm.Resistor().label('$\\overline{Q_1}$')\n",
    "d += elm.Resistor().label('$R_1$')\n",
    "d += elm.Resistor().label('$\\sqrt{x}$')\n",
    "d.here = (0, -2)\n",
    "d += elm.Resistor().label('Ω')\n",
    "d += elm.Resistor().label('∠')\n",
    "d += elm.Resistor().label('10%')\n",
    "d += elm.Resistor().label('$R^2$')\n",
    "d += elm.Resistor().label('$R_2$')\n",
    "d.draw()"
   ]
  },
  {
   "cell_type": "code",
   "execution_count": 30,
   "id": "37321cf2",
   "metadata": {},
   "outputs": [
    {
     "data": {
      "image/svg+xml": [
       "<svg xmlns=\"http://www.w3.org/2000/svg\" xml:lang=\"en\" height=\"66.972964pt\" width=\"104.20337199999999pt\" viewBox=\"-9.462385999999999 -61.925582000000006 104.20337199999999 66.972964\" style=\"background-color:white;\"><circle cx=\"0.0\" cy=\"-0.0\" r=\"2.4299999999999997\" style=\"stroke:black;fill:black;stroke-width:2.0;\" /><g><g transform=\" rotate(-45 0.0 -7.77)\"><g><symbol id=\"STIXTwoMathRegular_20\" width=\"7.968\" height=\"51.216\" viewBox=\"0 -31.524 7.968 51.216\"><path d=\"M 6.564 -5.916 L 6.564 -5.916 Q 6.564 -5.244 6.258 -4.824 Q 5.952 -4.404 5.49 -4.17 Q 5.028 -3.936 4.536 -3.816 L 4.536 -3.768 Q 4.74 -3.648 4.998 -3.354 Q 5.256 -3.06 5.664 -2.49 Q 6.072 -1.92 6.732 -0.972 Q 7.02 -0.576 7.29 -0.468 Q 7.56 -0.36 7.968 -0.36 L 7.968 0 L 5.988 0 Q 5.496 -0.744 5.166 -1.242 Q 4.836 -1.74 4.608 -2.082 Q 4.38 -2.424 4.2 -2.688 Q 4.02 -2.952 3.84 -3.216 Q 3.66 -3.492 3.51 -3.552 Q 3.36 -3.612 3.036 -3.612 L 2.7 -3.612 L 2.7 -1.488 Q 2.7 -0.996 2.784 -0.75 Q 2.868 -0.504 3.12 -0.432 Q 3.372 -0.36 3.888 -0.36 L 3.888 0 L 0.516 0 L 0.516 -0.36 Q 0.972 -0.36 1.2 -0.432 Q 1.428 -0.504 1.506 -0.744 Q 1.584 -0.984 1.584 -1.488 L 1.584 -6.636 Q 1.584 -6.972 1.518 -7.164 Q 1.452 -7.356 1.224 -7.44 Q 0.996 -7.524 0.516 -7.524 L 0.516 -7.884 L 3.468 -7.884 Q 4.368 -7.884 5.07 -7.71 Q 5.772 -7.536 6.168 -7.11 Q 6.564 -6.684 6.564 -5.916 Z M 2.7 -7.38 L 2.7 -7.38 L 2.7 -4.08 L 3.156 -4.068 Q 4.152 -4.116 4.752 -4.518 Q 5.352 -4.92 5.352 -5.868 Q 5.352 -6.588 4.908 -7.002 Q 4.464 -7.416 3.492 -7.416 Q 3.084 -7.416 2.7 -7.38 Z \" /></symbol><use href=\"#STIXTwoMathRegular_20\" transform=\"translate(0 -44.548) scale(1.167)\" fill=\"black\" /><symbol id=\"STIXTwoMathRegular_1138\" width=\"5.112\" height=\"51.216\" viewBox=\"0 -31.524 5.112 51.216\"><path d=\"M 5.112 0 L 5.112 0 L 0.96 0 L 0.96 -0.336 Q 1.812 -0.336 2.16 -0.516 Q 2.508 -0.696 2.508 -1.14 L 2.508 -6.216 Q 2.508 -6.528 2.424 -6.666 Q 2.34 -6.804 2.112 -6.804 Q 1.932 -6.804 1.548 -6.756 Q 1.164 -6.708 0.888 -6.612 L 0.888 -7.008 L 3.216 -7.668 L 3.564 -7.668 L 3.564 -1.14 Q 3.564 -0.696 3.924 -0.516 Q 4.284 -0.336 5.112 -0.336 Z \" /></symbol><use href=\"#STIXTwoMathRegular_1138\" transform=\"translate(9.226 -44.548) scale(1.167)\" fill=\"black\" /></g></g></g><circle cx=\"32.4\" cy=\"-0.0\" r=\"2.4299999999999997\" style=\"stroke:black;fill:black;stroke-width:2.0;\" /><g><g transform=\" rotate(-45 32.4 -7.77)\"><g><symbol id=\"STIXTwoMathRegular_20\" width=\"7.968\" height=\"51.216\" viewBox=\"0 -31.524 7.968 51.216\"><path d=\"M 6.564 -5.916 L 6.564 -5.916 Q 6.564 -5.244 6.258 -4.824 Q 5.952 -4.404 5.49 -4.17 Q 5.028 -3.936 4.536 -3.816 L 4.536 -3.768 Q 4.74 -3.648 4.998 -3.354 Q 5.256 -3.06 5.664 -2.49 Q 6.072 -1.92 6.732 -0.972 Q 7.02 -0.576 7.29 -0.468 Q 7.56 -0.36 7.968 -0.36 L 7.968 0 L 5.988 0 Q 5.496 -0.744 5.166 -1.242 Q 4.836 -1.74 4.608 -2.082 Q 4.38 -2.424 4.2 -2.688 Q 4.02 -2.952 3.84 -3.216 Q 3.66 -3.492 3.51 -3.552 Q 3.36 -3.612 3.036 -3.612 L 2.7 -3.612 L 2.7 -1.488 Q 2.7 -0.996 2.784 -0.75 Q 2.868 -0.504 3.12 -0.432 Q 3.372 -0.36 3.888 -0.36 L 3.888 0 L 0.516 0 L 0.516 -0.36 Q 0.972 -0.36 1.2 -0.432 Q 1.428 -0.504 1.506 -0.744 Q 1.584 -0.984 1.584 -1.488 L 1.584 -6.636 Q 1.584 -6.972 1.518 -7.164 Q 1.452 -7.356 1.224 -7.44 Q 0.996 -7.524 0.516 -7.524 L 0.516 -7.884 L 3.468 -7.884 Q 4.368 -7.884 5.07 -7.71 Q 5.772 -7.536 6.168 -7.11 Q 6.564 -6.684 6.564 -5.916 Z M 2.7 -7.38 L 2.7 -7.38 L 2.7 -4.08 L 3.156 -4.068 Q 4.152 -4.116 4.752 -4.518 Q 5.352 -4.92 5.352 -5.868 Q 5.352 -6.588 4.908 -7.002 Q 4.464 -7.416 3.492 -7.416 Q 3.084 -7.416 2.7 -7.38 Z \" /></symbol><use href=\"#STIXTwoMathRegular_20\" transform=\"translate(24.623 -44.548) scale(1.167)\" fill=\"black\" /><symbol id=\"STIXTwoMathRegular_1138\" width=\"5.112\" height=\"51.216\" viewBox=\"0 -31.524 5.112 51.216\"><path d=\"M 5.112 0 L 5.112 0 L 0.96 0 L 0.96 -0.336 Q 1.812 -0.336 2.16 -0.516 Q 2.508 -0.696 2.508 -1.14 L 2.508 -6.216 Q 2.508 -6.528 2.424 -6.666 Q 2.34 -6.804 2.112 -6.804 Q 1.932 -6.804 1.548 -6.756 Q 1.164 -6.708 0.888 -6.612 L 0.888 -7.008 L 3.216 -7.668 L 3.564 -7.668 L 3.564 -1.14 Q 3.564 -0.696 3.924 -0.516 Q 4.284 -0.336 5.112 -0.336 Z \" /></symbol><use href=\"#STIXTwoMathRegular_1138\" transform=\"translate(33.849 -44.548) scale(1.167)\" fill=\"black\" /></g></g></g><circle cx=\"64.8\" cy=\"-0.0\" r=\"2.4299999999999997\" style=\"stroke:black;fill:black;stroke-width:2.0;\" /><g><g transform=\" rotate(-45 64.8 -7.77)\"><g><symbol id=\"STIXTwoMathRegular_20\" width=\"7.968\" height=\"51.216\" viewBox=\"0 -31.524 7.968 51.216\"><path d=\"M 6.564 -5.916 L 6.564 -5.916 Q 6.564 -5.244 6.258 -4.824 Q 5.952 -4.404 5.49 -4.17 Q 5.028 -3.936 4.536 -3.816 L 4.536 -3.768 Q 4.74 -3.648 4.998 -3.354 Q 5.256 -3.06 5.664 -2.49 Q 6.072 -1.92 6.732 -0.972 Q 7.02 -0.576 7.29 -0.468 Q 7.56 -0.36 7.968 -0.36 L 7.968 0 L 5.988 0 Q 5.496 -0.744 5.166 -1.242 Q 4.836 -1.74 4.608 -2.082 Q 4.38 -2.424 4.2 -2.688 Q 4.02 -2.952 3.84 -3.216 Q 3.66 -3.492 3.51 -3.552 Q 3.36 -3.612 3.036 -3.612 L 2.7 -3.612 L 2.7 -1.488 Q 2.7 -0.996 2.784 -0.75 Q 2.868 -0.504 3.12 -0.432 Q 3.372 -0.36 3.888 -0.36 L 3.888 0 L 0.516 0 L 0.516 -0.36 Q 0.972 -0.36 1.2 -0.432 Q 1.428 -0.504 1.506 -0.744 Q 1.584 -0.984 1.584 -1.488 L 1.584 -6.636 Q 1.584 -6.972 1.518 -7.164 Q 1.452 -7.356 1.224 -7.44 Q 0.996 -7.524 0.516 -7.524 L 0.516 -7.884 L 3.468 -7.884 Q 4.368 -7.884 5.07 -7.71 Q 5.772 -7.536 6.168 -7.11 Q 6.564 -6.684 6.564 -5.916 Z M 2.7 -7.38 L 2.7 -7.38 L 2.7 -4.08 L 3.156 -4.068 Q 4.152 -4.116 4.752 -4.518 Q 5.352 -4.92 5.352 -5.868 Q 5.352 -6.588 4.908 -7.002 Q 4.464 -7.416 3.492 -7.416 Q 3.084 -7.416 2.7 -7.38 Z \" /></symbol><use href=\"#STIXTwoMathRegular_20\" transform=\"translate(49.246 -44.548) scale(1.167)\" fill=\"black\" /><symbol id=\"STIXTwoMathRegular_1138\" width=\"5.112\" height=\"51.216\" viewBox=\"0 -31.524 5.112 51.216\"><path d=\"M 5.112 0 L 5.112 0 L 0.96 0 L 0.96 -0.336 Q 1.812 -0.336 2.16 -0.516 Q 2.508 -0.696 2.508 -1.14 L 2.508 -6.216 Q 2.508 -6.528 2.424 -6.666 Q 2.34 -6.804 2.112 -6.804 Q 1.932 -6.804 1.548 -6.756 Q 1.164 -6.708 0.888 -6.612 L 0.888 -7.008 L 3.216 -7.668 L 3.564 -7.668 L 3.564 -1.14 Q 3.564 -0.696 3.924 -0.516 Q 4.284 -0.336 5.112 -0.336 Z \" /></symbol><use href=\"#STIXTwoMathRegular_1138\" transform=\"translate(58.472 -44.548) scale(1.167)\" fill=\"black\" /></g></g></g><circle cx=\"0.0\" cy=\"-32.4\" r=\"2.4299999999999997\" style=\"stroke:black;fill:black;stroke-width:2.0;\" /><g><g transform=\" rotate(-45 0.0 -40.17)\"><g><symbol id=\"STIXTwoMathRegular_20\" width=\"7.968\" height=\"51.216\" viewBox=\"0 -31.524 7.968 51.216\"><path d=\"M 6.564 -5.916 L 6.564 -5.916 Q 6.564 -5.244 6.258 -4.824 Q 5.952 -4.404 5.49 -4.17 Q 5.028 -3.936 4.536 -3.816 L 4.536 -3.768 Q 4.74 -3.648 4.998 -3.354 Q 5.256 -3.06 5.664 -2.49 Q 6.072 -1.92 6.732 -0.972 Q 7.02 -0.576 7.29 -0.468 Q 7.56 -0.36 7.968 -0.36 L 7.968 0 L 5.988 0 Q 5.496 -0.744 5.166 -1.242 Q 4.836 -1.74 4.608 -2.082 Q 4.38 -2.424 4.2 -2.688 Q 4.02 -2.952 3.84 -3.216 Q 3.66 -3.492 3.51 -3.552 Q 3.36 -3.612 3.036 -3.612 L 2.7 -3.612 L 2.7 -1.488 Q 2.7 -0.996 2.784 -0.75 Q 2.868 -0.504 3.12 -0.432 Q 3.372 -0.36 3.888 -0.36 L 3.888 0 L 0.516 0 L 0.516 -0.36 Q 0.972 -0.36 1.2 -0.432 Q 1.428 -0.504 1.506 -0.744 Q 1.584 -0.984 1.584 -1.488 L 1.584 -6.636 Q 1.584 -6.972 1.518 -7.164 Q 1.452 -7.356 1.224 -7.44 Q 0.996 -7.524 0.516 -7.524 L 0.516 -7.884 L 3.468 -7.884 Q 4.368 -7.884 5.07 -7.71 Q 5.772 -7.536 6.168 -7.11 Q 6.564 -6.684 6.564 -5.916 Z M 2.7 -7.38 L 2.7 -7.38 L 2.7 -4.08 L 3.156 -4.068 Q 4.152 -4.116 4.752 -4.518 Q 5.352 -4.92 5.352 -5.868 Q 5.352 -6.588 4.908 -7.002 Q 4.464 -7.416 3.492 -7.416 Q 3.084 -7.416 2.7 -7.38 Z \" /></symbol><use href=\"#STIXTwoMathRegular_20\" transform=\"translate(0 -62.948) scale(1.167)\" fill=\"black\" /><symbol id=\"STIXTwoMathRegular_1138\" width=\"5.112\" height=\"51.216\" viewBox=\"0 -31.524 5.112 51.216\"><path d=\"M 5.112 0 L 5.112 0 L 0.96 0 L 0.96 -0.336 Q 1.812 -0.336 2.16 -0.516 Q 2.508 -0.696 2.508 -1.14 L 2.508 -6.216 Q 2.508 -6.528 2.424 -6.666 Q 2.34 -6.804 2.112 -6.804 Q 1.932 -6.804 1.548 -6.756 Q 1.164 -6.708 0.888 -6.612 L 0.888 -7.008 L 3.216 -7.668 L 3.564 -7.668 L 3.564 -1.14 Q 3.564 -0.696 3.924 -0.516 Q 4.284 -0.336 5.112 -0.336 Z \" /></symbol><use href=\"#STIXTwoMathRegular_1138\" transform=\"translate(9.226 -62.948) scale(1.167)\" fill=\"black\" /></g></g></g><circle cx=\"32.4\" cy=\"-32.4\" r=\"2.4299999999999997\" style=\"stroke:black;fill:black;stroke-width:2.0;\" /><g><g transform=\" rotate(-45 32.4 -40.17)\"><g><symbol id=\"STIXTwoMathRegular_20\" width=\"7.968\" height=\"51.216\" viewBox=\"0 -31.524 7.968 51.216\"><path d=\"M 6.564 -5.916 L 6.564 -5.916 Q 6.564 -5.244 6.258 -4.824 Q 5.952 -4.404 5.49 -4.17 Q 5.028 -3.936 4.536 -3.816 L 4.536 -3.768 Q 4.74 -3.648 4.998 -3.354 Q 5.256 -3.06 5.664 -2.49 Q 6.072 -1.92 6.732 -0.972 Q 7.02 -0.576 7.29 -0.468 Q 7.56 -0.36 7.968 -0.36 L 7.968 0 L 5.988 0 Q 5.496 -0.744 5.166 -1.242 Q 4.836 -1.74 4.608 -2.082 Q 4.38 -2.424 4.2 -2.688 Q 4.02 -2.952 3.84 -3.216 Q 3.66 -3.492 3.51 -3.552 Q 3.36 -3.612 3.036 -3.612 L 2.7 -3.612 L 2.7 -1.488 Q 2.7 -0.996 2.784 -0.75 Q 2.868 -0.504 3.12 -0.432 Q 3.372 -0.36 3.888 -0.36 L 3.888 0 L 0.516 0 L 0.516 -0.36 Q 0.972 -0.36 1.2 -0.432 Q 1.428 -0.504 1.506 -0.744 Q 1.584 -0.984 1.584 -1.488 L 1.584 -6.636 Q 1.584 -6.972 1.518 -7.164 Q 1.452 -7.356 1.224 -7.44 Q 0.996 -7.524 0.516 -7.524 L 0.516 -7.884 L 3.468 -7.884 Q 4.368 -7.884 5.07 -7.71 Q 5.772 -7.536 6.168 -7.11 Q 6.564 -6.684 6.564 -5.916 Z M 2.7 -7.38 L 2.7 -7.38 L 2.7 -4.08 L 3.156 -4.068 Q 4.152 -4.116 4.752 -4.518 Q 5.352 -4.92 5.352 -5.868 Q 5.352 -6.588 4.908 -7.002 Q 4.464 -7.416 3.492 -7.416 Q 3.084 -7.416 2.7 -7.38 Z \" /></symbol><use href=\"#STIXTwoMathRegular_20\" transform=\"translate(32.4 -76.948) scale(1.167)\" fill=\"black\" /><symbol id=\"STIXTwoMathRegular_1138\" width=\"5.112\" height=\"51.216\" viewBox=\"0 -31.524 5.112 51.216\"><path d=\"M 5.112 0 L 5.112 0 L 0.96 0 L 0.96 -0.336 Q 1.812 -0.336 2.16 -0.516 Q 2.508 -0.696 2.508 -1.14 L 2.508 -6.216 Q 2.508 -6.528 2.424 -6.666 Q 2.34 -6.804 2.112 -6.804 Q 1.932 -6.804 1.548 -6.756 Q 1.164 -6.708 0.888 -6.612 L 0.888 -7.008 L 3.216 -7.668 L 3.564 -7.668 L 3.564 -1.14 Q 3.564 -0.696 3.924 -0.516 Q 4.284 -0.336 5.112 -0.336 Z \" /></symbol><use href=\"#STIXTwoMathRegular_1138\" transform=\"translate(41.626 -76.948) scale(1.167)\" fill=\"black\" /></g></g></g><circle cx=\"64.8\" cy=\"-32.4\" r=\"2.4299999999999997\" style=\"stroke:black;fill:black;stroke-width:2.0;\" /><g><g transform=\" rotate(-45 64.8 -40.17)\"><g><symbol id=\"STIXTwoMathRegular_20\" width=\"7.968\" height=\"51.216\" viewBox=\"0 -31.524 7.968 51.216\"><path d=\"M 6.564 -5.916 L 6.564 -5.916 Q 6.564 -5.244 6.258 -4.824 Q 5.952 -4.404 5.49 -4.17 Q 5.028 -3.936 4.536 -3.816 L 4.536 -3.768 Q 4.74 -3.648 4.998 -3.354 Q 5.256 -3.06 5.664 -2.49 Q 6.072 -1.92 6.732 -0.972 Q 7.02 -0.576 7.29 -0.468 Q 7.56 -0.36 7.968 -0.36 L 7.968 0 L 5.988 0 Q 5.496 -0.744 5.166 -1.242 Q 4.836 -1.74 4.608 -2.082 Q 4.38 -2.424 4.2 -2.688 Q 4.02 -2.952 3.84 -3.216 Q 3.66 -3.492 3.51 -3.552 Q 3.36 -3.612 3.036 -3.612 L 2.7 -3.612 L 2.7 -1.488 Q 2.7 -0.996 2.784 -0.75 Q 2.868 -0.504 3.12 -0.432 Q 3.372 -0.36 3.888 -0.36 L 3.888 0 L 0.516 0 L 0.516 -0.36 Q 0.972 -0.36 1.2 -0.432 Q 1.428 -0.504 1.506 -0.744 Q 1.584 -0.984 1.584 -1.488 L 1.584 -6.636 Q 1.584 -6.972 1.518 -7.164 Q 1.452 -7.356 1.224 -7.44 Q 0.996 -7.524 0.516 -7.524 L 0.516 -7.884 L 3.468 -7.884 Q 4.368 -7.884 5.07 -7.71 Q 5.772 -7.536 6.168 -7.11 Q 6.564 -6.684 6.564 -5.916 Z M 2.7 -7.38 L 2.7 -7.38 L 2.7 -4.08 L 3.156 -4.068 Q 4.152 -4.116 4.752 -4.518 Q 5.352 -4.92 5.352 -5.868 Q 5.352 -6.588 4.908 -7.002 Q 4.464 -7.416 3.492 -7.416 Q 3.084 -7.416 2.7 -7.38 Z \" /></symbol><use href=\"#STIXTwoMathRegular_20\" transform=\"translate(64.8 -69.948) scale(1.167)\" fill=\"black\" /><symbol id=\"STIXTwoMathRegular_1138\" width=\"5.112\" height=\"51.216\" viewBox=\"0 -31.524 5.112 51.216\"><path d=\"M 5.112 0 L 5.112 0 L 0.96 0 L 0.96 -0.336 Q 1.812 -0.336 2.16 -0.516 Q 2.508 -0.696 2.508 -1.14 L 2.508 -6.216 Q 2.508 -6.528 2.424 -6.666 Q 2.34 -6.804 2.112 -6.804 Q 1.932 -6.804 1.548 -6.756 Q 1.164 -6.708 0.888 -6.612 L 0.888 -7.008 L 3.216 -7.668 L 3.564 -7.668 L 3.564 -1.14 Q 3.564 -0.696 3.924 -0.516 Q 4.284 -0.336 5.112 -0.336 Z \" /></symbol><use href=\"#STIXTwoMathRegular_1138\" transform=\"translate(74.026 -69.948) scale(1.167)\" fill=\"black\" /></g></g></g></svg>"
      ],
      "text/plain": [
       "<svg xmlns=\"http://www.w3.org/2000/svg\" xml:lang=\"en\" height=\"66.972964pt\" width=\"104.20337199999999pt\" viewBox=\"-9.462385999999999 -61.925582000000006 104.20337199999999 66.972964\" style=\"background-color:white;\"><circle cx=\"0.0\" cy=\"-0.0\" r=\"2.4299999999999997\" style=\"stroke:black;fill:black;stroke-width:2.0;\" /><g><g transform=\" rotate(-45 0.0 -7.77)\"><g><symbol id=\"STIXTwoMathRegular_20\" width=\"7.968\" height=\"51.216\" viewBox=\"0 -31.524 7.968 51.216\"><path d=\"M 6.564 -5.916 L 6.564 -5.916 Q 6.564 -5.244 6.258 -4.824 Q 5.952 -4.404 5.49 -4.17 Q 5.028 -3.936 4.536 -3.816 L 4.536 -3.768 Q 4.74 -3.648 4.998 -3.354 Q 5.256 -3.06 5.664 -2.49 Q 6.072 -1.92 6.732 -0.972 Q 7.02 -0.576 7.29 -0.468 Q 7.56 -0.36 7.968 -0.36 L 7.968 0 L 5.988 0 Q 5.496 -0.744 5.166 -1.242 Q 4.836 -1.74 4.608 -2.082 Q 4.38 -2.424 4.2 -2.688 Q 4.02 -2.952 3.84 -3.216 Q 3.66 -3.492 3.51 -3.552 Q 3.36 -3.612 3.036 -3.612 L 2.7 -3.612 L 2.7 -1.488 Q 2.7 -0.996 2.784 -0.75 Q 2.868 -0.504 3.12 -0.432 Q 3.372 -0.36 3.888 -0.36 L 3.888 0 L 0.516 0 L 0.516 -0.36 Q 0.972 -0.36 1.2 -0.432 Q 1.428 -0.504 1.506 -0.744 Q 1.584 -0.984 1.584 -1.488 L 1.584 -6.636 Q 1.584 -6.972 1.518 -7.164 Q 1.452 -7.356 1.224 -7.44 Q 0.996 -7.524 0.516 -7.524 L 0.516 -7.884 L 3.468 -7.884 Q 4.368 -7.884 5.07 -7.71 Q 5.772 -7.536 6.168 -7.11 Q 6.564 -6.684 6.564 -5.916 Z M 2.7 -7.38 L 2.7 -7.38 L 2.7 -4.08 L 3.156 -4.068 Q 4.152 -4.116 4.752 -4.518 Q 5.352 -4.92 5.352 -5.868 Q 5.352 -6.588 4.908 -7.002 Q 4.464 -7.416 3.492 -7.416 Q 3.084 -7.416 2.7 -7.38 Z \" /></symbol><use href=\"#STIXTwoMathRegular_20\" transform=\"translate(0 -44.548) scale(1.167)\" fill=\"black\" /><symbol id=\"STIXTwoMathRegular_1138\" width=\"5.112\" height=\"51.216\" viewBox=\"0 -31.524 5.112 51.216\"><path d=\"M 5.112 0 L 5.112 0 L 0.96 0 L 0.96 -0.336 Q 1.812 -0.336 2.16 -0.516 Q 2.508 -0.696 2.508 -1.14 L 2.508 -6.216 Q 2.508 -6.528 2.424 -6.666 Q 2.34 -6.804 2.112 -6.804 Q 1.932 -6.804 1.548 -6.756 Q 1.164 -6.708 0.888 -6.612 L 0.888 -7.008 L 3.216 -7.668 L 3.564 -7.668 L 3.564 -1.14 Q 3.564 -0.696 3.924 -0.516 Q 4.284 -0.336 5.112 -0.336 Z \" /></symbol><use href=\"#STIXTwoMathRegular_1138\" transform=\"translate(9.226 -44.548) scale(1.167)\" fill=\"black\" /></g></g></g><circle cx=\"32.4\" cy=\"-0.0\" r=\"2.4299999999999997\" style=\"stroke:black;fill:black;stroke-width:2.0;\" /><g><g transform=\" rotate(-45 32.4 -7.77)\"><g><symbol id=\"STIXTwoMathRegular_20\" width=\"7.968\" height=\"51.216\" viewBox=\"0 -31.524 7.968 51.216\"><path d=\"M 6.564 -5.916 L 6.564 -5.916 Q 6.564 -5.244 6.258 -4.824 Q 5.952 -4.404 5.49 -4.17 Q 5.028 -3.936 4.536 -3.816 L 4.536 -3.768 Q 4.74 -3.648 4.998 -3.354 Q 5.256 -3.06 5.664 -2.49 Q 6.072 -1.92 6.732 -0.972 Q 7.02 -0.576 7.29 -0.468 Q 7.56 -0.36 7.968 -0.36 L 7.968 0 L 5.988 0 Q 5.496 -0.744 5.166 -1.242 Q 4.836 -1.74 4.608 -2.082 Q 4.38 -2.424 4.2 -2.688 Q 4.02 -2.952 3.84 -3.216 Q 3.66 -3.492 3.51 -3.552 Q 3.36 -3.612 3.036 -3.612 L 2.7 -3.612 L 2.7 -1.488 Q 2.7 -0.996 2.784 -0.75 Q 2.868 -0.504 3.12 -0.432 Q 3.372 -0.36 3.888 -0.36 L 3.888 0 L 0.516 0 L 0.516 -0.36 Q 0.972 -0.36 1.2 -0.432 Q 1.428 -0.504 1.506 -0.744 Q 1.584 -0.984 1.584 -1.488 L 1.584 -6.636 Q 1.584 -6.972 1.518 -7.164 Q 1.452 -7.356 1.224 -7.44 Q 0.996 -7.524 0.516 -7.524 L 0.516 -7.884 L 3.468 -7.884 Q 4.368 -7.884 5.07 -7.71 Q 5.772 -7.536 6.168 -7.11 Q 6.564 -6.684 6.564 -5.916 Z M 2.7 -7.38 L 2.7 -7.38 L 2.7 -4.08 L 3.156 -4.068 Q 4.152 -4.116 4.752 -4.518 Q 5.352 -4.92 5.352 -5.868 Q 5.352 -6.588 4.908 -7.002 Q 4.464 -7.416 3.492 -7.416 Q 3.084 -7.416 2.7 -7.38 Z \" /></symbol><use href=\"#STIXTwoMathRegular_20\" transform=\"translate(24.623 -44.548) scale(1.167)\" fill=\"black\" /><symbol id=\"STIXTwoMathRegular_1138\" width=\"5.112\" height=\"51.216\" viewBox=\"0 -31.524 5.112 51.216\"><path d=\"M 5.112 0 L 5.112 0 L 0.96 0 L 0.96 -0.336 Q 1.812 -0.336 2.16 -0.516 Q 2.508 -0.696 2.508 -1.14 L 2.508 -6.216 Q 2.508 -6.528 2.424 -6.666 Q 2.34 -6.804 2.112 -6.804 Q 1.932 -6.804 1.548 -6.756 Q 1.164 -6.708 0.888 -6.612 L 0.888 -7.008 L 3.216 -7.668 L 3.564 -7.668 L 3.564 -1.14 Q 3.564 -0.696 3.924 -0.516 Q 4.284 -0.336 5.112 -0.336 Z \" /></symbol><use href=\"#STIXTwoMathRegular_1138\" transform=\"translate(33.849 -44.548) scale(1.167)\" fill=\"black\" /></g></g></g><circle cx=\"64.8\" cy=\"-0.0\" r=\"2.4299999999999997\" style=\"stroke:black;fill:black;stroke-width:2.0;\" /><g><g transform=\" rotate(-45 64.8 -7.77)\"><g><symbol id=\"STIXTwoMathRegular_20\" width=\"7.968\" height=\"51.216\" viewBox=\"0 -31.524 7.968 51.216\"><path d=\"M 6.564 -5.916 L 6.564 -5.916 Q 6.564 -5.244 6.258 -4.824 Q 5.952 -4.404 5.49 -4.17 Q 5.028 -3.936 4.536 -3.816 L 4.536 -3.768 Q 4.74 -3.648 4.998 -3.354 Q 5.256 -3.06 5.664 -2.49 Q 6.072 -1.92 6.732 -0.972 Q 7.02 -0.576 7.29 -0.468 Q 7.56 -0.36 7.968 -0.36 L 7.968 0 L 5.988 0 Q 5.496 -0.744 5.166 -1.242 Q 4.836 -1.74 4.608 -2.082 Q 4.38 -2.424 4.2 -2.688 Q 4.02 -2.952 3.84 -3.216 Q 3.66 -3.492 3.51 -3.552 Q 3.36 -3.612 3.036 -3.612 L 2.7 -3.612 L 2.7 -1.488 Q 2.7 -0.996 2.784 -0.75 Q 2.868 -0.504 3.12 -0.432 Q 3.372 -0.36 3.888 -0.36 L 3.888 0 L 0.516 0 L 0.516 -0.36 Q 0.972 -0.36 1.2 -0.432 Q 1.428 -0.504 1.506 -0.744 Q 1.584 -0.984 1.584 -1.488 L 1.584 -6.636 Q 1.584 -6.972 1.518 -7.164 Q 1.452 -7.356 1.224 -7.44 Q 0.996 -7.524 0.516 -7.524 L 0.516 -7.884 L 3.468 -7.884 Q 4.368 -7.884 5.07 -7.71 Q 5.772 -7.536 6.168 -7.11 Q 6.564 -6.684 6.564 -5.916 Z M 2.7 -7.38 L 2.7 -7.38 L 2.7 -4.08 L 3.156 -4.068 Q 4.152 -4.116 4.752 -4.518 Q 5.352 -4.92 5.352 -5.868 Q 5.352 -6.588 4.908 -7.002 Q 4.464 -7.416 3.492 -7.416 Q 3.084 -7.416 2.7 -7.38 Z \" /></symbol><use href=\"#STIXTwoMathRegular_20\" transform=\"translate(49.246 -44.548) scale(1.167)\" fill=\"black\" /><symbol id=\"STIXTwoMathRegular_1138\" width=\"5.112\" height=\"51.216\" viewBox=\"0 -31.524 5.112 51.216\"><path d=\"M 5.112 0 L 5.112 0 L 0.96 0 L 0.96 -0.336 Q 1.812 -0.336 2.16 -0.516 Q 2.508 -0.696 2.508 -1.14 L 2.508 -6.216 Q 2.508 -6.528 2.424 -6.666 Q 2.34 -6.804 2.112 -6.804 Q 1.932 -6.804 1.548 -6.756 Q 1.164 -6.708 0.888 -6.612 L 0.888 -7.008 L 3.216 -7.668 L 3.564 -7.668 L 3.564 -1.14 Q 3.564 -0.696 3.924 -0.516 Q 4.284 -0.336 5.112 -0.336 Z \" /></symbol><use href=\"#STIXTwoMathRegular_1138\" transform=\"translate(58.472 -44.548) scale(1.167)\" fill=\"black\" /></g></g></g><circle cx=\"0.0\" cy=\"-32.4\" r=\"2.4299999999999997\" style=\"stroke:black;fill:black;stroke-width:2.0;\" /><g><g transform=\" rotate(-45 0.0 -40.17)\"><g><symbol id=\"STIXTwoMathRegular_20\" width=\"7.968\" height=\"51.216\" viewBox=\"0 -31.524 7.968 51.216\"><path d=\"M 6.564 -5.916 L 6.564 -5.916 Q 6.564 -5.244 6.258 -4.824 Q 5.952 -4.404 5.49 -4.17 Q 5.028 -3.936 4.536 -3.816 L 4.536 -3.768 Q 4.74 -3.648 4.998 -3.354 Q 5.256 -3.06 5.664 -2.49 Q 6.072 -1.92 6.732 -0.972 Q 7.02 -0.576 7.29 -0.468 Q 7.56 -0.36 7.968 -0.36 L 7.968 0 L 5.988 0 Q 5.496 -0.744 5.166 -1.242 Q 4.836 -1.74 4.608 -2.082 Q 4.38 -2.424 4.2 -2.688 Q 4.02 -2.952 3.84 -3.216 Q 3.66 -3.492 3.51 -3.552 Q 3.36 -3.612 3.036 -3.612 L 2.7 -3.612 L 2.7 -1.488 Q 2.7 -0.996 2.784 -0.75 Q 2.868 -0.504 3.12 -0.432 Q 3.372 -0.36 3.888 -0.36 L 3.888 0 L 0.516 0 L 0.516 -0.36 Q 0.972 -0.36 1.2 -0.432 Q 1.428 -0.504 1.506 -0.744 Q 1.584 -0.984 1.584 -1.488 L 1.584 -6.636 Q 1.584 -6.972 1.518 -7.164 Q 1.452 -7.356 1.224 -7.44 Q 0.996 -7.524 0.516 -7.524 L 0.516 -7.884 L 3.468 -7.884 Q 4.368 -7.884 5.07 -7.71 Q 5.772 -7.536 6.168 -7.11 Q 6.564 -6.684 6.564 -5.916 Z M 2.7 -7.38 L 2.7 -7.38 L 2.7 -4.08 L 3.156 -4.068 Q 4.152 -4.116 4.752 -4.518 Q 5.352 -4.92 5.352 -5.868 Q 5.352 -6.588 4.908 -7.002 Q 4.464 -7.416 3.492 -7.416 Q 3.084 -7.416 2.7 -7.38 Z \" /></symbol><use href=\"#STIXTwoMathRegular_20\" transform=\"translate(0 -62.948) scale(1.167)\" fill=\"black\" /><symbol id=\"STIXTwoMathRegular_1138\" width=\"5.112\" height=\"51.216\" viewBox=\"0 -31.524 5.112 51.216\"><path d=\"M 5.112 0 L 5.112 0 L 0.96 0 L 0.96 -0.336 Q 1.812 -0.336 2.16 -0.516 Q 2.508 -0.696 2.508 -1.14 L 2.508 -6.216 Q 2.508 -6.528 2.424 -6.666 Q 2.34 -6.804 2.112 -6.804 Q 1.932 -6.804 1.548 -6.756 Q 1.164 -6.708 0.888 -6.612 L 0.888 -7.008 L 3.216 -7.668 L 3.564 -7.668 L 3.564 -1.14 Q 3.564 -0.696 3.924 -0.516 Q 4.284 -0.336 5.112 -0.336 Z \" /></symbol><use href=\"#STIXTwoMathRegular_1138\" transform=\"translate(9.226 -62.948) scale(1.167)\" fill=\"black\" /></g></g></g><circle cx=\"32.4\" cy=\"-32.4\" r=\"2.4299999999999997\" style=\"stroke:black;fill:black;stroke-width:2.0;\" /><g><g transform=\" rotate(-45 32.4 -40.17)\"><g><symbol id=\"STIXTwoMathRegular_20\" width=\"7.968\" height=\"51.216\" viewBox=\"0 -31.524 7.968 51.216\"><path d=\"M 6.564 -5.916 L 6.564 -5.916 Q 6.564 -5.244 6.258 -4.824 Q 5.952 -4.404 5.49 -4.17 Q 5.028 -3.936 4.536 -3.816 L 4.536 -3.768 Q 4.74 -3.648 4.998 -3.354 Q 5.256 -3.06 5.664 -2.49 Q 6.072 -1.92 6.732 -0.972 Q 7.02 -0.576 7.29 -0.468 Q 7.56 -0.36 7.968 -0.36 L 7.968 0 L 5.988 0 Q 5.496 -0.744 5.166 -1.242 Q 4.836 -1.74 4.608 -2.082 Q 4.38 -2.424 4.2 -2.688 Q 4.02 -2.952 3.84 -3.216 Q 3.66 -3.492 3.51 -3.552 Q 3.36 -3.612 3.036 -3.612 L 2.7 -3.612 L 2.7 -1.488 Q 2.7 -0.996 2.784 -0.75 Q 2.868 -0.504 3.12 -0.432 Q 3.372 -0.36 3.888 -0.36 L 3.888 0 L 0.516 0 L 0.516 -0.36 Q 0.972 -0.36 1.2 -0.432 Q 1.428 -0.504 1.506 -0.744 Q 1.584 -0.984 1.584 -1.488 L 1.584 -6.636 Q 1.584 -6.972 1.518 -7.164 Q 1.452 -7.356 1.224 -7.44 Q 0.996 -7.524 0.516 -7.524 L 0.516 -7.884 L 3.468 -7.884 Q 4.368 -7.884 5.07 -7.71 Q 5.772 -7.536 6.168 -7.11 Q 6.564 -6.684 6.564 -5.916 Z M 2.7 -7.38 L 2.7 -7.38 L 2.7 -4.08 L 3.156 -4.068 Q 4.152 -4.116 4.752 -4.518 Q 5.352 -4.92 5.352 -5.868 Q 5.352 -6.588 4.908 -7.002 Q 4.464 -7.416 3.492 -7.416 Q 3.084 -7.416 2.7 -7.38 Z \" /></symbol><use href=\"#STIXTwoMathRegular_20\" transform=\"translate(32.4 -76.948) scale(1.167)\" fill=\"black\" /><symbol id=\"STIXTwoMathRegular_1138\" width=\"5.112\" height=\"51.216\" viewBox=\"0 -31.524 5.112 51.216\"><path d=\"M 5.112 0 L 5.112 0 L 0.96 0 L 0.96 -0.336 Q 1.812 -0.336 2.16 -0.516 Q 2.508 -0.696 2.508 -1.14 L 2.508 -6.216 Q 2.508 -6.528 2.424 -6.666 Q 2.34 -6.804 2.112 -6.804 Q 1.932 -6.804 1.548 -6.756 Q 1.164 -6.708 0.888 -6.612 L 0.888 -7.008 L 3.216 -7.668 L 3.564 -7.668 L 3.564 -1.14 Q 3.564 -0.696 3.924 -0.516 Q 4.284 -0.336 5.112 -0.336 Z \" /></symbol><use href=\"#STIXTwoMathRegular_1138\" transform=\"translate(41.626 -76.948) scale(1.167)\" fill=\"black\" /></g></g></g><circle cx=\"64.8\" cy=\"-32.4\" r=\"2.4299999999999997\" style=\"stroke:black;fill:black;stroke-width:2.0;\" /><g><g transform=\" rotate(-45 64.8 -40.17)\"><g><symbol id=\"STIXTwoMathRegular_20\" width=\"7.968\" height=\"51.216\" viewBox=\"0 -31.524 7.968 51.216\"><path d=\"M 6.564 -5.916 L 6.564 -5.916 Q 6.564 -5.244 6.258 -4.824 Q 5.952 -4.404 5.49 -4.17 Q 5.028 -3.936 4.536 -3.816 L 4.536 -3.768 Q 4.74 -3.648 4.998 -3.354 Q 5.256 -3.06 5.664 -2.49 Q 6.072 -1.92 6.732 -0.972 Q 7.02 -0.576 7.29 -0.468 Q 7.56 -0.36 7.968 -0.36 L 7.968 0 L 5.988 0 Q 5.496 -0.744 5.166 -1.242 Q 4.836 -1.74 4.608 -2.082 Q 4.38 -2.424 4.2 -2.688 Q 4.02 -2.952 3.84 -3.216 Q 3.66 -3.492 3.51 -3.552 Q 3.36 -3.612 3.036 -3.612 L 2.7 -3.612 L 2.7 -1.488 Q 2.7 -0.996 2.784 -0.75 Q 2.868 -0.504 3.12 -0.432 Q 3.372 -0.36 3.888 -0.36 L 3.888 0 L 0.516 0 L 0.516 -0.36 Q 0.972 -0.36 1.2 -0.432 Q 1.428 -0.504 1.506 -0.744 Q 1.584 -0.984 1.584 -1.488 L 1.584 -6.636 Q 1.584 -6.972 1.518 -7.164 Q 1.452 -7.356 1.224 -7.44 Q 0.996 -7.524 0.516 -7.524 L 0.516 -7.884 L 3.468 -7.884 Q 4.368 -7.884 5.07 -7.71 Q 5.772 -7.536 6.168 -7.11 Q 6.564 -6.684 6.564 -5.916 Z M 2.7 -7.38 L 2.7 -7.38 L 2.7 -4.08 L 3.156 -4.068 Q 4.152 -4.116 4.752 -4.518 Q 5.352 -4.92 5.352 -5.868 Q 5.352 -6.588 4.908 -7.002 Q 4.464 -7.416 3.492 -7.416 Q 3.084 -7.416 2.7 -7.38 Z \" /></symbol><use href=\"#STIXTwoMathRegular_20\" transform=\"translate(64.8 -69.948) scale(1.167)\" fill=\"black\" /><symbol id=\"STIXTwoMathRegular_1138\" width=\"5.112\" height=\"51.216\" viewBox=\"0 -31.524 5.112 51.216\"><path d=\"M 5.112 0 L 5.112 0 L 0.96 0 L 0.96 -0.336 Q 1.812 -0.336 2.16 -0.516 Q 2.508 -0.696 2.508 -1.14 L 2.508 -6.216 Q 2.508 -6.528 2.424 -6.666 Q 2.34 -6.804 2.112 -6.804 Q 1.932 -6.804 1.548 -6.756 Q 1.164 -6.708 0.888 -6.612 L 0.888 -7.008 L 3.216 -7.668 L 3.564 -7.668 L 3.564 -1.14 Q 3.564 -0.696 3.924 -0.516 Q 4.284 -0.336 5.112 -0.336 Z \" /></symbol><use href=\"#STIXTwoMathRegular_1138\" transform=\"translate(74.026 -69.948) scale(1.167)\" fill=\"black\" /></g></g></g></svg>"
      ]
     },
     "execution_count": 30,
     "metadata": {},
     "output_type": "execute_result"
    }
   ],
   "source": [
    "# Test some mathtext in svg backend\n",
    "schemdraw.use('svg')\n",
    "d = schemdraw.Drawing()\n",
    "d += elm.Dot().label('R1', rotate=45)\n",
    "d += elm.Dot().at((1, 0)).label('R1', rotate=45, halign='center')\n",
    "d += elm.Dot().at((2, 0)).label('R1', rotate=45, halign='right')\n",
    "d += elm.Dot().at((0, 1)).label('R1', rotate=45, valign='top')\n",
    "d += elm.Dot().at((1, 1)).label('R1', rotate=45, valign='bottom')\n",
    "d += elm.Dot().at((2, 1)).label('R1', rotate=45, valign='center')\n",
    "d.draw()"
   ]
  },
  {
   "cell_type": "code",
   "execution_count": 31,
   "id": "64ddfde5",
   "metadata": {},
   "outputs": [],
   "source": [
    "from schemdraw.backends import svgtext\n",
    "from IPython.display import SVG\n",
    "from xml.etree import ElementTree as ET\n",
    "# These should appear similar to\n",
    "# https://matplotlib.org/3.1.1/gallery/text_labels_and_annotations/demo_text_rotation_mode.html"
   ]
  },
  {
   "cell_type": "code",
   "execution_count": 32,
   "id": "f18935df",
   "metadata": {},
   "outputs": [
    {
     "data": {
      "image/svg+xml": [
       "<svg xmlns=\"http://www.w3.org/2000/svg\" xml:lang=\"en\" height=\"150pt\" width=\"150pt\"><g><text x=\"50\" y=\"43.599999999999994\" fill=\"black\" font-size=\"16\" font-family=\"Arial\" text-anchor=\"start\" transform=\"rotate(-45 50 50)\"><tspan x=\"50\" dy=\"12.8\">ABC</tspan></text><rect x=\"50\" y=\"43.599999999999994\" width=\"32.256\" height=\"12.8\" style=\"stroke:blue;stroke-width:1;fill:none\" transform=\"rotate(-45 50 50)\"/><circle cx=\"50\" cy=\"50\" r=\"1.5\" stroke=\"red\" fill=\"red\"/><rect x=\"45.47451660040609\" y=\"22.666080266452816\" width=\"31.859403133141086\" height=\"31.859403133141086\" style=\"stroke:red;stroke-width:1;fill:none\"/></g></svg>"
      ],
      "text/plain": [
       "<IPython.core.display.SVG object>"
      ]
     },
     "execution_count": 32,
     "metadata": {},
     "output_type": "execute_result"
    }
   ],
   "source": [
    "svghead = '<svg xmlns=\"http://www.w3.org/2000/svg\" xml:lang=\"en\" height=\"150pt\" width=\"150pt\">{}</svg>'\n",
    "s = svgtext.text_tosvg('ABC', 50, 50, halign='left', rotation=45, testmode=True)\n",
    "SVG(svghead.format(ET.tostring(s, encoding='unicode')))"
   ]
  },
  {
   "cell_type": "code",
   "execution_count": 33,
   "id": "d6b57644",
   "metadata": {},
   "outputs": [
    {
     "data": {
      "image/svg+xml": [
       "<svg xmlns=\"http://www.w3.org/2000/svg\" xml:lang=\"en\" height=\"150pt\" width=\"150pt\"><g><text x=\"30\" y=\"29.999999999999996\" fill=\"black\" font-size=\"16\" font-family=\"Arial\" text-anchor=\"start\" transform=\"rotate(-30 30 30)\"><tspan x=\"30\" dy=\"12.8\">ABC</tspan></text><rect x=\"30\" y=\"29.999999999999996\" width=\"32.256\" height=\"12.8\" style=\"stroke:blue;stroke-width:1;fill:none\" transform=\"rotate(-30 30 30)\"/><circle cx=\"30\" cy=\"30\" r=\"1.5\" stroke=\"red\" fill=\"red\"/><rect x=\"30.0\" y=\"13.872\" width=\"34.33451542447085\" height=\"27.21312516844081\" style=\"stroke:red;stroke-width:1;fill:none\"/></g><g><text x=\"90\" y=\"29.999999999999996\" fill=\"black\" font-size=\"16\" font-family=\"Arial\" text-anchor=\"middle\" transform=\"rotate(-30 90 30)\"><tspan x=\"90\" dy=\"12.8\">ABC</tspan></text><rect x=\"73.872\" y=\"29.999999999999996\" width=\"32.256\" height=\"12.8\" style=\"stroke:blue;stroke-width:1;fill:none\" transform=\"rotate(-30 90 30)\"/><circle cx=\"90\" cy=\"30\" r=\"1.5\" stroke=\"red\" fill=\"red\"/><rect x=\"76.03274228776456\" y=\"21.936\" width=\"34.334515424470865\" height=\"27.21312516844081\" style=\"stroke:red;stroke-width:1;fill:none\"/></g><g><text x=\"150\" y=\"29.999999999999996\" fill=\"black\" font-size=\"16\" font-family=\"Arial\" text-anchor=\"end\" transform=\"rotate(-30 150 30)\"><tspan x=\"150\" dy=\"12.8\">ABC</tspan></text><rect x=\"117.744\" y=\"29.999999999999996\" width=\"32.256\" height=\"12.8\" style=\"stroke:blue;stroke-width:1;fill:none\" transform=\"rotate(-30 150 30)\"/><circle cx=\"150\" cy=\"30\" r=\"1.5\" stroke=\"red\" fill=\"red\"/><rect x=\"122.06548457552914\" y=\"29.999999999999996\" width=\"34.334515424470865\" height=\"27.213125168440815\" style=\"stroke:red;stroke-width:1;fill:none\"/></g><g><text x=\"30\" y=\"73.60000000000001\" fill=\"black\" font-size=\"16\" font-family=\"Arial\" text-anchor=\"start\" transform=\"rotate(-30 30 80)\"><tspan x=\"30\" dy=\"12.8\">ABC</tspan></text><rect x=\"30\" y=\"73.60000000000001\" width=\"32.256\" height=\"12.8\" style=\"stroke:blue;stroke-width:1;fill:none\" transform=\"rotate(-30 30 80)\"/><circle cx=\"30\" cy=\"80\" r=\"1.5\" stroke=\"red\" fill=\"red\"/><rect x=\"26.800000000000004\" y=\"58.3294374157796\" width=\"34.33451542447086\" height=\"27.213125168440804\" style=\"stroke:red;stroke-width:1;fill:none\"/></g><g><text x=\"90\" y=\"73.60000000000001\" fill=\"black\" font-size=\"16\" font-family=\"Arial\" text-anchor=\"middle\" transform=\"rotate(-30 90 80)\"><tspan x=\"90\" dy=\"12.8\">ABC</tspan></text><rect x=\"73.872\" y=\"73.60000000000001\" width=\"32.256\" height=\"12.8\" style=\"stroke:blue;stroke-width:1;fill:none\" transform=\"rotate(-30 90 80)\"/><circle cx=\"90\" cy=\"80\" r=\"1.5\" stroke=\"red\" fill=\"red\"/><rect x=\"72.83274228776457\" y=\"66.3934374157796\" width=\"34.33451542447085\" height=\"27.21312516844081\" style=\"stroke:red;stroke-width:1;fill:none\"/></g><g><text x=\"150\" y=\"73.60000000000001\" fill=\"black\" font-size=\"16\" font-family=\"Arial\" text-anchor=\"end\" transform=\"rotate(-30 150 80)\"><tspan x=\"150\" dy=\"12.8\">ABC</tspan></text><rect x=\"117.744\" y=\"73.60000000000001\" width=\"32.256\" height=\"12.8\" style=\"stroke:blue;stroke-width:1;fill:none\" transform=\"rotate(-30 150 80)\"/><circle cx=\"150\" cy=\"80\" r=\"1.5\" stroke=\"red\" fill=\"red\"/><rect x=\"118.86548457552915\" y=\"74.4574374157796\" width=\"34.33451542447084\" height=\"27.21312516844081\" style=\"stroke:red;stroke-width:1;fill:none\"/></g><g><text x=\"30\" y=\"117.2\" fill=\"black\" font-size=\"16\" font-family=\"Arial\" text-anchor=\"start\" transform=\"rotate(-30 30 130)\"><tspan x=\"30\" dy=\"12.8\">ABC</tspan></text><rect x=\"30\" y=\"117.2\" width=\"32.256\" height=\"12.8\" style=\"stroke:blue;stroke-width:1;fill:none\" transform=\"rotate(-30 30 130)\"/><circle cx=\"30\" cy=\"130\" r=\"1.5\" stroke=\"red\" fill=\"red\"/><rect x=\"23.6\" y=\"102.78687483155919\" width=\"34.33451542447086\" height=\"27.21312516844081\" style=\"stroke:red;stroke-width:1;fill:none\"/></g><g><text x=\"90\" y=\"117.2\" fill=\"black\" font-size=\"16\" font-family=\"Arial\" text-anchor=\"middle\" transform=\"rotate(-30 90 130)\"><tspan x=\"90\" dy=\"12.8\">ABC</tspan></text><rect x=\"73.872\" y=\"117.2\" width=\"32.256\" height=\"12.8\" style=\"stroke:blue;stroke-width:1;fill:none\" transform=\"rotate(-30 90 130)\"/><circle cx=\"90\" cy=\"130\" r=\"1.5\" stroke=\"red\" fill=\"red\"/><rect x=\"69.63274228776457\" y=\"110.8508748315592\" width=\"34.33451542447085\" height=\"27.213125168440797\" style=\"stroke:red;stroke-width:1;fill:none\"/></g><g><text x=\"150\" y=\"117.2\" fill=\"black\" font-size=\"16\" font-family=\"Arial\" text-anchor=\"end\" transform=\"rotate(-30 150 130)\"><tspan x=\"150\" dy=\"12.8\">ABC</tspan></text><rect x=\"117.744\" y=\"117.2\" width=\"32.256\" height=\"12.8\" style=\"stroke:blue;stroke-width:1;fill:none\" transform=\"rotate(-30 150 130)\"/><circle cx=\"150\" cy=\"130\" r=\"1.5\" stroke=\"red\" fill=\"red\"/><rect x=\"115.66548457552915\" y=\"118.91487483155919\" width=\"34.33451542447085\" height=\"27.213125168440797\" style=\"stroke:red;stroke-width:1;fill:none\"/></g></svg>"
      ],
      "text/plain": [
       "<IPython.core.display.SVG object>"
      ]
     },
     "execution_count": 33,
     "metadata": {},
     "output_type": "execute_result"
    }
   ],
   "source": [
    "# \"anchor\" rotation mode\n",
    "s = ET.tostring(svgtext.text_tosvg('ABC', 30, 30, rotation=30,\n",
    "                       halign='left', valign='top', \n",
    "                       testmode=True),\n",
    "                encoding='unicode')\n",
    "s += ET.tostring(svgtext.text_tosvg('ABC', 90, 30, rotation=30,\n",
    "                       halign='center', valign='top', \n",
    "                       testmode=True),\n",
    "                encoding='unicode')\n",
    "s += ET.tostring(svgtext.text_tosvg('ABC', 150, 30, rotation=30,\n",
    "                       halign='right', valign='top', \n",
    "                       testmode=True),\n",
    "                encoding='unicode')\n",
    "s += ET.tostring(svgtext.text_tosvg('ABC', 30, 80, rotation=30,\n",
    "                       halign='left', valign='center', \n",
    "                       testmode=True),\n",
    "                encoding='unicode')\n",
    "s += ET.tostring(svgtext.text_tosvg('ABC', 90, 80, rotation=30,\n",
    "                       halign='center', valign='center', \n",
    "                       testmode=True),\n",
    "                encoding='unicode')\n",
    "s += ET.tostring(svgtext.text_tosvg('ABC', 150, 80, rotation=30,\n",
    "                       halign='right', valign='center', \n",
    "                       testmode=True),\n",
    "                encoding='unicode')\n",
    "s += ET.tostring(svgtext.text_tosvg('ABC', 30, 130, rotation=30,\n",
    "                       halign='left', valign='bottom', \n",
    "                       testmode=True),\n",
    "                encoding='unicode')\n",
    "s += ET.tostring(svgtext.text_tosvg('ABC', 90, 130, rotation=30,\n",
    "                       halign='center', valign='bottom', \n",
    "                       testmode=True),\n",
    "                encoding='unicode')\n",
    "s += ET.tostring(svgtext.text_tosvg('ABC', 150, 130, rotation=30,\n",
    "                       halign='right', valign='bottom', \n",
    "                       testmode=True),\n",
    "                encoding='unicode')\n",
    "\n",
    "SVG(svghead.format(s))"
   ]
  },
  {
   "cell_type": "code",
   "execution_count": 34,
   "id": "619818c5",
   "metadata": {},
   "outputs": [
    {
     "data": {
      "image/svg+xml": [
       "<svg xmlns=\"http://www.w3.org/2000/svg\" xml:lang=\"en\" height=\"150pt\" width=\"150pt\"><g><text x=\"30\" y=\"29.999999999999996\" fill=\"black\" font-size=\"16\" font-family=\"Arial\" text-anchor=\"start\" transform=\"translate(0.0 16.128) rotate(-30 30 30)\"><tspan x=\"30\" dy=\"12.8\">ABC</tspan></text><rect x=\"30\" y=\"29.999999999999996\" width=\"32.256\" height=\"12.8\" style=\"stroke:blue;stroke-width:1;fill:none\" transform=\"translate(0.0 16.128) rotate(-30 30 30)\"/><circle cx=\"30\" cy=\"30\" r=\"1.5\" stroke=\"red\" fill=\"red\"/><rect x=\"30.0\" y=\"30.0\" width=\"34.33451542447085\" height=\"27.21312516844081\" style=\"stroke:red;stroke-width:1;fill:none\"/></g><g><text x=\"90\" y=\"29.999999999999996\" fill=\"black\" font-size=\"16\" font-family=\"Arial\" text-anchor=\"middle\" transform=\"translate(-3.1999999999999886 8.064) rotate(-30 90 30)\"><tspan x=\"90\" dy=\"12.8\">ABC</tspan></text><rect x=\"73.872\" y=\"29.999999999999996\" width=\"32.256\" height=\"12.8\" style=\"stroke:blue;stroke-width:1;fill:none\" transform=\"translate(-3.1999999999999886 8.064) rotate(-30 90 30)\"/><circle cx=\"90\" cy=\"30\" r=\"1.5\" stroke=\"red\" fill=\"red\"/><rect x=\"72.83274228776457\" y=\"30.0\" width=\"34.334515424470865\" height=\"27.21312516844081\" style=\"stroke:red;stroke-width:1;fill:none\"/></g><g><text x=\"150\" y=\"29.999999999999996\" fill=\"black\" font-size=\"16\" font-family=\"Arial\" text-anchor=\"end\" transform=\"translate(-6.400000000000006 3.552713678800501e-15) rotate(-30 150 30)\"><tspan x=\"150\" dy=\"12.8\">ABC</tspan></text><rect x=\"117.744\" y=\"29.999999999999996\" width=\"32.256\" height=\"12.8\" style=\"stroke:blue;stroke-width:1;fill:none\" transform=\"translate(-6.400000000000006 3.552713678800501e-15) rotate(-30 150 30)\"/><circle cx=\"150\" cy=\"30\" r=\"1.5\" stroke=\"red\" fill=\"red\"/><rect x=\"115.66548457552913\" y=\"30.0\" width=\"34.334515424470865\" height=\"27.21312516844081\" style=\"stroke:red;stroke-width:1;fill:none\"/></g><g><text x=\"30\" y=\"73.60000000000001\" fill=\"black\" font-size=\"16\" font-family=\"Arial\" text-anchor=\"start\" transform=\"translate(3.1999999999999957 8.063999999999993) rotate(-30 30 80)\"><tspan x=\"30\" dy=\"12.8\">ABC</tspan></text><rect x=\"30\" y=\"73.60000000000001\" width=\"32.256\" height=\"12.8\" style=\"stroke:blue;stroke-width:1;fill:none\" transform=\"translate(3.1999999999999957 8.063999999999993) rotate(-30 30 80)\"/><circle cx=\"30\" cy=\"80\" r=\"1.5\" stroke=\"red\" fill=\"red\"/><rect x=\"30.0\" y=\"66.3934374157796\" width=\"34.33451542447085\" height=\"27.213125168440797\" style=\"stroke:red;stroke-width:1;fill:none\"/></g><g><text x=\"90\" y=\"73.60000000000001\" fill=\"black\" font-size=\"16\" font-family=\"Arial\" text-anchor=\"middle\" transform=\"translate(0.0 0.0) rotate(-30 90 80)\"><tspan x=\"90\" dy=\"12.8\">ABC</tspan></text><rect x=\"73.872\" y=\"73.60000000000001\" width=\"32.256\" height=\"12.8\" style=\"stroke:blue;stroke-width:1;fill:none\" transform=\"translate(0.0 0.0) rotate(-30 90 80)\"/><circle cx=\"90\" cy=\"80\" r=\"1.5\" stroke=\"red\" fill=\"red\"/><rect x=\"72.83274228776457\" y=\"66.3934374157796\" width=\"34.33451542447085\" height=\"27.21312516844081\" style=\"stroke:red;stroke-width:1;fill:none\"/></g><g><text x=\"150\" y=\"73.60000000000001\" fill=\"black\" font-size=\"16\" font-family=\"Arial\" text-anchor=\"end\" transform=\"translate(-3.1999999999999886 -8.063999999999993) rotate(-30 150 80)\"><tspan x=\"150\" dy=\"12.8\">ABC</tspan></text><rect x=\"117.744\" y=\"73.60000000000001\" width=\"32.256\" height=\"12.8\" style=\"stroke:blue;stroke-width:1;fill:none\" transform=\"translate(-3.1999999999999886 -8.063999999999993) rotate(-30 150 80)\"/><circle cx=\"150\" cy=\"80\" r=\"1.5\" stroke=\"red\" fill=\"red\"/><rect x=\"115.66548457552916\" y=\"66.3934374157796\" width=\"34.33451542447084\" height=\"27.21312516844081\" style=\"stroke:red;stroke-width:1;fill:none\"/></g><g><text x=\"30\" y=\"117.2\" fill=\"black\" font-size=\"16\" font-family=\"Arial\" text-anchor=\"start\" transform=\"translate(6.399999999999999 0.0) rotate(-30 30 130)\"><tspan x=\"30\" dy=\"12.8\">ABC</tspan></text><rect x=\"30\" y=\"117.2\" width=\"32.256\" height=\"12.8\" style=\"stroke:blue;stroke-width:1;fill:none\" transform=\"translate(6.399999999999999 0.0) rotate(-30 30 130)\"/><circle cx=\"30\" cy=\"130\" r=\"1.5\" stroke=\"red\" fill=\"red\"/><rect x=\"30.0\" y=\"102.78687483155919\" width=\"34.33451542447085\" height=\"27.21312516844081\" style=\"stroke:red;stroke-width:1;fill:none\"/></g><g><text x=\"90\" y=\"117.2\" fill=\"black\" font-size=\"16\" font-family=\"Arial\" text-anchor=\"middle\" transform=\"translate(3.200000000000003 -8.063999999999993) rotate(-30 90 130)\"><tspan x=\"90\" dy=\"12.8\">ABC</tspan></text><rect x=\"73.872\" y=\"117.2\" width=\"32.256\" height=\"12.8\" style=\"stroke:blue;stroke-width:1;fill:none\" transform=\"translate(3.200000000000003 -8.063999999999993) rotate(-30 90 130)\"/><circle cx=\"90\" cy=\"130\" r=\"1.5\" stroke=\"red\" fill=\"red\"/><rect x=\"72.83274228776457\" y=\"102.7868748315592\" width=\"34.33451542447085\" height=\"27.213125168440797\" style=\"stroke:red;stroke-width:1;fill:none\"/></g><g><text x=\"150\" y=\"117.2\" fill=\"black\" font-size=\"16\" font-family=\"Arial\" text-anchor=\"end\" transform=\"translate(0.0 -16.127999999999986) rotate(-30 150 130)\"><tspan x=\"150\" dy=\"12.8\">ABC</tspan></text><rect x=\"117.744\" y=\"117.2\" width=\"32.256\" height=\"12.8\" style=\"stroke:blue;stroke-width:1;fill:none\" transform=\"translate(0.0 -16.127999999999986) rotate(-30 150 130)\"/><circle cx=\"150\" cy=\"130\" r=\"1.5\" stroke=\"red\" fill=\"red\"/><rect x=\"115.66548457552915\" y=\"102.7868748315592\" width=\"34.33451542447085\" height=\"27.213125168440797\" style=\"stroke:red;stroke-width:1;fill:none\"/></g></svg>"
      ],
      "text/plain": [
       "<IPython.core.display.SVG object>"
      ]
     },
     "execution_count": 34,
     "metadata": {},
     "output_type": "execute_result"
    }
   ],
   "source": [
    "# \"default\" rotation mode\n",
    "s = ET.tostring(svgtext.text_tosvg('ABC', 30, 30, rotation=30,\n",
    "                       halign='left', valign='top', \n",
    "                       rotation_mode='default', testmode=True),\n",
    "                encoding='unicode')\n",
    "s += ET.tostring(svgtext.text_tosvg('ABC', 90, 30, rotation=30,\n",
    "                       halign='center', valign='top', \n",
    "                       rotation_mode='default', testmode=True),\n",
    "                encoding='unicode')\n",
    "s += ET.tostring(svgtext.text_tosvg('ABC', 150, 30, rotation=30,\n",
    "                       halign='right', valign='top', \n",
    "                       rotation_mode='default', testmode=True),\n",
    "                encoding='unicode')\n",
    "s += ET.tostring(svgtext.text_tosvg('ABC', 30, 80, rotation=30,\n",
    "                       halign='left', valign='center', \n",
    "                       rotation_mode='default', testmode=True),\n",
    "                encoding='unicode')\n",
    "s += ET.tostring(svgtext.text_tosvg('ABC', 90, 80, rotation=30,\n",
    "                       halign='center', valign='center', \n",
    "                       rotation_mode='default', testmode=True),\n",
    "                encoding='unicode')\n",
    "s += ET.tostring(svgtext.text_tosvg('ABC', 150, 80, rotation=30,\n",
    "                       halign='right', valign='center', \n",
    "                       rotation_mode='default', testmode=True),\n",
    "                encoding='unicode')\n",
    "s += ET.tostring(svgtext.text_tosvg('ABC', 30, 130, rotation=30,\n",
    "                       halign='left', valign='bottom', \n",
    "                       rotation_mode='default', testmode=True),\n",
    "                encoding='unicode')\n",
    "s += ET.tostring(svgtext.text_tosvg('ABC', 90, 130, rotation=30,\n",
    "                       halign='center', valign='bottom', \n",
    "                       rotation_mode='default', testmode=True),\n",
    "                encoding='unicode')\n",
    "s += ET.tostring(svgtext.text_tosvg('ABC', 150, 130, rotation=30,\n",
    "                       halign='right', valign='bottom', \n",
    "                       rotation_mode='default', testmode=True),\n",
    "                encoding='unicode')\n",
    "\n",
    "SVG(svghead.format(s))"
   ]
  },
  {
   "cell_type": "code",
   "execution_count": 35,
   "id": "a25ad980",
   "metadata": {},
   "outputs": [
    {
     "data": {
      "image/svg+xml": [
       "<svg xmlns=\"http://www.w3.org/2000/svg\" xml:lang=\"en\" height=\"150pt\" width=\"150pt\">b'<g><text x=\"50\" y=\"43.599999999999994\" fill=\"black\" font-size=\"16\" font-family=\"Arial\" text-anchor=\"start\" transform=\"rotate(-145 50 50)\"><tspan x=\"50\" dy=\"12.8\">A<tspan baseline-shift=\"super\" font-size=\"smaller\">x</tspan> + B₁</tspan></text><rect x=\"50\" y=\"43.599999999999994\" width=\"60.19199999999999\" height=\"12.8\" style=\"stroke:blue;stroke-width:1;fill:none\" transform=\"rotate(-145 50 50)\"/><circle cx=\"50\" cy=\"50\" r=\"1.5\" stroke=\"red\" fill=\"red\"/><rect x=\"-2.9772890424896943\" y=\"10.2327140597083\" width=\"56.648178235136385\" height=\"45.00985902374126\" style=\"stroke:red;stroke-width:1;fill:none\"/></g>'</svg>"
      ],
      "text/plain": [
       "<IPython.core.display.SVG object>"
      ]
     },
     "execution_count": 35,
     "metadata": {},
     "output_type": "execute_result"
    }
   ],
   "source": [
    "svghead = '<svg xmlns=\"http://www.w3.org/2000/svg\" xml:lang=\"en\" height=\"150pt\" width=\"150pt\">{}</svg>'\n",
    "s = svgtext.text_tosvg('$A^x$ + $B_1$', 50, 50, halign='left', rotation=145, testmode=True)\n",
    "SVG(svghead.format(ET.tostring(s)))"
   ]
  },
  {
   "cell_type": "code",
   "execution_count": 36,
   "id": "154b6795",
   "metadata": {},
   "outputs": [
    {
     "data": {
      "image/svg+xml": [
       "<svg xmlns=\"http://www.w3.org/2000/svg\" xml:lang=\"en\" height=\"150pt\" width=\"150pt\">b'<g><text x=\"50\" y=\"41.199999999999996\" fill=\"black\" font-size=\"22\" font-family=\"Arial\" text-anchor=\"start\" transform=\"rotate(45 50 50)\"><tspan x=\"50\" dy=\"17.6\">A<tspan baseline-shift=\"super\" font-size=\"smaller\">xy</tspan> + B₁₁</tspan></text><rect x=\"50\" y=\"41.199999999999996\" width=\"103.884\" height=\"17.6\" style=\"stroke:blue;stroke-width:1;fill:none\" transform=\"rotate(45 50 50)\"/><circle cx=\"50\" cy=\"50\" r=\"1.5\" stroke=\"red\" fill=\"red\"/><rect x=\"43.77746032555839\" y=\"43.77746032555838\" width=\"85.90216020566655\" height=\"85.90216020566656\" style=\"stroke:red;stroke-width:1;fill:none\"/></g>'</svg>"
      ],
      "text/plain": [
       "<IPython.core.display.SVG object>"
      ]
     },
     "execution_count": 36,
     "metadata": {},
     "output_type": "execute_result"
    }
   ],
   "source": [
    "svghead = '<svg xmlns=\"http://www.w3.org/2000/svg\" xml:lang=\"en\" height=\"150pt\" width=\"150pt\">{}</svg>'\n",
    "s = svgtext.text_tosvg('$A^{xy}$ + $B_{11}$', 50, 50, halign='left', size=22, rotation=-45, testmode=True)\n",
    "SVG(svghead.format(ET.tostring(s)))"
   ]
  },
  {
   "cell_type": "code",
   "execution_count": null,
   "id": "7097ea9d",
   "metadata": {},
   "outputs": [],
   "source": []
  },
  {
   "cell_type": "code",
   "execution_count": 37,
   "id": "4994cf13",
   "metadata": {},
   "outputs": [],
   "source": [
    "#schemdraw.settextmode('text')\n",
    "schemdraw.svgconfig.text = 'text'"
   ]
  },
  {
   "cell_type": "code",
   "execution_count": 38,
   "id": "60ae408c",
   "metadata": {},
   "outputs": [
    {
     "data": {
      "image/svg+xml": [
       "<svg xmlns=\"http://www.w3.org/2000/svg\" xml:lang=\"en\" height=\"150pt\" width=\"150pt\"><g><text x=\"30\" y=\"29.999999999999996\" fill=\"black\" font-size=\"16\" font-family=\"Arial\" text-anchor=\"start\" transform=\"translate(0.0 16.128) rotate(-30 30 30)\"><tspan x=\"30\" dy=\"12.8\">ABC</tspan></text><rect x=\"30\" y=\"29.999999999999996\" width=\"32.256\" height=\"12.8\" style=\"stroke:blue;stroke-width:1;fill:none\" transform=\"translate(0.0 16.128) rotate(-30 30 30)\"/><circle cx=\"30\" cy=\"30\" r=\"1.5\" stroke=\"red\" fill=\"red\"/><rect x=\"30.0\" y=\"30.0\" width=\"34.33451542447085\" height=\"27.21312516844081\" style=\"stroke:red;stroke-width:1;fill:none\"/></g><g><text x=\"90\" y=\"29.999999999999996\" fill=\"black\" font-size=\"16\" font-family=\"Arial\" text-anchor=\"middle\" transform=\"translate(-3.1999999999999886 8.064) rotate(-30 90 30)\"><tspan x=\"90\" dy=\"12.8\">ABC</tspan></text><rect x=\"73.872\" y=\"29.999999999999996\" width=\"32.256\" height=\"12.8\" style=\"stroke:blue;stroke-width:1;fill:none\" transform=\"translate(-3.1999999999999886 8.064) rotate(-30 90 30)\"/><circle cx=\"90\" cy=\"30\" r=\"1.5\" stroke=\"red\" fill=\"red\"/><rect x=\"72.83274228776457\" y=\"30.0\" width=\"34.334515424470865\" height=\"27.21312516844081\" style=\"stroke:red;stroke-width:1;fill:none\"/></g><g><text x=\"150\" y=\"29.999999999999996\" fill=\"black\" font-size=\"16\" font-family=\"Arial\" text-anchor=\"end\" transform=\"translate(-6.400000000000006 3.552713678800501e-15) rotate(-30 150 30)\"><tspan x=\"150\" dy=\"12.8\">ABC</tspan></text><rect x=\"117.744\" y=\"29.999999999999996\" width=\"32.256\" height=\"12.8\" style=\"stroke:blue;stroke-width:1;fill:none\" transform=\"translate(-6.400000000000006 3.552713678800501e-15) rotate(-30 150 30)\"/><circle cx=\"150\" cy=\"30\" r=\"1.5\" stroke=\"red\" fill=\"red\"/><rect x=\"115.66548457552913\" y=\"30.0\" width=\"34.334515424470865\" height=\"27.21312516844081\" style=\"stroke:red;stroke-width:1;fill:none\"/></g><g><text x=\"30\" y=\"73.60000000000001\" fill=\"black\" font-size=\"16\" font-family=\"Arial\" text-anchor=\"start\" transform=\"translate(3.1999999999999957 8.063999999999993) rotate(-30 30 80)\"><tspan x=\"30\" dy=\"12.8\">ABC</tspan></text><rect x=\"30\" y=\"73.60000000000001\" width=\"32.256\" height=\"12.8\" style=\"stroke:blue;stroke-width:1;fill:none\" transform=\"translate(3.1999999999999957 8.063999999999993) rotate(-30 30 80)\"/><circle cx=\"30\" cy=\"80\" r=\"1.5\" stroke=\"red\" fill=\"red\"/><rect x=\"30.0\" y=\"66.3934374157796\" width=\"34.33451542447085\" height=\"27.213125168440797\" style=\"stroke:red;stroke-width:1;fill:none\"/></g><g><text x=\"90\" y=\"73.60000000000001\" fill=\"black\" font-size=\"16\" font-family=\"Arial\" text-anchor=\"middle\" transform=\"translate(0.0 0.0) rotate(-30 90 80)\"><tspan x=\"90\" dy=\"12.8\">ABC</tspan></text><rect x=\"73.872\" y=\"73.60000000000001\" width=\"32.256\" height=\"12.8\" style=\"stroke:blue;stroke-width:1;fill:none\" transform=\"translate(0.0 0.0) rotate(-30 90 80)\"/><circle cx=\"90\" cy=\"80\" r=\"1.5\" stroke=\"red\" fill=\"red\"/><rect x=\"72.83274228776457\" y=\"66.3934374157796\" width=\"34.33451542447085\" height=\"27.21312516844081\" style=\"stroke:red;stroke-width:1;fill:none\"/></g><g><text x=\"150\" y=\"73.60000000000001\" fill=\"black\" font-size=\"16\" font-family=\"Arial\" text-anchor=\"end\" transform=\"translate(-3.1999999999999886 -8.063999999999993) rotate(-30 150 80)\"><tspan x=\"150\" dy=\"12.8\">ABC</tspan></text><rect x=\"117.744\" y=\"73.60000000000001\" width=\"32.256\" height=\"12.8\" style=\"stroke:blue;stroke-width:1;fill:none\" transform=\"translate(-3.1999999999999886 -8.063999999999993) rotate(-30 150 80)\"/><circle cx=\"150\" cy=\"80\" r=\"1.5\" stroke=\"red\" fill=\"red\"/><rect x=\"115.66548457552916\" y=\"66.3934374157796\" width=\"34.33451542447084\" height=\"27.21312516844081\" style=\"stroke:red;stroke-width:1;fill:none\"/></g><g><text x=\"30\" y=\"117.2\" fill=\"black\" font-size=\"16\" font-family=\"Arial\" text-anchor=\"start\" transform=\"translate(6.399999999999999 0.0) rotate(-30 30 130)\"><tspan x=\"30\" dy=\"12.8\">ABC</tspan></text><rect x=\"30\" y=\"117.2\" width=\"32.256\" height=\"12.8\" style=\"stroke:blue;stroke-width:1;fill:none\" transform=\"translate(6.399999999999999 0.0) rotate(-30 30 130)\"/><circle cx=\"30\" cy=\"130\" r=\"1.5\" stroke=\"red\" fill=\"red\"/><rect x=\"30.0\" y=\"102.78687483155919\" width=\"34.33451542447085\" height=\"27.21312516844081\" style=\"stroke:red;stroke-width:1;fill:none\"/></g><g><text x=\"90\" y=\"117.2\" fill=\"black\" font-size=\"16\" font-family=\"Arial\" text-anchor=\"middle\" transform=\"translate(3.200000000000003 -8.063999999999993) rotate(-30 90 130)\"><tspan x=\"90\" dy=\"12.8\">ABC</tspan></text><rect x=\"73.872\" y=\"117.2\" width=\"32.256\" height=\"12.8\" style=\"stroke:blue;stroke-width:1;fill:none\" transform=\"translate(3.200000000000003 -8.063999999999993) rotate(-30 90 130)\"/><circle cx=\"90\" cy=\"130\" r=\"1.5\" stroke=\"red\" fill=\"red\"/><rect x=\"72.83274228776457\" y=\"102.7868748315592\" width=\"34.33451542447085\" height=\"27.213125168440797\" style=\"stroke:red;stroke-width:1;fill:none\"/></g><g><text x=\"150\" y=\"117.2\" fill=\"black\" font-size=\"16\" font-family=\"Arial\" text-anchor=\"end\" transform=\"translate(0.0 -16.127999999999986) rotate(-30 150 130)\"><tspan x=\"150\" dy=\"12.8\">ABC</tspan></text><rect x=\"117.744\" y=\"117.2\" width=\"32.256\" height=\"12.8\" style=\"stroke:blue;stroke-width:1;fill:none\" transform=\"translate(0.0 -16.127999999999986) rotate(-30 150 130)\"/><circle cx=\"150\" cy=\"130\" r=\"1.5\" stroke=\"red\" fill=\"red\"/><rect x=\"115.66548457552915\" y=\"102.7868748315592\" width=\"34.33451542447085\" height=\"27.213125168440797\" style=\"stroke:red;stroke-width:1;fill:none\"/></g></svg>"
      ],
      "text/plain": [
       "<IPython.core.display.SVG object>"
      ]
     },
     "execution_count": 38,
     "metadata": {},
     "output_type": "execute_result"
    }
   ],
   "source": [
    "# \"default\" rotation mode\n",
    "s = ET.tostring(svgtext.text_tosvg('ABC', 30, 30, rotation=30,\n",
    "                       halign='left', valign='top', \n",
    "                       rotation_mode='default', testmode=True),\n",
    "                encoding='unicode')\n",
    "s += ET.tostring(svgtext.text_tosvg('ABC', 90, 30, rotation=30,\n",
    "                       halign='center', valign='top', \n",
    "                       rotation_mode='default', testmode=True),\n",
    "                encoding='unicode')\n",
    "s += ET.tostring(svgtext.text_tosvg('ABC', 150, 30, rotation=30,\n",
    "                       halign='right', valign='top', \n",
    "                       rotation_mode='default', testmode=True),\n",
    "                encoding='unicode')\n",
    "s += ET.tostring(svgtext.text_tosvg('ABC', 30, 80, rotation=30,\n",
    "                       halign='left', valign='center', \n",
    "                       rotation_mode='default', testmode=True),\n",
    "                encoding='unicode')\n",
    "s += ET.tostring(svgtext.text_tosvg('ABC', 90, 80, rotation=30,\n",
    "                       halign='center', valign='center', \n",
    "                       rotation_mode='default', testmode=True),\n",
    "                encoding='unicode')\n",
    "s += ET.tostring(svgtext.text_tosvg('ABC', 150, 80, rotation=30,\n",
    "                       halign='right', valign='center', \n",
    "                       rotation_mode='default', testmode=True),\n",
    "                encoding='unicode')\n",
    "s += ET.tostring(svgtext.text_tosvg('ABC', 30, 130, rotation=30,\n",
    "                       halign='left', valign='bottom', \n",
    "                       rotation_mode='default', testmode=True),\n",
    "                encoding='unicode')\n",
    "s += ET.tostring(svgtext.text_tosvg('ABC', 90, 130, rotation=30,\n",
    "                       halign='center', valign='bottom', \n",
    "                       rotation_mode='default', testmode=True),\n",
    "                encoding='unicode')\n",
    "s += ET.tostring(svgtext.text_tosvg('ABC', 150, 130, rotation=30,\n",
    "                       halign='right', valign='bottom', \n",
    "                       rotation_mode='default', testmode=True),\n",
    "                encoding='unicode')\n",
    "\n",
    "SVG(svghead.format(s))"
   ]
  },
  {
   "cell_type": "code",
   "execution_count": 39,
   "id": "1872f224",
   "metadata": {},
   "outputs": [
    {
     "data": {
      "image/svg+xml": [
       "<svg xmlns=\"http://www.w3.org/2000/svg\" xml:lang=\"en\" height=\"150pt\" width=\"150pt\"><g><text x=\"30\" y=\"29.999999999999996\" fill=\"black\" font-size=\"16\" font-family=\"Arial\" text-anchor=\"start\" transform=\"rotate(-30 30 30)\"><tspan x=\"30\" dy=\"12.8\">ABC</tspan></text><rect x=\"30\" y=\"29.999999999999996\" width=\"32.256\" height=\"12.8\" style=\"stroke:blue;stroke-width:1;fill:none\" transform=\"rotate(-30 30 30)\"/><circle cx=\"30\" cy=\"30\" r=\"1.5\" stroke=\"red\" fill=\"red\"/><rect x=\"30.0\" y=\"13.872\" width=\"34.33451542447085\" height=\"27.21312516844081\" style=\"stroke:red;stroke-width:1;fill:none\"/></g><g><text x=\"90\" y=\"29.999999999999996\" fill=\"black\" font-size=\"16\" font-family=\"Arial\" text-anchor=\"middle\" transform=\"rotate(-30 90 30)\"><tspan x=\"90\" dy=\"12.8\">ABC</tspan></text><rect x=\"73.872\" y=\"29.999999999999996\" width=\"32.256\" height=\"12.8\" style=\"stroke:blue;stroke-width:1;fill:none\" transform=\"rotate(-30 90 30)\"/><circle cx=\"90\" cy=\"30\" r=\"1.5\" stroke=\"red\" fill=\"red\"/><rect x=\"76.03274228776456\" y=\"21.936\" width=\"34.334515424470865\" height=\"27.21312516844081\" style=\"stroke:red;stroke-width:1;fill:none\"/></g><g><text x=\"150\" y=\"29.999999999999996\" fill=\"black\" font-size=\"16\" font-family=\"Arial\" text-anchor=\"end\" transform=\"rotate(-30 150 30)\"><tspan x=\"150\" dy=\"12.8\">ABC</tspan></text><rect x=\"117.744\" y=\"29.999999999999996\" width=\"32.256\" height=\"12.8\" style=\"stroke:blue;stroke-width:1;fill:none\" transform=\"rotate(-30 150 30)\"/><circle cx=\"150\" cy=\"30\" r=\"1.5\" stroke=\"red\" fill=\"red\"/><rect x=\"122.06548457552914\" y=\"29.999999999999996\" width=\"34.334515424470865\" height=\"27.213125168440815\" style=\"stroke:red;stroke-width:1;fill:none\"/></g><g><text x=\"30\" y=\"73.60000000000001\" fill=\"black\" font-size=\"16\" font-family=\"Arial\" text-anchor=\"start\" transform=\"rotate(-30 30 80)\"><tspan x=\"30\" dy=\"12.8\">ABC</tspan></text><rect x=\"30\" y=\"73.60000000000001\" width=\"32.256\" height=\"12.8\" style=\"stroke:blue;stroke-width:1;fill:none\" transform=\"rotate(-30 30 80)\"/><circle cx=\"30\" cy=\"80\" r=\"1.5\" stroke=\"red\" fill=\"red\"/><rect x=\"26.800000000000004\" y=\"58.3294374157796\" width=\"34.33451542447086\" height=\"27.213125168440804\" style=\"stroke:red;stroke-width:1;fill:none\"/></g><g><text x=\"90\" y=\"73.60000000000001\" fill=\"black\" font-size=\"16\" font-family=\"Arial\" text-anchor=\"middle\" transform=\"rotate(-30 90 80)\"><tspan x=\"90\" dy=\"12.8\">ABC</tspan></text><rect x=\"73.872\" y=\"73.60000000000001\" width=\"32.256\" height=\"12.8\" style=\"stroke:blue;stroke-width:1;fill:none\" transform=\"rotate(-30 90 80)\"/><circle cx=\"90\" cy=\"80\" r=\"1.5\" stroke=\"red\" fill=\"red\"/><rect x=\"72.83274228776457\" y=\"66.3934374157796\" width=\"34.33451542447085\" height=\"27.21312516844081\" style=\"stroke:red;stroke-width:1;fill:none\"/></g><g><text x=\"150\" y=\"73.60000000000001\" fill=\"black\" font-size=\"16\" font-family=\"Arial\" text-anchor=\"end\" transform=\"rotate(-30 150 80)\"><tspan x=\"150\" dy=\"12.8\">ABC</tspan></text><rect x=\"117.744\" y=\"73.60000000000001\" width=\"32.256\" height=\"12.8\" style=\"stroke:blue;stroke-width:1;fill:none\" transform=\"rotate(-30 150 80)\"/><circle cx=\"150\" cy=\"80\" r=\"1.5\" stroke=\"red\" fill=\"red\"/><rect x=\"118.86548457552915\" y=\"74.4574374157796\" width=\"34.33451542447084\" height=\"27.21312516844081\" style=\"stroke:red;stroke-width:1;fill:none\"/></g><g><text x=\"30\" y=\"117.2\" fill=\"black\" font-size=\"16\" font-family=\"Arial\" text-anchor=\"start\" transform=\"rotate(-30 30 130)\"><tspan x=\"30\" dy=\"12.8\">ABC</tspan></text><rect x=\"30\" y=\"117.2\" width=\"32.256\" height=\"12.8\" style=\"stroke:blue;stroke-width:1;fill:none\" transform=\"rotate(-30 30 130)\"/><circle cx=\"30\" cy=\"130\" r=\"1.5\" stroke=\"red\" fill=\"red\"/><rect x=\"23.6\" y=\"102.78687483155919\" width=\"34.33451542447086\" height=\"27.21312516844081\" style=\"stroke:red;stroke-width:1;fill:none\"/></g><g><text x=\"90\" y=\"117.2\" fill=\"black\" font-size=\"16\" font-family=\"Arial\" text-anchor=\"middle\" transform=\"rotate(-30 90 130)\"><tspan x=\"90\" dy=\"12.8\">ABC</tspan></text><rect x=\"73.872\" y=\"117.2\" width=\"32.256\" height=\"12.8\" style=\"stroke:blue;stroke-width:1;fill:none\" transform=\"rotate(-30 90 130)\"/><circle cx=\"90\" cy=\"130\" r=\"1.5\" stroke=\"red\" fill=\"red\"/><rect x=\"69.63274228776457\" y=\"110.8508748315592\" width=\"34.33451542447085\" height=\"27.213125168440797\" style=\"stroke:red;stroke-width:1;fill:none\"/></g><g><text x=\"150\" y=\"117.2\" fill=\"black\" font-size=\"16\" font-family=\"Arial\" text-anchor=\"end\" transform=\"rotate(-30 150 130)\"><tspan x=\"150\" dy=\"12.8\">ABC</tspan></text><rect x=\"117.744\" y=\"117.2\" width=\"32.256\" height=\"12.8\" style=\"stroke:blue;stroke-width:1;fill:none\" transform=\"rotate(-30 150 130)\"/><circle cx=\"150\" cy=\"130\" r=\"1.5\" stroke=\"red\" fill=\"red\"/><rect x=\"115.66548457552915\" y=\"118.91487483155919\" width=\"34.33451542447085\" height=\"27.213125168440797\" style=\"stroke:red;stroke-width:1;fill:none\"/></g></svg>"
      ],
      "text/plain": [
       "<IPython.core.display.SVG object>"
      ]
     },
     "execution_count": 39,
     "metadata": {},
     "output_type": "execute_result"
    }
   ],
   "source": [
    "# \"anchor\" rotation mode\n",
    "s = ET.tostring(svgtext.text_tosvg('ABC', 30, 30, rotation=30,\n",
    "                       halign='left', valign='top', \n",
    "                       testmode=True),\n",
    "                encoding='unicode')\n",
    "s += ET.tostring(svgtext.text_tosvg('ABC', 90, 30, rotation=30,\n",
    "                       halign='center', valign='top', \n",
    "                       testmode=True),\n",
    "                encoding='unicode')\n",
    "s += ET.tostring(svgtext.text_tosvg('ABC', 150, 30, rotation=30,\n",
    "                       halign='right', valign='top', \n",
    "                       testmode=True),\n",
    "                encoding='unicode')\n",
    "s += ET.tostring(svgtext.text_tosvg('ABC', 30, 80, rotation=30,\n",
    "                       halign='left', valign='center', \n",
    "                       testmode=True),\n",
    "                encoding='unicode')\n",
    "s += ET.tostring(svgtext.text_tosvg('ABC', 90, 80, rotation=30,\n",
    "                       halign='center', valign='center', \n",
    "                       testmode=True),\n",
    "                encoding='unicode')\n",
    "s += ET.tostring(svgtext.text_tosvg('ABC', 150, 80, rotation=30,\n",
    "                       halign='right', valign='center', \n",
    "                       testmode=True),\n",
    "                encoding='unicode')\n",
    "s += ET.tostring(svgtext.text_tosvg('ABC', 30, 130, rotation=30,\n",
    "                       halign='left', valign='bottom', \n",
    "                       testmode=True),\n",
    "                encoding='unicode')\n",
    "s += ET.tostring(svgtext.text_tosvg('ABC', 90, 130, rotation=30,\n",
    "                       halign='center', valign='bottom', \n",
    "                       testmode=True),\n",
    "                encoding='unicode')\n",
    "s += ET.tostring(svgtext.text_tosvg('ABC', 150, 130, rotation=30,\n",
    "                       halign='right', valign='bottom', \n",
    "                       testmode=True),\n",
    "                encoding='unicode')\n",
    "\n",
    "SVG(svghead.format(s))"
   ]
  },
  {
   "cell_type": "code",
   "execution_count": 40,
   "id": "bcf0abde",
   "metadata": {},
   "outputs": [
    {
     "data": {
      "image/svg+xml": [
       "<svg xmlns=\"http://www.w3.org/2000/svg\" xml:lang=\"en\" height=\"118.399324pt\" width=\"598.8639999999999pt\" viewBox=\"-7.832 -42.377762 598.8639999999999 118.399324\" style=\"background-color:white;\"><path d=\"M 0.0,-0.0 L 32.4,-0.0 L 35.099999999999994,-8.1 L 40.5,8.1 L 45.89999999999999,-8.1 L 51.3,8.1 L 56.699999999999996,-8.1 L 62.099999999999994,8.1 L 64.8,-0.0 L 97.19999999999999,-0.0\" style=\"stroke:black;fill:none;stroke-width:2.0;stroke-linecap:round;stroke-linejoin:round;\" /><path d=\"M 97.19999999999999,-0.0 L 129.6,-0.0 L 132.29999999999998,-8.1 L 137.7,8.1 L 143.09999999999997,-8.1 L 148.49999999999997,8.1 L 153.9,-8.1 L 159.29999999999998,8.1 L 162.0,-0.0 L 194.39999999999998,-0.0\" style=\"stroke:black;fill:none;stroke-width:2.0;stroke-linecap:round;stroke-linejoin:round;\" /><path d=\"M 194.39999999999998,-0.0 L 226.79999999999998,-0.0 L 229.49999999999997,-8.1 L 234.89999999999998,8.1 L 240.29999999999998,-8.1 L 245.7,8.1 L 251.1,-8.1 L 256.49999999999994,8.1 L 259.2,-0.0 L 291.59999999999997,-0.0\" style=\"stroke:black;fill:none;stroke-width:2.0;stroke-linecap:round;stroke-linejoin:round;\" /><path d=\"M 291.59999999999997,-0.0 L 324.0,-0.0 L 326.7,-8.1 L 332.09999999999997,8.1 L 337.49999999999994,-8.1 L 342.9,8.1 L 348.3,-8.1 L 353.7,8.1 L 356.4,-0.0 L 388.79999999999995,-0.0\" style=\"stroke:black;fill:none;stroke-width:2.0;stroke-linecap:round;stroke-linejoin:round;\" /><path d=\"M 388.79999999999995,-0.0 L 421.2,-0.0 L 423.9,-8.1 L 429.29999999999995,8.1 L 434.7,-8.1 L 440.1,8.1 L 445.5,-8.1 L 450.9,8.1 L 453.59999999999997,-0.0 L 486.0,-0.0\" style=\"stroke:black;fill:none;stroke-width:2.0;stroke-linecap:round;stroke-linejoin:round;\" /><path d=\"M 486.0,-0.0 L 518.4,-0.0 L 521.0999999999999,-8.1 L 526.5,8.1 L 531.9,-8.1 L 537.3,8.1 L 542.6999999999999,-8.1 L 548.1,8.1 L 550.8,-0.0 L 583.1999999999999,-0.0\" style=\"stroke:black;fill:none;stroke-width:2.0;stroke-linecap:round;stroke-linejoin:round;\" /><path d=\"M 0.0,64.8 L 32.4,64.8 L 35.099999999999994,56.699999999999996 L 40.5,72.89999999999999 L 45.89999999999999,56.699999999999996 L 51.3,72.89999999999999 L 56.699999999999996,56.699999999999996 L 62.099999999999994,72.89999999999999 L 64.8,64.8 L 97.19999999999999,64.8\" style=\"stroke:black;fill:none;stroke-width:2.0;stroke-linecap:round;stroke-linejoin:round;\" /><path d=\"M 97.19999999999999,64.8 L 129.6,64.8 L 132.29999999999998,56.699999999999996 L 137.7,72.89999999999999 L 143.09999999999997,56.699999999999996 L 148.49999999999997,72.89999999999999 L 153.9,56.699999999999996 L 159.29999999999998,72.89999999999999 L 162.0,64.8 L 194.39999999999998,64.8\" style=\"stroke:black;fill:none;stroke-width:2.0;stroke-linecap:round;stroke-linejoin:round;\" /><path d=\"M 194.39999999999998,64.8 L 226.79999999999998,64.8 L 229.49999999999997,56.699999999999996 L 234.89999999999998,72.89999999999999 L 240.29999999999998,56.699999999999996 L 245.7,72.89999999999999 L 251.1,56.699999999999996 L 256.49999999999994,72.89999999999999 L 259.2,64.8 L 291.59999999999997,64.8\" style=\"stroke:black;fill:none;stroke-width:2.0;stroke-linecap:round;stroke-linejoin:round;\" /><path d=\"M 291.59999999999997,64.8 L 324.0,64.8 L 326.7,56.699999999999996 L 332.09999999999997,72.89999999999999 L 337.49999999999994,56.699999999999996 L 342.9,72.89999999999999 L 348.3,56.699999999999996 L 353.7,72.89999999999999 L 356.4,64.8 L 388.79999999999995,64.8\" style=\"stroke:black;fill:none;stroke-width:2.0;stroke-linecap:round;stroke-linejoin:round;\" /><path d=\"M 388.79999999999995,64.8 L 421.2,64.8 L 423.9,56.699999999999996 L 429.29999999999995,72.89999999999999 L 434.7,56.699999999999996 L 440.1,72.89999999999999 L 445.5,56.699999999999996 L 450.9,72.89999999999999 L 453.59999999999997,64.8 L 486.0,64.8\" style=\"stroke:black;fill:none;stroke-width:2.0;stroke-linecap:round;stroke-linejoin:round;\" /><text x=\"48.599999999999994\" y=\"-24.64\" fill=\"black\" font-size=\"14.0\" font-family=\"Times\" text-anchor=\"middle\" transform=\"rotate(0 48.599999999999994 -13.44)\"><tspan x=\"48.599999999999994\" dy=\"11.200000000000001\">R₁₁</tspan></text><text x=\"145.79999999999998\" y=\"-24.64\" fill=\"black\" font-size=\"14.0\" font-family=\"Times\" text-anchor=\"middle\" transform=\"rotate(0 145.79999999999998 -13.44)\"><tspan x=\"145.79999999999998\" dy=\"11.200000000000001\">R²²</tspan></text><text x=\"243.0\" y=\"-24.64\" fill=\"black\" font-size=\"14.0\" font-family=\"Times\" text-anchor=\"middle\" transform=\"rotate(0 243.0 -13.44)\"><tspan x=\"243.0\" dy=\"11.200000000000001\">θ</tspan></text><text x=\"340.2\" y=\"-24.64\" fill=\"black\" font-size=\"14.0\" font-family=\"Times\" text-anchor=\"middle\" transform=\"rotate(0 340.2 -13.44)\"><tspan x=\"340.2\" dy=\"11.200000000000001\"><tspan text-decoration=\"overline\">Q₁</tspan></tspan></text><text x=\"437.4\" y=\"-24.64\" fill=\"black\" font-size=\"14.0\" font-family=\"Times\" text-anchor=\"middle\" transform=\"rotate(0 437.4 -13.44)\"><tspan x=\"437.4\" dy=\"11.200000000000001\">R₁</tspan></text><text x=\"534.6\" y=\"-24.64\" fill=\"black\" font-size=\"14.0\" font-family=\"Times\" text-anchor=\"middle\" transform=\"rotate(0 534.6 -13.44)\"><tspan x=\"534.6\" dy=\"11.200000000000001\">√<tspan text-decoration=\"overline\">x</tspan></tspan></text><text x=\"48.599999999999994\" y=\"40.15999999999999\" fill=\"black\" font-size=\"14.0\" font-family=\"Times\" text-anchor=\"middle\" transform=\"rotate(0 48.599999999999994 51.35999999999999)\"><tspan x=\"48.599999999999994\" dy=\"11.200000000000001\">Ω</tspan></text><text x=\"145.79999999999998\" y=\"40.15999999999999\" fill=\"black\" font-size=\"14.0\" font-family=\"Times\" text-anchor=\"middle\" transform=\"rotate(0 145.79999999999998 51.35999999999999)\"><tspan x=\"145.79999999999998\" dy=\"11.200000000000001\">∠</tspan></text><text x=\"243.0\" y=\"40.15999999999999\" fill=\"black\" font-size=\"14.0\" font-family=\"Times\" text-anchor=\"middle\" transform=\"rotate(0 243.0 51.35999999999999)\"><tspan x=\"243.0\" dy=\"11.200000000000001\">10%</tspan></text><text x=\"340.2\" y=\"40.15999999999999\" fill=\"black\" font-size=\"14.0\" font-family=\"Times\" text-anchor=\"middle\" transform=\"rotate(0 340.2 51.35999999999999)\"><tspan x=\"340.2\" dy=\"11.200000000000001\">R²</tspan></text><text x=\"437.4\" y=\"40.15999999999999\" fill=\"black\" font-size=\"14.0\" font-family=\"Times\" text-anchor=\"middle\" transform=\"rotate(0 437.4 51.35999999999999)\"><tspan x=\"437.4\" dy=\"11.200000000000001\">R₂</tspan></text></svg>"
      ],
      "text/plain": [
       "<svg xmlns=\"http://www.w3.org/2000/svg\" xml:lang=\"en\" height=\"118.399324pt\" width=\"598.8639999999999pt\" viewBox=\"-7.832 -42.377762 598.8639999999999 118.399324\" style=\"background-color:white;\"><path d=\"M 0.0,-0.0 L 32.4,-0.0 L 35.099999999999994,-8.1 L 40.5,8.1 L 45.89999999999999,-8.1 L 51.3,8.1 L 56.699999999999996,-8.1 L 62.099999999999994,8.1 L 64.8,-0.0 L 97.19999999999999,-0.0\" style=\"stroke:black;fill:none;stroke-width:2.0;stroke-linecap:round;stroke-linejoin:round;\" /><path d=\"M 97.19999999999999,-0.0 L 129.6,-0.0 L 132.29999999999998,-8.1 L 137.7,8.1 L 143.09999999999997,-8.1 L 148.49999999999997,8.1 L 153.9,-8.1 L 159.29999999999998,8.1 L 162.0,-0.0 L 194.39999999999998,-0.0\" style=\"stroke:black;fill:none;stroke-width:2.0;stroke-linecap:round;stroke-linejoin:round;\" /><path d=\"M 194.39999999999998,-0.0 L 226.79999999999998,-0.0 L 229.49999999999997,-8.1 L 234.89999999999998,8.1 L 240.29999999999998,-8.1 L 245.7,8.1 L 251.1,-8.1 L 256.49999999999994,8.1 L 259.2,-0.0 L 291.59999999999997,-0.0\" style=\"stroke:black;fill:none;stroke-width:2.0;stroke-linecap:round;stroke-linejoin:round;\" /><path d=\"M 291.59999999999997,-0.0 L 324.0,-0.0 L 326.7,-8.1 L 332.09999999999997,8.1 L 337.49999999999994,-8.1 L 342.9,8.1 L 348.3,-8.1 L 353.7,8.1 L 356.4,-0.0 L 388.79999999999995,-0.0\" style=\"stroke:black;fill:none;stroke-width:2.0;stroke-linecap:round;stroke-linejoin:round;\" /><path d=\"M 388.79999999999995,-0.0 L 421.2,-0.0 L 423.9,-8.1 L 429.29999999999995,8.1 L 434.7,-8.1 L 440.1,8.1 L 445.5,-8.1 L 450.9,8.1 L 453.59999999999997,-0.0 L 486.0,-0.0\" style=\"stroke:black;fill:none;stroke-width:2.0;stroke-linecap:round;stroke-linejoin:round;\" /><path d=\"M 486.0,-0.0 L 518.4,-0.0 L 521.0999999999999,-8.1 L 526.5,8.1 L 531.9,-8.1 L 537.3,8.1 L 542.6999999999999,-8.1 L 548.1,8.1 L 550.8,-0.0 L 583.1999999999999,-0.0\" style=\"stroke:black;fill:none;stroke-width:2.0;stroke-linecap:round;stroke-linejoin:round;\" /><path d=\"M 0.0,64.8 L 32.4,64.8 L 35.099999999999994,56.699999999999996 L 40.5,72.89999999999999 L 45.89999999999999,56.699999999999996 L 51.3,72.89999999999999 L 56.699999999999996,56.699999999999996 L 62.099999999999994,72.89999999999999 L 64.8,64.8 L 97.19999999999999,64.8\" style=\"stroke:black;fill:none;stroke-width:2.0;stroke-linecap:round;stroke-linejoin:round;\" /><path d=\"M 97.19999999999999,64.8 L 129.6,64.8 L 132.29999999999998,56.699999999999996 L 137.7,72.89999999999999 L 143.09999999999997,56.699999999999996 L 148.49999999999997,72.89999999999999 L 153.9,56.699999999999996 L 159.29999999999998,72.89999999999999 L 162.0,64.8 L 194.39999999999998,64.8\" style=\"stroke:black;fill:none;stroke-width:2.0;stroke-linecap:round;stroke-linejoin:round;\" /><path d=\"M 194.39999999999998,64.8 L 226.79999999999998,64.8 L 229.49999999999997,56.699999999999996 L 234.89999999999998,72.89999999999999 L 240.29999999999998,56.699999999999996 L 245.7,72.89999999999999 L 251.1,56.699999999999996 L 256.49999999999994,72.89999999999999 L 259.2,64.8 L 291.59999999999997,64.8\" style=\"stroke:black;fill:none;stroke-width:2.0;stroke-linecap:round;stroke-linejoin:round;\" /><path d=\"M 291.59999999999997,64.8 L 324.0,64.8 L 326.7,56.699999999999996 L 332.09999999999997,72.89999999999999 L 337.49999999999994,56.699999999999996 L 342.9,72.89999999999999 L 348.3,56.699999999999996 L 353.7,72.89999999999999 L 356.4,64.8 L 388.79999999999995,64.8\" style=\"stroke:black;fill:none;stroke-width:2.0;stroke-linecap:round;stroke-linejoin:round;\" /><path d=\"M 388.79999999999995,64.8 L 421.2,64.8 L 423.9,56.699999999999996 L 429.29999999999995,72.89999999999999 L 434.7,56.699999999999996 L 440.1,72.89999999999999 L 445.5,56.699999999999996 L 450.9,72.89999999999999 L 453.59999999999997,64.8 L 486.0,64.8\" style=\"stroke:black;fill:none;stroke-width:2.0;stroke-linecap:round;stroke-linejoin:round;\" /><text x=\"48.599999999999994\" y=\"-24.64\" fill=\"black\" font-size=\"14.0\" font-family=\"Times\" text-anchor=\"middle\" transform=\"rotate(0 48.599999999999994 -13.44)\"><tspan x=\"48.599999999999994\" dy=\"11.200000000000001\">R₁₁</tspan></text><text x=\"145.79999999999998\" y=\"-24.64\" fill=\"black\" font-size=\"14.0\" font-family=\"Times\" text-anchor=\"middle\" transform=\"rotate(0 145.79999999999998 -13.44)\"><tspan x=\"145.79999999999998\" dy=\"11.200000000000001\">R²²</tspan></text><text x=\"243.0\" y=\"-24.64\" fill=\"black\" font-size=\"14.0\" font-family=\"Times\" text-anchor=\"middle\" transform=\"rotate(0 243.0 -13.44)\"><tspan x=\"243.0\" dy=\"11.200000000000001\">θ</tspan></text><text x=\"340.2\" y=\"-24.64\" fill=\"black\" font-size=\"14.0\" font-family=\"Times\" text-anchor=\"middle\" transform=\"rotate(0 340.2 -13.44)\"><tspan x=\"340.2\" dy=\"11.200000000000001\"><tspan text-decoration=\"overline\">Q₁</tspan></tspan></text><text x=\"437.4\" y=\"-24.64\" fill=\"black\" font-size=\"14.0\" font-family=\"Times\" text-anchor=\"middle\" transform=\"rotate(0 437.4 -13.44)\"><tspan x=\"437.4\" dy=\"11.200000000000001\">R₁</tspan></text><text x=\"534.6\" y=\"-24.64\" fill=\"black\" font-size=\"14.0\" font-family=\"Times\" text-anchor=\"middle\" transform=\"rotate(0 534.6 -13.44)\"><tspan x=\"534.6\" dy=\"11.200000000000001\">√<tspan text-decoration=\"overline\">x</tspan></tspan></text><text x=\"48.599999999999994\" y=\"40.15999999999999\" fill=\"black\" font-size=\"14.0\" font-family=\"Times\" text-anchor=\"middle\" transform=\"rotate(0 48.599999999999994 51.35999999999999)\"><tspan x=\"48.599999999999994\" dy=\"11.200000000000001\">Ω</tspan></text><text x=\"145.79999999999998\" y=\"40.15999999999999\" fill=\"black\" font-size=\"14.0\" font-family=\"Times\" text-anchor=\"middle\" transform=\"rotate(0 145.79999999999998 51.35999999999999)\"><tspan x=\"145.79999999999998\" dy=\"11.200000000000001\">∠</tspan></text><text x=\"243.0\" y=\"40.15999999999999\" fill=\"black\" font-size=\"14.0\" font-family=\"Times\" text-anchor=\"middle\" transform=\"rotate(0 243.0 51.35999999999999)\"><tspan x=\"243.0\" dy=\"11.200000000000001\">10%</tspan></text><text x=\"340.2\" y=\"40.15999999999999\" fill=\"black\" font-size=\"14.0\" font-family=\"Times\" text-anchor=\"middle\" transform=\"rotate(0 340.2 51.35999999999999)\"><tspan x=\"340.2\" dy=\"11.200000000000001\">R²</tspan></text><text x=\"437.4\" y=\"40.15999999999999\" fill=\"black\" font-size=\"14.0\" font-family=\"Times\" text-anchor=\"middle\" transform=\"rotate(0 437.4 51.35999999999999)\"><tspan x=\"437.4\" dy=\"11.200000000000001\">R₂</tspan></text></svg>"
      ]
     },
     "execution_count": 40,
     "metadata": {},
     "output_type": "execute_result"
    }
   ],
   "source": [
    "# Test some mathtext in svg backend - text mode\n",
    "schemdraw.use('svg')\n",
    "d = schemdraw.Drawing(font='Times')\n",
    "d += elm.Resistor().label('$R_{11}$')\n",
    "d += elm.Resistor().label('$R^{22}$')\n",
    "d += elm.Resistor().label(r'$\\theta$')\n",
    "d += elm.Resistor().label('$\\overline{Q_1}$')\n",
    "d += elm.Resistor().label('$R_1$')\n",
    "d += elm.Resistor().label('$\\sqrt{x}$')\n",
    "d.here = (0, -2)\n",
    "d += elm.Resistor().label('Ω')\n",
    "d += elm.Resistor().label('∠')\n",
    "d += elm.Resistor().label('10%')\n",
    "d += elm.Resistor().label('$R^2$')\n",
    "d += elm.Resistor().label('$R_2$')\n",
    "d.draw()"
   ]
  },
  {
   "cell_type": "code",
   "execution_count": null,
   "id": "e15f4d08-b57f-4e5f-92ad-6f296ace97d2",
   "metadata": {},
   "outputs": [],
   "source": []
  },
  {
   "cell_type": "code",
   "execution_count": 41,
   "id": "0bf9de8a",
   "metadata": {},
   "outputs": [],
   "source": [
    "import copy\n",
    "import pickle"
   ]
  },
  {
   "cell_type": "code",
   "execution_count": 42,
   "id": "8fca1c78",
   "metadata": {},
   "outputs": [
    {
     "data": {
      "image/svg+xml": [
       "<svg xmlns=\"http://www.w3.org/2000/svg\" xml:lang=\"en\" height=\"20.524pt\" width=\"103.14399999999998pt\" viewBox=\"-2.972 -10.262 103.14399999999998 20.524\" style=\"background-color:white;\"><path d=\"M 0.0,-0.0 L 32.4,-0.0 L 35.099999999999994,-8.1 L 40.5,8.1 L 45.89999999999999,-8.1 L 51.3,8.1 L 56.699999999999996,-8.1 L 62.099999999999994,8.1 L 64.8,-0.0 L 97.19999999999999,-0.0\" style=\"stroke:black;fill:none;stroke-width:2.0;stroke-linecap:round;stroke-linejoin:round;\" /></svg>"
      ],
      "text/plain": [
       "<schemdraw.schemdraw.Drawing at 0x7834b9bd33a0>"
      ]
     },
     "execution_count": 42,
     "metadata": {},
     "output_type": "execute_result"
    }
   ],
   "source": [
    "d = schemdraw.Drawing()\n",
    "d.add(r:=elm.Resistor())\n",
    "copy.deepcopy(d)"
   ]
  },
  {
   "cell_type": "code",
   "execution_count": 43,
   "id": "b6126b83",
   "metadata": {},
   "outputs": [
    {
     "data": {
      "image/svg+xml": [
       "<svg xmlns=\"http://www.w3.org/2000/svg\" xml:lang=\"en\" height=\"20.524pt\" width=\"103.14399999999998pt\" viewBox=\"-2.972 -10.262 103.14399999999998 20.524\" style=\"background-color:white;\"><path d=\"M 0.0,-0.0 L 32.4,-0.0 L 35.099999999999994,-8.1 L 40.5,8.1 L 45.89999999999999,-8.1 L 51.3,8.1 L 56.699999999999996,-8.1 L 62.099999999999994,8.1 L 64.8,-0.0 L 97.19999999999999,-0.0\" style=\"stroke:black;fill:none;stroke-width:2.0;stroke-linecap:round;stroke-linejoin:round;\" /></svg>"
      ],
      "text/plain": [
       "<schemdraw.schemdraw.Drawing at 0x7834b9ca6d70>"
      ]
     },
     "execution_count": 43,
     "metadata": {},
     "output_type": "execute_result"
    }
   ],
   "source": [
    "pickle.loads(pickle.dumps(d))"
   ]
  },
  {
   "cell_type": "code",
   "execution_count": null,
   "id": "84e912a0-c9f1-45df-ad7f-a0e1b704bf8a",
   "metadata": {},
   "outputs": [],
   "source": []
  }
 ],
 "metadata": {
  "kernelspec": {
   "display_name": "Python 3 (ipykernel)",
   "language": "python",
   "name": "python3"
  },
  "language_info": {
   "codemirror_mode": {
    "name": "ipython",
    "version": 3
   },
   "file_extension": ".py",
   "mimetype": "text/x-python",
   "name": "python",
   "nbconvert_exporter": "python",
   "pygments_lexer": "ipython3",
   "version": "3.10.9"
  }
 },
 "nbformat": 4,
 "nbformat_minor": 5
}
