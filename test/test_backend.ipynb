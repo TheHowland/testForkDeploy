{
 "cells": [
  {
   "cell_type": "code",
   "execution_count": 1,
   "id": "e5ced741",
   "metadata": {},
   "outputs": [],
   "source": [
    "import os\n",
    "\n",
    "import schemdraw\n",
    "from schemdraw import elements as elm\n",
    "from schemdraw import logic\n",
    "from schemdraw import transform\n",
    "from schemdraw.util import Point"
   ]
  },
  {
   "cell_type": "code",
   "execution_count": 2,
   "id": "341e551e",
   "metadata": {},
   "outputs": [
    {
     "data": {
      "text/plain": [
       "Point(1,1)"
      ]
     },
     "execution_count": 2,
     "metadata": {},
     "output_type": "execute_result"
    }
   ],
   "source": [
    "Point((1, 1))"
   ]
  },
  {
   "cell_type": "code",
   "execution_count": 3,
   "id": "fb5dca74",
   "metadata": {},
   "outputs": [
    {
     "data": {
      "text/plain": [
       "Point(3,3)"
      ]
     },
     "execution_count": 3,
     "metadata": {},
     "output_type": "execute_result"
    }
   ],
   "source": [
    "p1 = Point((1, 1))\n",
    "p2 = Point((2, 2))\n",
    "p3 = p1 + p2\n",
    "assert p3 == Point((3, 3))\n",
    "p3"
   ]
  },
  {
   "cell_type": "code",
   "execution_count": 4,
   "id": "fbf88482",
   "metadata": {},
   "outputs": [
    {
     "data": {
      "text/plain": [
       "Point(1,1)"
      ]
     },
     "execution_count": 4,
     "metadata": {},
     "output_type": "execute_result"
    }
   ],
   "source": [
    "p4 = p2-p1\n",
    "assert p4 == Point((1, 1))\n",
    "assert p2-1 == Point((1, 1))\n",
    "assert 1 - p2 == Point((-1, -1))\n",
    "p4"
   ]
  },
  {
   "cell_type": "code",
   "execution_count": 5,
   "id": "f8a831c7",
   "metadata": {},
   "outputs": [
    {
     "data": {
      "text/plain": [
       "Transform: xy=Point(0,0); theta=0; scale=1; lshift=Point(0,0)"
      ]
     },
     "execution_count": 5,
     "metadata": {},
     "output_type": "execute_result"
    }
   ],
   "source": [
    "t = transform.Transform(0, (0,0))\n",
    "t"
   ]
  },
  {
   "cell_type": "code",
   "execution_count": 6,
   "id": "db939804",
   "metadata": {},
   "outputs": [],
   "source": [
    "assert t.transform((1, 1)) == Point((1, 1))"
   ]
  },
  {
   "cell_type": "code",
   "execution_count": 7,
   "id": "b4d8f6aa",
   "metadata": {},
   "outputs": [],
   "source": [
    "t = transform.Transform(0, (1, 1))\n",
    "assert t.transform((1, 1)) == Point((2, 2))"
   ]
  },
  {
   "cell_type": "code",
   "execution_count": null,
   "id": "01752781",
   "metadata": {},
   "outputs": [],
   "source": []
  },
  {
   "cell_type": "code",
   "execution_count": 8,
   "id": "269ecaaa",
   "metadata": {},
   "outputs": [
    {
     "data": {
      "image/svg+xml": [
       "<?xml version=\"1.0\" encoding=\"utf-8\" standalone=\"no\"?>\n",
       "<!DOCTYPE svg PUBLIC \"-//W3C//DTD SVG 1.1//EN\"\n",
       "  \"http://www.w3.org/Graphics/SVG/1.1/DTD/svg11.dtd\">\n",
       "<svg xmlns:xlink=\"http://www.w3.org/1999/xlink\" width=\"295.92pt\" height=\"35.82pt\" viewBox=\"0 0 295.92 35.82\" xmlns=\"http://www.w3.org/2000/svg\" version=\"1.1\">\n",
       " <metadata>\n",
       "  <rdf:RDF xmlns:dc=\"http://purl.org/dc/elements/1.1/\" xmlns:cc=\"http://creativecommons.org/ns#\" xmlns:rdf=\"http://www.w3.org/1999/02/22-rdf-syntax-ns#\">\n",
       "   <cc:Work>\n",
       "    <dc:type rdf:resource=\"http://purl.org/dc/dcmitype/StillImage\"/>\n",
       "    <dc:date>2023-03-10T20:05:24.359870</dc:date>\n",
       "    <dc:format>image/svg+xml</dc:format>\n",
       "    <dc:creator>\n",
       "     <cc:Agent>\n",
       "      <dc:title>Matplotlib v3.7.0, https://matplotlib.org/</dc:title>\n",
       "     </cc:Agent>\n",
       "    </dc:creator>\n",
       "   </cc:Work>\n",
       "  </rdf:RDF>\n",
       " </metadata>\n",
       " <defs>\n",
       "  <style type=\"text/css\">*{stroke-linejoin: round; stroke-linecap: butt}</style>\n",
       " </defs>\n",
       " <g id=\"figure_1\">\n",
       "  <g id=\"patch_1\">\n",
       "   <path d=\"M 0 35.82 \n",
       "L 295.92 35.82 \n",
       "L 295.92 -0 \n",
       "L 0 -0 \n",
       "z\n",
       "\" style=\"fill: #ffffff\"/>\n",
       "  </g>\n",
       "  <g id=\"axes_1\">\n",
       "   <g id=\"patch_2\">\n",
       "    <path d=\"M 234.405 10.26 \n",
       "L 245.115 17.91 \n",
       "L 234.405 25.56 \n",
       "L 234.405 10.26 \n",
       "z\n",
       "\" clip-path=\"url(#p067a49146b)\" style=\"fill: none; stroke: #000000; stroke-width: 2; stroke-linecap: round\"/>\n",
       "   </g>\n",
       "   <g id=\"line2d_1\">\n",
       "    <path d=\"M 10.26 17.91 \n",
       "L 40.86 17.91 \n",
       "L 43.41 10.26 \n",
       "L 48.51 25.56 \n",
       "L 53.61 10.26 \n",
       "L 58.71 25.56 \n",
       "L 63.81 10.26 \n",
       "L 68.91 25.56 \n",
       "L 71.46 17.91 \n",
       "L 102.06 17.91 \n",
       "\" clip-path=\"url(#p067a49146b)\" style=\"fill: none; stroke: #000000; stroke-width: 2; stroke-linecap: round\"/>\n",
       "   </g>\n",
       "   <g id=\"line2d_2\">\n",
       "    <path d=\"M 102.06 17.91 \n",
       "L 145.206 17.91 \n",
       "M 145.206 10.26 \n",
       "L 145.206 25.56 \n",
       "M 150.714 10.26 \n",
       "L 150.714 25.56 \n",
       "M 150.714 17.91 \n",
       "L 193.86 17.91 \n",
       "\" clip-path=\"url(#p067a49146b)\" style=\"fill: none; stroke: #000000; stroke-width: 2; stroke-linecap: round\"/>\n",
       "   </g>\n",
       "   <g id=\"line2d_3\">\n",
       "    <path d=\"M 193.86 17.91 \n",
       "L 234.405 17.91 \n",
       "M 245.115 10.26 \n",
       "L 245.115 25.56 \n",
       "M 245.115 17.91 \n",
       "L 285.66 17.91 \n",
       "\" clip-path=\"url(#p067a49146b)\" style=\"fill: none; stroke: #000000; stroke-width: 2; stroke-linecap: round\"/>\n",
       "   </g>\n",
       "  </g>\n",
       " </g>\n",
       " <defs>\n",
       "  <clipPath id=\"p067a49146b\">\n",
       "   <rect x=\"7.2\" y=\"7.2\" width=\"281.52\" height=\"21.42\"/>\n",
       "  </clipPath>\n",
       " </defs>\n",
       "</svg>\n"
      ],
      "text/plain": [
       "<schemdraw.schemdraw.Drawing at 0x793fb761b730>"
      ]
     },
     "execution_count": 8,
     "metadata": {},
     "output_type": "execute_result"
    }
   ],
   "source": [
    "# add_elements function\n",
    "d = schemdraw.Drawing()\n",
    "d.add_elements(\n",
    "    elm.Resistor(),\n",
    "    elm.Capacitor(),\n",
    "    elm.Diode())\n",
    "d"
   ]
  },
  {
   "cell_type": "code",
   "execution_count": 9,
   "id": "e3d4a871-cdd4-42da-8d84-18b2caa8f52f",
   "metadata": {},
   "outputs": [
    {
     "data": {
      "image/png": "[encoded data removed]",
      "image/svg+xml": [
       "<?xml version=\"1.0\" encoding=\"utf-8\" standalone=\"no\"?>\n",
       "<!DOCTYPE svg PUBLIC \"-//W3C//DTD SVG 1.1//EN\"\n",
       "  \"http://www.w3.org/Graphics/SVG/1.1/DTD/svg11.dtd\">\n",
       "<svg xmlns:xlink=\"http://www.w3.org/1999/xlink\" width=\"295.92pt\" height=\"35.82pt\" viewBox=\"0 0 295.92 35.82\" xmlns=\"http://www.w3.org/2000/svg\" version=\"1.1\">\n",
       " <metadata>\n",
       "  <rdf:RDF xmlns:dc=\"http://purl.org/dc/elements/1.1/\" xmlns:cc=\"http://creativecommons.org/ns#\" xmlns:rdf=\"http://www.w3.org/1999/02/22-rdf-syntax-ns#\">\n",
       "   <cc:Work>\n",
       "    <dc:type rdf:resource=\"http://purl.org/dc/dcmitype/StillImage\"/>\n",
       "    <dc:date>2023-03-10T20:05:24.663826</dc:date>\n",
       "    <dc:format>image/svg+xml</dc:format>\n",
       "    <dc:creator>\n",
       "     <cc:Agent>\n",
       "      <dc:title>Matplotlib v3.7.0, https://matplotlib.org/</dc:title>\n",
       "     </cc:Agent>\n",
       "    </dc:creator>\n",
       "   </cc:Work>\n",
       "  </rdf:RDF>\n",
       " </metadata>\n",
       " <defs>\n",
       "  <style type=\"text/css\">*{stroke-linejoin: round; stroke-linecap: butt}</style>\n",
       " </defs>\n",
       " <g id=\"figure_1\">\n",
       "  <g id=\"patch_1\">\n",
       "   <path d=\"M 0 35.82 \n",
       "L 295.92 35.82 \n",
       "L 295.92 -0 \n",
       "L 0 -0 \n",
       "z\n",
       "\" style=\"fill: #ffffff\"/>\n",
       "  </g>\n",
       "  <g id=\"axes_1\">\n",
       "   <g id=\"patch_2\">\n",
       "    <path d=\"M 234.405 10.26 \n",
       "L 245.115 17.91 \n",
       "L 234.405 25.56 \n",
       "L 234.405 10.26 \n",
       "z\n",
       "\" clip-path=\"url(#p5dd4d7dc97)\" style=\"fill: none; stroke: #000000; stroke-width: 2; stroke-linecap: round\"/>\n",
       "   </g>\n",
       "   <g id=\"patch_3\">\n",
       "    <path d=\"M 234.405 10.26 \n",
       "L 245.115 17.91 \n",
       "L 234.405 25.56 \n",
       "L 234.405 10.26 \n",
       "z\n",
       "\" clip-path=\"url(#p5dd4d7dc97)\" style=\"fill: none; stroke: #000000; stroke-width: 2; stroke-linecap: round\"/>\n",
       "   </g>\n",
       "   <g id=\"line2d_1\">\n",
       "    <path d=\"M 10.26 17.91 \n",
       "L 40.86 17.91 \n",
       "L 43.41 10.26 \n",
       "L 48.51 25.56 \n",
       "L 53.61 10.26 \n",
       "L 58.71 25.56 \n",
       "L 63.81 10.26 \n",
       "L 68.91 25.56 \n",
       "L 71.46 17.91 \n",
       "L 102.06 17.91 \n",
       "\" clip-path=\"url(#p5dd4d7dc97)\" style=\"fill: none; stroke: #000000; stroke-width: 2; stroke-linecap: round\"/>\n",
       "   </g>\n",
       "   <g id=\"line2d_2\">\n",
       "    <path d=\"M 102.06 17.91 \n",
       "L 145.206 17.91 \n",
       "M 145.206 10.26 \n",
       "L 145.206 25.56 \n",
       "M 150.714 10.26 \n",
       "L 150.714 25.56 \n",
       "M 150.714 17.91 \n",
       "L 193.86 17.91 \n",
       "\" clip-path=\"url(#p5dd4d7dc97)\" style=\"fill: none; stroke: #000000; stroke-width: 2; stroke-linecap: round\"/>\n",
       "   </g>\n",
       "   <g id=\"line2d_3\">\n",
       "    <path d=\"M 193.86 17.91 \n",
       "L 234.405 17.91 \n",
       "M 245.115 10.26 \n",
       "L 245.115 25.56 \n",
       "M 245.115 17.91 \n",
       "L 285.66 17.91 \n",
       "\" clip-path=\"url(#p5dd4d7dc97)\" style=\"fill: none; stroke: #000000; stroke-width: 2; stroke-linecap: round\"/>\n",
       "   </g>\n",
       "   <g id=\"line2d_4\">\n",
       "    <path d=\"M 10.26 17.91 \n",
       "L 40.86 17.91 \n",
       "L 43.41 10.26 \n",
       "L 48.51 25.56 \n",
       "L 53.61 10.26 \n",
       "L 58.71 25.56 \n",
       "L 63.81 10.26 \n",
       "L 68.91 25.56 \n",
       "L 71.46 17.91 \n",
       "L 102.06 17.91 \n",
       "\" clip-path=\"url(#p5dd4d7dc97)\" style=\"fill: none; stroke: #000000; stroke-width: 2; stroke-linecap: round\"/>\n",
       "   </g>\n",
       "   <g id=\"line2d_5\">\n",
       "    <path d=\"M 102.06 17.91 \n",
       "L 145.206 17.91 \n",
       "M 145.206 10.26 \n",
       "L 145.206 25.56 \n",
       "M 150.714 10.26 \n",
       "L 150.714 25.56 \n",
       "M 150.714 17.91 \n",
       "L 193.86 17.91 \n",
       "\" clip-path=\"url(#p5dd4d7dc97)\" style=\"fill: none; stroke: #000000; stroke-width: 2; stroke-linecap: round\"/>\n",
       "   </g>\n",
       "   <g id=\"line2d_6\">\n",
       "    <path d=\"M 193.86 17.91 \n",
       "L 234.405 17.91 \n",
       "M 245.115 10.26 \n",
       "L 245.115 25.56 \n",
       "M 245.115 17.91 \n",
       "L 285.66 17.91 \n",
       "\" clip-path=\"url(#p5dd4d7dc97)\" style=\"fill: none; stroke: #000000; stroke-width: 2; stroke-linecap: round\"/>\n",
       "   </g>\n",
       "  </g>\n",
       " </g>\n",
       " <defs>\n",
       "  <clipPath id=\"p5dd4d7dc97\">\n",
       "   <rect x=\"7.2\" y=\"7.2\" width=\"281.52\" height=\"21.42\"/>\n",
       "  </clipPath>\n",
       " </defs>\n",
       "</svg>\n"
      ],
      "text/plain": [
       "<schemdraw.backends.mpl.Figure object at 0x793fb750b370>"
      ]
     },
     "metadata": {},
     "output_type": "display_data"
    }
   ],
   "source": [
    "# Context Manager - file save, should still draw in Jupyter\n",
    "try:\n",
    "    os.remove('savetest.png')\n",
    "except FileNotFoundError:\n",
    "    pass\n",
    "\n",
    "with schemdraw.Drawing(file='savetest.png') as d:\n",
    "    d += elm.Resistor()\n",
    "    d += elm.Capacitor()\n",
    "    d += elm.Diode()\n",
    "    \n",
    "assert os.path.exists('savetest.png')"
   ]
  },
  {
   "cell_type": "code",
   "execution_count": null,
   "id": "244dfadd-fed6-4e88-83f4-6f4590e84345",
   "metadata": {},
   "outputs": [],
   "source": []
  },
  {
   "cell_type": "code",
   "execution_count": 10,
   "id": "11c0166f",
   "metadata": {},
   "outputs": [
    {
     "data": {
      "text/plain": [
       "b'<?xml version=\"1.0\" encoding=\"utf-8\" standalone=\"no\"?>\\n<!DOCTYPE svg PUBLIC \"-//W3C//DTD SVG 1.1//EN\"\\n  \"http://www.w3.org/Graphics/SVG/1.1/DTD/svg11.dtd\">\\n<svg xmlns:xlink=\"http://www.w3.org/1999/xlink\" width=\"295.92pt\" height=\"35.82pt\" viewBox=\"0 0 295.92 35.82\" xmlns=\"http://www.w3.org/2000/svg\" version=\"1.1\">\\n <metadata>\\n  <rdf:RDF xmlns:dc=\"http://purl.org/dc/elements/1.1/\" xmlns:cc=\"http://creativecommons.org/ns#\" xmlns:rdf=\"http://www.w3.org/1999/02/22-rdf-syntax-ns#\">\\n   <cc:Work>\\n    <dc:type rdf:resource=\"http://purl.org/dc/dcmitype/StillImage\"/>\\n    <dc:date>2023-03-10T20:05:24.873091</dc:date>\\n    <dc:format>image/svg+xml</dc:format>\\n    <dc:creator>\\n     <cc:Agent>\\n      <dc:title>Matplotlib v3.7.0, https://matplotlib.org/</dc:title>\\n     </cc:Agent>\\n    </dc:creator>\\n   </cc:Work>\\n  </rdf:RDF>\\n </metadata>\\n <defs>\\n  <style type=\"text/css\">*{stroke-linejoin: round; stroke-linecap: butt}</style>\\n </defs>\\n <g id=\"figure_1\">\\n  <g id=\"patch_1\">\\n   <path d=\"M 0 35.82 \\nL 295.92 35.82 \\nL 295.92 -0 \\nL 0 -0 \\nz\\n\" style=\"fill: #ffffff\"/>\\n  </g>\\n  <g id=\"axes_1\">\\n   <g id=\"patch_2\">\\n    <path d=\"M 234.405 10.26 \\nL 245.115 17.91 \\nL 234.405 25.56 \\nL 234.405 10.26 \\nz\\n\" clip-path=\"url(#p8df50a19d6)\" style=\"fill: none; stroke: #000000; stroke-width: 2; stroke-linecap: round\"/>\\n   </g>\\n   <g id=\"patch_3\">\\n    <path d=\"M 234.405 10.26 \\nL 245.115 17.91 \\nL 234.405 25.56 \\nL 234.405 10.26 \\nz\\n\" clip-path=\"url(#p8df50a19d6)\" style=\"fill: none; stroke: #000000; stroke-width: 2; stroke-linecap: round\"/>\\n   </g>\\n   <g id=\"patch_4\">\\n    <path d=\"M 234.405 10.26 \\nL 245.115 17.91 \\nL 234.405 25.56 \\nL 234.405 10.26 \\nz\\n\" clip-path=\"url(#p8df50a19d6)\" style=\"fill: none; stroke: #000000; stroke-width: 2; stroke-linecap: round\"/>\\n   </g>\\n   <g id=\"line2d_1\">\\n    <path d=\"M 10.26 17.91 \\nL 40.86 17.91 \\nL 43.41 10.26 \\nL 48.51 25.56 \\nL 53.61 10.26 \\nL 58.71 25.56 \\nL 63.81 10.26 \\nL 68.91 25.56 \\nL 71.46 17.91 \\nL 102.06 17.91 \\n\" clip-path=\"url(#p8df50a19d6)\" style=\"fill: none; stroke: #000000; stroke-width: 2; stroke-linecap: round\"/>\\n   </g>\\n   <g id=\"line2d_2\">\\n    <path d=\"M 102.06 17.91 \\nL 145.206 17.91 \\nM 145.206 10.26 \\nL 145.206 25.56 \\nM 150.714 10.26 \\nL 150.714 25.56 \\nM 150.714 17.91 \\nL 193.86 17.91 \\n\" clip-path=\"url(#p8df50a19d6)\" style=\"fill: none; stroke: #000000; stroke-width: 2; stroke-linecap: round\"/>\\n   </g>\\n   <g id=\"line2d_3\">\\n    <path d=\"M 193.86 17.91 \\nL 234.405 17.91 \\nM 245.115 10.26 \\nL 245.115 25.56 \\nM 245.115 17.91 \\nL 285.66 17.91 \\n\" clip-path=\"url(#p8df50a19d6)\" style=\"fill: none; stroke: #000000; stroke-width: 2; stroke-linecap: round\"/>\\n   </g>\\n   <g id=\"line2d_4\">\\n    <path d=\"M 10.26 17.91 \\nL 40.86 17.91 \\nL 43.41 10.26 \\nL 48.51 25.56 \\nL 53.61 10.26 \\nL 58.71 25.56 \\nL 63.81 10.26 \\nL 68.91 25.56 \\nL 71.46 17.91 \\nL 102.06 17.91 \\n\" clip-path=\"url(#p8df50a19d6)\" style=\"fill: none; stroke: #000000; stroke-width: 2; stroke-linecap: round\"/>\\n   </g>\\n   <g id=\"line2d_5\">\\n    <path d=\"M 102.06 17.91 \\nL 145.206 17.91 \\nM 145.206 10.26 \\nL 145.206 25.56 \\nM 150.714 10.26 \\nL 150.714 25.56 \\nM 150.714 17.91 \\nL 193.86 17.91 \\n\" clip-path=\"url(#p8df50a19d6)\" style=\"fill: none; stroke: #000000; stroke-width: 2; stroke-linecap: round\"/>\\n   </g>\\n   <g id=\"line2d_6\">\\n    <path d=\"M 193.86 17.91 \\nL 234.405 17.91 \\nM 245.115 10.26 \\nL 245.115 25.56 \\nM 245.115 17.91 \\nL 285.66 17.91 \\n\" clip-path=\"url(#p8df50a19d6)\" style=\"fill: none; stroke: #000000; stroke-width: 2; stroke-linecap: round\"/>\\n   </g>\\n   <g id=\"line2d_7\">\\n    <path d=\"M 10.26 17.91 \\nL 40.86 17.91 \\nL 43.41 10.26 \\nL 48.51 25.56 \\nL 53.61 10.26 \\nL 58.71 25.56 \\nL 63.81 10.26 \\nL 68.91 25.56 \\nL 71.46 17.91 \\nL 102.06 17.91 \\n\" clip-path=\"url(#p8df50a19d6)\" style=\"fill: none; stroke: #000000; stroke-width: 2; stroke-linecap: round\"/>\\n   </g>\\n   <g id=\"line2d_8\">\\n    <path d=\"M 102.06 17.91 \\nL 145.206 17.91 \\nM 145.206 10.26 \\nL 145.206 25.56 \\nM 150.714 10.26 \\nL 150.714 25.56 \\nM 150.714 17.91 \\nL 193.86 17.91 \\n\" clip-path=\"url(#p8df50a19d6)\" style=\"fill: none; stroke: #000000; stroke-width: 2; stroke-linecap: round\"/>\\n   </g>\\n   <g id=\"line2d_9\">\\n    <path d=\"M 193.86 17.91 \\nL 234.405 17.91 \\nM 245.115 10.26 \\nL 245.115 25.56 \\nM 245.115 17.91 \\nL 285.66 17.91 \\n\" clip-path=\"url(#p8df50a19d6)\" style=\"fill: none; stroke: #000000; stroke-width: 2; stroke-linecap: round\"/>\\n   </g>\\n  </g>\\n </g>\\n <defs>\\n  <clipPath id=\"p8df50a19d6\">\\n   <rect x=\"7.2\" y=\"7.2\" width=\"281.52\" height=\"21.42\"/>\\n  </clipPath>\\n </defs>\\n</svg>\\n'"
      ]
     },
     "execution_count": 10,
     "metadata": {},
     "output_type": "execute_result"
    }
   ],
   "source": [
    "# Matplotlib backend\n",
    "d.draw(canvas='matplotlib')\n",
    "d.get_imagedata('svg')"
   ]
  },
  {
   "cell_type": "code",
   "execution_count": 11,
   "id": "cfca9e73",
   "metadata": {},
   "outputs": [
    {
     "data": {
      "text/plain": [
       "b'<?xml version=\"1.0\" encoding=\"utf-8\" standalone=\"no\"?>\\n<!DOCTYPE svg PUBLIC \"-//W3C//DTD SVG 1.1//EN\"\\n  \"http://www.w3.org/Graphics/SVG/1.1/DTD/svg11.dtd\">\\n<svg xmlns:xlink=\"http://www.w3.org/1999/xlink\" width=\"295.92pt\" height=\"35.82pt\" viewBox=\"0 0 295.92 35.82\" xmlns=\"http://www.w3.org/2000/svg\" version=\"1.1\">\\n <metadata>\\n  <rdf:RDF xmlns:dc=\"http://purl.org/dc/elements/1.1/\" xmlns:cc=\"http://creativecommons.org/ns#\" xmlns:rdf=\"http://www.w3.org/1999/02/22-rdf-syntax-ns#\">\\n   <cc:Work>\\n    <dc:type rdf:resource=\"http://purl.org/dc/dcmitype/StillImage\"/>\\n    <dc:date>2023-03-10T20:05:25.021884</dc:date>\\n    <dc:format>image/svg+xml</dc:format>\\n    <dc:creator>\\n     <cc:Agent>\\n      <dc:title>Matplotlib v3.7.0, https://matplotlib.org/</dc:title>\\n     </cc:Agent>\\n    </dc:creator>\\n   </cc:Work>\\n  </rdf:RDF>\\n </metadata>\\n <defs>\\n  <style type=\"text/css\">*{stroke-linejoin: round; stroke-linecap: butt}</style>\\n </defs>\\n <g id=\"figure_1\">\\n  <g id=\"patch_1\">\\n   <path d=\"M 0 35.82 \\nL 295.92 35.82 \\nL 295.92 -0 \\nL 0 -0 \\nz\\n\" style=\"fill: #ffffff\"/>\\n  </g>\\n  <g id=\"axes_1\">\\n   <g id=\"patch_2\">\\n    <path d=\"M 234.405 10.26 \\nL 245.115 17.91 \\nL 234.405 25.56 \\nL 234.405 10.26 \\nz\\n\" clip-path=\"url(#p3ff3d579e0)\" style=\"fill: none; stroke: #000000; stroke-width: 2; stroke-linecap: round\"/>\\n   </g>\\n   <g id=\"patch_3\">\\n    <path d=\"M 234.405 10.26 \\nL 245.115 17.91 \\nL 234.405 25.56 \\nL 234.405 10.26 \\nz\\n\" clip-path=\"url(#p3ff3d579e0)\" style=\"fill: none; stroke: #000000; stroke-width: 2; stroke-linecap: round\"/>\\n   </g>\\n   <g id=\"patch_4\">\\n    <path d=\"M 234.405 10.26 \\nL 245.115 17.91 \\nL 234.405 25.56 \\nL 234.405 10.26 \\nz\\n\" clip-path=\"url(#p3ff3d579e0)\" style=\"fill: none; stroke: #000000; stroke-width: 2; stroke-linecap: round\"/>\\n   </g>\\n   <g id=\"patch_5\">\\n    <path d=\"M 234.405 10.26 \\nL 245.115 17.91 \\nL 234.405 25.56 \\nL 234.405 10.26 \\nz\\n\" clip-path=\"url(#p3ff3d579e0)\" style=\"fill: none; stroke: #000000; stroke-width: 2; stroke-linecap: round\"/>\\n   </g>\\n   <g id=\"line2d_1\">\\n    <path d=\"M 10.26 17.91 \\nL 40.86 17.91 \\nL 43.41 10.26 \\nL 48.51 25.56 \\nL 53.61 10.26 \\nL 58.71 25.56 \\nL 63.81 10.26 \\nL 68.91 25.56 \\nL 71.46 17.91 \\nL 102.06 17.91 \\n\" clip-path=\"url(#p3ff3d579e0)\" style=\"fill: none; stroke: #000000; stroke-width: 2; stroke-linecap: round\"/>\\n   </g>\\n   <g id=\"line2d_2\">\\n    <path d=\"M 102.06 17.91 \\nL 145.206 17.91 \\nM 145.206 10.26 \\nL 145.206 25.56 \\nM 150.714 10.26 \\nL 150.714 25.56 \\nM 150.714 17.91 \\nL 193.86 17.91 \\n\" clip-path=\"url(#p3ff3d579e0)\" style=\"fill: none; stroke: #000000; stroke-width: 2; stroke-linecap: round\"/>\\n   </g>\\n   <g id=\"line2d_3\">\\n    <path d=\"M 193.86 17.91 \\nL 234.405 17.91 \\nM 245.115 10.26 \\nL 245.115 25.56 \\nM 245.115 17.91 \\nL 285.66 17.91 \\n\" clip-path=\"url(#p3ff3d579e0)\" style=\"fill: none; stroke: #000000; stroke-width: 2; stroke-linecap: round\"/>\\n   </g>\\n   <g id=\"line2d_4\">\\n    <path d=\"M 10.26 17.91 \\nL 40.86 17.91 \\nL 43.41 10.26 \\nL 48.51 25.56 \\nL 53.61 10.26 \\nL 58.71 25.56 \\nL 63.81 10.26 \\nL 68.91 25.56 \\nL 71.46 17.91 \\nL 102.06 17.91 \\n\" clip-path=\"url(#p3ff3d579e0)\" style=\"fill: none; stroke: #000000; stroke-width: 2; stroke-linecap: round\"/>\\n   </g>\\n   <g id=\"line2d_5\">\\n    <path d=\"M 102.06 17.91 \\nL 145.206 17.91 \\nM 145.206 10.26 \\nL 145.206 25.56 \\nM 150.714 10.26 \\nL 150.714 25.56 \\nM 150.714 17.91 \\nL 193.86 17.91 \\n\" clip-path=\"url(#p3ff3d579e0)\" style=\"fill: none; stroke: #000000; stroke-width: 2; stroke-linecap: round\"/>\\n   </g>\\n   <g id=\"line2d_6\">\\n    <path d=\"M 193.86 17.91 \\nL 234.405 17.91 \\nM 245.115 10.26 \\nL 245.115 25.56 \\nM 245.115 17.91 \\nL 285.66 17.91 \\n\" clip-path=\"url(#p3ff3d579e0)\" style=\"fill: none; stroke: #000000; stroke-width: 2; stroke-linecap: round\"/>\\n   </g>\\n   <g id=\"line2d_7\">\\n    <path d=\"M 10.26 17.91 \\nL 40.86 17.91 \\nL 43.41 10.26 \\nL 48.51 25.56 \\nL 53.61 10.26 \\nL 58.71 25.56 \\nL 63.81 10.26 \\nL 68.91 25.56 \\nL 71.46 17.91 \\nL 102.06 17.91 \\n\" clip-path=\"url(#p3ff3d579e0)\" style=\"fill: none; stroke: #000000; stroke-width: 2; stroke-linecap: round\"/>\\n   </g>\\n   <g id=\"line2d_8\">\\n    <path d=\"M 102.06 17.91 \\nL 145.206 17.91 \\nM 145.206 10.26 \\nL 145.206 25.56 \\nM 150.714 10.26 \\nL 150.714 25.56 \\nM 150.714 17.91 \\nL 193.86 17.91 \\n\" clip-path=\"url(#p3ff3d579e0)\" style=\"fill: none; stroke: #000000; stroke-width: 2; stroke-linecap: round\"/>\\n   </g>\\n   <g id=\"line2d_9\">\\n    <path d=\"M 193.86 17.91 \\nL 234.405 17.91 \\nM 245.115 10.26 \\nL 245.115 25.56 \\nM 245.115 17.91 \\nL 285.66 17.91 \\n\" clip-path=\"url(#p3ff3d579e0)\" style=\"fill: none; stroke: #000000; stroke-width: 2; stroke-linecap: round\"/>\\n   </g>\\n   <g id=\"line2d_10\">\\n    <path d=\"M 10.26 17.91 \\nL 40.86 17.91 \\nL 43.41 10.26 \\nL 48.51 25.56 \\nL 53.61 10.26 \\nL 58.71 25.56 \\nL 63.81 10.26 \\nL 68.91 25.56 \\nL 71.46 17.91 \\nL 102.06 17.91 \\n\" clip-path=\"url(#p3ff3d579e0)\" style=\"fill: none; stroke: #000000; stroke-width: 2; stroke-linecap: round\"/>\\n   </g>\\n   <g id=\"line2d_11\">\\n    <path d=\"M 102.06 17.91 \\nL 145.206 17.91 \\nM 145.206 10.26 \\nL 145.206 25.56 \\nM 150.714 10.26 \\nL 150.714 25.56 \\nM 150.714 17.91 \\nL 193.86 17.91 \\n\" clip-path=\"url(#p3ff3d579e0)\" style=\"fill: none; stroke: #000000; stroke-width: 2; stroke-linecap: round\"/>\\n   </g>\\n   <g id=\"line2d_12\">\\n    <path d=\"M 193.86 17.91 \\nL 234.405 17.91 \\nM 245.115 10.26 \\nL 245.115 25.56 \\nM 245.115 17.91 \\nL 285.66 17.91 \\n\" clip-path=\"url(#p3ff3d579e0)\" style=\"fill: none; stroke: #000000; stroke-width: 2; stroke-linecap: round\"/>\\n   </g>\\n  </g>\\n </g>\\n <defs>\\n  <clipPath id=\"p3ff3d579e0\">\\n   <rect x=\"7.2\" y=\"7.2\" width=\"281.52\" height=\"21.42\"/>\\n  </clipPath>\\n </defs>\\n</svg>\\n'"
      ]
     },
     "execution_count": 11,
     "metadata": {},
     "output_type": "execute_result"
    }
   ],
   "source": [
    "# SVG backend\n",
    "d.draw(canvas='svg')\n",
    "d.get_imagedata('svg')"
   ]
  },
  {
   "cell_type": "code",
   "execution_count": 12,
   "id": "4cdf72b5",
   "metadata": {},
   "outputs": [],
   "source": [
    "schemdraw.svgconfig.text = 'path'  # use ziamath"
   ]
  },
  {
   "cell_type": "code",
   "execution_count": 13,
   "id": "96c01c22",
   "metadata": {},
   "outputs": [
    {
     "data": {
      "image/png": "[encoded data removed]",
      "image/svg+xml": [
       "<?xml version=\"1.0\" encoding=\"utf-8\" standalone=\"no\"?>\n",
       "<!DOCTYPE svg PUBLIC \"-//W3C//DTD SVG 1.1//EN\"\n",
       "  \"http://www.w3.org/Graphics/SVG/1.1/DTD/svg11.dtd\">\n",
       "<svg xmlns:xlink=\"http://www.w3.org/1999/xlink\" width=\"112.32pt\" height=\"63.292pt\" viewBox=\"0 0 112.32 63.292\" xmlns=\"http://www.w3.org/2000/svg\" version=\"1.1\">\n",
       " <metadata>\n",
       "  <rdf:RDF xmlns:dc=\"http://purl.org/dc/elements/1.1/\" xmlns:cc=\"http://creativecommons.org/ns#\" xmlns:rdf=\"http://www.w3.org/1999/02/22-rdf-syntax-ns#\">\n",
       "   <cc:Work>\n",
       "    <dc:type rdf:resource=\"http://purl.org/dc/dcmitype/StillImage\"/>\n",
       "    <dc:date>2023-03-10T20:05:25.287939</dc:date>\n",
       "    <dc:format>image/svg+xml</dc:format>\n",
       "    <dc:creator>\n",
       "     <cc:Agent>\n",
       "      <dc:title>Matplotlib v3.7.0, https://matplotlib.org/</dc:title>\n",
       "     </cc:Agent>\n",
       "    </dc:creator>\n",
       "   </cc:Work>\n",
       "  </rdf:RDF>\n",
       " </metadata>\n",
       " <defs>\n",
       "  <style type=\"text/css\">*{stroke-linejoin: round; stroke-linecap: butt}</style>\n",
       " </defs>\n",
       " <g id=\"figure_1\">\n",
       "  <g id=\"patch_1\">\n",
       "   <path d=\"M 0 63.292 \n",
       "L 112.32 63.292 \n",
       "L 112.32 0 \n",
       "L 0 0 \n",
       "z\n",
       "\" style=\"fill: #ffffff\"/>\n",
       "  </g>\n",
       "  <g id=\"axes_1\">\n",
       "   <g id=\"line2d_1\">\n",
       "    <path d=\"M 10.26 45.382 \n",
       "L 40.86 45.382 \n",
       "L 43.41 37.732 \n",
       "L 48.51 53.032 \n",
       "L 53.61 37.732 \n",
       "L 58.71 53.032 \n",
       "L 63.81 37.732 \n",
       "L 68.91 53.032 \n",
       "L 71.46 45.382 \n",
       "L 102.06 45.382 \n",
       "\" clip-path=\"url(#pc7f3302a22)\" style=\"fill: none; stroke: #000000; stroke-width: 2; stroke-linecap: round\"/>\n",
       "   </g>\n",
       "   <g id=\"text_1\">\n",
       "    <g clip-path=\"url(#pc7f3302a22)\">\n",
       "     <!-- Hello -->\n",
       "     <g transform=\"translate(31.132969 30.824578) scale(0.185 -0.185)\">\n",
       "      <defs>\n",
       "       <path id=\"DejaVuSerif-48\" d=\"M 353 0 \n",
       "L 353 331 \n",
       "L 947 331 \n",
       "L 947 4331 \n",
       "L 353 4331 \n",
       "L 353 4666 \n",
       "L 2175 4666 \n",
       "L 2175 4331 \n",
       "L 1581 4331 \n",
       "L 1581 2719 \n",
       "L 4000 2719 \n",
       "L 4000 4331 \n",
       "L 3406 4331 \n",
       "L 3406 4666 \n",
       "L 5228 4666 \n",
       "L 5228 4331 \n",
       "L 4634 4331 \n",
       "L 4634 331 \n",
       "L 5228 331 \n",
       "L 5228 0 \n",
       "L 3406 0 \n",
       "L 3406 331 \n",
       "L 4000 331 \n",
       "L 4000 2338 \n",
       "L 1581 2338 \n",
       "L 1581 331 \n",
       "L 2175 331 \n",
       "L 2175 0 \n",
       "L 353 0 \n",
       "z\n",
       "\" transform=\"scale(0.015625)\"/>\n",
       "       <path id=\"DejaVuSerif-65\" d=\"M 3469 1600 \n",
       "L 991 1600 \n",
       "L 991 1575 \n",
       "Q 991 903 1244 561 \n",
       "Q 1497 219 1991 219 \n",
       "Q 2369 219 2611 417 \n",
       "Q 2853 616 2950 1006 \n",
       "L 3413 1006 \n",
       "Q 3275 459 2904 184 \n",
       "Q 2534 -91 1931 -91 \n",
       "Q 1203 -91 761 389 \n",
       "Q 319 869 319 1663 \n",
       "Q 319 2450 753 2931 \n",
       "Q 1188 3413 1894 3413 \n",
       "Q 2647 3413 3050 2948 \n",
       "Q 3453 2484 3469 1600 \n",
       "z\n",
       "M 2791 1931 \n",
       "Q 2772 2513 2545 2808 \n",
       "Q 2319 3103 1894 3103 \n",
       "Q 1497 3103 1269 2806 \n",
       "Q 1041 2509 991 1931 \n",
       "L 2791 1931 \n",
       "z\n",
       "\" transform=\"scale(0.015625)\"/>\n",
       "       <path id=\"DejaVuSerif-6c\" d=\"M 1313 331 \n",
       "L 1856 331 \n",
       "L 1856 0 \n",
       "L 184 0 \n",
       "L 184 331 \n",
       "L 738 331 \n",
       "L 738 4531 \n",
       "L 184 4531 \n",
       "L 184 4863 \n",
       "L 1313 4863 \n",
       "L 1313 331 \n",
       "z\n",
       "\" transform=\"scale(0.015625)\"/>\n",
       "       <path id=\"DejaVuSerif-6f\" d=\"M 1925 219 \n",
       "Q 2388 219 2623 584 \n",
       "Q 2859 950 2859 1663 \n",
       "Q 2859 2375 2623 2739 \n",
       "Q 2388 3103 1925 3103 \n",
       "Q 1463 3103 1227 2739 \n",
       "Q 991 2375 991 1663 \n",
       "Q 991 950 1228 584 \n",
       "Q 1466 219 1925 219 \n",
       "z\n",
       "M 1925 -91 \n",
       "Q 1200 -91 759 389 \n",
       "Q 319 869 319 1663 \n",
       "Q 319 2456 758 2934 \n",
       "Q 1197 3413 1925 3413 \n",
       "Q 2653 3413 3092 2934 \n",
       "Q 3531 2456 3531 1663 \n",
       "Q 3531 869 3092 389 \n",
       "Q 2653 -91 1925 -91 \n",
       "z\n",
       "\" transform=\"scale(0.015625)\"/>\n",
       "      </defs>\n",
       "      <use xlink:href=\"#DejaVuSerif-48\"/>\n",
       "      <use xlink:href=\"#DejaVuSerif-65\" x=\"87.207031\"/>\n",
       "      <use xlink:href=\"#DejaVuSerif-6c\" x=\"146.386719\"/>\n",
       "      <use xlink:href=\"#DejaVuSerif-6c\" x=\"178.369141\"/>\n",
       "      <use xlink:href=\"#DejaVuSerif-6f\" x=\"210.351562\"/>\n",
       "     </g>\n",
       "    </g>\n",
       "   </g>\n",
       "  </g>\n",
       " </g>\n",
       " <defs>\n",
       "  <clipPath id=\"pc7f3302a22\">\n",
       "   <rect x=\"7.2\" y=\"7.2\" width=\"97.92\" height=\"48.892\"/>\n",
       "  </clipPath>\n",
       " </defs>\n",
       "</svg>\n"
      ],
      "text/plain": [
       "<schemdraw.backends.mpl.Figure object at 0x793fb5372ec0>"
      ]
     },
     "execution_count": 13,
     "metadata": {},
     "output_type": "execute_result"
    }
   ],
   "source": [
    "d = schemdraw.Drawing(font='serif', fontsize=20)\n",
    "d += elm.Resistor().label('Hello')\n",
    "d.draw(canvas='matplotlib')"
   ]
  },
  {
   "cell_type": "code",
   "execution_count": 14,
   "id": "5764c299",
   "metadata": {},
   "outputs": [
    {
     "data": {
      "image/svg+xml": [
       "<svg xmlns=\"http://www.w3.org/2000/svg\" xml:lang=\"en\" height=\"49.288pt\" width=\"101.19999999999999pt\" viewBox=\"-2.0 -39.187999999999995 101.19999999999999 49.288\"><path d=\"M 0.0,-0.0 L 32.4,-0.0 L 35.099999999999994,-8.1 L 40.5,8.1 L 45.89999999999999,-8.1 L 51.3,8.1 L 56.699999999999996,-8.1 L 62.099999999999994,8.1 L 64.8,-0.0 L 97.19999999999999,-0.0\" style=\"stroke:black;fill:none;stroke-width:2;stroke-linecap:round;stroke-linejoin:round;\" /><g><g><g><symbol id=\"STIXTwoMathRegular_10\" width=\"9.072\" height=\"51.216\" viewBox=\"0 -31.524 9.072 51.216\"><path d=\"M 2.868 -6.3 L 2.868 -6.3 L 2.868 -4.284 L 6.804 -4.284 L 6.804 -6.3 Q 6.804 -6.768 6.744 -7.038 Q 6.684 -7.308 6.438 -7.416 Q 6.192 -7.524 5.64 -7.524 L 5.64 -7.884 L 9.072 -7.884 L 9.072 -7.524 Q 8.508 -7.524 8.256 -7.416 Q 8.004 -7.308 7.95 -7.044 Q 7.896 -6.78 7.896 -6.3 L 7.896 -1.572 Q 7.896 -1.056 7.962 -0.792 Q 8.028 -0.528 8.28 -0.444 Q 8.532 -0.36 9.072 -0.36 L 9.072 0 L 5.64 0 L 5.64 -0.36 Q 6.18 -0.36 6.426 -0.444 Q 6.672 -0.528 6.738 -0.792 Q 6.804 -1.056 6.804 -1.572 L 6.804 -3.816 L 2.868 -3.816 L 2.868 -1.572 Q 2.868 -1.044 2.934 -0.786 Q 3 -0.528 3.252 -0.444 Q 3.504 -0.36 4.044 -0.36 L 4.044 0 L 0.6 0 L 0.6 -0.36 Q 1.14 -0.36 1.386 -0.438 Q 1.632 -0.516 1.698 -0.78 Q 1.764 -1.044 1.764 -1.572 L 1.764 -6.3 Q 1.764 -6.768 1.704 -7.038 Q 1.644 -7.308 1.398 -7.416 Q 1.152 -7.524 0.6 -7.524 L 0.6 -7.884 L 4.044 -7.884 L 4.044 -7.524 Q 3.48 -7.524 3.228 -7.416 Q 2.976 -7.308 2.922 -7.038 Q 2.868 -6.768 2.868 -6.3 Z \" /></symbol><use href=\"#STIXTwoMathRegular_10\" transform=\"translate(25.39 -67.08) scale(1.667)\" fill=\"black\" /><symbol id=\"STIXTwoMathRegular_259\" width=\"5.208\" height=\"51.216\" viewBox=\"0 -31.524 5.208 51.216\"><path d=\"M 4.98 -1.716 L 4.98 -1.716 L 5.208 -1.548 Q 4.992 -1.092 4.704 -0.714 Q 4.416 -0.336 4.002 -0.108 Q 3.588 0.12 2.964 0.12 Q 2.244 0.12 1.662 -0.222 Q 1.08 -0.564 0.744 -1.23 Q 0.408 -1.896 0.408 -2.856 Q 0.408 -3.864 0.75 -4.518 Q 1.092 -5.172 1.668 -5.496 Q 2.244 -5.82 2.94 -5.82 Q 3.924 -5.82 4.524 -5.136 Q 5.124 -4.452 5.172 -3.192 L 1.38 -3.192 Q 1.38 -2.364 1.65 -1.83 Q 1.92 -1.296 2.346 -1.038 Q 2.772 -0.78 3.252 -0.78 Q 3.744 -0.78 4.05 -0.912 Q 4.356 -1.044 4.572 -1.254 Q 4.788 -1.464 4.98 -1.716 Z M 1.368 -3.636 L 1.368 -3.636 L 4.044 -3.636 Q 4.032 -4.08 3.888 -4.47 Q 3.744 -4.86 3.468 -5.1 Q 3.192 -5.34 2.76 -5.34 Q 1.512 -5.34 1.368 -3.636 Z \" /></symbol><use href=\"#STIXTwoMathRegular_259\" transform=\"translate(40.93 -67.08) scale(1.667)\" fill=\"black\" /><symbol id=\"STIXTwoMathRegular_267\" width=\"3.12\" height=\"51.216\" viewBox=\"0 -31.524 3.12 51.216\"><path d=\"M 3.12 -0.348 L 3.12 -0.348 L 3.12 0 L 0.36 0 L 0.36 -0.348 Q 0.756 -0.348 0.936 -0.426 Q 1.116 -0.504 1.158 -0.69 Q 1.2 -0.876 1.2 -1.212 L 1.2 -7.236 Q 1.2 -7.608 1.062 -7.68 Q 0.924 -7.752 0.696 -7.752 Q 0.54 -7.752 0.426 -7.74 Q 0.312 -7.728 0.312 -7.728 L 0.312 -8.052 L 1.896 -8.472 L 2.196 -8.472 L 2.196 -1.212 Q 2.196 -0.864 2.25 -0.678 Q 2.304 -0.492 2.496 -0.42 Q 2.688 -0.348 3.12 -0.348 Z \" /></symbol><use href=\"#STIXTwoMathRegular_267\" transform=\"translate(50.21 -67.08) scale(1.667)\" fill=\"black\" /><use href=\"#STIXTwoMathRegular_267\" transform=\"translate(55.87 -67.08) scale(1.667)\" fill=\"black\" /><symbol id=\"STIXTwoMathRegular_270\" width=\"5.76\" height=\"51.216\" viewBox=\"0 -31.524 5.76 51.216\"><path d=\"M 3.096 -5.82 L 3.096 -5.82 Q 4.332 -5.82 5.046 -5.052 Q 5.76 -4.284 5.76 -2.952 Q 5.76 -1.944 5.418 -1.26 Q 5.076 -0.576 4.476 -0.228 Q 3.876 0.12 3.096 0.12 Q 1.836 0.12 1.122 -0.666 Q 0.408 -1.452 0.408 -2.904 Q 0.408 -3.78 0.744 -4.434 Q 1.08 -5.088 1.686 -5.454 Q 2.292 -5.82 3.096 -5.82 Z M 3.048 -5.364 L 3.048 -5.364 Q 2.364 -5.364 1.944 -4.788 Q 1.524 -4.212 1.524 -3.06 Q 1.524 -1.632 1.95 -0.99 Q 2.376 -0.348 3.144 -0.36 Q 3.636 -0.36 3.972 -0.588 Q 4.308 -0.816 4.482 -1.368 Q 4.656 -1.92 4.656 -2.892 Q 4.656 -3.996 4.254 -4.68 Q 3.852 -5.364 3.048 -5.364 Z \" /></symbol><use href=\"#STIXTwoMathRegular_270\" transform=\"translate(61.53 -67.08) scale(1.667)\" fill=\"black\" /></g></g></g></svg>"
      ],
      "text/plain": [
       "<svg xmlns=\"http://www.w3.org/2000/svg\" xml:lang=\"en\" height=\"49.288pt\" width=\"101.19999999999999pt\" viewBox=\"-2.0 -39.187999999999995 101.19999999999999 49.288\"><path d=\"M 0.0,-0.0 L 32.4,-0.0 L 35.099999999999994,-8.1 L 40.5,8.1 L 45.89999999999999,-8.1 L 51.3,8.1 L 56.699999999999996,-8.1 L 62.099999999999994,8.1 L 64.8,-0.0 L 97.19999999999999,-0.0\" style=\"stroke:black;fill:none;stroke-width:2;stroke-linecap:round;stroke-linejoin:round;\" /><g><g><g><symbol id=\"STIXTwoMathRegular_10\" width=\"9.072\" height=\"51.216\" viewBox=\"0 -31.524 9.072 51.216\"><path d=\"M 2.868 -6.3 L 2.868 -6.3 L 2.868 -4.284 L 6.804 -4.284 L 6.804 -6.3 Q 6.804 -6.768 6.744 -7.038 Q 6.684 -7.308 6.438 -7.416 Q 6.192 -7.524 5.64 -7.524 L 5.64 -7.884 L 9.072 -7.884 L 9.072 -7.524 Q 8.508 -7.524 8.256 -7.416 Q 8.004 -7.308 7.95 -7.044 Q 7.896 -6.78 7.896 -6.3 L 7.896 -1.572 Q 7.896 -1.056 7.962 -0.792 Q 8.028 -0.528 8.28 -0.444 Q 8.532 -0.36 9.072 -0.36 L 9.072 0 L 5.64 0 L 5.64 -0.36 Q 6.18 -0.36 6.426 -0.444 Q 6.672 -0.528 6.738 -0.792 Q 6.804 -1.056 6.804 -1.572 L 6.804 -3.816 L 2.868 -3.816 L 2.868 -1.572 Q 2.868 -1.044 2.934 -0.786 Q 3 -0.528 3.252 -0.444 Q 3.504 -0.36 4.044 -0.36 L 4.044 0 L 0.6 0 L 0.6 -0.36 Q 1.14 -0.36 1.386 -0.438 Q 1.632 -0.516 1.698 -0.78 Q 1.764 -1.044 1.764 -1.572 L 1.764 -6.3 Q 1.764 -6.768 1.704 -7.038 Q 1.644 -7.308 1.398 -7.416 Q 1.152 -7.524 0.6 -7.524 L 0.6 -7.884 L 4.044 -7.884 L 4.044 -7.524 Q 3.48 -7.524 3.228 -7.416 Q 2.976 -7.308 2.922 -7.038 Q 2.868 -6.768 2.868 -6.3 Z \" /></symbol><use href=\"#STIXTwoMathRegular_10\" transform=\"translate(25.39 -67.08) scale(1.667)\" fill=\"black\" /><symbol id=\"STIXTwoMathRegular_259\" width=\"5.208\" height=\"51.216\" viewBox=\"0 -31.524 5.208 51.216\"><path d=\"M 4.98 -1.716 L 4.98 -1.716 L 5.208 -1.548 Q 4.992 -1.092 4.704 -0.714 Q 4.416 -0.336 4.002 -0.108 Q 3.588 0.12 2.964 0.12 Q 2.244 0.12 1.662 -0.222 Q 1.08 -0.564 0.744 -1.23 Q 0.408 -1.896 0.408 -2.856 Q 0.408 -3.864 0.75 -4.518 Q 1.092 -5.172 1.668 -5.496 Q 2.244 -5.82 2.94 -5.82 Q 3.924 -5.82 4.524 -5.136 Q 5.124 -4.452 5.172 -3.192 L 1.38 -3.192 Q 1.38 -2.364 1.65 -1.83 Q 1.92 -1.296 2.346 -1.038 Q 2.772 -0.78 3.252 -0.78 Q 3.744 -0.78 4.05 -0.912 Q 4.356 -1.044 4.572 -1.254 Q 4.788 -1.464 4.98 -1.716 Z M 1.368 -3.636 L 1.368 -3.636 L 4.044 -3.636 Q 4.032 -4.08 3.888 -4.47 Q 3.744 -4.86 3.468 -5.1 Q 3.192 -5.34 2.76 -5.34 Q 1.512 -5.34 1.368 -3.636 Z \" /></symbol><use href=\"#STIXTwoMathRegular_259\" transform=\"translate(40.93 -67.08) scale(1.667)\" fill=\"black\" /><symbol id=\"STIXTwoMathRegular_267\" width=\"3.12\" height=\"51.216\" viewBox=\"0 -31.524 3.12 51.216\"><path d=\"M 3.12 -0.348 L 3.12 -0.348 L 3.12 0 L 0.36 0 L 0.36 -0.348 Q 0.756 -0.348 0.936 -0.426 Q 1.116 -0.504 1.158 -0.69 Q 1.2 -0.876 1.2 -1.212 L 1.2 -7.236 Q 1.2 -7.608 1.062 -7.68 Q 0.924 -7.752 0.696 -7.752 Q 0.54 -7.752 0.426 -7.74 Q 0.312 -7.728 0.312 -7.728 L 0.312 -8.052 L 1.896 -8.472 L 2.196 -8.472 L 2.196 -1.212 Q 2.196 -0.864 2.25 -0.678 Q 2.304 -0.492 2.496 -0.42 Q 2.688 -0.348 3.12 -0.348 Z \" /></symbol><use href=\"#STIXTwoMathRegular_267\" transform=\"translate(50.21 -67.08) scale(1.667)\" fill=\"black\" /><use href=\"#STIXTwoMathRegular_267\" transform=\"translate(55.87 -67.08) scale(1.667)\" fill=\"black\" /><symbol id=\"STIXTwoMathRegular_270\" width=\"5.76\" height=\"51.216\" viewBox=\"0 -31.524 5.76 51.216\"><path d=\"M 3.096 -5.82 L 3.096 -5.82 Q 4.332 -5.82 5.046 -5.052 Q 5.76 -4.284 5.76 -2.952 Q 5.76 -1.944 5.418 -1.26 Q 5.076 -0.576 4.476 -0.228 Q 3.876 0.12 3.096 0.12 Q 1.836 0.12 1.122 -0.666 Q 0.408 -1.452 0.408 -2.904 Q 0.408 -3.78 0.744 -4.434 Q 1.08 -5.088 1.686 -5.454 Q 2.292 -5.82 3.096 -5.82 Z M 3.048 -5.364 L 3.048 -5.364 Q 2.364 -5.364 1.944 -4.788 Q 1.524 -4.212 1.524 -3.06 Q 1.524 -1.632 1.95 -0.99 Q 2.376 -0.348 3.144 -0.36 Q 3.636 -0.36 3.972 -0.588 Q 4.308 -0.816 4.482 -1.368 Q 4.656 -1.92 4.656 -2.892 Q 4.656 -3.996 4.254 -4.68 Q 3.852 -5.364 3.048 -5.364 Z \" /></symbol><use href=\"#STIXTwoMathRegular_270\" transform=\"translate(61.53 -67.08) scale(1.667)\" fill=\"black\" /></g></g></g></svg>"
      ]
     },
     "execution_count": 14,
     "metadata": {},
     "output_type": "execute_result"
    }
   ],
   "source": [
    "d = schemdraw.Drawing(font='serif', fontsize=20)\n",
    "d += elm.Resistor().label('Hello')\n",
    "d.draw(canvas='svg')"
   ]
  },
  {
   "cell_type": "code",
   "execution_count": 15,
   "id": "4fddb4ef",
   "metadata": {},
   "outputs": [],
   "source": [
    "d.save('savetest.png')"
   ]
  },
  {
   "cell_type": "code",
   "execution_count": null,
   "id": "2869515f",
   "metadata": {},
   "outputs": [],
   "source": []
  },
  {
   "cell_type": "code",
   "execution_count": 16,
   "id": "e44fce8c",
   "metadata": {},
   "outputs": [],
   "source": [
    "schemdraw.svgconfig.text = 'path'\n",
    "d = schemdraw.Drawing(font='serif', fontsize=20)\n",
    "d += elm.Resistor().label(r'$x^2$', valign='bottom')\n",
    "d.draw(canvas='svg')\n",
    "assert '<symbol' in d.get_imagedata('svg').decode()"
   ]
  },
  {
   "cell_type": "code",
   "execution_count": 17,
   "id": "ad6bdb8c",
   "metadata": {},
   "outputs": [],
   "source": [
    "schemdraw.svgconfig.svg2 = False   # use ziamath with SVG1.x\n",
    "d = schemdraw.Drawing(font='serif', fontsize=20)\n",
    "d += elm.Resistor().label(r'$x^2$', valign='bottom')\n",
    "d.draw(canvas='svg')\n",
    "d.get_imagedata('svg').decode()\n",
    "assert '<symbol' not in d.get_imagedata('svg').decode()"
   ]
  },
  {
   "cell_type": "code",
   "execution_count": 18,
   "id": "4f7a20a8",
   "metadata": {},
   "outputs": [],
   "source": [
    "schemdraw.svgconfig.text = 'text'   # use <text>\n",
    "d = schemdraw.Drawing(font='serif', fontsize=20)\n",
    "d += elm.Resistor().label(r'$x^2$', valign='bottom')\n",
    "d.draw(canvas='svg')\n",
    "assert '<text' in d.get_imagedata('svg').decode()"
   ]
  },
  {
   "cell_type": "code",
   "execution_count": null,
   "id": "26e1c624-365d-45e4-830b-6f9e87f81e1e",
   "metadata": {},
   "outputs": [],
   "source": []
  },
  {
   "cell_type": "code",
   "execution_count": 19,
   "id": "28267d40",
   "metadata": {},
   "outputs": [],
   "source": [
    "schemdraw.svgconfig.text = 'path'\n",
    "schemdraw.svgconfig.svg2 = True"
   ]
  },
  {
   "cell_type": "code",
   "execution_count": null,
   "id": "874e5110",
   "metadata": {},
   "outputs": [],
   "source": []
  },
  {
   "cell_type": "code",
   "execution_count": 20,
   "id": "4d6c2d77",
   "metadata": {},
   "outputs": [],
   "source": [
    "# Draw on matplotlib axis, or specify existing axis\n",
    "import matplotlib.pyplot as plt"
   ]
  },
  {
   "cell_type": "code",
   "execution_count": 21,
   "id": "782d3764",
   "metadata": {},
   "outputs": [
    {
     "data": {
      "image/png": "[encoded data removed]",
      "image/svg+xml": [
       "<?xml version=\"1.0\" encoding=\"utf-8\" standalone=\"no\"?>\n",
       "<!DOCTYPE svg PUBLIC \"-//W3C//DTD SVG 1.1//EN\"\n",
       "  \"http://www.w3.org/Graphics/SVG/1.1/DTD/svg11.dtd\">\n",
       "<svg xmlns:xlink=\"http://www.w3.org/1999/xlink\" width=\"112.32pt\" height=\"35.82pt\" viewBox=\"0 0 112.32 35.82\" xmlns=\"http://www.w3.org/2000/svg\" version=\"1.1\">\n",
       " <metadata>\n",
       "  <rdf:RDF xmlns:dc=\"http://purl.org/dc/elements/1.1/\" xmlns:cc=\"http://creativecommons.org/ns#\" xmlns:rdf=\"http://www.w3.org/1999/02/22-rdf-syntax-ns#\">\n",
       "   <cc:Work>\n",
       "    <dc:type rdf:resource=\"http://purl.org/dc/dcmitype/StillImage\"/>\n",
       "    <dc:date>2023-03-10T20:05:25.965317</dc:date>\n",
       "    <dc:format>image/svg+xml</dc:format>\n",
       "    <dc:creator>\n",
       "     <cc:Agent>\n",
       "      <dc:title>Matplotlib v3.7.0, https://matplotlib.org/</dc:title>\n",
       "     </cc:Agent>\n",
       "    </dc:creator>\n",
       "   </cc:Work>\n",
       "  </rdf:RDF>\n",
       " </metadata>\n",
       " <defs>\n",
       "  <style type=\"text/css\">*{stroke-linejoin: round; stroke-linecap: butt}</style>\n",
       " </defs>\n",
       " <g id=\"figure_1\">\n",
       "  <g id=\"patch_1\">\n",
       "   <path d=\"M 0 35.82 \n",
       "L 112.32 35.82 \n",
       "L 112.32 -0 \n",
       "L 0 -0 \n",
       "z\n",
       "\" style=\"fill: #ffffff\"/>\n",
       "  </g>\n",
       "  <g id=\"axes_1\">\n",
       "   <g id=\"line2d_1\">\n",
       "    <path d=\"M 10.26 17.91 \n",
       "L 40.86 17.91 \n",
       "L 43.41 10.26 \n",
       "L 48.51 25.56 \n",
       "L 53.61 10.26 \n",
       "L 58.71 25.56 \n",
       "L 63.81 10.26 \n",
       "L 68.91 25.56 \n",
       "L 71.46 17.91 \n",
       "L 102.06 17.91 \n",
       "\" clip-path=\"url(#p3d32c896b8)\" style=\"fill: none; stroke: #000000; stroke-width: 2; stroke-linecap: round\"/>\n",
       "   </g>\n",
       "   <g id=\"line2d_2\">\n",
       "    <path d=\"M 25.56 28.62 \n",
       "L 25.56 7.2 \n",
       "\" clip-path=\"url(#p3d32c896b8)\" style=\"fill: none; stroke-dasharray: 5.55,2.4; stroke-dashoffset: 0; stroke: #800080; stroke-width: 1.5\"/>\n",
       "   </g>\n",
       "   <g id=\"line2d_3\">\n",
       "    <path d=\"M 86.76 28.62 \n",
       "L 86.76 7.2 \n",
       "\" clip-path=\"url(#p3d32c896b8)\" style=\"fill: none; stroke: #ffa500; stroke-width: 3; stroke-linecap: square\"/>\n",
       "   </g>\n",
       "  </g>\n",
       " </g>\n",
       " <defs>\n",
       "  <clipPath id=\"p3d32c896b8\">\n",
       "   <rect x=\"7.2\" y=\"7.2\" width=\"97.92\" height=\"21.42\"/>\n",
       "  </clipPath>\n",
       " </defs>\n",
       "</svg>\n"
      ],
      "text/plain": [
       "<schemdraw.backends.mpl.Figure object at 0x793fb7580e20>"
      ]
     },
     "metadata": {},
     "output_type": "display_data"
    }
   ],
   "source": [
    "schemdraw.use('matplotlib')\n",
    "d = schemdraw.Drawing()\n",
    "d.add(elm.Resistor)\n",
    "schemfig = d.draw()\n",
    "schemfig.ax.axvline(.5, color='purple', ls='--')\n",
    "schemfig.ax.axvline(2.5, color='orange', ls='-', lw=3);\n",
    "display(schemfig)"
   ]
  },
  {
   "cell_type": "code",
   "execution_count": 22,
   "id": "842379a0",
   "metadata": {},
   "outputs": [
    {
     "data": {
      "image/png": "[encoded data removed]",
      "text/plain": [
       "<Figure size 640x480 with 1 Axes>"
      ]
     },
     "metadata": {},
     "output_type": "display_data"
    }
   ],
   "source": [
    "fig, ax = plt.subplots()\n",
    "ax.set_aspect('equal')\n",
    "d = schemdraw.Drawing()\n",
    "d += elm.Inductor()\n",
    "d.draw(canvas=ax)\n",
    "ax.axvline(0, ls='--', color='red');"
   ]
  },
  {
   "cell_type": "code",
   "execution_count": 23,
   "id": "f9ca19c3",
   "metadata": {},
   "outputs": [
    {
     "data": {
      "image/png": "[encoded data removed]",
      "image/svg+xml": [
       "<?xml version=\"1.0\" encoding=\"utf-8\" standalone=\"no\"?>\n",
       "<!DOCTYPE svg PUBLIC \"-//W3C//DTD SVG 1.1//EN\"\n",
       "  \"http://www.w3.org/Graphics/SVG/1.1/DTD/svg11.dtd\">\n",
       "<svg xmlns:xlink=\"http://www.w3.org/1999/xlink\" width=\"112.32pt\" height=\"35.812139pt\" viewBox=\"0 0 112.32 35.812139\" xmlns=\"http://www.w3.org/2000/svg\" version=\"1.1\">\n",
       " <metadata>\n",
       "  <rdf:RDF xmlns:dc=\"http://purl.org/dc/elements/1.1/\" xmlns:cc=\"http://creativecommons.org/ns#\" xmlns:rdf=\"http://www.w3.org/1999/02/22-rdf-syntax-ns#\">\n",
       "   <cc:Work>\n",
       "    <dc:type rdf:resource=\"http://purl.org/dc/dcmitype/StillImage\"/>\n",
       "    <dc:date>2023-03-10T20:05:26.993903</dc:date>\n",
       "    <dc:format>image/svg+xml</dc:format>\n",
       "    <dc:creator>\n",
       "     <cc:Agent>\n",
       "      <dc:title>Matplotlib v3.7.0, https://matplotlib.org/</dc:title>\n",
       "     </cc:Agent>\n",
       "    </dc:creator>\n",
       "   </cc:Work>\n",
       "  </rdf:RDF>\n",
       " </metadata>\n",
       " <defs>\n",
       "  <style type=\"text/css\">*{stroke-linejoin: round; stroke-linecap: butt}</style>\n",
       " </defs>\n",
       " <g id=\"figure_1\">\n",
       "  <g id=\"patch_1\">\n",
       "   <path d=\"M 0 35.812139 \n",
       "L 112.32 35.812139 \n",
       "L 112.32 0 \n",
       "L 0 0 \n",
       "z\n",
       "\"/>\n",
       "  </g>\n",
       "  <g id=\"axes_1\">\n",
       "   <g id=\"line2d_1\">\n",
       "    <path d=\"M 10.26 17.90607 \n",
       "L 42.696 17.90607 \n",
       "L 43.245551 16.927809 \n",
       "L 43.795102 15.965612 \n",
       "L 44.344653 15.035277 \n",
       "L 44.894204 14.15208 \n",
       "L 45.443755 13.330524 \n",
       "L 45.993306 12.584098 \n",
       "L 46.542857 11.925059 \n",
       "L 47.092408 11.364227 \n",
       "L 47.641959 10.910813 \n",
       "L 48.19151 10.57226 \n",
       "L 48.741061 10.354129 \n",
       "L 49.290612 10.26 \n",
       "L 49.840163 10.291419 \n",
       "L 50.389714 10.447871 \n",
       "L 50.939265 10.726786 \n",
       "L 51.488816 11.123585 \n",
       "L 52.038367 11.631752 \n",
       "L 52.587918 12.242943 \n",
       "L 53.137469 12.947122 \n",
       "L 53.68702 13.732728 \n",
       "L 54.236571 14.586859 \n",
       "L 54.786122 15.495492 \n",
       "L 55.335673 16.443706 \n",
       "L 55.885224 17.415932 \n",
       "L 56.434776 18.396207 \n",
       "L 56.984327 19.368433 \n",
       "L 57.533878 20.316647 \n",
       "L 58.083429 21.22528 \n",
       "L 58.63298 22.079412 \n",
       "L 59.182531 22.865017 \n",
       "L 59.732082 23.569196 \n",
       "L 60.281633 24.180387 \n",
       "L 60.831184 24.688554 \n",
       "L 61.380735 25.085353 \n",
       "L 61.930286 25.364268 \n",
       "L 62.479837 25.52072 \n",
       "L 63.029388 25.552139 \n",
       "L 63.578939 25.45801 \n",
       "L 64.12849 25.239879 \n",
       "L 64.678041 24.901326 \n",
       "L 65.227592 24.447912 \n",
       "L 65.777143 23.88708 \n",
       "L 66.326694 23.228041 \n",
       "L 66.876245 22.481615 \n",
       "L 67.425796 21.660059 \n",
       "L 67.975347 20.776862 \n",
       "L 68.524898 19.846527 \n",
       "L 69.074449 18.88433 \n",
       "L 69.624 17.90607 \n",
       "L 102.06 17.90607 \n",
       "\" clip-path=\"url(#p1fc94db574)\" style=\"fill: none; stroke: #ffffff; stroke-width: 2; stroke-linecap: round\"/>\n",
       "   </g>\n",
       "   <g id=\"line2d_2\">\n",
       "    <path d=\"M 35.352 17.90607 \n",
       "M 76.968 17.90607 \n",
       "\" clip-path=\"url(#p1fc94db574)\" style=\"fill: none; stroke: #ffffff; stroke-width: 2; stroke-linecap: round\"/>\n",
       "   </g>\n",
       "   <g id=\"patch_2\">\n",
       "    <path d=\"M 39.024 21.57807 \n",
       "C 39.997826 21.57807 40.931897 21.191164 41.620496 20.502566 \n",
       "C 42.309095 19.813967 42.696 18.879895 42.696 17.90607 \n",
       "C 42.696 16.932244 42.309095 15.998172 41.620496 15.309573 \n",
       "C 40.931897 14.620975 39.997826 14.23407 39.024 14.23407 \n",
       "C 38.050174 14.23407 37.116103 14.620975 36.427504 15.309573 \n",
       "C 35.738905 15.998172 35.352 16.932244 35.352 17.90607 \n",
       "C 35.352 18.879895 35.738905 19.813967 36.427504 20.502566 \n",
       "C 37.116103 21.191164 38.050174 21.57807 39.024 21.57807 \n",
       "z\n",
       "\" clip-path=\"url(#p1fc94db574)\" style=\"stroke: #ffffff; stroke-width: 2; stroke-linejoin: miter\"/>\n",
       "   </g>\n",
       "   <g id=\"patch_3\">\n",
       "    <path d=\"M 73.296 21.57807 \n",
       "C 74.269826 21.57807 75.203897 21.191164 75.892496 20.502566 \n",
       "C 76.581095 19.813967 76.968 18.879895 76.968 17.90607 \n",
       "C 76.968 16.932244 76.581095 15.998172 75.892496 15.309573 \n",
       "C 75.203897 14.620975 74.269826 14.23407 73.296 14.23407 \n",
       "C 72.322174 14.23407 71.388103 14.620975 70.699504 15.309573 \n",
       "C 70.010905 15.998172 69.624 16.932244 69.624 17.90607 \n",
       "C 69.624 18.879895 70.010905 19.813967 70.699504 20.502566 \n",
       "C 71.388103 21.191164 72.322174 21.57807 73.296 21.57807 \n",
       "z\n",
       "\" clip-path=\"url(#p1fc94db574)\" style=\"stroke: #ffffff; stroke-width: 2; stroke-linejoin: miter\"/>\n",
       "   </g>\n",
       "  </g>\n",
       " </g>\n",
       " <defs>\n",
       "  <clipPath id=\"p1fc94db574\">\n",
       "   <rect x=\"7.2\" y=\"7.2\" width=\"97.92\" height=\"21.412139\"/>\n",
       "  </clipPath>\n",
       " </defs>\n",
       "</svg>\n"
      ],
      "text/plain": [
       "<schemdraw.backends.mpl.Figure object at 0x793fb53cfa90>"
      ]
     },
     "execution_count": 23,
     "metadata": {},
     "output_type": "execute_result"
    }
   ],
   "source": [
    "schemdraw.theme('dark')\n",
    "d = schemdraw.Drawing()\n",
    "d += elm.FuseUS()\n",
    "d.draw()"
   ]
  },
  {
   "cell_type": "code",
   "execution_count": 24,
   "id": "2ea55813",
   "metadata": {},
   "outputs": [],
   "source": [
    "d.save('testMPL.png')"
   ]
  },
  {
   "cell_type": "code",
   "execution_count": null,
   "id": "828a22f1",
   "metadata": {},
   "outputs": [],
   "source": []
  },
  {
   "cell_type": "code",
   "execution_count": 25,
   "id": "92a13128",
   "metadata": {},
   "outputs": [
    {
     "data": {
      "image/png": "[encoded data removed]",
      "image/svg+xml": [
       "<?xml version=\"1.0\" encoding=\"utf-8\" standalone=\"no\"?>\n",
       "<!DOCTYPE svg PUBLIC \"-//W3C//DTD SVG 1.1//EN\"\n",
       "  \"http://www.w3.org/Graphics/SVG/1.1/DTD/svg11.dtd\">\n",
       "<svg xmlns:xlink=\"http://www.w3.org/1999/xlink\" width=\"204.12pt\" height=\"35.82pt\" viewBox=\"0 0 204.12 35.82\" xmlns=\"http://www.w3.org/2000/svg\" version=\"1.1\">\n",
       " <metadata>\n",
       "  <rdf:RDF xmlns:dc=\"http://purl.org/dc/elements/1.1/\" xmlns:cc=\"http://creativecommons.org/ns#\" xmlns:rdf=\"http://www.w3.org/1999/02/22-rdf-syntax-ns#\">\n",
       "   <cc:Work>\n",
       "    <dc:type rdf:resource=\"http://purl.org/dc/dcmitype/StillImage\"/>\n",
       "    <dc:date>2023-03-10T20:05:27.204637</dc:date>\n",
       "    <dc:format>image/svg+xml</dc:format>\n",
       "    <dc:creator>\n",
       "     <cc:Agent>\n",
       "      <dc:title>Matplotlib v3.7.0, https://matplotlib.org/</dc:title>\n",
       "     </cc:Agent>\n",
       "    </dc:creator>\n",
       "   </cc:Work>\n",
       "  </rdf:RDF>\n",
       " </metadata>\n",
       " <defs>\n",
       "  <style type=\"text/css\">*{stroke-linejoin: round; stroke-linecap: butt}</style>\n",
       " </defs>\n",
       " <g id=\"figure_1\">\n",
       "  <g id=\"patch_1\">\n",
       "   <path d=\"M 0 35.82 \n",
       "L 204.12 35.82 \n",
       "L 204.12 -0 \n",
       "L 0 -0 \n",
       "z\n",
       "\"/>\n",
       "  </g>\n",
       "  <g id=\"axes_1\">\n",
       "   <g id=\"line2d_1\">\n",
       "    <path d=\"M 10.26 17.91 \n",
       "L 40.86 17.91 \n",
       "L 43.41 10.26 \n",
       "L 48.51 25.56 \n",
       "L 53.61 10.26 \n",
       "L 58.71 25.56 \n",
       "L 63.81 10.26 \n",
       "L 68.91 25.56 \n",
       "L 71.46 17.91 \n",
       "L 102.06 17.91 \n",
       "\" clip-path=\"url(#p26a159c5a4)\" style=\"fill: none; stroke: #ffffff; stroke-width: 2\"/>\n",
       "   </g>\n",
       "   <g id=\"line2d_2\">\n",
       "    <path d=\"M 102.06 17.91 \n",
       "L 132.66 17.91 \n",
       "L 135.21 10.26 \n",
       "L 140.31 25.56 \n",
       "L 145.41 10.26 \n",
       "L 150.51 25.56 \n",
       "L 155.61 10.26 \n",
       "L 160.71 25.56 \n",
       "L 163.26 17.91 \n",
       "L 193.86 17.91 \n",
       "\" clip-path=\"url(#p26a159c5a4)\" style=\"fill: none; stroke: #ffffff; stroke-width: 2; stroke-linecap: square\"/>\n",
       "   </g>\n",
       "  </g>\n",
       " </g>\n",
       " <defs>\n",
       "  <clipPath id=\"p26a159c5a4\">\n",
       "   <rect x=\"7.2\" y=\"7.2\" width=\"189.72\" height=\"21.42\"/>\n",
       "  </clipPath>\n",
       " </defs>\n",
       "</svg>\n"
      ],
      "text/plain": [
       "<schemdraw.backends.mpl.Figure object at 0x793fb528c0a0>"
      ]
     },
     "execution_count": 25,
     "metadata": {},
     "output_type": "execute_result"
    }
   ],
   "source": [
    "# Capstyle names are different in SVG vs Matplotlib\n",
    "# projecting == butt\n",
    "d = schemdraw.Drawing()\n",
    "d += elm.Resistor(capstyle='butt')\n",
    "d += elm.Resistor(capstyle='projecting')\n",
    "d.draw()"
   ]
  },
  {
   "cell_type": "code",
   "execution_count": 26,
   "id": "1735cb1a",
   "metadata": {},
   "outputs": [
    {
     "data": {
      "image/svg+xml": [
       "<svg xmlns=\"http://www.w3.org/2000/svg\" xml:lang=\"en\" height=\"20.2pt\" width=\"198.39999999999998pt\" viewBox=\"-2.0 -10.1 198.39999999999998 20.2\" style=\"background-color:black;\"><path d=\"M 0.0,-0.0 L 32.4,-0.0 L 35.099999999999994,-8.1 L 40.5,8.1 L 45.89999999999999,-8.1 L 51.3,8.1 L 56.699999999999996,-8.1 L 62.099999999999994,8.1 L 64.8,-0.0 L 97.19999999999999,-0.0\" style=\"stroke:white;fill:none;stroke-width:2;stroke-linecap:butt;stroke-linejoin:round;\" /><path d=\"M 97.19999999999999,-0.0 L 129.6,-0.0 L 132.29999999999998,-8.1 L 137.7,8.1 L 143.09999999999997,-8.1 L 148.49999999999997,8.1 L 153.9,-8.1 L 159.29999999999998,8.1 L 162.0,-0.0 L 194.39999999999998,-0.0\" style=\"stroke:white;fill:none;stroke-width:2;stroke-linecap:square;stroke-linejoin:round;\" /></svg>"
      ],
      "text/plain": [
       "<svg xmlns=\"http://www.w3.org/2000/svg\" xml:lang=\"en\" height=\"20.2pt\" width=\"198.39999999999998pt\" viewBox=\"-2.0 -10.1 198.39999999999998 20.2\" style=\"background-color:black;\"><path d=\"M 0.0,-0.0 L 32.4,-0.0 L 35.099999999999994,-8.1 L 40.5,8.1 L 45.89999999999999,-8.1 L 51.3,8.1 L 56.699999999999996,-8.1 L 62.099999999999994,8.1 L 64.8,-0.0 L 97.19999999999999,-0.0\" style=\"stroke:white;fill:none;stroke-width:2;stroke-linecap:butt;stroke-linejoin:round;\" /><path d=\"M 97.19999999999999,-0.0 L 129.6,-0.0 L 132.29999999999998,-8.1 L 137.7,8.1 L 143.09999999999997,-8.1 L 148.49999999999997,8.1 L 153.9,-8.1 L 159.29999999999998,8.1 L 162.0,-0.0 L 194.39999999999998,-0.0\" style=\"stroke:white;fill:none;stroke-width:2;stroke-linecap:square;stroke-linejoin:round;\" /></svg>"
      ]
     },
     "execution_count": 26,
     "metadata": {},
     "output_type": "execute_result"
    }
   ],
   "source": [
    "d = schemdraw.Drawing()\n",
    "d += elm.Resistor(capstyle='butt')\n",
    "d += elm.Resistor(capstyle='projecting')\n",
    "d.draw(canvas='svg')"
   ]
  },
  {
   "cell_type": "code",
   "execution_count": null,
   "id": "0ef22aaa",
   "metadata": {},
   "outputs": [],
   "source": []
  },
  {
   "cell_type": "code",
   "execution_count": 27,
   "id": "b0d0afef",
   "metadata": {},
   "outputs": [
    {
     "data": {
      "image/png": "[encoded data removed]",
      "image/svg+xml": [
       "<?xml version=\"1.0\" encoding=\"utf-8\" standalone=\"no\"?>\n",
       "<!DOCTYPE svg PUBLIC \"-//W3C//DTD SVG 1.1//EN\"\n",
       "  \"http://www.w3.org/Graphics/SVG/1.1/DTD/svg11.dtd\">\n",
       "<svg xmlns:xlink=\"http://www.w3.org/1999/xlink\" width=\"74.803813pt\" height=\"79.834125pt\" viewBox=\"0 0 74.803813 79.834125\" xmlns=\"http://www.w3.org/2000/svg\" version=\"1.1\">\n",
       " <metadata>\n",
       "  <rdf:RDF xmlns:dc=\"http://purl.org/dc/elements/1.1/\" xmlns:cc=\"http://creativecommons.org/ns#\" xmlns:rdf=\"http://www.w3.org/1999/02/22-rdf-syntax-ns#\">\n",
       "   <cc:Work>\n",
       "    <dc:type rdf:resource=\"http://purl.org/dc/dcmitype/StillImage\"/>\n",
       "    <dc:date>2023-03-10T20:05:27.891991</dc:date>\n",
       "    <dc:format>image/svg+xml</dc:format>\n",
       "    <dc:creator>\n",
       "     <cc:Agent>\n",
       "      <dc:title>Matplotlib v3.7.0, https://matplotlib.org/</dc:title>\n",
       "     </cc:Agent>\n",
       "    </dc:creator>\n",
       "   </cc:Work>\n",
       "  </rdf:RDF>\n",
       " </metadata>\n",
       " <defs>\n",
       "  <style type=\"text/css\">*{stroke-linejoin: round; stroke-linecap: butt}</style>\n",
       " </defs>\n",
       " <g id=\"figure_1\">\n",
       "  <g id=\"patch_1\">\n",
       "   <path d=\"M -0 79.834125 \n",
       "L 74.803813 79.834125 \n",
       "L 74.803813 0 \n",
       "L -0 0 \n",
       "z\n",
       "\" style=\"fill: #ffffff\"/>\n",
       "  </g>\n",
       "  <g id=\"axes_1\">\n",
       "   <g id=\"patch_2\">\n",
       "    <path d=\"M 38.482813 55.956 \n",
       "L 67.603813 55.956 \n",
       "L 67.603813 7.2 \n",
       "L 38.482813 7.2 \n",
       "z\n",
       "\" style=\"fill: #ffffff\"/>\n",
       "   </g>\n",
       "   <g id=\"matplotlib.axis_1\">\n",
       "    <g id=\"xtick_1\">\n",
       "     <g id=\"line2d_1\">\n",
       "      <defs>\n",
       "       <path id=\"md98d4429ec\" d=\"M 0 0 \n",
       "L 0 3.5 \n",
       "\" style=\"stroke: #000000; stroke-width: 0.8\"/>\n",
       "      </defs>\n",
       "      <g>\n",
       "       <use xlink:href=\"#md98d4429ec\" x=\"41.542813\" y=\"55.956\" style=\"stroke: #000000; stroke-width: 0.8\"/>\n",
       "      </g>\n",
       "     </g>\n",
       "     <g id=\"text_1\">\n",
       "      <!-- 0.0 -->\n",
       "      <g transform=\"translate(33.59125 70.554437) scale(0.1 -0.1)\">\n",
       "       <defs>\n",
       "        <path id=\"DejaVuSans-30\" d=\"M 2034 4250 \n",
       "Q 1547 4250 1301 3770 \n",
       "Q 1056 3291 1056 2328 \n",
       "Q 1056 1369 1301 889 \n",
       "Q 1547 409 2034 409 \n",
       "Q 2525 409 2770 889 \n",
       "Q 3016 1369 3016 2328 \n",
       "Q 3016 3291 2770 3770 \n",
       "Q 2525 4250 2034 4250 \n",
       "z\n",
       "M 2034 4750 \n",
       "Q 2819 4750 3233 4129 \n",
       "Q 3647 3509 3647 2328 \n",
       "Q 3647 1150 3233 529 \n",
       "Q 2819 -91 2034 -91 \n",
       "Q 1250 -91 836 529 \n",
       "Q 422 1150 422 2328 \n",
       "Q 422 3509 836 4129 \n",
       "Q 1250 4750 2034 4750 \n",
       "z\n",
       "\" transform=\"scale(0.015625)\"/>\n",
       "        <path id=\"DejaVuSans-2e\" d=\"M 684 794 \n",
       "L 1344 794 \n",
       "L 1344 0 \n",
       "L 684 0 \n",
       "L 684 794 \n",
       "z\n",
       "\" transform=\"scale(0.015625)\"/>\n",
       "       </defs>\n",
       "       <use xlink:href=\"#DejaVuSans-30\"/>\n",
       "       <use xlink:href=\"#DejaVuSans-2e\" x=\"63.623047\"/>\n",
       "       <use xlink:href=\"#DejaVuSans-30\" x=\"95.410156\"/>\n",
       "      </g>\n",
       "     </g>\n",
       "    </g>\n",
       "    <g id=\"xtick_2\">\n",
       "     <g id=\"line2d_2\">\n",
       "      <g>\n",
       "       <use xlink:href=\"#md98d4429ec\" x=\"56.842813\" y=\"55.956\" style=\"stroke: #000000; stroke-width: 0.8\"/>\n",
       "      </g>\n",
       "     </g>\n",
       "     <g id=\"text_2\">\n",
       "      <!-- 0.5 -->\n",
       "      <g transform=\"translate(48.89125 70.554437) scale(0.1 -0.1)\">\n",
       "       <defs>\n",
       "        <path id=\"DejaVuSans-35\" d=\"M 691 4666 \n",
       "L 3169 4666 \n",
       "L 3169 4134 \n",
       "L 1269 4134 \n",
       "L 1269 2991 \n",
       "Q 1406 3038 1543 3061 \n",
       "Q 1681 3084 1819 3084 \n",
       "Q 2600 3084 3056 2656 \n",
       "Q 3513 2228 3513 1497 \n",
       "Q 3513 744 3044 326 \n",
       "Q 2575 -91 1722 -91 \n",
       "Q 1428 -91 1123 -41 \n",
       "Q 819 9 494 109 \n",
       "L 494 744 \n",
       "Q 775 591 1075 516 \n",
       "Q 1375 441 1709 441 \n",
       "Q 2250 441 2565 725 \n",
       "Q 2881 1009 2881 1497 \n",
       "Q 2881 1984 2565 2268 \n",
       "Q 2250 2553 1709 2553 \n",
       "Q 1456 2553 1204 2497 \n",
       "Q 953 2441 691 2322 \n",
       "L 691 4666 \n",
       "z\n",
       "\" transform=\"scale(0.015625)\"/>\n",
       "       </defs>\n",
       "       <use xlink:href=\"#DejaVuSans-30\"/>\n",
       "       <use xlink:href=\"#DejaVuSans-2e\" x=\"63.623047\"/>\n",
       "       <use xlink:href=\"#DejaVuSans-35\" x=\"95.410156\"/>\n",
       "      </g>\n",
       "     </g>\n",
       "    </g>\n",
       "   </g>\n",
       "   <g id=\"matplotlib.axis_2\">\n",
       "    <g id=\"ytick_1\">\n",
       "     <g id=\"line2d_3\">\n",
       "      <defs>\n",
       "       <path id=\"m2a9c3c7a29\" d=\"M 0 0 \n",
       "L -3.5 0 \n",
       "\" style=\"stroke: #000000; stroke-width: 0.8\"/>\n",
       "      </defs>\n",
       "      <g>\n",
       "       <use xlink:href=\"#m2a9c3c7a29\" x=\"38.482813\" y=\"46.878\" style=\"stroke: #000000; stroke-width: 0.8\"/>\n",
       "      </g>\n",
       "     </g>\n",
       "     <g id=\"text_3\">\n",
       "      <!-- −0.5 -->\n",
       "      <g transform=\"translate(7.2 50.677219) scale(0.1 -0.1)\">\n",
       "       <defs>\n",
       "        <path id=\"DejaVuSans-2212\" d=\"M 678 2272 \n",
       "L 4684 2272 \n",
       "L 4684 1741 \n",
       "L 678 1741 \n",
       "L 678 2272 \n",
       "z\n",
       "\" transform=\"scale(0.015625)\"/>\n",
       "       </defs>\n",
       "       <use xlink:href=\"#DejaVuSans-2212\"/>\n",
       "       <use xlink:href=\"#DejaVuSans-30\" x=\"83.789062\"/>\n",
       "       <use xlink:href=\"#DejaVuSans-2e\" x=\"147.412109\"/>\n",
       "       <use xlink:href=\"#DejaVuSans-35\" x=\"179.199219\"/>\n",
       "      </g>\n",
       "     </g>\n",
       "    </g>\n",
       "    <g id=\"ytick_2\">\n",
       "     <g id=\"line2d_4\">\n",
       "      <g>\n",
       "       <use xlink:href=\"#m2a9c3c7a29\" x=\"38.482813\" y=\"31.578\" style=\"stroke: #000000; stroke-width: 0.8\"/>\n",
       "      </g>\n",
       "     </g>\n",
       "     <g id=\"text_4\">\n",
       "      <!-- 0.0 -->\n",
       "      <g transform=\"translate(15.579688 35.377219) scale(0.1 -0.1)\">\n",
       "       <use xlink:href=\"#DejaVuSans-30\"/>\n",
       "       <use xlink:href=\"#DejaVuSans-2e\" x=\"63.623047\"/>\n",
       "       <use xlink:href=\"#DejaVuSans-30\" x=\"95.410156\"/>\n",
       "      </g>\n",
       "     </g>\n",
       "    </g>\n",
       "    <g id=\"ytick_3\">\n",
       "     <g id=\"line2d_5\">\n",
       "      <g>\n",
       "       <use xlink:href=\"#m2a9c3c7a29\" x=\"38.482813\" y=\"16.278\" style=\"stroke: #000000; stroke-width: 0.8\"/>\n",
       "      </g>\n",
       "     </g>\n",
       "     <g id=\"text_5\">\n",
       "      <!-- 0.5 -->\n",
       "      <g transform=\"translate(15.579688 20.077219) scale(0.1 -0.1)\">\n",
       "       <use xlink:href=\"#DejaVuSans-30\"/>\n",
       "       <use xlink:href=\"#DejaVuSans-2e\" x=\"63.623047\"/>\n",
       "       <use xlink:href=\"#DejaVuSans-35\" x=\"95.410156\"/>\n",
       "      </g>\n",
       "     </g>\n",
       "    </g>\n",
       "   </g>\n",
       "   <g id=\"line2d_6\">\n",
       "    <path d=\"M 41.542813 31.578 \n",
       "L 52.762813 31.578 \n",
       "\" clip-path=\"url(#p8f025145b4)\" style=\"fill: none; stroke: #000000; stroke-width: 2; stroke-linecap: round\"/>\n",
       "   </g>\n",
       "   <g id=\"line2d_7\">\n",
       "    <path d=\"M 52.762813 20.358 \n",
       "L 52.762813 42.798 \n",
       "\" clip-path=\"url(#p8f025145b4)\" style=\"fill: none; stroke: #000000; stroke-width: 2; stroke-linecap: round\"/>\n",
       "   </g>\n",
       "   <g id=\"line2d_8\">\n",
       "    <path d=\"M 52.762813 25.968 \n",
       "L 64.543813 15.87 \n",
       "L 64.543813 10.26 \n",
       "\" clip-path=\"url(#p8f025145b4)\" style=\"fill: none; stroke: #000000; stroke-width: 2; stroke-linecap: round\"/>\n",
       "   </g>\n",
       "   <g id=\"line2d_9\">\n",
       "    <path d=\"M 52.762813 37.188 \n",
       "L 64.543813 47.286 \n",
       "L 64.543813 52.896 \n",
       "\" clip-path=\"url(#p8f025145b4)\" style=\"fill: none; stroke: #000000; stroke-width: 2; stroke-linecap: round\"/>\n",
       "   </g>\n",
       "   <g id=\"patch_3\">\n",
       "    <path d=\"M 38.482813 55.956 \n",
       "L 38.482813 7.2 \n",
       "\" style=\"fill: none; stroke: #000000; stroke-width: 0.8; stroke-linejoin: miter; stroke-linecap: square\"/>\n",
       "   </g>\n",
       "   <g id=\"patch_4\">\n",
       "    <path d=\"M 67.603813 55.956 \n",
       "L 67.603813 7.2 \n",
       "\" style=\"fill: none; stroke: #000000; stroke-width: 0.8; stroke-linejoin: miter; stroke-linecap: square\"/>\n",
       "   </g>\n",
       "   <g id=\"patch_5\">\n",
       "    <path d=\"M 38.482813 55.956 \n",
       "L 67.603813 55.956 \n",
       "\" style=\"fill: none; stroke: #000000; stroke-width: 0.8; stroke-linejoin: miter; stroke-linecap: square\"/>\n",
       "   </g>\n",
       "   <g id=\"patch_6\">\n",
       "    <path d=\"M 38.482813 7.2 \n",
       "L 67.603813 7.2 \n",
       "\" style=\"fill: none; stroke: #000000; stroke-width: 0.8; stroke-linejoin: miter; stroke-linecap: square\"/>\n",
       "   </g>\n",
       "  </g>\n",
       " </g>\n",
       " <defs>\n",
       "  <clipPath id=\"p8f025145b4\">\n",
       "   <rect x=\"38.482813\" y=\"7.2\" width=\"29.121\" height=\"48.756\"/>\n",
       "  </clipPath>\n",
       " </defs>\n",
       "</svg>\n"
      ],
      "text/plain": [
       "<schemdraw.backends.mpl.Figure object at 0x793fb526fe50>"
      ]
     },
     "execution_count": 27,
     "metadata": {},
     "output_type": "execute_result"
    }
   ],
   "source": [
    "schemdraw.theme('default')\n",
    "d = schemdraw.Drawing()\n",
    "d += elm.Bjt()\n",
    "d.draw(showframe=True)"
   ]
  },
  {
   "cell_type": "code",
   "execution_count": 28,
   "id": "4c03a06a",
   "metadata": {},
   "outputs": [
    {
     "data": {
      "image/svg+xml": [
       "<svg xmlns=\"http://www.w3.org/2000/svg\" xml:lang=\"en\" height=\"49.144pt\" width=\"28.353999999999996pt\" viewBox=\"-2.0 -24.572 28.353999999999996 49.144\" style=\"background-color:white;\"><rect x=\"-2.0\" y=\"-24.572\" width=\"24.353999999999996\" height=\"45.144\" style=\"fill:none; stroke-width:1; stroke:black;\" /><path d=\"M 0.0,-0.0 L 11.879999999999999,-0.0\" style=\"stroke:black;fill:none;stroke-width:2;stroke-linecap:round;stroke-linejoin:round;\" /><path d=\"M 11.879999999999999,-11.879999999999999 L 11.879999999999999,11.879999999999999\" style=\"stroke:black;fill:none;stroke-width:2;stroke-linecap:round;stroke-linejoin:round;\" /><path d=\"M 11.879999999999999,-5.9399999999999995 L 24.353999999999996,-16.631999999999998 L 24.353999999999996,-22.572\" style=\"stroke:black;fill:none;stroke-width:2;stroke-linecap:round;stroke-linejoin:round;\" /><path d=\"M 11.879999999999999,5.9399999999999995 L 24.353999999999996,16.631999999999998 L 24.353999999999996,22.572\" style=\"stroke:black;fill:none;stroke-width:2;stroke-linecap:round;stroke-linejoin:round;\" /></svg>"
      ],
      "text/plain": [
       "<svg xmlns=\"http://www.w3.org/2000/svg\" xml:lang=\"en\" height=\"49.144pt\" width=\"28.353999999999996pt\" viewBox=\"-2.0 -24.572 28.353999999999996 49.144\" style=\"background-color:white;\"><rect x=\"-2.0\" y=\"-24.572\" width=\"24.353999999999996\" height=\"45.144\" style=\"fill:none; stroke-width:1; stroke:black;\" /><path d=\"M 0.0,-0.0 L 11.879999999999999,-0.0\" style=\"stroke:black;fill:none;stroke-width:2;stroke-linecap:round;stroke-linejoin:round;\" /><path d=\"M 11.879999999999999,-11.879999999999999 L 11.879999999999999,11.879999999999999\" style=\"stroke:black;fill:none;stroke-width:2;stroke-linecap:round;stroke-linejoin:round;\" /><path d=\"M 11.879999999999999,-5.9399999999999995 L 24.353999999999996,-16.631999999999998 L 24.353999999999996,-22.572\" style=\"stroke:black;fill:none;stroke-width:2;stroke-linecap:round;stroke-linejoin:round;\" /><path d=\"M 11.879999999999999,5.9399999999999995 L 24.353999999999996,16.631999999999998 L 24.353999999999996,22.572\" style=\"stroke:black;fill:none;stroke-width:2;stroke-linecap:round;stroke-linejoin:round;\" /></svg>"
      ]
     },
     "execution_count": 28,
     "metadata": {},
     "output_type": "execute_result"
    }
   ],
   "source": [
    "d = schemdraw.Drawing()\n",
    "d += elm.Bjt()\n",
    "d.draw(canvas='svg', showframe=True)"
   ]
  },
  {
   "cell_type": "code",
   "execution_count": 29,
   "id": "f2d3b961",
   "metadata": {},
   "outputs": [
    {
     "data": {
      "image/svg+xml": [
       "<svg xmlns=\"http://www.w3.org/2000/svg\" xml:lang=\"en\" height=\"117.16293999999999pt\" width=\"587.1999999999999pt\" viewBox=\"-2.0 -42.26294 587.1999999999999 117.16293999999999\" style=\"background-color:white;\"><path d=\"M 0.0,-0.0 L 32.4,-0.0 L 35.099999999999994,-8.1 L 40.5,8.1 L 45.89999999999999,-8.1 L 51.3,8.1 L 56.699999999999996,-8.1 L 62.099999999999994,8.1 L 64.8,-0.0 L 97.19999999999999,-0.0\" style=\"stroke:black;fill:none;stroke-width:2;stroke-linecap:round;stroke-linejoin:round;\" /><path d=\"M 97.19999999999999,-0.0 L 129.6,-0.0 L 132.29999999999998,-8.1 L 137.7,8.1 L 143.09999999999997,-8.1 L 148.49999999999997,8.1 L 153.9,-8.1 L 159.29999999999998,8.1 L 162.0,-0.0 L 194.39999999999998,-0.0\" style=\"stroke:black;fill:none;stroke-width:2;stroke-linecap:round;stroke-linejoin:round;\" /><path d=\"M 194.39999999999998,-0.0 L 226.79999999999998,-0.0 L 229.49999999999997,-8.1 L 234.89999999999998,8.1 L 240.29999999999998,-8.1 L 245.7,8.1 L 251.1,-8.1 L 256.49999999999994,8.1 L 259.2,-0.0 L 291.59999999999997,-0.0\" style=\"stroke:black;fill:none;stroke-width:2;stroke-linecap:round;stroke-linejoin:round;\" /><path d=\"M 291.59999999999997,-0.0 L 324.0,-0.0 L 326.7,-8.1 L 332.09999999999997,8.1 L 337.49999999999994,-8.1 L 342.9,8.1 L 348.3,-8.1 L 353.7,8.1 L 356.4,-0.0 L 388.79999999999995,-0.0\" style=\"stroke:black;fill:none;stroke-width:2;stroke-linecap:round;stroke-linejoin:round;\" /><path d=\"M 388.79999999999995,-0.0 L 421.2,-0.0 L 423.9,-8.1 L 429.29999999999995,8.1 L 434.7,-8.1 L 440.1,8.1 L 445.5,-8.1 L 450.9,8.1 L 453.59999999999997,-0.0 L 486.0,-0.0\" style=\"stroke:black;fill:none;stroke-width:2;stroke-linecap:round;stroke-linejoin:round;\" /><path d=\"M 486.0,-0.0 L 518.4,-0.0 L 521.0999999999999,-8.1 L 526.5,8.1 L 531.9,-8.1 L 537.3,8.1 L 542.6999999999999,-8.1 L 548.1,8.1 L 550.8,-0.0 L 583.1999999999999,-0.0\" style=\"stroke:black;fill:none;stroke-width:2;stroke-linecap:round;stroke-linejoin:round;\" /><path d=\"M 0.0,64.8 L 32.4,64.8 L 35.099999999999994,56.699999999999996 L 40.5,72.89999999999999 L 45.89999999999999,56.699999999999996 L 51.3,72.89999999999999 L 56.699999999999996,56.699999999999996 L 62.099999999999994,72.89999999999999 L 64.8,64.8 L 97.19999999999999,64.8\" style=\"stroke:black;fill:none;stroke-width:2;stroke-linecap:round;stroke-linejoin:round;\" /><path d=\"M 97.19999999999999,64.8 L 129.6,64.8 L 132.29999999999998,56.699999999999996 L 137.7,72.89999999999999 L 143.09999999999997,56.699999999999996 L 148.49999999999997,72.89999999999999 L 153.9,56.699999999999996 L 159.29999999999998,72.89999999999999 L 162.0,64.8 L 194.39999999999998,64.8\" style=\"stroke:black;fill:none;stroke-width:2;stroke-linecap:round;stroke-linejoin:round;\" /><path d=\"M 194.39999999999998,64.8 L 226.79999999999998,64.8 L 229.49999999999997,56.699999999999996 L 234.89999999999998,72.89999999999999 L 240.29999999999998,56.699999999999996 L 245.7,72.89999999999999 L 251.1,56.699999999999996 L 256.49999999999994,72.89999999999999 L 259.2,64.8 L 291.59999999999997,64.8\" style=\"stroke:black;fill:none;stroke-width:2;stroke-linecap:round;stroke-linejoin:round;\" /><path d=\"M 291.59999999999997,64.8 L 324.0,64.8 L 326.7,56.699999999999996 L 332.09999999999997,72.89999999999999 L 337.49999999999994,56.699999999999996 L 342.9,72.89999999999999 L 348.3,56.699999999999996 L 353.7,72.89999999999999 L 356.4,64.8 L 388.79999999999995,64.8\" style=\"stroke:black;fill:none;stroke-width:2;stroke-linecap:round;stroke-linejoin:round;\" /><path d=\"M 388.79999999999995,64.8 L 421.2,64.8 L 423.9,56.699999999999996 L 429.29999999999995,72.89999999999999 L 434.7,56.699999999999996 L 440.1,72.89999999999999 L 445.5,56.699999999999996 L 450.9,72.89999999999999 L 453.59999999999997,64.8 L 486.0,64.8\" style=\"stroke:black;fill:none;stroke-width:2;stroke-linecap:round;stroke-linejoin:round;\" /><g><g><g><symbol id=\"STIXTwoMathRegular_3317\" width=\"7.296\" height=\"51.216\" viewBox=\"-0.108 -31.524 7.296 51.216\"><path d=\"M 6.948 -6.228 L 6.948 -6.228 Q 6.948 -5.592 6.708 -5.16 Q 6.468 -4.728 6.084 -4.452 Q 5.7 -4.176 5.262 -4.026 Q 4.824 -3.876 4.428 -3.804 L 4.428 -3.744 Q 4.644 -3.6 4.836 -3.306 Q 5.028 -3.012 5.31 -2.46 Q 5.592 -1.908 6.084 -0.972 Q 6.288 -0.612 6.534 -0.486 Q 6.78 -0.36 7.188 -0.36 L 7.116 0 L 5.292 0 Q 4.956 -0.744 4.728 -1.242 Q 4.5 -1.74 4.332 -2.076 Q 4.164 -2.412 4.038 -2.676 Q 3.912 -2.94 3.768 -3.216 Q 3.636 -3.468 3.48 -3.546 Q 3.324 -3.624 3 -3.624 L 2.748 -3.624 L 2.304 -1.488 Q 2.208 -0.996 2.238 -0.75 Q 2.268 -0.504 2.508 -0.432 Q 2.748 -0.36 3.264 -0.36 L 3.204 0 L -0.108 0 L -0.036 -0.36 Q 0.408 -0.36 0.648 -0.432 Q 0.888 -0.504 1.014 -0.744 Q 1.14 -0.984 1.236 -1.488 L 2.292 -6.636 Q 2.364 -6.972 2.328 -7.164 Q 2.292 -7.356 2.082 -7.44 Q 1.872 -7.524 1.392 -7.524 L 1.464 -7.884 L 4.284 -7.884 Q 5.544 -7.884 6.246 -7.494 Q 6.948 -7.104 6.948 -6.228 Z M 3.504 -7.38 L 3.504 -7.38 L 2.832 -4.068 L 3.204 -4.056 Q 3.924 -4.08 4.506 -4.29 Q 5.088 -4.5 5.424 -4.956 Q 5.76 -5.412 5.76 -6.18 Q 5.76 -6.504 5.622 -6.786 Q 5.484 -7.068 5.148 -7.242 Q 4.812 -7.416 4.212 -7.416 Q 3.984 -7.416 3.846 -7.41 Q 3.708 -7.404 3.504 -7.38 Z \" /></symbol><use href=\"#STIXTwoMathRegular_3317\" transform=\"translate(39.108 -53.158) scale(1.167)\" fill=\"black\" /><symbol id=\"STIXTwoMathRegular_1138\" width=\"5.112\" height=\"51.216\" viewBox=\"0 -31.524 5.112 51.216\"><path d=\"M 5.112 0 L 5.112 0 L 0.96 0 L 0.96 -0.336 Q 1.812 -0.336 2.16 -0.516 Q 2.508 -0.696 2.508 -1.14 L 2.508 -6.216 Q 2.508 -6.528 2.424 -6.666 Q 2.34 -6.804 2.112 -6.804 Q 1.932 -6.804 1.548 -6.756 Q 1.164 -6.708 0.888 -6.612 L 0.888 -7.008 L 3.216 -7.668 L 3.564 -7.668 L 3.564 -1.14 Q 3.564 -0.696 3.924 -0.516 Q 4.284 -0.336 5.112 -0.336 Z \" /></symbol><use href=\"#STIXTwoMathRegular_1138\" transform=\"translate(48.264 -39.185) scale(0.817)\" fill=\"black\" /><use href=\"#STIXTwoMathRegular_1138\" transform=\"translate(53.115 -39.185) scale(0.817)\" fill=\"black\" /></g></g></g><g><g><g><symbol id=\"STIXTwoMathRegular_3317\" width=\"7.296\" height=\"51.216\" viewBox=\"-0.108 -31.524 7.296 51.216\"><path d=\"M 6.948 -6.228 L 6.948 -6.228 Q 6.948 -5.592 6.708 -5.16 Q 6.468 -4.728 6.084 -4.452 Q 5.7 -4.176 5.262 -4.026 Q 4.824 -3.876 4.428 -3.804 L 4.428 -3.744 Q 4.644 -3.6 4.836 -3.306 Q 5.028 -3.012 5.31 -2.46 Q 5.592 -1.908 6.084 -0.972 Q 6.288 -0.612 6.534 -0.486 Q 6.78 -0.36 7.188 -0.36 L 7.116 0 L 5.292 0 Q 4.956 -0.744 4.728 -1.242 Q 4.5 -1.74 4.332 -2.076 Q 4.164 -2.412 4.038 -2.676 Q 3.912 -2.94 3.768 -3.216 Q 3.636 -3.468 3.48 -3.546 Q 3.324 -3.624 3 -3.624 L 2.748 -3.624 L 2.304 -1.488 Q 2.208 -0.996 2.238 -0.75 Q 2.268 -0.504 2.508 -0.432 Q 2.748 -0.36 3.264 -0.36 L 3.204 0 L -0.108 0 L -0.036 -0.36 Q 0.408 -0.36 0.648 -0.432 Q 0.888 -0.504 1.014 -0.744 Q 1.14 -0.984 1.236 -1.488 L 2.292 -6.636 Q 2.364 -6.972 2.328 -7.164 Q 2.292 -7.356 2.082 -7.44 Q 1.872 -7.524 1.392 -7.524 L 1.464 -7.884 L 4.284 -7.884 Q 5.544 -7.884 6.246 -7.494 Q 6.948 -7.104 6.948 -6.228 Z M 3.504 -7.38 L 3.504 -7.38 L 2.832 -4.068 L 3.204 -4.056 Q 3.924 -4.08 4.506 -4.29 Q 5.088 -4.5 5.424 -4.956 Q 5.76 -5.412 5.76 -6.18 Q 5.76 -6.504 5.622 -6.786 Q 5.484 -7.068 5.148 -7.242 Q 4.812 -7.416 4.212 -7.416 Q 3.984 -7.416 3.846 -7.41 Q 3.708 -7.404 3.504 -7.38 Z \" /></symbol><use href=\"#STIXTwoMathRegular_3317\" transform=\"translate(136.378 -50.218) scale(1.167)\" fill=\"black\" /><symbol id=\"STIXTwoMathRegular_1139\" width=\"5.568\" height=\"51.216\" viewBox=\"0 -31.524 5.568 51.216\"><path d=\"M 5.568 -1.92 L 5.568 -1.92 L 5.184 0 L 0.456 0 L 0.456 -0.408 L 2.28 -2.232 Q 2.88 -2.844 3.276 -3.342 Q 3.672 -3.84 3.87 -4.344 Q 4.068 -4.848 4.068 -5.472 Q 4.068 -6.144 3.666 -6.546 Q 3.264 -6.948 2.568 -6.948 Q 1.98 -6.948 1.566 -6.696 Q 1.152 -6.444 0.816 -5.772 L 0.528 -5.892 Q 0.804 -6.768 1.404 -7.248 Q 2.004 -7.728 2.88 -7.728 Q 3.564 -7.728 4.08 -7.47 Q 4.596 -7.212 4.89 -6.75 Q 5.184 -6.288 5.184 -5.652 Q 5.184 -5.124 4.962 -4.638 Q 4.74 -4.152 4.302 -3.636 Q 3.864 -3.12 3.228 -2.472 L 1.644 -0.972 L 1.644 -0.912 L 2.484 -0.948 L 4.152 -0.948 Q 4.632 -0.948 4.824 -1.164 Q 5.016 -1.38 5.22 -1.92 Z \" /></symbol><use href=\"#STIXTwoMathRegular_1139\" transform=\"translate(145.394 -44.225) scale(0.817)\" fill=\"black\" /><use href=\"#STIXTwoMathRegular_1139\" transform=\"translate(150.245 -44.225) scale(0.817)\" fill=\"black\" /></g></g></g><g><g><g><symbol id=\"STIXTwoMathRegular_892\" width=\"5.604\" height=\"51.216\" viewBox=\"0 -31.524 5.604 51.216\"><path d=\"M 5.604 -4.272 L 5.604 -4.272 Q 5.604 -2.088 4.908 -0.954 Q 4.212 0.18 3.108 0.18 Q 1.944 0.18 1.266 -0.948 Q 0.588 -2.076 0.588 -4.08 Q 0.588 -4.944 0.75 -5.742 Q 0.912 -6.54 1.242 -7.17 Q 1.572 -7.8 2.07 -8.172 Q 2.568 -8.544 3.228 -8.544 Q 3.84 -8.544 4.284 -8.196 Q 4.728 -7.848 5.022 -7.254 Q 5.316 -6.66 5.46 -5.892 Q 5.604 -5.124 5.604 -4.272 Z M 3.12 -0.864 L 3.12 -0.864 Q 3.984 -0.864 4.506 -1.71 Q 5.028 -2.556 4.992 -4.032 L 1.176 -4.032 Q 1.2 -3.444 1.308 -2.88 Q 1.416 -2.316 1.644 -1.86 Q 1.872 -1.404 2.238 -1.134 Q 2.604 -0.864 3.12 -0.864 Z M 3.192 -7.512 L 3.192 -7.512 Q 2.592 -7.512 2.154 -7.146 Q 1.716 -6.78 1.464 -6.144 Q 1.212 -5.508 1.176 -4.668 L 4.98 -4.668 Q 4.956 -5.16 4.854 -5.664 Q 4.752 -6.168 4.548 -6.588 Q 4.344 -7.008 4.014 -7.26 Q 3.684 -7.512 3.192 -7.512 Z \" /></symbol><use href=\"#STIXTwoMathRegular_892\" transform=\"translate(239.402 -50.428) scale(1.167)\" fill=\"black\" /></g></g></g><g><g><g><symbol id=\"STIXTwoMathRegular_3316\" width=\"8.22\" height=\"51.216\" viewBox=\"0 -31.524 8.22 51.216\"><path d=\"M 8.22 -4.908 L 8.22 -4.908 Q 8.22 -3.516 7.752 -2.502 Q 7.284 -1.488 6.498 -0.87 Q 5.712 -0.252 4.752 -0.036 L 4.752 0 Q 4.932 0.264 5.136 0.57 Q 5.34 0.876 5.628 1.14 Q 5.916 1.404 6.348 1.572 Q 6.78 1.74 7.428 1.74 L 7.368 2.076 L 6.768 2.076 Q 5.844 2.076 5.256 1.92 Q 4.668 1.764 4.326 1.44 Q 3.984 1.116 3.792 0.612 L 3.612 0.096 Q 2.208 0.012 1.47 -0.744 Q 0.732 -1.5 0.72 -3.024 Q 0.72 -4.104 1.056 -5.016 Q 1.392 -5.928 1.992 -6.606 Q 2.592 -7.284 3.408 -7.656 Q 4.224 -8.028 5.184 -8.028 Q 6.252 -8.028 6.924 -7.59 Q 7.596 -7.152 7.908 -6.438 Q 8.22 -5.724 8.22 -4.908 Z M 6.996 -4.98 L 6.996 -4.98 Q 6.996 -6.096 6.522 -6.804 Q 6.048 -7.512 5.004 -7.512 Q 4.2 -7.512 3.504 -6.966 Q 2.808 -6.42 2.382 -5.394 Q 1.956 -4.368 1.956 -2.916 Q 1.956 -1.764 2.394 -1.068 Q 2.832 -0.372 3.888 -0.372 Q 4.86 -0.372 5.556 -0.954 Q 6.252 -1.536 6.624 -2.574 Q 6.996 -3.612 6.996 -4.98 Z \" /></symbol><use href=\"#STIXTwoMathRegular_3316\" transform=\"translate(333.126 -55.58) scale(1.167)\" fill=\"black\" /><symbol id=\"STIXTwoMathRegular_1138\" width=\"5.112\" height=\"51.216\" viewBox=\"0 -31.524 5.112 51.216\"><path d=\"M 5.112 0 L 5.112 0 L 0.96 0 L 0.96 -0.336 Q 1.812 -0.336 2.16 -0.516 Q 2.508 -0.696 2.508 -1.14 L 2.508 -6.216 Q 2.508 -6.528 2.424 -6.666 Q 2.34 -6.804 2.112 -6.804 Q 1.932 -6.804 1.548 -6.756 Q 1.164 -6.708 0.888 -6.612 L 0.888 -7.008 L 3.216 -7.668 L 3.564 -7.668 L 3.564 -1.14 Q 3.564 -0.696 3.924 -0.516 Q 4.284 -0.336 5.112 -0.336 Z \" /></symbol><use href=\"#STIXTwoMathRegular_1138\" transform=\"translate(342.422 -39.185) scale(0.817)\" fill=\"black\" /><symbol id=\"STIXTwoMathRegular_1082\" width=\"11.28\" height=\"51.216\" viewBox=\"0 -31.524 11.28 51.216\"><path d=\"M 11.28 -2.664 L 11.28 -2.664 L 0 -2.664 L 0 -3.348 L 11.28 -3.348 Z \" /></symbol><use href=\"#STIXTwoMathRegular_1082\" transform=\"translate(335.594 -54.187) scale(0.817)\" fill=\"black\" /></g></g></g><g><g><g><symbol id=\"STIXTwoMathRegular_3317\" width=\"7.296\" height=\"51.216\" viewBox=\"-0.108 -31.524 7.296 51.216\"><path d=\"M 6.948 -6.228 L 6.948 -6.228 Q 6.948 -5.592 6.708 -5.16 Q 6.468 -4.728 6.084 -4.452 Q 5.7 -4.176 5.262 -4.026 Q 4.824 -3.876 4.428 -3.804 L 4.428 -3.744 Q 4.644 -3.6 4.836 -3.306 Q 5.028 -3.012 5.31 -2.46 Q 5.592 -1.908 6.084 -0.972 Q 6.288 -0.612 6.534 -0.486 Q 6.78 -0.36 7.188 -0.36 L 7.116 0 L 5.292 0 Q 4.956 -0.744 4.728 -1.242 Q 4.5 -1.74 4.332 -2.076 Q 4.164 -2.412 4.038 -2.676 Q 3.912 -2.94 3.768 -3.216 Q 3.636 -3.468 3.48 -3.546 Q 3.324 -3.624 3 -3.624 L 2.748 -3.624 L 2.304 -1.488 Q 2.208 -0.996 2.238 -0.75 Q 2.268 -0.504 2.508 -0.432 Q 2.748 -0.36 3.264 -0.36 L 3.204 0 L -0.108 0 L -0.036 -0.36 Q 0.408 -0.36 0.648 -0.432 Q 0.888 -0.504 1.014 -0.744 Q 1.14 -0.984 1.236 -1.488 L 2.292 -6.636 Q 2.364 -6.972 2.328 -7.164 Q 2.292 -7.356 2.082 -7.44 Q 1.872 -7.524 1.392 -7.524 L 1.464 -7.884 L 4.284 -7.884 Q 5.544 -7.884 6.246 -7.494 Q 6.948 -7.104 6.948 -6.228 Z M 3.504 -7.38 L 3.504 -7.38 L 2.832 -4.068 L 3.204 -4.056 Q 3.924 -4.08 4.506 -4.29 Q 5.088 -4.5 5.424 -4.956 Q 5.76 -5.412 5.76 -6.18 Q 5.76 -6.504 5.622 -6.786 Q 5.484 -7.068 5.148 -7.242 Q 4.812 -7.416 4.212 -7.416 Q 3.984 -7.416 3.846 -7.41 Q 3.708 -7.404 3.504 -7.38 Z \" /></symbol><use href=\"#STIXTwoMathRegular_3317\" transform=\"translate(430.334 -53.158) scale(1.167)\" fill=\"black\" /><symbol id=\"STIXTwoMathRegular_1138\" width=\"5.112\" height=\"51.216\" viewBox=\"0 -31.524 5.112 51.216\"><path d=\"M 5.112 0 L 5.112 0 L 0.96 0 L 0.96 -0.336 Q 1.812 -0.336 2.16 -0.516 Q 2.508 -0.696 2.508 -1.14 L 2.508 -6.216 Q 2.508 -6.528 2.424 -6.666 Q 2.34 -6.804 2.112 -6.804 Q 1.932 -6.804 1.548 -6.756 Q 1.164 -6.708 0.888 -6.612 L 0.888 -7.008 L 3.216 -7.668 L 3.564 -7.668 L 3.564 -1.14 Q 3.564 -0.696 3.924 -0.516 Q 4.284 -0.336 5.112 -0.336 Z \" /></symbol><use href=\"#STIXTwoMathRegular_1138\" transform=\"translate(439.489 -39.185) scale(0.817)\" fill=\"black\" /></g></g></g><g><g><g><symbol id=\"STIXTwoMathRegular_1657\" width=\"9.948\" height=\"51.216\" viewBox=\"0 -31.524 9.948 51.216\"><path d=\"M 8.004 -11.064 L 8.004 -11.064 L 9.948 -11.064 L 9.948 -10.248 L 8.556 -10.248 L 4.956 3.18 L 4.452 3.18 L 1.656 -3.828 L 0.408 -3.348 L 0.216 -3.684 L 2.124 -5.004 L 2.364 -5.004 L 4.74 1.116 L 4.788 1.116 Z \" /></symbol><use href=\"#STIXTwoMathRegular_1657\" transform=\"translate(524.814 -53.928) scale(1.167)\" fill=\"black\" /><symbol id=\"STIXTwoMathRegular_3354\" width=\"6.48\" height=\"51.216\" viewBox=\"0 -31.524 6.48 51.216\"><path d=\"M 3.78 -3.576 L 3.78 -3.576 L 4.368 -4.584 Q 4.608 -5.016 4.98 -5.382 Q 5.352 -5.748 5.88 -5.748 Q 6.228 -5.748 6.354 -5.61 Q 6.48 -5.472 6.48 -5.22 Q 6.48 -5.004 6.324 -4.83 Q 6.168 -4.656 5.928 -4.656 Q 5.784 -4.656 5.604 -4.716 Q 5.424 -4.776 5.304 -4.776 Q 5.1 -4.776 4.956 -4.65 Q 4.812 -4.524 4.656 -4.272 L 3.924 -3.108 L 4.176 -2.292 Q 4.428 -1.464 4.638 -1.104 Q 4.848 -0.744 5.124 -0.744 Q 5.364 -0.744 5.556 -0.918 Q 5.748 -1.092 5.988 -1.416 L 6.24 -1.224 Q 6.072 -0.96 5.838 -0.648 Q 5.604 -0.336 5.292 -0.108 Q 4.98 0.12 4.572 0.12 Q 4.164 0.12 3.942 -0.204 Q 3.72 -0.528 3.588 -1.116 L 3.288 -2.328 L 3.24 -2.328 L 2.472 -1.08 Q 2.184 -0.612 1.848 -0.252 Q 1.512 0.108 0.972 0.108 Q 0.588 0.108 0.432 -0.072 Q 0.276 -0.252 0.276 -0.48 Q 0.276 -0.66 0.402 -0.822 Q 0.528 -0.984 0.744 -0.984 Q 0.948 -0.984 1.146 -0.906 Q 1.344 -0.828 1.5 -0.828 Q 1.524 -0.828 1.608 -0.858 Q 1.692 -0.888 1.848 -1.032 Q 2.004 -1.176 2.232 -1.512 L 3.096 -2.772 L 2.76 -3.864 Q 2.604 -4.368 2.448 -4.656 Q 2.292 -4.944 2.064 -5.07 Q 1.836 -5.196 1.44 -5.184 Q 1.296 -5.184 1.182 -5.166 Q 1.068 -5.148 1.068 -5.148 L 1.068 -5.508 L 2.736 -5.7 L 2.916 -5.7 Q 3.132 -5.448 3.306 -5.064 Q 3.48 -4.68 3.6 -4.188 L 3.744 -3.576 Z \" /></symbol><use href=\"#STIXTwoMathRegular_3354\" transform=\"translate(536.42 -53.928) scale(1.167)\" fill=\"black\" /><rect x=\"536.42\" y=\"-30.058\" width=\"7.966\" height=\"0.952\" fill=\"black\" /></g></g></g><g><g><g><symbol id=\"STIXTwoMathRegular_868\" width=\"8.772\" height=\"51.216\" viewBox=\"0 -31.524 8.772 51.216\"><path d=\"M 8.496 0 L 8.496 0 L 5.364 0 L 5.364 -0.864 Q 5.928 -1.32 6.318 -1.95 Q 6.708 -2.58 6.906 -3.282 Q 7.104 -3.984 7.104 -4.644 Q 7.104 -6 6.456 -6.762 Q 5.808 -7.524 4.704 -7.524 Q 3.564 -7.524 2.904 -6.75 Q 2.244 -5.976 2.244 -4.644 Q 2.244 -3.996 2.436 -3.282 Q 2.628 -2.568 3.018 -1.932 Q 3.408 -1.296 3.984 -0.852 L 3.984 0 L 0.816 0 L 0.564 -2.124 L 0.912 -2.124 Q 1.02 -1.716 1.122 -1.464 Q 1.224 -1.212 1.41 -1.092 Q 1.596 -0.972 1.932 -0.972 L 3.024 -0.972 L 3.024 -1.044 Q 2.688 -1.296 2.322 -1.626 Q 1.956 -1.956 1.644 -2.388 Q 1.332 -2.82 1.14 -3.39 Q 0.948 -3.96 0.948 -4.692 Q 0.948 -5.688 1.428 -6.438 Q 1.908 -7.188 2.76 -7.608 Q 3.612 -8.028 4.716 -8.028 Q 5.832 -8.028 6.66 -7.608 Q 7.488 -7.188 7.944 -6.438 Q 8.4 -5.688 8.4 -4.704 Q 8.4 -3.972 8.196 -3.402 Q 7.992 -2.832 7.674 -2.394 Q 7.356 -1.956 7.002 -1.626 Q 6.648 -1.296 6.336 -1.044 L 6.336 -0.972 L 7.344 -0.972 Q 7.704 -0.972 7.89 -1.092 Q 8.076 -1.212 8.19 -1.47 Q 8.304 -1.728 8.424 -2.124 L 8.772 -2.124 Z \" /></symbol><use href=\"#STIXTwoMathRegular_868\" transform=\"translate(43.161 14.582) scale(1.167)\" fill=\"black\" /></g></g></g><g><g><g><symbol id=\"STIXTwoMathRegular_1681\" width=\"7.896\" height=\"51.216\" viewBox=\"0 -31.524 7.896 51.216\"><path d=\"M 7.896 0 L 7.896 0 L 0.276 0 L 6.984 -6.72 L 7.608 -6.204 L 2.232 -0.804 L 7.896 -0.804 Z \" /></symbol><use href=\"#STIXTwoMathRegular_1681\" transform=\"translate(140.893 14.582) scale(1.167)\" fill=\"black\" /></g></g></g><g><g><g><symbol id=\"STIXTwoMathRegular_4244\" width=\"3.756\" height=\"51.216\" viewBox=\"0 -31.524 3.756 51.216\"><path d=\"M 3.756 0 L 3.756 0 L 2.76 0 L 2.76 -6.348 L 1.212 -6.348 L 1.212 -6.996 Q 1.848 -7.092 2.256 -7.23 Q 2.664 -7.368 3 -7.56 L 3.756 -7.56 Z \" /></symbol><use href=\"#STIXTwoMathRegular_4244\" transform=\"translate(231.044 14.288) scale(1.167)\" fill=\"black\" /><symbol id=\"STIXTwoMathRegular_4243\" width=\"5.556\" height=\"51.216\" viewBox=\"0 -31.524 5.556 51.216\"><path d=\"M 3.048 0.144 L 3.048 0.144 Q 1.884 0.144 1.218 -0.882 Q 0.552 -1.908 0.552 -3.804 Q 0.552 -5.712 1.218 -6.702 Q 1.884 -7.692 3.048 -7.692 Q 4.224 -7.692 4.89 -6.696 Q 5.556 -5.7 5.556 -3.804 Q 5.556 -1.908 4.89 -0.882 Q 4.224 0.144 3.048 0.144 Z M 3.048 -0.672 L 3.048 -0.672 Q 3.732 -0.672 4.152 -1.41 Q 4.572 -2.148 4.572 -3.804 Q 4.572 -5.46 4.152 -6.174 Q 3.732 -6.888 3.048 -6.888 Q 2.376 -6.888 1.95 -6.174 Q 1.524 -5.46 1.524 -3.804 Q 1.524 -2.148 1.95 -1.41 Q 2.376 -0.672 3.048 -0.672 Z \" /></symbol><use href=\"#STIXTwoMathRegular_4243\" transform=\"translate(238.156 14.288) scale(1.167)\" fill=\"black\" /><symbol id=\"STIXTwoMathRegular_1193\" width=\"7.764\" height=\"51.216\" viewBox=\"0 -31.524 7.764 51.216\"><path d=\"M 7.032 -7.992 L 7.032 -7.992 L 2.172 0.252 L 1.596 0.252 L 5.88 -6.984 L 5.82 -6.984 Q 5.52 -6.78 5.238 -6.69 Q 4.956 -6.6 4.584 -6.6 Q 4.368 -6.6 4.206 -6.636 Q 4.044 -6.672 3.768 -6.792 L 3.744 -6.768 Q 3.78 -6.636 3.804 -6.468 Q 3.828 -6.3 3.828 -6.096 Q 3.828 -5.436 3.57 -4.884 Q 3.312 -4.332 2.862 -4.008 Q 2.412 -3.684 1.836 -3.684 Q 1.224 -3.684 0.882 -4.086 Q 0.54 -4.488 0.54 -5.244 Q 0.54 -5.928 0.804 -6.468 Q 1.068 -7.008 1.524 -7.326 Q 1.98 -7.644 2.532 -7.644 Q 2.88 -7.644 3.126 -7.536 Q 3.372 -7.428 3.588 -7.284 Q 3.804 -7.14 4.074 -7.032 Q 4.344 -6.924 4.74 -6.924 Q 5.016 -6.924 5.25 -7.008 Q 5.484 -7.092 5.772 -7.326 Q 6.06 -7.56 6.492 -7.992 Z M 7.764 -2.184 L 7.764 -2.184 Q 7.764 -1.512 7.506 -0.96 Q 7.248 -0.408 6.804 -0.084 Q 6.36 0.24 5.784 0.24 Q 5.172 0.24 4.824 -0.162 Q 4.476 -0.564 4.476 -1.332 Q 4.476 -2.016 4.734 -2.556 Q 4.992 -3.096 5.448 -3.408 Q 5.904 -3.72 6.48 -3.72 Q 7.104 -3.72 7.434 -3.324 Q 7.764 -2.928 7.764 -2.184 Z M 7.356 -2.268 L 7.356 -2.268 Q 7.356 -3.396 6.612 -3.396 Q 6.24 -3.396 5.946 -3.114 Q 5.652 -2.832 5.478 -2.346 Q 5.304 -1.86 5.304 -1.248 Q 5.304 -0.684 5.466 -0.42 Q 5.628 -0.156 5.964 -0.156 Q 6.348 -0.156 6.66 -0.444 Q 6.972 -0.732 7.164 -1.218 Q 7.356 -1.704 7.356 -2.268 Z M 3.42 -6.192 L 3.42 -6.192 Q 3.42 -7.32 2.676 -7.32 Q 2.304 -7.32 2.01 -7.038 Q 1.716 -6.756 1.542 -6.27 Q 1.368 -5.784 1.368 -5.172 Q 1.368 -4.608 1.53 -4.344 Q 1.692 -4.08 2.028 -4.08 Q 2.412 -4.08 2.724 -4.368 Q 3.036 -4.656 3.228 -5.142 Q 3.42 -5.628 3.42 -6.192 Z \" /></symbol><use href=\"#STIXTwoMathRegular_1193\" transform=\"translate(245.268 14.288) scale(1.167)\" fill=\"black\" /></g></g></g><g><g><g><symbol id=\"STIXTwoMathRegular_3317\" width=\"7.296\" height=\"51.216\" viewBox=\"-0.108 -31.524 7.296 51.216\"><path d=\"M 6.948 -6.228 L 6.948 -6.228 Q 6.948 -5.592 6.708 -5.16 Q 6.468 -4.728 6.084 -4.452 Q 5.7 -4.176 5.262 -4.026 Q 4.824 -3.876 4.428 -3.804 L 4.428 -3.744 Q 4.644 -3.6 4.836 -3.306 Q 5.028 -3.012 5.31 -2.46 Q 5.592 -1.908 6.084 -0.972 Q 6.288 -0.612 6.534 -0.486 Q 6.78 -0.36 7.188 -0.36 L 7.116 0 L 5.292 0 Q 4.956 -0.744 4.728 -1.242 Q 4.5 -1.74 4.332 -2.076 Q 4.164 -2.412 4.038 -2.676 Q 3.912 -2.94 3.768 -3.216 Q 3.636 -3.468 3.48 -3.546 Q 3.324 -3.624 3 -3.624 L 2.748 -3.624 L 2.304 -1.488 Q 2.208 -0.996 2.238 -0.75 Q 2.268 -0.504 2.508 -0.432 Q 2.748 -0.36 3.264 -0.36 L 3.204 0 L -0.108 0 L -0.036 -0.36 Q 0.408 -0.36 0.648 -0.432 Q 0.888 -0.504 1.014 -0.744 Q 1.14 -0.984 1.236 -1.488 L 2.292 -6.636 Q 2.364 -6.972 2.328 -7.164 Q 2.292 -7.356 2.082 -7.44 Q 1.872 -7.524 1.392 -7.524 L 1.464 -7.884 L 4.284 -7.884 Q 5.544 -7.884 6.246 -7.494 Q 6.948 -7.104 6.948 -6.228 Z M 3.504 -7.38 L 3.504 -7.38 L 2.832 -4.068 L 3.204 -4.056 Q 3.924 -4.08 4.506 -4.29 Q 5.088 -4.5 5.424 -4.956 Q 5.76 -5.412 5.76 -6.18 Q 5.76 -6.504 5.622 -6.786 Q 5.484 -7.068 5.148 -7.242 Q 4.812 -7.416 4.212 -7.416 Q 3.984 -7.416 3.846 -7.41 Q 3.708 -7.404 3.504 -7.38 Z \" /></symbol><use href=\"#STIXTwoMathRegular_3317\" transform=\"translate(333.204 14.582) scale(1.167)\" fill=\"black\" /><symbol id=\"STIXTwoMathRegular_1139\" width=\"5.568\" height=\"51.216\" viewBox=\"0 -31.524 5.568 51.216\"><path d=\"M 5.568 -1.92 L 5.568 -1.92 L 5.184 0 L 0.456 0 L 0.456 -0.408 L 2.28 -2.232 Q 2.88 -2.844 3.276 -3.342 Q 3.672 -3.84 3.87 -4.344 Q 4.068 -4.848 4.068 -5.472 Q 4.068 -6.144 3.666 -6.546 Q 3.264 -6.948 2.568 -6.948 Q 1.98 -6.948 1.566 -6.696 Q 1.152 -6.444 0.816 -5.772 L 0.528 -5.892 Q 0.804 -6.768 1.404 -7.248 Q 2.004 -7.728 2.88 -7.728 Q 3.564 -7.728 4.08 -7.47 Q 4.596 -7.212 4.89 -6.75 Q 5.184 -6.288 5.184 -5.652 Q 5.184 -5.124 4.962 -4.638 Q 4.74 -4.152 4.302 -3.636 Q 3.864 -3.12 3.228 -2.472 L 1.644 -0.972 L 1.644 -0.912 L 2.484 -0.948 L 4.152 -0.948 Q 4.632 -0.948 4.824 -1.164 Q 5.016 -1.38 5.22 -1.92 Z \" /></symbol><use href=\"#STIXTwoMathRegular_1139\" transform=\"translate(342.219 20.575) scale(0.817)\" fill=\"black\" /></g></g></g><g><g><g><symbol id=\"STIXTwoMathRegular_3317\" width=\"7.296\" height=\"51.216\" viewBox=\"-0.108 -31.524 7.296 51.216\"><path d=\"M 6.948 -6.228 L 6.948 -6.228 Q 6.948 -5.592 6.708 -5.16 Q 6.468 -4.728 6.084 -4.452 Q 5.7 -4.176 5.262 -4.026 Q 4.824 -3.876 4.428 -3.804 L 4.428 -3.744 Q 4.644 -3.6 4.836 -3.306 Q 5.028 -3.012 5.31 -2.46 Q 5.592 -1.908 6.084 -0.972 Q 6.288 -0.612 6.534 -0.486 Q 6.78 -0.36 7.188 -0.36 L 7.116 0 L 5.292 0 Q 4.956 -0.744 4.728 -1.242 Q 4.5 -1.74 4.332 -2.076 Q 4.164 -2.412 4.038 -2.676 Q 3.912 -2.94 3.768 -3.216 Q 3.636 -3.468 3.48 -3.546 Q 3.324 -3.624 3 -3.624 L 2.748 -3.624 L 2.304 -1.488 Q 2.208 -0.996 2.238 -0.75 Q 2.268 -0.504 2.508 -0.432 Q 2.748 -0.36 3.264 -0.36 L 3.204 0 L -0.108 0 L -0.036 -0.36 Q 0.408 -0.36 0.648 -0.432 Q 0.888 -0.504 1.014 -0.744 Q 1.14 -0.984 1.236 -1.488 L 2.292 -6.636 Q 2.364 -6.972 2.328 -7.164 Q 2.292 -7.356 2.082 -7.44 Q 1.872 -7.524 1.392 -7.524 L 1.464 -7.884 L 4.284 -7.884 Q 5.544 -7.884 6.246 -7.494 Q 6.948 -7.104 6.948 -6.228 Z M 3.504 -7.38 L 3.504 -7.38 L 2.832 -4.068 L 3.204 -4.056 Q 3.924 -4.08 4.506 -4.29 Q 5.088 -4.5 5.424 -4.956 Q 5.76 -5.412 5.76 -6.18 Q 5.76 -6.504 5.622 -6.786 Q 5.484 -7.068 5.148 -7.242 Q 4.812 -7.416 4.212 -7.416 Q 3.984 -7.416 3.846 -7.41 Q 3.708 -7.404 3.504 -7.38 Z \" /></symbol><use href=\"#STIXTwoMathRegular_3317\" transform=\"translate(430.334 11.642) scale(1.167)\" fill=\"black\" /><symbol id=\"STIXTwoMathRegular_1139\" width=\"5.568\" height=\"51.216\" viewBox=\"0 -31.524 5.568 51.216\"><path d=\"M 5.568 -1.92 L 5.568 -1.92 L 5.184 0 L 0.456 0 L 0.456 -0.408 L 2.28 -2.232 Q 2.88 -2.844 3.276 -3.342 Q 3.672 -3.84 3.87 -4.344 Q 4.068 -4.848 4.068 -5.472 Q 4.068 -6.144 3.666 -6.546 Q 3.264 -6.948 2.568 -6.948 Q 1.98 -6.948 1.566 -6.696 Q 1.152 -6.444 0.816 -5.772 L 0.528 -5.892 Q 0.804 -6.768 1.404 -7.248 Q 2.004 -7.728 2.88 -7.728 Q 3.564 -7.728 4.08 -7.47 Q 4.596 -7.212 4.89 -6.75 Q 5.184 -6.288 5.184 -5.652 Q 5.184 -5.124 4.962 -4.638 Q 4.74 -4.152 4.302 -3.636 Q 3.864 -3.12 3.228 -2.472 L 1.644 -0.972 L 1.644 -0.912 L 2.484 -0.948 L 4.152 -0.948 Q 4.632 -0.948 4.824 -1.164 Q 5.016 -1.38 5.22 -1.92 Z \" /></symbol><use href=\"#STIXTwoMathRegular_1139\" transform=\"translate(439.489 25.615) scale(0.817)\" fill=\"black\" /></g></g></g></svg>"
      ],
      "text/plain": [
       "<svg xmlns=\"http://www.w3.org/2000/svg\" xml:lang=\"en\" height=\"117.16293999999999pt\" width=\"587.1999999999999pt\" viewBox=\"-2.0 -42.26294 587.1999999999999 117.16293999999999\" style=\"background-color:white;\"><path d=\"M 0.0,-0.0 L 32.4,-0.0 L 35.099999999999994,-8.1 L 40.5,8.1 L 45.89999999999999,-8.1 L 51.3,8.1 L 56.699999999999996,-8.1 L 62.099999999999994,8.1 L 64.8,-0.0 L 97.19999999999999,-0.0\" style=\"stroke:black;fill:none;stroke-width:2;stroke-linecap:round;stroke-linejoin:round;\" /><path d=\"M 97.19999999999999,-0.0 L 129.6,-0.0 L 132.29999999999998,-8.1 L 137.7,8.1 L 143.09999999999997,-8.1 L 148.49999999999997,8.1 L 153.9,-8.1 L 159.29999999999998,8.1 L 162.0,-0.0 L 194.39999999999998,-0.0\" style=\"stroke:black;fill:none;stroke-width:2;stroke-linecap:round;stroke-linejoin:round;\" /><path d=\"M 194.39999999999998,-0.0 L 226.79999999999998,-0.0 L 229.49999999999997,-8.1 L 234.89999999999998,8.1 L 240.29999999999998,-8.1 L 245.7,8.1 L 251.1,-8.1 L 256.49999999999994,8.1 L 259.2,-0.0 L 291.59999999999997,-0.0\" style=\"stroke:black;fill:none;stroke-width:2;stroke-linecap:round;stroke-linejoin:round;\" /><path d=\"M 291.59999999999997,-0.0 L 324.0,-0.0 L 326.7,-8.1 L 332.09999999999997,8.1 L 337.49999999999994,-8.1 L 342.9,8.1 L 348.3,-8.1 L 353.7,8.1 L 356.4,-0.0 L 388.79999999999995,-0.0\" style=\"stroke:black;fill:none;stroke-width:2;stroke-linecap:round;stroke-linejoin:round;\" /><path d=\"M 388.79999999999995,-0.0 L 421.2,-0.0 L 423.9,-8.1 L 429.29999999999995,8.1 L 434.7,-8.1 L 440.1,8.1 L 445.5,-8.1 L 450.9,8.1 L 453.59999999999997,-0.0 L 486.0,-0.0\" style=\"stroke:black;fill:none;stroke-width:2;stroke-linecap:round;stroke-linejoin:round;\" /><path d=\"M 486.0,-0.0 L 518.4,-0.0 L 521.0999999999999,-8.1 L 526.5,8.1 L 531.9,-8.1 L 537.3,8.1 L 542.6999999999999,-8.1 L 548.1,8.1 L 550.8,-0.0 L 583.1999999999999,-0.0\" style=\"stroke:black;fill:none;stroke-width:2;stroke-linecap:round;stroke-linejoin:round;\" /><path d=\"M 0.0,64.8 L 32.4,64.8 L 35.099999999999994,56.699999999999996 L 40.5,72.89999999999999 L 45.89999999999999,56.699999999999996 L 51.3,72.89999999999999 L 56.699999999999996,56.699999999999996 L 62.099999999999994,72.89999999999999 L 64.8,64.8 L 97.19999999999999,64.8\" style=\"stroke:black;fill:none;stroke-width:2;stroke-linecap:round;stroke-linejoin:round;\" /><path d=\"M 97.19999999999999,64.8 L 129.6,64.8 L 132.29999999999998,56.699999999999996 L 137.7,72.89999999999999 L 143.09999999999997,56.699999999999996 L 148.49999999999997,72.89999999999999 L 153.9,56.699999999999996 L 159.29999999999998,72.89999999999999 L 162.0,64.8 L 194.39999999999998,64.8\" style=\"stroke:black;fill:none;stroke-width:2;stroke-linecap:round;stroke-linejoin:round;\" /><path d=\"M 194.39999999999998,64.8 L 226.79999999999998,64.8 L 229.49999999999997,56.699999999999996 L 234.89999999999998,72.89999999999999 L 240.29999999999998,56.699999999999996 L 245.7,72.89999999999999 L 251.1,56.699999999999996 L 256.49999999999994,72.89999999999999 L 259.2,64.8 L 291.59999999999997,64.8\" style=\"stroke:black;fill:none;stroke-width:2;stroke-linecap:round;stroke-linejoin:round;\" /><path d=\"M 291.59999999999997,64.8 L 324.0,64.8 L 326.7,56.699999999999996 L 332.09999999999997,72.89999999999999 L 337.49999999999994,56.699999999999996 L 342.9,72.89999999999999 L 348.3,56.699999999999996 L 353.7,72.89999999999999 L 356.4,64.8 L 388.79999999999995,64.8\" style=\"stroke:black;fill:none;stroke-width:2;stroke-linecap:round;stroke-linejoin:round;\" /><path d=\"M 388.79999999999995,64.8 L 421.2,64.8 L 423.9,56.699999999999996 L 429.29999999999995,72.89999999999999 L 434.7,56.699999999999996 L 440.1,72.89999999999999 L 445.5,56.699999999999996 L 450.9,72.89999999999999 L 453.59999999999997,64.8 L 486.0,64.8\" style=\"stroke:black;fill:none;stroke-width:2;stroke-linecap:round;stroke-linejoin:round;\" /><g><g><g><symbol id=\"STIXTwoMathRegular_3317\" width=\"7.296\" height=\"51.216\" viewBox=\"-0.108 -31.524 7.296 51.216\"><path d=\"M 6.948 -6.228 L 6.948 -6.228 Q 6.948 -5.592 6.708 -5.16 Q 6.468 -4.728 6.084 -4.452 Q 5.7 -4.176 5.262 -4.026 Q 4.824 -3.876 4.428 -3.804 L 4.428 -3.744 Q 4.644 -3.6 4.836 -3.306 Q 5.028 -3.012 5.31 -2.46 Q 5.592 -1.908 6.084 -0.972 Q 6.288 -0.612 6.534 -0.486 Q 6.78 -0.36 7.188 -0.36 L 7.116 0 L 5.292 0 Q 4.956 -0.744 4.728 -1.242 Q 4.5 -1.74 4.332 -2.076 Q 4.164 -2.412 4.038 -2.676 Q 3.912 -2.94 3.768 -3.216 Q 3.636 -3.468 3.48 -3.546 Q 3.324 -3.624 3 -3.624 L 2.748 -3.624 L 2.304 -1.488 Q 2.208 -0.996 2.238 -0.75 Q 2.268 -0.504 2.508 -0.432 Q 2.748 -0.36 3.264 -0.36 L 3.204 0 L -0.108 0 L -0.036 -0.36 Q 0.408 -0.36 0.648 -0.432 Q 0.888 -0.504 1.014 -0.744 Q 1.14 -0.984 1.236 -1.488 L 2.292 -6.636 Q 2.364 -6.972 2.328 -7.164 Q 2.292 -7.356 2.082 -7.44 Q 1.872 -7.524 1.392 -7.524 L 1.464 -7.884 L 4.284 -7.884 Q 5.544 -7.884 6.246 -7.494 Q 6.948 -7.104 6.948 -6.228 Z M 3.504 -7.38 L 3.504 -7.38 L 2.832 -4.068 L 3.204 -4.056 Q 3.924 -4.08 4.506 -4.29 Q 5.088 -4.5 5.424 -4.956 Q 5.76 -5.412 5.76 -6.18 Q 5.76 -6.504 5.622 -6.786 Q 5.484 -7.068 5.148 -7.242 Q 4.812 -7.416 4.212 -7.416 Q 3.984 -7.416 3.846 -7.41 Q 3.708 -7.404 3.504 -7.38 Z \" /></symbol><use href=\"#STIXTwoMathRegular_3317\" transform=\"translate(39.108 -53.158) scale(1.167)\" fill=\"black\" /><symbol id=\"STIXTwoMathRegular_1138\" width=\"5.112\" height=\"51.216\" viewBox=\"0 -31.524 5.112 51.216\"><path d=\"M 5.112 0 L 5.112 0 L 0.96 0 L 0.96 -0.336 Q 1.812 -0.336 2.16 -0.516 Q 2.508 -0.696 2.508 -1.14 L 2.508 -6.216 Q 2.508 -6.528 2.424 -6.666 Q 2.34 -6.804 2.112 -6.804 Q 1.932 -6.804 1.548 -6.756 Q 1.164 -6.708 0.888 -6.612 L 0.888 -7.008 L 3.216 -7.668 L 3.564 -7.668 L 3.564 -1.14 Q 3.564 -0.696 3.924 -0.516 Q 4.284 -0.336 5.112 -0.336 Z \" /></symbol><use href=\"#STIXTwoMathRegular_1138\" transform=\"translate(48.264 -39.185) scale(0.817)\" fill=\"black\" /><use href=\"#STIXTwoMathRegular_1138\" transform=\"translate(53.115 -39.185) scale(0.817)\" fill=\"black\" /></g></g></g><g><g><g><symbol id=\"STIXTwoMathRegular_3317\" width=\"7.296\" height=\"51.216\" viewBox=\"-0.108 -31.524 7.296 51.216\"><path d=\"M 6.948 -6.228 L 6.948 -6.228 Q 6.948 -5.592 6.708 -5.16 Q 6.468 -4.728 6.084 -4.452 Q 5.7 -4.176 5.262 -4.026 Q 4.824 -3.876 4.428 -3.804 L 4.428 -3.744 Q 4.644 -3.6 4.836 -3.306 Q 5.028 -3.012 5.31 -2.46 Q 5.592 -1.908 6.084 -0.972 Q 6.288 -0.612 6.534 -0.486 Q 6.78 -0.36 7.188 -0.36 L 7.116 0 L 5.292 0 Q 4.956 -0.744 4.728 -1.242 Q 4.5 -1.74 4.332 -2.076 Q 4.164 -2.412 4.038 -2.676 Q 3.912 -2.94 3.768 -3.216 Q 3.636 -3.468 3.48 -3.546 Q 3.324 -3.624 3 -3.624 L 2.748 -3.624 L 2.304 -1.488 Q 2.208 -0.996 2.238 -0.75 Q 2.268 -0.504 2.508 -0.432 Q 2.748 -0.36 3.264 -0.36 L 3.204 0 L -0.108 0 L -0.036 -0.36 Q 0.408 -0.36 0.648 -0.432 Q 0.888 -0.504 1.014 -0.744 Q 1.14 -0.984 1.236 -1.488 L 2.292 -6.636 Q 2.364 -6.972 2.328 -7.164 Q 2.292 -7.356 2.082 -7.44 Q 1.872 -7.524 1.392 -7.524 L 1.464 -7.884 L 4.284 -7.884 Q 5.544 -7.884 6.246 -7.494 Q 6.948 -7.104 6.948 -6.228 Z M 3.504 -7.38 L 3.504 -7.38 L 2.832 -4.068 L 3.204 -4.056 Q 3.924 -4.08 4.506 -4.29 Q 5.088 -4.5 5.424 -4.956 Q 5.76 -5.412 5.76 -6.18 Q 5.76 -6.504 5.622 -6.786 Q 5.484 -7.068 5.148 -7.242 Q 4.812 -7.416 4.212 -7.416 Q 3.984 -7.416 3.846 -7.41 Q 3.708 -7.404 3.504 -7.38 Z \" /></symbol><use href=\"#STIXTwoMathRegular_3317\" transform=\"translate(136.378 -50.218) scale(1.167)\" fill=\"black\" /><symbol id=\"STIXTwoMathRegular_1139\" width=\"5.568\" height=\"51.216\" viewBox=\"0 -31.524 5.568 51.216\"><path d=\"M 5.568 -1.92 L 5.568 -1.92 L 5.184 0 L 0.456 0 L 0.456 -0.408 L 2.28 -2.232 Q 2.88 -2.844 3.276 -3.342 Q 3.672 -3.84 3.87 -4.344 Q 4.068 -4.848 4.068 -5.472 Q 4.068 -6.144 3.666 -6.546 Q 3.264 -6.948 2.568 -6.948 Q 1.98 -6.948 1.566 -6.696 Q 1.152 -6.444 0.816 -5.772 L 0.528 -5.892 Q 0.804 -6.768 1.404 -7.248 Q 2.004 -7.728 2.88 -7.728 Q 3.564 -7.728 4.08 -7.47 Q 4.596 -7.212 4.89 -6.75 Q 5.184 -6.288 5.184 -5.652 Q 5.184 -5.124 4.962 -4.638 Q 4.74 -4.152 4.302 -3.636 Q 3.864 -3.12 3.228 -2.472 L 1.644 -0.972 L 1.644 -0.912 L 2.484 -0.948 L 4.152 -0.948 Q 4.632 -0.948 4.824 -1.164 Q 5.016 -1.38 5.22 -1.92 Z \" /></symbol><use href=\"#STIXTwoMathRegular_1139\" transform=\"translate(145.394 -44.225) scale(0.817)\" fill=\"black\" /><use href=\"#STIXTwoMathRegular_1139\" transform=\"translate(150.245 -44.225) scale(0.817)\" fill=\"black\" /></g></g></g><g><g><g><symbol id=\"STIXTwoMathRegular_892\" width=\"5.604\" height=\"51.216\" viewBox=\"0 -31.524 5.604 51.216\"><path d=\"M 5.604 -4.272 L 5.604 -4.272 Q 5.604 -2.088 4.908 -0.954 Q 4.212 0.18 3.108 0.18 Q 1.944 0.18 1.266 -0.948 Q 0.588 -2.076 0.588 -4.08 Q 0.588 -4.944 0.75 -5.742 Q 0.912 -6.54 1.242 -7.17 Q 1.572 -7.8 2.07 -8.172 Q 2.568 -8.544 3.228 -8.544 Q 3.84 -8.544 4.284 -8.196 Q 4.728 -7.848 5.022 -7.254 Q 5.316 -6.66 5.46 -5.892 Q 5.604 -5.124 5.604 -4.272 Z M 3.12 -0.864 L 3.12 -0.864 Q 3.984 -0.864 4.506 -1.71 Q 5.028 -2.556 4.992 -4.032 L 1.176 -4.032 Q 1.2 -3.444 1.308 -2.88 Q 1.416 -2.316 1.644 -1.86 Q 1.872 -1.404 2.238 -1.134 Q 2.604 -0.864 3.12 -0.864 Z M 3.192 -7.512 L 3.192 -7.512 Q 2.592 -7.512 2.154 -7.146 Q 1.716 -6.78 1.464 -6.144 Q 1.212 -5.508 1.176 -4.668 L 4.98 -4.668 Q 4.956 -5.16 4.854 -5.664 Q 4.752 -6.168 4.548 -6.588 Q 4.344 -7.008 4.014 -7.26 Q 3.684 -7.512 3.192 -7.512 Z \" /></symbol><use href=\"#STIXTwoMathRegular_892\" transform=\"translate(239.402 -50.428) scale(1.167)\" fill=\"black\" /></g></g></g><g><g><g><symbol id=\"STIXTwoMathRegular_3316\" width=\"8.22\" height=\"51.216\" viewBox=\"0 -31.524 8.22 51.216\"><path d=\"M 8.22 -4.908 L 8.22 -4.908 Q 8.22 -3.516 7.752 -2.502 Q 7.284 -1.488 6.498 -0.87 Q 5.712 -0.252 4.752 -0.036 L 4.752 0 Q 4.932 0.264 5.136 0.57 Q 5.34 0.876 5.628 1.14 Q 5.916 1.404 6.348 1.572 Q 6.78 1.74 7.428 1.74 L 7.368 2.076 L 6.768 2.076 Q 5.844 2.076 5.256 1.92 Q 4.668 1.764 4.326 1.44 Q 3.984 1.116 3.792 0.612 L 3.612 0.096 Q 2.208 0.012 1.47 -0.744 Q 0.732 -1.5 0.72 -3.024 Q 0.72 -4.104 1.056 -5.016 Q 1.392 -5.928 1.992 -6.606 Q 2.592 -7.284 3.408 -7.656 Q 4.224 -8.028 5.184 -8.028 Q 6.252 -8.028 6.924 -7.59 Q 7.596 -7.152 7.908 -6.438 Q 8.22 -5.724 8.22 -4.908 Z M 6.996 -4.98 L 6.996 -4.98 Q 6.996 -6.096 6.522 -6.804 Q 6.048 -7.512 5.004 -7.512 Q 4.2 -7.512 3.504 -6.966 Q 2.808 -6.42 2.382 -5.394 Q 1.956 -4.368 1.956 -2.916 Q 1.956 -1.764 2.394 -1.068 Q 2.832 -0.372 3.888 -0.372 Q 4.86 -0.372 5.556 -0.954 Q 6.252 -1.536 6.624 -2.574 Q 6.996 -3.612 6.996 -4.98 Z \" /></symbol><use href=\"#STIXTwoMathRegular_3316\" transform=\"translate(333.126 -55.58) scale(1.167)\" fill=\"black\" /><symbol id=\"STIXTwoMathRegular_1138\" width=\"5.112\" height=\"51.216\" viewBox=\"0 -31.524 5.112 51.216\"><path d=\"M 5.112 0 L 5.112 0 L 0.96 0 L 0.96 -0.336 Q 1.812 -0.336 2.16 -0.516 Q 2.508 -0.696 2.508 -1.14 L 2.508 -6.216 Q 2.508 -6.528 2.424 -6.666 Q 2.34 -6.804 2.112 -6.804 Q 1.932 -6.804 1.548 -6.756 Q 1.164 -6.708 0.888 -6.612 L 0.888 -7.008 L 3.216 -7.668 L 3.564 -7.668 L 3.564 -1.14 Q 3.564 -0.696 3.924 -0.516 Q 4.284 -0.336 5.112 -0.336 Z \" /></symbol><use href=\"#STIXTwoMathRegular_1138\" transform=\"translate(342.422 -39.185) scale(0.817)\" fill=\"black\" /><symbol id=\"STIXTwoMathRegular_1082\" width=\"11.28\" height=\"51.216\" viewBox=\"0 -31.524 11.28 51.216\"><path d=\"M 11.28 -2.664 L 11.28 -2.664 L 0 -2.664 L 0 -3.348 L 11.28 -3.348 Z \" /></symbol><use href=\"#STIXTwoMathRegular_1082\" transform=\"translate(335.594 -54.187) scale(0.817)\" fill=\"black\" /></g></g></g><g><g><g><symbol id=\"STIXTwoMathRegular_3317\" width=\"7.296\" height=\"51.216\" viewBox=\"-0.108 -31.524 7.296 51.216\"><path d=\"M 6.948 -6.228 L 6.948 -6.228 Q 6.948 -5.592 6.708 -5.16 Q 6.468 -4.728 6.084 -4.452 Q 5.7 -4.176 5.262 -4.026 Q 4.824 -3.876 4.428 -3.804 L 4.428 -3.744 Q 4.644 -3.6 4.836 -3.306 Q 5.028 -3.012 5.31 -2.46 Q 5.592 -1.908 6.084 -0.972 Q 6.288 -0.612 6.534 -0.486 Q 6.78 -0.36 7.188 -0.36 L 7.116 0 L 5.292 0 Q 4.956 -0.744 4.728 -1.242 Q 4.5 -1.74 4.332 -2.076 Q 4.164 -2.412 4.038 -2.676 Q 3.912 -2.94 3.768 -3.216 Q 3.636 -3.468 3.48 -3.546 Q 3.324 -3.624 3 -3.624 L 2.748 -3.624 L 2.304 -1.488 Q 2.208 -0.996 2.238 -0.75 Q 2.268 -0.504 2.508 -0.432 Q 2.748 -0.36 3.264 -0.36 L 3.204 0 L -0.108 0 L -0.036 -0.36 Q 0.408 -0.36 0.648 -0.432 Q 0.888 -0.504 1.014 -0.744 Q 1.14 -0.984 1.236 -1.488 L 2.292 -6.636 Q 2.364 -6.972 2.328 -7.164 Q 2.292 -7.356 2.082 -7.44 Q 1.872 -7.524 1.392 -7.524 L 1.464 -7.884 L 4.284 -7.884 Q 5.544 -7.884 6.246 -7.494 Q 6.948 -7.104 6.948 -6.228 Z M 3.504 -7.38 L 3.504 -7.38 L 2.832 -4.068 L 3.204 -4.056 Q 3.924 -4.08 4.506 -4.29 Q 5.088 -4.5 5.424 -4.956 Q 5.76 -5.412 5.76 -6.18 Q 5.76 -6.504 5.622 -6.786 Q 5.484 -7.068 5.148 -7.242 Q 4.812 -7.416 4.212 -7.416 Q 3.984 -7.416 3.846 -7.41 Q 3.708 -7.404 3.504 -7.38 Z \" /></symbol><use href=\"#STIXTwoMathRegular_3317\" transform=\"translate(430.334 -53.158) scale(1.167)\" fill=\"black\" /><symbol id=\"STIXTwoMathRegular_1138\" width=\"5.112\" height=\"51.216\" viewBox=\"0 -31.524 5.112 51.216\"><path d=\"M 5.112 0 L 5.112 0 L 0.96 0 L 0.96 -0.336 Q 1.812 -0.336 2.16 -0.516 Q 2.508 -0.696 2.508 -1.14 L 2.508 -6.216 Q 2.508 -6.528 2.424 -6.666 Q 2.34 -6.804 2.112 -6.804 Q 1.932 -6.804 1.548 -6.756 Q 1.164 -6.708 0.888 -6.612 L 0.888 -7.008 L 3.216 -7.668 L 3.564 -7.668 L 3.564 -1.14 Q 3.564 -0.696 3.924 -0.516 Q 4.284 -0.336 5.112 -0.336 Z \" /></symbol><use href=\"#STIXTwoMathRegular_1138\" transform=\"translate(439.489 -39.185) scale(0.817)\" fill=\"black\" /></g></g></g><g><g><g><symbol id=\"STIXTwoMathRegular_1657\" width=\"9.948\" height=\"51.216\" viewBox=\"0 -31.524 9.948 51.216\"><path d=\"M 8.004 -11.064 L 8.004 -11.064 L 9.948 -11.064 L 9.948 -10.248 L 8.556 -10.248 L 4.956 3.18 L 4.452 3.18 L 1.656 -3.828 L 0.408 -3.348 L 0.216 -3.684 L 2.124 -5.004 L 2.364 -5.004 L 4.74 1.116 L 4.788 1.116 Z \" /></symbol><use href=\"#STIXTwoMathRegular_1657\" transform=\"translate(524.814 -53.928) scale(1.167)\" fill=\"black\" /><symbol id=\"STIXTwoMathRegular_3354\" width=\"6.48\" height=\"51.216\" viewBox=\"0 -31.524 6.48 51.216\"><path d=\"M 3.78 -3.576 L 3.78 -3.576 L 4.368 -4.584 Q 4.608 -5.016 4.98 -5.382 Q 5.352 -5.748 5.88 -5.748 Q 6.228 -5.748 6.354 -5.61 Q 6.48 -5.472 6.48 -5.22 Q 6.48 -5.004 6.324 -4.83 Q 6.168 -4.656 5.928 -4.656 Q 5.784 -4.656 5.604 -4.716 Q 5.424 -4.776 5.304 -4.776 Q 5.1 -4.776 4.956 -4.65 Q 4.812 -4.524 4.656 -4.272 L 3.924 -3.108 L 4.176 -2.292 Q 4.428 -1.464 4.638 -1.104 Q 4.848 -0.744 5.124 -0.744 Q 5.364 -0.744 5.556 -0.918 Q 5.748 -1.092 5.988 -1.416 L 6.24 -1.224 Q 6.072 -0.96 5.838 -0.648 Q 5.604 -0.336 5.292 -0.108 Q 4.98 0.12 4.572 0.12 Q 4.164 0.12 3.942 -0.204 Q 3.72 -0.528 3.588 -1.116 L 3.288 -2.328 L 3.24 -2.328 L 2.472 -1.08 Q 2.184 -0.612 1.848 -0.252 Q 1.512 0.108 0.972 0.108 Q 0.588 0.108 0.432 -0.072 Q 0.276 -0.252 0.276 -0.48 Q 0.276 -0.66 0.402 -0.822 Q 0.528 -0.984 0.744 -0.984 Q 0.948 -0.984 1.146 -0.906 Q 1.344 -0.828 1.5 -0.828 Q 1.524 -0.828 1.608 -0.858 Q 1.692 -0.888 1.848 -1.032 Q 2.004 -1.176 2.232 -1.512 L 3.096 -2.772 L 2.76 -3.864 Q 2.604 -4.368 2.448 -4.656 Q 2.292 -4.944 2.064 -5.07 Q 1.836 -5.196 1.44 -5.184 Q 1.296 -5.184 1.182 -5.166 Q 1.068 -5.148 1.068 -5.148 L 1.068 -5.508 L 2.736 -5.7 L 2.916 -5.7 Q 3.132 -5.448 3.306 -5.064 Q 3.48 -4.68 3.6 -4.188 L 3.744 -3.576 Z \" /></symbol><use href=\"#STIXTwoMathRegular_3354\" transform=\"translate(536.42 -53.928) scale(1.167)\" fill=\"black\" /><rect x=\"536.42\" y=\"-30.058\" width=\"7.966\" height=\"0.952\" fill=\"black\" /></g></g></g><g><g><g><symbol id=\"STIXTwoMathRegular_868\" width=\"8.772\" height=\"51.216\" viewBox=\"0 -31.524 8.772 51.216\"><path d=\"M 8.496 0 L 8.496 0 L 5.364 0 L 5.364 -0.864 Q 5.928 -1.32 6.318 -1.95 Q 6.708 -2.58 6.906 -3.282 Q 7.104 -3.984 7.104 -4.644 Q 7.104 -6 6.456 -6.762 Q 5.808 -7.524 4.704 -7.524 Q 3.564 -7.524 2.904 -6.75 Q 2.244 -5.976 2.244 -4.644 Q 2.244 -3.996 2.436 -3.282 Q 2.628 -2.568 3.018 -1.932 Q 3.408 -1.296 3.984 -0.852 L 3.984 0 L 0.816 0 L 0.564 -2.124 L 0.912 -2.124 Q 1.02 -1.716 1.122 -1.464 Q 1.224 -1.212 1.41 -1.092 Q 1.596 -0.972 1.932 -0.972 L 3.024 -0.972 L 3.024 -1.044 Q 2.688 -1.296 2.322 -1.626 Q 1.956 -1.956 1.644 -2.388 Q 1.332 -2.82 1.14 -3.39 Q 0.948 -3.96 0.948 -4.692 Q 0.948 -5.688 1.428 -6.438 Q 1.908 -7.188 2.76 -7.608 Q 3.612 -8.028 4.716 -8.028 Q 5.832 -8.028 6.66 -7.608 Q 7.488 -7.188 7.944 -6.438 Q 8.4 -5.688 8.4 -4.704 Q 8.4 -3.972 8.196 -3.402 Q 7.992 -2.832 7.674 -2.394 Q 7.356 -1.956 7.002 -1.626 Q 6.648 -1.296 6.336 -1.044 L 6.336 -0.972 L 7.344 -0.972 Q 7.704 -0.972 7.89 -1.092 Q 8.076 -1.212 8.19 -1.47 Q 8.304 -1.728 8.424 -2.124 L 8.772 -2.124 Z \" /></symbol><use href=\"#STIXTwoMathRegular_868\" transform=\"translate(43.161 14.582) scale(1.167)\" fill=\"black\" /></g></g></g><g><g><g><symbol id=\"STIXTwoMathRegular_1681\" width=\"7.896\" height=\"51.216\" viewBox=\"0 -31.524 7.896 51.216\"><path d=\"M 7.896 0 L 7.896 0 L 0.276 0 L 6.984 -6.72 L 7.608 -6.204 L 2.232 -0.804 L 7.896 -0.804 Z \" /></symbol><use href=\"#STIXTwoMathRegular_1681\" transform=\"translate(140.893 14.582) scale(1.167)\" fill=\"black\" /></g></g></g><g><g><g><symbol id=\"STIXTwoMathRegular_4244\" width=\"3.756\" height=\"51.216\" viewBox=\"0 -31.524 3.756 51.216\"><path d=\"M 3.756 0 L 3.756 0 L 2.76 0 L 2.76 -6.348 L 1.212 -6.348 L 1.212 -6.996 Q 1.848 -7.092 2.256 -7.23 Q 2.664 -7.368 3 -7.56 L 3.756 -7.56 Z \" /></symbol><use href=\"#STIXTwoMathRegular_4244\" transform=\"translate(231.044 14.288) scale(1.167)\" fill=\"black\" /><symbol id=\"STIXTwoMathRegular_4243\" width=\"5.556\" height=\"51.216\" viewBox=\"0 -31.524 5.556 51.216\"><path d=\"M 3.048 0.144 L 3.048 0.144 Q 1.884 0.144 1.218 -0.882 Q 0.552 -1.908 0.552 -3.804 Q 0.552 -5.712 1.218 -6.702 Q 1.884 -7.692 3.048 -7.692 Q 4.224 -7.692 4.89 -6.696 Q 5.556 -5.7 5.556 -3.804 Q 5.556 -1.908 4.89 -0.882 Q 4.224 0.144 3.048 0.144 Z M 3.048 -0.672 L 3.048 -0.672 Q 3.732 -0.672 4.152 -1.41 Q 4.572 -2.148 4.572 -3.804 Q 4.572 -5.46 4.152 -6.174 Q 3.732 -6.888 3.048 -6.888 Q 2.376 -6.888 1.95 -6.174 Q 1.524 -5.46 1.524 -3.804 Q 1.524 -2.148 1.95 -1.41 Q 2.376 -0.672 3.048 -0.672 Z \" /></symbol><use href=\"#STIXTwoMathRegular_4243\" transform=\"translate(238.156 14.288) scale(1.167)\" fill=\"black\" /><symbol id=\"STIXTwoMathRegular_1193\" width=\"7.764\" height=\"51.216\" viewBox=\"0 -31.524 7.764 51.216\"><path d=\"M 7.032 -7.992 L 7.032 -7.992 L 2.172 0.252 L 1.596 0.252 L 5.88 -6.984 L 5.82 -6.984 Q 5.52 -6.78 5.238 -6.69 Q 4.956 -6.6 4.584 -6.6 Q 4.368 -6.6 4.206 -6.636 Q 4.044 -6.672 3.768 -6.792 L 3.744 -6.768 Q 3.78 -6.636 3.804 -6.468 Q 3.828 -6.3 3.828 -6.096 Q 3.828 -5.436 3.57 -4.884 Q 3.312 -4.332 2.862 -4.008 Q 2.412 -3.684 1.836 -3.684 Q 1.224 -3.684 0.882 -4.086 Q 0.54 -4.488 0.54 -5.244 Q 0.54 -5.928 0.804 -6.468 Q 1.068 -7.008 1.524 -7.326 Q 1.98 -7.644 2.532 -7.644 Q 2.88 -7.644 3.126 -7.536 Q 3.372 -7.428 3.588 -7.284 Q 3.804 -7.14 4.074 -7.032 Q 4.344 -6.924 4.74 -6.924 Q 5.016 -6.924 5.25 -7.008 Q 5.484 -7.092 5.772 -7.326 Q 6.06 -7.56 6.492 -7.992 Z M 7.764 -2.184 L 7.764 -2.184 Q 7.764 -1.512 7.506 -0.96 Q 7.248 -0.408 6.804 -0.084 Q 6.36 0.24 5.784 0.24 Q 5.172 0.24 4.824 -0.162 Q 4.476 -0.564 4.476 -1.332 Q 4.476 -2.016 4.734 -2.556 Q 4.992 -3.096 5.448 -3.408 Q 5.904 -3.72 6.48 -3.72 Q 7.104 -3.72 7.434 -3.324 Q 7.764 -2.928 7.764 -2.184 Z M 7.356 -2.268 L 7.356 -2.268 Q 7.356 -3.396 6.612 -3.396 Q 6.24 -3.396 5.946 -3.114 Q 5.652 -2.832 5.478 -2.346 Q 5.304 -1.86 5.304 -1.248 Q 5.304 -0.684 5.466 -0.42 Q 5.628 -0.156 5.964 -0.156 Q 6.348 -0.156 6.66 -0.444 Q 6.972 -0.732 7.164 -1.218 Q 7.356 -1.704 7.356 -2.268 Z M 3.42 -6.192 L 3.42 -6.192 Q 3.42 -7.32 2.676 -7.32 Q 2.304 -7.32 2.01 -7.038 Q 1.716 -6.756 1.542 -6.27 Q 1.368 -5.784 1.368 -5.172 Q 1.368 -4.608 1.53 -4.344 Q 1.692 -4.08 2.028 -4.08 Q 2.412 -4.08 2.724 -4.368 Q 3.036 -4.656 3.228 -5.142 Q 3.42 -5.628 3.42 -6.192 Z \" /></symbol><use href=\"#STIXTwoMathRegular_1193\" transform=\"translate(245.268 14.288) scale(1.167)\" fill=\"black\" /></g></g></g><g><g><g><symbol id=\"STIXTwoMathRegular_3317\" width=\"7.296\" height=\"51.216\" viewBox=\"-0.108 -31.524 7.296 51.216\"><path d=\"M 6.948 -6.228 L 6.948 -6.228 Q 6.948 -5.592 6.708 -5.16 Q 6.468 -4.728 6.084 -4.452 Q 5.7 -4.176 5.262 -4.026 Q 4.824 -3.876 4.428 -3.804 L 4.428 -3.744 Q 4.644 -3.6 4.836 -3.306 Q 5.028 -3.012 5.31 -2.46 Q 5.592 -1.908 6.084 -0.972 Q 6.288 -0.612 6.534 -0.486 Q 6.78 -0.36 7.188 -0.36 L 7.116 0 L 5.292 0 Q 4.956 -0.744 4.728 -1.242 Q 4.5 -1.74 4.332 -2.076 Q 4.164 -2.412 4.038 -2.676 Q 3.912 -2.94 3.768 -3.216 Q 3.636 -3.468 3.48 -3.546 Q 3.324 -3.624 3 -3.624 L 2.748 -3.624 L 2.304 -1.488 Q 2.208 -0.996 2.238 -0.75 Q 2.268 -0.504 2.508 -0.432 Q 2.748 -0.36 3.264 -0.36 L 3.204 0 L -0.108 0 L -0.036 -0.36 Q 0.408 -0.36 0.648 -0.432 Q 0.888 -0.504 1.014 -0.744 Q 1.14 -0.984 1.236 -1.488 L 2.292 -6.636 Q 2.364 -6.972 2.328 -7.164 Q 2.292 -7.356 2.082 -7.44 Q 1.872 -7.524 1.392 -7.524 L 1.464 -7.884 L 4.284 -7.884 Q 5.544 -7.884 6.246 -7.494 Q 6.948 -7.104 6.948 -6.228 Z M 3.504 -7.38 L 3.504 -7.38 L 2.832 -4.068 L 3.204 -4.056 Q 3.924 -4.08 4.506 -4.29 Q 5.088 -4.5 5.424 -4.956 Q 5.76 -5.412 5.76 -6.18 Q 5.76 -6.504 5.622 -6.786 Q 5.484 -7.068 5.148 -7.242 Q 4.812 -7.416 4.212 -7.416 Q 3.984 -7.416 3.846 -7.41 Q 3.708 -7.404 3.504 -7.38 Z \" /></symbol><use href=\"#STIXTwoMathRegular_3317\" transform=\"translate(333.204 14.582) scale(1.167)\" fill=\"black\" /><symbol id=\"STIXTwoMathRegular_1139\" width=\"5.568\" height=\"51.216\" viewBox=\"0 -31.524 5.568 51.216\"><path d=\"M 5.568 -1.92 L 5.568 -1.92 L 5.184 0 L 0.456 0 L 0.456 -0.408 L 2.28 -2.232 Q 2.88 -2.844 3.276 -3.342 Q 3.672 -3.84 3.87 -4.344 Q 4.068 -4.848 4.068 -5.472 Q 4.068 -6.144 3.666 -6.546 Q 3.264 -6.948 2.568 -6.948 Q 1.98 -6.948 1.566 -6.696 Q 1.152 -6.444 0.816 -5.772 L 0.528 -5.892 Q 0.804 -6.768 1.404 -7.248 Q 2.004 -7.728 2.88 -7.728 Q 3.564 -7.728 4.08 -7.47 Q 4.596 -7.212 4.89 -6.75 Q 5.184 -6.288 5.184 -5.652 Q 5.184 -5.124 4.962 -4.638 Q 4.74 -4.152 4.302 -3.636 Q 3.864 -3.12 3.228 -2.472 L 1.644 -0.972 L 1.644 -0.912 L 2.484 -0.948 L 4.152 -0.948 Q 4.632 -0.948 4.824 -1.164 Q 5.016 -1.38 5.22 -1.92 Z \" /></symbol><use href=\"#STIXTwoMathRegular_1139\" transform=\"translate(342.219 20.575) scale(0.817)\" fill=\"black\" /></g></g></g><g><g><g><symbol id=\"STIXTwoMathRegular_3317\" width=\"7.296\" height=\"51.216\" viewBox=\"-0.108 -31.524 7.296 51.216\"><path d=\"M 6.948 -6.228 L 6.948 -6.228 Q 6.948 -5.592 6.708 -5.16 Q 6.468 -4.728 6.084 -4.452 Q 5.7 -4.176 5.262 -4.026 Q 4.824 -3.876 4.428 -3.804 L 4.428 -3.744 Q 4.644 -3.6 4.836 -3.306 Q 5.028 -3.012 5.31 -2.46 Q 5.592 -1.908 6.084 -0.972 Q 6.288 -0.612 6.534 -0.486 Q 6.78 -0.36 7.188 -0.36 L 7.116 0 L 5.292 0 Q 4.956 -0.744 4.728 -1.242 Q 4.5 -1.74 4.332 -2.076 Q 4.164 -2.412 4.038 -2.676 Q 3.912 -2.94 3.768 -3.216 Q 3.636 -3.468 3.48 -3.546 Q 3.324 -3.624 3 -3.624 L 2.748 -3.624 L 2.304 -1.488 Q 2.208 -0.996 2.238 -0.75 Q 2.268 -0.504 2.508 -0.432 Q 2.748 -0.36 3.264 -0.36 L 3.204 0 L -0.108 0 L -0.036 -0.36 Q 0.408 -0.36 0.648 -0.432 Q 0.888 -0.504 1.014 -0.744 Q 1.14 -0.984 1.236 -1.488 L 2.292 -6.636 Q 2.364 -6.972 2.328 -7.164 Q 2.292 -7.356 2.082 -7.44 Q 1.872 -7.524 1.392 -7.524 L 1.464 -7.884 L 4.284 -7.884 Q 5.544 -7.884 6.246 -7.494 Q 6.948 -7.104 6.948 -6.228 Z M 3.504 -7.38 L 3.504 -7.38 L 2.832 -4.068 L 3.204 -4.056 Q 3.924 -4.08 4.506 -4.29 Q 5.088 -4.5 5.424 -4.956 Q 5.76 -5.412 5.76 -6.18 Q 5.76 -6.504 5.622 -6.786 Q 5.484 -7.068 5.148 -7.242 Q 4.812 -7.416 4.212 -7.416 Q 3.984 -7.416 3.846 -7.41 Q 3.708 -7.404 3.504 -7.38 Z \" /></symbol><use href=\"#STIXTwoMathRegular_3317\" transform=\"translate(430.334 11.642) scale(1.167)\" fill=\"black\" /><symbol id=\"STIXTwoMathRegular_1139\" width=\"5.568\" height=\"51.216\" viewBox=\"0 -31.524 5.568 51.216\"><path d=\"M 5.568 -1.92 L 5.568 -1.92 L 5.184 0 L 0.456 0 L 0.456 -0.408 L 2.28 -2.232 Q 2.88 -2.844 3.276 -3.342 Q 3.672 -3.84 3.87 -4.344 Q 4.068 -4.848 4.068 -5.472 Q 4.068 -6.144 3.666 -6.546 Q 3.264 -6.948 2.568 -6.948 Q 1.98 -6.948 1.566 -6.696 Q 1.152 -6.444 0.816 -5.772 L 0.528 -5.892 Q 0.804 -6.768 1.404 -7.248 Q 2.004 -7.728 2.88 -7.728 Q 3.564 -7.728 4.08 -7.47 Q 4.596 -7.212 4.89 -6.75 Q 5.184 -6.288 5.184 -5.652 Q 5.184 -5.124 4.962 -4.638 Q 4.74 -4.152 4.302 -3.636 Q 3.864 -3.12 3.228 -2.472 L 1.644 -0.972 L 1.644 -0.912 L 2.484 -0.948 L 4.152 -0.948 Q 4.632 -0.948 4.824 -1.164 Q 5.016 -1.38 5.22 -1.92 Z \" /></symbol><use href=\"#STIXTwoMathRegular_1139\" transform=\"translate(439.489 25.615) scale(0.817)\" fill=\"black\" /></g></g></g></svg>"
      ]
     },
     "execution_count": 29,
     "metadata": {},
     "output_type": "execute_result"
    }
   ],
   "source": [
    "# Test some mathtext in svg backend\n",
    "schemdraw.use('svg')\n",
    "d = schemdraw.Drawing(font='sans')\n",
    "d += elm.Resistor().label('$R_{11}$')\n",
    "d += elm.Resistor().label('$R^{22}$')\n",
    "d += elm.Resistor().label(r'$\\theta$')\n",
    "d += elm.Resistor().label('$\\overline{Q_1}$')\n",
    "d += elm.Resistor().label('$R_1$')\n",
    "d += elm.Resistor().label('$\\sqrt{x}$')\n",
    "d.here = (0, -2)\n",
    "d += elm.Resistor().label('Ω')\n",
    "d += elm.Resistor().label('∠')\n",
    "d += elm.Resistor().label('10%')\n",
    "d += elm.Resistor().label('$R^2$')\n",
    "d += elm.Resistor().label('$R_2$')\n",
    "d.draw()"
   ]
  },
  {
   "cell_type": "code",
   "execution_count": 30,
   "id": "37321cf2",
   "metadata": {},
   "outputs": [
    {
     "data": {
      "image/svg+xml": [
       "<svg xmlns=\"http://www.w3.org/2000/svg\" xml:lang=\"en\" height=\"65.7382pt\" width=\"102.7804pt\" viewBox=\"-8.48 -61.30820000000001 102.7804 65.7382\" style=\"background-color:white;\"><circle cx=\"0.0\" cy=\"-0.0\" r=\"2.4299999999999997\" style=\"stroke:black;fill:black;stroke-width:2;\" /><g><g transform=\" rotate(-45 0.0 -7.77)\"><g><symbol id=\"STIXTwoMathRegular_3676\" width=\"6.684\" height=\"51.216\" viewBox=\"0 -31.524 6.684 51.216\"><path d=\"M 1.104 0 L 1.104 0 L 1.104 -7.884 L 3.636 -7.884 Q 4.452 -7.884 5.088 -7.668 Q 5.724 -7.452 6.084 -6.972 Q 6.444 -6.492 6.444 -5.676 Q 6.444 -4.728 5.952 -4.176 Q 5.46 -3.624 4.644 -3.432 L 6.684 0 L 5.52 0 L 3.588 -3.324 L 2.136 -3.324 L 2.136 0 Z M 2.136 -4.152 L 2.136 -4.152 L 3.48 -4.152 Q 4.416 -4.152 4.92 -4.524 Q 5.424 -4.896 5.424 -5.664 Q 5.424 -6.432 4.92 -6.744 Q 4.416 -7.056 3.48 -7.056 L 2.136 -7.056 Z \" /></symbol><use href=\"#STIXTwoMathRegular_3676\" transform=\"translate(0 -44.548) scale(1.167)\" fill=\"black\" /><symbol id=\"STIXTwoMathRegular_4244\" width=\"3.756\" height=\"51.216\" viewBox=\"0 -31.524 3.756 51.216\"><path d=\"M 3.756 0 L 3.756 0 L 2.76 0 L 2.76 -6.348 L 1.212 -6.348 L 1.212 -6.996 Q 1.848 -7.092 2.256 -7.23 Q 2.664 -7.368 3 -7.56 L 3.756 -7.56 Z \" /></symbol><use href=\"#STIXTwoMathRegular_4244\" transform=\"translate(8.162 -44.548) scale(1.167)\" fill=\"black\" /></g></g></g><circle cx=\"32.4\" cy=\"-0.0\" r=\"2.4299999999999997\" style=\"stroke:black;fill:black;stroke-width:2;\" /><g><g transform=\" rotate(-45 32.4 -7.77)\"><g><symbol id=\"STIXTwoMathRegular_3676\" width=\"6.684\" height=\"51.216\" viewBox=\"0 -31.524 6.684 51.216\"><path d=\"M 1.104 0 L 1.104 0 L 1.104 -7.884 L 3.636 -7.884 Q 4.452 -7.884 5.088 -7.668 Q 5.724 -7.452 6.084 -6.972 Q 6.444 -6.492 6.444 -5.676 Q 6.444 -4.728 5.952 -4.176 Q 5.46 -3.624 4.644 -3.432 L 6.684 0 L 5.52 0 L 3.588 -3.324 L 2.136 -3.324 L 2.136 0 Z M 2.136 -4.152 L 2.136 -4.152 L 3.48 -4.152 Q 4.416 -4.152 4.92 -4.524 Q 5.424 -4.896 5.424 -5.664 Q 5.424 -6.432 4.92 -6.744 Q 4.416 -7.056 3.48 -7.056 L 2.136 -7.056 Z \" /></symbol><use href=\"#STIXTwoMathRegular_3676\" transform=\"translate(24.763 -44.548) scale(1.167)\" fill=\"black\" /><symbol id=\"STIXTwoMathRegular_4244\" width=\"3.756\" height=\"51.216\" viewBox=\"0 -31.524 3.756 51.216\"><path d=\"M 3.756 0 L 3.756 0 L 2.76 0 L 2.76 -6.348 L 1.212 -6.348 L 1.212 -6.996 Q 1.848 -7.092 2.256 -7.23 Q 2.664 -7.368 3 -7.56 L 3.756 -7.56 Z \" /></symbol><use href=\"#STIXTwoMathRegular_4244\" transform=\"translate(32.925 -44.548) scale(1.167)\" fill=\"black\" /></g></g></g><circle cx=\"64.8\" cy=\"-0.0\" r=\"2.4299999999999997\" style=\"stroke:black;fill:black;stroke-width:2;\" /><g><g transform=\" rotate(-45 64.8 -7.77)\"><g><symbol id=\"STIXTwoMathRegular_3676\" width=\"6.684\" height=\"51.216\" viewBox=\"0 -31.524 6.684 51.216\"><path d=\"M 1.104 0 L 1.104 0 L 1.104 -7.884 L 3.636 -7.884 Q 4.452 -7.884 5.088 -7.668 Q 5.724 -7.452 6.084 -6.972 Q 6.444 -6.492 6.444 -5.676 Q 6.444 -4.728 5.952 -4.176 Q 5.46 -3.624 4.644 -3.432 L 6.684 0 L 5.52 0 L 3.588 -3.324 L 2.136 -3.324 L 2.136 0 Z M 2.136 -4.152 L 2.136 -4.152 L 3.48 -4.152 Q 4.416 -4.152 4.92 -4.524 Q 5.424 -4.896 5.424 -5.664 Q 5.424 -6.432 4.92 -6.744 Q 4.416 -7.056 3.48 -7.056 L 2.136 -7.056 Z \" /></symbol><use href=\"#STIXTwoMathRegular_3676\" transform=\"translate(49.526 -44.548) scale(1.167)\" fill=\"black\" /><symbol id=\"STIXTwoMathRegular_4244\" width=\"3.756\" height=\"51.216\" viewBox=\"0 -31.524 3.756 51.216\"><path d=\"M 3.756 0 L 3.756 0 L 2.76 0 L 2.76 -6.348 L 1.212 -6.348 L 1.212 -6.996 Q 1.848 -7.092 2.256 -7.23 Q 2.664 -7.368 3 -7.56 L 3.756 -7.56 Z \" /></symbol><use href=\"#STIXTwoMathRegular_4244\" transform=\"translate(57.688 -44.548) scale(1.167)\" fill=\"black\" /></g></g></g><circle cx=\"0.0\" cy=\"-32.4\" r=\"2.4299999999999997\" style=\"stroke:black;fill:black;stroke-width:2;\" /><g><g transform=\" rotate(-45 0.0 -40.17)\"><g><symbol id=\"STIXTwoMathRegular_3676\" width=\"6.684\" height=\"51.216\" viewBox=\"0 -31.524 6.684 51.216\"><path d=\"M 1.104 0 L 1.104 0 L 1.104 -7.884 L 3.636 -7.884 Q 4.452 -7.884 5.088 -7.668 Q 5.724 -7.452 6.084 -6.972 Q 6.444 -6.492 6.444 -5.676 Q 6.444 -4.728 5.952 -4.176 Q 5.46 -3.624 4.644 -3.432 L 6.684 0 L 5.52 0 L 3.588 -3.324 L 2.136 -3.324 L 2.136 0 Z M 2.136 -4.152 L 2.136 -4.152 L 3.48 -4.152 Q 4.416 -4.152 4.92 -4.524 Q 5.424 -4.896 5.424 -5.664 Q 5.424 -6.432 4.92 -6.744 Q 4.416 -7.056 3.48 -7.056 L 2.136 -7.056 Z \" /></symbol><use href=\"#STIXTwoMathRegular_3676\" transform=\"translate(0 -62.948) scale(1.167)\" fill=\"black\" /><symbol id=\"STIXTwoMathRegular_4244\" width=\"3.756\" height=\"51.216\" viewBox=\"0 -31.524 3.756 51.216\"><path d=\"M 3.756 0 L 3.756 0 L 2.76 0 L 2.76 -6.348 L 1.212 -6.348 L 1.212 -6.996 Q 1.848 -7.092 2.256 -7.23 Q 2.664 -7.368 3 -7.56 L 3.756 -7.56 Z \" /></symbol><use href=\"#STIXTwoMathRegular_4244\" transform=\"translate(8.162 -62.948) scale(1.167)\" fill=\"black\" /></g></g></g><circle cx=\"32.4\" cy=\"-32.4\" r=\"2.4299999999999997\" style=\"stroke:black;fill:black;stroke-width:2;\" /><g><g transform=\" rotate(-45 32.4 -40.17)\"><g><symbol id=\"STIXTwoMathRegular_3676\" width=\"6.684\" height=\"51.216\" viewBox=\"0 -31.524 6.684 51.216\"><path d=\"M 1.104 0 L 1.104 0 L 1.104 -7.884 L 3.636 -7.884 Q 4.452 -7.884 5.088 -7.668 Q 5.724 -7.452 6.084 -6.972 Q 6.444 -6.492 6.444 -5.676 Q 6.444 -4.728 5.952 -4.176 Q 5.46 -3.624 4.644 -3.432 L 6.684 0 L 5.52 0 L 3.588 -3.324 L 2.136 -3.324 L 2.136 0 Z M 2.136 -4.152 L 2.136 -4.152 L 3.48 -4.152 Q 4.416 -4.152 4.92 -4.524 Q 5.424 -4.896 5.424 -5.664 Q 5.424 -6.432 4.92 -6.744 Q 4.416 -7.056 3.48 -7.056 L 2.136 -7.056 Z \" /></symbol><use href=\"#STIXTwoMathRegular_3676\" transform=\"translate(32.4 -76.948) scale(1.167)\" fill=\"black\" /><symbol id=\"STIXTwoMathRegular_4244\" width=\"3.756\" height=\"51.216\" viewBox=\"0 -31.524 3.756 51.216\"><path d=\"M 3.756 0 L 3.756 0 L 2.76 0 L 2.76 -6.348 L 1.212 -6.348 L 1.212 -6.996 Q 1.848 -7.092 2.256 -7.23 Q 2.664 -7.368 3 -7.56 L 3.756 -7.56 Z \" /></symbol><use href=\"#STIXTwoMathRegular_4244\" transform=\"translate(40.562 -76.948) scale(1.167)\" fill=\"black\" /></g></g></g><circle cx=\"64.8\" cy=\"-32.4\" r=\"2.4299999999999997\" style=\"stroke:black;fill:black;stroke-width:2;\" /><g><g transform=\" rotate(-45 64.8 -40.17)\"><g><symbol id=\"STIXTwoMathRegular_3676\" width=\"6.684\" height=\"51.216\" viewBox=\"0 -31.524 6.684 51.216\"><path d=\"M 1.104 0 L 1.104 0 L 1.104 -7.884 L 3.636 -7.884 Q 4.452 -7.884 5.088 -7.668 Q 5.724 -7.452 6.084 -6.972 Q 6.444 -6.492 6.444 -5.676 Q 6.444 -4.728 5.952 -4.176 Q 5.46 -3.624 4.644 -3.432 L 6.684 0 L 5.52 0 L 3.588 -3.324 L 2.136 -3.324 L 2.136 0 Z M 2.136 -4.152 L 2.136 -4.152 L 3.48 -4.152 Q 4.416 -4.152 4.92 -4.524 Q 5.424 -4.896 5.424 -5.664 Q 5.424 -6.432 4.92 -6.744 Q 4.416 -7.056 3.48 -7.056 L 2.136 -7.056 Z \" /></symbol><use href=\"#STIXTwoMathRegular_3676\" transform=\"translate(64.8 -69.948) scale(1.167)\" fill=\"black\" /><symbol id=\"STIXTwoMathRegular_4244\" width=\"3.756\" height=\"51.216\" viewBox=\"0 -31.524 3.756 51.216\"><path d=\"M 3.756 0 L 3.756 0 L 2.76 0 L 2.76 -6.348 L 1.212 -6.348 L 1.212 -6.996 Q 1.848 -7.092 2.256 -7.23 Q 2.664 -7.368 3 -7.56 L 3.756 -7.56 Z \" /></symbol><use href=\"#STIXTwoMathRegular_4244\" transform=\"translate(72.962 -69.948) scale(1.167)\" fill=\"black\" /></g></g></g></svg>"
      ],
      "text/plain": [
       "<svg xmlns=\"http://www.w3.org/2000/svg\" xml:lang=\"en\" height=\"65.7382pt\" width=\"102.7804pt\" viewBox=\"-8.48 -61.30820000000001 102.7804 65.7382\" style=\"background-color:white;\"><circle cx=\"0.0\" cy=\"-0.0\" r=\"2.4299999999999997\" style=\"stroke:black;fill:black;stroke-width:2;\" /><g><g transform=\" rotate(-45 0.0 -7.77)\"><g><symbol id=\"STIXTwoMathRegular_3676\" width=\"6.684\" height=\"51.216\" viewBox=\"0 -31.524 6.684 51.216\"><path d=\"M 1.104 0 L 1.104 0 L 1.104 -7.884 L 3.636 -7.884 Q 4.452 -7.884 5.088 -7.668 Q 5.724 -7.452 6.084 -6.972 Q 6.444 -6.492 6.444 -5.676 Q 6.444 -4.728 5.952 -4.176 Q 5.46 -3.624 4.644 -3.432 L 6.684 0 L 5.52 0 L 3.588 -3.324 L 2.136 -3.324 L 2.136 0 Z M 2.136 -4.152 L 2.136 -4.152 L 3.48 -4.152 Q 4.416 -4.152 4.92 -4.524 Q 5.424 -4.896 5.424 -5.664 Q 5.424 -6.432 4.92 -6.744 Q 4.416 -7.056 3.48 -7.056 L 2.136 -7.056 Z \" /></symbol><use href=\"#STIXTwoMathRegular_3676\" transform=\"translate(0 -44.548) scale(1.167)\" fill=\"black\" /><symbol id=\"STIXTwoMathRegular_4244\" width=\"3.756\" height=\"51.216\" viewBox=\"0 -31.524 3.756 51.216\"><path d=\"M 3.756 0 L 3.756 0 L 2.76 0 L 2.76 -6.348 L 1.212 -6.348 L 1.212 -6.996 Q 1.848 -7.092 2.256 -7.23 Q 2.664 -7.368 3 -7.56 L 3.756 -7.56 Z \" /></symbol><use href=\"#STIXTwoMathRegular_4244\" transform=\"translate(8.162 -44.548) scale(1.167)\" fill=\"black\" /></g></g></g><circle cx=\"32.4\" cy=\"-0.0\" r=\"2.4299999999999997\" style=\"stroke:black;fill:black;stroke-width:2;\" /><g><g transform=\" rotate(-45 32.4 -7.77)\"><g><symbol id=\"STIXTwoMathRegular_3676\" width=\"6.684\" height=\"51.216\" viewBox=\"0 -31.524 6.684 51.216\"><path d=\"M 1.104 0 L 1.104 0 L 1.104 -7.884 L 3.636 -7.884 Q 4.452 -7.884 5.088 -7.668 Q 5.724 -7.452 6.084 -6.972 Q 6.444 -6.492 6.444 -5.676 Q 6.444 -4.728 5.952 -4.176 Q 5.46 -3.624 4.644 -3.432 L 6.684 0 L 5.52 0 L 3.588 -3.324 L 2.136 -3.324 L 2.136 0 Z M 2.136 -4.152 L 2.136 -4.152 L 3.48 -4.152 Q 4.416 -4.152 4.92 -4.524 Q 5.424 -4.896 5.424 -5.664 Q 5.424 -6.432 4.92 -6.744 Q 4.416 -7.056 3.48 -7.056 L 2.136 -7.056 Z \" /></symbol><use href=\"#STIXTwoMathRegular_3676\" transform=\"translate(24.763 -44.548) scale(1.167)\" fill=\"black\" /><symbol id=\"STIXTwoMathRegular_4244\" width=\"3.756\" height=\"51.216\" viewBox=\"0 -31.524 3.756 51.216\"><path d=\"M 3.756 0 L 3.756 0 L 2.76 0 L 2.76 -6.348 L 1.212 -6.348 L 1.212 -6.996 Q 1.848 -7.092 2.256 -7.23 Q 2.664 -7.368 3 -7.56 L 3.756 -7.56 Z \" /></symbol><use href=\"#STIXTwoMathRegular_4244\" transform=\"translate(32.925 -44.548) scale(1.167)\" fill=\"black\" /></g></g></g><circle cx=\"64.8\" cy=\"-0.0\" r=\"2.4299999999999997\" style=\"stroke:black;fill:black;stroke-width:2;\" /><g><g transform=\" rotate(-45 64.8 -7.77)\"><g><symbol id=\"STIXTwoMathRegular_3676\" width=\"6.684\" height=\"51.216\" viewBox=\"0 -31.524 6.684 51.216\"><path d=\"M 1.104 0 L 1.104 0 L 1.104 -7.884 L 3.636 -7.884 Q 4.452 -7.884 5.088 -7.668 Q 5.724 -7.452 6.084 -6.972 Q 6.444 -6.492 6.444 -5.676 Q 6.444 -4.728 5.952 -4.176 Q 5.46 -3.624 4.644 -3.432 L 6.684 0 L 5.52 0 L 3.588 -3.324 L 2.136 -3.324 L 2.136 0 Z M 2.136 -4.152 L 2.136 -4.152 L 3.48 -4.152 Q 4.416 -4.152 4.92 -4.524 Q 5.424 -4.896 5.424 -5.664 Q 5.424 -6.432 4.92 -6.744 Q 4.416 -7.056 3.48 -7.056 L 2.136 -7.056 Z \" /></symbol><use href=\"#STIXTwoMathRegular_3676\" transform=\"translate(49.526 -44.548) scale(1.167)\" fill=\"black\" /><symbol id=\"STIXTwoMathRegular_4244\" width=\"3.756\" height=\"51.216\" viewBox=\"0 -31.524 3.756 51.216\"><path d=\"M 3.756 0 L 3.756 0 L 2.76 0 L 2.76 -6.348 L 1.212 -6.348 L 1.212 -6.996 Q 1.848 -7.092 2.256 -7.23 Q 2.664 -7.368 3 -7.56 L 3.756 -7.56 Z \" /></symbol><use href=\"#STIXTwoMathRegular_4244\" transform=\"translate(57.688 -44.548) scale(1.167)\" fill=\"black\" /></g></g></g><circle cx=\"0.0\" cy=\"-32.4\" r=\"2.4299999999999997\" style=\"stroke:black;fill:black;stroke-width:2;\" /><g><g transform=\" rotate(-45 0.0 -40.17)\"><g><symbol id=\"STIXTwoMathRegular_3676\" width=\"6.684\" height=\"51.216\" viewBox=\"0 -31.524 6.684 51.216\"><path d=\"M 1.104 0 L 1.104 0 L 1.104 -7.884 L 3.636 -7.884 Q 4.452 -7.884 5.088 -7.668 Q 5.724 -7.452 6.084 -6.972 Q 6.444 -6.492 6.444 -5.676 Q 6.444 -4.728 5.952 -4.176 Q 5.46 -3.624 4.644 -3.432 L 6.684 0 L 5.52 0 L 3.588 -3.324 L 2.136 -3.324 L 2.136 0 Z M 2.136 -4.152 L 2.136 -4.152 L 3.48 -4.152 Q 4.416 -4.152 4.92 -4.524 Q 5.424 -4.896 5.424 -5.664 Q 5.424 -6.432 4.92 -6.744 Q 4.416 -7.056 3.48 -7.056 L 2.136 -7.056 Z \" /></symbol><use href=\"#STIXTwoMathRegular_3676\" transform=\"translate(0 -62.948) scale(1.167)\" fill=\"black\" /><symbol id=\"STIXTwoMathRegular_4244\" width=\"3.756\" height=\"51.216\" viewBox=\"0 -31.524 3.756 51.216\"><path d=\"M 3.756 0 L 3.756 0 L 2.76 0 L 2.76 -6.348 L 1.212 -6.348 L 1.212 -6.996 Q 1.848 -7.092 2.256 -7.23 Q 2.664 -7.368 3 -7.56 L 3.756 -7.56 Z \" /></symbol><use href=\"#STIXTwoMathRegular_4244\" transform=\"translate(8.162 -62.948) scale(1.167)\" fill=\"black\" /></g></g></g><circle cx=\"32.4\" cy=\"-32.4\" r=\"2.4299999999999997\" style=\"stroke:black;fill:black;stroke-width:2;\" /><g><g transform=\" rotate(-45 32.4 -40.17)\"><g><symbol id=\"STIXTwoMathRegular_3676\" width=\"6.684\" height=\"51.216\" viewBox=\"0 -31.524 6.684 51.216\"><path d=\"M 1.104 0 L 1.104 0 L 1.104 -7.884 L 3.636 -7.884 Q 4.452 -7.884 5.088 -7.668 Q 5.724 -7.452 6.084 -6.972 Q 6.444 -6.492 6.444 -5.676 Q 6.444 -4.728 5.952 -4.176 Q 5.46 -3.624 4.644 -3.432 L 6.684 0 L 5.52 0 L 3.588 -3.324 L 2.136 -3.324 L 2.136 0 Z M 2.136 -4.152 L 2.136 -4.152 L 3.48 -4.152 Q 4.416 -4.152 4.92 -4.524 Q 5.424 -4.896 5.424 -5.664 Q 5.424 -6.432 4.92 -6.744 Q 4.416 -7.056 3.48 -7.056 L 2.136 -7.056 Z \" /></symbol><use href=\"#STIXTwoMathRegular_3676\" transform=\"translate(32.4 -76.948) scale(1.167)\" fill=\"black\" /><symbol id=\"STIXTwoMathRegular_4244\" width=\"3.756\" height=\"51.216\" viewBox=\"0 -31.524 3.756 51.216\"><path d=\"M 3.756 0 L 3.756 0 L 2.76 0 L 2.76 -6.348 L 1.212 -6.348 L 1.212 -6.996 Q 1.848 -7.092 2.256 -7.23 Q 2.664 -7.368 3 -7.56 L 3.756 -7.56 Z \" /></symbol><use href=\"#STIXTwoMathRegular_4244\" transform=\"translate(40.562 -76.948) scale(1.167)\" fill=\"black\" /></g></g></g><circle cx=\"64.8\" cy=\"-32.4\" r=\"2.4299999999999997\" style=\"stroke:black;fill:black;stroke-width:2;\" /><g><g transform=\" rotate(-45 64.8 -40.17)\"><g><symbol id=\"STIXTwoMathRegular_3676\" width=\"6.684\" height=\"51.216\" viewBox=\"0 -31.524 6.684 51.216\"><path d=\"M 1.104 0 L 1.104 0 L 1.104 -7.884 L 3.636 -7.884 Q 4.452 -7.884 5.088 -7.668 Q 5.724 -7.452 6.084 -6.972 Q 6.444 -6.492 6.444 -5.676 Q 6.444 -4.728 5.952 -4.176 Q 5.46 -3.624 4.644 -3.432 L 6.684 0 L 5.52 0 L 3.588 -3.324 L 2.136 -3.324 L 2.136 0 Z M 2.136 -4.152 L 2.136 -4.152 L 3.48 -4.152 Q 4.416 -4.152 4.92 -4.524 Q 5.424 -4.896 5.424 -5.664 Q 5.424 -6.432 4.92 -6.744 Q 4.416 -7.056 3.48 -7.056 L 2.136 -7.056 Z \" /></symbol><use href=\"#STIXTwoMathRegular_3676\" transform=\"translate(64.8 -69.948) scale(1.167)\" fill=\"black\" /><symbol id=\"STIXTwoMathRegular_4244\" width=\"3.756\" height=\"51.216\" viewBox=\"0 -31.524 3.756 51.216\"><path d=\"M 3.756 0 L 3.756 0 L 2.76 0 L 2.76 -6.348 L 1.212 -6.348 L 1.212 -6.996 Q 1.848 -7.092 2.256 -7.23 Q 2.664 -7.368 3 -7.56 L 3.756 -7.56 Z \" /></symbol><use href=\"#STIXTwoMathRegular_4244\" transform=\"translate(72.962 -69.948) scale(1.167)\" fill=\"black\" /></g></g></g></svg>"
      ]
     },
     "execution_count": 30,
     "metadata": {},
     "output_type": "execute_result"
    }
   ],
   "source": [
    "# Test some mathtext in svg backend\n",
    "schemdraw.use('svg')\n",
    "d = schemdraw.Drawing()\n",
    "d += elm.Dot().label('R1', rotate=45)\n",
    "d += elm.Dot().at((1, 0)).label('R1', rotate=45, halign='center')\n",
    "d += elm.Dot().at((2, 0)).label('R1', rotate=45, halign='right')\n",
    "d += elm.Dot().at((0, 1)).label('R1', rotate=45, valign='top')\n",
    "d += elm.Dot().at((1, 1)).label('R1', rotate=45, valign='bottom')\n",
    "d += elm.Dot().at((2, 1)).label('R1', rotate=45, valign='center')\n",
    "d.draw()"
   ]
  },
  {
   "cell_type": "code",
   "execution_count": 31,
   "id": "64ddfde5",
   "metadata": {},
   "outputs": [],
   "source": [
    "from schemdraw.backends import svgtext\n",
    "from IPython.display import SVG\n",
    "from xml.etree import ElementTree as ET\n",
    "# These should appear similar to\n",
    "# https://matplotlib.org/3.1.1/gallery/text_labels_and_annotations/demo_text_rotation_mode.html"
   ]
  },
  {
   "cell_type": "code",
   "execution_count": 32,
   "id": "f18935df",
   "metadata": {},
   "outputs": [
    {
     "data": {
      "image/svg+xml": [
       "<svg xmlns=\"http://www.w3.org/2000/svg\" xml:lang=\"en\" height=\"150pt\" width=\"150pt\"><g><text x=\"50\" y=\"43.599999999999994\" fill=\"black\" font-size=\"16\" font-family=\"Arial\" text-anchor=\"start\" transform=\"rotate(-45 50 50)\"><tspan x=\"50\" dy=\"12.8\">ABC</tspan></text><rect x=\"50\" y=\"43.599999999999994\" width=\"32.256\" height=\"12.8\" style=\"stroke:blue;stroke-width:1;fill:none\" transform=\"rotate(-45 50 50)\"/><circle cx=\"50\" cy=\"50\" r=\"1.5\" stroke=\"red\" fill=\"red\"/><rect x=\"45.47451660040609\" y=\"22.666080266452816\" width=\"31.859403133141086\" height=\"31.859403133141086\" style=\"stroke:red;stroke-width:1;fill:none\"/></g></svg>"
      ],
      "text/plain": [
       "<IPython.core.display.SVG object>"
      ]
     },
     "execution_count": 32,
     "metadata": {},
     "output_type": "execute_result"
    }
   ],
   "source": [
    "svghead = '<svg xmlns=\"http://www.w3.org/2000/svg\" xml:lang=\"en\" height=\"150pt\" width=\"150pt\">{}</svg>'\n",
    "s = svgtext.text_tosvg('ABC', 50, 50, halign='left', rotation=45, testmode=True)\n",
    "SVG(svghead.format(ET.tostring(s, encoding='unicode')))"
   ]
  },
  {
   "cell_type": "code",
   "execution_count": 33,
   "id": "d6b57644",
   "metadata": {},
   "outputs": [
    {
     "data": {
      "image/svg+xml": [
       "<svg xmlns=\"http://www.w3.org/2000/svg\" xml:lang=\"en\" height=\"150pt\" width=\"150pt\"><g><text x=\"30\" y=\"29.999999999999996\" fill=\"black\" font-size=\"16\" font-family=\"Arial\" text-anchor=\"start\" transform=\"rotate(-30 30 30)\"><tspan x=\"30\" dy=\"12.8\">ABC</tspan></text><rect x=\"30\" y=\"29.999999999999996\" width=\"32.256\" height=\"12.8\" style=\"stroke:blue;stroke-width:1;fill:none\" transform=\"rotate(-30 30 30)\"/><circle cx=\"30\" cy=\"30\" r=\"1.5\" stroke=\"red\" fill=\"red\"/><rect x=\"30.0\" y=\"13.872\" width=\"34.33451542447085\" height=\"27.21312516844081\" style=\"stroke:red;stroke-width:1;fill:none\"/></g><g><text x=\"90\" y=\"29.999999999999996\" fill=\"black\" font-size=\"16\" font-family=\"Arial\" text-anchor=\"middle\" transform=\"rotate(-30 90 30)\"><tspan x=\"90\" dy=\"12.8\">ABC</tspan></text><rect x=\"73.872\" y=\"29.999999999999996\" width=\"32.256\" height=\"12.8\" style=\"stroke:blue;stroke-width:1;fill:none\" transform=\"rotate(-30 90 30)\"/><circle cx=\"90\" cy=\"30\" r=\"1.5\" stroke=\"red\" fill=\"red\"/><rect x=\"76.03274228776456\" y=\"21.936\" width=\"34.334515424470865\" height=\"27.21312516844081\" style=\"stroke:red;stroke-width:1;fill:none\"/></g><g><text x=\"150\" y=\"29.999999999999996\" fill=\"black\" font-size=\"16\" font-family=\"Arial\" text-anchor=\"end\" transform=\"rotate(-30 150 30)\"><tspan x=\"150\" dy=\"12.8\">ABC</tspan></text><rect x=\"117.744\" y=\"29.999999999999996\" width=\"32.256\" height=\"12.8\" style=\"stroke:blue;stroke-width:1;fill:none\" transform=\"rotate(-30 150 30)\"/><circle cx=\"150\" cy=\"30\" r=\"1.5\" stroke=\"red\" fill=\"red\"/><rect x=\"122.06548457552914\" y=\"29.999999999999996\" width=\"34.334515424470865\" height=\"27.213125168440815\" style=\"stroke:red;stroke-width:1;fill:none\"/></g><g><text x=\"30\" y=\"73.60000000000001\" fill=\"black\" font-size=\"16\" font-family=\"Arial\" text-anchor=\"start\" transform=\"rotate(-30 30 80)\"><tspan x=\"30\" dy=\"12.8\">ABC</tspan></text><rect x=\"30\" y=\"73.60000000000001\" width=\"32.256\" height=\"12.8\" style=\"stroke:blue;stroke-width:1;fill:none\" transform=\"rotate(-30 30 80)\"/><circle cx=\"30\" cy=\"80\" r=\"1.5\" stroke=\"red\" fill=\"red\"/><rect x=\"26.800000000000004\" y=\"58.3294374157796\" width=\"34.33451542447086\" height=\"27.213125168440804\" style=\"stroke:red;stroke-width:1;fill:none\"/></g><g><text x=\"90\" y=\"73.60000000000001\" fill=\"black\" font-size=\"16\" font-family=\"Arial\" text-anchor=\"middle\" transform=\"rotate(-30 90 80)\"><tspan x=\"90\" dy=\"12.8\">ABC</tspan></text><rect x=\"73.872\" y=\"73.60000000000001\" width=\"32.256\" height=\"12.8\" style=\"stroke:blue;stroke-width:1;fill:none\" transform=\"rotate(-30 90 80)\"/><circle cx=\"90\" cy=\"80\" r=\"1.5\" stroke=\"red\" fill=\"red\"/><rect x=\"72.83274228776457\" y=\"66.3934374157796\" width=\"34.33451542447085\" height=\"27.21312516844081\" style=\"stroke:red;stroke-width:1;fill:none\"/></g><g><text x=\"150\" y=\"73.60000000000001\" fill=\"black\" font-size=\"16\" font-family=\"Arial\" text-anchor=\"end\" transform=\"rotate(-30 150 80)\"><tspan x=\"150\" dy=\"12.8\">ABC</tspan></text><rect x=\"117.744\" y=\"73.60000000000001\" width=\"32.256\" height=\"12.8\" style=\"stroke:blue;stroke-width:1;fill:none\" transform=\"rotate(-30 150 80)\"/><circle cx=\"150\" cy=\"80\" r=\"1.5\" stroke=\"red\" fill=\"red\"/><rect x=\"118.86548457552915\" y=\"74.4574374157796\" width=\"34.33451542447084\" height=\"27.21312516844081\" style=\"stroke:red;stroke-width:1;fill:none\"/></g><g><text x=\"30\" y=\"117.2\" fill=\"black\" font-size=\"16\" font-family=\"Arial\" text-anchor=\"start\" transform=\"rotate(-30 30 130)\"><tspan x=\"30\" dy=\"12.8\">ABC</tspan></text><rect x=\"30\" y=\"117.2\" width=\"32.256\" height=\"12.8\" style=\"stroke:blue;stroke-width:1;fill:none\" transform=\"rotate(-30 30 130)\"/><circle cx=\"30\" cy=\"130\" r=\"1.5\" stroke=\"red\" fill=\"red\"/><rect x=\"23.6\" y=\"102.78687483155919\" width=\"34.33451542447086\" height=\"27.21312516844081\" style=\"stroke:red;stroke-width:1;fill:none\"/></g><g><text x=\"90\" y=\"117.2\" fill=\"black\" font-size=\"16\" font-family=\"Arial\" text-anchor=\"middle\" transform=\"rotate(-30 90 130)\"><tspan x=\"90\" dy=\"12.8\">ABC</tspan></text><rect x=\"73.872\" y=\"117.2\" width=\"32.256\" height=\"12.8\" style=\"stroke:blue;stroke-width:1;fill:none\" transform=\"rotate(-30 90 130)\"/><circle cx=\"90\" cy=\"130\" r=\"1.5\" stroke=\"red\" fill=\"red\"/><rect x=\"69.63274228776457\" y=\"110.8508748315592\" width=\"34.33451542447085\" height=\"27.213125168440797\" style=\"stroke:red;stroke-width:1;fill:none\"/></g><g><text x=\"150\" y=\"117.2\" fill=\"black\" font-size=\"16\" font-family=\"Arial\" text-anchor=\"end\" transform=\"rotate(-30 150 130)\"><tspan x=\"150\" dy=\"12.8\">ABC</tspan></text><rect x=\"117.744\" y=\"117.2\" width=\"32.256\" height=\"12.8\" style=\"stroke:blue;stroke-width:1;fill:none\" transform=\"rotate(-30 150 130)\"/><circle cx=\"150\" cy=\"130\" r=\"1.5\" stroke=\"red\" fill=\"red\"/><rect x=\"115.66548457552915\" y=\"118.91487483155919\" width=\"34.33451542447085\" height=\"27.213125168440797\" style=\"stroke:red;stroke-width:1;fill:none\"/></g></svg>"
      ],
      "text/plain": [
       "<IPython.core.display.SVG object>"
      ]
     },
     "execution_count": 33,
     "metadata": {},
     "output_type": "execute_result"
    }
   ],
   "source": [
    "# \"anchor\" rotation mode\n",
    "s = ET.tostring(svgtext.text_tosvg('ABC', 30, 30, rotation=30,\n",
    "                       halign='left', valign='top', \n",
    "                       testmode=True),\n",
    "                encoding='unicode')\n",
    "s += ET.tostring(svgtext.text_tosvg('ABC', 90, 30, rotation=30,\n",
    "                       halign='center', valign='top', \n",
    "                       testmode=True),\n",
    "                encoding='unicode')\n",
    "s += ET.tostring(svgtext.text_tosvg('ABC', 150, 30, rotation=30,\n",
    "                       halign='right', valign='top', \n",
    "                       testmode=True),\n",
    "                encoding='unicode')\n",
    "s += ET.tostring(svgtext.text_tosvg('ABC', 30, 80, rotation=30,\n",
    "                       halign='left', valign='center', \n",
    "                       testmode=True),\n",
    "                encoding='unicode')\n",
    "s += ET.tostring(svgtext.text_tosvg('ABC', 90, 80, rotation=30,\n",
    "                       halign='center', valign='center', \n",
    "                       testmode=True),\n",
    "                encoding='unicode')\n",
    "s += ET.tostring(svgtext.text_tosvg('ABC', 150, 80, rotation=30,\n",
    "                       halign='right', valign='center', \n",
    "                       testmode=True),\n",
    "                encoding='unicode')\n",
    "s += ET.tostring(svgtext.text_tosvg('ABC', 30, 130, rotation=30,\n",
    "                       halign='left', valign='bottom', \n",
    "                       testmode=True),\n",
    "                encoding='unicode')\n",
    "s += ET.tostring(svgtext.text_tosvg('ABC', 90, 130, rotation=30,\n",
    "                       halign='center', valign='bottom', \n",
    "                       testmode=True),\n",
    "                encoding='unicode')\n",
    "s += ET.tostring(svgtext.text_tosvg('ABC', 150, 130, rotation=30,\n",
    "                       halign='right', valign='bottom', \n",
    "                       testmode=True),\n",
    "                encoding='unicode')\n",
    "\n",
    "SVG(svghead.format(s))"
   ]
  },
  {
   "cell_type": "code",
   "execution_count": 34,
   "id": "619818c5",
   "metadata": {},
   "outputs": [
    {
     "data": {
      "image/svg+xml": [
       "<svg xmlns=\"http://www.w3.org/2000/svg\" xml:lang=\"en\" height=\"150pt\" width=\"150pt\"><g><text x=\"30\" y=\"29.999999999999996\" fill=\"black\" font-size=\"16\" font-family=\"Arial\" text-anchor=\"start\" transform=\"translate(0.0 16.128) rotate(-30 30 30)\"><tspan x=\"30\" dy=\"12.8\">ABC</tspan></text><rect x=\"30\" y=\"29.999999999999996\" width=\"32.256\" height=\"12.8\" style=\"stroke:blue;stroke-width:1;fill:none\" transform=\"translate(0.0 16.128) rotate(-30 30 30)\"/><circle cx=\"30\" cy=\"30\" r=\"1.5\" stroke=\"red\" fill=\"red\"/><rect x=\"30.0\" y=\"30.0\" width=\"34.33451542447085\" height=\"27.21312516844081\" style=\"stroke:red;stroke-width:1;fill:none\"/></g><g><text x=\"90\" y=\"29.999999999999996\" fill=\"black\" font-size=\"16\" font-family=\"Arial\" text-anchor=\"middle\" transform=\"translate(-3.1999999999999886 8.064) rotate(-30 90 30)\"><tspan x=\"90\" dy=\"12.8\">ABC</tspan></text><rect x=\"73.872\" y=\"29.999999999999996\" width=\"32.256\" height=\"12.8\" style=\"stroke:blue;stroke-width:1;fill:none\" transform=\"translate(-3.1999999999999886 8.064) rotate(-30 90 30)\"/><circle cx=\"90\" cy=\"30\" r=\"1.5\" stroke=\"red\" fill=\"red\"/><rect x=\"72.83274228776457\" y=\"30.0\" width=\"34.334515424470865\" height=\"27.21312516844081\" style=\"stroke:red;stroke-width:1;fill:none\"/></g><g><text x=\"150\" y=\"29.999999999999996\" fill=\"black\" font-size=\"16\" font-family=\"Arial\" text-anchor=\"end\" transform=\"translate(-6.400000000000006 3.552713678800501e-15) rotate(-30 150 30)\"><tspan x=\"150\" dy=\"12.8\">ABC</tspan></text><rect x=\"117.744\" y=\"29.999999999999996\" width=\"32.256\" height=\"12.8\" style=\"stroke:blue;stroke-width:1;fill:none\" transform=\"translate(-6.400000000000006 3.552713678800501e-15) rotate(-30 150 30)\"/><circle cx=\"150\" cy=\"30\" r=\"1.5\" stroke=\"red\" fill=\"red\"/><rect x=\"115.66548457552913\" y=\"30.0\" width=\"34.334515424470865\" height=\"27.21312516844081\" style=\"stroke:red;stroke-width:1;fill:none\"/></g><g><text x=\"30\" y=\"73.60000000000001\" fill=\"black\" font-size=\"16\" font-family=\"Arial\" text-anchor=\"start\" transform=\"translate(3.1999999999999957 8.063999999999993) rotate(-30 30 80)\"><tspan x=\"30\" dy=\"12.8\">ABC</tspan></text><rect x=\"30\" y=\"73.60000000000001\" width=\"32.256\" height=\"12.8\" style=\"stroke:blue;stroke-width:1;fill:none\" transform=\"translate(3.1999999999999957 8.063999999999993) rotate(-30 30 80)\"/><circle cx=\"30\" cy=\"80\" r=\"1.5\" stroke=\"red\" fill=\"red\"/><rect x=\"30.0\" y=\"66.3934374157796\" width=\"34.33451542447085\" height=\"27.213125168440797\" style=\"stroke:red;stroke-width:1;fill:none\"/></g><g><text x=\"90\" y=\"73.60000000000001\" fill=\"black\" font-size=\"16\" font-family=\"Arial\" text-anchor=\"middle\" transform=\"translate(0.0 0.0) rotate(-30 90 80)\"><tspan x=\"90\" dy=\"12.8\">ABC</tspan></text><rect x=\"73.872\" y=\"73.60000000000001\" width=\"32.256\" height=\"12.8\" style=\"stroke:blue;stroke-width:1;fill:none\" transform=\"translate(0.0 0.0) rotate(-30 90 80)\"/><circle cx=\"90\" cy=\"80\" r=\"1.5\" stroke=\"red\" fill=\"red\"/><rect x=\"72.83274228776457\" y=\"66.3934374157796\" width=\"34.33451542447085\" height=\"27.21312516844081\" style=\"stroke:red;stroke-width:1;fill:none\"/></g><g><text x=\"150\" y=\"73.60000000000001\" fill=\"black\" font-size=\"16\" font-family=\"Arial\" text-anchor=\"end\" transform=\"translate(-3.1999999999999886 -8.063999999999993) rotate(-30 150 80)\"><tspan x=\"150\" dy=\"12.8\">ABC</tspan></text><rect x=\"117.744\" y=\"73.60000000000001\" width=\"32.256\" height=\"12.8\" style=\"stroke:blue;stroke-width:1;fill:none\" transform=\"translate(-3.1999999999999886 -8.063999999999993) rotate(-30 150 80)\"/><circle cx=\"150\" cy=\"80\" r=\"1.5\" stroke=\"red\" fill=\"red\"/><rect x=\"115.66548457552916\" y=\"66.3934374157796\" width=\"34.33451542447084\" height=\"27.21312516844081\" style=\"stroke:red;stroke-width:1;fill:none\"/></g><g><text x=\"30\" y=\"117.2\" fill=\"black\" font-size=\"16\" font-family=\"Arial\" text-anchor=\"start\" transform=\"translate(6.399999999999999 0.0) rotate(-30 30 130)\"><tspan x=\"30\" dy=\"12.8\">ABC</tspan></text><rect x=\"30\" y=\"117.2\" width=\"32.256\" height=\"12.8\" style=\"stroke:blue;stroke-width:1;fill:none\" transform=\"translate(6.399999999999999 0.0) rotate(-30 30 130)\"/><circle cx=\"30\" cy=\"130\" r=\"1.5\" stroke=\"red\" fill=\"red\"/><rect x=\"30.0\" y=\"102.78687483155919\" width=\"34.33451542447085\" height=\"27.21312516844081\" style=\"stroke:red;stroke-width:1;fill:none\"/></g><g><text x=\"90\" y=\"117.2\" fill=\"black\" font-size=\"16\" font-family=\"Arial\" text-anchor=\"middle\" transform=\"translate(3.200000000000003 -8.063999999999993) rotate(-30 90 130)\"><tspan x=\"90\" dy=\"12.8\">ABC</tspan></text><rect x=\"73.872\" y=\"117.2\" width=\"32.256\" height=\"12.8\" style=\"stroke:blue;stroke-width:1;fill:none\" transform=\"translate(3.200000000000003 -8.063999999999993) rotate(-30 90 130)\"/><circle cx=\"90\" cy=\"130\" r=\"1.5\" stroke=\"red\" fill=\"red\"/><rect x=\"72.83274228776457\" y=\"102.7868748315592\" width=\"34.33451542447085\" height=\"27.213125168440797\" style=\"stroke:red;stroke-width:1;fill:none\"/></g><g><text x=\"150\" y=\"117.2\" fill=\"black\" font-size=\"16\" font-family=\"Arial\" text-anchor=\"end\" transform=\"translate(0.0 -16.127999999999986) rotate(-30 150 130)\"><tspan x=\"150\" dy=\"12.8\">ABC</tspan></text><rect x=\"117.744\" y=\"117.2\" width=\"32.256\" height=\"12.8\" style=\"stroke:blue;stroke-width:1;fill:none\" transform=\"translate(0.0 -16.127999999999986) rotate(-30 150 130)\"/><circle cx=\"150\" cy=\"130\" r=\"1.5\" stroke=\"red\" fill=\"red\"/><rect x=\"115.66548457552915\" y=\"102.7868748315592\" width=\"34.33451542447085\" height=\"27.213125168440797\" style=\"stroke:red;stroke-width:1;fill:none\"/></g></svg>"
      ],
      "text/plain": [
       "<IPython.core.display.SVG object>"
      ]
     },
     "execution_count": 34,
     "metadata": {},
     "output_type": "execute_result"
    }
   ],
   "source": [
    "# \"default\" rotation mode\n",
    "s = ET.tostring(svgtext.text_tosvg('ABC', 30, 30, rotation=30,\n",
    "                       halign='left', valign='top', \n",
    "                       rotation_mode='default', testmode=True),\n",
    "                encoding='unicode')\n",
    "s += ET.tostring(svgtext.text_tosvg('ABC', 90, 30, rotation=30,\n",
    "                       halign='center', valign='top', \n",
    "                       rotation_mode='default', testmode=True),\n",
    "                encoding='unicode')\n",
    "s += ET.tostring(svgtext.text_tosvg('ABC', 150, 30, rotation=30,\n",
    "                       halign='right', valign='top', \n",
    "                       rotation_mode='default', testmode=True),\n",
    "                encoding='unicode')\n",
    "s += ET.tostring(svgtext.text_tosvg('ABC', 30, 80, rotation=30,\n",
    "                       halign='left', valign='center', \n",
    "                       rotation_mode='default', testmode=True),\n",
    "                encoding='unicode')\n",
    "s += ET.tostring(svgtext.text_tosvg('ABC', 90, 80, rotation=30,\n",
    "                       halign='center', valign='center', \n",
    "                       rotation_mode='default', testmode=True),\n",
    "                encoding='unicode')\n",
    "s += ET.tostring(svgtext.text_tosvg('ABC', 150, 80, rotation=30,\n",
    "                       halign='right', valign='center', \n",
    "                       rotation_mode='default', testmode=True),\n",
    "                encoding='unicode')\n",
    "s += ET.tostring(svgtext.text_tosvg('ABC', 30, 130, rotation=30,\n",
    "                       halign='left', valign='bottom', \n",
    "                       rotation_mode='default', testmode=True),\n",
    "                encoding='unicode')\n",
    "s += ET.tostring(svgtext.text_tosvg('ABC', 90, 130, rotation=30,\n",
    "                       halign='center', valign='bottom', \n",
    "                       rotation_mode='default', testmode=True),\n",
    "                encoding='unicode')\n",
    "s += ET.tostring(svgtext.text_tosvg('ABC', 150, 130, rotation=30,\n",
    "                       halign='right', valign='bottom', \n",
    "                       rotation_mode='default', testmode=True),\n",
    "                encoding='unicode')\n",
    "\n",
    "SVG(svghead.format(s))"
   ]
  },
  {
   "cell_type": "code",
   "execution_count": 35,
   "id": "a25ad980",
   "metadata": {},
   "outputs": [
    {
     "data": {
      "image/svg+xml": [
       "<svg xmlns=\"http://www.w3.org/2000/svg\" xml:lang=\"en\" height=\"150pt\" width=\"150pt\">b'<g><text x=\"50\" y=\"43.599999999999994\" fill=\"black\" font-size=\"16\" font-family=\"Arial\" text-anchor=\"start\" transform=\"rotate(-145 50 50)\"><tspan x=\"50\" dy=\"12.8\">A<tspan baseline-shift=\"super\" font-size=\"smaller\">x</tspan> + B₁</tspan></text><rect x=\"50\" y=\"43.599999999999994\" width=\"60.19199999999999\" height=\"12.8\" style=\"stroke:blue;stroke-width:1;fill:none\" transform=\"rotate(-145 50 50)\"/><circle cx=\"50\" cy=\"50\" r=\"1.5\" stroke=\"red\" fill=\"red\"/><rect x=\"-2.9772890424896943\" y=\"10.2327140597083\" width=\"56.648178235136385\" height=\"45.00985902374126\" style=\"stroke:red;stroke-width:1;fill:none\"/></g>'</svg>"
      ],
      "text/plain": [
       "<IPython.core.display.SVG object>"
      ]
     },
     "execution_count": 35,
     "metadata": {},
     "output_type": "execute_result"
    }
   ],
   "source": [
    "svghead = '<svg xmlns=\"http://www.w3.org/2000/svg\" xml:lang=\"en\" height=\"150pt\" width=\"150pt\">{}</svg>'\n",
    "s = svgtext.text_tosvg('$A^x$ + $B_1$', 50, 50, halign='left', rotation=145, testmode=True)\n",
    "SVG(svghead.format(ET.tostring(s)))"
   ]
  },
  {
   "cell_type": "code",
   "execution_count": 36,
   "id": "154b6795",
   "metadata": {},
   "outputs": [
    {
     "data": {
      "image/svg+xml": [
       "<svg xmlns=\"http://www.w3.org/2000/svg\" xml:lang=\"en\" height=\"150pt\" width=\"150pt\">b'<g><text x=\"50\" y=\"41.199999999999996\" fill=\"black\" font-size=\"22\" font-family=\"Arial\" text-anchor=\"start\" transform=\"rotate(45 50 50)\"><tspan x=\"50\" dy=\"17.6\">A<tspan baseline-shift=\"super\" font-size=\"smaller\">xy</tspan> + B₁₁</tspan></text><rect x=\"50\" y=\"41.199999999999996\" width=\"103.884\" height=\"17.6\" style=\"stroke:blue;stroke-width:1;fill:none\" transform=\"rotate(45 50 50)\"/><circle cx=\"50\" cy=\"50\" r=\"1.5\" stroke=\"red\" fill=\"red\"/><rect x=\"43.77746032555839\" y=\"43.77746032555838\" width=\"85.90216020566655\" height=\"85.90216020566656\" style=\"stroke:red;stroke-width:1;fill:none\"/></g>'</svg>"
      ],
      "text/plain": [
       "<IPython.core.display.SVG object>"
      ]
     },
     "execution_count": 36,
     "metadata": {},
     "output_type": "execute_result"
    }
   ],
   "source": [
    "svghead = '<svg xmlns=\"http://www.w3.org/2000/svg\" xml:lang=\"en\" height=\"150pt\" width=\"150pt\">{}</svg>'\n",
    "s = svgtext.text_tosvg('$A^{xy}$ + $B_{11}$', 50, 50, halign='left', size=22, rotation=-45, testmode=True)\n",
    "SVG(svghead.format(ET.tostring(s)))"
   ]
  },
  {
   "cell_type": "code",
   "execution_count": null,
   "id": "7097ea9d",
   "metadata": {},
   "outputs": [],
   "source": []
  },
  {
   "cell_type": "code",
   "execution_count": 37,
   "id": "4994cf13",
   "metadata": {},
   "outputs": [],
   "source": [
    "#schemdraw.settextmode('text')\n",
    "schemdraw.svgconfig.text = 'text'"
   ]
  },
  {
   "cell_type": "code",
   "execution_count": 38,
   "id": "60ae408c",
   "metadata": {},
   "outputs": [
    {
     "data": {
      "image/svg+xml": [
       "<svg xmlns=\"http://www.w3.org/2000/svg\" xml:lang=\"en\" height=\"150pt\" width=\"150pt\"><g><text x=\"30\" y=\"29.999999999999996\" fill=\"black\" font-size=\"16\" font-family=\"Arial\" text-anchor=\"start\" transform=\"translate(0.0 16.128) rotate(-30 30 30)\"><tspan x=\"30\" dy=\"12.8\">ABC</tspan></text><rect x=\"30\" y=\"29.999999999999996\" width=\"32.256\" height=\"12.8\" style=\"stroke:blue;stroke-width:1;fill:none\" transform=\"translate(0.0 16.128) rotate(-30 30 30)\"/><circle cx=\"30\" cy=\"30\" r=\"1.5\" stroke=\"red\" fill=\"red\"/><rect x=\"30.0\" y=\"30.0\" width=\"34.33451542447085\" height=\"27.21312516844081\" style=\"stroke:red;stroke-width:1;fill:none\"/></g><g><text x=\"90\" y=\"29.999999999999996\" fill=\"black\" font-size=\"16\" font-family=\"Arial\" text-anchor=\"middle\" transform=\"translate(-3.1999999999999886 8.064) rotate(-30 90 30)\"><tspan x=\"90\" dy=\"12.8\">ABC</tspan></text><rect x=\"73.872\" y=\"29.999999999999996\" width=\"32.256\" height=\"12.8\" style=\"stroke:blue;stroke-width:1;fill:none\" transform=\"translate(-3.1999999999999886 8.064) rotate(-30 90 30)\"/><circle cx=\"90\" cy=\"30\" r=\"1.5\" stroke=\"red\" fill=\"red\"/><rect x=\"72.83274228776457\" y=\"30.0\" width=\"34.334515424470865\" height=\"27.21312516844081\" style=\"stroke:red;stroke-width:1;fill:none\"/></g><g><text x=\"150\" y=\"29.999999999999996\" fill=\"black\" font-size=\"16\" font-family=\"Arial\" text-anchor=\"end\" transform=\"translate(-6.400000000000006 3.552713678800501e-15) rotate(-30 150 30)\"><tspan x=\"150\" dy=\"12.8\">ABC</tspan></text><rect x=\"117.744\" y=\"29.999999999999996\" width=\"32.256\" height=\"12.8\" style=\"stroke:blue;stroke-width:1;fill:none\" transform=\"translate(-6.400000000000006 3.552713678800501e-15) rotate(-30 150 30)\"/><circle cx=\"150\" cy=\"30\" r=\"1.5\" stroke=\"red\" fill=\"red\"/><rect x=\"115.66548457552913\" y=\"30.0\" width=\"34.334515424470865\" height=\"27.21312516844081\" style=\"stroke:red;stroke-width:1;fill:none\"/></g><g><text x=\"30\" y=\"73.60000000000001\" fill=\"black\" font-size=\"16\" font-family=\"Arial\" text-anchor=\"start\" transform=\"translate(3.1999999999999957 8.063999999999993) rotate(-30 30 80)\"><tspan x=\"30\" dy=\"12.8\">ABC</tspan></text><rect x=\"30\" y=\"73.60000000000001\" width=\"32.256\" height=\"12.8\" style=\"stroke:blue;stroke-width:1;fill:none\" transform=\"translate(3.1999999999999957 8.063999999999993) rotate(-30 30 80)\"/><circle cx=\"30\" cy=\"80\" r=\"1.5\" stroke=\"red\" fill=\"red\"/><rect x=\"30.0\" y=\"66.3934374157796\" width=\"34.33451542447085\" height=\"27.213125168440797\" style=\"stroke:red;stroke-width:1;fill:none\"/></g><g><text x=\"90\" y=\"73.60000000000001\" fill=\"black\" font-size=\"16\" font-family=\"Arial\" text-anchor=\"middle\" transform=\"translate(0.0 0.0) rotate(-30 90 80)\"><tspan x=\"90\" dy=\"12.8\">ABC</tspan></text><rect x=\"73.872\" y=\"73.60000000000001\" width=\"32.256\" height=\"12.8\" style=\"stroke:blue;stroke-width:1;fill:none\" transform=\"translate(0.0 0.0) rotate(-30 90 80)\"/><circle cx=\"90\" cy=\"80\" r=\"1.5\" stroke=\"red\" fill=\"red\"/><rect x=\"72.83274228776457\" y=\"66.3934374157796\" width=\"34.33451542447085\" height=\"27.21312516844081\" style=\"stroke:red;stroke-width:1;fill:none\"/></g><g><text x=\"150\" y=\"73.60000000000001\" fill=\"black\" font-size=\"16\" font-family=\"Arial\" text-anchor=\"end\" transform=\"translate(-3.1999999999999886 -8.063999999999993) rotate(-30 150 80)\"><tspan x=\"150\" dy=\"12.8\">ABC</tspan></text><rect x=\"117.744\" y=\"73.60000000000001\" width=\"32.256\" height=\"12.8\" style=\"stroke:blue;stroke-width:1;fill:none\" transform=\"translate(-3.1999999999999886 -8.063999999999993) rotate(-30 150 80)\"/><circle cx=\"150\" cy=\"80\" r=\"1.5\" stroke=\"red\" fill=\"red\"/><rect x=\"115.66548457552916\" y=\"66.3934374157796\" width=\"34.33451542447084\" height=\"27.21312516844081\" style=\"stroke:red;stroke-width:1;fill:none\"/></g><g><text x=\"30\" y=\"117.2\" fill=\"black\" font-size=\"16\" font-family=\"Arial\" text-anchor=\"start\" transform=\"translate(6.399999999999999 0.0) rotate(-30 30 130)\"><tspan x=\"30\" dy=\"12.8\">ABC</tspan></text><rect x=\"30\" y=\"117.2\" width=\"32.256\" height=\"12.8\" style=\"stroke:blue;stroke-width:1;fill:none\" transform=\"translate(6.399999999999999 0.0) rotate(-30 30 130)\"/><circle cx=\"30\" cy=\"130\" r=\"1.5\" stroke=\"red\" fill=\"red\"/><rect x=\"30.0\" y=\"102.78687483155919\" width=\"34.33451542447085\" height=\"27.21312516844081\" style=\"stroke:red;stroke-width:1;fill:none\"/></g><g><text x=\"90\" y=\"117.2\" fill=\"black\" font-size=\"16\" font-family=\"Arial\" text-anchor=\"middle\" transform=\"translate(3.200000000000003 -8.063999999999993) rotate(-30 90 130)\"><tspan x=\"90\" dy=\"12.8\">ABC</tspan></text><rect x=\"73.872\" y=\"117.2\" width=\"32.256\" height=\"12.8\" style=\"stroke:blue;stroke-width:1;fill:none\" transform=\"translate(3.200000000000003 -8.063999999999993) rotate(-30 90 130)\"/><circle cx=\"90\" cy=\"130\" r=\"1.5\" stroke=\"red\" fill=\"red\"/><rect x=\"72.83274228776457\" y=\"102.7868748315592\" width=\"34.33451542447085\" height=\"27.213125168440797\" style=\"stroke:red;stroke-width:1;fill:none\"/></g><g><text x=\"150\" y=\"117.2\" fill=\"black\" font-size=\"16\" font-family=\"Arial\" text-anchor=\"end\" transform=\"translate(0.0 -16.127999999999986) rotate(-30 150 130)\"><tspan x=\"150\" dy=\"12.8\">ABC</tspan></text><rect x=\"117.744\" y=\"117.2\" width=\"32.256\" height=\"12.8\" style=\"stroke:blue;stroke-width:1;fill:none\" transform=\"translate(0.0 -16.127999999999986) rotate(-30 150 130)\"/><circle cx=\"150\" cy=\"130\" r=\"1.5\" stroke=\"red\" fill=\"red\"/><rect x=\"115.66548457552915\" y=\"102.7868748315592\" width=\"34.33451542447085\" height=\"27.213125168440797\" style=\"stroke:red;stroke-width:1;fill:none\"/></g></svg>"
      ],
      "text/plain": [
       "<IPython.core.display.SVG object>"
      ]
     },
     "execution_count": 38,
     "metadata": {},
     "output_type": "execute_result"
    }
   ],
   "source": [
    "# \"default\" rotation mode\n",
    "s = ET.tostring(svgtext.text_tosvg('ABC', 30, 30, rotation=30,\n",
    "                       halign='left', valign='top', \n",
    "                       rotation_mode='default', testmode=True),\n",
    "                encoding='unicode')\n",
    "s += ET.tostring(svgtext.text_tosvg('ABC', 90, 30, rotation=30,\n",
    "                       halign='center', valign='top', \n",
    "                       rotation_mode='default', testmode=True),\n",
    "                encoding='unicode')\n",
    "s += ET.tostring(svgtext.text_tosvg('ABC', 150, 30, rotation=30,\n",
    "                       halign='right', valign='top', \n",
    "                       rotation_mode='default', testmode=True),\n",
    "                encoding='unicode')\n",
    "s += ET.tostring(svgtext.text_tosvg('ABC', 30, 80, rotation=30,\n",
    "                       halign='left', valign='center', \n",
    "                       rotation_mode='default', testmode=True),\n",
    "                encoding='unicode')\n",
    "s += ET.tostring(svgtext.text_tosvg('ABC', 90, 80, rotation=30,\n",
    "                       halign='center', valign='center', \n",
    "                       rotation_mode='default', testmode=True),\n",
    "                encoding='unicode')\n",
    "s += ET.tostring(svgtext.text_tosvg('ABC', 150, 80, rotation=30,\n",
    "                       halign='right', valign='center', \n",
    "                       rotation_mode='default', testmode=True),\n",
    "                encoding='unicode')\n",
    "s += ET.tostring(svgtext.text_tosvg('ABC', 30, 130, rotation=30,\n",
    "                       halign='left', valign='bottom', \n",
    "                       rotation_mode='default', testmode=True),\n",
    "                encoding='unicode')\n",
    "s += ET.tostring(svgtext.text_tosvg('ABC', 90, 130, rotation=30,\n",
    "                       halign='center', valign='bottom', \n",
    "                       rotation_mode='default', testmode=True),\n",
    "                encoding='unicode')\n",
    "s += ET.tostring(svgtext.text_tosvg('ABC', 150, 130, rotation=30,\n",
    "                       halign='right', valign='bottom', \n",
    "                       rotation_mode='default', testmode=True),\n",
    "                encoding='unicode')\n",
    "\n",
    "SVG(svghead.format(s))"
   ]
  },
  {
   "cell_type": "code",
   "execution_count": 39,
   "id": "1872f224",
   "metadata": {},
   "outputs": [
    {
     "data": {
      "image/svg+xml": [
       "<svg xmlns=\"http://www.w3.org/2000/svg\" xml:lang=\"en\" height=\"150pt\" width=\"150pt\"><g><text x=\"30\" y=\"29.999999999999996\" fill=\"black\" font-size=\"16\" font-family=\"Arial\" text-anchor=\"start\" transform=\"rotate(-30 30 30)\"><tspan x=\"30\" dy=\"12.8\">ABC</tspan></text><rect x=\"30\" y=\"29.999999999999996\" width=\"32.256\" height=\"12.8\" style=\"stroke:blue;stroke-width:1;fill:none\" transform=\"rotate(-30 30 30)\"/><circle cx=\"30\" cy=\"30\" r=\"1.5\" stroke=\"red\" fill=\"red\"/><rect x=\"30.0\" y=\"13.872\" width=\"34.33451542447085\" height=\"27.21312516844081\" style=\"stroke:red;stroke-width:1;fill:none\"/></g><g><text x=\"90\" y=\"29.999999999999996\" fill=\"black\" font-size=\"16\" font-family=\"Arial\" text-anchor=\"middle\" transform=\"rotate(-30 90 30)\"><tspan x=\"90\" dy=\"12.8\">ABC</tspan></text><rect x=\"73.872\" y=\"29.999999999999996\" width=\"32.256\" height=\"12.8\" style=\"stroke:blue;stroke-width:1;fill:none\" transform=\"rotate(-30 90 30)\"/><circle cx=\"90\" cy=\"30\" r=\"1.5\" stroke=\"red\" fill=\"red\"/><rect x=\"76.03274228776456\" y=\"21.936\" width=\"34.334515424470865\" height=\"27.21312516844081\" style=\"stroke:red;stroke-width:1;fill:none\"/></g><g><text x=\"150\" y=\"29.999999999999996\" fill=\"black\" font-size=\"16\" font-family=\"Arial\" text-anchor=\"end\" transform=\"rotate(-30 150 30)\"><tspan x=\"150\" dy=\"12.8\">ABC</tspan></text><rect x=\"117.744\" y=\"29.999999999999996\" width=\"32.256\" height=\"12.8\" style=\"stroke:blue;stroke-width:1;fill:none\" transform=\"rotate(-30 150 30)\"/><circle cx=\"150\" cy=\"30\" r=\"1.5\" stroke=\"red\" fill=\"red\"/><rect x=\"122.06548457552914\" y=\"29.999999999999996\" width=\"34.334515424470865\" height=\"27.213125168440815\" style=\"stroke:red;stroke-width:1;fill:none\"/></g><g><text x=\"30\" y=\"73.60000000000001\" fill=\"black\" font-size=\"16\" font-family=\"Arial\" text-anchor=\"start\" transform=\"rotate(-30 30 80)\"><tspan x=\"30\" dy=\"12.8\">ABC</tspan></text><rect x=\"30\" y=\"73.60000000000001\" width=\"32.256\" height=\"12.8\" style=\"stroke:blue;stroke-width:1;fill:none\" transform=\"rotate(-30 30 80)\"/><circle cx=\"30\" cy=\"80\" r=\"1.5\" stroke=\"red\" fill=\"red\"/><rect x=\"26.800000000000004\" y=\"58.3294374157796\" width=\"34.33451542447086\" height=\"27.213125168440804\" style=\"stroke:red;stroke-width:1;fill:none\"/></g><g><text x=\"90\" y=\"73.60000000000001\" fill=\"black\" font-size=\"16\" font-family=\"Arial\" text-anchor=\"middle\" transform=\"rotate(-30 90 80)\"><tspan x=\"90\" dy=\"12.8\">ABC</tspan></text><rect x=\"73.872\" y=\"73.60000000000001\" width=\"32.256\" height=\"12.8\" style=\"stroke:blue;stroke-width:1;fill:none\" transform=\"rotate(-30 90 80)\"/><circle cx=\"90\" cy=\"80\" r=\"1.5\" stroke=\"red\" fill=\"red\"/><rect x=\"72.83274228776457\" y=\"66.3934374157796\" width=\"34.33451542447085\" height=\"27.21312516844081\" style=\"stroke:red;stroke-width:1;fill:none\"/></g><g><text x=\"150\" y=\"73.60000000000001\" fill=\"black\" font-size=\"16\" font-family=\"Arial\" text-anchor=\"end\" transform=\"rotate(-30 150 80)\"><tspan x=\"150\" dy=\"12.8\">ABC</tspan></text><rect x=\"117.744\" y=\"73.60000000000001\" width=\"32.256\" height=\"12.8\" style=\"stroke:blue;stroke-width:1;fill:none\" transform=\"rotate(-30 150 80)\"/><circle cx=\"150\" cy=\"80\" r=\"1.5\" stroke=\"red\" fill=\"red\"/><rect x=\"118.86548457552915\" y=\"74.4574374157796\" width=\"34.33451542447084\" height=\"27.21312516844081\" style=\"stroke:red;stroke-width:1;fill:none\"/></g><g><text x=\"30\" y=\"117.2\" fill=\"black\" font-size=\"16\" font-family=\"Arial\" text-anchor=\"start\" transform=\"rotate(-30 30 130)\"><tspan x=\"30\" dy=\"12.8\">ABC</tspan></text><rect x=\"30\" y=\"117.2\" width=\"32.256\" height=\"12.8\" style=\"stroke:blue;stroke-width:1;fill:none\" transform=\"rotate(-30 30 130)\"/><circle cx=\"30\" cy=\"130\" r=\"1.5\" stroke=\"red\" fill=\"red\"/><rect x=\"23.6\" y=\"102.78687483155919\" width=\"34.33451542447086\" height=\"27.21312516844081\" style=\"stroke:red;stroke-width:1;fill:none\"/></g><g><text x=\"90\" y=\"117.2\" fill=\"black\" font-size=\"16\" font-family=\"Arial\" text-anchor=\"middle\" transform=\"rotate(-30 90 130)\"><tspan x=\"90\" dy=\"12.8\">ABC</tspan></text><rect x=\"73.872\" y=\"117.2\" width=\"32.256\" height=\"12.8\" style=\"stroke:blue;stroke-width:1;fill:none\" transform=\"rotate(-30 90 130)\"/><circle cx=\"90\" cy=\"130\" r=\"1.5\" stroke=\"red\" fill=\"red\"/><rect x=\"69.63274228776457\" y=\"110.8508748315592\" width=\"34.33451542447085\" height=\"27.213125168440797\" style=\"stroke:red;stroke-width:1;fill:none\"/></g><g><text x=\"150\" y=\"117.2\" fill=\"black\" font-size=\"16\" font-family=\"Arial\" text-anchor=\"end\" transform=\"rotate(-30 150 130)\"><tspan x=\"150\" dy=\"12.8\">ABC</tspan></text><rect x=\"117.744\" y=\"117.2\" width=\"32.256\" height=\"12.8\" style=\"stroke:blue;stroke-width:1;fill:none\" transform=\"rotate(-30 150 130)\"/><circle cx=\"150\" cy=\"130\" r=\"1.5\" stroke=\"red\" fill=\"red\"/><rect x=\"115.66548457552915\" y=\"118.91487483155919\" width=\"34.33451542447085\" height=\"27.213125168440797\" style=\"stroke:red;stroke-width:1;fill:none\"/></g></svg>"
      ],
      "text/plain": [
       "<IPython.core.display.SVG object>"
      ]
     },
     "execution_count": 39,
     "metadata": {},
     "output_type": "execute_result"
    }
   ],
   "source": [
    "# \"anchor\" rotation mode\n",
    "s = ET.tostring(svgtext.text_tosvg('ABC', 30, 30, rotation=30,\n",
    "                       halign='left', valign='top', \n",
    "                       testmode=True),\n",
    "                encoding='unicode')\n",
    "s += ET.tostring(svgtext.text_tosvg('ABC', 90, 30, rotation=30,\n",
    "                       halign='center', valign='top', \n",
    "                       testmode=True),\n",
    "                encoding='unicode')\n",
    "s += ET.tostring(svgtext.text_tosvg('ABC', 150, 30, rotation=30,\n",
    "                       halign='right', valign='top', \n",
    "                       testmode=True),\n",
    "                encoding='unicode')\n",
    "s += ET.tostring(svgtext.text_tosvg('ABC', 30, 80, rotation=30,\n",
    "                       halign='left', valign='center', \n",
    "                       testmode=True),\n",
    "                encoding='unicode')\n",
    "s += ET.tostring(svgtext.text_tosvg('ABC', 90, 80, rotation=30,\n",
    "                       halign='center', valign='center', \n",
    "                       testmode=True),\n",
    "                encoding='unicode')\n",
    "s += ET.tostring(svgtext.text_tosvg('ABC', 150, 80, rotation=30,\n",
    "                       halign='right', valign='center', \n",
    "                       testmode=True),\n",
    "                encoding='unicode')\n",
    "s += ET.tostring(svgtext.text_tosvg('ABC', 30, 130, rotation=30,\n",
    "                       halign='left', valign='bottom', \n",
    "                       testmode=True),\n",
    "                encoding='unicode')\n",
    "s += ET.tostring(svgtext.text_tosvg('ABC', 90, 130, rotation=30,\n",
    "                       halign='center', valign='bottom', \n",
    "                       testmode=True),\n",
    "                encoding='unicode')\n",
    "s += ET.tostring(svgtext.text_tosvg('ABC', 150, 130, rotation=30,\n",
    "                       halign='right', valign='bottom', \n",
    "                       testmode=True),\n",
    "                encoding='unicode')\n",
    "\n",
    "SVG(svghead.format(s))"
   ]
  },
  {
   "cell_type": "code",
   "execution_count": 40,
   "id": "bcf0abde",
   "metadata": {},
   "outputs": [
    {
     "data": {
      "image/svg+xml": [
       "<svg xmlns=\"http://www.w3.org/2000/svg\" xml:lang=\"en\" height=\"117.16293999999999pt\" width=\"587.1999999999999pt\" viewBox=\"-2.0 -42.26294 587.1999999999999 117.16293999999999\" style=\"background-color:white;\"><path d=\"M 0.0,-0.0 L 32.4,-0.0 L 35.099999999999994,-8.1 L 40.5,8.1 L 45.89999999999999,-8.1 L 51.3,8.1 L 56.699999999999996,-8.1 L 62.099999999999994,8.1 L 64.8,-0.0 L 97.19999999999999,-0.0\" style=\"stroke:black;fill:none;stroke-width:2;stroke-linecap:round;stroke-linejoin:round;\" /><path d=\"M 97.19999999999999,-0.0 L 129.6,-0.0 L 132.29999999999998,-8.1 L 137.7,8.1 L 143.09999999999997,-8.1 L 148.49999999999997,8.1 L 153.9,-8.1 L 159.29999999999998,8.1 L 162.0,-0.0 L 194.39999999999998,-0.0\" style=\"stroke:black;fill:none;stroke-width:2;stroke-linecap:round;stroke-linejoin:round;\" /><path d=\"M 194.39999999999998,-0.0 L 226.79999999999998,-0.0 L 229.49999999999997,-8.1 L 234.89999999999998,8.1 L 240.29999999999998,-8.1 L 245.7,8.1 L 251.1,-8.1 L 256.49999999999994,8.1 L 259.2,-0.0 L 291.59999999999997,-0.0\" style=\"stroke:black;fill:none;stroke-width:2;stroke-linecap:round;stroke-linejoin:round;\" /><path d=\"M 291.59999999999997,-0.0 L 324.0,-0.0 L 326.7,-8.1 L 332.09999999999997,8.1 L 337.49999999999994,-8.1 L 342.9,8.1 L 348.3,-8.1 L 353.7,8.1 L 356.4,-0.0 L 388.79999999999995,-0.0\" style=\"stroke:black;fill:none;stroke-width:2;stroke-linecap:round;stroke-linejoin:round;\" /><path d=\"M 388.79999999999995,-0.0 L 421.2,-0.0 L 423.9,-8.1 L 429.29999999999995,8.1 L 434.7,-8.1 L 440.1,8.1 L 445.5,-8.1 L 450.9,8.1 L 453.59999999999997,-0.0 L 486.0,-0.0\" style=\"stroke:black;fill:none;stroke-width:2;stroke-linecap:round;stroke-linejoin:round;\" /><path d=\"M 486.0,-0.0 L 518.4,-0.0 L 521.0999999999999,-8.1 L 526.5,8.1 L 531.9,-8.1 L 537.3,8.1 L 542.6999999999999,-8.1 L 548.1,8.1 L 550.8,-0.0 L 583.1999999999999,-0.0\" style=\"stroke:black;fill:none;stroke-width:2;stroke-linecap:round;stroke-linejoin:round;\" /><path d=\"M 0.0,64.8 L 32.4,64.8 L 35.099999999999994,56.699999999999996 L 40.5,72.89999999999999 L 45.89999999999999,56.699999999999996 L 51.3,72.89999999999999 L 56.699999999999996,56.699999999999996 L 62.099999999999994,72.89999999999999 L 64.8,64.8 L 97.19999999999999,64.8\" style=\"stroke:black;fill:none;stroke-width:2;stroke-linecap:round;stroke-linejoin:round;\" /><path d=\"M 97.19999999999999,64.8 L 129.6,64.8 L 132.29999999999998,56.699999999999996 L 137.7,72.89999999999999 L 143.09999999999997,56.699999999999996 L 148.49999999999997,72.89999999999999 L 153.9,56.699999999999996 L 159.29999999999998,72.89999999999999 L 162.0,64.8 L 194.39999999999998,64.8\" style=\"stroke:black;fill:none;stroke-width:2;stroke-linecap:round;stroke-linejoin:round;\" /><path d=\"M 194.39999999999998,64.8 L 226.79999999999998,64.8 L 229.49999999999997,56.699999999999996 L 234.89999999999998,72.89999999999999 L 240.29999999999998,56.699999999999996 L 245.7,72.89999999999999 L 251.1,56.699999999999996 L 256.49999999999994,72.89999999999999 L 259.2,64.8 L 291.59999999999997,64.8\" style=\"stroke:black;fill:none;stroke-width:2;stroke-linecap:round;stroke-linejoin:round;\" /><path d=\"M 291.59999999999997,64.8 L 324.0,64.8 L 326.7,56.699999999999996 L 332.09999999999997,72.89999999999999 L 337.49999999999994,56.699999999999996 L 342.9,72.89999999999999 L 348.3,56.699999999999996 L 353.7,72.89999999999999 L 356.4,64.8 L 388.79999999999995,64.8\" style=\"stroke:black;fill:none;stroke-width:2;stroke-linecap:round;stroke-linejoin:round;\" /><path d=\"M 388.79999999999995,64.8 L 421.2,64.8 L 423.9,56.699999999999996 L 429.29999999999995,72.89999999999999 L 434.7,56.699999999999996 L 440.1,72.89999999999999 L 445.5,56.699999999999996 L 450.9,72.89999999999999 L 453.59999999999997,64.8 L 486.0,64.8\" style=\"stroke:black;fill:none;stroke-width:2;stroke-linecap:round;stroke-linejoin:round;\" /><text x=\"48.599999999999994\" y=\"-24.64\" fill=\"black\" font-size=\"14\" font-family=\"Times\" text-anchor=\"middle\" transform=\"rotate(0 48.599999999999994 -13.44)\"><tspan x=\"48.599999999999994\" dy=\"11.200000000000001\">R₁₁</tspan></text><text x=\"145.79999999999998\" y=\"-24.64\" fill=\"black\" font-size=\"14\" font-family=\"Times\" text-anchor=\"middle\" transform=\"rotate(0 145.79999999999998 -13.44)\"><tspan x=\"145.79999999999998\" dy=\"11.200000000000001\">R²²</tspan></text><text x=\"243.0\" y=\"-24.64\" fill=\"black\" font-size=\"14\" font-family=\"Times\" text-anchor=\"middle\" transform=\"rotate(0 243.0 -13.44)\"><tspan x=\"243.0\" dy=\"11.200000000000001\">θ</tspan></text><text x=\"340.2\" y=\"-24.64\" fill=\"black\" font-size=\"14\" font-family=\"Times\" text-anchor=\"middle\" transform=\"rotate(0 340.2 -13.44)\"><tspan x=\"340.2\" dy=\"11.200000000000001\"><tspan text-decoration=\"overline\">Q₁</tspan></tspan></text><text x=\"437.4\" y=\"-24.64\" fill=\"black\" font-size=\"14\" font-family=\"Times\" text-anchor=\"middle\" transform=\"rotate(0 437.4 -13.44)\"><tspan x=\"437.4\" dy=\"11.200000000000001\">R₁</tspan></text><text x=\"534.6\" y=\"-24.64\" fill=\"black\" font-size=\"14\" font-family=\"Times\" text-anchor=\"middle\" transform=\"rotate(0 534.6 -13.44)\"><tspan x=\"534.6\" dy=\"11.200000000000001\">√<tspan text-decoration=\"overline\">x</tspan></tspan></text><text x=\"48.599999999999994\" y=\"40.15999999999999\" fill=\"black\" font-size=\"14\" font-family=\"Times\" text-anchor=\"middle\" transform=\"rotate(0 48.599999999999994 51.35999999999999)\"><tspan x=\"48.599999999999994\" dy=\"11.200000000000001\">Ω</tspan></text><text x=\"145.79999999999998\" y=\"40.15999999999999\" fill=\"black\" font-size=\"14\" font-family=\"Times\" text-anchor=\"middle\" transform=\"rotate(0 145.79999999999998 51.35999999999999)\"><tspan x=\"145.79999999999998\" dy=\"11.200000000000001\">∠</tspan></text><text x=\"243.0\" y=\"40.15999999999999\" fill=\"black\" font-size=\"14\" font-family=\"Times\" text-anchor=\"middle\" transform=\"rotate(0 243.0 51.35999999999999)\"><tspan x=\"243.0\" dy=\"11.200000000000001\">10%</tspan></text><text x=\"340.2\" y=\"40.15999999999999\" fill=\"black\" font-size=\"14\" font-family=\"Times\" text-anchor=\"middle\" transform=\"rotate(0 340.2 51.35999999999999)\"><tspan x=\"340.2\" dy=\"11.200000000000001\">R²</tspan></text><text x=\"437.4\" y=\"40.15999999999999\" fill=\"black\" font-size=\"14\" font-family=\"Times\" text-anchor=\"middle\" transform=\"rotate(0 437.4 51.35999999999999)\"><tspan x=\"437.4\" dy=\"11.200000000000001\">R₂</tspan></text></svg>"
      ],
      "text/plain": [
       "<svg xmlns=\"http://www.w3.org/2000/svg\" xml:lang=\"en\" height=\"117.16293999999999pt\" width=\"587.1999999999999pt\" viewBox=\"-2.0 -42.26294 587.1999999999999 117.16293999999999\" style=\"background-color:white;\"><path d=\"M 0.0,-0.0 L 32.4,-0.0 L 35.099999999999994,-8.1 L 40.5,8.1 L 45.89999999999999,-8.1 L 51.3,8.1 L 56.699999999999996,-8.1 L 62.099999999999994,8.1 L 64.8,-0.0 L 97.19999999999999,-0.0\" style=\"stroke:black;fill:none;stroke-width:2;stroke-linecap:round;stroke-linejoin:round;\" /><path d=\"M 97.19999999999999,-0.0 L 129.6,-0.0 L 132.29999999999998,-8.1 L 137.7,8.1 L 143.09999999999997,-8.1 L 148.49999999999997,8.1 L 153.9,-8.1 L 159.29999999999998,8.1 L 162.0,-0.0 L 194.39999999999998,-0.0\" style=\"stroke:black;fill:none;stroke-width:2;stroke-linecap:round;stroke-linejoin:round;\" /><path d=\"M 194.39999999999998,-0.0 L 226.79999999999998,-0.0 L 229.49999999999997,-8.1 L 234.89999999999998,8.1 L 240.29999999999998,-8.1 L 245.7,8.1 L 251.1,-8.1 L 256.49999999999994,8.1 L 259.2,-0.0 L 291.59999999999997,-0.0\" style=\"stroke:black;fill:none;stroke-width:2;stroke-linecap:round;stroke-linejoin:round;\" /><path d=\"M 291.59999999999997,-0.0 L 324.0,-0.0 L 326.7,-8.1 L 332.09999999999997,8.1 L 337.49999999999994,-8.1 L 342.9,8.1 L 348.3,-8.1 L 353.7,8.1 L 356.4,-0.0 L 388.79999999999995,-0.0\" style=\"stroke:black;fill:none;stroke-width:2;stroke-linecap:round;stroke-linejoin:round;\" /><path d=\"M 388.79999999999995,-0.0 L 421.2,-0.0 L 423.9,-8.1 L 429.29999999999995,8.1 L 434.7,-8.1 L 440.1,8.1 L 445.5,-8.1 L 450.9,8.1 L 453.59999999999997,-0.0 L 486.0,-0.0\" style=\"stroke:black;fill:none;stroke-width:2;stroke-linecap:round;stroke-linejoin:round;\" /><path d=\"M 486.0,-0.0 L 518.4,-0.0 L 521.0999999999999,-8.1 L 526.5,8.1 L 531.9,-8.1 L 537.3,8.1 L 542.6999999999999,-8.1 L 548.1,8.1 L 550.8,-0.0 L 583.1999999999999,-0.0\" style=\"stroke:black;fill:none;stroke-width:2;stroke-linecap:round;stroke-linejoin:round;\" /><path d=\"M 0.0,64.8 L 32.4,64.8 L 35.099999999999994,56.699999999999996 L 40.5,72.89999999999999 L 45.89999999999999,56.699999999999996 L 51.3,72.89999999999999 L 56.699999999999996,56.699999999999996 L 62.099999999999994,72.89999999999999 L 64.8,64.8 L 97.19999999999999,64.8\" style=\"stroke:black;fill:none;stroke-width:2;stroke-linecap:round;stroke-linejoin:round;\" /><path d=\"M 97.19999999999999,64.8 L 129.6,64.8 L 132.29999999999998,56.699999999999996 L 137.7,72.89999999999999 L 143.09999999999997,56.699999999999996 L 148.49999999999997,72.89999999999999 L 153.9,56.699999999999996 L 159.29999999999998,72.89999999999999 L 162.0,64.8 L 194.39999999999998,64.8\" style=\"stroke:black;fill:none;stroke-width:2;stroke-linecap:round;stroke-linejoin:round;\" /><path d=\"M 194.39999999999998,64.8 L 226.79999999999998,64.8 L 229.49999999999997,56.699999999999996 L 234.89999999999998,72.89999999999999 L 240.29999999999998,56.699999999999996 L 245.7,72.89999999999999 L 251.1,56.699999999999996 L 256.49999999999994,72.89999999999999 L 259.2,64.8 L 291.59999999999997,64.8\" style=\"stroke:black;fill:none;stroke-width:2;stroke-linecap:round;stroke-linejoin:round;\" /><path d=\"M 291.59999999999997,64.8 L 324.0,64.8 L 326.7,56.699999999999996 L 332.09999999999997,72.89999999999999 L 337.49999999999994,56.699999999999996 L 342.9,72.89999999999999 L 348.3,56.699999999999996 L 353.7,72.89999999999999 L 356.4,64.8 L 388.79999999999995,64.8\" style=\"stroke:black;fill:none;stroke-width:2;stroke-linecap:round;stroke-linejoin:round;\" /><path d=\"M 388.79999999999995,64.8 L 421.2,64.8 L 423.9,56.699999999999996 L 429.29999999999995,72.89999999999999 L 434.7,56.699999999999996 L 440.1,72.89999999999999 L 445.5,56.699999999999996 L 450.9,72.89999999999999 L 453.59999999999997,64.8 L 486.0,64.8\" style=\"stroke:black;fill:none;stroke-width:2;stroke-linecap:round;stroke-linejoin:round;\" /><text x=\"48.599999999999994\" y=\"-24.64\" fill=\"black\" font-size=\"14\" font-family=\"Times\" text-anchor=\"middle\" transform=\"rotate(0 48.599999999999994 -13.44)\"><tspan x=\"48.599999999999994\" dy=\"11.200000000000001\">R₁₁</tspan></text><text x=\"145.79999999999998\" y=\"-24.64\" fill=\"black\" font-size=\"14\" font-family=\"Times\" text-anchor=\"middle\" transform=\"rotate(0 145.79999999999998 -13.44)\"><tspan x=\"145.79999999999998\" dy=\"11.200000000000001\">R²²</tspan></text><text x=\"243.0\" y=\"-24.64\" fill=\"black\" font-size=\"14\" font-family=\"Times\" text-anchor=\"middle\" transform=\"rotate(0 243.0 -13.44)\"><tspan x=\"243.0\" dy=\"11.200000000000001\">θ</tspan></text><text x=\"340.2\" y=\"-24.64\" fill=\"black\" font-size=\"14\" font-family=\"Times\" text-anchor=\"middle\" transform=\"rotate(0 340.2 -13.44)\"><tspan x=\"340.2\" dy=\"11.200000000000001\"><tspan text-decoration=\"overline\">Q₁</tspan></tspan></text><text x=\"437.4\" y=\"-24.64\" fill=\"black\" font-size=\"14\" font-family=\"Times\" text-anchor=\"middle\" transform=\"rotate(0 437.4 -13.44)\"><tspan x=\"437.4\" dy=\"11.200000000000001\">R₁</tspan></text><text x=\"534.6\" y=\"-24.64\" fill=\"black\" font-size=\"14\" font-family=\"Times\" text-anchor=\"middle\" transform=\"rotate(0 534.6 -13.44)\"><tspan x=\"534.6\" dy=\"11.200000000000001\">√<tspan text-decoration=\"overline\">x</tspan></tspan></text><text x=\"48.599999999999994\" y=\"40.15999999999999\" fill=\"black\" font-size=\"14\" font-family=\"Times\" text-anchor=\"middle\" transform=\"rotate(0 48.599999999999994 51.35999999999999)\"><tspan x=\"48.599999999999994\" dy=\"11.200000000000001\">Ω</tspan></text><text x=\"145.79999999999998\" y=\"40.15999999999999\" fill=\"black\" font-size=\"14\" font-family=\"Times\" text-anchor=\"middle\" transform=\"rotate(0 145.79999999999998 51.35999999999999)\"><tspan x=\"145.79999999999998\" dy=\"11.200000000000001\">∠</tspan></text><text x=\"243.0\" y=\"40.15999999999999\" fill=\"black\" font-size=\"14\" font-family=\"Times\" text-anchor=\"middle\" transform=\"rotate(0 243.0 51.35999999999999)\"><tspan x=\"243.0\" dy=\"11.200000000000001\">10%</tspan></text><text x=\"340.2\" y=\"40.15999999999999\" fill=\"black\" font-size=\"14\" font-family=\"Times\" text-anchor=\"middle\" transform=\"rotate(0 340.2 51.35999999999999)\"><tspan x=\"340.2\" dy=\"11.200000000000001\">R²</tspan></text><text x=\"437.4\" y=\"40.15999999999999\" fill=\"black\" font-size=\"14\" font-family=\"Times\" text-anchor=\"middle\" transform=\"rotate(0 437.4 51.35999999999999)\"><tspan x=\"437.4\" dy=\"11.200000000000001\">R₂</tspan></text></svg>"
      ]
     },
     "execution_count": 40,
     "metadata": {},
     "output_type": "execute_result"
    }
   ],
   "source": [
    "# Test some mathtext in svg backend - text mode\n",
    "schemdraw.use('svg')\n",
    "d = schemdraw.Drawing(font='Times')\n",
    "d += elm.Resistor().label('$R_{11}$')\n",
    "d += elm.Resistor().label('$R^{22}$')\n",
    "d += elm.Resistor().label(r'$\\theta$')\n",
    "d += elm.Resistor().label('$\\overline{Q_1}$')\n",
    "d += elm.Resistor().label('$R_1$')\n",
    "d += elm.Resistor().label('$\\sqrt{x}$')\n",
    "d.here = (0, -2)\n",
    "d += elm.Resistor().label('Ω')\n",
    "d += elm.Resistor().label('∠')\n",
    "d += elm.Resistor().label('10%')\n",
    "d += elm.Resistor().label('$R^2$')\n",
    "d += elm.Resistor().label('$R_2$')\n",
    "d.draw()"
   ]
  },
  {
   "cell_type": "code",
   "execution_count": null,
   "id": "e15f4d08-b57f-4e5f-92ad-6f296ace97d2",
   "metadata": {},
   "outputs": [],
   "source": []
  },
  {
   "cell_type": "code",
   "execution_count": 41,
   "id": "0bf9de8a",
   "metadata": {},
   "outputs": [],
   "source": [
    "import copy\n",
    "import pickle"
   ]
  },
  {
   "cell_type": "code",
   "execution_count": 42,
   "id": "8fca1c78",
   "metadata": {},
   "outputs": [
    {
     "data": {
      "image/svg+xml": [
       "<svg xmlns=\"http://www.w3.org/2000/svg\" xml:lang=\"en\" height=\"20.2pt\" width=\"101.19999999999999pt\" viewBox=\"-2.0 -10.1 101.19999999999999 20.2\" style=\"background-color:white;\"><path d=\"M 0.0,-0.0 L 32.4,-0.0 L 35.099999999999994,-8.1 L 40.5,8.1 L 45.89999999999999,-8.1 L 51.3,8.1 L 56.699999999999996,-8.1 L 62.099999999999994,8.1 L 64.8,-0.0 L 97.19999999999999,-0.0\" style=\"stroke:black;fill:none;stroke-width:2;stroke-linecap:round;stroke-linejoin:round;\" /></svg>"
      ],
      "text/plain": [
       "<schemdraw.schemdraw.Drawing at 0x793fb761bb50>"
      ]
     },
     "execution_count": 42,
     "metadata": {},
     "output_type": "execute_result"
    }
   ],
   "source": [
    "d = schemdraw.Drawing()\n",
    "d.add(r:=elm.Resistor())\n",
    "copy.deepcopy(d)"
   ]
  },
  {
   "cell_type": "code",
   "execution_count": 43,
   "id": "b6126b83",
   "metadata": {},
   "outputs": [
    {
     "data": {
      "image/svg+xml": [
       "<svg xmlns=\"http://www.w3.org/2000/svg\" xml:lang=\"en\" height=\"20.2pt\" width=\"101.19999999999999pt\" viewBox=\"-2.0 -10.1 101.19999999999999 20.2\" style=\"background-color:white;\"><path d=\"M 0.0,-0.0 L 32.4,-0.0 L 35.099999999999994,-8.1 L 40.5,8.1 L 45.89999999999999,-8.1 L 51.3,8.1 L 56.699999999999996,-8.1 L 62.099999999999994,8.1 L 64.8,-0.0 L 97.19999999999999,-0.0\" style=\"stroke:black;fill:none;stroke-width:2;stroke-linecap:round;stroke-linejoin:round;\" /></svg>"
      ],
      "text/plain": [
       "<schemdraw.schemdraw.Drawing at 0x793fb505eb60>"
      ]
     },
     "execution_count": 43,
     "metadata": {},
     "output_type": "execute_result"
    }
   ],
   "source": [
    "pickle.loads(pickle.dumps(d))"
   ]
  },
  {
   "cell_type": "code",
   "execution_count": null,
   "id": "84e912a0-c9f1-45df-ad7f-a0e1b704bf8a",
   "metadata": {},
   "outputs": [],
   "source": []
  }
 ],
 "metadata": {
  "kernelspec": {
   "display_name": "Python 3 (ipykernel)",
   "language": "python",
   "name": "python3"
  },
  "language_info": {
   "codemirror_mode": {
    "name": "ipython",
    "version": 3
   },
   "file_extension": ".py",
   "mimetype": "text/x-python",
   "name": "python",
   "nbconvert_exporter": "python",
   "pygments_lexer": "ipython3",
   "version": "3.10.9"
  }
 },
 "nbformat": 4,
 "nbformat_minor": 5
}
