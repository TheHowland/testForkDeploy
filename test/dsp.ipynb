{
 "cells": [
  {
   "cell_type": "code",
   "execution_count": 1,
   "metadata": {},
   "outputs": [],
   "source": [
    "# Draw all defined dsp elements, with color and fill"
   ]
  },
  {
   "cell_type": "code",
   "execution_count": 2,
   "metadata": {},
   "outputs": [],
   "source": [
    "import schemdraw\n",
    "from schemdraw import dsp\n",
    "schemdraw.use('svg')"
   ]
  },
  {
   "cell_type": "code",
   "execution_count": 3,
   "metadata": {},
   "outputs": [],
   "source": [
    "def drawElements(elm_list, n=5, dx=1, dy=2, ofst=.8, fname=None, **kwargs):\n",
    "    x, y = 0, 0\n",
    "    d = schemdraw.Drawing(fontsize=12)\n",
    "    for e in elm_list:\n",
    "        element = getattr(dsp, e)\n",
    "        A = d.add(element, xy=[(d.unit+1)*x+1,y], toplabel=e, **kwargs)\n",
    "        x = x + dx\n",
    "        if x >= n:\n",
    "            x=0\n",
    "            y=y-dy\n",
    "    return d\n",
    "\n",
    "elist = ['Square', 'Demod', 'Mixer', 'Filter', 'Oscillator', 'OscillatorBox',\n",
    "         'Sum', 'SumSigma', 'Adc', 'Dac', 'Speaker', 'Amp']"
   ]
  },
  {
   "cell_type": "code",
   "execution_count": 4,
   "metadata": {},
   "outputs": [
    {
     "data": {
      "image/svg+xml": [
       "<svg height=\"187.6pt\" width=\"588.3015999999999pt\" viewBox=\"10.538799999999997 -39.800000000000004 588.3015999999999 187.6\"><circle cx=\"307.8\" cy=\"-0.0\" r=\"16.2\" style=\"stroke:black;fill:none;stroke-width:2;\"/>\n",
       "<circle cx=\"567.0\" cy=\"-0.0\" r=\"16.2\" style=\"stroke:black;fill:none;stroke-width:2;\"/>\n",
       "<circle cx=\"178.2\" cy=\"64.8\" r=\"16.2\" style=\"stroke:black;fill:none;stroke-width:2;\"/>\n",
       "<circle cx=\"307.8\" cy=\"64.8\" r=\"16.2\" style=\"stroke:black;fill:none;stroke-width:2;\"/>\n",
       "<path d=\"M 32.4,-0.0 L 32.4,-16.2 L 64.8,-16.2 L 64.8,16.2 L 32.4,16.2 L 32.4,-0.0\" style=\"stroke:black;fill:none;stroke-width:2;stroke-linecap:round;stroke-linejoin:round;\" />\n",
       "<path d=\"M 162.0,-0.0 L 162.0,-16.2 L 194.39999999999998,-16.2 L 194.39999999999998,16.2 L 162.0,16.2 L 162.0,-0.0\" style=\"stroke:black;fill:none;stroke-width:2;stroke-linecap:round;stroke-linejoin:round;\" />\n",
       "<path d=\"M 166.86,-0.0 L 171.72,-0.0\" style=\"stroke:black;fill:none;stroke-width:2;stroke-linecap:round;stroke-linejoin:round;\" />\n",
       "<path d=\"M 171.72,-8.1 L 184.68,-0.0 L 171.72,8.1 L 171.72,-8.1\" style=\"stroke:black;fill:none;stroke-width:2;stroke-linecap:round;stroke-linejoin:round;\" />\n",
       "<path d=\"M 184.68,-8.1 L 184.68,8.1\" style=\"stroke:black;fill:none;stroke-width:2;stroke-linecap:round;stroke-linejoin:round;\" />\n",
       "<path d=\"M 184.68,-0.0 L 189.54,-0.0\" style=\"stroke:black;fill:none;stroke-width:2;stroke-linecap:round;stroke-linejoin:round;\" />\n",
       "<path d=\"M 319.25512985522204,-11.45512985522207 L 296.34487014477793,11.45512985522207\" style=\"stroke:black;fill:none;stroke-width:2;stroke-linecap:round;stroke-linejoin:round;\" />\n",
       "<path d=\"M 319.25512985522204,11.45512985522207 L 296.34487014477793,-11.45512985522207\" style=\"stroke:black;fill:none;stroke-width:2;stroke-linecap:round;stroke-linejoin:round;\" />\n",
       "<path d=\"M 421.2,-0.0 L 421.2,-16.2 L 453.59999999999997,-16.2 L 453.59999999999997,16.2 L 421.2,16.2 L 421.2,-0.0\" style=\"stroke:black;fill:none;stroke-width:2;stroke-linecap:round;stroke-linejoin:round;\" />\n",
       "<path d=\"M 427.67999999999995,-3.9678556292374245e-16 L 428.7031578947368,-1.0520262802231748 L 429.7263157894737,-1.990049189114524 L 430.7494736842105,-2.712419389570593 L 431.7726315789473,-3.1408568616434303 L 432.7957894736842,-3.2289337573416104 L 433.81894736842105,-2.967105578362386 L 434.84210526315786,-2.3837454705809464 L 435.86526315789473,-1.5420695534401183 L 436.8884210526316,-0.533286472509578 L 437.91157894736835,0.533286472509578 L 438.9347368421052,1.5420695534401183 L 439.9578947368421,2.3837454705809455 L 440.9810526315789,2.9671055783623856 L 442.0042105263158,3.2289337573416104 L 443.02736842105264,3.1408568616434307 L 444.05052631578945,2.712419389570593 L 445.07368421052627,1.990049189114524 L 446.09684210526314,1.0520262802231748 L 447.12,3.9678556292374245e-16\" style=\"stroke:black;fill:none;stroke-width:2;stroke-linecap:round;stroke-linejoin:round;\" />\n",
       "<path d=\"M 427.67999999999995,-8.1 L 428.7031578947368,-9.152026280223174 L 429.7263157894737,-10.090049189114524 L 430.7494736842105,-10.812419389570593 L 431.7726315789473,-11.24085686164343 L 432.7957894736842,-11.32893375734161 L 433.81894736842105,-11.067105578362385 L 434.84210526315786,-10.483745470580946 L 435.86526315789473,-9.642069553440118 L 436.8884210526316,-8.633286472509578 L 437.91157894736835,-7.566713527490422 L 438.9347368421052,-6.557930446559881 L 439.9578947368421,-5.716254529419054 L 440.9810526315789,-5.132894421637615 L 442.0042105263158,-4.87106624265839 L 443.02736842105264,-4.959143138356569 L 444.05052631578945,-5.387580610429406 L 445.07368421052627,-6.109950810885476 L 446.09684210526314,-7.047973719776825 L 447.12,-8.1\" style=\"stroke:black;fill:none;stroke-width:2;stroke-linecap:round;stroke-linejoin:round;\" />\n",
       "<path d=\"M 427.67999999999995,8.1 L 428.7031578947368,7.047973719776825 L 429.7263157894737,6.109950810885476 L 430.7494736842105,5.387580610429406 L 431.7726315789473,4.95914313835657 L 432.7957894736842,4.87106624265839 L 433.81894736842105,5.132894421637614 L 434.84210526315786,5.716254529419053 L 435.86526315789473,6.557930446559881 L 436.8884210526316,7.566713527490422 L 437.91157894736835,8.633286472509578 L 438.9347368421052,9.642069553440118 L 439.9578947368421,10.483745470580946 L 440.9810526315789,11.067105578362385 L 442.0042105263158,11.32893375734161 L 443.02736842105264,11.240856861643431 L 444.05052631578945,10.812419389570593 L 445.07368421052627,10.090049189114524 L 446.09684210526314,9.152026280223174 L 447.12,8.1\" style=\"stroke:black;fill:none;stroke-width:2;stroke-linecap:round;stroke-linejoin:round;\" />\n",
       "<path d=\"M 557.28,-3.9678556292374245e-16 L 558.3031578947368,-1.0520262802231748 L 559.3263157894737,-1.990049189114524 L 560.3494736842105,-2.712419389570593 L 561.3726315789473,-3.1408568616434303 L 562.3957894736842,-3.2289337573416104 L 563.418947368421,-2.967105578362386 L 564.4421052631579,-2.3837454705809464 L 565.4652631578947,-1.5420695534401183 L 566.4884210526316,-0.533286472509578 L 567.5115789473684,0.533286472509578 L 568.5347368421052,1.5420695534401183 L 569.5578947368421,2.3837454705809455 L 570.5810526315789,2.9671055783623856 L 571.6042105263158,3.2289337573416104 L 572.6273684210526,3.1408568616434307 L 573.6505263157894,2.712419389570593 L 574.6736842105263,1.990049189114524 L 575.696842105263,1.0520262802231748 L 576.72,3.9678556292374245e-16\" style=\"stroke:black;fill:none;stroke-width:2;stroke-linecap:round;stroke-linejoin:round;\" />\n",
       "<path d=\"M 32.4,64.8 L 32.4,48.599999999999994 L 64.8,48.599999999999994 L 64.8,81.0 L 32.4,81.0 L 32.4,64.8\" style=\"stroke:black;fill:none;stroke-width:2;stroke-linecap:round;stroke-linejoin:round;\" />\n",
       "<path d=\"M 38.879999999999995,64.8 L 39.90315789473684,63.74797371977682 L 40.92631578947368,62.809950810885475 L 41.949473684210524,62.087580610429406 L 42.97263157894737,61.65914313835656 L 43.99578947368421,61.57106624265839 L 45.018947368421045,61.83289442163761 L 46.04210526315789,62.41625452941905 L 47.06526315789474,63.25793044655988 L 48.088421052631574,64.26671352749042 L 49.11157894736842,65.33328647250958 L 50.134736842105255,66.34206955344011 L 51.1578947368421,67.18374547058094 L 52.18105263157895,67.76710557836239 L 53.204210526315784,68.02893375734162 L 54.227368421052624,67.94085686164343 L 55.25052631578947,67.5124193895706 L 56.27368421052631,66.79004918911451 L 57.29684210526315,65.85202628022319 L 58.32,64.8\" style=\"stroke:black;fill:none;stroke-width:2;stroke-linecap:round;stroke-linejoin:round;\" />\n",
       "<path d=\"M 178.2,58.32 L 178.2,71.28\" style=\"stroke:black;fill:none;stroke-width:2;stroke-linecap:round;stroke-linejoin:round;\" />\n",
       "<path d=\"M 171.72,64.8 L 184.68,64.8\" style=\"stroke:black;fill:none;stroke-width:2;stroke-linecap:round;stroke-linejoin:round;\" />\n",
       "<path d=\"M 421.2,64.8 L 428.328,48.599999999999994 L 466.56,48.599999999999994 L 466.56,81.0 L 428.328,81.0 L 421.2,64.8\" style=\"stroke:black;fill:none;stroke-width:2;stroke-linecap:round;stroke-linejoin:round;\" />\n",
       "<path d=\"M 550.8,64.8 L 550.8,48.599999999999994 L 589.0319999999999,48.599999999999994 L 596.16,64.8 L 589.0319999999999,81.0 L 550.8,81.0 L 550.8,64.8\" style=\"stroke:black;fill:none;stroke-width:2;stroke-linecap:round;stroke-linejoin:round;\" />\n",
       "<path d=\"M 32.4,129.6 L 32.4,121.5 L 40.5,121.5 L 40.5,137.7 L 32.4,137.7 L 32.4,129.6\" style=\"stroke:black;fill:none;stroke-width:2;stroke-linecap:round;stroke-linejoin:round;\" />\n",
       "<path d=\"M 40.5,121.5 L 48.599999999999994,113.39999999999999 L 48.599999999999994,145.79999999999998 L 40.5,137.7 L 40.5,121.5\" style=\"stroke:black;fill:none;stroke-width:2;stroke-linecap:round;stroke-linejoin:round;\" />\n",
       "<path d=\"M 162.0,129.6 L 162.0,145.79999999999998 L 186.29999999999998,129.6 L 162.0,113.39999999999999 L 162.0,129.6\" style=\"stroke:black;fill:none;stroke-width:2;stroke-linecap:round;stroke-linejoin:round;\" />\n",
       "<text x=\"48.599999999999994\" y=\"-25.8\" fill=\"black\" font-size=\"12\"\n",
       "font-family=\"sans-serif\" text-anchor=\"middle\"  transform=\" rotate(0 48.599999999999994 -16.2)\"><tspan x=\"48.599999999999994\" dy=\"9.600000000000001\">Square</tspan></text>\n",
       "<text x=\"178.2\" y=\"-25.8\" fill=\"black\" font-size=\"12\"\n",
       "font-family=\"sans-serif\" text-anchor=\"middle\"  transform=\" rotate(0 178.2 -16.2)\"><tspan x=\"178.2\" dy=\"9.600000000000001\">Demod</tspan></text>\n",
       "<text x=\"307.8\" y=\"-32.28\" fill=\"black\" font-size=\"12\"\n",
       "font-family=\"sans-serif\" text-anchor=\"middle\"  transform=\" rotate(0 307.8 -22.679999999999996)\"><tspan x=\"307.8\" dy=\"9.600000000000001\">Mixer</tspan></text>\n",
       "<text x=\"437.4\" y=\"-25.8\" fill=\"black\" font-size=\"12\"\n",
       "font-family=\"sans-serif\" text-anchor=\"middle\"  transform=\" rotate(0 437.4 -16.2)\"><tspan x=\"437.4\" dy=\"9.600000000000001\">Filter</tspan></text>\n",
       "<text x=\"567.0\" y=\"-25.8\" fill=\"black\" font-size=\"12\"\n",
       "font-family=\"sans-serif\" text-anchor=\"middle\"  transform=\" rotate(0 567.0 -16.2)\"><tspan x=\"567.0\" dy=\"9.600000000000001\">Oscillator</tspan></text>\n",
       "<text x=\"48.599999999999994\" y=\"38.99999999999999\" fill=\"black\" font-size=\"12\"\n",
       "font-family=\"sans-serif\" text-anchor=\"middle\"  transform=\" rotate(0 48.599999999999994 48.599999999999994)\"><tspan x=\"48.599999999999994\" dy=\"9.600000000000001\">OscillatorBox</tspan></text>\n",
       "<text x=\"178.2\" y=\"38.99999999999999\" fill=\"black\" font-size=\"12\"\n",
       "font-family=\"sans-serif\" text-anchor=\"middle\"  transform=\" rotate(0 178.2 48.599999999999994)\"><tspan x=\"178.2\" dy=\"9.600000000000001\">Sum</tspan></text>\n",
       "<text x=\"306.17999999999995\" y=\"59.19999999999999\" fill=\"black\" font-size=\"14\"\n",
       "font-family=\"sans-serif\" text-anchor=\"middle\"  transform=\" rotate(0 306.17999999999995 64.8)\"><tspan x=\"306.17999999999995\" dy=\"11.200000000000001\">Σ</tspan></text>\n",
       "<text x=\"307.8\" y=\"38.99999999999999\" fill=\"black\" font-size=\"12\"\n",
       "font-family=\"sans-serif\" text-anchor=\"middle\"  transform=\" rotate(0 307.8 48.599999999999994)\"><tspan x=\"307.8\" dy=\"9.600000000000001\">SumSigma</tspan></text>\n",
       "<text x=\"443.87999999999994\" y=\"38.99999999999999\" fill=\"black\" font-size=\"12\"\n",
       "font-family=\"sans-serif\" text-anchor=\"middle\"  transform=\" rotate(0 443.87999999999994 48.599999999999994)\"><tspan x=\"443.87999999999994\" dy=\"9.600000000000001\">Adc</tspan></text>\n",
       "<text x=\"573.4799999999999\" y=\"38.99999999999999\" fill=\"black\" font-size=\"12\"\n",
       "font-family=\"sans-serif\" text-anchor=\"middle\"  transform=\" rotate(0 573.4799999999999 48.599999999999994)\"><tspan x=\"573.4799999999999\" dy=\"9.600000000000001\">Dac</tspan></text>\n",
       "<text x=\"40.5\" y=\"100.56\" fill=\"black\" font-size=\"12\"\n",
       "font-family=\"sans-serif\" text-anchor=\"middle\"  transform=\" rotate(0 40.5 110.16)\"><tspan x=\"40.5\" dy=\"9.600000000000001\">Speaker</tspan></text>\n",
       "<text x=\"174.15\" y=\"100.56\" fill=\"black\" font-size=\"12\"\n",
       "font-family=\"sans-serif\" text-anchor=\"middle\"  transform=\" rotate(0 174.15 110.16)\"><tspan x=\"174.15\" dy=\"9.600000000000001\">Amp</tspan></text></svg>"
      ],
      "text/plain": [
       "<schemdraw.schemdraw.Drawing at 0x78ed30676370>"
      ]
     },
     "metadata": {},
     "output_type": "display_data"
    }
   ],
   "source": [
    "display(drawElements(elist, d='right'))"
   ]
  },
  {
   "cell_type": "code",
   "execution_count": 5,
   "metadata": {},
   "outputs": [
    {
     "data": {
      "image/svg+xml": [
       "<svg height=\"187.6pt\" width=\"588.3015999999999pt\" viewBox=\"10.538799999999997 -39.800000000000004 588.3015999999999 187.6\"><circle cx=\"307.8\" cy=\"-0.0\" r=\"16.2\" style=\"stroke:black;fill:yellow;stroke-width:2;\"/>\n",
       "<circle cx=\"567.0\" cy=\"-0.0\" r=\"16.2\" style=\"stroke:black;fill:yellow;stroke-width:2;\"/>\n",
       "<circle cx=\"178.2\" cy=\"64.8\" r=\"16.2\" style=\"stroke:black;fill:yellow;stroke-width:2;\"/>\n",
       "<circle cx=\"307.8\" cy=\"64.8\" r=\"16.2\" style=\"stroke:black;fill:yellow;stroke-width:2;\"/>\n",
       "<path d=\"M 32.4,-0.0 L 32.4,-16.2 L 64.8,-16.2 L 64.8,16.2 L 32.4,16.2 L 32.4,-0.0\" style=\"stroke:black;fill:yellow;stroke-width:2;stroke-linecap:round;stroke-linejoin:round;\" />\n",
       "<path d=\"M 162.0,-0.0 L 162.0,-16.2 L 194.39999999999998,-16.2 L 194.39999999999998,16.2 L 162.0,16.2 L 162.0,-0.0\" style=\"stroke:black;fill:yellow;stroke-width:2;stroke-linecap:round;stroke-linejoin:round;\" />\n",
       "<path d=\"M 166.86,-0.0 L 171.72,-0.0\" style=\"stroke:black;fill:none;stroke-width:2;stroke-linecap:round;stroke-linejoin:round;\" />\n",
       "<path d=\"M 171.72,-8.1 L 184.68,-0.0 L 171.72,8.1 L 171.72,-8.1\" style=\"stroke:black;fill:yellow;stroke-width:2;stroke-linecap:round;stroke-linejoin:round;\" />\n",
       "<path d=\"M 184.68,-8.1 L 184.68,8.1\" style=\"stroke:black;fill:none;stroke-width:2;stroke-linecap:round;stroke-linejoin:round;\" />\n",
       "<path d=\"M 184.68,-0.0 L 189.54,-0.0\" style=\"stroke:black;fill:none;stroke-width:2;stroke-linecap:round;stroke-linejoin:round;\" />\n",
       "<path d=\"M 319.25512985522204,-11.45512985522207 L 296.34487014477793,11.45512985522207\" style=\"stroke:black;fill:none;stroke-width:2;stroke-linecap:round;stroke-linejoin:round;\" />\n",
       "<path d=\"M 319.25512985522204,11.45512985522207 L 296.34487014477793,-11.45512985522207\" style=\"stroke:black;fill:none;stroke-width:2;stroke-linecap:round;stroke-linejoin:round;\" />\n",
       "<path d=\"M 421.2,-0.0 L 421.2,-16.2 L 453.59999999999997,-16.2 L 453.59999999999997,16.2 L 421.2,16.2 L 421.2,-0.0\" style=\"stroke:black;fill:yellow;stroke-width:2;stroke-linecap:round;stroke-linejoin:round;\" />\n",
       "<path d=\"M 427.67999999999995,-3.9678556292374245e-16 L 428.7031578947368,-1.0520262802231748 L 429.7263157894737,-1.990049189114524 L 430.7494736842105,-2.712419389570593 L 431.7726315789473,-3.1408568616434303 L 432.7957894736842,-3.2289337573416104 L 433.81894736842105,-2.967105578362386 L 434.84210526315786,-2.3837454705809464 L 435.86526315789473,-1.5420695534401183 L 436.8884210526316,-0.533286472509578 L 437.91157894736835,0.533286472509578 L 438.9347368421052,1.5420695534401183 L 439.9578947368421,2.3837454705809455 L 440.9810526315789,2.9671055783623856 L 442.0042105263158,3.2289337573416104 L 443.02736842105264,3.1408568616434307 L 444.05052631578945,2.712419389570593 L 445.07368421052627,1.990049189114524 L 446.09684210526314,1.0520262802231748 L 447.12,3.9678556292374245e-16\" style=\"stroke:black;fill:none;stroke-width:2;stroke-linecap:round;stroke-linejoin:round;\" />\n",
       "<path d=\"M 427.67999999999995,-8.1 L 428.7031578947368,-9.152026280223174 L 429.7263157894737,-10.090049189114524 L 430.7494736842105,-10.812419389570593 L 431.7726315789473,-11.24085686164343 L 432.7957894736842,-11.32893375734161 L 433.81894736842105,-11.067105578362385 L 434.84210526315786,-10.483745470580946 L 435.86526315789473,-9.642069553440118 L 436.8884210526316,-8.633286472509578 L 437.91157894736835,-7.566713527490422 L 438.9347368421052,-6.557930446559881 L 439.9578947368421,-5.716254529419054 L 440.9810526315789,-5.132894421637615 L 442.0042105263158,-4.87106624265839 L 443.02736842105264,-4.959143138356569 L 444.05052631578945,-5.387580610429406 L 445.07368421052627,-6.109950810885476 L 446.09684210526314,-7.047973719776825 L 447.12,-8.1\" style=\"stroke:black;fill:none;stroke-width:2;stroke-linecap:round;stroke-linejoin:round;\" />\n",
       "<path d=\"M 427.67999999999995,8.1 L 428.7031578947368,7.047973719776825 L 429.7263157894737,6.109950810885476 L 430.7494736842105,5.387580610429406 L 431.7726315789473,4.95914313835657 L 432.7957894736842,4.87106624265839 L 433.81894736842105,5.132894421637614 L 434.84210526315786,5.716254529419053 L 435.86526315789473,6.557930446559881 L 436.8884210526316,7.566713527490422 L 437.91157894736835,8.633286472509578 L 438.9347368421052,9.642069553440118 L 439.9578947368421,10.483745470580946 L 440.9810526315789,11.067105578362385 L 442.0042105263158,11.32893375734161 L 443.02736842105264,11.240856861643431 L 444.05052631578945,10.812419389570593 L 445.07368421052627,10.090049189114524 L 446.09684210526314,9.152026280223174 L 447.12,8.1\" style=\"stroke:black;fill:none;stroke-width:2;stroke-linecap:round;stroke-linejoin:round;\" />\n",
       "<path d=\"M 557.28,-3.9678556292374245e-16 L 558.3031578947368,-1.0520262802231748 L 559.3263157894737,-1.990049189114524 L 560.3494736842105,-2.712419389570593 L 561.3726315789473,-3.1408568616434303 L 562.3957894736842,-3.2289337573416104 L 563.418947368421,-2.967105578362386 L 564.4421052631579,-2.3837454705809464 L 565.4652631578947,-1.5420695534401183 L 566.4884210526316,-0.533286472509578 L 567.5115789473684,0.533286472509578 L 568.5347368421052,1.5420695534401183 L 569.5578947368421,2.3837454705809455 L 570.5810526315789,2.9671055783623856 L 571.6042105263158,3.2289337573416104 L 572.6273684210526,3.1408568616434307 L 573.6505263157894,2.712419389570593 L 574.6736842105263,1.990049189114524 L 575.696842105263,1.0520262802231748 L 576.72,3.9678556292374245e-16\" style=\"stroke:black;fill:none;stroke-width:2;stroke-linecap:round;stroke-linejoin:round;\" />\n",
       "<path d=\"M 32.4,64.8 L 32.4,48.599999999999994 L 64.8,48.599999999999994 L 64.8,81.0 L 32.4,81.0 L 32.4,64.8\" style=\"stroke:black;fill:yellow;stroke-width:2;stroke-linecap:round;stroke-linejoin:round;\" />\n",
       "<path d=\"M 38.879999999999995,64.8 L 39.90315789473684,63.74797371977682 L 40.92631578947368,62.809950810885475 L 41.949473684210524,62.087580610429406 L 42.97263157894737,61.65914313835656 L 43.99578947368421,61.57106624265839 L 45.018947368421045,61.83289442163761 L 46.04210526315789,62.41625452941905 L 47.06526315789474,63.25793044655988 L 48.088421052631574,64.26671352749042 L 49.11157894736842,65.33328647250958 L 50.134736842105255,66.34206955344011 L 51.1578947368421,67.18374547058094 L 52.18105263157895,67.76710557836239 L 53.204210526315784,68.02893375734162 L 54.227368421052624,67.94085686164343 L 55.25052631578947,67.5124193895706 L 56.27368421052631,66.79004918911451 L 57.29684210526315,65.85202628022319 L 58.32,64.8\" style=\"stroke:black;fill:none;stroke-width:2;stroke-linecap:round;stroke-linejoin:round;\" />\n",
       "<path d=\"M 178.2,58.32 L 178.2,71.28\" style=\"stroke:black;fill:none;stroke-width:2;stroke-linecap:round;stroke-linejoin:round;\" />\n",
       "<path d=\"M 171.72,64.8 L 184.68,64.8\" style=\"stroke:black;fill:none;stroke-width:2;stroke-linecap:round;stroke-linejoin:round;\" />\n",
       "<path d=\"M 421.2,64.8 L 428.328,48.599999999999994 L 466.56,48.599999999999994 L 466.56,81.0 L 428.328,81.0 L 421.2,64.8\" style=\"stroke:black;fill:yellow;stroke-width:2;stroke-linecap:round;stroke-linejoin:round;\" />\n",
       "<path d=\"M 550.8,64.8 L 550.8,48.599999999999994 L 589.0319999999999,48.599999999999994 L 596.16,64.8 L 589.0319999999999,81.0 L 550.8,81.0 L 550.8,64.8\" style=\"stroke:black;fill:yellow;stroke-width:2;stroke-linecap:round;stroke-linejoin:round;\" />\n",
       "<path d=\"M 32.4,129.6 L 32.4,121.5 L 40.5,121.5 L 40.5,137.7 L 32.4,137.7 L 32.4,129.6\" style=\"stroke:black;fill:yellow;stroke-width:2;stroke-linecap:round;stroke-linejoin:round;\" />\n",
       "<path d=\"M 40.5,121.5 L 48.599999999999994,113.39999999999999 L 48.599999999999994,145.79999999999998 L 40.5,137.7 L 40.5,121.5\" style=\"stroke:black;fill:yellow;stroke-width:2;stroke-linecap:round;stroke-linejoin:round;\" />\n",
       "<path d=\"M 162.0,129.6 L 162.0,145.79999999999998 L 186.29999999999998,129.6 L 162.0,113.39999999999999 L 162.0,129.6\" style=\"stroke:black;fill:yellow;stroke-width:2;stroke-linecap:round;stroke-linejoin:round;\" />\n",
       "<text x=\"48.599999999999994\" y=\"-25.8\" fill=\"black\" font-size=\"12\"\n",
       "font-family=\"sans-serif\" text-anchor=\"middle\"  transform=\" rotate(0 48.599999999999994 -16.2)\"><tspan x=\"48.599999999999994\" dy=\"9.600000000000001\">Square</tspan></text>\n",
       "<text x=\"178.2\" y=\"-25.8\" fill=\"black\" font-size=\"12\"\n",
       "font-family=\"sans-serif\" text-anchor=\"middle\"  transform=\" rotate(0 178.2 -16.2)\"><tspan x=\"178.2\" dy=\"9.600000000000001\">Demod</tspan></text>\n",
       "<text x=\"307.8\" y=\"-32.28\" fill=\"black\" font-size=\"12\"\n",
       "font-family=\"sans-serif\" text-anchor=\"middle\"  transform=\" rotate(0 307.8 -22.679999999999996)\"><tspan x=\"307.8\" dy=\"9.600000000000001\">Mixer</tspan></text>\n",
       "<text x=\"437.4\" y=\"-25.8\" fill=\"black\" font-size=\"12\"\n",
       "font-family=\"sans-serif\" text-anchor=\"middle\"  transform=\" rotate(0 437.4 -16.2)\"><tspan x=\"437.4\" dy=\"9.600000000000001\">Filter</tspan></text>\n",
       "<text x=\"567.0\" y=\"-25.8\" fill=\"black\" font-size=\"12\"\n",
       "font-family=\"sans-serif\" text-anchor=\"middle\"  transform=\" rotate(0 567.0 -16.2)\"><tspan x=\"567.0\" dy=\"9.600000000000001\">Oscillator</tspan></text>\n",
       "<text x=\"48.599999999999994\" y=\"38.99999999999999\" fill=\"black\" font-size=\"12\"\n",
       "font-family=\"sans-serif\" text-anchor=\"middle\"  transform=\" rotate(0 48.599999999999994 48.599999999999994)\"><tspan x=\"48.599999999999994\" dy=\"9.600000000000001\">OscillatorBox</tspan></text>\n",
       "<text x=\"178.2\" y=\"38.99999999999999\" fill=\"black\" font-size=\"12\"\n",
       "font-family=\"sans-serif\" text-anchor=\"middle\"  transform=\" rotate(0 178.2 48.599999999999994)\"><tspan x=\"178.2\" dy=\"9.600000000000001\">Sum</tspan></text>\n",
       "<text x=\"306.17999999999995\" y=\"59.19999999999999\" fill=\"black\" font-size=\"14\"\n",
       "font-family=\"sans-serif\" text-anchor=\"middle\"  transform=\" rotate(0 306.17999999999995 64.8)\"><tspan x=\"306.17999999999995\" dy=\"11.200000000000001\">Σ</tspan></text>\n",
       "<text x=\"307.8\" y=\"38.99999999999999\" fill=\"black\" font-size=\"12\"\n",
       "font-family=\"sans-serif\" text-anchor=\"middle\"  transform=\" rotate(0 307.8 48.599999999999994)\"><tspan x=\"307.8\" dy=\"9.600000000000001\">SumSigma</tspan></text>\n",
       "<text x=\"443.87999999999994\" y=\"38.99999999999999\" fill=\"black\" font-size=\"12\"\n",
       "font-family=\"sans-serif\" text-anchor=\"middle\"  transform=\" rotate(0 443.87999999999994 48.599999999999994)\"><tspan x=\"443.87999999999994\" dy=\"9.600000000000001\">Adc</tspan></text>\n",
       "<text x=\"573.4799999999999\" y=\"38.99999999999999\" fill=\"black\" font-size=\"12\"\n",
       "font-family=\"sans-serif\" text-anchor=\"middle\"  transform=\" rotate(0 573.4799999999999 48.599999999999994)\"><tspan x=\"573.4799999999999\" dy=\"9.600000000000001\">Dac</tspan></text>\n",
       "<text x=\"40.5\" y=\"100.56\" fill=\"black\" font-size=\"12\"\n",
       "font-family=\"sans-serif\" text-anchor=\"middle\"  transform=\" rotate(0 40.5 110.16)\"><tspan x=\"40.5\" dy=\"9.600000000000001\">Speaker</tspan></text>\n",
       "<text x=\"174.15\" y=\"100.56\" fill=\"black\" font-size=\"12\"\n",
       "font-family=\"sans-serif\" text-anchor=\"middle\"  transform=\" rotate(0 174.15 110.16)\"><tspan x=\"174.15\" dy=\"9.600000000000001\">Amp</tspan></text></svg>"
      ],
      "text/plain": [
       "<schemdraw.schemdraw.Drawing at 0x78ed078071f0>"
      ]
     },
     "metadata": {},
     "output_type": "display_data"
    }
   ],
   "source": [
    "display(drawElements(elist, d='right', fill='yellow'))"
   ]
  },
  {
   "cell_type": "code",
   "execution_count": 6,
   "metadata": {},
   "outputs": [
    {
     "data": {
      "image/svg+xml": [
       "<svg height=\"187.6pt\" width=\"588.3015999999999pt\" viewBox=\"10.538799999999997 -39.800000000000004 588.3015999999999 187.6\"><circle cx=\"307.8\" cy=\"-0.0\" r=\"16.2\" style=\"stroke:blue;fill:none;stroke-width:2;\"/>\n",
       "<circle cx=\"567.0\" cy=\"-0.0\" r=\"16.2\" style=\"stroke:blue;fill:none;stroke-width:2;\"/>\n",
       "<circle cx=\"178.2\" cy=\"64.8\" r=\"16.2\" style=\"stroke:blue;fill:none;stroke-width:2;\"/>\n",
       "<circle cx=\"307.8\" cy=\"64.8\" r=\"16.2\" style=\"stroke:blue;fill:none;stroke-width:2;\"/>\n",
       "<path d=\"M 32.4,-0.0 L 32.4,-16.2 L 64.8,-16.2 L 64.8,16.2 L 32.4,16.2 L 32.4,-0.0\" style=\"stroke:blue;fill:none;stroke-width:2;stroke-linecap:round;stroke-linejoin:round;\" />\n",
       "<path d=\"M 162.0,-0.0 L 162.0,-16.2 L 194.39999999999998,-16.2 L 194.39999999999998,16.2 L 162.0,16.2 L 162.0,-0.0\" style=\"stroke:blue;fill:none;stroke-width:2;stroke-linecap:round;stroke-linejoin:round;\" />\n",
       "<path d=\"M 166.86,-0.0 L 171.72,-0.0\" style=\"stroke:blue;fill:none;stroke-width:2;stroke-linecap:round;stroke-linejoin:round;\" />\n",
       "<path d=\"M 171.72,-8.1 L 184.68,-0.0 L 171.72,8.1 L 171.72,-8.1\" style=\"stroke:blue;fill:none;stroke-width:2;stroke-linecap:round;stroke-linejoin:round;\" />\n",
       "<path d=\"M 184.68,-8.1 L 184.68,8.1\" style=\"stroke:blue;fill:none;stroke-width:2;stroke-linecap:round;stroke-linejoin:round;\" />\n",
       "<path d=\"M 184.68,-0.0 L 189.54,-0.0\" style=\"stroke:blue;fill:none;stroke-width:2;stroke-linecap:round;stroke-linejoin:round;\" />\n",
       "<path d=\"M 319.25512985522204,-11.45512985522207 L 296.34487014477793,11.45512985522207\" style=\"stroke:blue;fill:none;stroke-width:2;stroke-linecap:round;stroke-linejoin:round;\" />\n",
       "<path d=\"M 319.25512985522204,11.45512985522207 L 296.34487014477793,-11.45512985522207\" style=\"stroke:blue;fill:none;stroke-width:2;stroke-linecap:round;stroke-linejoin:round;\" />\n",
       "<path d=\"M 421.2,-0.0 L 421.2,-16.2 L 453.59999999999997,-16.2 L 453.59999999999997,16.2 L 421.2,16.2 L 421.2,-0.0\" style=\"stroke:blue;fill:none;stroke-width:2;stroke-linecap:round;stroke-linejoin:round;\" />\n",
       "<path d=\"M 427.67999999999995,-3.9678556292374245e-16 L 428.7031578947368,-1.0520262802231748 L 429.7263157894737,-1.990049189114524 L 430.7494736842105,-2.712419389570593 L 431.7726315789473,-3.1408568616434303 L 432.7957894736842,-3.2289337573416104 L 433.81894736842105,-2.967105578362386 L 434.84210526315786,-2.3837454705809464 L 435.86526315789473,-1.5420695534401183 L 436.8884210526316,-0.533286472509578 L 437.91157894736835,0.533286472509578 L 438.9347368421052,1.5420695534401183 L 439.9578947368421,2.3837454705809455 L 440.9810526315789,2.9671055783623856 L 442.0042105263158,3.2289337573416104 L 443.02736842105264,3.1408568616434307 L 444.05052631578945,2.712419389570593 L 445.07368421052627,1.990049189114524 L 446.09684210526314,1.0520262802231748 L 447.12,3.9678556292374245e-16\" style=\"stroke:blue;fill:none;stroke-width:2;stroke-linecap:round;stroke-linejoin:round;\" />\n",
       "<path d=\"M 427.67999999999995,-8.1 L 428.7031578947368,-9.152026280223174 L 429.7263157894737,-10.090049189114524 L 430.7494736842105,-10.812419389570593 L 431.7726315789473,-11.24085686164343 L 432.7957894736842,-11.32893375734161 L 433.81894736842105,-11.067105578362385 L 434.84210526315786,-10.483745470580946 L 435.86526315789473,-9.642069553440118 L 436.8884210526316,-8.633286472509578 L 437.91157894736835,-7.566713527490422 L 438.9347368421052,-6.557930446559881 L 439.9578947368421,-5.716254529419054 L 440.9810526315789,-5.132894421637615 L 442.0042105263158,-4.87106624265839 L 443.02736842105264,-4.959143138356569 L 444.05052631578945,-5.387580610429406 L 445.07368421052627,-6.109950810885476 L 446.09684210526314,-7.047973719776825 L 447.12,-8.1\" style=\"stroke:blue;fill:none;stroke-width:2;stroke-linecap:round;stroke-linejoin:round;\" />\n",
       "<path d=\"M 427.67999999999995,8.1 L 428.7031578947368,7.047973719776825 L 429.7263157894737,6.109950810885476 L 430.7494736842105,5.387580610429406 L 431.7726315789473,4.95914313835657 L 432.7957894736842,4.87106624265839 L 433.81894736842105,5.132894421637614 L 434.84210526315786,5.716254529419053 L 435.86526315789473,6.557930446559881 L 436.8884210526316,7.566713527490422 L 437.91157894736835,8.633286472509578 L 438.9347368421052,9.642069553440118 L 439.9578947368421,10.483745470580946 L 440.9810526315789,11.067105578362385 L 442.0042105263158,11.32893375734161 L 443.02736842105264,11.240856861643431 L 444.05052631578945,10.812419389570593 L 445.07368421052627,10.090049189114524 L 446.09684210526314,9.152026280223174 L 447.12,8.1\" style=\"stroke:blue;fill:none;stroke-width:2;stroke-linecap:round;stroke-linejoin:round;\" />\n",
       "<path d=\"M 557.28,-3.9678556292374245e-16 L 558.3031578947368,-1.0520262802231748 L 559.3263157894737,-1.990049189114524 L 560.3494736842105,-2.712419389570593 L 561.3726315789473,-3.1408568616434303 L 562.3957894736842,-3.2289337573416104 L 563.418947368421,-2.967105578362386 L 564.4421052631579,-2.3837454705809464 L 565.4652631578947,-1.5420695534401183 L 566.4884210526316,-0.533286472509578 L 567.5115789473684,0.533286472509578 L 568.5347368421052,1.5420695534401183 L 569.5578947368421,2.3837454705809455 L 570.5810526315789,2.9671055783623856 L 571.6042105263158,3.2289337573416104 L 572.6273684210526,3.1408568616434307 L 573.6505263157894,2.712419389570593 L 574.6736842105263,1.990049189114524 L 575.696842105263,1.0520262802231748 L 576.72,3.9678556292374245e-16\" style=\"stroke:blue;fill:none;stroke-width:2;stroke-linecap:round;stroke-linejoin:round;\" />\n",
       "<path d=\"M 32.4,64.8 L 32.4,48.599999999999994 L 64.8,48.599999999999994 L 64.8,81.0 L 32.4,81.0 L 32.4,64.8\" style=\"stroke:blue;fill:none;stroke-width:2;stroke-linecap:round;stroke-linejoin:round;\" />\n",
       "<path d=\"M 38.879999999999995,64.8 L 39.90315789473684,63.74797371977682 L 40.92631578947368,62.809950810885475 L 41.949473684210524,62.087580610429406 L 42.97263157894737,61.65914313835656 L 43.99578947368421,61.57106624265839 L 45.018947368421045,61.83289442163761 L 46.04210526315789,62.41625452941905 L 47.06526315789474,63.25793044655988 L 48.088421052631574,64.26671352749042 L 49.11157894736842,65.33328647250958 L 50.134736842105255,66.34206955344011 L 51.1578947368421,67.18374547058094 L 52.18105263157895,67.76710557836239 L 53.204210526315784,68.02893375734162 L 54.227368421052624,67.94085686164343 L 55.25052631578947,67.5124193895706 L 56.27368421052631,66.79004918911451 L 57.29684210526315,65.85202628022319 L 58.32,64.8\" style=\"stroke:blue;fill:none;stroke-width:2;stroke-linecap:round;stroke-linejoin:round;\" />\n",
       "<path d=\"M 178.2,58.32 L 178.2,71.28\" style=\"stroke:blue;fill:none;stroke-width:2;stroke-linecap:round;stroke-linejoin:round;\" />\n",
       "<path d=\"M 171.72,64.8 L 184.68,64.8\" style=\"stroke:blue;fill:none;stroke-width:2;stroke-linecap:round;stroke-linejoin:round;\" />\n",
       "<path d=\"M 421.2,64.8 L 428.328,48.599999999999994 L 466.56,48.599999999999994 L 466.56,81.0 L 428.328,81.0 L 421.2,64.8\" style=\"stroke:blue;fill:none;stroke-width:2;stroke-linecap:round;stroke-linejoin:round;\" />\n",
       "<path d=\"M 550.8,64.8 L 550.8,48.599999999999994 L 589.0319999999999,48.599999999999994 L 596.16,64.8 L 589.0319999999999,81.0 L 550.8,81.0 L 550.8,64.8\" style=\"stroke:blue;fill:none;stroke-width:2;stroke-linecap:round;stroke-linejoin:round;\" />\n",
       "<path d=\"M 32.4,129.6 L 32.4,121.5 L 40.5,121.5 L 40.5,137.7 L 32.4,137.7 L 32.4,129.6\" style=\"stroke:blue;fill:none;stroke-width:2;stroke-linecap:round;stroke-linejoin:round;\" />\n",
       "<path d=\"M 40.5,121.5 L 48.599999999999994,113.39999999999999 L 48.599999999999994,145.79999999999998 L 40.5,137.7 L 40.5,121.5\" style=\"stroke:blue;fill:none;stroke-width:2;stroke-linecap:round;stroke-linejoin:round;\" />\n",
       "<path d=\"M 162.0,129.6 L 162.0,145.79999999999998 L 186.29999999999998,129.6 L 162.0,113.39999999999999 L 162.0,129.6\" style=\"stroke:blue;fill:none;stroke-width:2;stroke-linecap:round;stroke-linejoin:round;\" />\n",
       "<text x=\"48.599999999999994\" y=\"-25.8\" fill=\"blue\" font-size=\"12\"\n",
       "font-family=\"sans-serif\" text-anchor=\"middle\"  transform=\" rotate(0 48.599999999999994 -16.2)\"><tspan x=\"48.599999999999994\" dy=\"9.600000000000001\">Square</tspan></text>\n",
       "<text x=\"178.2\" y=\"-25.8\" fill=\"blue\" font-size=\"12\"\n",
       "font-family=\"sans-serif\" text-anchor=\"middle\"  transform=\" rotate(0 178.2 -16.2)\"><tspan x=\"178.2\" dy=\"9.600000000000001\">Demod</tspan></text>\n",
       "<text x=\"307.8\" y=\"-32.28\" fill=\"blue\" font-size=\"12\"\n",
       "font-family=\"sans-serif\" text-anchor=\"middle\"  transform=\" rotate(0 307.8 -22.679999999999996)\"><tspan x=\"307.8\" dy=\"9.600000000000001\">Mixer</tspan></text>\n",
       "<text x=\"437.4\" y=\"-25.8\" fill=\"blue\" font-size=\"12\"\n",
       "font-family=\"sans-serif\" text-anchor=\"middle\"  transform=\" rotate(0 437.4 -16.2)\"><tspan x=\"437.4\" dy=\"9.600000000000001\">Filter</tspan></text>\n",
       "<text x=\"567.0\" y=\"-25.8\" fill=\"blue\" font-size=\"12\"\n",
       "font-family=\"sans-serif\" text-anchor=\"middle\"  transform=\" rotate(0 567.0 -16.2)\"><tspan x=\"567.0\" dy=\"9.600000000000001\">Oscillator</tspan></text>\n",
       "<text x=\"48.599999999999994\" y=\"38.99999999999999\" fill=\"blue\" font-size=\"12\"\n",
       "font-family=\"sans-serif\" text-anchor=\"middle\"  transform=\" rotate(0 48.599999999999994 48.599999999999994)\"><tspan x=\"48.599999999999994\" dy=\"9.600000000000001\">OscillatorBox</tspan></text>\n",
       "<text x=\"178.2\" y=\"38.99999999999999\" fill=\"blue\" font-size=\"12\"\n",
       "font-family=\"sans-serif\" text-anchor=\"middle\"  transform=\" rotate(0 178.2 48.599999999999994)\"><tspan x=\"178.2\" dy=\"9.600000000000001\">Sum</tspan></text>\n",
       "<text x=\"306.17999999999995\" y=\"59.19999999999999\" fill=\"blue\" font-size=\"14\"\n",
       "font-family=\"sans-serif\" text-anchor=\"middle\"  transform=\" rotate(0 306.17999999999995 64.8)\"><tspan x=\"306.17999999999995\" dy=\"11.200000000000001\">Σ</tspan></text>\n",
       "<text x=\"307.8\" y=\"38.99999999999999\" fill=\"blue\" font-size=\"12\"\n",
       "font-family=\"sans-serif\" text-anchor=\"middle\"  transform=\" rotate(0 307.8 48.599999999999994)\"><tspan x=\"307.8\" dy=\"9.600000000000001\">SumSigma</tspan></text>\n",
       "<text x=\"443.87999999999994\" y=\"38.99999999999999\" fill=\"blue\" font-size=\"12\"\n",
       "font-family=\"sans-serif\" text-anchor=\"middle\"  transform=\" rotate(0 443.87999999999994 48.599999999999994)\"><tspan x=\"443.87999999999994\" dy=\"9.600000000000001\">Adc</tspan></text>\n",
       "<text x=\"573.4799999999999\" y=\"38.99999999999999\" fill=\"blue\" font-size=\"12\"\n",
       "font-family=\"sans-serif\" text-anchor=\"middle\"  transform=\" rotate(0 573.4799999999999 48.599999999999994)\"><tspan x=\"573.4799999999999\" dy=\"9.600000000000001\">Dac</tspan></text>\n",
       "<text x=\"40.5\" y=\"100.56\" fill=\"blue\" font-size=\"12\"\n",
       "font-family=\"sans-serif\" text-anchor=\"middle\"  transform=\" rotate(0 40.5 110.16)\"><tspan x=\"40.5\" dy=\"9.600000000000001\">Speaker</tspan></text>\n",
       "<text x=\"174.15\" y=\"100.56\" fill=\"blue\" font-size=\"12\"\n",
       "font-family=\"sans-serif\" text-anchor=\"middle\"  transform=\" rotate(0 174.15 110.16)\"><tspan x=\"174.15\" dy=\"9.600000000000001\">Amp</tspan></text></svg>"
      ],
      "text/plain": [
       "<schemdraw.schemdraw.Drawing at 0x78ed07807040>"
      ]
     },
     "metadata": {},
     "output_type": "display_data"
    }
   ],
   "source": [
    "display(drawElements(elist, d='right', color='blue'))"
   ]
  },
  {
   "cell_type": "code",
   "execution_count": null,
   "metadata": {},
   "outputs": [],
   "source": []
  },
  {
   "cell_type": "code",
   "execution_count": null,
   "metadata": {},
   "outputs": [],
   "source": []
  },
  {
   "cell_type": "code",
   "execution_count": null,
   "metadata": {},
   "outputs": [],
   "source": []
  }
 ],
 "metadata": {
  "kernelspec": {
   "display_name": "Python 3",
   "language": "python",
   "name": "python3"
  },
  "language_info": {
   "codemirror_mode": {
    "name": "ipython",
    "version": 3
   },
   "file_extension": ".py",
   "mimetype": "text/x-python",
   "name": "python",
   "nbconvert_exporter": "python",
   "pygments_lexer": "ipython3",
   "version": "3.8.5"
  }
 },
 "nbformat": 4,
 "nbformat_minor": 4
}
