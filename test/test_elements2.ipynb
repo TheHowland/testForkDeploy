{
 "cells": [
  {
   "cell_type": "code",
   "execution_count": 1,
   "metadata": {},
   "outputs": [],
   "source": [
    "# Tests for elements that override _place (compound, Ortholines, etc)"
   ]
  },
  {
   "cell_type": "code",
   "execution_count": 2,
   "metadata": {},
   "outputs": [],
   "source": [
    "import schemdraw\n",
    "from schemdraw import elements as elm\n",
    "schemdraw.use('svg')"
   ]
  },
  {
   "cell_type": "code",
   "execution_count": 3,
   "metadata": {},
   "outputs": [
    {
     "data": {
      "image/svg+xml": [
       "<svg xmlns=\"http://www.w3.org/2000/svg\" xml:lang=\"en\" height=\"211.36pt\" width=\"185.43999999999997pt\" viewBox=\"-2.0 -209.36 185.43999999999997 211.36\"><polygon points=\"162.0,-129.6 162.0,-207.36 181.43999999999997,-207.36 181.43999999999997,-129.6 \" style=\"stroke:black;fill:none;stroke-width:2;stroke-linecap:round;stroke-linejoin:round;\"/>\n",
       "<path d=\"M 0.0,-0.0 L 103.67999999999998,-0.0 L 103.67999999999998,-72.89999999999999 L 0.0,-72.89999999999999 L 0.0,-0.0\" style=\"stroke:black;fill:none;stroke-width:2;stroke-linecap:round;stroke-linejoin:round;\" />\n",
       "<path d=\"M 22.679999999999993,-72.89999999999999 L 22.679999999999993,-89.1\" style=\"stroke:black;fill:none;stroke-width:2;stroke-linecap:round;stroke-linejoin:round;\" />\n",
       "<path d=\"M 42.11999999999999,-72.89999999999999 L 42.11999999999999,-89.1\" style=\"stroke:black;fill:none;stroke-width:2;stroke-linecap:round;stroke-linejoin:round;\" />\n",
       "<path d=\"M 61.55999999999999,-72.89999999999999 L 61.55999999999999,-89.1\" style=\"stroke:black;fill:none;stroke-width:2;stroke-linecap:round;stroke-linejoin:round;\" />\n",
       "<path d=\"M 80.99999999999999,-72.89999999999999 L 80.99999999999999,-89.1\" style=\"stroke:black;fill:none;stroke-width:2;stroke-linecap:round;stroke-linejoin:round;\" />\n",
       "<path d=\"M 171.72,-197.64 L 22.680000000000003,-197.64 L 22.680000000000003,-89.1\" style=\"stroke:black;fill:none;stroke-width:2;stroke-linecap:round;stroke-linejoin:round;\" />\n",
       "<path d=\"M 171.72,-178.2 L 42.11999999999999,-178.2 L 42.11999999999999,-89.1\" style=\"stroke:black;fill:none;stroke-width:2;stroke-linecap:round;stroke-linejoin:round;\" />\n",
       "<path d=\"M 171.72,-158.75999999999996 L 61.55999999999998,-158.75999999999996 L 61.55999999999998,-89.1\" style=\"stroke:black;fill:none;stroke-width:2;stroke-linecap:round;stroke-linejoin:round;\" />\n",
       "<path d=\"M 171.72,-139.32 L 80.99999999999999,-139.32 L 80.99999999999999,-89.1\" style=\"stroke:black;fill:none;stroke-width:2;stroke-linecap:round;stroke-linejoin:round;\" />\n",
       "<text x=\"22.679999999999993\" y=\"-68.04\" fill=\"black\" font-size=\"11\"\n",
       "font-family=\"sans-serif\" text-anchor=\"middle\"  transform=\" rotate(0 22.679999999999993 -68.04)\"><tspan x=\"22.679999999999993\" dy=\"8.8\">A</tspan></text>\n",
       "<text x=\"42.11999999999999\" y=\"-68.04\" fill=\"black\" font-size=\"11\"\n",
       "font-family=\"sans-serif\" text-anchor=\"middle\"  transform=\" rotate(0 42.11999999999999 -68.04)\"><tspan x=\"42.11999999999999\" dy=\"8.8\">B</tspan></text>\n",
       "<text x=\"61.55999999999999\" y=\"-68.04\" fill=\"black\" font-size=\"11\"\n",
       "font-family=\"sans-serif\" text-anchor=\"middle\"  transform=\" rotate(0 61.55999999999999 -68.04)\"><tspan x=\"61.55999999999999\" dy=\"8.8\">C</tspan></text>\n",
       "<text x=\"80.99999999999999\" y=\"-68.04\" fill=\"black\" font-size=\"11\"\n",
       "font-family=\"sans-serif\" text-anchor=\"middle\"  transform=\" rotate(0 80.99999999999999 -68.04)\"><tspan x=\"80.99999999999999\" dy=\"8.8\">D</tspan></text>\n",
       "<circle cx=\"171.72\" cy=\"-197.64\" r=\"3.24\" style=\"stroke:black;fill:white;stroke-width:2;\"/>\n",
       "<circle cx=\"171.72\" cy=\"-178.2\" r=\"3.24\" style=\"stroke:black;fill:white;stroke-width:2;\"/>\n",
       "<circle cx=\"171.72\" cy=\"-158.76\" r=\"3.24\" style=\"stroke:black;fill:white;stroke-width:2;\"/>\n",
       "<circle cx=\"171.72\" cy=\"-139.32\" r=\"3.24\" style=\"stroke:black;fill:white;stroke-width:2;\"/></svg>"
      ],
      "text/plain": [
       "<svg xmlns=\"http://www.w3.org/2000/svg\" xml:lang=\"en\" height=\"211.36pt\" width=\"185.43999999999997pt\" viewBox=\"-2.0 -209.36 185.43999999999997 211.36\"><polygon points=\"162.0,-129.6 162.0,-207.36 181.43999999999997,-207.36 181.43999999999997,-129.6 \" style=\"stroke:black;fill:none;stroke-width:2;stroke-linecap:round;stroke-linejoin:round;\"/>\n",
       "<path d=\"M 0.0,-0.0 L 103.67999999999998,-0.0 L 103.67999999999998,-72.89999999999999 L 0.0,-72.89999999999999 L 0.0,-0.0\" style=\"stroke:black;fill:none;stroke-width:2;stroke-linecap:round;stroke-linejoin:round;\" />\n",
       "<path d=\"M 22.679999999999993,-72.89999999999999 L 22.679999999999993,-89.1\" style=\"stroke:black;fill:none;stroke-width:2;stroke-linecap:round;stroke-linejoin:round;\" />\n",
       "<path d=\"M 42.11999999999999,-72.89999999999999 L 42.11999999999999,-89.1\" style=\"stroke:black;fill:none;stroke-width:2;stroke-linecap:round;stroke-linejoin:round;\" />\n",
       "<path d=\"M 61.55999999999999,-72.89999999999999 L 61.55999999999999,-89.1\" style=\"stroke:black;fill:none;stroke-width:2;stroke-linecap:round;stroke-linejoin:round;\" />\n",
       "<path d=\"M 80.99999999999999,-72.89999999999999 L 80.99999999999999,-89.1\" style=\"stroke:black;fill:none;stroke-width:2;stroke-linecap:round;stroke-linejoin:round;\" />\n",
       "<path d=\"M 171.72,-197.64 L 22.680000000000003,-197.64 L 22.680000000000003,-89.1\" style=\"stroke:black;fill:none;stroke-width:2;stroke-linecap:round;stroke-linejoin:round;\" />\n",
       "<path d=\"M 171.72,-178.2 L 42.11999999999999,-178.2 L 42.11999999999999,-89.1\" style=\"stroke:black;fill:none;stroke-width:2;stroke-linecap:round;stroke-linejoin:round;\" />\n",
       "<path d=\"M 171.72,-158.75999999999996 L 61.55999999999998,-158.75999999999996 L 61.55999999999998,-89.1\" style=\"stroke:black;fill:none;stroke-width:2;stroke-linecap:round;stroke-linejoin:round;\" />\n",
       "<path d=\"M 171.72,-139.32 L 80.99999999999999,-139.32 L 80.99999999999999,-89.1\" style=\"stroke:black;fill:none;stroke-width:2;stroke-linecap:round;stroke-linejoin:round;\" />\n",
       "<text x=\"22.679999999999993\" y=\"-68.04\" fill=\"black\" font-size=\"11\"\n",
       "font-family=\"sans-serif\" text-anchor=\"middle\"  transform=\" rotate(0 22.679999999999993 -68.04)\"><tspan x=\"22.679999999999993\" dy=\"8.8\">A</tspan></text>\n",
       "<text x=\"42.11999999999999\" y=\"-68.04\" fill=\"black\" font-size=\"11\"\n",
       "font-family=\"sans-serif\" text-anchor=\"middle\"  transform=\" rotate(0 42.11999999999999 -68.04)\"><tspan x=\"42.11999999999999\" dy=\"8.8\">B</tspan></text>\n",
       "<text x=\"61.55999999999999\" y=\"-68.04\" fill=\"black\" font-size=\"11\"\n",
       "font-family=\"sans-serif\" text-anchor=\"middle\"  transform=\" rotate(0 61.55999999999999 -68.04)\"><tspan x=\"61.55999999999999\" dy=\"8.8\">C</tspan></text>\n",
       "<text x=\"80.99999999999999\" y=\"-68.04\" fill=\"black\" font-size=\"11\"\n",
       "font-family=\"sans-serif\" text-anchor=\"middle\"  transform=\" rotate(0 80.99999999999999 -68.04)\"><tspan x=\"80.99999999999999\" dy=\"8.8\">D</tspan></text>\n",
       "<circle cx=\"171.72\" cy=\"-197.64\" r=\"3.24\" style=\"stroke:black;fill:white;stroke-width:2;\"/>\n",
       "<circle cx=\"171.72\" cy=\"-178.2\" r=\"3.24\" style=\"stroke:black;fill:white;stroke-width:2;\"/>\n",
       "<circle cx=\"171.72\" cy=\"-158.76\" r=\"3.24\" style=\"stroke:black;fill:white;stroke-width:2;\"/>\n",
       "<circle cx=\"171.72\" cy=\"-139.32\" r=\"3.24\" style=\"stroke:black;fill:white;stroke-width:2;\"/></svg>"
      ]
     },
     "execution_count": 3,
     "metadata": {},
     "output_type": "execute_result"
    }
   ],
   "source": [
    "d = schemdraw.Drawing()\n",
    "D1 = d.add(elm.Ic(pins=[elm.IcPin(name='A', side='t', slot='1/4'),\n",
    "                        elm.IcPin(name='B', side='t', slot='2/4'),\n",
    "                        elm.IcPin(name='C', side='t', slot='3/4'),\n",
    "                        elm.IcPin(name='D', side='t', slot='4/4')]))\n",
    "D2 = d.add(elm.Header(rows=4).at((5,4)))\n",
    "d.add(elm.RightLines(n=4).at(D2.pin1).to(D1.D))\n",
    "d.draw()"
   ]
  },
  {
   "cell_type": "code",
   "execution_count": 4,
   "metadata": {},
   "outputs": [
    {
     "data": {
      "image/png": "[encoded data removed]",
      "image/svg+xml": [
       "<svg xmlns=\"http://www.w3.org/2000/svg\" xml:lang=\"en\" height=\"166.0pt\" width=\"166.0pt\" viewBox=\"-2.0 -164.0 166.0 166.0\"><path d=\"M 0.0,-0.0 L 162.0,-0.0 L 162.0,-162.0\" style=\"stroke:black;fill:none;stroke-width:2;stroke-linecap:round;stroke-linejoin:round;\" /></svg>"
      ],
      "text/plain": [
       "<schemdraw.elements.connectors.RightLines at 0x7c37bc49b730>"
      ]
     },
     "execution_count": 4,
     "metadata": {},
     "output_type": "execute_result"
    }
   ],
   "source": [
    "elm.RightLines().to((5, 5))"
   ]
  },
  {
   "cell_type": "code",
   "execution_count": 5,
   "metadata": {},
   "outputs": [
    {
     "data": {
      "image/svg+xml": [
       "<svg xmlns=\"http://www.w3.org/2000/svg\" xml:lang=\"en\" height=\"211.36pt\" width=\"204.87999999999997pt\" viewBox=\"-99.19999999999999 -209.36 204.87999999999997 211.36\"><polygon points=\"-97.19999999999999,-129.6 -97.19999999999999,-207.36 -77.75999999999999,-207.36 -77.75999999999999,-129.6 \" style=\"stroke:black;fill:none;stroke-width:2;stroke-linecap:round;stroke-linejoin:round;\"/>\n",
       "<path d=\"M 0.0,-0.0 L 103.67999999999998,-0.0 L 103.67999999999998,-72.89999999999999 L 0.0,-72.89999999999999 L 0.0,-0.0\" style=\"stroke:black;fill:none;stroke-width:2;stroke-linecap:round;stroke-linejoin:round;\" />\n",
       "<path d=\"M 22.679999999999993,-72.89999999999999 L 22.679999999999993,-89.1\" style=\"stroke:black;fill:none;stroke-width:2;stroke-linecap:round;stroke-linejoin:round;\" />\n",
       "<path d=\"M 42.11999999999999,-72.89999999999999 L 42.11999999999999,-89.1\" style=\"stroke:black;fill:none;stroke-width:2;stroke-linecap:round;stroke-linejoin:round;\" />\n",
       "<path d=\"M 61.55999999999999,-72.89999999999999 L 61.55999999999999,-89.1\" style=\"stroke:black;fill:none;stroke-width:2;stroke-linecap:round;stroke-linejoin:round;\" />\n",
       "<path d=\"M 80.99999999999999,-72.89999999999999 L 80.99999999999999,-89.1\" style=\"stroke:black;fill:none;stroke-width:2;stroke-linecap:round;stroke-linejoin:round;\" />\n",
       "<path d=\"M -87.48,-197.64 L 80.99999999999997,-197.64 L 80.99999999999997,-89.1\" style=\"stroke:black;fill:none;stroke-width:2;stroke-linecap:round;stroke-linejoin:round;\" />\n",
       "<path d=\"M -87.48,-178.2 L 61.55999999999998,-178.2 L 61.55999999999998,-89.1\" style=\"stroke:black;fill:none;stroke-width:2;stroke-linecap:round;stroke-linejoin:round;\" />\n",
       "<path d=\"M -87.48,-158.75999999999996 L 42.11999999999999,-158.75999999999996 L 42.11999999999999,-89.1\" style=\"stroke:black;fill:none;stroke-width:2;stroke-linecap:round;stroke-linejoin:round;\" />\n",
       "<path d=\"M -87.48,-139.32 L 22.67999999999999,-139.32 L 22.67999999999999,-89.1\" style=\"stroke:black;fill:none;stroke-width:2;stroke-linecap:round;stroke-linejoin:round;\" />\n",
       "<text x=\"22.679999999999993\" y=\"-68.04\" fill=\"black\" font-size=\"11\"\n",
       "font-family=\"sans-serif\" text-anchor=\"middle\"  transform=\" rotate(0 22.679999999999993 -68.04)\"><tspan x=\"22.679999999999993\" dy=\"8.8\">A</tspan></text>\n",
       "<text x=\"42.11999999999999\" y=\"-68.04\" fill=\"black\" font-size=\"11\"\n",
       "font-family=\"sans-serif\" text-anchor=\"middle\"  transform=\" rotate(0 42.11999999999999 -68.04)\"><tspan x=\"42.11999999999999\" dy=\"8.8\">B</tspan></text>\n",
       "<text x=\"61.55999999999999\" y=\"-68.04\" fill=\"black\" font-size=\"11\"\n",
       "font-family=\"sans-serif\" text-anchor=\"middle\"  transform=\" rotate(0 61.55999999999999 -68.04)\"><tspan x=\"61.55999999999999\" dy=\"8.8\">C</tspan></text>\n",
       "<text x=\"80.99999999999999\" y=\"-68.04\" fill=\"black\" font-size=\"11\"\n",
       "font-family=\"sans-serif\" text-anchor=\"middle\"  transform=\" rotate(0 80.99999999999999 -68.04)\"><tspan x=\"80.99999999999999\" dy=\"8.8\">D</tspan></text>\n",
       "<circle cx=\"-87.48\" cy=\"-197.64\" r=\"3.24\" style=\"stroke:black;fill:white;stroke-width:2;\"/>\n",
       "<circle cx=\"-87.48\" cy=\"-178.2\" r=\"3.24\" style=\"stroke:black;fill:white;stroke-width:2;\"/>\n",
       "<circle cx=\"-87.48\" cy=\"-158.76\" r=\"3.24\" style=\"stroke:black;fill:white;stroke-width:2;\"/>\n",
       "<circle cx=\"-87.48\" cy=\"-139.32\" r=\"3.24\" style=\"stroke:black;fill:white;stroke-width:2;\"/></svg>"
      ],
      "text/plain": [
       "<svg xmlns=\"http://www.w3.org/2000/svg\" xml:lang=\"en\" height=\"211.36pt\" width=\"204.87999999999997pt\" viewBox=\"-99.19999999999999 -209.36 204.87999999999997 211.36\"><polygon points=\"-97.19999999999999,-129.6 -97.19999999999999,-207.36 -77.75999999999999,-207.36 -77.75999999999999,-129.6 \" style=\"stroke:black;fill:none;stroke-width:2;stroke-linecap:round;stroke-linejoin:round;\"/>\n",
       "<path d=\"M 0.0,-0.0 L 103.67999999999998,-0.0 L 103.67999999999998,-72.89999999999999 L 0.0,-72.89999999999999 L 0.0,-0.0\" style=\"stroke:black;fill:none;stroke-width:2;stroke-linecap:round;stroke-linejoin:round;\" />\n",
       "<path d=\"M 22.679999999999993,-72.89999999999999 L 22.679999999999993,-89.1\" style=\"stroke:black;fill:none;stroke-width:2;stroke-linecap:round;stroke-linejoin:round;\" />\n",
       "<path d=\"M 42.11999999999999,-72.89999999999999 L 42.11999999999999,-89.1\" style=\"stroke:black;fill:none;stroke-width:2;stroke-linecap:round;stroke-linejoin:round;\" />\n",
       "<path d=\"M 61.55999999999999,-72.89999999999999 L 61.55999999999999,-89.1\" style=\"stroke:black;fill:none;stroke-width:2;stroke-linecap:round;stroke-linejoin:round;\" />\n",
       "<path d=\"M 80.99999999999999,-72.89999999999999 L 80.99999999999999,-89.1\" style=\"stroke:black;fill:none;stroke-width:2;stroke-linecap:round;stroke-linejoin:round;\" />\n",
       "<path d=\"M -87.48,-197.64 L 80.99999999999997,-197.64 L 80.99999999999997,-89.1\" style=\"stroke:black;fill:none;stroke-width:2;stroke-linecap:round;stroke-linejoin:round;\" />\n",
       "<path d=\"M -87.48,-178.2 L 61.55999999999998,-178.2 L 61.55999999999998,-89.1\" style=\"stroke:black;fill:none;stroke-width:2;stroke-linecap:round;stroke-linejoin:round;\" />\n",
       "<path d=\"M -87.48,-158.75999999999996 L 42.11999999999999,-158.75999999999996 L 42.11999999999999,-89.1\" style=\"stroke:black;fill:none;stroke-width:2;stroke-linecap:round;stroke-linejoin:round;\" />\n",
       "<path d=\"M -87.48,-139.32 L 22.67999999999999,-139.32 L 22.67999999999999,-89.1\" style=\"stroke:black;fill:none;stroke-width:2;stroke-linecap:round;stroke-linejoin:round;\" />\n",
       "<text x=\"22.679999999999993\" y=\"-68.04\" fill=\"black\" font-size=\"11\"\n",
       "font-family=\"sans-serif\" text-anchor=\"middle\"  transform=\" rotate(0 22.679999999999993 -68.04)\"><tspan x=\"22.679999999999993\" dy=\"8.8\">A</tspan></text>\n",
       "<text x=\"42.11999999999999\" y=\"-68.04\" fill=\"black\" font-size=\"11\"\n",
       "font-family=\"sans-serif\" text-anchor=\"middle\"  transform=\" rotate(0 42.11999999999999 -68.04)\"><tspan x=\"42.11999999999999\" dy=\"8.8\">B</tspan></text>\n",
       "<text x=\"61.55999999999999\" y=\"-68.04\" fill=\"black\" font-size=\"11\"\n",
       "font-family=\"sans-serif\" text-anchor=\"middle\"  transform=\" rotate(0 61.55999999999999 -68.04)\"><tspan x=\"61.55999999999999\" dy=\"8.8\">C</tspan></text>\n",
       "<text x=\"80.99999999999999\" y=\"-68.04\" fill=\"black\" font-size=\"11\"\n",
       "font-family=\"sans-serif\" text-anchor=\"middle\"  transform=\" rotate(0 80.99999999999999 -68.04)\"><tspan x=\"80.99999999999999\" dy=\"8.8\">D</tspan></text>\n",
       "<circle cx=\"-87.48\" cy=\"-197.64\" r=\"3.24\" style=\"stroke:black;fill:white;stroke-width:2;\"/>\n",
       "<circle cx=\"-87.48\" cy=\"-178.2\" r=\"3.24\" style=\"stroke:black;fill:white;stroke-width:2;\"/>\n",
       "<circle cx=\"-87.48\" cy=\"-158.76\" r=\"3.24\" style=\"stroke:black;fill:white;stroke-width:2;\"/>\n",
       "<circle cx=\"-87.48\" cy=\"-139.32\" r=\"3.24\" style=\"stroke:black;fill:white;stroke-width:2;\"/></svg>"
      ]
     },
     "execution_count": 5,
     "metadata": {},
     "output_type": "execute_result"
    }
   ],
   "source": [
    "d = schemdraw.Drawing()\n",
    "D1 = d.add(elm.Ic(pins=[elm.IcPin(name='A', side='t', slot='1/4'),\n",
    "                        elm.IcPin(name='B', side='t', slot='2/4'),\n",
    "                        elm.IcPin(name='C', side='t', slot='3/4'),\n",
    "                        elm.IcPin(name='D', side='t', slot='4/4')]))\n",
    "\n",
    "D2 = d.add(elm.Header(rows=4).at((-3,4)))\n",
    "d.add(elm.RightLines(n=4).at(D2.pin1).to(D1.A))\n",
    "d.draw()"
   ]
  },
  {
   "cell_type": "code",
   "execution_count": 6,
   "metadata": {},
   "outputs": [
    {
     "data": {
      "image/svg+xml": [
       "<svg xmlns=\"http://www.w3.org/2000/svg\" xml:lang=\"en\" height=\"206.5pt\" width=\"204.87999999999997pt\" viewBox=\"-99.19999999999999 -74.89999999999999 204.87999999999997 206.5\"><polygon points=\"-97.19999999999999,129.6 -97.19999999999999,51.84 -77.75999999999999,51.84 -77.75999999999999,129.6 \" style=\"stroke:black;fill:none;stroke-width:2;stroke-linecap:round;stroke-linejoin:round;\"/>\n",
       "<path d=\"M 0.0,-0.0 L 103.67999999999998,-0.0 L 103.67999999999998,-72.89999999999999 L 0.0,-72.89999999999999 L 0.0,-0.0\" style=\"stroke:black;fill:none;stroke-width:2;stroke-linecap:round;stroke-linejoin:round;\" />\n",
       "<path d=\"M 22.679999999999993,-0.0 L 22.679999999999993,16.2\" style=\"stroke:black;fill:none;stroke-width:2;stroke-linecap:round;stroke-linejoin:round;\" />\n",
       "<path d=\"M 42.11999999999999,-0.0 L 42.11999999999999,16.2\" style=\"stroke:black;fill:none;stroke-width:2;stroke-linecap:round;stroke-linejoin:round;\" />\n",
       "<path d=\"M 61.55999999999999,-0.0 L 61.55999999999999,16.2\" style=\"stroke:black;fill:none;stroke-width:2;stroke-linecap:round;stroke-linejoin:round;\" />\n",
       "<path d=\"M 80.99999999999999,-0.0 L 80.99999999999999,16.2\" style=\"stroke:black;fill:none;stroke-width:2;stroke-linecap:round;stroke-linejoin:round;\" />\n",
       "<path d=\"M -87.48,61.559999999999995 L 22.67999999999999,61.559999999999995 L 22.67999999999999,16.2\" style=\"stroke:black;fill:none;stroke-width:2;stroke-linecap:round;stroke-linejoin:round;\" />\n",
       "<path d=\"M -87.48,81.0 L 42.11999999999999,81.0 L 42.11999999999999,16.2\" style=\"stroke:black;fill:none;stroke-width:2;stroke-linecap:round;stroke-linejoin:round;\" />\n",
       "<path d=\"M -87.48,100.43999999999998 L 61.55999999999998,100.43999999999998 L 61.55999999999998,16.2\" style=\"stroke:black;fill:none;stroke-width:2;stroke-linecap:round;stroke-linejoin:round;\" />\n",
       "<path d=\"M -87.48,119.87999999999998 L 80.99999999999997,119.87999999999998 L 80.99999999999997,16.2\" style=\"stroke:black;fill:none;stroke-width:2;stroke-linecap:round;stroke-linejoin:round;\" />\n",
       "<text x=\"22.679999999999993\" y=\"-13.66\" fill=\"black\" font-size=\"11\"\n",
       "font-family=\"sans-serif\" text-anchor=\"middle\"  transform=\" rotate(0 22.679999999999993 -4.859999999999999)\"><tspan x=\"22.679999999999993\" dy=\"8.8\">A</tspan></text>\n",
       "<text x=\"42.11999999999999\" y=\"-13.66\" fill=\"black\" font-size=\"11\"\n",
       "font-family=\"sans-serif\" text-anchor=\"middle\"  transform=\" rotate(0 42.11999999999999 -4.859999999999999)\"><tspan x=\"42.11999999999999\" dy=\"8.8\">B</tspan></text>\n",
       "<text x=\"61.55999999999999\" y=\"-13.66\" fill=\"black\" font-size=\"11\"\n",
       "font-family=\"sans-serif\" text-anchor=\"middle\"  transform=\" rotate(0 61.55999999999999 -4.859999999999999)\"><tspan x=\"61.55999999999999\" dy=\"8.8\">C</tspan></text>\n",
       "<text x=\"80.99999999999999\" y=\"-13.66\" fill=\"black\" font-size=\"11\"\n",
       "font-family=\"sans-serif\" text-anchor=\"middle\"  transform=\" rotate(0 80.99999999999999 -4.859999999999999)\"><tspan x=\"80.99999999999999\" dy=\"8.8\">D</tspan></text>\n",
       "<circle cx=\"-87.48\" cy=\"61.559999999999995\" r=\"3.24\" style=\"stroke:black;fill:white;stroke-width:2;\"/>\n",
       "<circle cx=\"-87.48\" cy=\"81.0\" r=\"3.24\" style=\"stroke:black;fill:white;stroke-width:2;\"/>\n",
       "<circle cx=\"-87.48\" cy=\"100.44\" r=\"3.24\" style=\"stroke:black;fill:white;stroke-width:2;\"/>\n",
       "<circle cx=\"-87.48\" cy=\"119.87999999999998\" r=\"3.24\" style=\"stroke:black;fill:white;stroke-width:2;\"/></svg>"
      ],
      "text/plain": [
       "<svg xmlns=\"http://www.w3.org/2000/svg\" xml:lang=\"en\" height=\"206.5pt\" width=\"204.87999999999997pt\" viewBox=\"-99.19999999999999 -74.89999999999999 204.87999999999997 206.5\"><polygon points=\"-97.19999999999999,129.6 -97.19999999999999,51.84 -77.75999999999999,51.84 -77.75999999999999,129.6 \" style=\"stroke:black;fill:none;stroke-width:2;stroke-linecap:round;stroke-linejoin:round;\"/>\n",
       "<path d=\"M 0.0,-0.0 L 103.67999999999998,-0.0 L 103.67999999999998,-72.89999999999999 L 0.0,-72.89999999999999 L 0.0,-0.0\" style=\"stroke:black;fill:none;stroke-width:2;stroke-linecap:round;stroke-linejoin:round;\" />\n",
       "<path d=\"M 22.679999999999993,-0.0 L 22.679999999999993,16.2\" style=\"stroke:black;fill:none;stroke-width:2;stroke-linecap:round;stroke-linejoin:round;\" />\n",
       "<path d=\"M 42.11999999999999,-0.0 L 42.11999999999999,16.2\" style=\"stroke:black;fill:none;stroke-width:2;stroke-linecap:round;stroke-linejoin:round;\" />\n",
       "<path d=\"M 61.55999999999999,-0.0 L 61.55999999999999,16.2\" style=\"stroke:black;fill:none;stroke-width:2;stroke-linecap:round;stroke-linejoin:round;\" />\n",
       "<path d=\"M 80.99999999999999,-0.0 L 80.99999999999999,16.2\" style=\"stroke:black;fill:none;stroke-width:2;stroke-linecap:round;stroke-linejoin:round;\" />\n",
       "<path d=\"M -87.48,61.559999999999995 L 22.67999999999999,61.559999999999995 L 22.67999999999999,16.2\" style=\"stroke:black;fill:none;stroke-width:2;stroke-linecap:round;stroke-linejoin:round;\" />\n",
       "<path d=\"M -87.48,81.0 L 42.11999999999999,81.0 L 42.11999999999999,16.2\" style=\"stroke:black;fill:none;stroke-width:2;stroke-linecap:round;stroke-linejoin:round;\" />\n",
       "<path d=\"M -87.48,100.43999999999998 L 61.55999999999998,100.43999999999998 L 61.55999999999998,16.2\" style=\"stroke:black;fill:none;stroke-width:2;stroke-linecap:round;stroke-linejoin:round;\" />\n",
       "<path d=\"M -87.48,119.87999999999998 L 80.99999999999997,119.87999999999998 L 80.99999999999997,16.2\" style=\"stroke:black;fill:none;stroke-width:2;stroke-linecap:round;stroke-linejoin:round;\" />\n",
       "<text x=\"22.679999999999993\" y=\"-13.66\" fill=\"black\" font-size=\"11\"\n",
       "font-family=\"sans-serif\" text-anchor=\"middle\"  transform=\" rotate(0 22.679999999999993 -4.859999999999999)\"><tspan x=\"22.679999999999993\" dy=\"8.8\">A</tspan></text>\n",
       "<text x=\"42.11999999999999\" y=\"-13.66\" fill=\"black\" font-size=\"11\"\n",
       "font-family=\"sans-serif\" text-anchor=\"middle\"  transform=\" rotate(0 42.11999999999999 -4.859999999999999)\"><tspan x=\"42.11999999999999\" dy=\"8.8\">B</tspan></text>\n",
       "<text x=\"61.55999999999999\" y=\"-13.66\" fill=\"black\" font-size=\"11\"\n",
       "font-family=\"sans-serif\" text-anchor=\"middle\"  transform=\" rotate(0 61.55999999999999 -4.859999999999999)\"><tspan x=\"61.55999999999999\" dy=\"8.8\">C</tspan></text>\n",
       "<text x=\"80.99999999999999\" y=\"-13.66\" fill=\"black\" font-size=\"11\"\n",
       "font-family=\"sans-serif\" text-anchor=\"middle\"  transform=\" rotate(0 80.99999999999999 -4.859999999999999)\"><tspan x=\"80.99999999999999\" dy=\"8.8\">D</tspan></text>\n",
       "<circle cx=\"-87.48\" cy=\"61.559999999999995\" r=\"3.24\" style=\"stroke:black;fill:white;stroke-width:2;\"/>\n",
       "<circle cx=\"-87.48\" cy=\"81.0\" r=\"3.24\" style=\"stroke:black;fill:white;stroke-width:2;\"/>\n",
       "<circle cx=\"-87.48\" cy=\"100.44\" r=\"3.24\" style=\"stroke:black;fill:white;stroke-width:2;\"/>\n",
       "<circle cx=\"-87.48\" cy=\"119.87999999999998\" r=\"3.24\" style=\"stroke:black;fill:white;stroke-width:2;\"/></svg>"
      ]
     },
     "execution_count": 6,
     "metadata": {},
     "output_type": "execute_result"
    }
   ],
   "source": [
    "d = schemdraw.Drawing()\n",
    "D1 = d.add(elm.Ic(pins=[elm.IcPin(name='A', side='b', slot='1/4'),\n",
    "                        elm.IcPin(name='B', side='b', slot='2/4'),\n",
    "                        elm.IcPin(name='C', side='b', slot='3/4'),\n",
    "                        elm.IcPin(name='D', side='b', slot='4/4')]))\n",
    "\n",
    "D2 = d.add(elm.Header(rows=4).at((-3,-4)))\n",
    "d.add(elm.RightLines(n=4).at(D2.pin1).to(D1.A))\n",
    "d.draw()"
   ]
  },
  {
   "cell_type": "code",
   "execution_count": 7,
   "metadata": {},
   "outputs": [
    {
     "data": {
      "image/svg+xml": [
       "<svg xmlns=\"http://www.w3.org/2000/svg\" xml:lang=\"en\" height=\"206.5pt\" width=\"120.64pt\" viewBox=\"-2.0 -74.89999999999999 120.64 206.5\"><polygon points=\"97.19999999999999,129.6 97.19999999999999,51.84 116.64,51.84 116.64,129.6 \" style=\"stroke:black;fill:none;stroke-width:2;stroke-linecap:round;stroke-linejoin:round;\"/>\n",
       "<path d=\"M 0.0,-0.0 L 103.67999999999998,-0.0 L 103.67999999999998,-72.89999999999999 L 0.0,-72.89999999999999 L 0.0,-0.0\" style=\"stroke:black;fill:none;stroke-width:2;stroke-linecap:round;stroke-linejoin:round;\" />\n",
       "<path d=\"M 22.679999999999993,-0.0 L 22.679999999999993,16.2\" style=\"stroke:black;fill:none;stroke-width:2;stroke-linecap:round;stroke-linejoin:round;\" />\n",
       "<path d=\"M 42.11999999999999,-0.0 L 42.11999999999999,16.2\" style=\"stroke:black;fill:none;stroke-width:2;stroke-linecap:round;stroke-linejoin:round;\" />\n",
       "<path d=\"M 61.55999999999999,-0.0 L 61.55999999999999,16.2\" style=\"stroke:black;fill:none;stroke-width:2;stroke-linecap:round;stroke-linejoin:round;\" />\n",
       "<path d=\"M 80.99999999999999,-0.0 L 80.99999999999999,16.2\" style=\"stroke:black;fill:none;stroke-width:2;stroke-linecap:round;stroke-linejoin:round;\" />\n",
       "<path d=\"M 106.91999999999999,61.559999999999995 L 80.99999999999999,61.559999999999995 L 80.99999999999999,16.2\" style=\"stroke:black;fill:none;stroke-width:2;stroke-linecap:round;stroke-linejoin:round;\" />\n",
       "<path d=\"M 106.91999999999999,81.0 L 61.55999999999998,81.0 L 61.55999999999998,16.2\" style=\"stroke:black;fill:none;stroke-width:2;stroke-linecap:round;stroke-linejoin:round;\" />\n",
       "<path d=\"M 106.91999999999999,100.43999999999998 L 42.11999999999999,100.43999999999998 L 42.11999999999999,16.2\" style=\"stroke:black;fill:none;stroke-width:2;stroke-linecap:round;stroke-linejoin:round;\" />\n",
       "<path d=\"M 106.91999999999999,119.87999999999998 L 22.67999999999999,119.87999999999998 L 22.67999999999999,16.2\" style=\"stroke:black;fill:none;stroke-width:2;stroke-linecap:round;stroke-linejoin:round;\" />\n",
       "<text x=\"22.679999999999993\" y=\"-13.66\" fill=\"black\" font-size=\"11\"\n",
       "font-family=\"sans-serif\" text-anchor=\"middle\"  transform=\" rotate(0 22.679999999999993 -4.859999999999999)\"><tspan x=\"22.679999999999993\" dy=\"8.8\">A</tspan></text>\n",
       "<text x=\"42.11999999999999\" y=\"-13.66\" fill=\"black\" font-size=\"11\"\n",
       "font-family=\"sans-serif\" text-anchor=\"middle\"  transform=\" rotate(0 42.11999999999999 -4.859999999999999)\"><tspan x=\"42.11999999999999\" dy=\"8.8\">B</tspan></text>\n",
       "<text x=\"61.55999999999999\" y=\"-13.66\" fill=\"black\" font-size=\"11\"\n",
       "font-family=\"sans-serif\" text-anchor=\"middle\"  transform=\" rotate(0 61.55999999999999 -4.859999999999999)\"><tspan x=\"61.55999999999999\" dy=\"8.8\">C</tspan></text>\n",
       "<text x=\"80.99999999999999\" y=\"-13.66\" fill=\"black\" font-size=\"11\"\n",
       "font-family=\"sans-serif\" text-anchor=\"middle\"  transform=\" rotate(0 80.99999999999999 -4.859999999999999)\"><tspan x=\"80.99999999999999\" dy=\"8.8\">D</tspan></text>\n",
       "<circle cx=\"106.91999999999999\" cy=\"61.559999999999995\" r=\"3.24\" style=\"stroke:black;fill:white;stroke-width:2;\"/>\n",
       "<circle cx=\"106.91999999999999\" cy=\"81.0\" r=\"3.24\" style=\"stroke:black;fill:white;stroke-width:2;\"/>\n",
       "<circle cx=\"106.91999999999999\" cy=\"100.44\" r=\"3.24\" style=\"stroke:black;fill:white;stroke-width:2;\"/>\n",
       "<circle cx=\"106.91999999999999\" cy=\"119.87999999999998\" r=\"3.24\" style=\"stroke:black;fill:white;stroke-width:2;\"/></svg>"
      ],
      "text/plain": [
       "<svg xmlns=\"http://www.w3.org/2000/svg\" xml:lang=\"en\" height=\"206.5pt\" width=\"120.64pt\" viewBox=\"-2.0 -74.89999999999999 120.64 206.5\"><polygon points=\"97.19999999999999,129.6 97.19999999999999,51.84 116.64,51.84 116.64,129.6 \" style=\"stroke:black;fill:none;stroke-width:2;stroke-linecap:round;stroke-linejoin:round;\"/>\n",
       "<path d=\"M 0.0,-0.0 L 103.67999999999998,-0.0 L 103.67999999999998,-72.89999999999999 L 0.0,-72.89999999999999 L 0.0,-0.0\" style=\"stroke:black;fill:none;stroke-width:2;stroke-linecap:round;stroke-linejoin:round;\" />\n",
       "<path d=\"M 22.679999999999993,-0.0 L 22.679999999999993,16.2\" style=\"stroke:black;fill:none;stroke-width:2;stroke-linecap:round;stroke-linejoin:round;\" />\n",
       "<path d=\"M 42.11999999999999,-0.0 L 42.11999999999999,16.2\" style=\"stroke:black;fill:none;stroke-width:2;stroke-linecap:round;stroke-linejoin:round;\" />\n",
       "<path d=\"M 61.55999999999999,-0.0 L 61.55999999999999,16.2\" style=\"stroke:black;fill:none;stroke-width:2;stroke-linecap:round;stroke-linejoin:round;\" />\n",
       "<path d=\"M 80.99999999999999,-0.0 L 80.99999999999999,16.2\" style=\"stroke:black;fill:none;stroke-width:2;stroke-linecap:round;stroke-linejoin:round;\" />\n",
       "<path d=\"M 106.91999999999999,61.559999999999995 L 80.99999999999999,61.559999999999995 L 80.99999999999999,16.2\" style=\"stroke:black;fill:none;stroke-width:2;stroke-linecap:round;stroke-linejoin:round;\" />\n",
       "<path d=\"M 106.91999999999999,81.0 L 61.55999999999998,81.0 L 61.55999999999998,16.2\" style=\"stroke:black;fill:none;stroke-width:2;stroke-linecap:round;stroke-linejoin:round;\" />\n",
       "<path d=\"M 106.91999999999999,100.43999999999998 L 42.11999999999999,100.43999999999998 L 42.11999999999999,16.2\" style=\"stroke:black;fill:none;stroke-width:2;stroke-linecap:round;stroke-linejoin:round;\" />\n",
       "<path d=\"M 106.91999999999999,119.87999999999998 L 22.67999999999999,119.87999999999998 L 22.67999999999999,16.2\" style=\"stroke:black;fill:none;stroke-width:2;stroke-linecap:round;stroke-linejoin:round;\" />\n",
       "<text x=\"22.679999999999993\" y=\"-13.66\" fill=\"black\" font-size=\"11\"\n",
       "font-family=\"sans-serif\" text-anchor=\"middle\"  transform=\" rotate(0 22.679999999999993 -4.859999999999999)\"><tspan x=\"22.679999999999993\" dy=\"8.8\">A</tspan></text>\n",
       "<text x=\"42.11999999999999\" y=\"-13.66\" fill=\"black\" font-size=\"11\"\n",
       "font-family=\"sans-serif\" text-anchor=\"middle\"  transform=\" rotate(0 42.11999999999999 -4.859999999999999)\"><tspan x=\"42.11999999999999\" dy=\"8.8\">B</tspan></text>\n",
       "<text x=\"61.55999999999999\" y=\"-13.66\" fill=\"black\" font-size=\"11\"\n",
       "font-family=\"sans-serif\" text-anchor=\"middle\"  transform=\" rotate(0 61.55999999999999 -4.859999999999999)\"><tspan x=\"61.55999999999999\" dy=\"8.8\">C</tspan></text>\n",
       "<text x=\"80.99999999999999\" y=\"-13.66\" fill=\"black\" font-size=\"11\"\n",
       "font-family=\"sans-serif\" text-anchor=\"middle\"  transform=\" rotate(0 80.99999999999999 -4.859999999999999)\"><tspan x=\"80.99999999999999\" dy=\"8.8\">D</tspan></text>\n",
       "<circle cx=\"106.91999999999999\" cy=\"61.559999999999995\" r=\"3.24\" style=\"stroke:black;fill:white;stroke-width:2;\"/>\n",
       "<circle cx=\"106.91999999999999\" cy=\"81.0\" r=\"3.24\" style=\"stroke:black;fill:white;stroke-width:2;\"/>\n",
       "<circle cx=\"106.91999999999999\" cy=\"100.44\" r=\"3.24\" style=\"stroke:black;fill:white;stroke-width:2;\"/>\n",
       "<circle cx=\"106.91999999999999\" cy=\"119.87999999999998\" r=\"3.24\" style=\"stroke:black;fill:white;stroke-width:2;\"/></svg>"
      ]
     },
     "execution_count": 7,
     "metadata": {},
     "output_type": "execute_result"
    }
   ],
   "source": [
    "d = schemdraw.Drawing()\n",
    "D1 = d.add(elm.Ic(pins=[elm.IcPin(name='A', side='b', slot='1/4'),\n",
    "                        elm.IcPin(name='B', side='b', slot='2/4'),\n",
    "                        elm.IcPin(name='C', side='b', slot='3/4'),\n",
    "                        elm.IcPin(name='D', side='b', slot='4/4')]))\n",
    "\n",
    "D2 = d.add(elm.Header(rows=4).at((3,-4)))\n",
    "d.add(elm.RightLines(n=4).at(D2.pin1).to(D1.D))\n",
    "d.draw()"
   ]
  },
  {
   "cell_type": "code",
   "execution_count": 8,
   "metadata": {},
   "outputs": [
    {
     "data": {
      "image/svg+xml": [
       "<svg xmlns=\"http://www.w3.org/2000/svg\" xml:lang=\"en\" height=\"237.27999999999997pt\" width=\"303.7pt\" viewBox=\"-228.79999999999998 -105.67999999999998 303.7 237.27999999999997\"><polygon points=\"-226.79999999999998,129.6 -226.79999999999998,51.84 -207.36,51.84 -207.36,129.6 \" style=\"stroke:black;fill:none;stroke-width:2;stroke-linecap:round;stroke-linejoin:round;\"/>\n",
       "<path d=\"M 0.0,-0.0 L 72.89999999999999,-0.0 L 72.89999999999999,-103.67999999999998 L 0.0,-103.67999999999998 L 0.0,-0.0\" style=\"stroke:black;fill:none;stroke-width:2;stroke-linecap:round;stroke-linejoin:round;\" />\n",
       "<path d=\"M 0.0,-22.679999999999993 L -16.2,-22.679999999999993\" style=\"stroke:black;fill:none;stroke-width:2;stroke-linecap:round;stroke-linejoin:round;\" />\n",
       "<path d=\"M 0.0,-42.11999999999999 L -16.2,-42.11999999999999\" style=\"stroke:black;fill:none;stroke-width:2;stroke-linecap:round;stroke-linejoin:round;\" />\n",
       "<path d=\"M 0.0,-61.55999999999999 L -16.2,-61.55999999999999\" style=\"stroke:black;fill:none;stroke-width:2;stroke-linecap:round;stroke-linejoin:round;\" />\n",
       "<path d=\"M 0.0,-80.99999999999999 L -16.2,-80.99999999999999\" style=\"stroke:black;fill:none;stroke-width:2;stroke-linecap:round;stroke-linejoin:round;\" />\n",
       "<path d=\"M -217.07999999999998,61.559999999999995 L -145.79999999999998,61.559999999999995 L -145.79999999999998,-80.99999999999999 L -16.2,-80.99999999999999\" style=\"stroke:black;fill:none;stroke-width:2;stroke-linecap:round;stroke-linejoin:round;\" />\n",
       "<path d=\"M -217.07999999999998,81.0 L -126.35999999999999,81.0 L -126.35999999999999,-61.55999999999998 L -16.2,-61.55999999999998\" style=\"stroke:black;fill:none;stroke-width:2;stroke-linecap:round;stroke-linejoin:round;\" />\n",
       "<path d=\"M -217.07999999999998,100.43999999999998 L -106.91999999999999,100.43999999999998 L -106.91999999999999,-42.119999999999976 L -16.2,-42.119999999999976\" style=\"stroke:black;fill:none;stroke-width:2;stroke-linecap:round;stroke-linejoin:round;\" />\n",
       "<path d=\"M -217.07999999999998,119.87999999999998 L -87.48,119.87999999999998 L -87.48,-22.67999999999999 L -16.2,-22.67999999999999\" style=\"stroke:black;fill:none;stroke-width:2;stroke-linecap:round;stroke-linejoin:round;\" />\n",
       "<text x=\"4.859999999999999\" y=\"-27.079999999999995\" fill=\"black\" font-size=\"11\"\n",
       "font-family=\"sans-serif\" text-anchor=\"start\"  transform=\" rotate(0 4.859999999999999 -22.679999999999993)\"><tspan x=\"4.859999999999999\" dy=\"8.8\">A</tspan></text>\n",
       "<text x=\"4.859999999999999\" y=\"-46.519999999999996\" fill=\"black\" font-size=\"11\"\n",
       "font-family=\"sans-serif\" text-anchor=\"start\"  transform=\" rotate(0 4.859999999999999 -42.11999999999999)\"><tspan x=\"4.859999999999999\" dy=\"8.8\">B</tspan></text>\n",
       "<text x=\"4.859999999999999\" y=\"-65.96\" fill=\"black\" font-size=\"11\"\n",
       "font-family=\"sans-serif\" text-anchor=\"start\"  transform=\" rotate(0 4.859999999999999 -61.55999999999999)\"><tspan x=\"4.859999999999999\" dy=\"8.8\">C</tspan></text>\n",
       "<text x=\"4.859999999999999\" y=\"-85.39999999999998\" fill=\"black\" font-size=\"11\"\n",
       "font-family=\"sans-serif\" text-anchor=\"start\"  transform=\" rotate(0 4.859999999999999 -80.99999999999999)\"><tspan x=\"4.859999999999999\" dy=\"8.8\">D</tspan></text>\n",
       "<circle cx=\"-217.07999999999998\" cy=\"61.559999999999995\" r=\"3.24\" style=\"stroke:black;fill:white;stroke-width:2;\"/>\n",
       "<circle cx=\"-217.07999999999998\" cy=\"81.0\" r=\"3.24\" style=\"stroke:black;fill:white;stroke-width:2;\"/>\n",
       "<circle cx=\"-217.07999999999998\" cy=\"100.44\" r=\"3.24\" style=\"stroke:black;fill:white;stroke-width:2;\"/>\n",
       "<circle cx=\"-217.07999999999998\" cy=\"119.87999999999998\" r=\"3.24\" style=\"stroke:black;fill:white;stroke-width:2;\"/></svg>"
      ],
      "text/plain": [
       "<svg xmlns=\"http://www.w3.org/2000/svg\" xml:lang=\"en\" height=\"237.27999999999997pt\" width=\"303.7pt\" viewBox=\"-228.79999999999998 -105.67999999999998 303.7 237.27999999999997\"><polygon points=\"-226.79999999999998,129.6 -226.79999999999998,51.84 -207.36,51.84 -207.36,129.6 \" style=\"stroke:black;fill:none;stroke-width:2;stroke-linecap:round;stroke-linejoin:round;\"/>\n",
       "<path d=\"M 0.0,-0.0 L 72.89999999999999,-0.0 L 72.89999999999999,-103.67999999999998 L 0.0,-103.67999999999998 L 0.0,-0.0\" style=\"stroke:black;fill:none;stroke-width:2;stroke-linecap:round;stroke-linejoin:round;\" />\n",
       "<path d=\"M 0.0,-22.679999999999993 L -16.2,-22.679999999999993\" style=\"stroke:black;fill:none;stroke-width:2;stroke-linecap:round;stroke-linejoin:round;\" />\n",
       "<path d=\"M 0.0,-42.11999999999999 L -16.2,-42.11999999999999\" style=\"stroke:black;fill:none;stroke-width:2;stroke-linecap:round;stroke-linejoin:round;\" />\n",
       "<path d=\"M 0.0,-61.55999999999999 L -16.2,-61.55999999999999\" style=\"stroke:black;fill:none;stroke-width:2;stroke-linecap:round;stroke-linejoin:round;\" />\n",
       "<path d=\"M 0.0,-80.99999999999999 L -16.2,-80.99999999999999\" style=\"stroke:black;fill:none;stroke-width:2;stroke-linecap:round;stroke-linejoin:round;\" />\n",
       "<path d=\"M -217.07999999999998,61.559999999999995 L -145.79999999999998,61.559999999999995 L -145.79999999999998,-80.99999999999999 L -16.2,-80.99999999999999\" style=\"stroke:black;fill:none;stroke-width:2;stroke-linecap:round;stroke-linejoin:round;\" />\n",
       "<path d=\"M -217.07999999999998,81.0 L -126.35999999999999,81.0 L -126.35999999999999,-61.55999999999998 L -16.2,-61.55999999999998\" style=\"stroke:black;fill:none;stroke-width:2;stroke-linecap:round;stroke-linejoin:round;\" />\n",
       "<path d=\"M -217.07999999999998,100.43999999999998 L -106.91999999999999,100.43999999999998 L -106.91999999999999,-42.119999999999976 L -16.2,-42.119999999999976\" style=\"stroke:black;fill:none;stroke-width:2;stroke-linecap:round;stroke-linejoin:round;\" />\n",
       "<path d=\"M -217.07999999999998,119.87999999999998 L -87.48,119.87999999999998 L -87.48,-22.67999999999999 L -16.2,-22.67999999999999\" style=\"stroke:black;fill:none;stroke-width:2;stroke-linecap:round;stroke-linejoin:round;\" />\n",
       "<text x=\"4.859999999999999\" y=\"-27.079999999999995\" fill=\"black\" font-size=\"11\"\n",
       "font-family=\"sans-serif\" text-anchor=\"start\"  transform=\" rotate(0 4.859999999999999 -22.679999999999993)\"><tspan x=\"4.859999999999999\" dy=\"8.8\">A</tspan></text>\n",
       "<text x=\"4.859999999999999\" y=\"-46.519999999999996\" fill=\"black\" font-size=\"11\"\n",
       "font-family=\"sans-serif\" text-anchor=\"start\"  transform=\" rotate(0 4.859999999999999 -42.11999999999999)\"><tspan x=\"4.859999999999999\" dy=\"8.8\">B</tspan></text>\n",
       "<text x=\"4.859999999999999\" y=\"-65.96\" fill=\"black\" font-size=\"11\"\n",
       "font-family=\"sans-serif\" text-anchor=\"start\"  transform=\" rotate(0 4.859999999999999 -61.55999999999999)\"><tspan x=\"4.859999999999999\" dy=\"8.8\">C</tspan></text>\n",
       "<text x=\"4.859999999999999\" y=\"-85.39999999999998\" fill=\"black\" font-size=\"11\"\n",
       "font-family=\"sans-serif\" text-anchor=\"start\"  transform=\" rotate(0 4.859999999999999 -80.99999999999999)\"><tspan x=\"4.859999999999999\" dy=\"8.8\">D</tspan></text>\n",
       "<circle cx=\"-217.07999999999998\" cy=\"61.559999999999995\" r=\"3.24\" style=\"stroke:black;fill:white;stroke-width:2;\"/>\n",
       "<circle cx=\"-217.07999999999998\" cy=\"81.0\" r=\"3.24\" style=\"stroke:black;fill:white;stroke-width:2;\"/>\n",
       "<circle cx=\"-217.07999999999998\" cy=\"100.44\" r=\"3.24\" style=\"stroke:black;fill:white;stroke-width:2;\"/>\n",
       "<circle cx=\"-217.07999999999998\" cy=\"119.87999999999998\" r=\"3.24\" style=\"stroke:black;fill:white;stroke-width:2;\"/></svg>"
      ]
     },
     "execution_count": 8,
     "metadata": {},
     "output_type": "execute_result"
    }
   ],
   "source": [
    "d = schemdraw.Drawing()\n",
    "D1 = d.add(elm.Ic(pins=[elm.IcPin(name='A', side='l', slot='1/4'),\n",
    "                        elm.IcPin(name='B', side='l', slot='2/4'),\n",
    "                        elm.IcPin(name='C', side='l', slot='3/4'),\n",
    "                        elm.IcPin(name='D', side='l', slot='4/4')]))\n",
    "\n",
    "D2 = d.add(elm.Header(rows=4).at((-7,-4)))\n",
    "d.add(elm.OrthoLines(n=4).at(D2.pin1).to(D1.D))\n",
    "d.draw()"
   ]
  },
  {
   "cell_type": "code",
   "execution_count": 9,
   "metadata": {},
   "outputs": [
    {
     "data": {
      "image/svg+xml": [
       "<svg xmlns=\"http://www.w3.org/2000/svg\" xml:lang=\"en\" height=\"237.27999999999997pt\" width=\"303.7pt\" viewBox=\"-228.79999999999998 -105.67999999999998 303.7 237.27999999999997\"><polygon points=\"-226.79999999999998,129.6 -226.79999999999998,51.84 -207.36,51.84 -207.36,129.6 \" style=\"stroke:black;fill:none;stroke-width:2;stroke-linecap:round;stroke-linejoin:round;\"/>\n",
       "<path d=\"M 0.0,-0.0 L 72.89999999999999,-0.0 L 72.89999999999999,-103.67999999999998 L 0.0,-103.67999999999998 L 0.0,-0.0\" style=\"stroke:black;fill:none;stroke-width:2;stroke-linecap:round;stroke-linejoin:round;\" />\n",
       "<path d=\"M 0.0,-22.679999999999993 L -16.2,-22.679999999999993\" style=\"stroke:black;fill:none;stroke-width:2;stroke-linecap:round;stroke-linejoin:round;\" />\n",
       "<path d=\"M 0.0,-42.11999999999999 L -16.2,-42.11999999999999\" style=\"stroke:black;fill:none;stroke-width:2;stroke-linecap:round;stroke-linejoin:round;\" />\n",
       "<path d=\"M 0.0,-61.55999999999999 L -16.2,-61.55999999999999\" style=\"stroke:black;fill:none;stroke-width:2;stroke-linecap:round;stroke-linejoin:round;\" />\n",
       "<path d=\"M 0.0,-80.99999999999999 L -16.2,-80.99999999999999\" style=\"stroke:black;fill:none;stroke-width:2;stroke-linecap:round;stroke-linejoin:round;\" />\n",
       "<path d=\"M -217.07999999999998,61.559999999999995 L -196.992,61.559999999999995 L -196.992,-80.99999999999999 L -16.2,-80.99999999999999\" style=\"stroke:black;fill:none;stroke-width:2;stroke-linecap:round;stroke-linejoin:round;\" />\n",
       "<path d=\"M -217.07999999999998,81.0 L -177.552,81.0 L -177.552,-61.55999999999998 L -16.2,-61.55999999999998\" style=\"stroke:black;fill:none;stroke-width:2;stroke-linecap:round;stroke-linejoin:round;\" />\n",
       "<path d=\"M -217.07999999999998,100.43999999999998 L -158.112,100.43999999999998 L -158.112,-42.119999999999976 L -16.2,-42.119999999999976\" style=\"stroke:black;fill:none;stroke-width:2;stroke-linecap:round;stroke-linejoin:round;\" />\n",
       "<path d=\"M -217.07999999999998,119.87999999999998 L -138.672,119.87999999999998 L -138.672,-22.67999999999999 L -16.2,-22.67999999999999\" style=\"stroke:black;fill:none;stroke-width:2;stroke-linecap:round;stroke-linejoin:round;\" />\n",
       "<text x=\"4.859999999999999\" y=\"-27.079999999999995\" fill=\"black\" font-size=\"11\"\n",
       "font-family=\"sans-serif\" text-anchor=\"start\"  transform=\" rotate(0 4.859999999999999 -22.679999999999993)\"><tspan x=\"4.859999999999999\" dy=\"8.8\">A</tspan></text>\n",
       "<text x=\"4.859999999999999\" y=\"-46.519999999999996\" fill=\"black\" font-size=\"11\"\n",
       "font-family=\"sans-serif\" text-anchor=\"start\"  transform=\" rotate(0 4.859999999999999 -42.11999999999999)\"><tspan x=\"4.859999999999999\" dy=\"8.8\">B</tspan></text>\n",
       "<text x=\"4.859999999999999\" y=\"-65.96\" fill=\"black\" font-size=\"11\"\n",
       "font-family=\"sans-serif\" text-anchor=\"start\"  transform=\" rotate(0 4.859999999999999 -61.55999999999999)\"><tspan x=\"4.859999999999999\" dy=\"8.8\">C</tspan></text>\n",
       "<text x=\"4.859999999999999\" y=\"-85.39999999999998\" fill=\"black\" font-size=\"11\"\n",
       "font-family=\"sans-serif\" text-anchor=\"start\"  transform=\" rotate(0 4.859999999999999 -80.99999999999999)\"><tspan x=\"4.859999999999999\" dy=\"8.8\">D</tspan></text>\n",
       "<circle cx=\"-217.07999999999998\" cy=\"61.559999999999995\" r=\"3.24\" style=\"stroke:black;fill:white;stroke-width:2;\"/>\n",
       "<circle cx=\"-217.07999999999998\" cy=\"81.0\" r=\"3.24\" style=\"stroke:black;fill:white;stroke-width:2;\"/>\n",
       "<circle cx=\"-217.07999999999998\" cy=\"100.44\" r=\"3.24\" style=\"stroke:black;fill:white;stroke-width:2;\"/>\n",
       "<circle cx=\"-217.07999999999998\" cy=\"119.87999999999998\" r=\"3.24\" style=\"stroke:black;fill:white;stroke-width:2;\"/></svg>"
      ],
      "text/plain": [
       "<svg xmlns=\"http://www.w3.org/2000/svg\" xml:lang=\"en\" height=\"237.27999999999997pt\" width=\"303.7pt\" viewBox=\"-228.79999999999998 -105.67999999999998 303.7 237.27999999999997\"><polygon points=\"-226.79999999999998,129.6 -226.79999999999998,51.84 -207.36,51.84 -207.36,129.6 \" style=\"stroke:black;fill:none;stroke-width:2;stroke-linecap:round;stroke-linejoin:round;\"/>\n",
       "<path d=\"M 0.0,-0.0 L 72.89999999999999,-0.0 L 72.89999999999999,-103.67999999999998 L 0.0,-103.67999999999998 L 0.0,-0.0\" style=\"stroke:black;fill:none;stroke-width:2;stroke-linecap:round;stroke-linejoin:round;\" />\n",
       "<path d=\"M 0.0,-22.679999999999993 L -16.2,-22.679999999999993\" style=\"stroke:black;fill:none;stroke-width:2;stroke-linecap:round;stroke-linejoin:round;\" />\n",
       "<path d=\"M 0.0,-42.11999999999999 L -16.2,-42.11999999999999\" style=\"stroke:black;fill:none;stroke-width:2;stroke-linecap:round;stroke-linejoin:round;\" />\n",
       "<path d=\"M 0.0,-61.55999999999999 L -16.2,-61.55999999999999\" style=\"stroke:black;fill:none;stroke-width:2;stroke-linecap:round;stroke-linejoin:round;\" />\n",
       "<path d=\"M 0.0,-80.99999999999999 L -16.2,-80.99999999999999\" style=\"stroke:black;fill:none;stroke-width:2;stroke-linecap:round;stroke-linejoin:round;\" />\n",
       "<path d=\"M -217.07999999999998,61.559999999999995 L -196.992,61.559999999999995 L -196.992,-80.99999999999999 L -16.2,-80.99999999999999\" style=\"stroke:black;fill:none;stroke-width:2;stroke-linecap:round;stroke-linejoin:round;\" />\n",
       "<path d=\"M -217.07999999999998,81.0 L -177.552,81.0 L -177.552,-61.55999999999998 L -16.2,-61.55999999999998\" style=\"stroke:black;fill:none;stroke-width:2;stroke-linecap:round;stroke-linejoin:round;\" />\n",
       "<path d=\"M -217.07999999999998,100.43999999999998 L -158.112,100.43999999999998 L -158.112,-42.119999999999976 L -16.2,-42.119999999999976\" style=\"stroke:black;fill:none;stroke-width:2;stroke-linecap:round;stroke-linejoin:round;\" />\n",
       "<path d=\"M -217.07999999999998,119.87999999999998 L -138.672,119.87999999999998 L -138.672,-22.67999999999999 L -16.2,-22.67999999999999\" style=\"stroke:black;fill:none;stroke-width:2;stroke-linecap:round;stroke-linejoin:round;\" />\n",
       "<text x=\"4.859999999999999\" y=\"-27.079999999999995\" fill=\"black\" font-size=\"11\"\n",
       "font-family=\"sans-serif\" text-anchor=\"start\"  transform=\" rotate(0 4.859999999999999 -22.679999999999993)\"><tspan x=\"4.859999999999999\" dy=\"8.8\">A</tspan></text>\n",
       "<text x=\"4.859999999999999\" y=\"-46.519999999999996\" fill=\"black\" font-size=\"11\"\n",
       "font-family=\"sans-serif\" text-anchor=\"start\"  transform=\" rotate(0 4.859999999999999 -42.11999999999999)\"><tspan x=\"4.859999999999999\" dy=\"8.8\">B</tspan></text>\n",
       "<text x=\"4.859999999999999\" y=\"-65.96\" fill=\"black\" font-size=\"11\"\n",
       "font-family=\"sans-serif\" text-anchor=\"start\"  transform=\" rotate(0 4.859999999999999 -61.55999999999999)\"><tspan x=\"4.859999999999999\" dy=\"8.8\">C</tspan></text>\n",
       "<text x=\"4.859999999999999\" y=\"-85.39999999999998\" fill=\"black\" font-size=\"11\"\n",
       "font-family=\"sans-serif\" text-anchor=\"start\"  transform=\" rotate(0 4.859999999999999 -80.99999999999999)\"><tspan x=\"4.859999999999999\" dy=\"8.8\">D</tspan></text>\n",
       "<circle cx=\"-217.07999999999998\" cy=\"61.559999999999995\" r=\"3.24\" style=\"stroke:black;fill:white;stroke-width:2;\"/>\n",
       "<circle cx=\"-217.07999999999998\" cy=\"81.0\" r=\"3.24\" style=\"stroke:black;fill:white;stroke-width:2;\"/>\n",
       "<circle cx=\"-217.07999999999998\" cy=\"100.44\" r=\"3.24\" style=\"stroke:black;fill:white;stroke-width:2;\"/>\n",
       "<circle cx=\"-217.07999999999998\" cy=\"119.87999999999998\" r=\"3.24\" style=\"stroke:black;fill:white;stroke-width:2;\"/></svg>"
      ]
     },
     "execution_count": 9,
     "metadata": {},
     "output_type": "execute_result"
    }
   ],
   "source": [
    "d = schemdraw.Drawing()\n",
    "D1 = d.add(elm.Ic(pins=[elm.IcPin(name='A', side='l', slot='1/4'),\n",
    "                        elm.IcPin(name='B', side='l', slot='2/4'),\n",
    "                        elm.IcPin(name='C', side='l', slot='3/4'),\n",
    "                        elm.IcPin(name='D', side='l', slot='4/4')]))\n",
    "\n",
    "D2 = d.add(elm.Header(rows=4).at((-7,-4)))\n",
    "d.add(elm.OrthoLines(n=4, dy=.6, xstart=.1).at(D2.pin1).to(D1.D))\n",
    "d.draw()"
   ]
  },
  {
   "cell_type": "code",
   "execution_count": 10,
   "metadata": {},
   "outputs": [
    {
     "data": {
      "image/svg+xml": [
       "<svg xmlns=\"http://www.w3.org/2000/svg\" xml:lang=\"en\" height=\"211.36pt\" width=\"303.7pt\" viewBox=\"-228.79999999999998 -209.36 303.7 211.36\"><polygon points=\"-226.79999999999998,-129.6 -226.79999999999998,-207.36 -207.36,-207.36 -207.36,-129.6 \" style=\"stroke:black;fill:none;stroke-width:2;stroke-linecap:round;stroke-linejoin:round;\"/>\n",
       "<path d=\"M 0.0,-0.0 L 72.89999999999999,-0.0 L 72.89999999999999,-103.67999999999998 L 0.0,-103.67999999999998 L 0.0,-0.0\" style=\"stroke:black;fill:none;stroke-width:2;stroke-linecap:round;stroke-linejoin:round;\" />\n",
       "<path d=\"M 0.0,-22.679999999999993 L -16.2,-22.679999999999993\" style=\"stroke:black;fill:none;stroke-width:2;stroke-linecap:round;stroke-linejoin:round;\" />\n",
       "<path d=\"M 0.0,-42.11999999999999 L -16.2,-42.11999999999999\" style=\"stroke:black;fill:none;stroke-width:2;stroke-linecap:round;stroke-linejoin:round;\" />\n",
       "<path d=\"M 0.0,-61.55999999999999 L -16.2,-61.55999999999999\" style=\"stroke:black;fill:none;stroke-width:2;stroke-linecap:round;stroke-linejoin:round;\" />\n",
       "<path d=\"M 0.0,-80.99999999999999 L -16.2,-80.99999999999999\" style=\"stroke:black;fill:none;stroke-width:2;stroke-linecap:round;stroke-linejoin:round;\" />\n",
       "<path d=\"M -217.07999999999998,-197.64 L -68.04000000000002,-197.64 L -68.04000000000002,-80.99999999999999 L -16.2,-80.99999999999999\" style=\"stroke:black;fill:none;stroke-width:2;stroke-linecap:round;stroke-linejoin:round;\" />\n",
       "<path d=\"M -217.07999999999998,-178.2 L -87.48,-178.2 L -87.48,-61.55999999999998 L -16.2,-61.55999999999998\" style=\"stroke:black;fill:none;stroke-width:2;stroke-linecap:round;stroke-linejoin:round;\" />\n",
       "<path d=\"M -217.07999999999998,-158.75999999999996 L -106.91999999999999,-158.75999999999996 L -106.91999999999999,-42.11999999999999 L -16.2,-42.11999999999999\" style=\"stroke:black;fill:none;stroke-width:2;stroke-linecap:round;stroke-linejoin:round;\" />\n",
       "<path d=\"M -217.07999999999998,-139.32 L -126.35999999999999,-139.32 L -126.35999999999999,-22.679999999999975 L -16.2,-22.679999999999975\" style=\"stroke:black;fill:none;stroke-width:2;stroke-linecap:round;stroke-linejoin:round;\" />\n",
       "<text x=\"4.859999999999999\" y=\"-27.079999999999995\" fill=\"black\" font-size=\"11\"\n",
       "font-family=\"sans-serif\" text-anchor=\"start\"  transform=\" rotate(0 4.859999999999999 -22.679999999999993)\"><tspan x=\"4.859999999999999\" dy=\"8.8\">A</tspan></text>\n",
       "<text x=\"4.859999999999999\" y=\"-46.519999999999996\" fill=\"black\" font-size=\"11\"\n",
       "font-family=\"sans-serif\" text-anchor=\"start\"  transform=\" rotate(0 4.859999999999999 -42.11999999999999)\"><tspan x=\"4.859999999999999\" dy=\"8.8\">B</tspan></text>\n",
       "<text x=\"4.859999999999999\" y=\"-65.96\" fill=\"black\" font-size=\"11\"\n",
       "font-family=\"sans-serif\" text-anchor=\"start\"  transform=\" rotate(0 4.859999999999999 -61.55999999999999)\"><tspan x=\"4.859999999999999\" dy=\"8.8\">C</tspan></text>\n",
       "<text x=\"4.859999999999999\" y=\"-85.39999999999998\" fill=\"black\" font-size=\"11\"\n",
       "font-family=\"sans-serif\" text-anchor=\"start\"  transform=\" rotate(0 4.859999999999999 -80.99999999999999)\"><tspan x=\"4.859999999999999\" dy=\"8.8\">D</tspan></text>\n",
       "<circle cx=\"-217.07999999999998\" cy=\"-197.64\" r=\"3.24\" style=\"stroke:black;fill:white;stroke-width:2;\"/>\n",
       "<circle cx=\"-217.07999999999998\" cy=\"-178.2\" r=\"3.24\" style=\"stroke:black;fill:white;stroke-width:2;\"/>\n",
       "<circle cx=\"-217.07999999999998\" cy=\"-158.76\" r=\"3.24\" style=\"stroke:black;fill:white;stroke-width:2;\"/>\n",
       "<circle cx=\"-217.07999999999998\" cy=\"-139.32\" r=\"3.24\" style=\"stroke:black;fill:white;stroke-width:2;\"/></svg>"
      ],
      "text/plain": [
       "<svg xmlns=\"http://www.w3.org/2000/svg\" xml:lang=\"en\" height=\"211.36pt\" width=\"303.7pt\" viewBox=\"-228.79999999999998 -209.36 303.7 211.36\"><polygon points=\"-226.79999999999998,-129.6 -226.79999999999998,-207.36 -207.36,-207.36 -207.36,-129.6 \" style=\"stroke:black;fill:none;stroke-width:2;stroke-linecap:round;stroke-linejoin:round;\"/>\n",
       "<path d=\"M 0.0,-0.0 L 72.89999999999999,-0.0 L 72.89999999999999,-103.67999999999998 L 0.0,-103.67999999999998 L 0.0,-0.0\" style=\"stroke:black;fill:none;stroke-width:2;stroke-linecap:round;stroke-linejoin:round;\" />\n",
       "<path d=\"M 0.0,-22.679999999999993 L -16.2,-22.679999999999993\" style=\"stroke:black;fill:none;stroke-width:2;stroke-linecap:round;stroke-linejoin:round;\" />\n",
       "<path d=\"M 0.0,-42.11999999999999 L -16.2,-42.11999999999999\" style=\"stroke:black;fill:none;stroke-width:2;stroke-linecap:round;stroke-linejoin:round;\" />\n",
       "<path d=\"M 0.0,-61.55999999999999 L -16.2,-61.55999999999999\" style=\"stroke:black;fill:none;stroke-width:2;stroke-linecap:round;stroke-linejoin:round;\" />\n",
       "<path d=\"M 0.0,-80.99999999999999 L -16.2,-80.99999999999999\" style=\"stroke:black;fill:none;stroke-width:2;stroke-linecap:round;stroke-linejoin:round;\" />\n",
       "<path d=\"M -217.07999999999998,-197.64 L -68.04000000000002,-197.64 L -68.04000000000002,-80.99999999999999 L -16.2,-80.99999999999999\" style=\"stroke:black;fill:none;stroke-width:2;stroke-linecap:round;stroke-linejoin:round;\" />\n",
       "<path d=\"M -217.07999999999998,-178.2 L -87.48,-178.2 L -87.48,-61.55999999999998 L -16.2,-61.55999999999998\" style=\"stroke:black;fill:none;stroke-width:2;stroke-linecap:round;stroke-linejoin:round;\" />\n",
       "<path d=\"M -217.07999999999998,-158.75999999999996 L -106.91999999999999,-158.75999999999996 L -106.91999999999999,-42.11999999999999 L -16.2,-42.11999999999999\" style=\"stroke:black;fill:none;stroke-width:2;stroke-linecap:round;stroke-linejoin:round;\" />\n",
       "<path d=\"M -217.07999999999998,-139.32 L -126.35999999999999,-139.32 L -126.35999999999999,-22.679999999999975 L -16.2,-22.679999999999975\" style=\"stroke:black;fill:none;stroke-width:2;stroke-linecap:round;stroke-linejoin:round;\" />\n",
       "<text x=\"4.859999999999999\" y=\"-27.079999999999995\" fill=\"black\" font-size=\"11\"\n",
       "font-family=\"sans-serif\" text-anchor=\"start\"  transform=\" rotate(0 4.859999999999999 -22.679999999999993)\"><tspan x=\"4.859999999999999\" dy=\"8.8\">A</tspan></text>\n",
       "<text x=\"4.859999999999999\" y=\"-46.519999999999996\" fill=\"black\" font-size=\"11\"\n",
       "font-family=\"sans-serif\" text-anchor=\"start\"  transform=\" rotate(0 4.859999999999999 -42.11999999999999)\"><tspan x=\"4.859999999999999\" dy=\"8.8\">B</tspan></text>\n",
       "<text x=\"4.859999999999999\" y=\"-65.96\" fill=\"black\" font-size=\"11\"\n",
       "font-family=\"sans-serif\" text-anchor=\"start\"  transform=\" rotate(0 4.859999999999999 -61.55999999999999)\"><tspan x=\"4.859999999999999\" dy=\"8.8\">C</tspan></text>\n",
       "<text x=\"4.859999999999999\" y=\"-85.39999999999998\" fill=\"black\" font-size=\"11\"\n",
       "font-family=\"sans-serif\" text-anchor=\"start\"  transform=\" rotate(0 4.859999999999999 -80.99999999999999)\"><tspan x=\"4.859999999999999\" dy=\"8.8\">D</tspan></text>\n",
       "<circle cx=\"-217.07999999999998\" cy=\"-197.64\" r=\"3.24\" style=\"stroke:black;fill:white;stroke-width:2;\"/>\n",
       "<circle cx=\"-217.07999999999998\" cy=\"-178.2\" r=\"3.24\" style=\"stroke:black;fill:white;stroke-width:2;\"/>\n",
       "<circle cx=\"-217.07999999999998\" cy=\"-158.76\" r=\"3.24\" style=\"stroke:black;fill:white;stroke-width:2;\"/>\n",
       "<circle cx=\"-217.07999999999998\" cy=\"-139.32\" r=\"3.24\" style=\"stroke:black;fill:white;stroke-width:2;\"/></svg>"
      ]
     },
     "execution_count": 10,
     "metadata": {},
     "output_type": "execute_result"
    }
   ],
   "source": [
    "d = schemdraw.Drawing()\n",
    "D1 = d.add(elm.Ic(pins=[elm.IcPin(name='A', side='l', slot='1/4'),\n",
    "                        elm.IcPin(name='B', side='l', slot='2/4'),\n",
    "                        elm.IcPin(name='C', side='l', slot='3/4'),\n",
    "                        elm.IcPin(name='D', side='l', slot='4/4')]))\n",
    "\n",
    "D2 = d.add(elm.Header(rows=4).at((-7,4)))\n",
    "d.add(elm.OrthoLines(n=4, dy=.6).at(D2.pin1).to(D1.D))\n",
    "d.draw()"
   ]
  },
  {
   "cell_type": "code",
   "execution_count": 11,
   "metadata": {},
   "outputs": [
    {
     "data": {
      "image/svg+xml": [
       "<svg xmlns=\"http://www.w3.org/2000/svg\" xml:lang=\"en\" height=\"237.27999999999997pt\" width=\"250.23999999999998pt\" viewBox=\"-2.0 -105.67999999999998 250.23999999999998 237.27999999999997\"><polygon points=\"226.79999999999998,129.6 226.79999999999998,51.84 246.23999999999998,51.84 246.23999999999998,129.6 \" style=\"stroke:black;fill:none;stroke-width:2;stroke-linecap:round;stroke-linejoin:round;\"/>\n",
       "<path d=\"M 0.0,-0.0 L 72.89999999999999,-0.0 L 72.89999999999999,-103.67999999999998 L 0.0,-103.67999999999998 L 0.0,-0.0\" style=\"stroke:black;fill:none;stroke-width:2;stroke-linecap:round;stroke-linejoin:round;\" />\n",
       "<path d=\"M 72.89999999999999,-22.679999999999993 L 89.1,-22.679999999999993\" style=\"stroke:black;fill:none;stroke-width:2;stroke-linecap:round;stroke-linejoin:round;\" />\n",
       "<path d=\"M 72.89999999999999,-42.11999999999999 L 89.1,-42.11999999999999\" style=\"stroke:black;fill:none;stroke-width:2;stroke-linecap:round;stroke-linejoin:round;\" />\n",
       "<path d=\"M 72.89999999999999,-61.55999999999999 L 89.1,-61.55999999999999\" style=\"stroke:black;fill:none;stroke-width:2;stroke-linecap:round;stroke-linejoin:round;\" />\n",
       "<path d=\"M 72.89999999999999,-80.99999999999999 L 89.1,-80.99999999999999\" style=\"stroke:black;fill:none;stroke-width:2;stroke-linecap:round;stroke-linejoin:round;\" />\n",
       "<path d=\"M 89.1,-80.99999999999999 L 211.41,-80.99999999999999 L 211.41,61.559999999999995 L 236.51999999999998,61.559999999999995\" style=\"stroke:black;fill:none;stroke-width:2;stroke-linecap:round;stroke-linejoin:round;\" />\n",
       "<path d=\"M 89.1,-61.55999999999998 L 191.97,-61.55999999999998 L 191.97,80.99999999999999 L 236.51999999999998,80.99999999999999\" style=\"stroke:black;fill:none;stroke-width:2;stroke-linecap:round;stroke-linejoin:round;\" />\n",
       "<path d=\"M 89.1,-42.11999999999998 L 172.53,-42.11999999999998 L 172.53,100.44 L 236.51999999999998,100.44\" style=\"stroke:black;fill:none;stroke-width:2;stroke-linecap:round;stroke-linejoin:round;\" />\n",
       "<path d=\"M 89.1,-22.67999999999999 L 153.08999999999997,-22.67999999999999 L 153.08999999999997,119.87999999999998 L 236.51999999999998,119.87999999999998\" style=\"stroke:black;fill:none;stroke-width:2;stroke-linecap:round;stroke-linejoin:round;\" />\n",
       "<text x=\"68.04\" y=\"-27.079999999999995\" fill=\"black\" font-size=\"11\"\n",
       "font-family=\"sans-serif\" text-anchor=\"end\"  transform=\" rotate(0 68.04 -22.679999999999993)\"><tspan x=\"68.04\" dy=\"8.8\">A</tspan></text>\n",
       "<text x=\"68.04\" y=\"-46.519999999999996\" fill=\"black\" font-size=\"11\"\n",
       "font-family=\"sans-serif\" text-anchor=\"end\"  transform=\" rotate(0 68.04 -42.11999999999999)\"><tspan x=\"68.04\" dy=\"8.8\">B</tspan></text>\n",
       "<text x=\"68.04\" y=\"-65.96\" fill=\"black\" font-size=\"11\"\n",
       "font-family=\"sans-serif\" text-anchor=\"end\"  transform=\" rotate(0 68.04 -61.55999999999999)\"><tspan x=\"68.04\" dy=\"8.8\">C</tspan></text>\n",
       "<text x=\"68.04\" y=\"-85.39999999999998\" fill=\"black\" font-size=\"11\"\n",
       "font-family=\"sans-serif\" text-anchor=\"end\"  transform=\" rotate(0 68.04 -80.99999999999999)\"><tspan x=\"68.04\" dy=\"8.8\">D</tspan></text>\n",
       "<circle cx=\"236.51999999999998\" cy=\"61.559999999999995\" r=\"3.24\" style=\"stroke:black;fill:white;stroke-width:2;\"/>\n",
       "<circle cx=\"236.51999999999998\" cy=\"81.0\" r=\"3.24\" style=\"stroke:black;fill:white;stroke-width:2;\"/>\n",
       "<circle cx=\"236.51999999999998\" cy=\"100.44\" r=\"3.24\" style=\"stroke:black;fill:white;stroke-width:2;\"/>\n",
       "<circle cx=\"236.51999999999998\" cy=\"119.87999999999998\" r=\"3.24\" style=\"stroke:black;fill:white;stroke-width:2;\"/></svg>"
      ],
      "text/plain": [
       "<svg xmlns=\"http://www.w3.org/2000/svg\" xml:lang=\"en\" height=\"237.27999999999997pt\" width=\"250.23999999999998pt\" viewBox=\"-2.0 -105.67999999999998 250.23999999999998 237.27999999999997\"><polygon points=\"226.79999999999998,129.6 226.79999999999998,51.84 246.23999999999998,51.84 246.23999999999998,129.6 \" style=\"stroke:black;fill:none;stroke-width:2;stroke-linecap:round;stroke-linejoin:round;\"/>\n",
       "<path d=\"M 0.0,-0.0 L 72.89999999999999,-0.0 L 72.89999999999999,-103.67999999999998 L 0.0,-103.67999999999998 L 0.0,-0.0\" style=\"stroke:black;fill:none;stroke-width:2;stroke-linecap:round;stroke-linejoin:round;\" />\n",
       "<path d=\"M 72.89999999999999,-22.679999999999993 L 89.1,-22.679999999999993\" style=\"stroke:black;fill:none;stroke-width:2;stroke-linecap:round;stroke-linejoin:round;\" />\n",
       "<path d=\"M 72.89999999999999,-42.11999999999999 L 89.1,-42.11999999999999\" style=\"stroke:black;fill:none;stroke-width:2;stroke-linecap:round;stroke-linejoin:round;\" />\n",
       "<path d=\"M 72.89999999999999,-61.55999999999999 L 89.1,-61.55999999999999\" style=\"stroke:black;fill:none;stroke-width:2;stroke-linecap:round;stroke-linejoin:round;\" />\n",
       "<path d=\"M 72.89999999999999,-80.99999999999999 L 89.1,-80.99999999999999\" style=\"stroke:black;fill:none;stroke-width:2;stroke-linecap:round;stroke-linejoin:round;\" />\n",
       "<path d=\"M 89.1,-80.99999999999999 L 211.41,-80.99999999999999 L 211.41,61.559999999999995 L 236.51999999999998,61.559999999999995\" style=\"stroke:black;fill:none;stroke-width:2;stroke-linecap:round;stroke-linejoin:round;\" />\n",
       "<path d=\"M 89.1,-61.55999999999998 L 191.97,-61.55999999999998 L 191.97,80.99999999999999 L 236.51999999999998,80.99999999999999\" style=\"stroke:black;fill:none;stroke-width:2;stroke-linecap:round;stroke-linejoin:round;\" />\n",
       "<path d=\"M 89.1,-42.11999999999998 L 172.53,-42.11999999999998 L 172.53,100.44 L 236.51999999999998,100.44\" style=\"stroke:black;fill:none;stroke-width:2;stroke-linecap:round;stroke-linejoin:round;\" />\n",
       "<path d=\"M 89.1,-22.67999999999999 L 153.08999999999997,-22.67999999999999 L 153.08999999999997,119.87999999999998 L 236.51999999999998,119.87999999999998\" style=\"stroke:black;fill:none;stroke-width:2;stroke-linecap:round;stroke-linejoin:round;\" />\n",
       "<text x=\"68.04\" y=\"-27.079999999999995\" fill=\"black\" font-size=\"11\"\n",
       "font-family=\"sans-serif\" text-anchor=\"end\"  transform=\" rotate(0 68.04 -22.679999999999993)\"><tspan x=\"68.04\" dy=\"8.8\">A</tspan></text>\n",
       "<text x=\"68.04\" y=\"-46.519999999999996\" fill=\"black\" font-size=\"11\"\n",
       "font-family=\"sans-serif\" text-anchor=\"end\"  transform=\" rotate(0 68.04 -42.11999999999999)\"><tspan x=\"68.04\" dy=\"8.8\">B</tspan></text>\n",
       "<text x=\"68.04\" y=\"-65.96\" fill=\"black\" font-size=\"11\"\n",
       "font-family=\"sans-serif\" text-anchor=\"end\"  transform=\" rotate(0 68.04 -61.55999999999999)\"><tspan x=\"68.04\" dy=\"8.8\">C</tspan></text>\n",
       "<text x=\"68.04\" y=\"-85.39999999999998\" fill=\"black\" font-size=\"11\"\n",
       "font-family=\"sans-serif\" text-anchor=\"end\"  transform=\" rotate(0 68.04 -80.99999999999999)\"><tspan x=\"68.04\" dy=\"8.8\">D</tspan></text>\n",
       "<circle cx=\"236.51999999999998\" cy=\"61.559999999999995\" r=\"3.24\" style=\"stroke:black;fill:white;stroke-width:2;\"/>\n",
       "<circle cx=\"236.51999999999998\" cy=\"81.0\" r=\"3.24\" style=\"stroke:black;fill:white;stroke-width:2;\"/>\n",
       "<circle cx=\"236.51999999999998\" cy=\"100.44\" r=\"3.24\" style=\"stroke:black;fill:white;stroke-width:2;\"/>\n",
       "<circle cx=\"236.51999999999998\" cy=\"119.87999999999998\" r=\"3.24\" style=\"stroke:black;fill:white;stroke-width:2;\"/></svg>"
      ]
     },
     "execution_count": 11,
     "metadata": {},
     "output_type": "execute_result"
    }
   ],
   "source": [
    "d = schemdraw.Drawing()\n",
    "D1 = d.add(elm.Ic(pins=[elm.IcPin(name='A', side='r', slot='1/4'),\n",
    "                        elm.IcPin(name='B', side='r', slot='2/4'),\n",
    "                        elm.IcPin(name='C', side='r', slot='3/4'),\n",
    "                        elm.IcPin(name='D', side='r', slot='4/4')]))\n",
    "\n",
    "D2 = d.add(elm.Header(rows=4).at((7,-4)))\n",
    "d.add(elm.OrthoLines(n=4).at(D1.D).to(D2.pin1))\n",
    "d.draw()"
   ]
  },
  {
   "cell_type": "code",
   "execution_count": 12,
   "metadata": {},
   "outputs": [
    {
     "data": {
      "image/svg+xml": [
       "<svg xmlns=\"http://www.w3.org/2000/svg\" xml:lang=\"en\" height=\"211.36pt\" width=\"250.23999999999998pt\" viewBox=\"-2.0 -209.36 250.23999999999998 211.36\"><polygon points=\"226.79999999999998,-129.6 226.79999999999998,-207.36 246.23999999999998,-207.36 246.23999999999998,-129.6 \" style=\"stroke:black;fill:none;stroke-width:2;stroke-linecap:round;stroke-linejoin:round;\"/>\n",
       "<path d=\"M 0.0,-0.0 L 72.89999999999999,-0.0 L 72.89999999999999,-103.67999999999998 L 0.0,-103.67999999999998 L 0.0,-0.0\" style=\"stroke:black;fill:none;stroke-width:2;stroke-linecap:round;stroke-linejoin:round;\" />\n",
       "<path d=\"M 72.89999999999999,-22.679999999999993 L 89.1,-22.679999999999993\" style=\"stroke:black;fill:none;stroke-width:2;stroke-linecap:round;stroke-linejoin:round;\" />\n",
       "<path d=\"M 72.89999999999999,-42.11999999999999 L 89.1,-42.11999999999999\" style=\"stroke:black;fill:none;stroke-width:2;stroke-linecap:round;stroke-linejoin:round;\" />\n",
       "<path d=\"M 72.89999999999999,-61.55999999999999 L 89.1,-61.55999999999999\" style=\"stroke:black;fill:none;stroke-width:2;stroke-linecap:round;stroke-linejoin:round;\" />\n",
       "<path d=\"M 72.89999999999999,-80.99999999999999 L 89.1,-80.99999999999999\" style=\"stroke:black;fill:none;stroke-width:2;stroke-linecap:round;stroke-linejoin:round;\" />\n",
       "<path d=\"M 89.1,-80.99999999999999 L 133.65,-80.99999999999999 L 133.65,-197.64 L 236.51999999999998,-197.64\" style=\"stroke:black;fill:none;stroke-width:2;stroke-linecap:round;stroke-linejoin:round;\" />\n",
       "<path d=\"M 89.1,-61.55999999999998 L 153.08999999999997,-61.55999999999998 L 153.08999999999997,-178.2 L 236.51999999999998,-178.2\" style=\"stroke:black;fill:none;stroke-width:2;stroke-linecap:round;stroke-linejoin:round;\" />\n",
       "<path d=\"M 89.1,-42.11999999999998 L 172.53,-42.11999999999998 L 172.53,-158.76 L 236.51999999999998,-158.76\" style=\"stroke:black;fill:none;stroke-width:2;stroke-linecap:round;stroke-linejoin:round;\" />\n",
       "<path d=\"M 89.1,-22.67999999999999 L 191.97,-22.67999999999999 L 191.97,-139.32 L 236.51999999999998,-139.32\" style=\"stroke:black;fill:none;stroke-width:2;stroke-linecap:round;stroke-linejoin:round;\" />\n",
       "<text x=\"68.04\" y=\"-27.079999999999995\" fill=\"black\" font-size=\"11\"\n",
       "font-family=\"sans-serif\" text-anchor=\"end\"  transform=\" rotate(0 68.04 -22.679999999999993)\"><tspan x=\"68.04\" dy=\"8.8\">A</tspan></text>\n",
       "<text x=\"68.04\" y=\"-46.519999999999996\" fill=\"black\" font-size=\"11\"\n",
       "font-family=\"sans-serif\" text-anchor=\"end\"  transform=\" rotate(0 68.04 -42.11999999999999)\"><tspan x=\"68.04\" dy=\"8.8\">B</tspan></text>\n",
       "<text x=\"68.04\" y=\"-65.96\" fill=\"black\" font-size=\"11\"\n",
       "font-family=\"sans-serif\" text-anchor=\"end\"  transform=\" rotate(0 68.04 -61.55999999999999)\"><tspan x=\"68.04\" dy=\"8.8\">C</tspan></text>\n",
       "<text x=\"68.04\" y=\"-85.39999999999998\" fill=\"black\" font-size=\"11\"\n",
       "font-family=\"sans-serif\" text-anchor=\"end\"  transform=\" rotate(0 68.04 -80.99999999999999)\"><tspan x=\"68.04\" dy=\"8.8\">D</tspan></text>\n",
       "<circle cx=\"236.51999999999998\" cy=\"-197.64\" r=\"3.24\" style=\"stroke:black;fill:white;stroke-width:2;\"/>\n",
       "<circle cx=\"236.51999999999998\" cy=\"-178.2\" r=\"3.24\" style=\"stroke:black;fill:white;stroke-width:2;\"/>\n",
       "<circle cx=\"236.51999999999998\" cy=\"-158.76\" r=\"3.24\" style=\"stroke:black;fill:white;stroke-width:2;\"/>\n",
       "<circle cx=\"236.51999999999998\" cy=\"-139.32\" r=\"3.24\" style=\"stroke:black;fill:white;stroke-width:2;\"/></svg>"
      ],
      "text/plain": [
       "<svg xmlns=\"http://www.w3.org/2000/svg\" xml:lang=\"en\" height=\"211.36pt\" width=\"250.23999999999998pt\" viewBox=\"-2.0 -209.36 250.23999999999998 211.36\"><polygon points=\"226.79999999999998,-129.6 226.79999999999998,-207.36 246.23999999999998,-207.36 246.23999999999998,-129.6 \" style=\"stroke:black;fill:none;stroke-width:2;stroke-linecap:round;stroke-linejoin:round;\"/>\n",
       "<path d=\"M 0.0,-0.0 L 72.89999999999999,-0.0 L 72.89999999999999,-103.67999999999998 L 0.0,-103.67999999999998 L 0.0,-0.0\" style=\"stroke:black;fill:none;stroke-width:2;stroke-linecap:round;stroke-linejoin:round;\" />\n",
       "<path d=\"M 72.89999999999999,-22.679999999999993 L 89.1,-22.679999999999993\" style=\"stroke:black;fill:none;stroke-width:2;stroke-linecap:round;stroke-linejoin:round;\" />\n",
       "<path d=\"M 72.89999999999999,-42.11999999999999 L 89.1,-42.11999999999999\" style=\"stroke:black;fill:none;stroke-width:2;stroke-linecap:round;stroke-linejoin:round;\" />\n",
       "<path d=\"M 72.89999999999999,-61.55999999999999 L 89.1,-61.55999999999999\" style=\"stroke:black;fill:none;stroke-width:2;stroke-linecap:round;stroke-linejoin:round;\" />\n",
       "<path d=\"M 72.89999999999999,-80.99999999999999 L 89.1,-80.99999999999999\" style=\"stroke:black;fill:none;stroke-width:2;stroke-linecap:round;stroke-linejoin:round;\" />\n",
       "<path d=\"M 89.1,-80.99999999999999 L 133.65,-80.99999999999999 L 133.65,-197.64 L 236.51999999999998,-197.64\" style=\"stroke:black;fill:none;stroke-width:2;stroke-linecap:round;stroke-linejoin:round;\" />\n",
       "<path d=\"M 89.1,-61.55999999999998 L 153.08999999999997,-61.55999999999998 L 153.08999999999997,-178.2 L 236.51999999999998,-178.2\" style=\"stroke:black;fill:none;stroke-width:2;stroke-linecap:round;stroke-linejoin:round;\" />\n",
       "<path d=\"M 89.1,-42.11999999999998 L 172.53,-42.11999999999998 L 172.53,-158.76 L 236.51999999999998,-158.76\" style=\"stroke:black;fill:none;stroke-width:2;stroke-linecap:round;stroke-linejoin:round;\" />\n",
       "<path d=\"M 89.1,-22.67999999999999 L 191.97,-22.67999999999999 L 191.97,-139.32 L 236.51999999999998,-139.32\" style=\"stroke:black;fill:none;stroke-width:2;stroke-linecap:round;stroke-linejoin:round;\" />\n",
       "<text x=\"68.04\" y=\"-27.079999999999995\" fill=\"black\" font-size=\"11\"\n",
       "font-family=\"sans-serif\" text-anchor=\"end\"  transform=\" rotate(0 68.04 -22.679999999999993)\"><tspan x=\"68.04\" dy=\"8.8\">A</tspan></text>\n",
       "<text x=\"68.04\" y=\"-46.519999999999996\" fill=\"black\" font-size=\"11\"\n",
       "font-family=\"sans-serif\" text-anchor=\"end\"  transform=\" rotate(0 68.04 -42.11999999999999)\"><tspan x=\"68.04\" dy=\"8.8\">B</tspan></text>\n",
       "<text x=\"68.04\" y=\"-65.96\" fill=\"black\" font-size=\"11\"\n",
       "font-family=\"sans-serif\" text-anchor=\"end\"  transform=\" rotate(0 68.04 -61.55999999999999)\"><tspan x=\"68.04\" dy=\"8.8\">C</tspan></text>\n",
       "<text x=\"68.04\" y=\"-85.39999999999998\" fill=\"black\" font-size=\"11\"\n",
       "font-family=\"sans-serif\" text-anchor=\"end\"  transform=\" rotate(0 68.04 -80.99999999999999)\"><tspan x=\"68.04\" dy=\"8.8\">D</tspan></text>\n",
       "<circle cx=\"236.51999999999998\" cy=\"-197.64\" r=\"3.24\" style=\"stroke:black;fill:white;stroke-width:2;\"/>\n",
       "<circle cx=\"236.51999999999998\" cy=\"-178.2\" r=\"3.24\" style=\"stroke:black;fill:white;stroke-width:2;\"/>\n",
       "<circle cx=\"236.51999999999998\" cy=\"-158.76\" r=\"3.24\" style=\"stroke:black;fill:white;stroke-width:2;\"/>\n",
       "<circle cx=\"236.51999999999998\" cy=\"-139.32\" r=\"3.24\" style=\"stroke:black;fill:white;stroke-width:2;\"/></svg>"
      ]
     },
     "execution_count": 12,
     "metadata": {},
     "output_type": "execute_result"
    }
   ],
   "source": [
    "d = schemdraw.Drawing()\n",
    "D1 = d.add(elm.Ic(pins=[elm.IcPin(name='A', side='r', slot='1/4'),\n",
    "                        elm.IcPin(name='B', side='r', slot='2/4'),\n",
    "                        elm.IcPin(name='C', side='r', slot='3/4'),\n",
    "                        elm.IcPin(name='D', side='r', slot='4/4')]))\n",
    "\n",
    "D2 = d.add(elm.Header(rows=4).at((7,4)))\n",
    "d.add(elm.OrthoLines(n=4).at(D1.D).to(D2.pin1))\n",
    "d.draw()"
   ]
  },
  {
   "cell_type": "code",
   "execution_count": 13,
   "metadata": {},
   "outputs": [
    {
     "data": {
      "image/svg+xml": [
       "<svg xmlns=\"http://www.w3.org/2000/svg\" xml:lang=\"en\" height=\"149.79999999999998pt\" width=\"143.32pt\" viewBox=\"-2.0 -147.79999999999998 143.32 149.79999999999998\"><polygon points=\"119.88,-131.22 119.88,-14.580000000000005 139.32,-14.580000000000005 139.32,-131.22 \" style=\"stroke:black;fill:none;stroke-width:2;stroke-linecap:round;stroke-linejoin:round;\"/>\n",
       "<path d=\"M 0.0,-0.0 L 72.89999999999999,-0.0 L 72.89999999999999,-145.79999999999998 L 0.0,-145.79999999999998 L 0.0,-0.0\" style=\"stroke:black;fill:none;stroke-width:2;stroke-linecap:round;stroke-linejoin:round;\" />\n",
       "<path d=\"M 72.89999999999999,-24.299999999999997 L 89.1,-24.299999999999997\" style=\"stroke:black;fill:none;stroke-width:2;stroke-linecap:round;stroke-linejoin:round;\" />\n",
       "<path d=\"M 72.89999999999999,-43.74 L 89.1,-43.74\" style=\"stroke:black;fill:none;stroke-width:2;stroke-linecap:round;stroke-linejoin:round;\" />\n",
       "<path d=\"M 72.89999999999999,-63.17999999999999 L 89.1,-63.17999999999999\" style=\"stroke:black;fill:none;stroke-width:2;stroke-linecap:round;stroke-linejoin:round;\" />\n",
       "<path d=\"M 72.89999999999999,-82.61999999999999 L 89.1,-82.61999999999999\" style=\"stroke:black;fill:none;stroke-width:2;stroke-linecap:round;stroke-linejoin:round;\" />\n",
       "<path d=\"M 72.89999999999999,-102.05999999999999 L 89.1,-102.05999999999999\" style=\"stroke:black;fill:none;stroke-width:2;stroke-linecap:round;stroke-linejoin:round;\" />\n",
       "<path d=\"M 72.89999999999999,-121.5 L 89.1,-121.5\" style=\"stroke:black;fill:none;stroke-width:2;stroke-linecap:round;stroke-linejoin:round;\" />\n",
       "<path d=\"M 129.6,-121.5 L 89.1,-121.5\" style=\"stroke:black;fill:none;stroke-width:2;stroke-linecap:round;stroke-linejoin:round;\" />\n",
       "<path d=\"M 129.6,-102.05999999999999 L 89.1,-102.05999999999999\" style=\"stroke:black;fill:none;stroke-width:2;stroke-linecap:round;stroke-linejoin:round;\" />\n",
       "<path d=\"M 129.6,-82.61999999999999 L 89.1,-82.61999999999999\" style=\"stroke:black;fill:none;stroke-width:2;stroke-linecap:round;stroke-linejoin:round;\" />\n",
       "<path d=\"M 129.6,-63.18 L 89.1,-63.18\" style=\"stroke:black;fill:none;stroke-width:2;stroke-linecap:round;stroke-linejoin:round;\" />\n",
       "<path d=\"M 129.6,-43.74 L 89.1,-43.74\" style=\"stroke:black;fill:none;stroke-width:2;stroke-linecap:round;stroke-linejoin:round;\" />\n",
       "<path d=\"M 129.6,-24.299999999999997 L 89.1,-24.299999999999997\" style=\"stroke:black;fill:none;stroke-width:2;stroke-linecap:round;stroke-linejoin:round;\" />\n",
       "<text x=\"68.04\" y=\"-28.7\" fill=\"black\" font-size=\"11\"\n",
       "font-family=\"sans-serif\" text-anchor=\"end\"  transform=\" rotate(0 68.04 -24.299999999999997)\"><tspan x=\"68.04\" dy=\"8.8\">A</tspan></text>\n",
       "<text x=\"68.04\" y=\"-48.14\" fill=\"black\" font-size=\"11\"\n",
       "font-family=\"sans-serif\" text-anchor=\"end\"  transform=\" rotate(0 68.04 -43.74)\"><tspan x=\"68.04\" dy=\"8.8\">B</tspan></text>\n",
       "<text x=\"68.04\" y=\"-67.58\" fill=\"black\" font-size=\"11\"\n",
       "font-family=\"sans-serif\" text-anchor=\"end\"  transform=\" rotate(0 68.04 -63.17999999999999)\"><tspan x=\"68.04\" dy=\"8.8\">C</tspan></text>\n",
       "<text x=\"68.04\" y=\"-87.01999999999998\" fill=\"black\" font-size=\"11\"\n",
       "font-family=\"sans-serif\" text-anchor=\"end\"  transform=\" rotate(0 68.04 -82.61999999999999)\"><tspan x=\"68.04\" dy=\"8.8\">D</tspan></text>\n",
       "<text x=\"68.04\" y=\"-106.45999999999998\" fill=\"black\" font-size=\"11\"\n",
       "font-family=\"sans-serif\" text-anchor=\"end\"  transform=\" rotate(0 68.04 -102.05999999999999)\"><tspan x=\"68.04\" dy=\"8.8\">E</tspan></text>\n",
       "<text x=\"68.04\" y=\"-125.89999999999999\" fill=\"black\" font-size=\"11\"\n",
       "font-family=\"sans-serif\" text-anchor=\"end\"  transform=\" rotate(0 68.04 -121.5)\"><tspan x=\"68.04\" dy=\"8.8\">F</tspan></text>\n",
       "<circle cx=\"129.6\" cy=\"-24.299999999999997\" r=\"3.24\" style=\"stroke:black;fill:white;stroke-width:2;\"/>\n",
       "<circle cx=\"129.6\" cy=\"-43.74\" r=\"3.24\" style=\"stroke:black;fill:white;stroke-width:2;\"/>\n",
       "<circle cx=\"129.6\" cy=\"-63.17999999999998\" r=\"3.24\" style=\"stroke:black;fill:white;stroke-width:2;\"/>\n",
       "<circle cx=\"129.6\" cy=\"-82.61999999999999\" r=\"3.24\" style=\"stroke:black;fill:white;stroke-width:2;\"/>\n",
       "<circle cx=\"129.6\" cy=\"-102.05999999999999\" r=\"3.24\" style=\"stroke:black;fill:white;stroke-width:2;\"/>\n",
       "<circle cx=\"129.6\" cy=\"-121.5\" r=\"3.24\" style=\"stroke:black;fill:white;stroke-width:2;\"/></svg>"
      ],
      "text/plain": [
       "<svg xmlns=\"http://www.w3.org/2000/svg\" xml:lang=\"en\" height=\"149.79999999999998pt\" width=\"143.32pt\" viewBox=\"-2.0 -147.79999999999998 143.32 149.79999999999998\"><polygon points=\"119.88,-131.22 119.88,-14.580000000000005 139.32,-14.580000000000005 139.32,-131.22 \" style=\"stroke:black;fill:none;stroke-width:2;stroke-linecap:round;stroke-linejoin:round;\"/>\n",
       "<path d=\"M 0.0,-0.0 L 72.89999999999999,-0.0 L 72.89999999999999,-145.79999999999998 L 0.0,-145.79999999999998 L 0.0,-0.0\" style=\"stroke:black;fill:none;stroke-width:2;stroke-linecap:round;stroke-linejoin:round;\" />\n",
       "<path d=\"M 72.89999999999999,-24.299999999999997 L 89.1,-24.299999999999997\" style=\"stroke:black;fill:none;stroke-width:2;stroke-linecap:round;stroke-linejoin:round;\" />\n",
       "<path d=\"M 72.89999999999999,-43.74 L 89.1,-43.74\" style=\"stroke:black;fill:none;stroke-width:2;stroke-linecap:round;stroke-linejoin:round;\" />\n",
       "<path d=\"M 72.89999999999999,-63.17999999999999 L 89.1,-63.17999999999999\" style=\"stroke:black;fill:none;stroke-width:2;stroke-linecap:round;stroke-linejoin:round;\" />\n",
       "<path d=\"M 72.89999999999999,-82.61999999999999 L 89.1,-82.61999999999999\" style=\"stroke:black;fill:none;stroke-width:2;stroke-linecap:round;stroke-linejoin:round;\" />\n",
       "<path d=\"M 72.89999999999999,-102.05999999999999 L 89.1,-102.05999999999999\" style=\"stroke:black;fill:none;stroke-width:2;stroke-linecap:round;stroke-linejoin:round;\" />\n",
       "<path d=\"M 72.89999999999999,-121.5 L 89.1,-121.5\" style=\"stroke:black;fill:none;stroke-width:2;stroke-linecap:round;stroke-linejoin:round;\" />\n",
       "<path d=\"M 129.6,-121.5 L 89.1,-121.5\" style=\"stroke:black;fill:none;stroke-width:2;stroke-linecap:round;stroke-linejoin:round;\" />\n",
       "<path d=\"M 129.6,-102.05999999999999 L 89.1,-102.05999999999999\" style=\"stroke:black;fill:none;stroke-width:2;stroke-linecap:round;stroke-linejoin:round;\" />\n",
       "<path d=\"M 129.6,-82.61999999999999 L 89.1,-82.61999999999999\" style=\"stroke:black;fill:none;stroke-width:2;stroke-linecap:round;stroke-linejoin:round;\" />\n",
       "<path d=\"M 129.6,-63.18 L 89.1,-63.18\" style=\"stroke:black;fill:none;stroke-width:2;stroke-linecap:round;stroke-linejoin:round;\" />\n",
       "<path d=\"M 129.6,-43.74 L 89.1,-43.74\" style=\"stroke:black;fill:none;stroke-width:2;stroke-linecap:round;stroke-linejoin:round;\" />\n",
       "<path d=\"M 129.6,-24.299999999999997 L 89.1,-24.299999999999997\" style=\"stroke:black;fill:none;stroke-width:2;stroke-linecap:round;stroke-linejoin:round;\" />\n",
       "<text x=\"68.04\" y=\"-28.7\" fill=\"black\" font-size=\"11\"\n",
       "font-family=\"sans-serif\" text-anchor=\"end\"  transform=\" rotate(0 68.04 -24.299999999999997)\"><tspan x=\"68.04\" dy=\"8.8\">A</tspan></text>\n",
       "<text x=\"68.04\" y=\"-48.14\" fill=\"black\" font-size=\"11\"\n",
       "font-family=\"sans-serif\" text-anchor=\"end\"  transform=\" rotate(0 68.04 -43.74)\"><tspan x=\"68.04\" dy=\"8.8\">B</tspan></text>\n",
       "<text x=\"68.04\" y=\"-67.58\" fill=\"black\" font-size=\"11\"\n",
       "font-family=\"sans-serif\" text-anchor=\"end\"  transform=\" rotate(0 68.04 -63.17999999999999)\"><tspan x=\"68.04\" dy=\"8.8\">C</tspan></text>\n",
       "<text x=\"68.04\" y=\"-87.01999999999998\" fill=\"black\" font-size=\"11\"\n",
       "font-family=\"sans-serif\" text-anchor=\"end\"  transform=\" rotate(0 68.04 -82.61999999999999)\"><tspan x=\"68.04\" dy=\"8.8\">D</tspan></text>\n",
       "<text x=\"68.04\" y=\"-106.45999999999998\" fill=\"black\" font-size=\"11\"\n",
       "font-family=\"sans-serif\" text-anchor=\"end\"  transform=\" rotate(0 68.04 -102.05999999999999)\"><tspan x=\"68.04\" dy=\"8.8\">E</tspan></text>\n",
       "<text x=\"68.04\" y=\"-125.89999999999999\" fill=\"black\" font-size=\"11\"\n",
       "font-family=\"sans-serif\" text-anchor=\"end\"  transform=\" rotate(0 68.04 -121.5)\"><tspan x=\"68.04\" dy=\"8.8\">F</tspan></text>\n",
       "<circle cx=\"129.6\" cy=\"-24.299999999999997\" r=\"3.24\" style=\"stroke:black;fill:white;stroke-width:2;\"/>\n",
       "<circle cx=\"129.6\" cy=\"-43.74\" r=\"3.24\" style=\"stroke:black;fill:white;stroke-width:2;\"/>\n",
       "<circle cx=\"129.6\" cy=\"-63.17999999999998\" r=\"3.24\" style=\"stroke:black;fill:white;stroke-width:2;\"/>\n",
       "<circle cx=\"129.6\" cy=\"-82.61999999999999\" r=\"3.24\" style=\"stroke:black;fill:white;stroke-width:2;\"/>\n",
       "<circle cx=\"129.6\" cy=\"-102.05999999999999\" r=\"3.24\" style=\"stroke:black;fill:white;stroke-width:2;\"/>\n",
       "<circle cx=\"129.6\" cy=\"-121.5\" r=\"3.24\" style=\"stroke:black;fill:white;stroke-width:2;\"/></svg>"
      ]
     },
     "execution_count": 13,
     "metadata": {},
     "output_type": "execute_result"
    }
   ],
   "source": [
    "d = schemdraw.Drawing()\n",
    "D1 = d.add(elm.Ic(pins=[elm.IcPin(name='A', side='r', slot='1/6'),\n",
    "                        elm.IcPin(name='B', side='r', slot='2/6'),\n",
    "                        elm.IcPin(name='C', side='r', slot='3/6'),\n",
    "                        elm.IcPin(name='D', side='r', slot='4/6'),\n",
    "                        elm.IcPin(name='E', side='r', slot='5/6'),\n",
    "                        elm.IcPin(name='F', side='r', slot='6/6')]))\n",
    "\n",
    "D2 = d.add(elm.Header(rows=6).at((4, D1.F[1])).flip().anchor('pin6'))\n",
    "d.add(elm.OrthoLines(n=6).at(D2.pin6).to(D1.F))\n",
    "d.draw()"
   ]
  },
  {
   "cell_type": "code",
   "execution_count": 14,
   "metadata": {},
   "outputs": [
    {
     "data": {
      "image/svg+xml": [
       "<svg xmlns=\"http://www.w3.org/2000/svg\" xml:lang=\"en\" height=\"340.96pt\" width=\"217.83999999999995pt\" viewBox=\"-2.0 -125.12 217.83999999999995 340.96\"><polygon points=\"0.0,-0.0 0.0,-116.64 19.439999999999998,-116.64 19.439999999999998,-0.0 \" style=\"stroke:black;fill:none;stroke-width:2;stroke-linecap:round;stroke-linejoin:round;\"/>\n",
       "<polygon points=\"194.39999999999995,213.83999999999997 194.39999999999995,97.19999999999997 213.83999999999995,97.19999999999997 213.83999999999995,213.83999999999997 \" style=\"stroke:black;fill:none;stroke-width:2;stroke-linecap:round;stroke-linejoin:round;\"/>\n",
       "<path d=\"M 9.719999999999999,-106.92 L 90.71999999999998,-106.92 L 106.91999999999999,-123.12\" style=\"stroke:black;fill:none;stroke-width:2;stroke-linecap:round;stroke-linejoin:round;\" />\n",
       "<path d=\"M 9.719999999999999,-87.48 L 90.71999999999998,-87.48 L 106.91999999999999,-103.68\" style=\"stroke:black;fill:none;stroke-width:2;stroke-linecap:round;stroke-linejoin:round;\" />\n",
       "<path d=\"M 9.719999999999999,-68.04000000000002 L 90.71999999999998,-68.04000000000002 L 106.91999999999999,-84.24000000000001\" style=\"stroke:black;fill:none;stroke-width:2;stroke-linecap:round;stroke-linejoin:round;\" />\n",
       "<path d=\"M 9.719999999999999,-48.600000000000016 L 90.71999999999998,-48.600000000000016 L 106.91999999999999,-64.80000000000001\" style=\"stroke:black;fill:none;stroke-width:2;stroke-linecap:round;stroke-linejoin:round;\" />\n",
       "<path d=\"M 9.719999999999999,-29.16000000000001 L 90.71999999999998,-29.16000000000001 L 106.91999999999999,-45.36000000000001\" style=\"stroke:black;fill:none;stroke-width:2;stroke-linecap:round;stroke-linejoin:round;\" />\n",
       "<path d=\"M 9.719999999999999,-9.720000000000008 L 90.71999999999998,-9.720000000000008 L 106.91999999999999,-25.92000000000001\" style=\"stroke:black;fill:none;stroke-width:2;stroke-linecap:round;stroke-linejoin:round;\" />\n",
       "<path d=\"M 106.91999999999999,-123.12 L 106.91999999999999,-6.48000000000002\" style=\"stroke:black;fill:none;stroke-width:4;stroke-linecap:round;stroke-linejoin:round;\" />\n",
       "<path d=\"M 106.91999999999999,-6.48000000000002 L 106.91999999999997,42.119999999999976 L 106.91999999999997,90.71999999999997\" style=\"stroke:black;fill:none;stroke-width:4;stroke-linecap:round;stroke-linejoin:round;\" />\n",
       "<path d=\"M 106.91999999999997,90.71999999999997 L 123.11999999999998,106.91999999999997 L 204.11999999999995,106.91999999999997\" style=\"stroke:black;fill:none;stroke-width:2;stroke-linecap:round;stroke-linejoin:round;\" />\n",
       "<path d=\"M 106.91999999999997,110.15999999999998 L 123.11999999999998,126.35999999999997 L 204.11999999999995,126.35999999999997\" style=\"stroke:black;fill:none;stroke-width:2;stroke-linecap:round;stroke-linejoin:round;\" />\n",
       "<path d=\"M 106.91999999999997,129.59999999999997 L 123.11999999999998,145.79999999999995 L 204.11999999999995,145.79999999999995\" style=\"stroke:black;fill:none;stroke-width:2;stroke-linecap:round;stroke-linejoin:round;\" />\n",
       "<path d=\"M 106.91999999999997,149.04 L 123.11999999999998,165.23999999999998 L 204.11999999999995,165.23999999999998\" style=\"stroke:black;fill:none;stroke-width:2;stroke-linecap:round;stroke-linejoin:round;\" />\n",
       "<path d=\"M 106.91999999999997,168.47999999999996 L 123.11999999999998,184.67999999999998 L 204.11999999999995,184.67999999999998\" style=\"stroke:black;fill:none;stroke-width:2;stroke-linecap:round;stroke-linejoin:round;\" />\n",
       "<path d=\"M 106.91999999999997,187.91999999999996 L 123.11999999999998,204.11999999999995 L 204.11999999999995,204.11999999999995\" style=\"stroke:black;fill:none;stroke-width:2;stroke-linecap:round;stroke-linejoin:round;\" />\n",
       "<path d=\"M 106.91999999999997,207.35999999999996 L 106.91999999999997,90.71999999999997\" style=\"stroke:black;fill:none;stroke-width:4;stroke-linecap:round;stroke-linejoin:round;\" />\n",
       "<circle cx=\"9.719999999999999\" cy=\"-106.92\" r=\"3.24\" style=\"stroke:black;fill:white;stroke-width:2;\"/>\n",
       "<circle cx=\"9.719999999999999\" cy=\"-87.48\" r=\"3.24\" style=\"stroke:black;fill:white;stroke-width:2;\"/>\n",
       "<circle cx=\"9.719999999999999\" cy=\"-68.04000000000002\" r=\"3.24\" style=\"stroke:black;fill:white;stroke-width:2;\"/>\n",
       "<circle cx=\"9.719999999999999\" cy=\"-48.60000000000001\" r=\"3.24\" style=\"stroke:black;fill:white;stroke-width:2;\"/>\n",
       "<circle cx=\"9.719999999999999\" cy=\"-29.160000000000004\" r=\"3.24\" style=\"stroke:black;fill:white;stroke-width:2;\"/>\n",
       "<circle cx=\"9.719999999999999\" cy=\"-9.720000000000002\" r=\"3.24\" style=\"stroke:black;fill:white;stroke-width:2;\"/>\n",
       "<circle cx=\"204.11999999999995\" cy=\"106.91999999999997\" r=\"3.24\" style=\"stroke:black;fill:white;stroke-width:2;\"/>\n",
       "<circle cx=\"204.11999999999995\" cy=\"126.35999999999997\" r=\"3.24\" style=\"stroke:black;fill:white;stroke-width:2;\"/>\n",
       "<circle cx=\"204.11999999999995\" cy=\"145.79999999999995\" r=\"3.24\" style=\"stroke:black;fill:white;stroke-width:2;\"/>\n",
       "<circle cx=\"204.11999999999995\" cy=\"165.23999999999998\" r=\"3.24\" style=\"stroke:black;fill:white;stroke-width:2;\"/>\n",
       "<circle cx=\"204.11999999999995\" cy=\"184.67999999999998\" r=\"3.24\" style=\"stroke:black;fill:white;stroke-width:2;\"/>\n",
       "<circle cx=\"204.11999999999995\" cy=\"204.11999999999995\" r=\"3.24\" style=\"stroke:black;fill:white;stroke-width:2;\"/></svg>"
      ],
      "text/plain": [
       "<svg xmlns=\"http://www.w3.org/2000/svg\" xml:lang=\"en\" height=\"340.96pt\" width=\"217.83999999999995pt\" viewBox=\"-2.0 -125.12 217.83999999999995 340.96\"><polygon points=\"0.0,-0.0 0.0,-116.64 19.439999999999998,-116.64 19.439999999999998,-0.0 \" style=\"stroke:black;fill:none;stroke-width:2;stroke-linecap:round;stroke-linejoin:round;\"/>\n",
       "<polygon points=\"194.39999999999995,213.83999999999997 194.39999999999995,97.19999999999997 213.83999999999995,97.19999999999997 213.83999999999995,213.83999999999997 \" style=\"stroke:black;fill:none;stroke-width:2;stroke-linecap:round;stroke-linejoin:round;\"/>\n",
       "<path d=\"M 9.719999999999999,-106.92 L 90.71999999999998,-106.92 L 106.91999999999999,-123.12\" style=\"stroke:black;fill:none;stroke-width:2;stroke-linecap:round;stroke-linejoin:round;\" />\n",
       "<path d=\"M 9.719999999999999,-87.48 L 90.71999999999998,-87.48 L 106.91999999999999,-103.68\" style=\"stroke:black;fill:none;stroke-width:2;stroke-linecap:round;stroke-linejoin:round;\" />\n",
       "<path d=\"M 9.719999999999999,-68.04000000000002 L 90.71999999999998,-68.04000000000002 L 106.91999999999999,-84.24000000000001\" style=\"stroke:black;fill:none;stroke-width:2;stroke-linecap:round;stroke-linejoin:round;\" />\n",
       "<path d=\"M 9.719999999999999,-48.600000000000016 L 90.71999999999998,-48.600000000000016 L 106.91999999999999,-64.80000000000001\" style=\"stroke:black;fill:none;stroke-width:2;stroke-linecap:round;stroke-linejoin:round;\" />\n",
       "<path d=\"M 9.719999999999999,-29.16000000000001 L 90.71999999999998,-29.16000000000001 L 106.91999999999999,-45.36000000000001\" style=\"stroke:black;fill:none;stroke-width:2;stroke-linecap:round;stroke-linejoin:round;\" />\n",
       "<path d=\"M 9.719999999999999,-9.720000000000008 L 90.71999999999998,-9.720000000000008 L 106.91999999999999,-25.92000000000001\" style=\"stroke:black;fill:none;stroke-width:2;stroke-linecap:round;stroke-linejoin:round;\" />\n",
       "<path d=\"M 106.91999999999999,-123.12 L 106.91999999999999,-6.48000000000002\" style=\"stroke:black;fill:none;stroke-width:4;stroke-linecap:round;stroke-linejoin:round;\" />\n",
       "<path d=\"M 106.91999999999999,-6.48000000000002 L 106.91999999999997,42.119999999999976 L 106.91999999999997,90.71999999999997\" style=\"stroke:black;fill:none;stroke-width:4;stroke-linecap:round;stroke-linejoin:round;\" />\n",
       "<path d=\"M 106.91999999999997,90.71999999999997 L 123.11999999999998,106.91999999999997 L 204.11999999999995,106.91999999999997\" style=\"stroke:black;fill:none;stroke-width:2;stroke-linecap:round;stroke-linejoin:round;\" />\n",
       "<path d=\"M 106.91999999999997,110.15999999999998 L 123.11999999999998,126.35999999999997 L 204.11999999999995,126.35999999999997\" style=\"stroke:black;fill:none;stroke-width:2;stroke-linecap:round;stroke-linejoin:round;\" />\n",
       "<path d=\"M 106.91999999999997,129.59999999999997 L 123.11999999999998,145.79999999999995 L 204.11999999999995,145.79999999999995\" style=\"stroke:black;fill:none;stroke-width:2;stroke-linecap:round;stroke-linejoin:round;\" />\n",
       "<path d=\"M 106.91999999999997,149.04 L 123.11999999999998,165.23999999999998 L 204.11999999999995,165.23999999999998\" style=\"stroke:black;fill:none;stroke-width:2;stroke-linecap:round;stroke-linejoin:round;\" />\n",
       "<path d=\"M 106.91999999999997,168.47999999999996 L 123.11999999999998,184.67999999999998 L 204.11999999999995,184.67999999999998\" style=\"stroke:black;fill:none;stroke-width:2;stroke-linecap:round;stroke-linejoin:round;\" />\n",
       "<path d=\"M 106.91999999999997,187.91999999999996 L 123.11999999999998,204.11999999999995 L 204.11999999999995,204.11999999999995\" style=\"stroke:black;fill:none;stroke-width:2;stroke-linecap:round;stroke-linejoin:round;\" />\n",
       "<path d=\"M 106.91999999999997,207.35999999999996 L 106.91999999999997,90.71999999999997\" style=\"stroke:black;fill:none;stroke-width:4;stroke-linecap:round;stroke-linejoin:round;\" />\n",
       "<circle cx=\"9.719999999999999\" cy=\"-106.92\" r=\"3.24\" style=\"stroke:black;fill:white;stroke-width:2;\"/>\n",
       "<circle cx=\"9.719999999999999\" cy=\"-87.48\" r=\"3.24\" style=\"stroke:black;fill:white;stroke-width:2;\"/>\n",
       "<circle cx=\"9.719999999999999\" cy=\"-68.04000000000002\" r=\"3.24\" style=\"stroke:black;fill:white;stroke-width:2;\"/>\n",
       "<circle cx=\"9.719999999999999\" cy=\"-48.60000000000001\" r=\"3.24\" style=\"stroke:black;fill:white;stroke-width:2;\"/>\n",
       "<circle cx=\"9.719999999999999\" cy=\"-29.160000000000004\" r=\"3.24\" style=\"stroke:black;fill:white;stroke-width:2;\"/>\n",
       "<circle cx=\"9.719999999999999\" cy=\"-9.720000000000002\" r=\"3.24\" style=\"stroke:black;fill:white;stroke-width:2;\"/>\n",
       "<circle cx=\"204.11999999999995\" cy=\"106.91999999999997\" r=\"3.24\" style=\"stroke:black;fill:white;stroke-width:2;\"/>\n",
       "<circle cx=\"204.11999999999995\" cy=\"126.35999999999997\" r=\"3.24\" style=\"stroke:black;fill:white;stroke-width:2;\"/>\n",
       "<circle cx=\"204.11999999999995\" cy=\"145.79999999999995\" r=\"3.24\" style=\"stroke:black;fill:white;stroke-width:2;\"/>\n",
       "<circle cx=\"204.11999999999995\" cy=\"165.23999999999998\" r=\"3.24\" style=\"stroke:black;fill:white;stroke-width:2;\"/>\n",
       "<circle cx=\"204.11999999999995\" cy=\"184.67999999999998\" r=\"3.24\" style=\"stroke:black;fill:white;stroke-width:2;\"/>\n",
       "<circle cx=\"204.11999999999995\" cy=\"204.11999999999995\" r=\"3.24\" style=\"stroke:black;fill:white;stroke-width:2;\"/></svg>"
      ]
     },
     "execution_count": 14,
     "metadata": {},
     "output_type": "execute_result"
    }
   ],
   "source": [
    "d = schemdraw.Drawing()\n",
    "J = d.add(elm.Header(rows=6))\n",
    "B = d.add(elm.BusConnect(n=6).at(J.pin1))\n",
    "d.add(elm.BusLine().down().at(B.end).length(3))\n",
    "B2 = d.add(elm.BusConnect(n=6).anchor('start').reverse())\n",
    "d.add(H:=elm.Header(rows=6).at(B2.pin1).anchor('pin1'))\n",
    "d.draw()"
   ]
  },
  {
   "cell_type": "code",
   "execution_count": 15,
   "metadata": {},
   "outputs": [
    {
     "data": {
      "image/svg+xml": [
       "<svg xmlns=\"http://www.w3.org/2000/svg\" xml:lang=\"en\" height=\"133.6pt\" width=\"130.35999999999999pt\" viewBox=\"-2.0 -115.39999999999999 130.35999999999999 133.6\"><polygon points=\"38.879999999999995,-101.25 38.87840355078716,-101.41081022541432 38.87361483244498,-101.57155706185142 38.86563573261435,-101.73217714532105 38.85446939653666,-101.89260716179707 38.84012022581399,-102.05278387217491 38.822593876674084,-102.21264413719946 38.801897257740706,-102.37212494235364 38.77803852731039,-102.5311634226977 38.7510270901366,-102.68969688764975 38.72087359372243,-102.84766284569736 38.68758992412359,-103.00499902903078 38.65118920126308,-103.16164341808806 38.611685773759504,-103.31753426600213 38.56909521327107,-103.47261012294052 38.52343430835747,-103.626809860328 38.47472105786209,-103.7800726949425 38.422974663817136,-103.93233821287495 38.36821552387447,-104.0835463933436 38.310465223265155,-104.23363763235318 38.24974652629092,-104.38255276619002 38.18608336735076,-104.53023309474348 38.119500841506415,-104.67662040464458 38.05002519459021,-104.82165699221292 37.9776838128594,-104.96528568620258 37.90250521220086,-105.10744987033812 37.82451902689062,-105.2480935056319 37.74375599791241,-105.38716115247385 37.66024796084007,-105.5245979924849 37.574027833288426,-105.6603498501255 37.485129601937665,-105.7943632140509 37.393588309136305,-105.9265852582045 37.29944003908799,-106.05696386264097 37.202721903627705,-106.18544763407138 37.10347202759278,-106.31198592612145 37.00172953379468,-106.43652885929569 36.89753452759741,-106.5590273406391 36.790928081108504,-106.67943308308898 36.68195221698912,-106.79769862450883 36.57064989188924,-106.91377734639728 36.457064979514875,-107.02762349226442 36.34124225333365,-107.13919218566829 36.223227368925826,-107.24843944790449 36.10306684598754,-107.35532221534196 35.98080804999343,-107.45979835639801 35.85649917352585,-107.56182668814594 35.73018921727814,-107.66136699254872 35.60192797073925,-107.75838003231237 35.471765992567455,-107.85282756635273 35.33975459066094,-107.94467236486942 35.205945801932955,-108.03387822402141 35.070392371799656,-108.12040998019793 34.933147733388644,-108.20423352387945 34.79426598647646,-108.28531581308316 34.653801876163236,-108.36362488638768 34.51181077129301,-108.43912987553162 34.36834864262815,-108.51180101758156 34.22347204078652,-108.58160966666404 34.07723807395009,-108.64852830525733 33.92970438535375,-108.71253055503851 33.780929130563166,-108.77359118728133 33.6309709545508,-108.83168613280105 33.47988896857886,-108.88679249144208 33.327742726898634,-108.93888854110494 33.17459220327498,-108.98795374630882 33.02049776734565,-109.0339687662862 32.865520160824474,-109.07691546260686 32.70972047355783,-109.11677690632776 32.55316011944402,-109.15353738466601 32.395900812224816,-109.18718240719281 32.238004541158766,-109.21769871154528 32.07953354658604,-109.24507426865426 31.920550295394175,-109.26929828748601 31.761117456394597,-109.29036121929592 31.601297875619466,-109.30825476139236 31.44115455154877,-109.32297186040967 31.28075061027724,-109.33450671508825 31.120149280630994,-109.34285477856153 30.959413869243686,-109.3480127601482 30.798607735601976,-109.3499786266493 30.637794267070177,-109.34875160314982 30.47703685390391,-109.34433217332398 30.316398864262602,-109.33672207924465 30.155943619230733,-109.32592432069674 29.99573436785759,-109.31194315399458 29.83583426222546,-109.29478409030426 29.676306332556006,-109.27445389347112 29.517213462364726,-109.25096057735364 29.358618363673195,-109.22431340266438 29.200583552288933,-109.19452287331968 29.04317132316262,-109.16160073229908 28.886443725832347,-109.1255599570164 28.73046253996463,-109.08641475420436 28.575289251001788,-109.04418055431434 28.420985025925308,-108.99887400543403 28.267610689144732,-108.95051296672501 28.1152266985216,-108.89911650138288 27.96389312153786,-108.84470486912285 27.813669611618163,-108.78729951819366 27.664615384615384,-108.72692307692307 4.984615384615392,-99.27692307692307 4.8960200953779225,-99.23938927404512 4.8078769043393965,-99.20080573471685 4.720198248961689,-99.16117790327596 4.632996501158287,-99.12051137141519 4.546283965548536,-99.07881187739335 4.460072877721404,-99.0360853052255 4.374375402508977,-98.99233768385284 4.289203632269926,-98.94757518629186 4.204569585183228,-98.90180412876336 4.120485203552331,-98.85503096980119 4.036962352120031,-98.80726230934091 3.9540128163942962,-98.75850488778853 3.871648300985278,-98.70876558506939 3.789880427953717,-98.65805141965728 3.708720735171022,-98.60636954758431 3.6281806746912078,-98.55372726143088 3.548271611134955,-98.50013198929692 3.4690048200860044,-98.44559129375357 3.3903914865001057,-98.39011287077612 3.3124427031267785,-98.33370454865812 3.2351694689440467,-98.27637428690666 3.1585826876064416,-98.2181301751193 3.082693165906431,-98.15898043184266 3.007511612249531,-98.09893340341254 2.93304863514329,-98.03799756277648 2.859314741700372,-97.97618150829788 2.786320336155954,-97.91349396254303 2.714075718399631,-97.84994377105006 2.6425910825220464,-97.78553990108094 2.5718765153764562,-97.72029144035608 2.50194199515542,-97.65420759577206 2.432797389982827,-97.58729769210245 2.3644524565214513,-97.51957117068204 2.2969168385962373,-97.4510375880746 2.2302000658335053,-97.38170661472446 2.1643115523162684,-97.31158803359192 2.099260595255871,-97.24069173877282 2.035056373680077,-97.16902773410244 1.971707947137892,-97.09660613174388 1.9092242544211897,-97.02343715076127 1.8476141123034173,-96.94953111567766 1.786886214295492,-96.87489845501834 1.7270491294191117,-96.79954969983919 1.668111300997613,-96.72349548224078 1.6100810454645786,-96.64674653386804 1.552966551190347,-96.56931368439605 1.496775877326586,-96.49120786000192 1.4415169526691078,-96.41244008182296 1.3871975745390759,-96.33302146440161 1.3338254076827574,-96.25296321411713 1.281407983189994,-96.17227662760429 1.2299526974315227,-96.09097309015932 1.1794668110153066,-96.00906407413349 1.1299574477620358,-95.92656113731421 1.0814315936999026,-95.8434759212942 1.0338960960788577,-95.75982014982881 0.9873576624044017,-95.67560562718171 0.9418228594911512,-95.59084423645928 0.8972981125362015,-95.50554793793378 0.8537897042125113,-95.41972876735582 0.8113037737823817,-95.3333988342559 0.7698463162311747,-95.24657032023579 0.7294231814213898,-95.15925547724962 0.6900400732672173,-95.07146662587503 0.6517025489296854,-94.98321615357477 0.6144160180325194,-94.89451651294863 0.5781857418988132,-94.80538021997644 0.543016832808629,-94.71581985225188 0.5089142532776292,-94.62584804720784 0.47588281535683974,-94.53547750033313 0.44392717995364256,-94.44472096338107 0.4130518561740996,-94.35359124257025 0.3832612006866974,-94.26210119677738 0.3545594171075875,-94.17026373572291 0.32695055540745227,-94.07809181814945 0.3004385113400123,-93.98559844999302 0.2750270258923327,-93.89279668254815 0.25071968475694106,-93.799699610626 0.2275199178258713,-93.70632037070676 0.20543099870668383,-93.612672139086 0.1844560442605484,-93.51876813001539 0.1645980141624347,-93.42462159383814 0.14585971048348914,-93.33024581511931 0.12824377729564546,-93.23565411077124 0.11175270029853465,-93.14085982817453 0.09638880646874044,-93.04587634329458 0.08215426373144671,-92.95071705879427 0.06905108065453817,-92.85539540214269 0.057081106165174096,-92.75992482372045 0.046246029288902514,-92.66431879492188 0.03654737891132204,-92.56859080625397 0.027986523562356157,-92.47275436543292 0.020564671223140794,-92.37682299547811 0.014282869155571953,-92.28081023280392 0.00914200375453682,-92.18472962530957 0.005142800422833727,-92.08859473046769 0.002285823468815118,-91.99241911341099 0.0005714760267625518,-91.8962163450184 0.0,-91.79999999999998 1.7985612998927535e-15,-5.400000000000003 0.0005714760267643504,-5.303783654981594 0.0022858234688169165,-5.207580886589003 0.005142800422835525,-5.111405269532313 0.009142003754538618,-5.015270374690418 0.014282869155573752,-4.91918976719609 0.020564671223141696,-4.823177004521878 0.027986523562357955,-4.7272456345670735 0.036547378911323834,-4.631409193746033 0.04624602928890341,-4.53568120507812 0.057081106165175,-4.440075176279535 0.06905108065453908,-4.344604597857307 0.08215426373144762,-4.249282941205717 0.09638880646874134,-4.154123656705407 0.11175270029853555,-4.05914017182547 0.12824377729564726,-3.9643458892287495 0.14585971048349006,-3.8697541848806862 0.1645980141624365,-3.775378406161849 0.1844560442605493,-3.681231869984605 0.20543099870668474,-3.587327860913995 0.22751991782587222,-3.493679629293229 0.25071968475694284,-3.4003003893739905 0.27502702589233446,-3.3072033174518385 0.3004385113400132,-3.214401550006961 0.32695055540745227,-3.121908181850553 0.3545594171075893,-3.0297362642770675 0.3832612006866974,-2.9378988032226117 0.41305185617410056,-2.8464087574297414 0.44392717995364256,-2.7552790366189153 0.47588281535683974,-2.6645224996668664 0.5089142532776292,-2.574151952792148 0.543016832808629,-2.484180147748109 0.5781857418988132,-2.394619780023557 0.6144160180325194,-2.305483487051356 0.6517025489296854,-2.2167838464252214 0.6900400732672164,-2.1285333741249564 0.7294231814213898,-2.0407445227503804 0.7698463162311747,-1.9534296797642041 0.8113037737823808,-1.8666011657440933 0.8537897042125104,-1.780271232644172 0.8972981125362006,-1.6944520620662078 0.9418228594911503,-1.6091557635407245 0.9873576624044008,-1.524394372818285 1.0338960960788548,-1.4401798501711838 1.0814315936999035,-1.3565240787057873 1.129957447762033,-1.2734388626857827 1.1794668110153066,-1.1909359258664982 1.2299526974315191,-1.1090269098406706 1.2814079831899932,-1.0277233723957033 1.3338254076827538,-0.9470367858828538 1.387197574539074,-0.8669785355983733 1.4415169526691052,-0.7875599181770357 1.4967758773265851,-0.7087921399980731 1.552966551190346,-0.6306863156039402 1.6100810454645778,-0.553253466131966 1.6681113009976112,-0.47650451775922564 1.72704912941911,-0.40045030016080024 1.78688621429549,-0.3251015449816506 1.8476141123034155,-0.25046888432232645 1.909224254421188,-0.17656284923872606 1.9717079471378893,-0.1033938682561026 2.0350563736800753,-0.03097226589755134 2.0992605952558665,0.040691738772835793 2.1643115523162657,0.11158803359193525 2.230200065833501,0.18170661472447056 2.296916838596233,0.2510375880746015 2.364452456521447,0.31957117068203755 2.4327973899828224,0.38729769210245873 2.5019419951554154,0.45420759577207165 2.571876515376452,0.5202914403560861 2.642591082522041,0.5855399010809383 2.714075718399626,0.6499437710500617 2.7863203361559488,0.7134939625430335 2.8593147417003695,0.7761815082978967 2.9330486351432845,0.837997562776478 3.0075116122495293,0.8989334034125618 3.082693165906426,0.9589804318426608 3.158582687606439,1.0181301751193192 3.2351694689440413,1.0763742869066597 3.312442703126776,1.1337045486581272 3.3903914865001004,1.1901128707761304 3.469004820085999,1.2455912937535694 3.548271611134947,1.3001319892969194 3.6281806746912015,1.3537272614308846 3.708720735171013,1.4063695475843028 3.7898804279537117,1.4580514196572971 3.8716483009852682,1.5087655850693895 3.95401281639429,1.5585048877885506 4.036962352120027,1.6072623093409264 4.120485203552326,1.6550309698011942 4.204569585183219,1.701804128763361 4.28920363226992,1.7475751862918643 4.3743754025089725,1.7923376838528498 4.460072877721398,1.8360853052255106 4.546283965548526,1.878811877393346 4.63299650115828,1.9205113714151987 4.720198248961686,1.961177903275963 4.8078769043393885,2.000805734716859 4.896020095377911,2.039389274045134 4.984615384615383,2.076923076923073 27.664615384615384,11.526923076923074 27.813669611618163,11.587299518193664 27.96389312153786,11.644704869122842 28.1152266985216,11.699116501382882 28.267610689144735,11.75051296672502 28.420985025925308,11.798874005434039 28.57528925100179,11.844180554314336 28.73046253996463,11.886414754204356 28.886443725832347,11.925559957016409 29.04317132316262,11.961600732299077 29.200583552288933,11.99452287331969 29.358618363673195,12.02431340266439 29.517213462364726,12.050960577353639 29.676306332556006,12.07445389347113 29.83583426222546,12.094784090304266 29.99573436785759,12.11194315399459 30.155943619230733,12.125924320696742 30.316398864262602,12.136722079244652 30.477036853903908,12.144332173323969 30.637794267070177,12.148751603149826 30.798607735601976,12.149978626649316 30.959413869243686,12.148012760148193 31.120149280630994,12.142854778561528 31.28075061027724,12.134506715088245 31.44115455154877,12.122971860409667 31.601297875619466,12.108254761392377 31.761117456394597,12.090361219295918 31.920550295394175,12.06929828748602 32.07953354658604,12.045074268654261 32.238004541158766,12.017698711545282 32.395900812224816,11.987182407192815 32.55316011944402,11.953537384666006 32.70972047355783,11.916776906327755 32.865520160824474,11.876915462606876 33.02049776734565,11.833968766286198 33.17459220327498,11.787953746308816 33.327742726898634,11.738888541104954 33.47988896857886,11.686792491442077 33.6309709545508,11.631686132801047 33.780929130563166,11.573591187281332 33.92970438535375,11.512530555038506 34.07723807395009,11.448528305257325 34.22347204078652,11.381609666664033 34.36834864262814,11.311801017581567 34.51181077129301,11.23912987553163 34.653801876163236,11.163624886387682 34.79426598647646,11.085315813083172 34.933147733388644,11.004233523879448 35.070392371799656,10.92040998019793 35.205945801932955,10.833878224021419 35.33975459066094,10.744672364869427 35.471765992567455,10.652827566352727 35.60192797073925,10.558380032312378 35.73018921727813,10.46136699254872 35.85649917352585,10.36182668814594 35.98080804999343,10.25979835639802 36.10306684598754,10.155322215341968 36.223227368925826,10.04843944790449 36.34124225333365,9.939192185668288 36.457064979514875,9.827623492264424 36.57064989188924,9.713777346397285 36.68195221698912,9.597698624508826 36.790928081108504,9.479433083088985 36.89753452759741,9.359027340639107 37.00172953379468,9.236528859295682 37.10347202759277,9.111985926121454 37.202721903627705,8.985447634071388 37.29944003908799,8.85696386264098 37.393588309136305,8.72658525820449 37.485129601937665,8.594363214050913 37.574027833288426,8.460349850125509 37.66024796084007,8.324597992484906 37.74375599791241,8.187161152473866 37.82451902689062,8.0480935056319 37.90250521220086,7.907449870338112 37.9776838128594,7.765285686202581 38.05002519459021,7.621656992212932 38.119500841506415,7.476620404644584 38.18608336735076,7.330233094743477 38.24974652629091,7.182552766190022 38.310465223265155,7.033637632353172 38.36821552387447,6.883546393343595 38.422974663817136,6.732338212874961 38.47472105786209,6.580072694942502 38.52343430835747,6.426809860328005 38.56909521327107,6.272610122940526 38.611685773759504,6.117534266002133 38.65118920126308,5.961643418088069 38.68758992412359,5.80499902903079 38.72087359372243,5.647662845697357 38.7510270901366,5.489696887649757 38.77803852731039,5.331163422697709 38.801897257740706,5.172124942353642 38.822593876674084,5.012644137199472 38.84012022581399,4.852783872174913 38.85446939653666,4.69260716179707 38.86563573261435,4.53217714532105 38.87361483244498,4.371557061851426 38.87840355078716,4.2108102254143285 38.879999999999995,4.05 38.879999999999995,-101.25 \" style=\"stroke:black;fill:none;stroke-width:2;stroke-linecap:round;stroke-linejoin:round;\"/>\n",
       "<path d=\"M 29.159999999999997,-30.779999999999998 L 61.559999999999995,-30.779999999999998 L 64.25999999999999,-38.879999999999995 L 69.66,-22.679999999999996 L 75.05999999999999,-38.879999999999995 L 80.46,-22.679999999999996 L 85.86,-38.879999999999995 L 91.25999999999999,-22.679999999999996 L 93.96,-30.779999999999998 L 126.35999999999999,-30.779999999999998\" style=\"stroke:black;fill:none;stroke-width:2;stroke-linecap:round;stroke-linejoin:round;\" />\n",
       "<text x=\"9.719999999999999\" y=\"-88.20000000000002\" fill=\"black\" font-size=\"9\"\n",
       "font-family=\"sans-serif\" text-anchor=\"middle\"  transform=\" rotate(0 9.719999999999999 -81.00000000000001)\"><tspan x=\"9.719999999999999\" dy=\"7.2\">9</tspan></text>\n",
       "<text x=\"9.719999999999999\" y=\"-68.76\" fill=\"black\" font-size=\"9\"\n",
       "font-family=\"sans-serif\" text-anchor=\"middle\"  transform=\" rotate(0 9.719999999999999 -61.56)\"><tspan x=\"9.719999999999999\" dy=\"7.2\">8</tspan></text>\n",
       "<text x=\"9.719999999999999\" y=\"-49.32\" fill=\"black\" font-size=\"9\"\n",
       "font-family=\"sans-serif\" text-anchor=\"middle\"  transform=\" rotate(0 9.719999999999999 -42.12)\"><tspan x=\"9.719999999999999\" dy=\"7.2\">7</tspan></text>\n",
       "<text x=\"9.719999999999999\" y=\"-29.879999999999992\" fill=\"black\" font-size=\"9\"\n",
       "font-family=\"sans-serif\" text-anchor=\"middle\"  transform=\" rotate(0 9.719999999999999 -22.679999999999993)\"><tspan x=\"9.719999999999999\" dy=\"7.2\">6</tspan></text>\n",
       "<text x=\"29.159999999999997\" y=\"-99.54\" fill=\"black\" font-size=\"9\"\n",
       "font-family=\"sans-serif\" text-anchor=\"middle\"  transform=\" rotate(0 29.159999999999997 -92.34)\"><tspan x=\"29.159999999999997\" dy=\"7.2\">5</tspan></text>\n",
       "<text x=\"29.159999999999997\" y=\"-80.10000000000001\" fill=\"black\" font-size=\"9\"\n",
       "font-family=\"sans-serif\" text-anchor=\"middle\"  transform=\" rotate(0 29.159999999999997 -72.9)\"><tspan x=\"29.159999999999997\" dy=\"7.2\">4</tspan></text>\n",
       "<text x=\"29.159999999999997\" y=\"-60.660000000000004\" fill=\"black\" font-size=\"9\"\n",
       "font-family=\"sans-serif\" text-anchor=\"middle\"  transform=\" rotate(0 29.159999999999997 -53.46)\"><tspan x=\"29.159999999999997\" dy=\"7.2\">3</tspan></text>\n",
       "<text x=\"29.159999999999997\" y=\"-41.220000000000006\" fill=\"black\" font-size=\"9\"\n",
       "font-family=\"sans-serif\" text-anchor=\"middle\"  transform=\" rotate(0 29.159999999999997 -34.02)\"><tspan x=\"29.159999999999997\" dy=\"7.2\">2</tspan></text>\n",
       "<text x=\"29.159999999999997\" y=\"-21.779999999999998\" fill=\"black\" font-size=\"9\"\n",
       "font-family=\"sans-serif\" text-anchor=\"middle\"  transform=\" rotate(0 29.159999999999997 -14.579999999999998)\"><tspan x=\"29.159999999999997\" dy=\"7.2\">1</tspan></text>\n",
       "<circle cx=\"9.719999999999999\" cy=\"-77.76\" r=\"3.24\" style=\"stroke:black;fill:white;stroke-width:2;\"/>\n",
       "<circle cx=\"9.719999999999999\" cy=\"-58.32\" r=\"3.24\" style=\"stroke:black;fill:white;stroke-width:2;\"/>\n",
       "<circle cx=\"9.719999999999999\" cy=\"-38.879999999999995\" r=\"3.24\" style=\"stroke:black;fill:white;stroke-width:2;\"/>\n",
       "<circle cx=\"9.719999999999999\" cy=\"-19.439999999999994\" r=\"3.24\" style=\"stroke:black;fill:white;stroke-width:2;\"/>\n",
       "<circle cx=\"29.159999999999997\" cy=\"-89.1\" r=\"3.24\" style=\"stroke:black;fill:white;stroke-width:2;\"/>\n",
       "<circle cx=\"29.159999999999997\" cy=\"-69.66000000000001\" r=\"3.24\" style=\"stroke:black;fill:white;stroke-width:2;\"/>\n",
       "<circle cx=\"29.159999999999997\" cy=\"-50.22\" r=\"3.24\" style=\"stroke:black;fill:white;stroke-width:2;\"/>\n",
       "<circle cx=\"29.159999999999997\" cy=\"-30.779999999999998\" r=\"3.24\" style=\"stroke:black;fill:white;stroke-width:2;\"/>\n",
       "<circle cx=\"29.159999999999997\" cy=\"-11.339999999999996\" r=\"3.24\" style=\"stroke:black;fill:white;stroke-width:2;\"/></svg>"
      ],
      "text/plain": [
       "<schemdraw.schemdraw.Drawing at 0x7c3794ece190>"
      ]
     },
     "execution_count": 15,
     "metadata": {},
     "output_type": "execute_result"
    }
   ],
   "source": [
    "d = schemdraw.Drawing()\n",
    "db = d.add(elm.DB9(number=True))\n",
    "d.add(elm.Resistor().at(db.pin2))\n",
    "d"
   ]
  },
  {
   "cell_type": "code",
   "execution_count": 16,
   "metadata": {},
   "outputs": [
    {
     "data": {
      "image/svg+xml": [
       "<svg xmlns=\"http://www.w3.org/2000/svg\" xml:lang=\"en\" height=\"133.6pt\" width=\"42.879999999999995pt\" viewBox=\"-2.0 -115.39999999999999 42.879999999999995 133.6\"><polygon points=\"38.879999999999995,-101.25 38.87840355078716,-101.41081022541432 38.87361483244498,-101.57155706185142 38.86563573261435,-101.73217714532105 38.85446939653666,-101.89260716179707 38.84012022581399,-102.05278387217491 38.822593876674084,-102.21264413719946 38.801897257740706,-102.37212494235364 38.77803852731039,-102.5311634226977 38.7510270901366,-102.68969688764975 38.72087359372243,-102.84766284569736 38.68758992412359,-103.00499902903078 38.65118920126308,-103.16164341808806 38.611685773759504,-103.31753426600213 38.56909521327107,-103.47261012294052 38.52343430835747,-103.626809860328 38.47472105786209,-103.7800726949425 38.422974663817136,-103.93233821287495 38.36821552387447,-104.0835463933436 38.310465223265155,-104.23363763235318 38.24974652629092,-104.38255276619002 38.18608336735076,-104.53023309474348 38.119500841506415,-104.67662040464458 38.05002519459021,-104.82165699221292 37.9776838128594,-104.96528568620258 37.90250521220086,-105.10744987033812 37.82451902689062,-105.2480935056319 37.74375599791241,-105.38716115247385 37.66024796084007,-105.5245979924849 37.574027833288426,-105.6603498501255 37.485129601937665,-105.7943632140509 37.393588309136305,-105.9265852582045 37.29944003908799,-106.05696386264097 37.202721903627705,-106.18544763407138 37.10347202759278,-106.31198592612145 37.00172953379468,-106.43652885929569 36.89753452759741,-106.5590273406391 36.790928081108504,-106.67943308308898 36.68195221698912,-106.79769862450883 36.57064989188924,-106.91377734639728 36.457064979514875,-107.02762349226442 36.34124225333365,-107.13919218566829 36.223227368925826,-107.24843944790449 36.10306684598754,-107.35532221534196 35.98080804999343,-107.45979835639801 35.85649917352585,-107.56182668814594 35.73018921727814,-107.66136699254872 35.60192797073925,-107.75838003231237 35.471765992567455,-107.85282756635273 35.33975459066094,-107.94467236486942 35.205945801932955,-108.03387822402141 35.070392371799656,-108.12040998019793 34.933147733388644,-108.20423352387945 34.79426598647646,-108.28531581308316 34.653801876163236,-108.36362488638768 34.51181077129301,-108.43912987553162 34.36834864262815,-108.51180101758156 34.22347204078652,-108.58160966666404 34.07723807395009,-108.64852830525733 33.92970438535375,-108.71253055503851 33.780929130563166,-108.77359118728133 33.6309709545508,-108.83168613280105 33.47988896857886,-108.88679249144208 33.327742726898634,-108.93888854110494 33.17459220327498,-108.98795374630882 33.02049776734565,-109.0339687662862 32.865520160824474,-109.07691546260686 32.70972047355783,-109.11677690632776 32.55316011944402,-109.15353738466601 32.395900812224816,-109.18718240719281 32.238004541158766,-109.21769871154528 32.07953354658604,-109.24507426865426 31.920550295394175,-109.26929828748601 31.761117456394597,-109.29036121929592 31.601297875619466,-109.30825476139236 31.44115455154877,-109.32297186040967 31.28075061027724,-109.33450671508825 31.120149280630994,-109.34285477856153 30.959413869243686,-109.3480127601482 30.798607735601976,-109.3499786266493 30.637794267070177,-109.34875160314982 30.47703685390391,-109.34433217332398 30.316398864262602,-109.33672207924465 30.155943619230733,-109.32592432069674 29.99573436785759,-109.31194315399458 29.83583426222546,-109.29478409030426 29.676306332556006,-109.27445389347112 29.517213462364726,-109.25096057735364 29.358618363673195,-109.22431340266438 29.200583552288933,-109.19452287331968 29.04317132316262,-109.16160073229908 28.886443725832347,-109.1255599570164 28.73046253996463,-109.08641475420436 28.575289251001788,-109.04418055431434 28.420985025925308,-108.99887400543403 28.267610689144732,-108.95051296672501 28.1152266985216,-108.89911650138288 27.96389312153786,-108.84470486912285 27.813669611618163,-108.78729951819366 27.664615384615384,-108.72692307692307 4.984615384615392,-99.27692307692307 4.8960200953779225,-99.23938927404512 4.8078769043393965,-99.20080573471685 4.720198248961689,-99.16117790327596 4.632996501158287,-99.12051137141519 4.546283965548536,-99.07881187739335 4.460072877721404,-99.0360853052255 4.374375402508977,-98.99233768385284 4.289203632269926,-98.94757518629186 4.204569585183228,-98.90180412876336 4.120485203552331,-98.85503096980119 4.036962352120031,-98.80726230934091 3.9540128163942962,-98.75850488778853 3.871648300985278,-98.70876558506939 3.789880427953717,-98.65805141965728 3.708720735171022,-98.60636954758431 3.6281806746912078,-98.55372726143088 3.548271611134955,-98.50013198929692 3.4690048200860044,-98.44559129375357 3.3903914865001057,-98.39011287077612 3.3124427031267785,-98.33370454865812 3.2351694689440467,-98.27637428690666 3.1585826876064416,-98.2181301751193 3.082693165906431,-98.15898043184266 3.007511612249531,-98.09893340341254 2.93304863514329,-98.03799756277648 2.859314741700372,-97.97618150829788 2.786320336155954,-97.91349396254303 2.714075718399631,-97.84994377105006 2.6425910825220464,-97.78553990108094 2.5718765153764562,-97.72029144035608 2.50194199515542,-97.65420759577206 2.432797389982827,-97.58729769210245 2.3644524565214513,-97.51957117068204 2.2969168385962373,-97.4510375880746 2.2302000658335053,-97.38170661472446 2.1643115523162684,-97.31158803359192 2.099260595255871,-97.24069173877282 2.035056373680077,-97.16902773410244 1.971707947137892,-97.09660613174388 1.9092242544211897,-97.02343715076127 1.8476141123034173,-96.94953111567766 1.786886214295492,-96.87489845501834 1.7270491294191117,-96.79954969983919 1.668111300997613,-96.72349548224078 1.6100810454645786,-96.64674653386804 1.552966551190347,-96.56931368439605 1.496775877326586,-96.49120786000192 1.4415169526691078,-96.41244008182296 1.3871975745390759,-96.33302146440161 1.3338254076827574,-96.25296321411713 1.281407983189994,-96.17227662760429 1.2299526974315227,-96.09097309015932 1.1794668110153066,-96.00906407413349 1.1299574477620358,-95.92656113731421 1.0814315936999026,-95.8434759212942 1.0338960960788577,-95.75982014982881 0.9873576624044017,-95.67560562718171 0.9418228594911512,-95.59084423645928 0.8972981125362015,-95.50554793793378 0.8537897042125113,-95.41972876735582 0.8113037737823817,-95.3333988342559 0.7698463162311747,-95.24657032023579 0.7294231814213898,-95.15925547724962 0.6900400732672173,-95.07146662587503 0.6517025489296854,-94.98321615357477 0.6144160180325194,-94.89451651294863 0.5781857418988132,-94.80538021997644 0.543016832808629,-94.71581985225188 0.5089142532776292,-94.62584804720784 0.47588281535683974,-94.53547750033313 0.44392717995364256,-94.44472096338107 0.4130518561740996,-94.35359124257025 0.3832612006866974,-94.26210119677738 0.3545594171075875,-94.17026373572291 0.32695055540745227,-94.07809181814945 0.3004385113400123,-93.98559844999302 0.2750270258923327,-93.89279668254815 0.25071968475694106,-93.799699610626 0.2275199178258713,-93.70632037070676 0.20543099870668383,-93.612672139086 0.1844560442605484,-93.51876813001539 0.1645980141624347,-93.42462159383814 0.14585971048348914,-93.33024581511931 0.12824377729564546,-93.23565411077124 0.11175270029853465,-93.14085982817453 0.09638880646874044,-93.04587634329458 0.08215426373144671,-92.95071705879427 0.06905108065453817,-92.85539540214269 0.057081106165174096,-92.75992482372045 0.046246029288902514,-92.66431879492188 0.03654737891132204,-92.56859080625397 0.027986523562356157,-92.47275436543292 0.020564671223140794,-92.37682299547811 0.014282869155571953,-92.28081023280392 0.00914200375453682,-92.18472962530957 0.005142800422833727,-92.08859473046769 0.002285823468815118,-91.99241911341099 0.0005714760267625518,-91.8962163450184 0.0,-91.79999999999998 1.7985612998927535e-15,-5.400000000000003 0.0005714760267643504,-5.303783654981594 0.0022858234688169165,-5.207580886589003 0.005142800422835525,-5.111405269532313 0.009142003754538618,-5.015270374690418 0.014282869155573752,-4.91918976719609 0.020564671223141696,-4.823177004521878 0.027986523562357955,-4.7272456345670735 0.036547378911323834,-4.631409193746033 0.04624602928890341,-4.53568120507812 0.057081106165175,-4.440075176279535 0.06905108065453908,-4.344604597857307 0.08215426373144762,-4.249282941205717 0.09638880646874134,-4.154123656705407 0.11175270029853555,-4.05914017182547 0.12824377729564726,-3.9643458892287495 0.14585971048349006,-3.8697541848806862 0.1645980141624365,-3.775378406161849 0.1844560442605493,-3.681231869984605 0.20543099870668474,-3.587327860913995 0.22751991782587222,-3.493679629293229 0.25071968475694284,-3.4003003893739905 0.27502702589233446,-3.3072033174518385 0.3004385113400132,-3.214401550006961 0.32695055540745227,-3.121908181850553 0.3545594171075893,-3.0297362642770675 0.3832612006866974,-2.9378988032226117 0.41305185617410056,-2.8464087574297414 0.44392717995364256,-2.7552790366189153 0.47588281535683974,-2.6645224996668664 0.5089142532776292,-2.574151952792148 0.543016832808629,-2.484180147748109 0.5781857418988132,-2.394619780023557 0.6144160180325194,-2.305483487051356 0.6517025489296854,-2.2167838464252214 0.6900400732672164,-2.1285333741249564 0.7294231814213898,-2.0407445227503804 0.7698463162311747,-1.9534296797642041 0.8113037737823808,-1.8666011657440933 0.8537897042125104,-1.780271232644172 0.8972981125362006,-1.6944520620662078 0.9418228594911503,-1.6091557635407245 0.9873576624044008,-1.524394372818285 1.0338960960788548,-1.4401798501711838 1.0814315936999035,-1.3565240787057873 1.129957447762033,-1.2734388626857827 1.1794668110153066,-1.1909359258664982 1.2299526974315191,-1.1090269098406706 1.2814079831899932,-1.0277233723957033 1.3338254076827538,-0.9470367858828538 1.387197574539074,-0.8669785355983733 1.4415169526691052,-0.7875599181770357 1.4967758773265851,-0.7087921399980731 1.552966551190346,-0.6306863156039402 1.6100810454645778,-0.553253466131966 1.6681113009976112,-0.47650451775922564 1.72704912941911,-0.40045030016080024 1.78688621429549,-0.3251015449816506 1.8476141123034155,-0.25046888432232645 1.909224254421188,-0.17656284923872606 1.9717079471378893,-0.1033938682561026 2.0350563736800753,-0.03097226589755134 2.0992605952558665,0.040691738772835793 2.1643115523162657,0.11158803359193525 2.230200065833501,0.18170661472447056 2.296916838596233,0.2510375880746015 2.364452456521447,0.31957117068203755 2.4327973899828224,0.38729769210245873 2.5019419951554154,0.45420759577207165 2.571876515376452,0.5202914403560861 2.642591082522041,0.5855399010809383 2.714075718399626,0.6499437710500617 2.7863203361559488,0.7134939625430335 2.8593147417003695,0.7761815082978967 2.9330486351432845,0.837997562776478 3.0075116122495293,0.8989334034125618 3.082693165906426,0.9589804318426608 3.158582687606439,1.0181301751193192 3.2351694689440413,1.0763742869066597 3.312442703126776,1.1337045486581272 3.3903914865001004,1.1901128707761304 3.469004820085999,1.2455912937535694 3.548271611134947,1.3001319892969194 3.6281806746912015,1.3537272614308846 3.708720735171013,1.4063695475843028 3.7898804279537117,1.4580514196572971 3.8716483009852682,1.5087655850693895 3.95401281639429,1.5585048877885506 4.036962352120027,1.6072623093409264 4.120485203552326,1.6550309698011942 4.204569585183219,1.701804128763361 4.28920363226992,1.7475751862918643 4.3743754025089725,1.7923376838528498 4.460072877721398,1.8360853052255106 4.546283965548526,1.878811877393346 4.63299650115828,1.9205113714151987 4.720198248961686,1.961177903275963 4.8078769043393885,2.000805734716859 4.896020095377911,2.039389274045134 4.984615384615383,2.076923076923073 27.664615384615384,11.526923076923074 27.813669611618163,11.587299518193664 27.96389312153786,11.644704869122842 28.1152266985216,11.699116501382882 28.267610689144735,11.75051296672502 28.420985025925308,11.798874005434039 28.57528925100179,11.844180554314336 28.73046253996463,11.886414754204356 28.886443725832347,11.925559957016409 29.04317132316262,11.961600732299077 29.200583552288933,11.99452287331969 29.358618363673195,12.02431340266439 29.517213462364726,12.050960577353639 29.676306332556006,12.07445389347113 29.83583426222546,12.094784090304266 29.99573436785759,12.11194315399459 30.155943619230733,12.125924320696742 30.316398864262602,12.136722079244652 30.477036853903908,12.144332173323969 30.637794267070177,12.148751603149826 30.798607735601976,12.149978626649316 30.959413869243686,12.148012760148193 31.120149280630994,12.142854778561528 31.28075061027724,12.134506715088245 31.44115455154877,12.122971860409667 31.601297875619466,12.108254761392377 31.761117456394597,12.090361219295918 31.920550295394175,12.06929828748602 32.07953354658604,12.045074268654261 32.238004541158766,12.017698711545282 32.395900812224816,11.987182407192815 32.55316011944402,11.953537384666006 32.70972047355783,11.916776906327755 32.865520160824474,11.876915462606876 33.02049776734565,11.833968766286198 33.17459220327498,11.787953746308816 33.327742726898634,11.738888541104954 33.47988896857886,11.686792491442077 33.6309709545508,11.631686132801047 33.780929130563166,11.573591187281332 33.92970438535375,11.512530555038506 34.07723807395009,11.448528305257325 34.22347204078652,11.381609666664033 34.36834864262814,11.311801017581567 34.51181077129301,11.23912987553163 34.653801876163236,11.163624886387682 34.79426598647646,11.085315813083172 34.933147733388644,11.004233523879448 35.070392371799656,10.92040998019793 35.205945801932955,10.833878224021419 35.33975459066094,10.744672364869427 35.471765992567455,10.652827566352727 35.60192797073925,10.558380032312378 35.73018921727813,10.46136699254872 35.85649917352585,10.36182668814594 35.98080804999343,10.25979835639802 36.10306684598754,10.155322215341968 36.223227368925826,10.04843944790449 36.34124225333365,9.939192185668288 36.457064979514875,9.827623492264424 36.57064989188924,9.713777346397285 36.68195221698912,9.597698624508826 36.790928081108504,9.479433083088985 36.89753452759741,9.359027340639107 37.00172953379468,9.236528859295682 37.10347202759277,9.111985926121454 37.202721903627705,8.985447634071388 37.29944003908799,8.85696386264098 37.393588309136305,8.72658525820449 37.485129601937665,8.594363214050913 37.574027833288426,8.460349850125509 37.66024796084007,8.324597992484906 37.74375599791241,8.187161152473866 37.82451902689062,8.0480935056319 37.90250521220086,7.907449870338112 37.9776838128594,7.765285686202581 38.05002519459021,7.621656992212932 38.119500841506415,7.476620404644584 38.18608336735076,7.330233094743477 38.24974652629091,7.182552766190022 38.310465223265155,7.033637632353172 38.36821552387447,6.883546393343595 38.422974663817136,6.732338212874961 38.47472105786209,6.580072694942502 38.52343430835747,6.426809860328005 38.56909521327107,6.272610122940526 38.611685773759504,6.117534266002133 38.65118920126308,5.961643418088069 38.68758992412359,5.80499902903079 38.72087359372243,5.647662845697357 38.7510270901366,5.489696887649757 38.77803852731039,5.331163422697709 38.801897257740706,5.172124942353642 38.822593876674084,5.012644137199472 38.84012022581399,4.852783872174913 38.85446939653666,4.69260716179707 38.86563573261435,4.53217714532105 38.87361483244498,4.371557061851426 38.87840355078716,4.2108102254143285 38.879999999999995,4.05 38.879999999999995,-101.25 \" style=\"stroke:black;fill:lightgray;stroke-width:2;stroke-linecap:round;stroke-linejoin:round;\"/>\n",
       "<circle cx=\"9.719999999999999\" cy=\"-77.76\" r=\"3.24\" style=\"stroke:black;fill:white;stroke-width:2;\"/>\n",
       "<circle cx=\"9.719999999999999\" cy=\"-58.32\" r=\"3.24\" style=\"stroke:black;fill:white;stroke-width:2;\"/>\n",
       "<circle cx=\"9.719999999999999\" cy=\"-38.879999999999995\" r=\"3.24\" style=\"stroke:black;fill:white;stroke-width:2;\"/>\n",
       "<circle cx=\"9.719999999999999\" cy=\"-19.439999999999994\" r=\"3.24\" style=\"stroke:black;fill:white;stroke-width:2;\"/>\n",
       "<circle cx=\"29.159999999999997\" cy=\"-89.1\" r=\"3.24\" style=\"stroke:black;fill:white;stroke-width:2;\"/>\n",
       "<circle cx=\"29.159999999999997\" cy=\"-69.66000000000001\" r=\"3.24\" style=\"stroke:black;fill:white;stroke-width:2;\"/>\n",
       "<circle cx=\"29.159999999999997\" cy=\"-50.22\" r=\"3.24\" style=\"stroke:black;fill:white;stroke-width:2;\"/>\n",
       "<circle cx=\"29.159999999999997\" cy=\"-30.779999999999998\" r=\"3.24\" style=\"stroke:black;fill:white;stroke-width:2;\"/>\n",
       "<circle cx=\"29.159999999999997\" cy=\"-11.339999999999996\" r=\"3.24\" style=\"stroke:black;fill:white;stroke-width:2;\"/></svg>"
      ],
      "text/plain": [
       "<schemdraw.schemdraw.Drawing at 0x7c3794eb6e80>"
      ]
     },
     "execution_count": 16,
     "metadata": {},
     "output_type": "execute_result"
    }
   ],
   "source": [
    "d = schemdraw.Drawing()\n",
    "db = d.add(elm.DB9(number=False).fill('lightgray'))\n",
    "d"
   ]
  },
  {
   "cell_type": "code",
   "execution_count": 17,
   "metadata": {},
   "outputs": [
    {
     "data": {
      "image/png": "[encoded data removed]",
      "image/svg+xml": [
       "<svg xmlns=\"http://www.w3.org/2000/svg\" xml:lang=\"en\" height=\"289.11999999999995pt\" width=\"44.257pt\" viewBox=\"-2.0 -270.91999999999996 44.257 289.11999999999995\"><polygon points=\"38.88,-256.77 38.87840355078717,-256.9308102254143 38.87361483244499,-257.09155706185135 38.865635732614365,-257.252177145321 38.85446939653667,-257.41260716179704 38.840120225814005,-257.57278387217485 38.82259387667409,-257.73264413719943 38.80189725774071,-257.8921249423536 38.77803852731041,-258.05116342269764 38.75102709013661,-258.2096968876497 38.72087359372244,-258.36766284569734 38.6875899241236,-258.52499902903077 38.65118920126309,-258.681643418088 38.61168577375952,-258.8375342660021 38.569095213271076,-258.99261012294045 38.52343430835748,-259.14680986032795 38.474721057862105,-259.30007269494246 38.42297466381715,-259.4523382128749 38.368215523874476,-259.6035463933436 38.31046522326517,-259.75363763235316 38.24974652629093,-259.90255276619 38.186083367350776,-260.0502330947435 38.11950084150642,-260.19662040464453 38.05002519459022,-260.34165699221285 37.977683812859404,-260.48528568620253 37.902505212200865,-260.6274498703381 37.82451902689063,-260.7680935056319 37.743755997912416,-260.9071611524738 37.66024796084008,-261.04459799248485 37.57402783328843,-261.1803498501255 37.48512960193767,-261.31436321405084 37.393588309136305,-261.4465852582045 37.299440039088,-261.5769638626409 37.20272190362771,-261.7054476340714 37.10347202759279,-261.8319859261214 37.00172953379469,-261.95652885929564 36.897534527597415,-262.079027340639 36.79092808110851,-262.19943308308893 36.681952216989124,-262.3176986245088 36.570649891889246,-262.4337773463972 36.457064979514875,-262.5476234922644 36.341242253333654,-262.6591921856683 36.22322736892583,-262.7684394479044 36.10306684598755,-262.8753222153419 35.980808049993435,-262.979798356398 35.85649917352585,-263.08182668814595 35.73018921727814,-263.18136699254865 35.60192797073925,-263.2783800323124 35.47176599256746,-263.3728275663527 35.339754590660945,-263.4646723648694 35.20594580193296,-263.5538782240214 35.070392371799656,-263.6404099801979 34.933147733388644,-263.7242335238794 34.79426598647646,-263.80531581308315 34.653801876163236,-263.8836248863877 34.511810771293014,-263.95912987553163 34.36834864262815,-264.03180101758153 34.22347204078652,-264.101609666664 34.07723807395009,-264.1685283052573 33.92970438535375,-264.23253055503847 33.780929130563166,-264.2935911872813 33.6309709545508,-264.351686132801 33.47988896857886,-264.40679249144205 33.327742726898634,-264.4588885411049 33.17459220327498,-264.5079537463088 33.02049776734565,-264.5539687662862 32.865520160824474,-264.59691546260683 32.70972047355783,-264.6367769063277 32.55316011944402,-264.67353738466596 32.395900812224816,-264.70718240719276 32.238004541158766,-264.73769871154525 32.079533546586035,-264.76507426865425 31.920550295394175,-264.789298287486 31.76111745639459,-264.8103612192959 31.601297875619462,-264.8282547613923 31.441154551548767,-264.84297186040965 31.280750610277234,-264.85450671508823 31.12014928063099,-264.8628547785615 30.95941386924368,-264.8680127601482 30.798607735601973,-264.8699786266493 30.63779426707017,-264.8687516031498 30.477036853903904,-264.86433217332393 30.316398864262595,-264.8567220792446 30.15594361923073,-264.84592432069667 29.995734367857587,-264.83194315399453 29.835834262225454,-264.8147840903042 29.676306332556,-264.7944538934711 29.51721346236472,-264.7709605773536 29.358618363673187,-264.7443134026644 29.200583552288926,-264.71452287331965 29.043171323162614,-264.68160073229905 28.88644372583234,-264.64555995701636 28.730462539964623,-264.6064147542043 28.57528925100178,-264.5641805543143 28.4209850259253,-264.518874005434 28.267610689144725,-264.470512966725 28.115226698521596,-264.41911650138286 27.963893121537854,-264.3647048691228 27.813669611618156,-264.30729951819364 27.664615384615377,-264.246923076923 4.984615384615385,-254.79692307692304 4.896020095377915,-254.75938927404508 4.80787690433939,-254.7208057347168 4.720198248961682,-254.68117790327594 4.63299650115828,-254.64051137141516 4.546283965548529,-254.5988118773933 4.460072877721398,-254.55608530522545 4.374375402508969,-254.51233768385282 4.28920363226992,-254.46757518629184 4.204569585183222,-254.4218041287633 4.120485203552325,-254.37503096980114 4.036962352120024,-254.32726230934088 3.95401281639429,-254.2785048877885 3.871648300985271,-254.22876558506934 3.789880427953711,-254.17805141965724 3.7087207351710147,-254.12636954758426 3.628180674691198,-254.07372726143083 3.548271611134945,-254.02013198929686 3.469004820085994,-253.96559129375353 3.3903914865000995,-253.9101128707761 3.312442703126771,-253.85370454865807 3.2351694689440396,-253.7963742869066 3.1585826876064345,-253.73813017511927 3.082693165906425,-253.6789804318426 3.007511612249524,-253.6189334034125 2.9330486351432827,-253.55799756277645 2.859314741700365,-253.49618150829784 2.786320336155947,-253.433493962543 2.714075718399624,-253.36994377105 2.6425910825220393,-253.3055399010809 2.571876515376449,-253.24029144035606 2.50194199515541,-253.17420759577203 2.432797389982817,-253.1072976921024 2.3644524565214415,-253.039571170682 2.2969168385962275,-252.97103758807455 2.2302000658334955,-252.90170661472442 2.1643115523162604,-252.83158803359188 2.099260595255861,-252.76069173877278 2.0350563736800686,-252.68902773410238 1.9717079471378838,-252.61660613174385 1.9092242544211824,-252.54343715076124 1.847614112303409,-252.46953111567763 1.7868862142954847,-252.3948984550183 1.7270491294191037,-252.31954969983914 1.6681113009976032,-252.24349548224075 1.6100810454645715,-252.16674653386798 1.5529665511903372,-252.08931368439602 1.4967758773265787,-252.0112078600019 1.441516952669098,-251.9324400818229 1.3871975745390661,-251.85302146440156 1.3338254076827476,-251.77296321411708 1.281407983189984,-251.69227662760426 1.2299526974315127,-251.6109730901593 1.1794668110152984,-251.52906407413346 1.129957447762026,-251.44656113731418 1.0814315936998946,-251.36347592129417 1.0338960960788477,-251.27982014982877 0.9873576624043936,-251.19560562718166 0.9418228594911431,-251.11084423645923 0.8972981125361916,-251.02554793793377 0.8537897042125032,-250.93972876735577 0.8113037737823718,-250.85339883425587 0.7698463162311666,-250.76657032023576 0.72942318142138,-250.67925547724957 0.6900400732672074,-250.591466625875 0.6517025489296754,-250.50321615357473 0.6144160180325096,-250.41451651294858 0.5781857418988033,-250.32538021997638 0.5430168328086191,-250.23581985225186 0.5089142532776193,-250.1458480472078 0.4758828153568298,-250.0554775003331 0.4439271799536327,-249.96472096338104 0.4130518561740906,-249.87359124257023 0.38326120068668745,-249.78210119677735 0.3545594171075776,-249.69026373572288 0.32695055540744233,-249.5980918181494 0.30043851134000243,-249.505598449993 0.2750270258923237,-249.4127966825481 0.2507196847569312,-249.31969961062595 0.22751991782586142,-249.2263203707067 0.20543099870667395,-249.13267213908597 0.1844560442605385,-249.03876813001534 0.1645980141624248,-248.9446215938381 0.14585971048347926,-248.85024581511925 0.12824377729563557,-248.75565411077122 0.11175270029852476,-248.6608598281745 0.09638880646873055,-248.56587634329455 0.08215426373143682,-248.47071705879424 0.06905108065452828,-248.37539540214266 0.05708110616516421,-248.27992482372042 0.04624602928889262,-248.18431879492184 0.03654737891131214,-248.0885908062539 0.027986523562346266,-247.9927543654329 0.020564671223130902,-247.89682299547806 0.01428286915556206,-247.80081023280385 0.009142003754526928,-247.70472962530954 0.005142800422823834,-247.60859473046764 0.0022858234688052257,-247.51241911341097 0.0005714760267526597,-247.41621634501837 -9.892087149410144e-15,-247.31999999999994 1.7985612998927535e-15,-5.400000000000003 0.0005714760267643504,-5.303783654981594 0.0022858234688169165,-5.207580886589003 0.005142800422835525,-5.111405269532313 0.009142003754538618,-5.015270374690418 0.014282869155573752,-4.91918976719609 0.020564671223141696,-4.823177004521878 0.027986523562357955,-4.7272456345670735 0.036547378911323834,-4.631409193746033 0.04624602928890341,-4.53568120507812 0.057081106165175,-4.440075176279535 0.06905108065453908,-4.344604597857307 0.08215426373144762,-4.249282941205717 0.09638880646874134,-4.154123656705407 0.11175270029853555,-4.05914017182547 0.12824377729564726,-3.9643458892287495 0.14585971048349006,-3.8697541848806862 0.1645980141624365,-3.775378406161849 0.1844560442605493,-3.681231869984605 0.20543099870668474,-3.587327860913995 0.22751991782587222,-3.493679629293229 0.25071968475694284,-3.4003003893739905 0.27502702589233446,-3.3072033174518385 0.3004385113400132,-3.214401550006961 0.32695055540745227,-3.121908181850553 0.3545594171075893,-3.0297362642770675 0.3832612006866974,-2.9378988032226117 0.41305185617410056,-2.8464087574297414 0.44392717995364256,-2.7552790366189153 0.47588281535683974,-2.6645224996668664 0.5089142532776292,-2.574151952792148 0.543016832808629,-2.484180147748109 0.5781857418988132,-2.394619780023557 0.6144160180325194,-2.305483487051356 0.6517025489296854,-2.2167838464252214 0.6900400732672164,-2.1285333741249564 0.7294231814213898,-2.0407445227503804 0.7698463162311747,-1.9534296797642041 0.8113037737823808,-1.8666011657440933 0.8537897042125104,-1.780271232644172 0.8972981125362006,-1.6944520620662078 0.9418228594911503,-1.6091557635407245 0.9873576624044008,-1.524394372818285 1.0338960960788548,-1.4401798501711838 1.0814315936999035,-1.3565240787057873 1.129957447762033,-1.2734388626857827 1.1794668110153066,-1.1909359258664982 1.2299526974315191,-1.1090269098406706 1.2814079831899932,-1.0277233723957033 1.3338254076827538,-0.9470367858828538 1.387197574539074,-0.8669785355983733 1.4415169526691052,-0.7875599181770357 1.4967758773265851,-0.7087921399980731 1.552966551190346,-0.6306863156039402 1.6100810454645778,-0.553253466131966 1.6681113009976112,-0.47650451775922564 1.72704912941911,-0.40045030016080024 1.78688621429549,-0.3251015449816506 1.8476141123034155,-0.25046888432232645 1.909224254421188,-0.17656284923872606 1.9717079471378893,-0.1033938682561026 2.0350563736800753,-0.03097226589755134 2.0992605952558665,0.040691738772835793 2.1643115523162657,0.11158803359193525 2.230200065833501,0.18170661472447056 2.296916838596233,0.2510375880746015 2.364452456521447,0.31957117068203755 2.4327973899828224,0.38729769210245873 2.5019419951554154,0.45420759577207165 2.571876515376452,0.5202914403560861 2.642591082522041,0.5855399010809383 2.714075718399626,0.6499437710500617 2.7863203361559488,0.7134939625430335 2.8593147417003695,0.7761815082978967 2.9330486351432845,0.837997562776478 3.0075116122495293,0.8989334034125618 3.082693165906426,0.9589804318426608 3.158582687606439,1.0181301751193192 3.2351694689440413,1.0763742869066597 3.312442703126776,1.1337045486581272 3.3903914865001004,1.1901128707761304 3.469004820085999,1.2455912937535694 3.548271611134947,1.3001319892969194 3.6281806746912015,1.3537272614308846 3.708720735171013,1.4063695475843028 3.7898804279537117,1.4580514196572971 3.8716483009852682,1.5087655850693895 3.95401281639429,1.5585048877885506 4.036962352120027,1.6072623093409264 4.120485203552326,1.6550309698011942 4.204569585183219,1.701804128763361 4.28920363226992,1.7475751862918643 4.3743754025089725,1.7923376838528498 4.460072877721398,1.8360853052255106 4.546283965548526,1.878811877393346 4.63299650115828,1.9205113714151987 4.720198248961686,1.961177903275963 4.8078769043393885,2.000805734716859 4.896020095377911,2.039389274045134 4.984615384615383,2.076923076923073 27.664615384615384,11.526923076923074 27.813669611618163,11.587299518193664 27.96389312153786,11.644704869122842 28.1152266985216,11.699116501382882 28.267610689144735,11.75051296672502 28.420985025925308,11.798874005434039 28.57528925100179,11.844180554314336 28.73046253996463,11.886414754204356 28.886443725832347,11.925559957016409 29.04317132316262,11.961600732299077 29.200583552288933,11.99452287331969 29.358618363673195,12.02431340266439 29.517213462364726,12.050960577353639 29.676306332556006,12.07445389347113 29.83583426222546,12.094784090304266 29.99573436785759,12.11194315399459 30.155943619230733,12.125924320696742 30.316398864262602,12.136722079244652 30.477036853903908,12.144332173323969 30.637794267070177,12.148751603149826 30.798607735601976,12.149978626649316 30.959413869243686,12.148012760148193 31.120149280630994,12.142854778561528 31.28075061027724,12.134506715088245 31.44115455154877,12.122971860409667 31.601297875619466,12.108254761392377 31.761117456394597,12.090361219295918 31.920550295394175,12.06929828748602 32.07953354658604,12.045074268654261 32.238004541158766,12.017698711545282 32.395900812224816,11.987182407192815 32.55316011944402,11.953537384666006 32.70972047355783,11.916776906327755 32.865520160824474,11.876915462606876 33.02049776734565,11.833968766286198 33.17459220327498,11.787953746308816 33.327742726898634,11.738888541104954 33.47988896857886,11.686792491442077 33.6309709545508,11.631686132801047 33.780929130563166,11.573591187281332 33.92970438535375,11.512530555038506 34.07723807395009,11.448528305257325 34.22347204078652,11.381609666664033 34.36834864262814,11.311801017581567 34.51181077129301,11.23912987553163 34.653801876163236,11.163624886387682 34.79426598647646,11.085315813083172 34.933147733388644,11.004233523879448 35.070392371799656,10.92040998019793 35.205945801932955,10.833878224021419 35.33975459066094,10.744672364869427 35.471765992567455,10.652827566352727 35.60192797073925,10.558380032312378 35.73018921727813,10.46136699254872 35.85649917352585,10.36182668814594 35.98080804999343,10.25979835639802 36.10306684598754,10.155322215341968 36.223227368925826,10.04843944790449 36.34124225333365,9.939192185668288 36.457064979514875,9.827623492264424 36.57064989188924,9.713777346397285 36.68195221698912,9.597698624508826 36.790928081108504,9.479433083088985 36.89753452759741,9.359027340639107 37.00172953379468,9.236528859295682 37.10347202759277,9.111985926121454 37.202721903627705,8.985447634071388 37.29944003908799,8.85696386264098 37.393588309136305,8.72658525820449 37.485129601937665,8.594363214050913 37.574027833288426,8.460349850125509 37.66024796084007,8.324597992484906 37.74375599791241,8.187161152473866 37.82451902689062,8.0480935056319 37.90250521220086,7.907449870338112 37.9776838128594,7.765285686202581 38.05002519459021,7.621656992212932 38.119500841506415,7.476620404644584 38.18608336735076,7.330233094743477 38.24974652629091,7.182552766190022 38.310465223265155,7.033637632353172 38.36821552387447,6.883546393343595 38.422974663817136,6.732338212874961 38.47472105786209,6.580072694942502 38.52343430835747,6.426809860328005 38.56909521327107,6.272610122940526 38.611685773759504,6.117534266002133 38.65118920126308,5.961643418088069 38.68758992412359,5.80499902903079 38.72087359372243,5.647662845697357 38.7510270901366,5.489696887649757 38.77803852731039,5.331163422697709 38.801897257740706,5.172124942353642 38.822593876674084,5.012644137199472 38.84012022581399,4.852783872174913 38.85446939653666,4.69260716179707 38.86563573261435,4.53217714532105 38.87361483244498,4.371557061851426 38.87840355078716,4.2108102254143285 38.879999999999995,4.05 38.88,-256.77 \" style=\"stroke:black;fill:none;stroke-width:2;stroke-linecap:round;stroke-linejoin:round;\"/>\n",
       "<text x=\"9.719999999999999\" y=\"-243.71999999999994\" fill=\"black\" font-size=\"9\"\n",
       "font-family=\"sans-serif\" text-anchor=\"middle\"  transform=\" rotate(0 9.719999999999999 -236.51999999999995)\"><tspan x=\"9.719999999999999\" dy=\"7.2\">25</tspan></text>\n",
       "<text x=\"9.719999999999999\" y=\"-224.27999999999992\" fill=\"black\" font-size=\"9\"\n",
       "font-family=\"sans-serif\" text-anchor=\"middle\"  transform=\" rotate(0 9.719999999999999 -217.07999999999993)\"><tspan x=\"9.719999999999999\" dy=\"7.2\">24</tspan></text>\n",
       "<text x=\"9.719999999999999\" y=\"-204.83999999999995\" fill=\"black\" font-size=\"9\"\n",
       "font-family=\"sans-serif\" text-anchor=\"middle\"  transform=\" rotate(0 9.719999999999999 -197.63999999999996)\"><tspan x=\"9.719999999999999\" dy=\"7.2\">23</tspan></text>\n",
       "<text x=\"9.719999999999999\" y=\"-185.39999999999995\" fill=\"black\" font-size=\"9\"\n",
       "font-family=\"sans-serif\" text-anchor=\"middle\"  transform=\" rotate(0 9.719999999999999 -178.19999999999996)\"><tspan x=\"9.719999999999999\" dy=\"7.2\">22</tspan></text>\n",
       "<text x=\"9.719999999999999\" y=\"-165.95999999999995\" fill=\"black\" font-size=\"9\"\n",
       "font-family=\"sans-serif\" text-anchor=\"middle\"  transform=\" rotate(0 9.719999999999999 -158.75999999999996)\"><tspan x=\"9.719999999999999\" dy=\"7.2\">21</tspan></text>\n",
       "<text x=\"9.719999999999999\" y=\"-146.51999999999995\" fill=\"black\" font-size=\"9\"\n",
       "font-family=\"sans-serif\" text-anchor=\"middle\"  transform=\" rotate(0 9.719999999999999 -139.31999999999996)\"><tspan x=\"9.719999999999999\" dy=\"7.2\">20</tspan></text>\n",
       "<text x=\"9.719999999999999\" y=\"-127.07999999999997\" fill=\"black\" font-size=\"9\"\n",
       "font-family=\"sans-serif\" text-anchor=\"middle\"  transform=\" rotate(0 9.719999999999999 -119.87999999999997)\"><tspan x=\"9.719999999999999\" dy=\"7.2\">19</tspan></text>\n",
       "<text x=\"9.719999999999999\" y=\"-107.63999999999997\" fill=\"black\" font-size=\"9\"\n",
       "font-family=\"sans-serif\" text-anchor=\"middle\"  transform=\" rotate(0 9.719999999999999 -100.43999999999997)\"><tspan x=\"9.719999999999999\" dy=\"7.2\">18</tspan></text>\n",
       "<text x=\"9.719999999999999\" y=\"-88.19999999999999\" fill=\"black\" font-size=\"9\"\n",
       "font-family=\"sans-serif\" text-anchor=\"middle\"  transform=\" rotate(0 9.719999999999999 -80.99999999999999)\"><tspan x=\"9.719999999999999\" dy=\"7.2\">17</tspan></text>\n",
       "<text x=\"9.719999999999999\" y=\"-68.75999999999996\" fill=\"black\" font-size=\"9\"\n",
       "font-family=\"sans-serif\" text-anchor=\"middle\"  transform=\" rotate(0 9.719999999999999 -61.55999999999996)\"><tspan x=\"9.719999999999999\" dy=\"7.2\">16</tspan></text>\n",
       "<text x=\"9.719999999999999\" y=\"-49.31999999999997\" fill=\"black\" font-size=\"9\"\n",
       "font-family=\"sans-serif\" text-anchor=\"middle\"  transform=\" rotate(0 9.719999999999999 -42.11999999999997)\"><tspan x=\"9.719999999999999\" dy=\"7.2\">15</tspan></text>\n",
       "<text x=\"9.719999999999999\" y=\"-29.879999999999978\" fill=\"black\" font-size=\"9\"\n",
       "font-family=\"sans-serif\" text-anchor=\"middle\"  transform=\" rotate(0 9.719999999999999 -22.67999999999998)\"><tspan x=\"9.719999999999999\" dy=\"7.2\">14</tspan></text>\n",
       "<text x=\"29.159999999999997\" y=\"-255.05999999999995\" fill=\"black\" font-size=\"9\"\n",
       "font-family=\"sans-serif\" text-anchor=\"middle\"  transform=\" rotate(0 29.159999999999997 -247.85999999999996)\"><tspan x=\"29.159999999999997\" dy=\"7.2\">13</tspan></text>\n",
       "<text x=\"29.159999999999997\" y=\"-235.61999999999995\" fill=\"black\" font-size=\"9\"\n",
       "font-family=\"sans-serif\" text-anchor=\"middle\"  transform=\" rotate(0 29.159999999999997 -228.41999999999996)\"><tspan x=\"29.159999999999997\" dy=\"7.2\">12</tspan></text>\n",
       "<text x=\"29.159999999999997\" y=\"-216.17999999999992\" fill=\"black\" font-size=\"9\"\n",
       "font-family=\"sans-serif\" text-anchor=\"middle\"  transform=\" rotate(0 29.159999999999997 -208.97999999999993)\"><tspan x=\"29.159999999999997\" dy=\"7.2\">11</tspan></text>\n",
       "<text x=\"29.159999999999997\" y=\"-196.73999999999995\" fill=\"black\" font-size=\"9\"\n",
       "font-family=\"sans-serif\" text-anchor=\"middle\"  transform=\" rotate(0 29.159999999999997 -189.53999999999996)\"><tspan x=\"29.159999999999997\" dy=\"7.2\">10</tspan></text>\n",
       "<text x=\"29.159999999999997\" y=\"-177.29999999999995\" fill=\"black\" font-size=\"9\"\n",
       "font-family=\"sans-serif\" text-anchor=\"middle\"  transform=\" rotate(0 29.159999999999997 -170.09999999999997)\"><tspan x=\"29.159999999999997\" dy=\"7.2\">9</tspan></text>\n",
       "<text x=\"29.159999999999997\" y=\"-157.85999999999996\" fill=\"black\" font-size=\"9\"\n",
       "font-family=\"sans-serif\" text-anchor=\"middle\"  transform=\" rotate(0 29.159999999999997 -150.65999999999997)\"><tspan x=\"29.159999999999997\" dy=\"7.2\">8</tspan></text>\n",
       "<text x=\"29.159999999999997\" y=\"-138.41999999999996\" fill=\"black\" font-size=\"9\"\n",
       "font-family=\"sans-serif\" text-anchor=\"middle\"  transform=\" rotate(0 29.159999999999997 -131.21999999999997)\"><tspan x=\"29.159999999999997\" dy=\"7.2\">7</tspan></text>\n",
       "<text x=\"29.159999999999997\" y=\"-118.97999999999999\" fill=\"black\" font-size=\"9\"\n",
       "font-family=\"sans-serif\" text-anchor=\"middle\"  transform=\" rotate(0 29.159999999999997 -111.77999999999999)\"><tspan x=\"29.159999999999997\" dy=\"7.2\">6</tspan></text>\n",
       "<text x=\"29.159999999999997\" y=\"-99.53999999999998\" fill=\"black\" font-size=\"9\"\n",
       "font-family=\"sans-serif\" text-anchor=\"middle\"  transform=\" rotate(0 29.159999999999997 -92.33999999999997)\"><tspan x=\"29.159999999999997\" dy=\"7.2\">5</tspan></text>\n",
       "<text x=\"29.159999999999997\" y=\"-80.09999999999998\" fill=\"black\" font-size=\"9\"\n",
       "font-family=\"sans-serif\" text-anchor=\"middle\"  transform=\" rotate(0 29.159999999999997 -72.89999999999998)\"><tspan x=\"29.159999999999997\" dy=\"7.2\">4</tspan></text>\n",
       "<text x=\"29.159999999999997\" y=\"-60.65999999999996\" fill=\"black\" font-size=\"9\"\n",
       "font-family=\"sans-serif\" text-anchor=\"middle\"  transform=\" rotate(0 29.159999999999997 -53.45999999999996)\"><tspan x=\"29.159999999999997\" dy=\"7.2\">3</tspan></text>\n",
       "<text x=\"29.159999999999997\" y=\"-41.21999999999998\" fill=\"black\" font-size=\"9\"\n",
       "font-family=\"sans-serif\" text-anchor=\"middle\"  transform=\" rotate(0 29.159999999999997 -34.019999999999975)\"><tspan x=\"29.159999999999997\" dy=\"7.2\">2</tspan></text>\n",
       "<text x=\"29.159999999999997\" y=\"-21.779999999999983\" fill=\"black\" font-size=\"9\"\n",
       "font-family=\"sans-serif\" text-anchor=\"middle\"  transform=\" rotate(0 29.159999999999997 -14.579999999999984)\"><tspan x=\"29.159999999999997\" dy=\"7.2\">1</tspan></text>\n",
       "<circle cx=\"9.719999999999999\" cy=\"-233.27999999999997\" r=\"3.24\" style=\"stroke:black;fill:white;stroke-width:2;\"/>\n",
       "<circle cx=\"9.719999999999999\" cy=\"-213.83999999999995\" r=\"3.24\" style=\"stroke:black;fill:white;stroke-width:2;\"/>\n",
       "<circle cx=\"9.719999999999999\" cy=\"-194.39999999999995\" r=\"3.24\" style=\"stroke:black;fill:white;stroke-width:2;\"/>\n",
       "<circle cx=\"9.719999999999999\" cy=\"-174.95999999999998\" r=\"3.24\" style=\"stroke:black;fill:white;stroke-width:2;\"/>\n",
       "<circle cx=\"9.719999999999999\" cy=\"-155.51999999999998\" r=\"3.24\" style=\"stroke:black;fill:white;stroke-width:2;\"/>\n",
       "<circle cx=\"9.719999999999999\" cy=\"-136.07999999999998\" r=\"3.24\" style=\"stroke:black;fill:white;stroke-width:2;\"/>\n",
       "<circle cx=\"9.719999999999999\" cy=\"-116.63999999999997\" r=\"3.24\" style=\"stroke:black;fill:white;stroke-width:2;\"/>\n",
       "<circle cx=\"9.719999999999999\" cy=\"-97.19999999999996\" r=\"3.24\" style=\"stroke:black;fill:white;stroke-width:2;\"/>\n",
       "<circle cx=\"9.719999999999999\" cy=\"-77.75999999999998\" r=\"3.24\" style=\"stroke:black;fill:white;stroke-width:2;\"/>\n",
       "<circle cx=\"9.719999999999999\" cy=\"-58.31999999999996\" r=\"3.24\" style=\"stroke:black;fill:white;stroke-width:2;\"/>\n",
       "<circle cx=\"9.719999999999999\" cy=\"-38.87999999999997\" r=\"3.24\" style=\"stroke:black;fill:white;stroke-width:2;\"/>\n",
       "<circle cx=\"9.719999999999999\" cy=\"-19.43999999999998\" r=\"3.24\" style=\"stroke:black;fill:white;stroke-width:2;\"/>\n",
       "<circle cx=\"29.159999999999997\" cy=\"-244.61999999999995\" r=\"3.24\" style=\"stroke:black;fill:white;stroke-width:2;\"/>\n",
       "<circle cx=\"29.159999999999997\" cy=\"-225.17999999999998\" r=\"3.24\" style=\"stroke:black;fill:white;stroke-width:2;\"/>\n",
       "<circle cx=\"29.159999999999997\" cy=\"-205.73999999999995\" r=\"3.24\" style=\"stroke:black;fill:white;stroke-width:2;\"/>\n",
       "<circle cx=\"29.159999999999997\" cy=\"-186.29999999999995\" r=\"3.24\" style=\"stroke:black;fill:white;stroke-width:2;\"/>\n",
       "<circle cx=\"29.159999999999997\" cy=\"-166.85999999999999\" r=\"3.24\" style=\"stroke:black;fill:white;stroke-width:2;\"/>\n",
       "<circle cx=\"29.159999999999997\" cy=\"-147.42\" r=\"3.24\" style=\"stroke:black;fill:white;stroke-width:2;\"/>\n",
       "<circle cx=\"29.159999999999997\" cy=\"-127.97999999999998\" r=\"3.24\" style=\"stroke:black;fill:white;stroke-width:2;\"/>\n",
       "<circle cx=\"29.159999999999997\" cy=\"-108.53999999999998\" r=\"3.24\" style=\"stroke:black;fill:white;stroke-width:2;\"/>\n",
       "<circle cx=\"29.159999999999997\" cy=\"-89.09999999999997\" r=\"3.24\" style=\"stroke:black;fill:white;stroke-width:2;\"/>\n",
       "<circle cx=\"29.159999999999997\" cy=\"-69.65999999999998\" r=\"3.24\" style=\"stroke:black;fill:white;stroke-width:2;\"/>\n",
       "<circle cx=\"29.159999999999997\" cy=\"-50.219999999999956\" r=\"3.24\" style=\"stroke:black;fill:white;stroke-width:2;\"/>\n",
       "<circle cx=\"29.159999999999997\" cy=\"-30.77999999999997\" r=\"3.24\" style=\"stroke:black;fill:white;stroke-width:2;\"/>\n",
       "<circle cx=\"29.159999999999997\" cy=\"-11.339999999999982\" r=\"3.24\" style=\"stroke:black;fill:white;stroke-width:2;\"/></svg>"
      ],
      "text/plain": [
       "<schemdraw.elements.connectors.DB25 at 0x7c3794eb6040>"
      ]
     },
     "execution_count": 17,
     "metadata": {},
     "output_type": "execute_result"
    }
   ],
   "source": [
    "elm.DB25(number=True)"
   ]
  },
  {
   "cell_type": "code",
   "execution_count": 18,
   "metadata": {},
   "outputs": [
    {
     "data": {
      "image/png": "[encoded data removed]",
      "image/svg+xml": [
       "<svg xmlns=\"http://www.w3.org/2000/svg\" xml:lang=\"en\" height=\"123.88000000000001pt\" width=\"68.9242pt\" viewBox=\"-15.3272 -121.88000000000001 68.9242 123.88000000000001\"><polygon points=\"0.0,-0.0 0.0,-116.64 38.879999999999995,-116.64 38.879999999999995,-0.0 \" style=\"stroke:black;fill:none;stroke-width:2;stroke-linecap:round;stroke-linejoin:round;\"/>\n",
       "<text x=\"-1.62\" y=\"-112.52000000000001\" fill=\"black\" font-size=\"14\"\n",
       "font-family=\"sans-serif\" text-anchor=\"end\"  transform=\" rotate(0 -1.62 -106.92)\"><tspan x=\"-1.62\" dy=\"11.200000000000001\">A</tspan></text>\n",
       "<text x=\"40.5\" y=\"-114.12\" fill=\"black\" font-size=\"9\"\n",
       "font-family=\"sans-serif\" text-anchor=\"start\"  transform=\" rotate(0 40.5 -106.92)\"><tspan x=\"40.5\" dy=\"7.2\">1</tspan></text>\n",
       "<text x=\"-1.62\" y=\"-93.08000000000001\" fill=\"black\" font-size=\"14\"\n",
       "font-family=\"sans-serif\" text-anchor=\"end\"  transform=\" rotate(0 -1.62 -87.48)\"><tspan x=\"-1.62\" dy=\"11.200000000000001\">B</tspan></text>\n",
       "<text x=\"40.5\" y=\"-94.68\" fill=\"black\" font-size=\"9\"\n",
       "font-family=\"sans-serif\" text-anchor=\"start\"  transform=\" rotate(0 40.5 -87.48)\"><tspan x=\"40.5\" dy=\"7.2\">2</tspan></text>\n",
       "<text x=\"-1.62\" y=\"-73.64000000000001\" fill=\"black\" font-size=\"14\"\n",
       "font-family=\"sans-serif\" text-anchor=\"end\"  transform=\" rotate(0 -1.62 -68.04000000000002)\"><tspan x=\"-1.62\" dy=\"11.200000000000001\">C</tspan></text>\n",
       "<text x=\"40.5\" y=\"-75.24000000000002\" fill=\"black\" font-size=\"9\"\n",
       "font-family=\"sans-serif\" text-anchor=\"start\"  transform=\" rotate(0 40.5 -68.04000000000002)\"><tspan x=\"40.5\" dy=\"7.2\">3</tspan></text>\n",
       "<text x=\"-1.62\" y=\"-54.20000000000001\" fill=\"black\" font-size=\"14\"\n",
       "font-family=\"sans-serif\" text-anchor=\"end\"  transform=\" rotate(0 -1.62 -48.60000000000001)\"><tspan x=\"-1.62\" dy=\"11.200000000000001\">D</tspan></text>\n",
       "<text x=\"40.5\" y=\"-55.80000000000001\" fill=\"black\" font-size=\"9\"\n",
       "font-family=\"sans-serif\" text-anchor=\"start\"  transform=\" rotate(0 40.5 -48.60000000000001)\"><tspan x=\"40.5\" dy=\"7.2\">4</tspan></text>\n",
       "<text x=\"-1.62\" y=\"-34.760000000000005\" fill=\"black\" font-size=\"14\"\n",
       "font-family=\"sans-serif\" text-anchor=\"end\"  transform=\" rotate(0 -1.62 -29.160000000000004)\"><tspan x=\"-1.62\" dy=\"11.200000000000001\">E</tspan></text>\n",
       "<text x=\"40.5\" y=\"-36.36000000000001\" fill=\"black\" font-size=\"9\"\n",
       "font-family=\"sans-serif\" text-anchor=\"start\"  transform=\" rotate(0 40.5 -29.160000000000004)\"><tspan x=\"40.5\" dy=\"7.2\">5</tspan></text>\n",
       "<text x=\"-1.62\" y=\"-15.320000000000004\" fill=\"black\" font-size=\"14\"\n",
       "font-family=\"sans-serif\" text-anchor=\"end\"  transform=\" rotate(0 -1.62 -9.720000000000002)\"><tspan x=\"-1.62\" dy=\"11.200000000000001\">F</tspan></text>\n",
       "<text x=\"40.5\" y=\"-16.92\" fill=\"black\" font-size=\"9\"\n",
       "font-family=\"sans-serif\" text-anchor=\"start\"  transform=\" rotate(0 40.5 -9.720000000000002)\"><tspan x=\"40.5\" dy=\"7.2\">6</tspan></text>\n",
       "<polygon points=\"6.4799999999999995,-103.68 12.96,-103.68 12.96,-110.16000000000001 6.4799999999999995,-110.16000000000001 \" style=\"stroke:black;fill:white;stroke-width:2;stroke-linecap:round;stroke-linejoin:round;\"/>\n",
       "<polygon points=\"25.919999999999998,-103.68 32.39999999999999,-103.68 32.39999999999999,-110.16000000000001 25.919999999999998,-110.16000000000001 \" style=\"stroke:black;fill:white;stroke-width:2;stroke-linecap:round;stroke-linejoin:round;\"/>\n",
       "<polygon points=\"6.4799999999999995,-84.24 12.96,-84.24 12.96,-90.72 6.4799999999999995,-90.72 \" style=\"stroke:black;fill:white;stroke-width:2;stroke-linecap:round;stroke-linejoin:round;\"/>\n",
       "<polygon points=\"25.919999999999998,-84.24 32.39999999999999,-84.24 32.39999999999999,-90.72 25.919999999999998,-90.72 \" style=\"stroke:black;fill:white;stroke-width:2;stroke-linecap:round;stroke-linejoin:round;\"/>\n",
       "<polygon points=\"6.4799999999999995,-64.80000000000001 12.96,-64.80000000000001 12.96,-71.28000000000002 6.4799999999999995,-71.28000000000002 \" style=\"stroke:black;fill:white;stroke-width:2;stroke-linecap:round;stroke-linejoin:round;\"/>\n",
       "<polygon points=\"25.919999999999998,-64.80000000000001 32.39999999999999,-64.80000000000001 32.39999999999999,-71.28000000000002 25.919999999999998,-71.28000000000002 \" style=\"stroke:black;fill:white;stroke-width:2;stroke-linecap:round;stroke-linejoin:round;\"/>\n",
       "<polygon points=\"6.4799999999999995,-45.36 12.96,-45.36 12.96,-51.84000000000001 6.4799999999999995,-51.84000000000001 \" style=\"stroke:black;fill:white;stroke-width:2;stroke-linecap:round;stroke-linejoin:round;\"/>\n",
       "<polygon points=\"25.919999999999998,-45.36 32.39999999999999,-45.36 32.39999999999999,-51.84000000000001 25.919999999999998,-51.84000000000001 \" style=\"stroke:black;fill:white;stroke-width:2;stroke-linecap:round;stroke-linejoin:round;\"/>\n",
       "<polygon points=\"6.4799999999999995,-25.920000000000005 12.96,-25.920000000000005 12.96,-32.400000000000006 6.4799999999999995,-32.400000000000006 \" style=\"stroke:black;fill:white;stroke-width:2;stroke-linecap:round;stroke-linejoin:round;\"/>\n",
       "<polygon points=\"25.919999999999998,-25.920000000000005 32.39999999999999,-25.920000000000005 32.39999999999999,-32.400000000000006 25.919999999999998,-32.400000000000006 \" style=\"stroke:black;fill:white;stroke-width:2;stroke-linecap:round;stroke-linejoin:round;\"/>\n",
       "<polygon points=\"6.4799999999999995,-6.480000000000003 12.96,-6.480000000000003 12.96,-12.960000000000004 6.4799999999999995,-12.960000000000004 \" style=\"stroke:black;fill:white;stroke-width:2;stroke-linecap:round;stroke-linejoin:round;\"/>\n",
       "<polygon points=\"25.919999999999998,-6.480000000000003 32.39999999999999,-6.480000000000003 32.39999999999999,-12.960000000000004 25.919999999999998,-12.960000000000004 \" style=\"stroke:black;fill:white;stroke-width:2;stroke-linecap:round;stroke-linejoin:round;\"/></svg>"
      ],
      "text/plain": [
       "<schemdraw.elements.connectors.Header at 0x7c3794ee6280>"
      ]
     },
     "execution_count": 18,
     "metadata": {},
     "output_type": "execute_result"
    }
   ],
   "source": [
    "elm.Header(rows=6, cols=2, style='square',\n",
    "           pinsleft=['A', 'B', 'C', 'D', 'E', 'F'], pinalignleft='center', pinfontsizeleft=14,\n",
    "           pinsright=['1', '2', '3', '4', '5', '6']\n",
    "          )"
   ]
  },
  {
   "cell_type": "code",
   "execution_count": 19,
   "metadata": {},
   "outputs": [
    {
     "data": {
      "image/png": "[encoded data removed]",
      "image/svg+xml": [
       "<svg xmlns=\"http://www.w3.org/2000/svg\" xml:lang=\"en\" height=\"120.64pt\" width=\"42.879999999999995pt\" viewBox=\"-2.0 -118.64 42.879999999999995 120.64\"><polygon points=\"0.0,-0.0 0.0,-116.64 38.879999999999995,-116.64 38.879999999999995,-0.0 \" style=\"stroke:black;fill:none;stroke-width:2;stroke-linecap:round;stroke-linejoin:round;\"/>\n",
       "<circle cx=\"9.719999999999999\" cy=\"-106.92\" r=\"5.67\" style=\"stroke:black;fill:white;stroke-width:2;\"/>\n",
       "<circle cx=\"29.159999999999997\" cy=\"-106.92\" r=\"5.67\" style=\"stroke:black;fill:white;stroke-width:2;\"/>\n",
       "<circle cx=\"9.719999999999999\" cy=\"-87.48\" r=\"5.67\" style=\"stroke:black;fill:white;stroke-width:2;\"/>\n",
       "<circle cx=\"29.159999999999997\" cy=\"-87.48\" r=\"5.67\" style=\"stroke:black;fill:white;stroke-width:2;\"/>\n",
       "<circle cx=\"9.719999999999999\" cy=\"-68.04000000000002\" r=\"5.67\" style=\"stroke:black;fill:white;stroke-width:2;\"/>\n",
       "<circle cx=\"29.159999999999997\" cy=\"-68.04000000000002\" r=\"5.67\" style=\"stroke:black;fill:white;stroke-width:2;\"/>\n",
       "<circle cx=\"9.719999999999999\" cy=\"-48.60000000000001\" r=\"5.67\" style=\"stroke:black;fill:white;stroke-width:2;\"/>\n",
       "<circle cx=\"29.159999999999997\" cy=\"-48.60000000000001\" r=\"5.67\" style=\"stroke:black;fill:white;stroke-width:2;\"/>\n",
       "<circle cx=\"9.719999999999999\" cy=\"-29.160000000000004\" r=\"5.67\" style=\"stroke:black;fill:white;stroke-width:2;\"/>\n",
       "<circle cx=\"29.159999999999997\" cy=\"-29.160000000000004\" r=\"5.67\" style=\"stroke:black;fill:white;stroke-width:2;\"/>\n",
       "<circle cx=\"9.719999999999999\" cy=\"-9.720000000000002\" r=\"5.67\" style=\"stroke:black;fill:white;stroke-width:2;\"/>\n",
       "<circle cx=\"29.159999999999997\" cy=\"-9.720000000000002\" r=\"5.67\" style=\"stroke:black;fill:white;stroke-width:2;\"/>\n",
       "<path d=\"M 12.96,-110.16000000000001 L 6.4799999999999995,-103.68\" style=\"stroke:black;fill:none;stroke-width:2;stroke-linecap:round;stroke-linejoin:round;\" />\n",
       "<path d=\"M 32.39999999999999,-110.16000000000001 L 25.919999999999998,-103.68\" style=\"stroke:black;fill:none;stroke-width:2;stroke-linecap:round;stroke-linejoin:round;\" />\n",
       "<path d=\"M 12.96,-90.72 L 6.4799999999999995,-84.24\" style=\"stroke:black;fill:none;stroke-width:2;stroke-linecap:round;stroke-linejoin:round;\" />\n",
       "<path d=\"M 32.39999999999999,-90.72 L 25.919999999999998,-84.24\" style=\"stroke:black;fill:none;stroke-width:2;stroke-linecap:round;stroke-linejoin:round;\" />\n",
       "<path d=\"M 12.96,-71.28000000000002 L 6.4799999999999995,-64.80000000000001\" style=\"stroke:black;fill:none;stroke-width:2;stroke-linecap:round;stroke-linejoin:round;\" />\n",
       "<path d=\"M 32.39999999999999,-71.28000000000002 L 25.919999999999998,-64.80000000000001\" style=\"stroke:black;fill:none;stroke-width:2;stroke-linecap:round;stroke-linejoin:round;\" />\n",
       "<path d=\"M 12.96,-51.84000000000001 L 6.4799999999999995,-45.36\" style=\"stroke:black;fill:none;stroke-width:2;stroke-linecap:round;stroke-linejoin:round;\" />\n",
       "<path d=\"M 32.39999999999999,-51.84000000000001 L 25.919999999999998,-45.36\" style=\"stroke:black;fill:none;stroke-width:2;stroke-linecap:round;stroke-linejoin:round;\" />\n",
       "<path d=\"M 12.96,-32.400000000000006 L 6.4799999999999995,-25.920000000000005\" style=\"stroke:black;fill:none;stroke-width:2;stroke-linecap:round;stroke-linejoin:round;\" />\n",
       "<path d=\"M 32.39999999999999,-32.400000000000006 L 25.919999999999998,-25.920000000000005\" style=\"stroke:black;fill:none;stroke-width:2;stroke-linecap:round;stroke-linejoin:round;\" />\n",
       "<path d=\"M 12.96,-12.960000000000004 L 6.4799999999999995,-6.480000000000003\" style=\"stroke:black;fill:none;stroke-width:2;stroke-linecap:round;stroke-linejoin:round;\" />\n",
       "<path d=\"M 32.39999999999999,-12.960000000000004 L 25.919999999999998,-6.480000000000003\" style=\"stroke:black;fill:none;stroke-width:2;stroke-linecap:round;stroke-linejoin:round;\" /></svg>"
      ],
      "text/plain": [
       "<schemdraw.elements.connectors.Header at 0x7c3794ee62e0>"
      ]
     },
     "execution_count": 19,
     "metadata": {},
     "output_type": "execute_result"
    }
   ],
   "source": [
    "elm.Header(rows=6, cols=2, style='screw')"
   ]
  },
  {
   "cell_type": "code",
   "execution_count": null,
   "metadata": {},
   "outputs": [],
   "source": []
  },
  {
   "cell_type": "code",
   "execution_count": 20,
   "metadata": {},
   "outputs": [
    {
     "data": {
      "image/svg+xml": [
       "<svg xmlns=\"http://www.w3.org/2000/svg\" xml:lang=\"en\" height=\"211.36pt\" width=\"303.7pt\" viewBox=\"-228.79999999999998 -209.36 303.7 211.36\"><polygon points=\"-226.79999999999998,-129.6 -226.79999999999998,-207.36 -207.36,-207.36 -207.36,-129.6 \" style=\"stroke:black;fill:none;stroke-width:2;stroke-linecap:round;stroke-linejoin:round;\"/>\n",
       "<path d=\"M 0.0,-0.0 L 72.89999999999999,-0.0 L 72.89999999999999,-103.67999999999998 L 0.0,-103.67999999999998 L 0.0,-0.0\" style=\"stroke:black;fill:none;stroke-width:2;stroke-linecap:round;stroke-linejoin:round;\" />\n",
       "<path d=\"M 0.0,-22.679999999999993 L -16.2,-22.679999999999993\" style=\"stroke:black;fill:none;stroke-width:2;stroke-linecap:round;stroke-linejoin:round;\" />\n",
       "<path d=\"M 0.0,-42.11999999999999 L -16.2,-42.11999999999999\" style=\"stroke:black;fill:none;stroke-width:2;stroke-linecap:round;stroke-linejoin:round;\" />\n",
       "<path d=\"M 0.0,-61.55999999999999 L -16.2,-61.55999999999999\" style=\"stroke:black;fill:none;stroke-width:2;stroke-linecap:round;stroke-linejoin:round;\" />\n",
       "<path d=\"M 0.0,-80.99999999999999 L -16.2,-80.99999999999999\" style=\"stroke:black;fill:none;stroke-width:2;stroke-linecap:round;stroke-linejoin:round;\" />\n",
       "<path d=\"M -217.07999999999998,-197.64 L -144.504,-197.64 L -144.504,-80.99999999999999 L -16.2,-80.99999999999999\" style=\"stroke:black;fill:none;stroke-width:2;stroke-linecap:round;stroke-linejoin:round;\" />\n",
       "<path d=\"M -217.07999999999998,-178.2 L -163.94400000000002,-178.2 L -163.94400000000002,-61.55999999999998 L -16.2,-61.55999999999998\" style=\"stroke:black;fill:none;stroke-width:2;stroke-linecap:round;stroke-linejoin:round;\" />\n",
       "<path d=\"M -217.07999999999998,-158.75999999999996 L -183.384,-158.75999999999996 L -183.384,-42.11999999999999 L -16.2,-42.11999999999999\" style=\"stroke:black;fill:none;stroke-width:2;stroke-linecap:round;stroke-linejoin:round;\" />\n",
       "<path d=\"M -217.07999999999998,-139.32 L -202.82399999999998,-139.32 L -202.82399999999998,-22.679999999999975 L -16.2,-22.679999999999975\" style=\"stroke:black;fill:none;stroke-width:2;stroke-linecap:round;stroke-linejoin:round;\" />\n",
       "<text x=\"4.859999999999999\" y=\"-27.079999999999995\" fill=\"black\" font-size=\"11\"\n",
       "font-family=\"sans-serif\" text-anchor=\"start\"  transform=\" rotate(0 4.859999999999999 -22.679999999999993)\"><tspan x=\"4.859999999999999\" dy=\"8.8\">A</tspan></text>\n",
       "<text x=\"4.859999999999999\" y=\"-46.519999999999996\" fill=\"black\" font-size=\"11\"\n",
       "font-family=\"sans-serif\" text-anchor=\"start\"  transform=\" rotate(0 4.859999999999999 -42.11999999999999)\"><tspan x=\"4.859999999999999\" dy=\"8.8\">B</tspan></text>\n",
       "<text x=\"4.859999999999999\" y=\"-65.96\" fill=\"black\" font-size=\"11\"\n",
       "font-family=\"sans-serif\" text-anchor=\"start\"  transform=\" rotate(0 4.859999999999999 -61.55999999999999)\"><tspan x=\"4.859999999999999\" dy=\"8.8\">C</tspan></text>\n",
       "<text x=\"4.859999999999999\" y=\"-85.39999999999998\" fill=\"black\" font-size=\"11\"\n",
       "font-family=\"sans-serif\" text-anchor=\"start\"  transform=\" rotate(0 4.859999999999999 -80.99999999999999)\"><tspan x=\"4.859999999999999\" dy=\"8.8\">D</tspan></text>\n",
       "<circle cx=\"-217.07999999999998\" cy=\"-197.64\" r=\"3.24\" style=\"stroke:black;fill:white;stroke-width:2;\"/>\n",
       "<circle cx=\"-217.07999999999998\" cy=\"-178.2\" r=\"3.24\" style=\"stroke:black;fill:white;stroke-width:2;\"/>\n",
       "<circle cx=\"-217.07999999999998\" cy=\"-158.76\" r=\"3.24\" style=\"stroke:black;fill:white;stroke-width:2;\"/>\n",
       "<circle cx=\"-217.07999999999998\" cy=\"-139.32\" r=\"3.24\" style=\"stroke:black;fill:white;stroke-width:2;\"/></svg>"
      ],
      "text/plain": [
       "<svg xmlns=\"http://www.w3.org/2000/svg\" xml:lang=\"en\" height=\"211.36pt\" width=\"303.7pt\" viewBox=\"-228.79999999999998 -209.36 303.7 211.36\"><polygon points=\"-226.79999999999998,-129.6 -226.79999999999998,-207.36 -207.36,-207.36 -207.36,-129.6 \" style=\"stroke:black;fill:none;stroke-width:2;stroke-linecap:round;stroke-linejoin:round;\"/>\n",
       "<path d=\"M 0.0,-0.0 L 72.89999999999999,-0.0 L 72.89999999999999,-103.67999999999998 L 0.0,-103.67999999999998 L 0.0,-0.0\" style=\"stroke:black;fill:none;stroke-width:2;stroke-linecap:round;stroke-linejoin:round;\" />\n",
       "<path d=\"M 0.0,-22.679999999999993 L -16.2,-22.679999999999993\" style=\"stroke:black;fill:none;stroke-width:2;stroke-linecap:round;stroke-linejoin:round;\" />\n",
       "<path d=\"M 0.0,-42.11999999999999 L -16.2,-42.11999999999999\" style=\"stroke:black;fill:none;stroke-width:2;stroke-linecap:round;stroke-linejoin:round;\" />\n",
       "<path d=\"M 0.0,-61.55999999999999 L -16.2,-61.55999999999999\" style=\"stroke:black;fill:none;stroke-width:2;stroke-linecap:round;stroke-linejoin:round;\" />\n",
       "<path d=\"M 0.0,-80.99999999999999 L -16.2,-80.99999999999999\" style=\"stroke:black;fill:none;stroke-width:2;stroke-linecap:round;stroke-linejoin:round;\" />\n",
       "<path d=\"M -217.07999999999998,-197.64 L -144.504,-197.64 L -144.504,-80.99999999999999 L -16.2,-80.99999999999999\" style=\"stroke:black;fill:none;stroke-width:2;stroke-linecap:round;stroke-linejoin:round;\" />\n",
       "<path d=\"M -217.07999999999998,-178.2 L -163.94400000000002,-178.2 L -163.94400000000002,-61.55999999999998 L -16.2,-61.55999999999998\" style=\"stroke:black;fill:none;stroke-width:2;stroke-linecap:round;stroke-linejoin:round;\" />\n",
       "<path d=\"M -217.07999999999998,-158.75999999999996 L -183.384,-158.75999999999996 L -183.384,-42.11999999999999 L -16.2,-42.11999999999999\" style=\"stroke:black;fill:none;stroke-width:2;stroke-linecap:round;stroke-linejoin:round;\" />\n",
       "<path d=\"M -217.07999999999998,-139.32 L -202.82399999999998,-139.32 L -202.82399999999998,-22.679999999999975 L -16.2,-22.679999999999975\" style=\"stroke:black;fill:none;stroke-width:2;stroke-linecap:round;stroke-linejoin:round;\" />\n",
       "<text x=\"4.859999999999999\" y=\"-27.079999999999995\" fill=\"black\" font-size=\"11\"\n",
       "font-family=\"sans-serif\" text-anchor=\"start\"  transform=\" rotate(0 4.859999999999999 -22.679999999999993)\"><tspan x=\"4.859999999999999\" dy=\"8.8\">A</tspan></text>\n",
       "<text x=\"4.859999999999999\" y=\"-46.519999999999996\" fill=\"black\" font-size=\"11\"\n",
       "font-family=\"sans-serif\" text-anchor=\"start\"  transform=\" rotate(0 4.859999999999999 -42.11999999999999)\"><tspan x=\"4.859999999999999\" dy=\"8.8\">B</tspan></text>\n",
       "<text x=\"4.859999999999999\" y=\"-65.96\" fill=\"black\" font-size=\"11\"\n",
       "font-family=\"sans-serif\" text-anchor=\"start\"  transform=\" rotate(0 4.859999999999999 -61.55999999999999)\"><tspan x=\"4.859999999999999\" dy=\"8.8\">C</tspan></text>\n",
       "<text x=\"4.859999999999999\" y=\"-85.39999999999998\" fill=\"black\" font-size=\"11\"\n",
       "font-family=\"sans-serif\" text-anchor=\"start\"  transform=\" rotate(0 4.859999999999999 -80.99999999999999)\"><tspan x=\"4.859999999999999\" dy=\"8.8\">D</tspan></text>\n",
       "<circle cx=\"-217.07999999999998\" cy=\"-197.64\" r=\"3.24\" style=\"stroke:black;fill:white;stroke-width:2;\"/>\n",
       "<circle cx=\"-217.07999999999998\" cy=\"-178.2\" r=\"3.24\" style=\"stroke:black;fill:white;stroke-width:2;\"/>\n",
       "<circle cx=\"-217.07999999999998\" cy=\"-158.76\" r=\"3.24\" style=\"stroke:black;fill:white;stroke-width:2;\"/>\n",
       "<circle cx=\"-217.07999999999998\" cy=\"-139.32\" r=\"3.24\" style=\"stroke:black;fill:white;stroke-width:2;\"/></svg>"
      ]
     },
     "execution_count": 20,
     "metadata": {},
     "output_type": "execute_result"
    }
   ],
   "source": [
    "d = schemdraw.Drawing()\n",
    "D1 = d.add(elm.Ic(pins=[elm.IcPin(name='A', side='l', slot='1/4'),\n",
    "                        elm.IcPin(name='B', side='l', slot='2/4'),\n",
    "                        elm.IcPin(name='C', side='l', slot='3/4'),\n",
    "                        elm.IcPin(name='D', side='l', slot='4/4')]))\n",
    "\n",
    "D2 = d.add(elm.Header(rows=4).at((-7,4)))\n",
    "d.add(elm.OrthoLines(n=4, dy=.6, xstart=.1).at(D2.pin1).to(D1.D))\n",
    "d.draw()"
   ]
  },
  {
   "cell_type": "code",
   "execution_count": 21,
   "metadata": {},
   "outputs": [
    {
     "data": {
      "image/svg+xml": [
       "<svg xmlns=\"http://www.w3.org/2000/svg\" xml:lang=\"en\" height=\"211.36pt\" width=\"303.7pt\" viewBox=\"-228.79999999999998 -209.36 303.7 211.36\"><polygon points=\"-226.79999999999998,-129.6 -226.79999999999998,-207.36 -207.36,-207.36 -207.36,-129.6 \" style=\"stroke:black;fill:none;stroke-width:2;stroke-linecap:round;stroke-linejoin:round;\"/>\n",
       "<path d=\"M 0.0,-0.0 L 72.89999999999999,-0.0 L 72.89999999999999,-103.67999999999998 L 0.0,-103.67999999999998 L 0.0,-0.0\" style=\"stroke:black;fill:none;stroke-width:2;stroke-linecap:round;stroke-linejoin:round;\" />\n",
       "<path d=\"M 0.0,-22.679999999999993 L -16.2,-22.679999999999993\" style=\"stroke:black;fill:none;stroke-width:2;stroke-linecap:round;stroke-linejoin:round;\" />\n",
       "<path d=\"M 0.0,-42.11999999999999 L -16.2,-42.11999999999999\" style=\"stroke:black;fill:none;stroke-width:2;stroke-linecap:round;stroke-linejoin:round;\" />\n",
       "<path d=\"M 0.0,-61.55999999999999 L -16.2,-61.55999999999999\" style=\"stroke:black;fill:none;stroke-width:2;stroke-linecap:round;stroke-linejoin:round;\" />\n",
       "<path d=\"M 0.0,-80.99999999999999 L -16.2,-80.99999999999999\" style=\"stroke:black;fill:none;stroke-width:2;stroke-linecap:round;stroke-linejoin:round;\" />\n",
       "<path d=\"M -217.07999999999998,-197.64 L -16.19999999999997,-197.64 L -16.19999999999997,-80.99999999999999 L -16.2,-80.99999999999999\" style=\"stroke:black;fill:none;stroke-width:2;stroke-linecap:round;stroke-linejoin:round;\" />\n",
       "<path d=\"M -217.07999999999998,-178.2 L -35.639999999999986,-178.2 L -35.639999999999986,-61.55999999999998 L -16.2,-61.55999999999998\" style=\"stroke:black;fill:none;stroke-width:2;stroke-linecap:round;stroke-linejoin:round;\" />\n",
       "<path d=\"M -217.07999999999998,-158.75999999999996 L -55.07999999999998,-158.75999999999996 L -55.07999999999998,-42.11999999999999 L -16.2,-42.11999999999999\" style=\"stroke:black;fill:none;stroke-width:2;stroke-linecap:round;stroke-linejoin:round;\" />\n",
       "<path d=\"M -217.07999999999998,-139.32 L -74.52,-139.32 L -74.52,-22.679999999999975 L -16.2,-22.679999999999975\" style=\"stroke:black;fill:none;stroke-width:2;stroke-linecap:round;stroke-linejoin:round;\" />\n",
       "<text x=\"4.859999999999999\" y=\"-27.079999999999995\" fill=\"black\" font-size=\"11\"\n",
       "font-family=\"sans-serif\" text-anchor=\"start\"  transform=\" rotate(0 4.859999999999999 -22.679999999999993)\"><tspan x=\"4.859999999999999\" dy=\"8.8\">A</tspan></text>\n",
       "<text x=\"4.859999999999999\" y=\"-46.519999999999996\" fill=\"black\" font-size=\"11\"\n",
       "font-family=\"sans-serif\" text-anchor=\"start\"  transform=\" rotate(0 4.859999999999999 -42.11999999999999)\"><tspan x=\"4.859999999999999\" dy=\"8.8\">B</tspan></text>\n",
       "<text x=\"4.859999999999999\" y=\"-65.96\" fill=\"black\" font-size=\"11\"\n",
       "font-family=\"sans-serif\" text-anchor=\"start\"  transform=\" rotate(0 4.859999999999999 -61.55999999999999)\"><tspan x=\"4.859999999999999\" dy=\"8.8\">C</tspan></text>\n",
       "<text x=\"4.859999999999999\" y=\"-85.39999999999998\" fill=\"black\" font-size=\"11\"\n",
       "font-family=\"sans-serif\" text-anchor=\"start\"  transform=\" rotate(0 4.859999999999999 -80.99999999999999)\"><tspan x=\"4.859999999999999\" dy=\"8.8\">D</tspan></text>\n",
       "<circle cx=\"-217.07999999999998\" cy=\"-197.64\" r=\"3.24\" style=\"stroke:black;fill:white;stroke-width:2;\"/>\n",
       "<circle cx=\"-217.07999999999998\" cy=\"-178.2\" r=\"3.24\" style=\"stroke:black;fill:white;stroke-width:2;\"/>\n",
       "<circle cx=\"-217.07999999999998\" cy=\"-158.76\" r=\"3.24\" style=\"stroke:black;fill:white;stroke-width:2;\"/>\n",
       "<circle cx=\"-217.07999999999998\" cy=\"-139.32\" r=\"3.24\" style=\"stroke:black;fill:white;stroke-width:2;\"/></svg>"
      ],
      "text/plain": [
       "<svg xmlns=\"http://www.w3.org/2000/svg\" xml:lang=\"en\" height=\"211.36pt\" width=\"303.7pt\" viewBox=\"-228.79999999999998 -209.36 303.7 211.36\"><polygon points=\"-226.79999999999998,-129.6 -226.79999999999998,-207.36 -207.36,-207.36 -207.36,-129.6 \" style=\"stroke:black;fill:none;stroke-width:2;stroke-linecap:round;stroke-linejoin:round;\"/>\n",
       "<path d=\"M 0.0,-0.0 L 72.89999999999999,-0.0 L 72.89999999999999,-103.67999999999998 L 0.0,-103.67999999999998 L 0.0,-0.0\" style=\"stroke:black;fill:none;stroke-width:2;stroke-linecap:round;stroke-linejoin:round;\" />\n",
       "<path d=\"M 0.0,-22.679999999999993 L -16.2,-22.679999999999993\" style=\"stroke:black;fill:none;stroke-width:2;stroke-linecap:round;stroke-linejoin:round;\" />\n",
       "<path d=\"M 0.0,-42.11999999999999 L -16.2,-42.11999999999999\" style=\"stroke:black;fill:none;stroke-width:2;stroke-linecap:round;stroke-linejoin:round;\" />\n",
       "<path d=\"M 0.0,-61.55999999999999 L -16.2,-61.55999999999999\" style=\"stroke:black;fill:none;stroke-width:2;stroke-linecap:round;stroke-linejoin:round;\" />\n",
       "<path d=\"M 0.0,-80.99999999999999 L -16.2,-80.99999999999999\" style=\"stroke:black;fill:none;stroke-width:2;stroke-linecap:round;stroke-linejoin:round;\" />\n",
       "<path d=\"M -217.07999999999998,-197.64 L -16.19999999999997,-197.64 L -16.19999999999997,-80.99999999999999 L -16.2,-80.99999999999999\" style=\"stroke:black;fill:none;stroke-width:2;stroke-linecap:round;stroke-linejoin:round;\" />\n",
       "<path d=\"M -217.07999999999998,-178.2 L -35.639999999999986,-178.2 L -35.639999999999986,-61.55999999999998 L -16.2,-61.55999999999998\" style=\"stroke:black;fill:none;stroke-width:2;stroke-linecap:round;stroke-linejoin:round;\" />\n",
       "<path d=\"M -217.07999999999998,-158.75999999999996 L -55.07999999999998,-158.75999999999996 L -55.07999999999998,-42.11999999999999 L -16.2,-42.11999999999999\" style=\"stroke:black;fill:none;stroke-width:2;stroke-linecap:round;stroke-linejoin:round;\" />\n",
       "<path d=\"M -217.07999999999998,-139.32 L -74.52,-139.32 L -74.52,-22.679999999999975 L -16.2,-22.679999999999975\" style=\"stroke:black;fill:none;stroke-width:2;stroke-linecap:round;stroke-linejoin:round;\" />\n",
       "<text x=\"4.859999999999999\" y=\"-27.079999999999995\" fill=\"black\" font-size=\"11\"\n",
       "font-family=\"sans-serif\" text-anchor=\"start\"  transform=\" rotate(0 4.859999999999999 -22.679999999999993)\"><tspan x=\"4.859999999999999\" dy=\"8.8\">A</tspan></text>\n",
       "<text x=\"4.859999999999999\" y=\"-46.519999999999996\" fill=\"black\" font-size=\"11\"\n",
       "font-family=\"sans-serif\" text-anchor=\"start\"  transform=\" rotate(0 4.859999999999999 -42.11999999999999)\"><tspan x=\"4.859999999999999\" dy=\"8.8\">B</tspan></text>\n",
       "<text x=\"4.859999999999999\" y=\"-65.96\" fill=\"black\" font-size=\"11\"\n",
       "font-family=\"sans-serif\" text-anchor=\"start\"  transform=\" rotate(0 4.859999999999999 -61.55999999999999)\"><tspan x=\"4.859999999999999\" dy=\"8.8\">C</tspan></text>\n",
       "<text x=\"4.859999999999999\" y=\"-85.39999999999998\" fill=\"black\" font-size=\"11\"\n",
       "font-family=\"sans-serif\" text-anchor=\"start\"  transform=\" rotate(0 4.859999999999999 -80.99999999999999)\"><tspan x=\"4.859999999999999\" dy=\"8.8\">D</tspan></text>\n",
       "<circle cx=\"-217.07999999999998\" cy=\"-197.64\" r=\"3.24\" style=\"stroke:black;fill:white;stroke-width:2;\"/>\n",
       "<circle cx=\"-217.07999999999998\" cy=\"-178.2\" r=\"3.24\" style=\"stroke:black;fill:white;stroke-width:2;\"/>\n",
       "<circle cx=\"-217.07999999999998\" cy=\"-158.76\" r=\"3.24\" style=\"stroke:black;fill:white;stroke-width:2;\"/>\n",
       "<circle cx=\"-217.07999999999998\" cy=\"-139.32\" r=\"3.24\" style=\"stroke:black;fill:white;stroke-width:2;\"/></svg>"
      ]
     },
     "execution_count": 21,
     "metadata": {},
     "output_type": "execute_result"
    }
   ],
   "source": [
    "d = schemdraw.Drawing()\n",
    "D1 = d.add(elm.Ic(pins=[elm.IcPin(name='A', side='l', slot='1/4'),\n",
    "                        elm.IcPin(name='B', side='l', slot='2/4'),\n",
    "                        elm.IcPin(name='C', side='l', slot='3/4'),\n",
    "                        elm.IcPin(name='D', side='l', slot='4/4')]))\n",
    "\n",
    "D2 = d.add(elm.Header(rows=4).at((-7,4)))\n",
    "d.add(elm.OrthoLines(n=4, dy=.6, xstart=1).at(D2.pin1).to(D1.D))\n",
    "d.draw()"
   ]
  },
  {
   "cell_type": "code",
   "execution_count": 22,
   "metadata": {},
   "outputs": [
    {
     "data": {
      "image/svg+xml": [
       "<svg xmlns=\"http://www.w3.org/2000/svg\" xml:lang=\"en\" height=\"211.36pt\" width=\"250.23999999999998pt\" viewBox=\"-2.0 -209.36 250.23999999999998 211.36\"><polygon points=\"226.79999999999998,-129.6 226.79999999999998,-207.36 246.23999999999998,-207.36 246.23999999999998,-129.6 \" style=\"stroke:black;fill:none;stroke-width:2;stroke-linecap:round;stroke-linejoin:round;\"/>\n",
       "<path d=\"M 0.0,-0.0 L 72.89999999999999,-0.0 L 72.89999999999999,-103.67999999999998 L 0.0,-103.67999999999998 L 0.0,-0.0\" style=\"stroke:black;fill:none;stroke-width:2;stroke-linecap:round;stroke-linejoin:round;\" />\n",
       "<path d=\"M 72.89999999999999,-22.679999999999993 L 89.1,-22.679999999999993\" style=\"stroke:black;fill:none;stroke-width:2;stroke-linecap:round;stroke-linejoin:round;\" />\n",
       "<path d=\"M 72.89999999999999,-42.11999999999999 L 89.1,-42.11999999999999\" style=\"stroke:black;fill:none;stroke-width:2;stroke-linecap:round;stroke-linejoin:round;\" />\n",
       "<path d=\"M 72.89999999999999,-61.55999999999999 L 89.1,-61.55999999999999\" style=\"stroke:black;fill:none;stroke-width:2;stroke-linecap:round;stroke-linejoin:round;\" />\n",
       "<path d=\"M 72.89999999999999,-80.99999999999999 L 89.1,-80.99999999999999\" style=\"stroke:black;fill:none;stroke-width:2;stroke-linecap:round;stroke-linejoin:round;\" />\n",
       "<path d=\"M 236.51999999999998,-197.64 L 114.21,-197.64 L 114.21,-80.99999999999999 L 89.1,-80.99999999999999\" style=\"stroke:black;fill:none;stroke-width:2;stroke-linecap:round;stroke-linejoin:round;\" />\n",
       "<path d=\"M 236.51999999999998,-178.2 L 133.65,-178.2 L 133.65,-61.55999999999998 L 89.1,-61.55999999999998\" style=\"stroke:black;fill:none;stroke-width:2;stroke-linecap:round;stroke-linejoin:round;\" />\n",
       "<path d=\"M 236.51999999999998,-158.75999999999996 L 153.08999999999997,-158.75999999999996 L 153.08999999999997,-42.11999999999999 L 89.1,-42.11999999999999\" style=\"stroke:black;fill:none;stroke-width:2;stroke-linecap:round;stroke-linejoin:round;\" />\n",
       "<path d=\"M 236.51999999999998,-139.32 L 172.52999999999997,-139.32 L 172.52999999999997,-22.679999999999975 L 89.1,-22.679999999999975\" style=\"stroke:black;fill:none;stroke-width:2;stroke-linecap:round;stroke-linejoin:round;\" />\n",
       "<text x=\"68.04\" y=\"-27.079999999999995\" fill=\"black\" font-size=\"11\"\n",
       "font-family=\"sans-serif\" text-anchor=\"end\"  transform=\" rotate(0 68.04 -22.679999999999993)\"><tspan x=\"68.04\" dy=\"8.8\">A</tspan></text>\n",
       "<text x=\"68.04\" y=\"-46.519999999999996\" fill=\"black\" font-size=\"11\"\n",
       "font-family=\"sans-serif\" text-anchor=\"end\"  transform=\" rotate(0 68.04 -42.11999999999999)\"><tspan x=\"68.04\" dy=\"8.8\">B</tspan></text>\n",
       "<text x=\"68.04\" y=\"-65.96\" fill=\"black\" font-size=\"11\"\n",
       "font-family=\"sans-serif\" text-anchor=\"end\"  transform=\" rotate(0 68.04 -61.55999999999999)\"><tspan x=\"68.04\" dy=\"8.8\">C</tspan></text>\n",
       "<text x=\"68.04\" y=\"-85.39999999999998\" fill=\"black\" font-size=\"11\"\n",
       "font-family=\"sans-serif\" text-anchor=\"end\"  transform=\" rotate(0 68.04 -80.99999999999999)\"><tspan x=\"68.04\" dy=\"8.8\">D</tspan></text>\n",
       "<circle cx=\"236.51999999999998\" cy=\"-197.64\" r=\"3.24\" style=\"stroke:black;fill:white;stroke-width:2;\"/>\n",
       "<circle cx=\"236.51999999999998\" cy=\"-178.2\" r=\"3.24\" style=\"stroke:black;fill:white;stroke-width:2;\"/>\n",
       "<circle cx=\"236.51999999999998\" cy=\"-158.76\" r=\"3.24\" style=\"stroke:black;fill:white;stroke-width:2;\"/>\n",
       "<circle cx=\"236.51999999999998\" cy=\"-139.32\" r=\"3.24\" style=\"stroke:black;fill:white;stroke-width:2;\"/></svg>"
      ],
      "text/plain": [
       "<svg xmlns=\"http://www.w3.org/2000/svg\" xml:lang=\"en\" height=\"211.36pt\" width=\"250.23999999999998pt\" viewBox=\"-2.0 -209.36 250.23999999999998 211.36\"><polygon points=\"226.79999999999998,-129.6 226.79999999999998,-207.36 246.23999999999998,-207.36 246.23999999999998,-129.6 \" style=\"stroke:black;fill:none;stroke-width:2;stroke-linecap:round;stroke-linejoin:round;\"/>\n",
       "<path d=\"M 0.0,-0.0 L 72.89999999999999,-0.0 L 72.89999999999999,-103.67999999999998 L 0.0,-103.67999999999998 L 0.0,-0.0\" style=\"stroke:black;fill:none;stroke-width:2;stroke-linecap:round;stroke-linejoin:round;\" />\n",
       "<path d=\"M 72.89999999999999,-22.679999999999993 L 89.1,-22.679999999999993\" style=\"stroke:black;fill:none;stroke-width:2;stroke-linecap:round;stroke-linejoin:round;\" />\n",
       "<path d=\"M 72.89999999999999,-42.11999999999999 L 89.1,-42.11999999999999\" style=\"stroke:black;fill:none;stroke-width:2;stroke-linecap:round;stroke-linejoin:round;\" />\n",
       "<path d=\"M 72.89999999999999,-61.55999999999999 L 89.1,-61.55999999999999\" style=\"stroke:black;fill:none;stroke-width:2;stroke-linecap:round;stroke-linejoin:round;\" />\n",
       "<path d=\"M 72.89999999999999,-80.99999999999999 L 89.1,-80.99999999999999\" style=\"stroke:black;fill:none;stroke-width:2;stroke-linecap:round;stroke-linejoin:round;\" />\n",
       "<path d=\"M 236.51999999999998,-197.64 L 114.21,-197.64 L 114.21,-80.99999999999999 L 89.1,-80.99999999999999\" style=\"stroke:black;fill:none;stroke-width:2;stroke-linecap:round;stroke-linejoin:round;\" />\n",
       "<path d=\"M 236.51999999999998,-178.2 L 133.65,-178.2 L 133.65,-61.55999999999998 L 89.1,-61.55999999999998\" style=\"stroke:black;fill:none;stroke-width:2;stroke-linecap:round;stroke-linejoin:round;\" />\n",
       "<path d=\"M 236.51999999999998,-158.75999999999996 L 153.08999999999997,-158.75999999999996 L 153.08999999999997,-42.11999999999999 L 89.1,-42.11999999999999\" style=\"stroke:black;fill:none;stroke-width:2;stroke-linecap:round;stroke-linejoin:round;\" />\n",
       "<path d=\"M 236.51999999999998,-139.32 L 172.52999999999997,-139.32 L 172.52999999999997,-22.679999999999975 L 89.1,-22.679999999999975\" style=\"stroke:black;fill:none;stroke-width:2;stroke-linecap:round;stroke-linejoin:round;\" />\n",
       "<text x=\"68.04\" y=\"-27.079999999999995\" fill=\"black\" font-size=\"11\"\n",
       "font-family=\"sans-serif\" text-anchor=\"end\"  transform=\" rotate(0 68.04 -22.679999999999993)\"><tspan x=\"68.04\" dy=\"8.8\">A</tspan></text>\n",
       "<text x=\"68.04\" y=\"-46.519999999999996\" fill=\"black\" font-size=\"11\"\n",
       "font-family=\"sans-serif\" text-anchor=\"end\"  transform=\" rotate(0 68.04 -42.11999999999999)\"><tspan x=\"68.04\" dy=\"8.8\">B</tspan></text>\n",
       "<text x=\"68.04\" y=\"-65.96\" fill=\"black\" font-size=\"11\"\n",
       "font-family=\"sans-serif\" text-anchor=\"end\"  transform=\" rotate(0 68.04 -61.55999999999999)\"><tspan x=\"68.04\" dy=\"8.8\">C</tspan></text>\n",
       "<text x=\"68.04\" y=\"-85.39999999999998\" fill=\"black\" font-size=\"11\"\n",
       "font-family=\"sans-serif\" text-anchor=\"end\"  transform=\" rotate(0 68.04 -80.99999999999999)\"><tspan x=\"68.04\" dy=\"8.8\">D</tspan></text>\n",
       "<circle cx=\"236.51999999999998\" cy=\"-197.64\" r=\"3.24\" style=\"stroke:black;fill:white;stroke-width:2;\"/>\n",
       "<circle cx=\"236.51999999999998\" cy=\"-178.2\" r=\"3.24\" style=\"stroke:black;fill:white;stroke-width:2;\"/>\n",
       "<circle cx=\"236.51999999999998\" cy=\"-158.76\" r=\"3.24\" style=\"stroke:black;fill:white;stroke-width:2;\"/>\n",
       "<circle cx=\"236.51999999999998\" cy=\"-139.32\" r=\"3.24\" style=\"stroke:black;fill:white;stroke-width:2;\"/></svg>"
      ]
     },
     "execution_count": 22,
     "metadata": {},
     "output_type": "execute_result"
    }
   ],
   "source": [
    "d = schemdraw.Drawing()\n",
    "D1 = d.add(elm.Ic(pins=[elm.IcPin(name='A', side='r', slot='1/4'),\n",
    "                        elm.IcPin(name='B', side='r', slot='2/4'),\n",
    "                        elm.IcPin(name='C', side='r', slot='3/4'),\n",
    "                        elm.IcPin(name='D', side='r', slot='4/4')]))\n",
    "\n",
    "D2 = d.add(elm.Header(rows=4).at((7,4)))\n",
    "d.add(elm.OrthoLines(n=4, dy=.6).at(D2.pin1).to(D1.D))\n",
    "d.draw()"
   ]
  },
  {
   "cell_type": "code",
   "execution_count": 23,
   "metadata": {},
   "outputs": [
    {
     "data": {
      "image/svg+xml": [
       "<svg xmlns=\"http://www.w3.org/2000/svg\" xml:lang=\"en\" height=\"123.88000000000001pt\" width=\"268.70799999999997pt\" viewBox=\"-16.093999999999998 -121.88000000000001 268.70799999999997 123.88000000000001\"><polygon points=\"0.0,-0.0 0.0,-116.64 38.879999999999995,-116.64 38.879999999999995,-0.0 \" style=\"stroke:black;fill:none;stroke-width:2;stroke-linecap:round;stroke-linejoin:round;\"/>\n",
       "<polygon points=\"97.19999999999999,-0.0 97.19999999999999,-116.64 136.08,-116.64 136.08,-0.0 \" style=\"stroke:black;fill:none;stroke-width:2;stroke-linecap:round;stroke-linejoin:round;\"/>\n",
       "<polygon points=\"194.39999999999998,-0.0 194.39999999999998,-116.64 233.28,-116.64 233.28,-0.0 \" style=\"stroke:black;fill:none;stroke-width:2;stroke-linecap:round;stroke-linejoin:round;\"/>\n",
       "<polygon points=\"196.01999999999998,-79.38 231.65999999999997,-79.38 231.65999999999997,-95.58 196.01999999999998,-95.58 \" style=\"stroke:black;fill:lightgray;stroke-width:2;stroke-linecap:round;stroke-linejoin:round;\"/>\n",
       "<text x=\"-1.62\" y=\"-114.12\" fill=\"black\" font-size=\"9\"\n",
       "font-family=\"sans-serif\" text-anchor=\"end\"  transform=\" rotate(0 -1.62 -106.92)\"><tspan x=\"-1.62\" dy=\"7.2\">1</tspan></text>\n",
       "<text x=\"40.5\" y=\"-114.12\" fill=\"black\" font-size=\"9\"\n",
       "font-family=\"sans-serif\" text-anchor=\"start\"  transform=\" rotate(0 40.5 -106.92)\"><tspan x=\"40.5\" dy=\"7.2\">2</tspan></text>\n",
       "<text x=\"-1.62\" y=\"-94.68\" fill=\"black\" font-size=\"9\"\n",
       "font-family=\"sans-serif\" text-anchor=\"end\"  transform=\" rotate(0 -1.62 -87.48)\"><tspan x=\"-1.62\" dy=\"7.2\">3</tspan></text>\n",
       "<text x=\"40.5\" y=\"-94.68\" fill=\"black\" font-size=\"9\"\n",
       "font-family=\"sans-serif\" text-anchor=\"start\"  transform=\" rotate(0 40.5 -87.48)\"><tspan x=\"40.5\" dy=\"7.2\">4</tspan></text>\n",
       "<text x=\"-1.62\" y=\"-75.24000000000002\" fill=\"black\" font-size=\"9\"\n",
       "font-family=\"sans-serif\" text-anchor=\"end\"  transform=\" rotate(0 -1.62 -68.04000000000002)\"><tspan x=\"-1.62\" dy=\"7.2\">5</tspan></text>\n",
       "<text x=\"40.5\" y=\"-75.24000000000002\" fill=\"black\" font-size=\"9\"\n",
       "font-family=\"sans-serif\" text-anchor=\"start\"  transform=\" rotate(0 40.5 -68.04000000000002)\"><tspan x=\"40.5\" dy=\"7.2\">6</tspan></text>\n",
       "<text x=\"-1.62\" y=\"-55.80000000000001\" fill=\"black\" font-size=\"9\"\n",
       "font-family=\"sans-serif\" text-anchor=\"end\"  transform=\" rotate(0 -1.62 -48.60000000000001)\"><tspan x=\"-1.62\" dy=\"7.2\">7</tspan></text>\n",
       "<text x=\"40.5\" y=\"-55.80000000000001\" fill=\"black\" font-size=\"9\"\n",
       "font-family=\"sans-serif\" text-anchor=\"start\"  transform=\" rotate(0 40.5 -48.60000000000001)\"><tspan x=\"40.5\" dy=\"7.2\">8</tspan></text>\n",
       "<text x=\"-1.62\" y=\"-36.36000000000001\" fill=\"black\" font-size=\"9\"\n",
       "font-family=\"sans-serif\" text-anchor=\"end\"  transform=\" rotate(0 -1.62 -29.160000000000004)\"><tspan x=\"-1.62\" dy=\"7.2\">9</tspan></text>\n",
       "<text x=\"40.5\" y=\"-36.36000000000001\" fill=\"black\" font-size=\"9\"\n",
       "font-family=\"sans-serif\" text-anchor=\"start\"  transform=\" rotate(0 40.5 -29.160000000000004)\"><tspan x=\"40.5\" dy=\"7.2\">10</tspan></text>\n",
       "<text x=\"-1.62\" y=\"-16.92\" fill=\"black\" font-size=\"9\"\n",
       "font-family=\"sans-serif\" text-anchor=\"end\"  transform=\" rotate(0 -1.62 -9.720000000000002)\"><tspan x=\"-1.62\" dy=\"7.2\">11</tspan></text>\n",
       "<text x=\"40.5\" y=\"-16.92\" fill=\"black\" font-size=\"9\"\n",
       "font-family=\"sans-serif\" text-anchor=\"start\"  transform=\" rotate(0 40.5 -9.720000000000002)\"><tspan x=\"40.5\" dy=\"7.2\">12</tspan></text>\n",
       "<text x=\"95.58\" y=\"-114.12\" fill=\"black\" font-size=\"9\"\n",
       "font-family=\"sans-serif\" text-anchor=\"end\"  transform=\" rotate(0 95.58 -106.92)\"><tspan x=\"95.58\" dy=\"7.2\">1</tspan></text>\n",
       "<text x=\"137.7\" y=\"-114.12\" fill=\"black\" font-size=\"9\"\n",
       "font-family=\"sans-serif\" text-anchor=\"start\"  transform=\" rotate(0 137.7 -106.92)\"><tspan x=\"137.7\" dy=\"7.2\">7</tspan></text>\n",
       "<text x=\"95.58\" y=\"-94.68\" fill=\"black\" font-size=\"9\"\n",
       "font-family=\"sans-serif\" text-anchor=\"end\"  transform=\" rotate(0 95.58 -87.48)\"><tspan x=\"95.58\" dy=\"7.2\">2</tspan></text>\n",
       "<text x=\"137.7\" y=\"-94.68\" fill=\"black\" font-size=\"9\"\n",
       "font-family=\"sans-serif\" text-anchor=\"start\"  transform=\" rotate(0 137.7 -87.48)\"><tspan x=\"137.7\" dy=\"7.2\">8</tspan></text>\n",
       "<text x=\"95.58\" y=\"-75.24000000000002\" fill=\"black\" font-size=\"9\"\n",
       "font-family=\"sans-serif\" text-anchor=\"end\"  transform=\" rotate(0 95.58 -68.04000000000002)\"><tspan x=\"95.58\" dy=\"7.2\">3</tspan></text>\n",
       "<text x=\"137.7\" y=\"-75.24000000000002\" fill=\"black\" font-size=\"9\"\n",
       "font-family=\"sans-serif\" text-anchor=\"start\"  transform=\" rotate(0 137.7 -68.04000000000002)\"><tspan x=\"137.7\" dy=\"7.2\">9</tspan></text>\n",
       "<text x=\"95.58\" y=\"-55.80000000000001\" fill=\"black\" font-size=\"9\"\n",
       "font-family=\"sans-serif\" text-anchor=\"end\"  transform=\" rotate(0 95.58 -48.60000000000001)\"><tspan x=\"95.58\" dy=\"7.2\">4</tspan></text>\n",
       "<text x=\"137.7\" y=\"-55.80000000000001\" fill=\"black\" font-size=\"9\"\n",
       "font-family=\"sans-serif\" text-anchor=\"start\"  transform=\" rotate(0 137.7 -48.60000000000001)\"><tspan x=\"137.7\" dy=\"7.2\">10</tspan></text>\n",
       "<text x=\"95.58\" y=\"-36.36000000000001\" fill=\"black\" font-size=\"9\"\n",
       "font-family=\"sans-serif\" text-anchor=\"end\"  transform=\" rotate(0 95.58 -29.160000000000004)\"><tspan x=\"95.58\" dy=\"7.2\">5</tspan></text>\n",
       "<text x=\"137.7\" y=\"-36.36000000000001\" fill=\"black\" font-size=\"9\"\n",
       "font-family=\"sans-serif\" text-anchor=\"start\"  transform=\" rotate(0 137.7 -29.160000000000004)\"><tspan x=\"137.7\" dy=\"7.2\">11</tspan></text>\n",
       "<text x=\"95.58\" y=\"-16.92\" fill=\"black\" font-size=\"9\"\n",
       "font-family=\"sans-serif\" text-anchor=\"end\"  transform=\" rotate(0 95.58 -9.720000000000002)\"><tspan x=\"95.58\" dy=\"7.2\">6</tspan></text>\n",
       "<text x=\"137.7\" y=\"-16.92\" fill=\"black\" font-size=\"9\"\n",
       "font-family=\"sans-serif\" text-anchor=\"start\"  transform=\" rotate(0 137.7 -9.720000000000002)\"><tspan x=\"137.7\" dy=\"7.2\">12</tspan></text>\n",
       "<text x=\"192.78\" y=\"-114.12\" fill=\"black\" font-size=\"9\"\n",
       "font-family=\"sans-serif\" text-anchor=\"end\"  transform=\" rotate(0 192.78 -106.92)\"><tspan x=\"192.78\" dy=\"7.2\">1</tspan></text>\n",
       "<text x=\"234.89999999999998\" y=\"-114.12\" fill=\"black\" font-size=\"9\"\n",
       "font-family=\"sans-serif\" text-anchor=\"start\"  transform=\" rotate(0 234.89999999999998 -106.92)\"><tspan x=\"234.89999999999998\" dy=\"7.2\">12</tspan></text>\n",
       "<text x=\"192.78\" y=\"-94.68\" fill=\"black\" font-size=\"9\"\n",
       "font-family=\"sans-serif\" text-anchor=\"end\"  transform=\" rotate(0 192.78 -87.48)\"><tspan x=\"192.78\" dy=\"7.2\">2</tspan></text>\n",
       "<text x=\"234.89999999999998\" y=\"-94.68\" fill=\"black\" font-size=\"9\"\n",
       "font-family=\"sans-serif\" text-anchor=\"start\"  transform=\" rotate(0 234.89999999999998 -87.48)\"><tspan x=\"234.89999999999998\" dy=\"7.2\">11</tspan></text>\n",
       "<text x=\"192.78\" y=\"-75.24000000000002\" fill=\"black\" font-size=\"9\"\n",
       "font-family=\"sans-serif\" text-anchor=\"end\"  transform=\" rotate(0 192.78 -68.04000000000002)\"><tspan x=\"192.78\" dy=\"7.2\">3</tspan></text>\n",
       "<text x=\"234.89999999999998\" y=\"-75.24000000000002\" fill=\"black\" font-size=\"9\"\n",
       "font-family=\"sans-serif\" text-anchor=\"start\"  transform=\" rotate(0 234.89999999999998 -68.04000000000002)\"><tspan x=\"234.89999999999998\" dy=\"7.2\">10</tspan></text>\n",
       "<text x=\"192.78\" y=\"-55.80000000000001\" fill=\"black\" font-size=\"9\"\n",
       "font-family=\"sans-serif\" text-anchor=\"end\"  transform=\" rotate(0 192.78 -48.60000000000001)\"><tspan x=\"192.78\" dy=\"7.2\">4</tspan></text>\n",
       "<text x=\"234.89999999999998\" y=\"-55.80000000000001\" fill=\"black\" font-size=\"9\"\n",
       "font-family=\"sans-serif\" text-anchor=\"start\"  transform=\" rotate(0 234.89999999999998 -48.60000000000001)\"><tspan x=\"234.89999999999998\" dy=\"7.2\">9</tspan></text>\n",
       "<text x=\"192.78\" y=\"-36.36000000000001\" fill=\"black\" font-size=\"9\"\n",
       "font-family=\"sans-serif\" text-anchor=\"end\"  transform=\" rotate(0 192.78 -29.160000000000004)\"><tspan x=\"192.78\" dy=\"7.2\">5</tspan></text>\n",
       "<text x=\"234.89999999999998\" y=\"-36.36000000000001\" fill=\"black\" font-size=\"9\"\n",
       "font-family=\"sans-serif\" text-anchor=\"start\"  transform=\" rotate(0 234.89999999999998 -29.160000000000004)\"><tspan x=\"234.89999999999998\" dy=\"7.2\">8</tspan></text>\n",
       "<text x=\"192.78\" y=\"-16.92\" fill=\"black\" font-size=\"9\"\n",
       "font-family=\"sans-serif\" text-anchor=\"end\"  transform=\" rotate(0 192.78 -9.720000000000002)\"><tspan x=\"192.78\" dy=\"7.2\">6</tspan></text>\n",
       "<text x=\"234.89999999999998\" y=\"-16.92\" fill=\"black\" font-size=\"9\"\n",
       "font-family=\"sans-serif\" text-anchor=\"start\"  transform=\" rotate(0 234.89999999999998 -9.720000000000002)\"><tspan x=\"234.89999999999998\" dy=\"7.2\">7</tspan></text>\n",
       "<circle cx=\"9.719999999999999\" cy=\"-106.92\" r=\"3.24\" style=\"stroke:black;fill:white;stroke-width:2;\"/>\n",
       "<circle cx=\"29.159999999999997\" cy=\"-106.92\" r=\"3.24\" style=\"stroke:black;fill:white;stroke-width:2;\"/>\n",
       "<circle cx=\"9.719999999999999\" cy=\"-87.48\" r=\"3.24\" style=\"stroke:black;fill:white;stroke-width:2;\"/>\n",
       "<circle cx=\"29.159999999999997\" cy=\"-87.48\" r=\"3.24\" style=\"stroke:black;fill:white;stroke-width:2;\"/>\n",
       "<circle cx=\"9.719999999999999\" cy=\"-68.04000000000002\" r=\"3.24\" style=\"stroke:black;fill:white;stroke-width:2;\"/>\n",
       "<circle cx=\"29.159999999999997\" cy=\"-68.04000000000002\" r=\"3.24\" style=\"stroke:black;fill:white;stroke-width:2;\"/>\n",
       "<circle cx=\"9.719999999999999\" cy=\"-48.60000000000001\" r=\"3.24\" style=\"stroke:black;fill:white;stroke-width:2;\"/>\n",
       "<circle cx=\"29.159999999999997\" cy=\"-48.60000000000001\" r=\"3.24\" style=\"stroke:black;fill:white;stroke-width:2;\"/>\n",
       "<circle cx=\"9.719999999999999\" cy=\"-29.160000000000004\" r=\"3.24\" style=\"stroke:black;fill:white;stroke-width:2;\"/>\n",
       "<circle cx=\"29.159999999999997\" cy=\"-29.160000000000004\" r=\"3.24\" style=\"stroke:black;fill:white;stroke-width:2;\"/>\n",
       "<circle cx=\"9.719999999999999\" cy=\"-9.720000000000002\" r=\"3.24\" style=\"stroke:black;fill:white;stroke-width:2;\"/>\n",
       "<circle cx=\"29.159999999999997\" cy=\"-9.720000000000002\" r=\"3.24\" style=\"stroke:black;fill:white;stroke-width:2;\"/>\n",
       "<circle cx=\"106.91999999999999\" cy=\"-106.92\" r=\"3.24\" style=\"stroke:black;fill:white;stroke-width:2;\"/>\n",
       "<circle cx=\"126.35999999999999\" cy=\"-106.92\" r=\"3.24\" style=\"stroke:black;fill:white;stroke-width:2;\"/>\n",
       "<circle cx=\"106.91999999999999\" cy=\"-87.48\" r=\"3.24\" style=\"stroke:black;fill:white;stroke-width:2;\"/>\n",
       "<circle cx=\"126.35999999999999\" cy=\"-87.48\" r=\"3.24\" style=\"stroke:black;fill:white;stroke-width:2;\"/>\n",
       "<circle cx=\"106.91999999999999\" cy=\"-68.04000000000002\" r=\"3.24\" style=\"stroke:black;fill:white;stroke-width:2;\"/>\n",
       "<circle cx=\"126.35999999999999\" cy=\"-68.04000000000002\" r=\"3.24\" style=\"stroke:black;fill:white;stroke-width:2;\"/>\n",
       "<circle cx=\"106.91999999999999\" cy=\"-48.60000000000001\" r=\"3.24\" style=\"stroke:black;fill:white;stroke-width:2;\"/>\n",
       "<circle cx=\"126.35999999999999\" cy=\"-48.60000000000001\" r=\"3.24\" style=\"stroke:black;fill:white;stroke-width:2;\"/>\n",
       "<circle cx=\"106.91999999999999\" cy=\"-29.160000000000004\" r=\"3.24\" style=\"stroke:black;fill:white;stroke-width:2;\"/>\n",
       "<circle cx=\"126.35999999999999\" cy=\"-29.160000000000004\" r=\"3.24\" style=\"stroke:black;fill:white;stroke-width:2;\"/>\n",
       "<circle cx=\"106.91999999999999\" cy=\"-9.720000000000002\" r=\"3.24\" style=\"stroke:black;fill:white;stroke-width:2;\"/>\n",
       "<circle cx=\"126.35999999999999\" cy=\"-9.720000000000002\" r=\"3.24\" style=\"stroke:black;fill:white;stroke-width:2;\"/>\n",
       "<circle cx=\"204.11999999999998\" cy=\"-106.92\" r=\"3.24\" style=\"stroke:black;fill:white;stroke-width:2;\"/>\n",
       "<circle cx=\"223.56\" cy=\"-106.92\" r=\"3.24\" style=\"stroke:black;fill:white;stroke-width:2;\"/>\n",
       "<circle cx=\"204.11999999999998\" cy=\"-87.48\" r=\"3.24\" style=\"stroke:black;fill:white;stroke-width:2;\"/>\n",
       "<circle cx=\"223.56\" cy=\"-87.48\" r=\"3.24\" style=\"stroke:black;fill:white;stroke-width:2;\"/>\n",
       "<circle cx=\"204.11999999999998\" cy=\"-68.04000000000002\" r=\"3.24\" style=\"stroke:black;fill:white;stroke-width:2;\"/>\n",
       "<circle cx=\"223.56\" cy=\"-68.04000000000002\" r=\"3.24\" style=\"stroke:black;fill:white;stroke-width:2;\"/>\n",
       "<circle cx=\"204.11999999999998\" cy=\"-48.60000000000001\" r=\"3.24\" style=\"stroke:black;fill:white;stroke-width:2;\"/>\n",
       "<circle cx=\"223.56\" cy=\"-48.60000000000001\" r=\"3.24\" style=\"stroke:black;fill:white;stroke-width:2;\"/>\n",
       "<circle cx=\"204.11999999999998\" cy=\"-29.160000000000004\" r=\"3.24\" style=\"stroke:black;fill:white;stroke-width:2;\"/>\n",
       "<circle cx=\"223.56\" cy=\"-29.160000000000004\" r=\"3.24\" style=\"stroke:black;fill:white;stroke-width:2;\"/>\n",
       "<circle cx=\"204.11999999999998\" cy=\"-9.720000000000002\" r=\"3.24\" style=\"stroke:black;fill:white;stroke-width:2;\"/>\n",
       "<circle cx=\"223.56\" cy=\"-9.720000000000002\" r=\"3.24\" style=\"stroke:black;fill:white;stroke-width:2;\"/></svg>"
      ],
      "text/plain": [
       "<svg xmlns=\"http://www.w3.org/2000/svg\" xml:lang=\"en\" height=\"123.88000000000001pt\" width=\"268.70799999999997pt\" viewBox=\"-16.093999999999998 -121.88000000000001 268.70799999999997 123.88000000000001\"><polygon points=\"0.0,-0.0 0.0,-116.64 38.879999999999995,-116.64 38.879999999999995,-0.0 \" style=\"stroke:black;fill:none;stroke-width:2;stroke-linecap:round;stroke-linejoin:round;\"/>\n",
       "<polygon points=\"97.19999999999999,-0.0 97.19999999999999,-116.64 136.08,-116.64 136.08,-0.0 \" style=\"stroke:black;fill:none;stroke-width:2;stroke-linecap:round;stroke-linejoin:round;\"/>\n",
       "<polygon points=\"194.39999999999998,-0.0 194.39999999999998,-116.64 233.28,-116.64 233.28,-0.0 \" style=\"stroke:black;fill:none;stroke-width:2;stroke-linecap:round;stroke-linejoin:round;\"/>\n",
       "<polygon points=\"196.01999999999998,-79.38 231.65999999999997,-79.38 231.65999999999997,-95.58 196.01999999999998,-95.58 \" style=\"stroke:black;fill:lightgray;stroke-width:2;stroke-linecap:round;stroke-linejoin:round;\"/>\n",
       "<text x=\"-1.62\" y=\"-114.12\" fill=\"black\" font-size=\"9\"\n",
       "font-family=\"sans-serif\" text-anchor=\"end\"  transform=\" rotate(0 -1.62 -106.92)\"><tspan x=\"-1.62\" dy=\"7.2\">1</tspan></text>\n",
       "<text x=\"40.5\" y=\"-114.12\" fill=\"black\" font-size=\"9\"\n",
       "font-family=\"sans-serif\" text-anchor=\"start\"  transform=\" rotate(0 40.5 -106.92)\"><tspan x=\"40.5\" dy=\"7.2\">2</tspan></text>\n",
       "<text x=\"-1.62\" y=\"-94.68\" fill=\"black\" font-size=\"9\"\n",
       "font-family=\"sans-serif\" text-anchor=\"end\"  transform=\" rotate(0 -1.62 -87.48)\"><tspan x=\"-1.62\" dy=\"7.2\">3</tspan></text>\n",
       "<text x=\"40.5\" y=\"-94.68\" fill=\"black\" font-size=\"9\"\n",
       "font-family=\"sans-serif\" text-anchor=\"start\"  transform=\" rotate(0 40.5 -87.48)\"><tspan x=\"40.5\" dy=\"7.2\">4</tspan></text>\n",
       "<text x=\"-1.62\" y=\"-75.24000000000002\" fill=\"black\" font-size=\"9\"\n",
       "font-family=\"sans-serif\" text-anchor=\"end\"  transform=\" rotate(0 -1.62 -68.04000000000002)\"><tspan x=\"-1.62\" dy=\"7.2\">5</tspan></text>\n",
       "<text x=\"40.5\" y=\"-75.24000000000002\" fill=\"black\" font-size=\"9\"\n",
       "font-family=\"sans-serif\" text-anchor=\"start\"  transform=\" rotate(0 40.5 -68.04000000000002)\"><tspan x=\"40.5\" dy=\"7.2\">6</tspan></text>\n",
       "<text x=\"-1.62\" y=\"-55.80000000000001\" fill=\"black\" font-size=\"9\"\n",
       "font-family=\"sans-serif\" text-anchor=\"end\"  transform=\" rotate(0 -1.62 -48.60000000000001)\"><tspan x=\"-1.62\" dy=\"7.2\">7</tspan></text>\n",
       "<text x=\"40.5\" y=\"-55.80000000000001\" fill=\"black\" font-size=\"9\"\n",
       "font-family=\"sans-serif\" text-anchor=\"start\"  transform=\" rotate(0 40.5 -48.60000000000001)\"><tspan x=\"40.5\" dy=\"7.2\">8</tspan></text>\n",
       "<text x=\"-1.62\" y=\"-36.36000000000001\" fill=\"black\" font-size=\"9\"\n",
       "font-family=\"sans-serif\" text-anchor=\"end\"  transform=\" rotate(0 -1.62 -29.160000000000004)\"><tspan x=\"-1.62\" dy=\"7.2\">9</tspan></text>\n",
       "<text x=\"40.5\" y=\"-36.36000000000001\" fill=\"black\" font-size=\"9\"\n",
       "font-family=\"sans-serif\" text-anchor=\"start\"  transform=\" rotate(0 40.5 -29.160000000000004)\"><tspan x=\"40.5\" dy=\"7.2\">10</tspan></text>\n",
       "<text x=\"-1.62\" y=\"-16.92\" fill=\"black\" font-size=\"9\"\n",
       "font-family=\"sans-serif\" text-anchor=\"end\"  transform=\" rotate(0 -1.62 -9.720000000000002)\"><tspan x=\"-1.62\" dy=\"7.2\">11</tspan></text>\n",
       "<text x=\"40.5\" y=\"-16.92\" fill=\"black\" font-size=\"9\"\n",
       "font-family=\"sans-serif\" text-anchor=\"start\"  transform=\" rotate(0 40.5 -9.720000000000002)\"><tspan x=\"40.5\" dy=\"7.2\">12</tspan></text>\n",
       "<text x=\"95.58\" y=\"-114.12\" fill=\"black\" font-size=\"9\"\n",
       "font-family=\"sans-serif\" text-anchor=\"end\"  transform=\" rotate(0 95.58 -106.92)\"><tspan x=\"95.58\" dy=\"7.2\">1</tspan></text>\n",
       "<text x=\"137.7\" y=\"-114.12\" fill=\"black\" font-size=\"9\"\n",
       "font-family=\"sans-serif\" text-anchor=\"start\"  transform=\" rotate(0 137.7 -106.92)\"><tspan x=\"137.7\" dy=\"7.2\">7</tspan></text>\n",
       "<text x=\"95.58\" y=\"-94.68\" fill=\"black\" font-size=\"9\"\n",
       "font-family=\"sans-serif\" text-anchor=\"end\"  transform=\" rotate(0 95.58 -87.48)\"><tspan x=\"95.58\" dy=\"7.2\">2</tspan></text>\n",
       "<text x=\"137.7\" y=\"-94.68\" fill=\"black\" font-size=\"9\"\n",
       "font-family=\"sans-serif\" text-anchor=\"start\"  transform=\" rotate(0 137.7 -87.48)\"><tspan x=\"137.7\" dy=\"7.2\">8</tspan></text>\n",
       "<text x=\"95.58\" y=\"-75.24000000000002\" fill=\"black\" font-size=\"9\"\n",
       "font-family=\"sans-serif\" text-anchor=\"end\"  transform=\" rotate(0 95.58 -68.04000000000002)\"><tspan x=\"95.58\" dy=\"7.2\">3</tspan></text>\n",
       "<text x=\"137.7\" y=\"-75.24000000000002\" fill=\"black\" font-size=\"9\"\n",
       "font-family=\"sans-serif\" text-anchor=\"start\"  transform=\" rotate(0 137.7 -68.04000000000002)\"><tspan x=\"137.7\" dy=\"7.2\">9</tspan></text>\n",
       "<text x=\"95.58\" y=\"-55.80000000000001\" fill=\"black\" font-size=\"9\"\n",
       "font-family=\"sans-serif\" text-anchor=\"end\"  transform=\" rotate(0 95.58 -48.60000000000001)\"><tspan x=\"95.58\" dy=\"7.2\">4</tspan></text>\n",
       "<text x=\"137.7\" y=\"-55.80000000000001\" fill=\"black\" font-size=\"9\"\n",
       "font-family=\"sans-serif\" text-anchor=\"start\"  transform=\" rotate(0 137.7 -48.60000000000001)\"><tspan x=\"137.7\" dy=\"7.2\">10</tspan></text>\n",
       "<text x=\"95.58\" y=\"-36.36000000000001\" fill=\"black\" font-size=\"9\"\n",
       "font-family=\"sans-serif\" text-anchor=\"end\"  transform=\" rotate(0 95.58 -29.160000000000004)\"><tspan x=\"95.58\" dy=\"7.2\">5</tspan></text>\n",
       "<text x=\"137.7\" y=\"-36.36000000000001\" fill=\"black\" font-size=\"9\"\n",
       "font-family=\"sans-serif\" text-anchor=\"start\"  transform=\" rotate(0 137.7 -29.160000000000004)\"><tspan x=\"137.7\" dy=\"7.2\">11</tspan></text>\n",
       "<text x=\"95.58\" y=\"-16.92\" fill=\"black\" font-size=\"9\"\n",
       "font-family=\"sans-serif\" text-anchor=\"end\"  transform=\" rotate(0 95.58 -9.720000000000002)\"><tspan x=\"95.58\" dy=\"7.2\">6</tspan></text>\n",
       "<text x=\"137.7\" y=\"-16.92\" fill=\"black\" font-size=\"9\"\n",
       "font-family=\"sans-serif\" text-anchor=\"start\"  transform=\" rotate(0 137.7 -9.720000000000002)\"><tspan x=\"137.7\" dy=\"7.2\">12</tspan></text>\n",
       "<text x=\"192.78\" y=\"-114.12\" fill=\"black\" font-size=\"9\"\n",
       "font-family=\"sans-serif\" text-anchor=\"end\"  transform=\" rotate(0 192.78 -106.92)\"><tspan x=\"192.78\" dy=\"7.2\">1</tspan></text>\n",
       "<text x=\"234.89999999999998\" y=\"-114.12\" fill=\"black\" font-size=\"9\"\n",
       "font-family=\"sans-serif\" text-anchor=\"start\"  transform=\" rotate(0 234.89999999999998 -106.92)\"><tspan x=\"234.89999999999998\" dy=\"7.2\">12</tspan></text>\n",
       "<text x=\"192.78\" y=\"-94.68\" fill=\"black\" font-size=\"9\"\n",
       "font-family=\"sans-serif\" text-anchor=\"end\"  transform=\" rotate(0 192.78 -87.48)\"><tspan x=\"192.78\" dy=\"7.2\">2</tspan></text>\n",
       "<text x=\"234.89999999999998\" y=\"-94.68\" fill=\"black\" font-size=\"9\"\n",
       "font-family=\"sans-serif\" text-anchor=\"start\"  transform=\" rotate(0 234.89999999999998 -87.48)\"><tspan x=\"234.89999999999998\" dy=\"7.2\">11</tspan></text>\n",
       "<text x=\"192.78\" y=\"-75.24000000000002\" fill=\"black\" font-size=\"9\"\n",
       "font-family=\"sans-serif\" text-anchor=\"end\"  transform=\" rotate(0 192.78 -68.04000000000002)\"><tspan x=\"192.78\" dy=\"7.2\">3</tspan></text>\n",
       "<text x=\"234.89999999999998\" y=\"-75.24000000000002\" fill=\"black\" font-size=\"9\"\n",
       "font-family=\"sans-serif\" text-anchor=\"start\"  transform=\" rotate(0 234.89999999999998 -68.04000000000002)\"><tspan x=\"234.89999999999998\" dy=\"7.2\">10</tspan></text>\n",
       "<text x=\"192.78\" y=\"-55.80000000000001\" fill=\"black\" font-size=\"9\"\n",
       "font-family=\"sans-serif\" text-anchor=\"end\"  transform=\" rotate(0 192.78 -48.60000000000001)\"><tspan x=\"192.78\" dy=\"7.2\">4</tspan></text>\n",
       "<text x=\"234.89999999999998\" y=\"-55.80000000000001\" fill=\"black\" font-size=\"9\"\n",
       "font-family=\"sans-serif\" text-anchor=\"start\"  transform=\" rotate(0 234.89999999999998 -48.60000000000001)\"><tspan x=\"234.89999999999998\" dy=\"7.2\">9</tspan></text>\n",
       "<text x=\"192.78\" y=\"-36.36000000000001\" fill=\"black\" font-size=\"9\"\n",
       "font-family=\"sans-serif\" text-anchor=\"end\"  transform=\" rotate(0 192.78 -29.160000000000004)\"><tspan x=\"192.78\" dy=\"7.2\">5</tspan></text>\n",
       "<text x=\"234.89999999999998\" y=\"-36.36000000000001\" fill=\"black\" font-size=\"9\"\n",
       "font-family=\"sans-serif\" text-anchor=\"start\"  transform=\" rotate(0 234.89999999999998 -29.160000000000004)\"><tspan x=\"234.89999999999998\" dy=\"7.2\">8</tspan></text>\n",
       "<text x=\"192.78\" y=\"-16.92\" fill=\"black\" font-size=\"9\"\n",
       "font-family=\"sans-serif\" text-anchor=\"end\"  transform=\" rotate(0 192.78 -9.720000000000002)\"><tspan x=\"192.78\" dy=\"7.2\">6</tspan></text>\n",
       "<text x=\"234.89999999999998\" y=\"-16.92\" fill=\"black\" font-size=\"9\"\n",
       "font-family=\"sans-serif\" text-anchor=\"start\"  transform=\" rotate(0 234.89999999999998 -9.720000000000002)\"><tspan x=\"234.89999999999998\" dy=\"7.2\">7</tspan></text>\n",
       "<circle cx=\"9.719999999999999\" cy=\"-106.92\" r=\"3.24\" style=\"stroke:black;fill:white;stroke-width:2;\"/>\n",
       "<circle cx=\"29.159999999999997\" cy=\"-106.92\" r=\"3.24\" style=\"stroke:black;fill:white;stroke-width:2;\"/>\n",
       "<circle cx=\"9.719999999999999\" cy=\"-87.48\" r=\"3.24\" style=\"stroke:black;fill:white;stroke-width:2;\"/>\n",
       "<circle cx=\"29.159999999999997\" cy=\"-87.48\" r=\"3.24\" style=\"stroke:black;fill:white;stroke-width:2;\"/>\n",
       "<circle cx=\"9.719999999999999\" cy=\"-68.04000000000002\" r=\"3.24\" style=\"stroke:black;fill:white;stroke-width:2;\"/>\n",
       "<circle cx=\"29.159999999999997\" cy=\"-68.04000000000002\" r=\"3.24\" style=\"stroke:black;fill:white;stroke-width:2;\"/>\n",
       "<circle cx=\"9.719999999999999\" cy=\"-48.60000000000001\" r=\"3.24\" style=\"stroke:black;fill:white;stroke-width:2;\"/>\n",
       "<circle cx=\"29.159999999999997\" cy=\"-48.60000000000001\" r=\"3.24\" style=\"stroke:black;fill:white;stroke-width:2;\"/>\n",
       "<circle cx=\"9.719999999999999\" cy=\"-29.160000000000004\" r=\"3.24\" style=\"stroke:black;fill:white;stroke-width:2;\"/>\n",
       "<circle cx=\"29.159999999999997\" cy=\"-29.160000000000004\" r=\"3.24\" style=\"stroke:black;fill:white;stroke-width:2;\"/>\n",
       "<circle cx=\"9.719999999999999\" cy=\"-9.720000000000002\" r=\"3.24\" style=\"stroke:black;fill:white;stroke-width:2;\"/>\n",
       "<circle cx=\"29.159999999999997\" cy=\"-9.720000000000002\" r=\"3.24\" style=\"stroke:black;fill:white;stroke-width:2;\"/>\n",
       "<circle cx=\"106.91999999999999\" cy=\"-106.92\" r=\"3.24\" style=\"stroke:black;fill:white;stroke-width:2;\"/>\n",
       "<circle cx=\"126.35999999999999\" cy=\"-106.92\" r=\"3.24\" style=\"stroke:black;fill:white;stroke-width:2;\"/>\n",
       "<circle cx=\"106.91999999999999\" cy=\"-87.48\" r=\"3.24\" style=\"stroke:black;fill:white;stroke-width:2;\"/>\n",
       "<circle cx=\"126.35999999999999\" cy=\"-87.48\" r=\"3.24\" style=\"stroke:black;fill:white;stroke-width:2;\"/>\n",
       "<circle cx=\"106.91999999999999\" cy=\"-68.04000000000002\" r=\"3.24\" style=\"stroke:black;fill:white;stroke-width:2;\"/>\n",
       "<circle cx=\"126.35999999999999\" cy=\"-68.04000000000002\" r=\"3.24\" style=\"stroke:black;fill:white;stroke-width:2;\"/>\n",
       "<circle cx=\"106.91999999999999\" cy=\"-48.60000000000001\" r=\"3.24\" style=\"stroke:black;fill:white;stroke-width:2;\"/>\n",
       "<circle cx=\"126.35999999999999\" cy=\"-48.60000000000001\" r=\"3.24\" style=\"stroke:black;fill:white;stroke-width:2;\"/>\n",
       "<circle cx=\"106.91999999999999\" cy=\"-29.160000000000004\" r=\"3.24\" style=\"stroke:black;fill:white;stroke-width:2;\"/>\n",
       "<circle cx=\"126.35999999999999\" cy=\"-29.160000000000004\" r=\"3.24\" style=\"stroke:black;fill:white;stroke-width:2;\"/>\n",
       "<circle cx=\"106.91999999999999\" cy=\"-9.720000000000002\" r=\"3.24\" style=\"stroke:black;fill:white;stroke-width:2;\"/>\n",
       "<circle cx=\"126.35999999999999\" cy=\"-9.720000000000002\" r=\"3.24\" style=\"stroke:black;fill:white;stroke-width:2;\"/>\n",
       "<circle cx=\"204.11999999999998\" cy=\"-106.92\" r=\"3.24\" style=\"stroke:black;fill:white;stroke-width:2;\"/>\n",
       "<circle cx=\"223.56\" cy=\"-106.92\" r=\"3.24\" style=\"stroke:black;fill:white;stroke-width:2;\"/>\n",
       "<circle cx=\"204.11999999999998\" cy=\"-87.48\" r=\"3.24\" style=\"stroke:black;fill:white;stroke-width:2;\"/>\n",
       "<circle cx=\"223.56\" cy=\"-87.48\" r=\"3.24\" style=\"stroke:black;fill:white;stroke-width:2;\"/>\n",
       "<circle cx=\"204.11999999999998\" cy=\"-68.04000000000002\" r=\"3.24\" style=\"stroke:black;fill:white;stroke-width:2;\"/>\n",
       "<circle cx=\"223.56\" cy=\"-68.04000000000002\" r=\"3.24\" style=\"stroke:black;fill:white;stroke-width:2;\"/>\n",
       "<circle cx=\"204.11999999999998\" cy=\"-48.60000000000001\" r=\"3.24\" style=\"stroke:black;fill:white;stroke-width:2;\"/>\n",
       "<circle cx=\"223.56\" cy=\"-48.60000000000001\" r=\"3.24\" style=\"stroke:black;fill:white;stroke-width:2;\"/>\n",
       "<circle cx=\"204.11999999999998\" cy=\"-29.160000000000004\" r=\"3.24\" style=\"stroke:black;fill:white;stroke-width:2;\"/>\n",
       "<circle cx=\"223.56\" cy=\"-29.160000000000004\" r=\"3.24\" style=\"stroke:black;fill:white;stroke-width:2;\"/>\n",
       "<circle cx=\"204.11999999999998\" cy=\"-9.720000000000002\" r=\"3.24\" style=\"stroke:black;fill:white;stroke-width:2;\"/>\n",
       "<circle cx=\"223.56\" cy=\"-9.720000000000002\" r=\"3.24\" style=\"stroke:black;fill:white;stroke-width:2;\"/></svg>"
      ]
     },
     "execution_count": 23,
     "metadata": {},
     "output_type": "execute_result"
    }
   ],
   "source": [
    "d = schemdraw.Drawing()\n",
    "d += elm.Header(numbering='lr', shownumber=True, rows=6, cols=2)\n",
    "d += elm.Header(numbering='ud', shownumber=True, rows=6, cols=2).at((3, 0))\n",
    "d += (J:=elm.Header(numbering='ccw', shownumber=True, rows=6, cols=2).at((6, 0)))\n",
    "d += elm.Jumper().at(J.pin2).fill('lightgray')\n",
    "d.draw()"
   ]
  },
  {
   "cell_type": "code",
   "execution_count": 24,
   "metadata": {},
   "outputs": [
    {
     "data": {
      "image/png": "[encoded data removed]",
      "image/svg+xml": [
       "<svg xmlns=\"http://www.w3.org/2000/svg\" xml:lang=\"en\" height=\"68.8pt\" width=\"65.39797993388339pt\" viewBox=\"-10.100000000000012 -2.0 65.39797993388339 68.8\"><path d=\"M -8.100000000000012,58.32 L -8.100000000000012,6.48 L 53.297979933883376,6.48 L 53.297979933883376,58.32 L -8.100000000000012,58.32\" style=\"stroke:black;fill:none;stroke-width:2;stroke-linecap:round;stroke-linejoin:round;\" />\n",
       "<path d=\"M -0.0 16.2 a 4.05 4.05 -270 1 1 0.0 8.100000000000001\" stroke=\"black\" stroke-width=\"2\" fill=\"none\"/>\n",
       "<path d=\"M -0.0 24.3 a 4.05 4.05 -270 1 1 0.0 8.099999999999998\" stroke=\"black\" stroke-width=\"2\" fill=\"none\"/>\n",
       "<path d=\"M -0.0 32.4 a 4.05 4.05 -270 1 1 0.0 8.100000000000001\" stroke=\"black\" stroke-width=\"2\" fill=\"none\"/>\n",
       "<path d=\"M -0.0 40.5 a 4.05 4.05 -270 1 1 0.0 8.100000000000001\" stroke=\"black\" stroke-width=\"2\" fill=\"none\"/>\n",
       "<circle cx=\"30.61797993388338\" cy=\"20.087999999999997\" r=\"3.888\" style=\"stroke:black;fill:none;stroke-width:2;\"/>\n",
       "<circle cx=\"30.617979933883376\" cy=\"44.711999999999996\" r=\"3.888\" style=\"stroke:black;fill:none;stroke-width:2;\"/>\n",
       "<path d=\"M 0.0,-0.0 L -2.975891721928068e-15,16.2 M -8.927675165784204e-15,48.599999999999994 L -1.1903566887712272e-14,64.8\" style=\"stroke:black;fill:none;stroke-width:2;stroke-linecap:round;stroke-linejoin:round;\" />\n",
       "<path d=\"M 8.909979933883388,16.2 L 8.909979933883385,32.4 L 8.909979933883381,48.599999999999994\" style=\"stroke:black;fill:none;stroke-width:2;stroke-linecap:round;stroke-linejoin:round;\" />\n",
       "<path d=\"M 30.617979933883383,-0.0 L 30.61797993388338,16.2 M 33.85797993388338,23.976 L 45.197979933883374,42.12 M 30.617979933883376,48.599999999999994 L 30.617979933883372,64.8\" style=\"stroke:black;fill:none;stroke-width:2;stroke-linecap:round;stroke-linejoin:round;\" />\n",
       "<path d=\"M 10.529979933883386,32.4 L 17.73896990082508,32.4 L 24.947959867766773,32.4\" style=\"stroke:black;fill:none;stroke-width:2;stroke-dasharray:2,3.3;stroke-linecap:round;stroke-linejoin:round;\" /></svg>"
      ],
      "text/plain": [
       "<schemdraw.elements.compound.Relay at 0x7c3794e6e820>"
      ]
     },
     "execution_count": 24,
     "metadata": {},
     "output_type": "execute_result"
    }
   ],
   "source": [
    "# Compound Elements\n",
    "elm.Relay()"
   ]
  },
  {
   "cell_type": "code",
   "execution_count": 25,
   "metadata": {},
   "outputs": [
    {
     "data": {
      "image/png": "[encoded data removed]",
      "image/svg+xml": [
       "<svg xmlns=\"http://www.w3.org/2000/svg\" xml:lang=\"en\" height=\"84.07134349911514pt\" width=\"84.07134349911514pt\" viewBox=\"-3.1455129855222164 -35.105311092704646 84.07134349911514 84.07134349911514\"><path d=\"M 35.5109025511884,46.9660324064105 L -1.1455129855222164,10.309616869699871 L 42.269414976882295,-33.105311092704646 L 78.92583051359291,3.551104444005984 L 35.5109025511884,46.9660324064105\" style=\"stroke:black;fill:none;stroke-width:2;stroke-linecap:round;stroke-linejoin:round;\" />\n",
       "<path d=\"M 11.46 11.46 a 4.05 4.05 -315 1 1 5.719999999999999 5.719999999999999\" stroke=\"black\" stroke-width=\"2\" fill=\"none\"/>\n",
       "<path d=\"M 17.18 17.18 a 4.05 4.05 -315 1 1 5.73 5.73\" stroke=\"black\" stroke-width=\"2\" fill=\"none\"/>\n",
       "<path d=\"M 22.91 22.91 a 4.05 4.05 -315 1 1 5.73 5.73\" stroke=\"black\" stroke-width=\"2\" fill=\"none\"/>\n",
       "<path d=\"M 28.64 28.64 a 4.05 4.05 -315 1 1 5.729999999999997 5.729999999999997\" stroke=\"black\" stroke-width=\"2\" fill=\"none\"/>\n",
       "<circle cx=\"35.854542257957945\" cy=\"-7.445820217007211\" r=\"3.888\" style=\"stroke:black;fill:none;stroke-width:2;\"/>\n",
       "<circle cx=\"53.266339637895484\" cy=\"9.965977162930338\" r=\"3.888\" style=\"stroke:black;fill:none;stroke-width:2;\"/>\n",
       "<path d=\"M 0.0,-0.0 L 11.455129855222067,11.455129855222072 M 34.3653895656662,34.36538956566622 L 45.82051942088827,45.82051942088829\" style=\"stroke:black;fill:none;stroke-width:2;stroke-linecap:round;stroke-linejoin:round;\" />\n",
       "<path d=\"M 17.75543708670708,5.15482262373706 L 29.210566941929144,16.609952478959134 L 40.665696797151206,28.065082334181206\" style=\"stroke:black;fill:none;stroke-width:2;stroke-linecap:round;stroke-linejoin:round;\" />\n",
       "<path d=\"M 21.650181237482585,-21.65018123748258 L 33.105311092704646,-10.195051382260507 M 40.89479939425566,-6.987615022798326 L 61.74313573075982,-2.1764604836050503 M 56.01557080314878,12.715208328183639 L 67.47070065837084,24.17033818340571\" style=\"stroke:black;fill:none;stroke-width:2;stroke-linecap:round;stroke-linejoin:round;\" />\n",
       "<path d=\"M 30.356079927451354,15.464439493436926 L 35.45360561858161,10.36691380230667 L 40.55113130971186,5.269388111176415\" style=\"stroke:black;fill:none;stroke-width:2;stroke-dasharray:2,3.3;stroke-linecap:round;stroke-linejoin:round;\" /></svg>"
      ],
      "text/plain": [
       "<schemdraw.elements.compound.Relay at 0x7c3794e83340>"
      ]
     },
     "execution_count": 25,
     "metadata": {},
     "output_type": "execute_result"
    }
   ],
   "source": [
    "elm.Relay(cycloid=True, theta=45)"
   ]
  },
  {
   "cell_type": "code",
   "execution_count": 26,
   "metadata": {},
   "outputs": [
    {
     "data": {
      "image/png": "[encoded data removed]",
      "image/svg+xml": [
       "<svg xmlns=\"http://www.w3.org/2000/svg\" xml:lang=\"en\" height=\"68.8pt\" width=\"61.18597993388339pt\" viewBox=\"-2.000000000000012 -2.0 61.18597993388339 68.8\"><path d=\"M -0.0 16.2 a 4.05 4.05 -270 1 1 0.0 8.100000000000001\" stroke=\"black\" stroke-width=\"2\" fill=\"none\"/>\n",
       "<path d=\"M -0.0 24.3 a 4.05 4.05 -270 1 1 0.0 8.099999999999998\" stroke=\"black\" stroke-width=\"2\" fill=\"none\"/>\n",
       "<path d=\"M -0.0 32.4 a 4.05 4.05 -270 1 1 0.0 8.100000000000001\" stroke=\"black\" stroke-width=\"2\" fill=\"none\"/>\n",
       "<path d=\"M -0.0 40.5 a 4.05 4.05 -270 1 1 0.0 8.100000000000001\" stroke=\"black\" stroke-width=\"2\" fill=\"none\"/>\n",
       "<circle cx=\"40.33797993388338\" cy=\"20.087999999999997\" r=\"3.888\" style=\"stroke:black;fill:none;stroke-width:2;\"/>\n",
       "<circle cx=\"27.37797993388338\" cy=\"44.711999999999996\" r=\"3.888\" style=\"stroke:black;fill:none;stroke-width:2;\"/>\n",
       "<circle cx=\"53.29797993388338\" cy=\"44.712\" r=\"3.888\" style=\"stroke:black;fill:none;stroke-width:2;\"/>\n",
       "<path d=\"M 0.0,-0.0 L -2.975891721928068e-15,16.2 M -8.927675165784204e-15,48.599999999999994 L -1.1903566887712272e-14,64.8\" style=\"stroke:black;fill:none;stroke-width:2;stroke-linecap:round;stroke-linejoin:round;\" />\n",
       "<path d=\"M 40.33797993388338,16.2 M 43.57797993388338,23.976 L 48.437979933883376,38.879999999999995 M 53.29797993388338,48.599999999999994\" style=\"stroke:black;fill:none;stroke-width:2;stroke-linecap:round;stroke-linejoin:round;\" />\n",
       "<path d=\"M 40.33797993388338,16.2 L 40.33797993388338,8.1 L 40.33797993388338,-0.0\" style=\"stroke:black;fill:none;stroke-width:2;stroke-linecap:round;stroke-linejoin:round;\" />\n",
       "<path d=\"M 53.29797993388338,48.599999999999994 L 53.29797993388338,56.699999999999996 L 53.29797993388338,64.8\" style=\"stroke:black;fill:none;stroke-width:2;stroke-linecap:round;stroke-linejoin:round;\" />\n",
       "<path d=\"M 27.37797993388338,48.599999999999994 L 27.37797993388338,56.699999999999996 L 27.377979933883378,64.8\" style=\"stroke:black;fill:none;stroke-width:2;stroke-linecap:round;stroke-linejoin:round;\" />\n",
       "<path d=\"M 10.529979933883386,32.4 L 24.21896990082508,32.4 L 37.90795986776678,32.4\" style=\"stroke:black;fill:none;stroke-width:2;stroke-dasharray:2,3.3;stroke-linecap:round;stroke-linejoin:round;\" /></svg>"
      ],
      "text/plain": [
       "<schemdraw.elements.compound.Relay at 0x7c3794ed2bb0>"
      ]
     },
     "execution_count": 26,
     "metadata": {},
     "output_type": "execute_result"
    }
   ],
   "source": [
    "elm.Relay(switch='spdt', box=False, core=False)"
   ]
  },
  {
   "cell_type": "code",
   "execution_count": 27,
   "metadata": {},
   "outputs": [
    {
     "data": {
      "image/png": "[encoded data removed]",
      "image/svg+xml": [
       "<svg xmlns=\"http://www.w3.org/2000/svg\" xml:lang=\"en\" height=\"68.8pt\" width=\"64.4259799338834pt\" viewBox=\"-2.000000000000012 -2.0 64.4259799338834 68.8\"><path d=\"M -0.0 16.2 a 4.05 4.05 -270 1 1 0.0 8.100000000000001\" stroke=\"black\" stroke-width=\"2\" fill=\"none\"/>\n",
       "<path d=\"M -0.0 24.3 a 4.05 4.05 -270 1 1 0.0 8.099999999999998\" stroke=\"black\" stroke-width=\"2\" fill=\"none\"/>\n",
       "<path d=\"M -0.0 32.4 a 4.05 4.05 -270 1 1 0.0 8.100000000000001\" stroke=\"black\" stroke-width=\"2\" fill=\"none\"/>\n",
       "<path d=\"M -0.0 40.5 a 4.05 4.05 -270 1 1 0.0 8.100000000000001\" stroke=\"black\" stroke-width=\"2\" fill=\"none\"/>\n",
       "<circle cx=\"43.57797993388337\" cy=\"44.711999999999996\" r=\"3.888\" style=\"stroke:black;fill:none;stroke-width:2;\"/>\n",
       "<circle cx=\"30.61797993388338\" cy=\"20.087999999999994\" r=\"3.888\" style=\"stroke:black;fill:none;stroke-width:2;\"/>\n",
       "<circle cx=\"56.53797993388338\" cy=\"20.088\" r=\"3.888\" style=\"stroke:black;fill:none;stroke-width:2;\"/>\n",
       "<path d=\"M 0.0,-0.0 L -2.975891721928068e-15,16.2 M -8.927675165784204e-15,48.599999999999994 L -1.1903566887712272e-14,64.8\" style=\"stroke:black;fill:none;stroke-width:2;stroke-linecap:round;stroke-linejoin:round;\" />\n",
       "<path d=\"M 8.909979933883388,16.2 L 8.909979933883385,32.4 L 8.909979933883381,48.599999999999994\" style=\"stroke:black;fill:none;stroke-width:2;stroke-linecap:round;stroke-linejoin:round;\" />\n",
       "<path d=\"M 56.53797993388338,16.200000000000003 M 51.67797993388338,25.92 L 46.81797993388338,40.824 M 43.57797993388337,48.599999999999994\" style=\"stroke:black;fill:none;stroke-width:2;stroke-linecap:round;stroke-linejoin:round;\" />\n",
       "<path d=\"M 43.57797993388337,48.599999999999994 L 43.57797993388337,56.699999999999996 L 43.57797993388337,64.8\" style=\"stroke:black;fill:none;stroke-width:2;stroke-linecap:round;stroke-linejoin:round;\" />\n",
       "<path d=\"M 56.53797993388338,16.200000000000003 L 56.53797993388338,8.100000000000001 L 56.53797993388338,-0.0\" style=\"stroke:black;fill:none;stroke-width:2;stroke-linecap:round;stroke-linejoin:round;\" />\n",
       "<path d=\"M 30.61797993388338,16.199999999999996 L 30.61797993388338,8.099999999999998 L 30.61797993388338,-0.0\" style=\"stroke:black;fill:none;stroke-width:2;stroke-linecap:round;stroke-linejoin:round;\" /></svg>"
      ],
      "text/plain": [
       "<schemdraw.elements.compound.Relay at 0x7c3794ee61c0>"
      ]
     },
     "execution_count": 27,
     "metadata": {},
     "output_type": "execute_result"
    }
   ],
   "source": [
    "elm.Relay(switch='spdt', box=False, swreverse=True, link=False)"
   ]
  },
  {
   "cell_type": "code",
   "execution_count": 28,
   "metadata": {},
   "outputs": [
    {
     "data": {
      "image/png": "[encoded data removed]",
      "image/svg+xml": [
       "<svg xmlns=\"http://www.w3.org/2000/svg\" xml:lang=\"en\" height=\"68.8pt\" width=\"125.98597993388339pt\" viewBox=\"-10.100000000000012 -2.0 125.98597993388339 68.8\"><path d=\"M -8.100000000000012,58.32 L -8.100000000000012,6.48 L 113.88597993388338,6.48 L 113.88597993388338,58.32 L -8.100000000000012,58.32\" style=\"stroke:black;fill:lightgray;stroke-width:2;stroke-linecap:round;stroke-linejoin:round;\" />\n",
       "<path d=\"M -0.0 16.2 a 4.05 4.05 -270 1 1 0.0 8.100000000000001\" stroke=\"black\" stroke-width=\"2\" fill=\"none\"/>\n",
       "<path d=\"M -0.0 24.3 a 4.05 4.05 -270 1 1 0.0 8.099999999999998\" stroke=\"black\" stroke-width=\"2\" fill=\"none\"/>\n",
       "<path d=\"M -0.0 32.4 a 4.05 4.05 -270 1 1 0.0 8.100000000000001\" stroke=\"black\" stroke-width=\"2\" fill=\"none\"/>\n",
       "<path d=\"M -0.0 40.5 a 4.05 4.05 -270 1 1 0.0 8.100000000000001\" stroke=\"black\" stroke-width=\"2\" fill=\"none\"/>\n",
       "<circle cx=\"88.93797993388337\" cy=\"20.087999999999997\" r=\"3.888\" style=\"stroke:black;fill:none;stroke-width:2;\"/>\n",
       "<circle cx=\"75.97797993388336\" cy=\"44.711999999999996\" r=\"3.888\" style=\"stroke:black;fill:none;stroke-width:2;\"/>\n",
       "<circle cx=\"101.89797993388338\" cy=\"44.712\" r=\"3.888\" style=\"stroke:black;fill:none;stroke-width:2;\"/>\n",
       "<circle cx=\"43.57797993388338\" cy=\"20.08799999999999\" r=\"3.888\" style=\"stroke:black;fill:none;stroke-width:2;\"/>\n",
       "<circle cx=\"30.617979933883376\" cy=\"44.71199999999999\" r=\"3.888\" style=\"stroke:black;fill:none;stroke-width:2;\"/>\n",
       "<circle cx=\"56.53797993388338\" cy=\"44.711999999999996\" r=\"3.888\" style=\"stroke:black;fill:none;stroke-width:2;\"/>\n",
       "<path d=\"M 0.0,-0.0 L -2.975891721928068e-15,16.2 M -8.927675165784204e-15,48.599999999999994 L -1.1903566887712272e-14,64.8\" style=\"stroke:black;fill:none;stroke-width:2;stroke-linecap:round;stroke-linejoin:round;\" />\n",
       "<path d=\"M 8.909979933883388,16.2 L 8.909979933883385,32.4 L 8.909979933883381,48.599999999999994\" style=\"stroke:black;fill:none;stroke-width:2;stroke-linecap:round;stroke-linejoin:round;\" />\n",
       "<path d=\"M 88.93797993388337,16.2 M 92.17797993388338,23.976 L 97.03797993388338,38.879999999999995 M 101.89797993388338,48.599999999999994\" style=\"stroke:black;fill:none;stroke-width:2;stroke-linecap:round;stroke-linejoin:round;\" />\n",
       "<path d=\"M 43.57797993388338,16.19999999999999 M 46.817979933883386,23.975999999999992 L 51.67797993388337,38.87999999999999 M 56.53797993388338,48.59999999999999\" style=\"stroke:black;fill:none;stroke-width:2;stroke-linecap:round;stroke-linejoin:round;\" />\n",
       "<path d=\"M 101.89797993388338,48.599999999999994 L 101.89797993388338,56.699999999999996 L 101.89797993388338,64.8\" style=\"stroke:black;fill:none;stroke-width:2;stroke-linecap:round;stroke-linejoin:round;\" />\n",
       "<path d=\"M 75.97797993388336,48.599999999999994 L 75.97797993388336,56.699999999999996 L 75.97797993388336,64.8\" style=\"stroke:black;fill:none;stroke-width:2;stroke-linecap:round;stroke-linejoin:round;\" />\n",
       "<path d=\"M 56.53797993388338,48.59999999999999 L 56.53797993388338,56.699999999999996 L 56.53797993388338,64.8\" style=\"stroke:black;fill:none;stroke-width:2;stroke-linecap:round;stroke-linejoin:round;\" />\n",
       "<path d=\"M 30.617979933883376,48.59999999999998 L 30.617979933883376,56.69999999999999 L 30.617979933883372,64.8\" style=\"stroke:black;fill:none;stroke-width:2;stroke-linecap:round;stroke-linejoin:round;\" />\n",
       "<path d=\"M 88.93797993388337,16.2 L 88.93797993388337,8.1 L 88.93797993388337,-0.0\" style=\"stroke:black;fill:none;stroke-width:2;stroke-linecap:round;stroke-linejoin:round;\" />\n",
       "<path d=\"M 43.57797993388338,16.19999999999999 L 43.57797993388338,8.099999999999994 L 43.57797993388338,-0.0\" style=\"stroke:black;fill:none;stroke-width:2;stroke-linecap:round;stroke-linejoin:round;\" />\n",
       "<path d=\"M 10.529979933883386,32.4 L 46.89896990082508,32.4 L 83.26795986776676,32.4\" style=\"stroke:black;fill:none;stroke-width:2;stroke-dasharray:2,3.3;stroke-linecap:round;stroke-linejoin:round;\" /></svg>"
      ],
      "text/plain": [
       "<schemdraw.elements.compound.Relay at 0x7c3794ece100>"
      ]
     },
     "execution_count": 28,
     "metadata": {},
     "output_type": "execute_result"
    }
   ],
   "source": [
    "elm.Relay(switch='dpdt', boxfill='lightgray')"
   ]
  },
  {
   "cell_type": "code",
   "execution_count": 29,
   "metadata": {},
   "outputs": [
    {
     "data": {
      "image/svg+xml": [
       "<svg xmlns=\"http://www.w3.org/2000/svg\" xml:lang=\"en\" height=\"157.31844616523162pt\" width=\"87.41740459313625pt\" viewBox=\"-10.099999999999998 -99.19999999999999 87.41740459313625 157.31844616523162\"><path d=\"M 22.145194229346032,54.55660154870847 L -3.7748057706539644,9.661844616523167 L 49.397404593136265,-21.03714535041852 L 75.31740459313626,23.857611581766783 L 22.145194229346032,54.55660154870847\" style=\"stroke:black;fill:none;stroke-width:2;stroke-linecap:round;stroke-linejoin:round;\" />\n",
       "<path d=\"M 8.1 14.03 a 4.05 4.05 -300 1 1 4.050000000000001 7.01\" stroke=\"black\" stroke-width=\"2\" fill=\"none\"/>\n",
       "<path d=\"M 12.15 21.04 a 4.05 4.05 -300 1 1 4.049999999999999 7.02\" stroke=\"black\" stroke-width=\"2\" fill=\"none\"/>\n",
       "<path d=\"M 16.2 28.06 a 4.05 4.05 -300 1 1 4.050000000000001 7.010000000000002\" stroke=\"black\" stroke-width=\"2\" fill=\"none\"/>\n",
       "<path d=\"M 20.25 35.07 a 4.05 4.05 -300 1 1 4.050000000000001 7.020000000000003\" stroke=\"black\" stroke-width=\"2\" fill=\"none\"/>\n",
       "<circle cx=\"36.559948435305195\" cy=\"2.0877283442801158\" r=\"3.888\" style=\"stroke:black;fill:none;stroke-width:2;\"/>\n",
       "<circle cx=\"48.871948435305185\" cy=\"23.412737887068133\" r=\"3.888\" style=\"stroke:black;fill:none;stroke-width:2;\"/>\n",
       "<path d=\"M 0.0,-0.0 L 8.099999999999996,14.029611541307908 M 24.299999999999986,42.088834623923724 L 32.399999999999984,56.11844616523163\" style=\"stroke:black;fill:none;stroke-width:2;stroke-linecap:round;stroke-linejoin:round;\" />\n",
       "<path d=\"M 15.816268969952606,9.574621574366214 L 23.9162689699526,23.604233115674123 L 32.0162689699526,37.63384465698202\" style=\"stroke:black;fill:none;stroke-width:2;stroke-linecap:round;stroke-linejoin:round;\" />\n",
       "<path d=\"M 26.515948435305198,-15.30898996694169 L 34.61594843530519,-1.2793784256337817 M 41.309870743566776,3.834835114194017 L 60.20259882248231,13.878000040458874 M 50.81594843530518,26.779844656982032 L 58.91594843530518,40.80945619828994\" style=\"stroke:black;fill:none;stroke-width:2;stroke-linecap:round;stroke-linejoin:round;\" />\n",
       "<path d=\"M 25.319230124083393,22.794233115674118 L 31.562398571082042,19.189738132203274 L 37.80556701808069,15.58524314873243\" style=\"stroke:black;fill:none;stroke-width:2;stroke-dasharray:2,3.3;stroke-linecap:round;stroke-linejoin:round;\" />\n",
       "<path d=\"M 0.0,-0.0 L 1.9839278146187122e-15,-32.4 L -8.099999999999998,-35.099999999999994 L 8.100000000000001,-40.5 L -8.099999999999996,-45.89999999999999 L 8.100000000000003,-51.3 L -8.099999999999996,-56.699999999999996 L 8.100000000000003,-62.099999999999994 L 3.9678556292374245e-15,-64.8 L 5.951783443856136e-15,-97.19999999999999\" style=\"stroke:black;fill:none;stroke-width:2;stroke-linecap:round;stroke-linejoin:round;\" />\n",
       "<circle cx=\"26.515948435305198\" cy=\"-15.30898996694169\" r=\"2.4299999999999997\" style=\"stroke:red;fill:red;stroke-width:2;\"/>\n",
       "<circle cx=\"58.91594843530518\" cy=\"40.80945619828994\" r=\"2.4299999999999997\" style=\"stroke:blue;fill:blue;stroke-width:2;\"/></svg>"
      ],
      "text/plain": [
       "<svg xmlns=\"http://www.w3.org/2000/svg\" xml:lang=\"en\" height=\"157.31844616523162pt\" width=\"87.41740459313625pt\" viewBox=\"-10.099999999999998 -99.19999999999999 87.41740459313625 157.31844616523162\"><path d=\"M 22.145194229346032,54.55660154870847 L -3.7748057706539644,9.661844616523167 L 49.397404593136265,-21.03714535041852 L 75.31740459313626,23.857611581766783 L 22.145194229346032,54.55660154870847\" style=\"stroke:black;fill:none;stroke-width:2;stroke-linecap:round;stroke-linejoin:round;\" />\n",
       "<path d=\"M 8.1 14.03 a 4.05 4.05 -300 1 1 4.050000000000001 7.01\" stroke=\"black\" stroke-width=\"2\" fill=\"none\"/>\n",
       "<path d=\"M 12.15 21.04 a 4.05 4.05 -300 1 1 4.049999999999999 7.02\" stroke=\"black\" stroke-width=\"2\" fill=\"none\"/>\n",
       "<path d=\"M 16.2 28.06 a 4.05 4.05 -300 1 1 4.050000000000001 7.010000000000002\" stroke=\"black\" stroke-width=\"2\" fill=\"none\"/>\n",
       "<path d=\"M 20.25 35.07 a 4.05 4.05 -300 1 1 4.050000000000001 7.020000000000003\" stroke=\"black\" stroke-width=\"2\" fill=\"none\"/>\n",
       "<circle cx=\"36.559948435305195\" cy=\"2.0877283442801158\" r=\"3.888\" style=\"stroke:black;fill:none;stroke-width:2;\"/>\n",
       "<circle cx=\"48.871948435305185\" cy=\"23.412737887068133\" r=\"3.888\" style=\"stroke:black;fill:none;stroke-width:2;\"/>\n",
       "<path d=\"M 0.0,-0.0 L 8.099999999999996,14.029611541307908 M 24.299999999999986,42.088834623923724 L 32.399999999999984,56.11844616523163\" style=\"stroke:black;fill:none;stroke-width:2;stroke-linecap:round;stroke-linejoin:round;\" />\n",
       "<path d=\"M 15.816268969952606,9.574621574366214 L 23.9162689699526,23.604233115674123 L 32.0162689699526,37.63384465698202\" style=\"stroke:black;fill:none;stroke-width:2;stroke-linecap:round;stroke-linejoin:round;\" />\n",
       "<path d=\"M 26.515948435305198,-15.30898996694169 L 34.61594843530519,-1.2793784256337817 M 41.309870743566776,3.834835114194017 L 60.20259882248231,13.878000040458874 M 50.81594843530518,26.779844656982032 L 58.91594843530518,40.80945619828994\" style=\"stroke:black;fill:none;stroke-width:2;stroke-linecap:round;stroke-linejoin:round;\" />\n",
       "<path d=\"M 25.319230124083393,22.794233115674118 L 31.562398571082042,19.189738132203274 L 37.80556701808069,15.58524314873243\" style=\"stroke:black;fill:none;stroke-width:2;stroke-dasharray:2,3.3;stroke-linecap:round;stroke-linejoin:round;\" />\n",
       "<path d=\"M 0.0,-0.0 L 1.9839278146187122e-15,-32.4 L -8.099999999999998,-35.099999999999994 L 8.100000000000001,-40.5 L -8.099999999999996,-45.89999999999999 L 8.100000000000003,-51.3 L -8.099999999999996,-56.699999999999996 L 8.100000000000003,-62.099999999999994 L 3.9678556292374245e-15,-64.8 L 5.951783443856136e-15,-97.19999999999999\" style=\"stroke:black;fill:none;stroke-width:2;stroke-linecap:round;stroke-linejoin:round;\" />\n",
       "<circle cx=\"26.515948435305198\" cy=\"-15.30898996694169\" r=\"2.4299999999999997\" style=\"stroke:red;fill:red;stroke-width:2;\"/>\n",
       "<circle cx=\"58.91594843530518\" cy=\"40.80945619828994\" r=\"2.4299999999999997\" style=\"stroke:blue;fill:blue;stroke-width:2;\"/></svg>"
      ]
     },
     "execution_count": 29,
     "metadata": {},
     "output_type": "execute_result"
    }
   ],
   "source": [
    "d = schemdraw.Drawing()\n",
    "R = d.add(elm.Relay().theta(30))\n",
    "d.add(elm.Resistor().up().at(R.in1))\n",
    "d.add(elm.Dot().at(R.a).color('red'))\n",
    "d.add(elm.Dot().at(R.b).color('blue'))\n",
    "d.draw()"
   ]
  },
  {
   "cell_type": "code",
   "execution_count": 30,
   "metadata": {},
   "outputs": [
    {
     "data": {
      "image/png": "[encoded data removed]",
      "image/svg+xml": [
       "<svg xmlns=\"http://www.w3.org/2000/svg\" xml:lang=\"en\" height=\"65.56pt\" width=\"81.814pt\" viewBox=\"-16.580000000000005 -8.48 81.814 65.56\"><path d=\"M -14.580000000000005,55.08 L -14.580000000000005,-6.48 L 63.23399999999999,-6.48 L 63.23399999999999,55.08 L -14.580000000000005,55.08\" style=\"stroke:black;fill:lightgray;stroke-width:2;stroke-linecap:round;stroke-linejoin:round;\" />\n",
       "<polygon points=\"8.099999999999996,18.63 -5.505399685566926e-15,29.969999999999995 -8.100000000000003,18.63 \" style=\"stroke:black;fill:none;stroke-width:2;stroke-linecap:round;stroke-linejoin:round;\"/>\n",
       "<path d=\"M 56.75399999999999 40.931999999999995 L 49.725453166675535 39.17486329166888 L 51.83401721667287 36.71487190000532 L 44.28 30.24 L 51.83401721667287 36.71487190000532 L 53.94258126667021 34.254880508341756 Z\" style=\"stroke:black;fill:black;stroke-width:2;stroke-linecap:butt;stroke-linejoin:miter;\" />\n",
       "<path d=\"M 35.64 17.82 L 29.160000000000004 20.25 L 29.160000000000004 17.82 L 25.92 17.82 L 29.160000000000004 17.82 L 29.160000000000004 15.39 Z\" style=\"stroke:black;fill:black;stroke-width:2;stroke-linecap:butt;stroke-linejoin:miter;\" />\n",
       "<path d=\"M 35.64 30.779999999999998 L 29.160000000000004 33.209999999999994 L 29.160000000000004 30.779999999999998 L 25.92 30.779999999999998 L 29.160000000000004 30.779999999999998 L 29.160000000000004 28.349999999999998 Z\" style=\"stroke:black;fill:black;stroke-width:2;stroke-linecap:butt;stroke-linejoin:miter;\" />\n",
       "<path d=\"M 0.0,-0.0 L -3.4222754802172776e-15,18.63 M 8.099999999999994,29.969999999999995 L -8.100000000000005,29.969999999999995 M -5.505399685566926e-15,29.969999999999995 L -8.927675165784204e-15,48.599999999999994\" style=\"stroke:black;fill:none;stroke-width:2;stroke-linecap:round;stroke-linejoin:round;\" />\n",
       "<path d=\"M 44.28,12.42 L 44.28,36.18\" style=\"stroke:black;fill:none;stroke-width:2;stroke-linecap:round;stroke-linejoin:round;\" />\n",
       "<path d=\"M 44.28,18.36 L 56.75399999999999,7.668 L 56.75399999999999,1.7280000000000002\" style=\"stroke:black;fill:none;stroke-width:2;stroke-linecap:round;stroke-linejoin:round;\" />\n",
       "<path d=\"M 44.28,30.24 L 56.75399999999999,40.931999999999995 L 56.75399999999999,46.872\" style=\"stroke:black;fill:none;stroke-width:2;stroke-linecap:round;stroke-linejoin:round;\" />\n",
       "<path d=\"M 16.2,17.82 L 25.92,17.82 L 35.64,17.82\" style=\"stroke:black;fill:none;stroke-width:2;stroke-linecap:round;stroke-linejoin:round;\" />\n",
       "<path d=\"M 16.2,30.779999999999998 L 25.92,30.779999999999998 L 35.64,30.779999999999998\" style=\"stroke:black;fill:none;stroke-width:2;stroke-linecap:round;stroke-linejoin:round;\" />\n",
       "<path d=\"M 56.75399999999999,1.7280000000000002 L 59.99399999999999,1.7280000000000002 L 63.23399999999999,1.7280000000000002\" style=\"stroke:black;fill:none;stroke-width:2;stroke-linecap:round;stroke-linejoin:round;\" />\n",
       "<path d=\"M 56.75399999999999,46.872 L 59.99399999999999,46.872 L 63.23399999999999,46.872\" style=\"stroke:black;fill:none;stroke-width:2;stroke-linecap:round;stroke-linejoin:round;\" />\n",
       "<path d=\"M 0.0,-0.0 L -7.290000000000003,-8.927675165784207e-16 L -14.580000000000005,-1.7855350331568414e-15\" style=\"stroke:black;fill:none;stroke-width:2;stroke-linecap:round;stroke-linejoin:round;\" />\n",
       "<path d=\"M -8.927675165784204e-15,48.599999999999994 L -7.290000000000007,48.599999999999994 L -14.580000000000005,48.599999999999994\" style=\"stroke:black;fill:none;stroke-width:2;stroke-linecap:round;stroke-linejoin:round;\" /></svg>"
      ],
      "text/plain": [
       "<schemdraw.elements.compound.Optocoupler at 0x7c3794ece790>"
      ]
     },
     "execution_count": 30,
     "metadata": {},
     "output_type": "execute_result"
    }
   ],
   "source": [
    "elm.Optocoupler(boxfill='lightgray').fill('blue')"
   ]
  },
  {
   "cell_type": "code",
   "execution_count": 31,
   "metadata": {},
   "outputs": [
    {
     "data": {
      "image/svg+xml": [
       "<svg xmlns=\"http://www.w3.org/2000/svg\" xml:lang=\"en\" height=\"102.55230052109385pt\" width=\"102.55230052109385pt\" viewBox=\"-16.891668811788694 -51.29524214363896 102.55230052109385 102.55230052109385\"><path d=\"M 28.637824638055164,49.257058377454904 L -14.891668811788694,5.727564927611037 L 40.131138259461316,-49.29524214363896 L 83.66063170930518,-5.765748693795096 L 28.637824638055164,49.257058377454904\" style=\"stroke:black;fill:none;stroke-width:2;stroke-linecap:round;stroke-linejoin:round;\" />\n",
       "<polygon points=\"18.90096426111641,7.445834405894347 21.191990232160823,21.191990232160833 7.445834405894339,18.900964261116417 \" style=\"stroke:black;fill:none;stroke-width:2;stroke-linecap:round;stroke-linejoin:round;\"/>\n",
       "<path d=\"M 69.07443302698907 -11.187843491933547 L 62.86201661732537 -7.460393646135326 L 62.61351996093882 -10.690850179160451 L 52.693597334021526 -9.927779207859121 L 62.61351996093882 -10.690850179160451 L 62.36502330455227 -13.921306712185576 Z\" style=\"stroke:black;fill:black;stroke-width:2;stroke-linecap:butt;stroke-linejoin:miter;\" />\n",
       "<path d=\"M 37.801928522232835 -12.600642840744275 L 34.938146058427314 -6.3003214203721365 L 33.219876580144 -8.018590898655447 L 30.92885060909959 -5.7275649276110325 L 33.219876580144 -8.018590898655447 L 31.501607101860696 -9.736860376938758 Z\" style=\"stroke:black;fill:black;stroke-width:2;stroke-linecap:butt;stroke-linejoin:miter;\" />\n",
       "<path d=\"M 46.966032406410484 -3.436538956566621 L 44.10224994260496 2.863782463805517 L 42.38398046432165 1.145512985522207 L 40.09295449327724 3.436538956566621 L 42.38398046432165 1.145512985522207 L 40.66571098603834 -0.5727564927611031 Z\" style=\"stroke:black;fill:black;stroke-width:2;stroke-linecap:butt;stroke-linejoin:miter;\" />\n",
       "<path d=\"M 0.0,-0.0 L 13.173399333505376,13.173399333505381 M 26.919555159771857,15.464425304549799 L 15.464425304549788,26.919555159771868 M 21.191990232160823,21.191990232160833 L 34.3653895656662,34.36538956566622\" style=\"stroke:black;fill:none;stroke-width:2;stroke-linecap:round;stroke-linejoin:round;\" />\n",
       "<path d=\"M 40.09295449327725,-22.528422048603396 L 56.89381161426961,-5.727564927611031\" style=\"stroke:black;fill:none;stroke-width:2;stroke-linecap:round;stroke-linejoin:round;\" />\n",
       "<path d=\"M 44.29316877352534,-18.328207768355306 L 45.55323305759976,-34.709043461322864 L 41.35301877735167,-38.909257741570954\" style=\"stroke:black;fill:none;stroke-width:2;stroke-linecap:round;stroke-linejoin:round;\" />\n",
       "<path d=\"M 52.693597334021526,-9.927779207859121 L 69.07443302698907,-11.187843491933545 L 73.27464730723717,-6.987629211685453\" style=\"stroke:black;fill:none;stroke-width:2;stroke-linecap:round;stroke-linejoin:round;\" />\n",
       "<path d=\"M 24.055772695966347,1.1455129855222101 L 30.92885060909959,-5.7275649276110325 L 37.801928522232835,-12.600642840744275\" style=\"stroke:black;fill:none;stroke-width:2;stroke-linecap:round;stroke-linejoin:round;\" />\n",
       "<path d=\"M 33.219876580144,10.309616869699864 L 40.09295449327724,3.436538956566621 L 46.966032406410484,-3.436538956566621\" style=\"stroke:black;fill:none;stroke-width:2;stroke-linecap:round;stroke-linejoin:round;\" />\n",
       "<path d=\"M 48.49338305377343,-14.127993488107213 L 46.77511357549012,-12.409724009823908 L 45.056844097206806,-10.691454531540597\" style=\"stroke:black;fill:none;stroke-width:2;stroke-linecap:round;stroke-linejoin:round;\" />\n",
       "<path d=\"M 45.056844097206806,-10.691454531540597 L 55.93921745966777,0.19091883092036985 L 66.82159082212874,11.07329219338134\" style=\"stroke:black;fill:none;stroke-width:2;stroke-linecap:round;stroke-linejoin:round;\" />\n",
       "<path d=\"M 41.35301877735167,-38.909257741570954 L 43.64404474839609,-41.20028371261537 L 45.935070719440496,-43.49130968365978\" style=\"stroke:black;fill:none;stroke-width:2;stroke-linecap:round;stroke-linejoin:round;\" />\n",
       "<path d=\"M 73.27464730723717,-6.987629211685453 L 75.5656732782816,-9.278655182729869 L 77.856699249326,-11.56968115377428\" style=\"stroke:black;fill:none;stroke-width:2;stroke-linecap:round;stroke-linejoin:round;\" />\n",
       "<path d=\"M 0.0,-0.0 L -5.154808434849935,5.154808434849932 L -10.30961686969987,10.309616869699864\" style=\"stroke:black;fill:none;stroke-width:2;stroke-linecap:round;stroke-linejoin:round;\" />\n",
       "<path d=\"M 34.3653895656662,34.36538956566622 L 29.21058113081627,39.520198000516146 L 24.055772695966336,44.67500643536608\" style=\"stroke:black;fill:none;stroke-width:2;stroke-linecap:round;stroke-linejoin:round;\" />\n",
       "<path d=\"M 66.82159082212874,11.07329219338134 L 66.82159082212874,24.03329219338134 L 58.72159082212874,24.03329219338134 L 74.92159082212873,24.03329219338134 M 61.15159082212874,27.92129219338134 L 72.49159082212873,27.92129219338134 M 65.20159082212875,31.80929219338134 L 68.44159082212873,31.80929219338134\" style=\"stroke:black;fill:none;stroke-width:2;stroke-linecap:round;stroke-linejoin:round;\" /></svg>"
      ],
      "text/plain": [
       "<schemdraw.schemdraw.Drawing at 0x7c3794e75f70>"
      ]
     },
     "execution_count": 31,
     "metadata": {},
     "output_type": "execute_result"
    }
   ],
   "source": [
    "schemdraw.Drawing(\n",
    "Q := elm.Optocoupler(base=True).theta(45),\n",
    "     elm.Ground().at((Q, 'base'))\n",
    "     )"
   ]
  },
  {
   "cell_type": "code",
   "execution_count": 32,
   "metadata": {},
   "outputs": [
    {
     "data": {
      "image/png": "[encoded data removed]",
      "image/svg+xml": [
       "<svg xmlns=\"http://www.w3.org/2000/svg\" xml:lang=\"en\" height=\"68.8pt\" width=\"80.05931949433041pt\" viewBox=\"-16.500323471950452 -2.0 80.05931949433041 68.8\"><path d=\"M -14.500323471950454,58.32 L -14.500323471950454,6.48 L 61.55899602237996,6.48 L 61.55899602237996,58.32 L -14.500323471950454,58.32\" style=\"stroke:black;fill:none;stroke-width:2;stroke-linecap:round;stroke-linejoin:round;\" />\n",
       "<circle cx=\"38.878996022379965\" cy=\"20.087999999999997\" r=\"3.888\" style=\"stroke:black;fill:none;stroke-width:2;\"/>\n",
       "<circle cx=\"38.878996022379965\" cy=\"44.711999999999996\" r=\"3.888\" style=\"stroke:black;fill:none;stroke-width:2;\"/>\n",
       "<path d=\"M 0.0,-0.0 L -2.975891721928068e-15,16.2 L 1.3166206108939342,16.22984957083766 L 2.6677679049348115,16.320662681348665 L 4.024962142260244,16.47336651559579 L 5.359596124386216,16.687583713185646 L 6.6435381821822865,16.96164032334289 L 7.84972514054853,17.29260108876332 L 8.952732761171939,17.676331315526053 L 9.929311639461217,18.107584024959074 L 10.758877259922421,18.580110550454453 L 11.423943880494924,19.08679224805261 L 11.910493100351074,19.61979054457474 L 12.208269342417315,20.170712160560406 L 12.310996022379976,20.730786025409714 L 12.216507847724195,21.291048155679032 L 11.926796458181725,21.842530599630386 L 11.44796844556956,22.376450465425254 L 10.790116637885184,22.88439504859064 L 9.96710736075681,23.35849915660536 L 8.996288160392266,23.79161089292519 L 7.898122148697806,24.177442406019598 L 6.695756677910086,24.510702425903293 L 5.414535436299509,24.787207794532122 L 4.08146424908451,25.003971639204693 L 2.7246418445069116,25.159266330433677 L 1.372667583489286,25.252659897249046 L 0.05403863686137747,25.28502513236439 L -1.20345068343125,25.25852119528596 L -2.3732947781252003,25.176548101137595 L -3.4308354507060232,25.043675054494727 L -4.353781657568148,24.865544138820557 L -5.122679362875265,24.648751391556832 L -5.721321594430845,24.400707771591026 L -6.1370900573231975,24.129482949654218 L -6.361221104747576,23.84363521426532 L -6.388990459821748,23.55203107849652 L -6.219812794793404,23.26365838992299 L -5.857254068689943,22.98743688306079 L -5.3089563633553,22.732030167504828 L -4.586476802194113,22.50566311471664 L -3.7050439469246434,22.315948492618077 L -2.6832368070560335,22.169726502219916 L -1.5425932279892463,22.072920598562884 L -0.30715591221187727,22.030412635004744 L 0.9970343573615825,22.045939962585926 L 2.342487609969006,22.122016653432894 L 3.700844125837232,22.25988050866725 L 5.043472207753884,22.45946696779813 L 6.342071685431392,22.719410469540467 L 7.56927043188346,23.037073235375733 L 8.699201318328088,23.408600869149655 L 9.708047446452005,23.82900360076807 L 10.574544165526998,24.292261461520784 L 11.28042729276581,24.791451174127996 L 11.810818089243623,25.318892082896692 L 12.154536876789365,25.866308048043376 L 12.304338685370311,26.425001891743857 L 12.257065963949564,26.986038718902982 L 12.01371513594786,27.540434248574257 L 11.579415596441045,28.07934418634384 L 10.96332159379423,28.594250646051755 L 10.178419274672219,29.077141691417832 L 9.241252959568099,29.520680213159693 L 8.171576418466588,29.918358581978907 L 6.991936497120056,30.26463581761008 L 5.727197870341835,30.555054382657648 L 4.4040189396573695,30.786334139417633 L 3.050289922442284,30.95644148924455 L 1.6945449766114813,31.064632237130763 L 0.36536075220696634,31.111467277990528 L -0.9092459526714617,31.098800774010208 L -2.1024087352697305,31.029741072264763 L -3.188977883330864,30.908585186386414 L -4.146050485517404,30.740728223293345 L -4.953453183336237,30.532549664099086 L -5.594167389029027,30.291278896195227 L -6.054688006604577,30.02484283084784 L -6.3253080948228995,29.74169881825287 L -6.400323471950454,29.45065638189879 L -6.2781529495885415,29.16069152975358 L -5.961371661263359,28.88075755626015 L -5.456656783271354,28.61959632309174 L -4.774646791886199,28.385553996527538 L -3.929717223530798,28.186405125371063 L -2.9396776644841003,28.029188767530616 L -1.8253963570313945,27.920060119416704 L -0.6103603346809617,27.864160775540448 L 0.6798196419990578,27.865510353005767 L 2.0179489138670834,27.926921765254864 L 3.375822137410139,28.049941930943266 L 4.724817802343469,28.234819167693924 L 6.036501521252589,28.48049795801109 L 7.283225375023853,28.784641197679026 L 8.438710680946471,29.143679457689533 L 9.478601899788988,29.55288622134606 L 10.380980006491413,30.006477510682323 L 11.12682450354786,30.497733802250938 L 11.7004143386736,31.01914166251769 L 12.089659276137768,31.562552117443857 L 12.286354737053495,32.119352418112136 L 12.2863547370535,32.68064758188785 L 12.08965927613778,33.237447882556125 L 11.700414338673628,33.78085833748227 L 11.126824503547889,34.30226619774905 L 10.380980006491447,34.79352248931765 L 9.478601899789043,35.24711377865392 L 8.438710680946546,35.65632054231044 L 7.283225375023922,36.015358802320954 L 6.036501521252647,36.3195020419889 L 4.724817802343544,36.56518083230606 L 3.375822137410198,36.75005806905673 L 2.017948913867126,36.87307823474513 L 0.6798196419991156,36.93448964699423 L -0.6103603346808909,36.93583922445955 L -1.8253963570313154,36.87993988058331 L -2.939677664484068,36.77081123246939 L -3.929717223530746,36.613594874628944 L -4.7746467918861475,36.41444600347248 L -5.456656783271338,36.18040367690826 L -5.961371661263343,35.91924244373986 L -6.278152949588529,35.63930847024644 L -6.400323471950454,35.34934361810123 L -6.325308094822907,35.05830118174714 L -6.054688006604594,34.77515716915217 L -5.59416738902906,34.50872110380478 L -4.953453183336289,34.26745033590093 L -4.146050485517434,34.059271776706666 L -3.1889778833309097,33.891414813613586 L -2.102408735269797,33.77025892773525 L -0.9092459526715032,33.70119922598979 L 0.36536075220690645,33.68853272200946 L 1.6945449766114034,33.73536776286923 L 3.050289922442189,33.84355851075544 L 4.404018939657325,34.01366586058236 L 5.727197870341775,34.24494561734233 L 6.991936497119986,34.535364182389905 L 8.17157641846651,34.88164141802106 L 9.241252959568063,35.27931978684029 L 10.178419274672178,35.72285830858215 L 10.963321593794188,36.20574935394822 L 11.579415596441006,36.72065581365613 L 12.013715135947848,37.25956575142572 L 12.257065963949556,37.81396128109699 L 12.304338685370313,38.37499810825611 L 12.154536876789372,38.93369195195661 L 11.810818089243641,39.48110791710329 L 11.280427292765843,40.00854882587197 L 10.57454416552705,40.50773853847918 L 9.708047446452031,40.970996399231915 L 8.699201318328132,41.391399130850324 L 7.569270431883525,41.76292676462424 L 6.342071685431478,42.080589530459505 L 5.043472207753924,42.34053303220186 L 3.7008441258372975,42.54011949133273 L 2.342487609969089,42.677983346567096 L 0.9970343573616143,42.754060037414064 L -0.30715591221183125,42.76958736499525 L -1.5425932279891885,42.727079401437116 L -2.683236807055962,42.630273497780095 L -3.7050439469246155,42.48405150738193 L -4.586476802194081,42.294336885283364 L -5.308956363355267,42.06796983249519 L -5.857254068689916,41.812563116939224 L -6.2198127947933965,41.536341610077024 L -6.388990459821748,41.24796892150349 L -6.361221104747587,40.95636478573469 L -6.137090057323224,40.6705170503458 L -5.721321594430868,40.39929222840898 L -5.122679362875302,40.15124860844318 L -4.353781657568204,39.934455861179444 L -3.430835450706052,39.75632494550528 L -2.373294778125253,39.623451898862406 L -1.203450683431322,39.541478804714046 L 0.054038636861284996,39.51497486763561 L 1.3726675834892397,39.54734010275095 L 2.724641844506848,39.640733669566316 L 4.08146424908443,39.796028360795304 L 5.414535436299416,40.01279220546786 L 6.695756677910042,40.28929757409669 L 7.898122148697745,40.62255759398039 L 8.996288160392197,41.008389107074784 L 9.967107360756783,41.44150084339462 L 10.790116637885149,41.915604951409335 L 11.447968445569526,42.42354953457472 L 11.926796458181695,42.95746940036958 L 12.216507847724186,43.50895184432095 L 12.310996022379971,44.06921397459026 L 12.208269342417323,44.62928783943956 L 11.910493100351095,45.18020945542523 L 11.423943880494942,45.71320775194737 L 10.758877259922455,46.219889449545526 L 9.929311639461268,46.692415975040895 L 8.95273276117196,47.123668684473934 L 7.84972514054857,47.50739891123666 L 6.643538182182345,47.8383596766571 L 5.359596124386297,48.11241628681434 L 4.024962142260279,48.3266334844042 L 2.667767904934865,48.47933731865133 L 1.3166206108940026,48.57015042916233 L 8.025601996959937e-14,48.599999999999994 L 7.728012824767131e-14,64.8\" style=\"stroke:black;fill:none;stroke-width:2;stroke-linecap:round;stroke-linejoin:round;\" />\n",
       "<path d=\"M 17.17099602237998,16.2 L 17.170996022379978,32.4 L 17.170996022379974,48.599999999999994\" style=\"stroke:black;fill:none;stroke-width:2;stroke-linecap:round;stroke-linejoin:round;\" />\n",
       "<path d=\"M 38.87899602237997,-0.0 L 38.87899602237997,16.2 M 42.11899602237997,23.976 L 53.458996022379964,42.12 M 38.878996022379965,48.599999999999994 L 38.87899602237996,64.8\" style=\"stroke:black;fill:none;stroke-width:2;stroke-linecap:round;stroke-linejoin:round;\" />\n",
       "<path d=\"M 18.790996022379975,32.4 L 30.13049403356996,32.4 L 41.469992044759955,32.4\" style=\"stroke:black;fill:none;stroke-width:2;stroke-dasharray:2,3.3;stroke-linecap:round;stroke-linejoin:round;\" /></svg>"
      ],
      "text/plain": [
       "<schemdraw.elements.compound.Relay at 0x7c3794e750a0>"
      ]
     },
     "execution_count": 32,
     "metadata": {},
     "output_type": "execute_result"
    }
   ],
   "source": [
    "elm.Relay(cycl=True)"
   ]
  },
  {
   "cell_type": "code",
   "execution_count": 33,
   "metadata": {},
   "outputs": [
    {
     "data": {
      "image/png": "[encoded data removed]",
      "image/svg+xml": [
       "<svg xmlns=\"http://www.w3.org/2000/svg\" xml:lang=\"en\" height=\"68.8pt\" width=\"97.79797993388338pt\" viewBox=\"-10.100000000000012 -2.0 97.79797993388338 68.8\"><path d=\"M -8.100000000000012,58.32 L -8.100000000000012,6.48 L 85.69797993388337,6.48 L 85.69797993388337,58.32 L -8.100000000000012,58.32\" style=\"stroke:black;fill:none;stroke-width:2;stroke-linecap:round;stroke-linejoin:round;\" />\n",
       "<path d=\"M -0.0 16.2 a 4.05 4.05 -270 1 1 0.0 8.100000000000001\" stroke=\"black\" stroke-width=\"2\" fill=\"none\"/>\n",
       "<path d=\"M -0.0 24.3 a 4.05 4.05 -270 1 1 0.0 8.099999999999998\" stroke=\"black\" stroke-width=\"2\" fill=\"none\"/>\n",
       "<path d=\"M -0.0 32.4 a 4.05 4.05 -270 1 1 0.0 8.100000000000001\" stroke=\"black\" stroke-width=\"2\" fill=\"none\"/>\n",
       "<path d=\"M -0.0 40.5 a 4.05 4.05 -270 1 1 0.0 8.100000000000001\" stroke=\"black\" stroke-width=\"2\" fill=\"none\"/>\n",
       "<circle cx=\"63.01797993388338\" cy=\"20.087999999999997\" r=\"3.888\" style=\"stroke:black;fill:none;stroke-width:2;\"/>\n",
       "<circle cx=\"63.017979933883375\" cy=\"44.711999999999996\" r=\"3.888\" style=\"stroke:black;fill:none;stroke-width:2;\"/>\n",
       "<circle cx=\"30.617979933883383\" cy=\"20.08799999999999\" r=\"3.888\" style=\"stroke:black;fill:none;stroke-width:2;\"/>\n",
       "<circle cx=\"30.617979933883376\" cy=\"44.711999999999996\" r=\"3.888\" style=\"stroke:black;fill:none;stroke-width:2;\"/>\n",
       "<path d=\"M 0.0,-0.0 L -2.975891721928068e-15,16.2 M -8.927675165784204e-15,48.599999999999994 L -1.1903566887712272e-14,64.8\" style=\"stroke:black;fill:none;stroke-width:2;stroke-linecap:round;stroke-linejoin:round;\" />\n",
       "<path d=\"M 8.909979933883388,16.2 L 8.909979933883385,32.4 L 8.909979933883381,48.599999999999994\" style=\"stroke:black;fill:none;stroke-width:2;stroke-linecap:round;stroke-linejoin:round;\" />\n",
       "<path d=\"M 63.01797993388338,16.2 M 66.25797993388339,23.976 L 77.59797993388337,42.120000000000005 M 63.017979933883375,48.599999999999994\" style=\"stroke:black;fill:none;stroke-width:2;stroke-linecap:round;stroke-linejoin:round;\" />\n",
       "<path d=\"M 30.617979933883383,16.199999999999992 M 33.857979933883385,23.975999999999992 L 45.197979933883374,42.11999999999999 M 30.617979933883376,48.59999999999999\" style=\"stroke:black;fill:none;stroke-width:2;stroke-linecap:round;stroke-linejoin:round;\" />\n",
       "<path d=\"M 63.017979933883375,48.599999999999994 L 63.017979933883375,56.699999999999996 L 63.017979933883375,64.8\" style=\"stroke:black;fill:none;stroke-width:2;stroke-linecap:round;stroke-linejoin:round;\" />\n",
       "<path d=\"M 30.617979933883376,48.59999999999999 L 30.617979933883376,56.699999999999996 L 30.617979933883372,64.8\" style=\"stroke:black;fill:none;stroke-width:2;stroke-linecap:round;stroke-linejoin:round;\" />\n",
       "<path d=\"M 63.01797993388338,16.2 L 63.01797993388338,8.1 L 63.01797993388338,-0.0\" style=\"stroke:black;fill:none;stroke-width:2;stroke-linecap:round;stroke-linejoin:round;\" />\n",
       "<path d=\"M 30.617979933883383,16.199999999999992 L 30.617979933883383,8.099999999999996 L 30.617979933883383,-0.0\" style=\"stroke:black;fill:none;stroke-width:2;stroke-linecap:round;stroke-linejoin:round;\" />\n",
       "<path d=\"M 10.529979933883386,32.4 L 33.93896990082508,32.4 L 57.347959867766775,32.4\" style=\"stroke:black;fill:none;stroke-width:2;stroke-dasharray:2,3.3;stroke-linecap:round;stroke-linejoin:round;\" /></svg>"
      ],
      "text/plain": [
       "<schemdraw.elements.compound.Relay at 0x7c3794e75070>"
      ]
     },
     "execution_count": 33,
     "metadata": {},
     "output_type": "execute_result"
    }
   ],
   "source": [
    "elm.Relay(switch='dpst')"
   ]
  },
  {
   "cell_type": "code",
   "execution_count": 34,
   "metadata": {},
   "outputs": [
    {
     "data": {
      "image/svg+xml": [
       "<svg xmlns=\"http://www.w3.org/2000/svg\" xml:lang=\"en\" height=\"73.66pt\" width=\"263.2pt\" viewBox=\"-2.0 -36.83 263.2 73.66\"><ellipse cx=\"19.439999999999998\" cy=\"-0.0\" rx=\"4.859999999999999\" ry=\"9.719999999999999\" stroke=\"black\" stroke-width=\"2\" fill=\"none\"/>\n",
       "<path d=\"M 77.76 -9.72 a 4.859999999999999 9.719999999999999 0 1 1 0.0 19.44\" stroke=\"black\" stroke-width=\"2\" fill=\"none\"/>\n",
       "<ellipse cx=\"116.64\" cy=\"-0.0\" rx=\"16.2\" ry=\"32.4\" stroke=\"black\" stroke-width=\"2\" fill=\"none\"/>\n",
       "<path d=\"M 239.76 -32.4 a 16.2 32.4 0 1 1 0.0 64.8\" stroke=\"black\" stroke-width=\"2\" fill=\"none\"/>\n",
       "<path d=\"M 0.0,-0.0 L 19.439999999999998,-0.0 M 82.61999999999999,-0.0 L 97.19999999999999,-0.0\" style=\"stroke:black;fill:none;stroke-width:2;stroke-linecap:round;stroke-linejoin:round;\" />\n",
       "<path d=\"M 19.439999999999998,-9.719999999999999 L 77.75999999999999,-9.719999999999999\" style=\"stroke:black;fill:none;stroke-width:2;stroke-linecap:round;stroke-linejoin:round;\" />\n",
       "<path d=\"M 19.439999999999998,9.719999999999999 L 77.75999999999999,9.719999999999999\" style=\"stroke:black;fill:none;stroke-width:2;stroke-linecap:round;stroke-linejoin:round;\" />\n",
       "<path d=\"M 97.19999999999999,-0.0 L 116.64,-0.0 M 255.96,-0.0 L 259.2,-0.0\" style=\"stroke:black;fill:none;stroke-width:2;stroke-linecap:round;stroke-linejoin:round;\" />\n",
       "<path d=\"M 116.64,-32.4 L 239.76,-32.4\" style=\"stroke:black;fill:none;stroke-width:2;stroke-linecap:round;stroke-linejoin:round;\" />\n",
       "<path d=\"M 116.64,32.4 L 239.76,32.4\" style=\"stroke:black;fill:none;stroke-width:2;stroke-linecap:round;stroke-linejoin:round;\" />\n",
       "<circle cx=\"19.439999999999998\" cy=\"9.719999999999999\" r=\"2.4299999999999997\" style=\"stroke:red;fill:red;stroke-width:2;\"/>\n",
       "<circle cx=\"77.75999999999999\" cy=\"9.719999999999999\" r=\"2.4299999999999997\" style=\"stroke:green;fill:green;stroke-width:2;\"/>\n",
       "<circle cx=\"19.439999999999998\" cy=\"-9.719999999999999\" r=\"2.4299999999999997\" style=\"stroke:blue;fill:blue;stroke-width:2;\"/>\n",
       "<circle cx=\"77.75999999999999\" cy=\"-9.719999999999999\" r=\"2.4299999999999997\" style=\"stroke:orange;fill:orange;stroke-width:2;\"/>\n",
       "<circle cx=\"48.599999999999994\" cy=\"9.719999999999999\" r=\"2.4299999999999997\" style=\"stroke:yellow;fill:yellow;stroke-width:2;\"/>\n",
       "<circle cx=\"48.599999999999994\" cy=\"-9.719999999999999\" r=\"2.4299999999999997\" style=\"stroke:cyan;fill:cyan;stroke-width:2;\"/>\n",
       "<circle cx=\"116.64\" cy=\"32.4\" r=\"2.4299999999999997\" style=\"stroke:red;fill:red;stroke-width:2;\"/>\n",
       "<circle cx=\"239.76\" cy=\"32.4\" r=\"2.4299999999999997\" style=\"stroke:green;fill:green;stroke-width:2;\"/>\n",
       "<circle cx=\"116.64\" cy=\"-32.4\" r=\"2.4299999999999997\" style=\"stroke:blue;fill:blue;stroke-width:2;\"/>\n",
       "<circle cx=\"239.76\" cy=\"-32.4\" r=\"2.4299999999999997\" style=\"stroke:orange;fill:orange;stroke-width:2;\"/>\n",
       "<circle cx=\"178.2\" cy=\"32.4\" r=\"2.4299999999999997\" style=\"stroke:yellow;fill:yellow;stroke-width:2;\"/>\n",
       "<circle cx=\"178.2\" cy=\"-32.4\" r=\"2.4299999999999997\" style=\"stroke:cyan;fill:cyan;stroke-width:2;\"/></svg>"
      ],
      "text/plain": [
       "<svg xmlns=\"http://www.w3.org/2000/svg\" xml:lang=\"en\" height=\"73.66pt\" width=\"263.2pt\" viewBox=\"-2.0 -36.83 263.2 73.66\"><ellipse cx=\"19.439999999999998\" cy=\"-0.0\" rx=\"4.859999999999999\" ry=\"9.719999999999999\" stroke=\"black\" stroke-width=\"2\" fill=\"none\"/>\n",
       "<path d=\"M 77.76 -9.72 a 4.859999999999999 9.719999999999999 0 1 1 0.0 19.44\" stroke=\"black\" stroke-width=\"2\" fill=\"none\"/>\n",
       "<ellipse cx=\"116.64\" cy=\"-0.0\" rx=\"16.2\" ry=\"32.4\" stroke=\"black\" stroke-width=\"2\" fill=\"none\"/>\n",
       "<path d=\"M 239.76 -32.4 a 16.2 32.4 0 1 1 0.0 64.8\" stroke=\"black\" stroke-width=\"2\" fill=\"none\"/>\n",
       "<path d=\"M 0.0,-0.0 L 19.439999999999998,-0.0 M 82.61999999999999,-0.0 L 97.19999999999999,-0.0\" style=\"stroke:black;fill:none;stroke-width:2;stroke-linecap:round;stroke-linejoin:round;\" />\n",
       "<path d=\"M 19.439999999999998,-9.719999999999999 L 77.75999999999999,-9.719999999999999\" style=\"stroke:black;fill:none;stroke-width:2;stroke-linecap:round;stroke-linejoin:round;\" />\n",
       "<path d=\"M 19.439999999999998,9.719999999999999 L 77.75999999999999,9.719999999999999\" style=\"stroke:black;fill:none;stroke-width:2;stroke-linecap:round;stroke-linejoin:round;\" />\n",
       "<path d=\"M 97.19999999999999,-0.0 L 116.64,-0.0 M 255.96,-0.0 L 259.2,-0.0\" style=\"stroke:black;fill:none;stroke-width:2;stroke-linecap:round;stroke-linejoin:round;\" />\n",
       "<path d=\"M 116.64,-32.4 L 239.76,-32.4\" style=\"stroke:black;fill:none;stroke-width:2;stroke-linecap:round;stroke-linejoin:round;\" />\n",
       "<path d=\"M 116.64,32.4 L 239.76,32.4\" style=\"stroke:black;fill:none;stroke-width:2;stroke-linecap:round;stroke-linejoin:round;\" />\n",
       "<circle cx=\"19.439999999999998\" cy=\"9.719999999999999\" r=\"2.4299999999999997\" style=\"stroke:red;fill:red;stroke-width:2;\"/>\n",
       "<circle cx=\"77.75999999999999\" cy=\"9.719999999999999\" r=\"2.4299999999999997\" style=\"stroke:green;fill:green;stroke-width:2;\"/>\n",
       "<circle cx=\"19.439999999999998\" cy=\"-9.719999999999999\" r=\"2.4299999999999997\" style=\"stroke:blue;fill:blue;stroke-width:2;\"/>\n",
       "<circle cx=\"77.75999999999999\" cy=\"-9.719999999999999\" r=\"2.4299999999999997\" style=\"stroke:orange;fill:orange;stroke-width:2;\"/>\n",
       "<circle cx=\"48.599999999999994\" cy=\"9.719999999999999\" r=\"2.4299999999999997\" style=\"stroke:yellow;fill:yellow;stroke-width:2;\"/>\n",
       "<circle cx=\"48.599999999999994\" cy=\"-9.719999999999999\" r=\"2.4299999999999997\" style=\"stroke:cyan;fill:cyan;stroke-width:2;\"/>\n",
       "<circle cx=\"116.64\" cy=\"32.4\" r=\"2.4299999999999997\" style=\"stroke:red;fill:red;stroke-width:2;\"/>\n",
       "<circle cx=\"239.76\" cy=\"32.4\" r=\"2.4299999999999997\" style=\"stroke:green;fill:green;stroke-width:2;\"/>\n",
       "<circle cx=\"116.64\" cy=\"-32.4\" r=\"2.4299999999999997\" style=\"stroke:blue;fill:blue;stroke-width:2;\"/>\n",
       "<circle cx=\"239.76\" cy=\"-32.4\" r=\"2.4299999999999997\" style=\"stroke:orange;fill:orange;stroke-width:2;\"/>\n",
       "<circle cx=\"178.2\" cy=\"32.4\" r=\"2.4299999999999997\" style=\"stroke:yellow;fill:yellow;stroke-width:2;\"/>\n",
       "<circle cx=\"178.2\" cy=\"-32.4\" r=\"2.4299999999999997\" style=\"stroke:cyan;fill:cyan;stroke-width:2;\"/></svg>"
      ]
     },
     "execution_count": 34,
     "metadata": {},
     "output_type": "execute_result"
    }
   ],
   "source": [
    "d = schemdraw.Drawing()\n",
    "C = d.add(elm.Coax())  # Default coax\n",
    "d.add(elm.Dot().at(C.shieldstart).color('red'))\n",
    "d.add(elm.Dot().at(C.shieldend).color('green'))\n",
    "d.add(elm.Dot().at(C.shieldstart_top).color('blue'))\n",
    "d.add(elm.Dot().at(C.shieldend_top).color('orange'))\n",
    "d.add(elm.Dot().at(C.shieldcenter).color('yellow'))\n",
    "d.add(elm.Dot().at(C.shieldcenter_top).color('cyan'))\n",
    "\n",
    "C2 = d.add(elm.Coax(length=5, radius=1).at(C.end))  # Custom coax\n",
    "d.add(elm.Dot().at(C2.shieldstart).color('red'))\n",
    "d.add(elm.Dot().at(C2.shieldend).color('green'))\n",
    "d.add(elm.Dot().at(C2.shieldstart_top).color('blue'))\n",
    "d.add(elm.Dot().at(C2.shieldend_top).color('orange'))\n",
    "d.add(elm.Dot().at(C2.shieldcenter).color('yellow'))\n",
    "d.add(elm.Dot().at(C2.shieldcenter_top).color('cyan'))\n",
    "\n",
    "d.draw()"
   ]
  },
  {
   "cell_type": "code",
   "execution_count": 35,
   "metadata": {},
   "outputs": [
    {
     "data": {
      "image/svg+xml": [
       "<svg xmlns=\"http://www.w3.org/2000/svg\" xml:lang=\"en\" height=\"106.05999999999999pt\" width=\"413.86pt\" viewBox=\"-2.0 -53.029999999999994 413.86 106.05999999999999\"><path d=\"M 77.76 -9.72 a 4.859999999999999 9.719999999999999 0 1 1 0.0 19.44\" stroke=\"black\" stroke-width=\"2\" fill=\"none\"/>\n",
       "<ellipse cx=\"19.439999999999998\" cy=\"-0.0\" rx=\"4.859999999999999\" ry=\"9.719999999999999\" stroke=\"black\" stroke-width=\"2\" fill=\"none\"/>\n",
       "<path d=\"M 20.74 -9.72 a 9.719999999999999 19.439999999999998 0 1 1 0.0 19.44\" stroke=\"black\" stroke-width=\"2\" fill=\"none\"/>\n",
       "<path d=\"M 68.04 -19.44 a 9.719999999999999 19.439999999999998 0 1 1 0.0 38.88\" stroke=\"black\" stroke-width=\"2\" fill=\"none\"/>\n",
       "<ellipse cx=\"116.64\" cy=\"-0.0\" rx=\"16.2\" ry=\"32.4\" stroke=\"black\" stroke-width=\"2\" fill=\"none\"/>\n",
       "<path d=\"M 114.73 -32.4 a 24.299999999999997 48.599999999999994 0 1 1 0.0 64.8\" stroke=\"black\" stroke-width=\"2\" fill=\"none\"/>\n",
       "<path d=\"M 223.56 -48.6 a 24.299999999999997 48.599999999999994 0 1 1 0.0 97.2\" stroke=\"black\" stroke-width=\"2\" fill=\"none\"/>\n",
       "<path d=\"M 390.42 -16.2 a 8.1 16.2 0 1 1 0.0 32.4\" stroke=\"black\" stroke-width=\"2\" fill=\"none\"/>\n",
       "<ellipse cx=\"267.3\" cy=\"-0.0\" rx=\"8.1\" ry=\"16.2\" stroke=\"black\" stroke-width=\"2\" fill=\"none\"/>\n",
       "<path d=\"M 275.56 -16.2 a 11.339999999999998 22.679999999999996 0 1 1 0.0 32.4\" stroke=\"black\" stroke-width=\"2\" fill=\"none\"/>\n",
       "<path d=\"M 374.22 -22.68 a 11.339999999999998 22.679999999999996 0 1 1 0.0 45.36\" stroke=\"black\" stroke-width=\"2\" fill=\"none\"/>\n",
       "<path d=\"M 0.0,-0.0 L 19.439999999999998,-0.0 M 82.61999999999999,-0.0 L 97.19999999999999,-0.0\" style=\"stroke:black;fill:none;stroke-width:2;stroke-linecap:round;stroke-linejoin:round;\" />\n",
       "<path d=\"M 76.45776692478474,-9.719999999999999 L 77.75999999999999,-9.719999999999999\" style=\"stroke:black;fill:none;stroke-width:2;stroke-linecap:round;stroke-linejoin:round;\" />\n",
       "<path d=\"M 76.45776692478474,9.719999999999999 L 77.75999999999999,9.719999999999999\" style=\"stroke:black;fill:none;stroke-width:2;stroke-linecap:round;stroke-linejoin:round;\" />\n",
       "<path d=\"M 19.439999999999998,-9.719999999999999 L 37.57776692478474,-9.719999999999999\" style=\"stroke:black;fill:none;stroke-width:2;stroke-linecap:round;stroke-linejoin:round;\" />\n",
       "<path d=\"M 19.439999999999998,9.719999999999999 L 37.57776692478474,9.719999999999999\" style=\"stroke:black;fill:none;stroke-width:2;stroke-linecap:round;stroke-linejoin:round;\" />\n",
       "<path d=\"M 29.159999999999997,-19.439999999999998 L 68.04,-19.439999999999998\" style=\"stroke:black;fill:none;stroke-width:2;stroke-linecap:round;stroke-linejoin:round;\" />\n",
       "<path d=\"M 29.159999999999997,19.439999999999998 L 68.04,19.439999999999998\" style=\"stroke:black;fill:none;stroke-width:2;stroke-linecap:round;stroke-linejoin:round;\" />\n",
       "<path d=\"M 97.19999999999999,-0.0 L 116.64,-0.0 M 247.86,-0.0\" style=\"stroke:black;fill:none;stroke-width:2;stroke-linecap:round;stroke-linejoin:round;\" />\n",
       "<path d=\"M 116.64,-32.4 L 150.95215061774832,-32.4\" style=\"stroke:black;fill:none;stroke-width:2;stroke-linecap:round;stroke-linejoin:round;\" />\n",
       "<path d=\"M 116.64,32.4 L 150.95215061774832,32.4\" style=\"stroke:black;fill:none;stroke-width:2;stroke-linecap:round;stroke-linejoin:round;\" />\n",
       "<path d=\"M 132.83999999999997,-48.599999999999994 L 223.56,-48.599999999999994\" style=\"stroke:black;fill:none;stroke-width:2;stroke-linecap:round;stroke-linejoin:round;\" />\n",
       "<path d=\"M 132.83999999999997,48.599999999999994 L 223.56,48.599999999999994\" style=\"stroke:black;fill:none;stroke-width:2;stroke-linecap:round;stroke-linejoin:round;\" />\n",
       "<path d=\"M 247.86,-0.0 L 267.3,-0.0 M 398.52,-0.0 L 409.86,-0.0\" style=\"stroke:black;fill:none;stroke-width:2;stroke-linecap:round;stroke-linejoin:round;\" />\n",
       "<path d=\"M 382.1563467666175,-16.2 L 390.42,-16.2\" style=\"stroke:black;fill:none;stroke-width:2;stroke-linecap:round;stroke-linejoin:round;\" />\n",
       "<path d=\"M 382.1563467666175,16.2 L 390.42,16.2\" style=\"stroke:black;fill:none;stroke-width:2;stroke-linecap:round;stroke-linejoin:round;\" />\n",
       "<path d=\"M 267.3,-16.2 L 291.4363467666175,-16.2\" style=\"stroke:black;fill:none;stroke-width:2;stroke-linecap:round;stroke-linejoin:round;\" />\n",
       "<path d=\"M 267.3,16.2 L 291.4363467666175,16.2\" style=\"stroke:black;fill:none;stroke-width:2;stroke-linecap:round;stroke-linejoin:round;\" />\n",
       "<path d=\"M 283.5,-22.679999999999996 L 374.22,-22.679999999999996\" style=\"stroke:black;fill:none;stroke-width:2;stroke-linecap:round;stroke-linejoin:round;\" />\n",
       "<path d=\"M 283.5,22.679999999999996 L 374.22,22.679999999999996\" style=\"stroke:black;fill:none;stroke-width:2;stroke-linecap:round;stroke-linejoin:round;\" />\n",
       "<circle cx=\"29.159999999999997\" cy=\"19.439999999999998\" r=\"2.4299999999999997\" style=\"stroke:red;fill:red;stroke-width:2;\"/>\n",
       "<circle cx=\"68.04\" cy=\"19.439999999999998\" r=\"2.4299999999999997\" style=\"stroke:green;fill:green;stroke-width:2;\"/>\n",
       "<circle cx=\"29.159999999999997\" cy=\"-19.439999999999998\" r=\"2.4299999999999997\" style=\"stroke:blue;fill:blue;stroke-width:2;\"/>\n",
       "<circle cx=\"68.04\" cy=\"-19.439999999999998\" r=\"2.4299999999999997\" style=\"stroke:orange;fill:orange;stroke-width:2;\"/>\n",
       "<circle cx=\"48.599999999999994\" cy=\"19.439999999999998\" r=\"2.4299999999999997\" style=\"stroke:yellow;fill:yellow;stroke-width:2;\"/>\n",
       "<circle cx=\"48.599999999999994\" cy=\"-19.439999999999998\" r=\"2.4299999999999997\" style=\"stroke:cyan;fill:cyan;stroke-width:2;\"/>\n",
       "<circle cx=\"19.439999999999998\" cy=\"9.719999999999999\" r=\"2.4299999999999997\" style=\"stroke:magenta;fill:magenta;stroke-width:2;\"/>\n",
       "<circle cx=\"77.75999999999999\" cy=\"9.719999999999999\" r=\"2.4299999999999997\" style=\"stroke:maroon;fill:maroon;stroke-width:2;\"/>\n",
       "<circle cx=\"19.439999999999998\" cy=\"-9.719999999999999\" r=\"2.4299999999999997\" style=\"stroke:pink;fill:pink;stroke-width:2;\"/>\n",
       "<circle cx=\"77.75999999999999\" cy=\"-9.719999999999999\" r=\"2.4299999999999997\" style=\"stroke:gray;fill:gray;stroke-width:2;\"/>\n",
       "<circle cx=\"132.83999999999997\" cy=\"48.599999999999994\" r=\"2.4299999999999997\" style=\"stroke:red;fill:red;stroke-width:2;\"/>\n",
       "<circle cx=\"223.56\" cy=\"48.599999999999994\" r=\"2.4299999999999997\" style=\"stroke:green;fill:green;stroke-width:2;\"/>\n",
       "<circle cx=\"132.83999999999997\" cy=\"-48.599999999999994\" r=\"2.4299999999999997\" style=\"stroke:blue;fill:blue;stroke-width:2;\"/>\n",
       "<circle cx=\"223.56\" cy=\"-48.599999999999994\" r=\"2.4299999999999997\" style=\"stroke:orange;fill:orange;stroke-width:2;\"/>\n",
       "<circle cx=\"178.2\" cy=\"48.599999999999994\" r=\"2.4299999999999997\" style=\"stroke:yellow;fill:yellow;stroke-width:2;\"/>\n",
       "<circle cx=\"178.2\" cy=\"-48.599999999999994\" r=\"2.4299999999999997\" style=\"stroke:cyan;fill:cyan;stroke-width:2;\"/>\n",
       "<circle cx=\"116.64\" cy=\"32.4\" r=\"2.4299999999999997\" style=\"stroke:magenta;fill:magenta;stroke-width:2;\"/>\n",
       "<circle cx=\"239.76\" cy=\"32.4\" r=\"2.4299999999999997\" style=\"stroke:maroon;fill:maroon;stroke-width:2;\"/>\n",
       "<circle cx=\"116.64\" cy=\"-32.4\" r=\"2.4299999999999997\" style=\"stroke:pink;fill:pink;stroke-width:2;\"/>\n",
       "<circle cx=\"239.76\" cy=\"-32.4\" r=\"2.4299999999999997\" style=\"stroke:gray;fill:gray;stroke-width:2;\"/>\n",
       "<circle cx=\"283.5\" cy=\"22.679999999999996\" r=\"2.4299999999999997\" style=\"stroke:red;fill:red;stroke-width:2;\"/>\n",
       "<circle cx=\"374.22\" cy=\"22.679999999999996\" r=\"2.4299999999999997\" style=\"stroke:green;fill:green;stroke-width:2;\"/>\n",
       "<circle cx=\"283.5\" cy=\"-22.679999999999996\" r=\"2.4299999999999997\" style=\"stroke:blue;fill:blue;stroke-width:2;\"/>\n",
       "<circle cx=\"374.22\" cy=\"-22.679999999999996\" r=\"2.4299999999999997\" style=\"stroke:orange;fill:orange;stroke-width:2;\"/>\n",
       "<circle cx=\"328.86\" cy=\"22.679999999999996\" r=\"2.4299999999999997\" style=\"stroke:yellow;fill:yellow;stroke-width:2;\"/>\n",
       "<circle cx=\"328.86\" cy=\"-22.679999999999996\" r=\"2.4299999999999997\" style=\"stroke:cyan;fill:cyan;stroke-width:2;\"/>\n",
       "<circle cx=\"267.3\" cy=\"16.2\" r=\"2.4299999999999997\" style=\"stroke:magenta;fill:magenta;stroke-width:2;\"/>\n",
       "<circle cx=\"390.42\" cy=\"16.2\" r=\"2.4299999999999997\" style=\"stroke:maroon;fill:maroon;stroke-width:2;\"/>\n",
       "<circle cx=\"267.3\" cy=\"-16.2\" r=\"2.4299999999999997\" style=\"stroke:pink;fill:pink;stroke-width:2;\"/>\n",
       "<circle cx=\"390.42\" cy=\"-16.2\" r=\"2.4299999999999997\" style=\"stroke:gray;fill:gray;stroke-width:2;\"/></svg>"
      ],
      "text/plain": [
       "<svg xmlns=\"http://www.w3.org/2000/svg\" xml:lang=\"en\" height=\"106.05999999999999pt\" width=\"413.86pt\" viewBox=\"-2.0 -53.029999999999994 413.86 106.05999999999999\"><path d=\"M 77.76 -9.72 a 4.859999999999999 9.719999999999999 0 1 1 0.0 19.44\" stroke=\"black\" stroke-width=\"2\" fill=\"none\"/>\n",
       "<ellipse cx=\"19.439999999999998\" cy=\"-0.0\" rx=\"4.859999999999999\" ry=\"9.719999999999999\" stroke=\"black\" stroke-width=\"2\" fill=\"none\"/>\n",
       "<path d=\"M 20.74 -9.72 a 9.719999999999999 19.439999999999998 0 1 1 0.0 19.44\" stroke=\"black\" stroke-width=\"2\" fill=\"none\"/>\n",
       "<path d=\"M 68.04 -19.44 a 9.719999999999999 19.439999999999998 0 1 1 0.0 38.88\" stroke=\"black\" stroke-width=\"2\" fill=\"none\"/>\n",
       "<ellipse cx=\"116.64\" cy=\"-0.0\" rx=\"16.2\" ry=\"32.4\" stroke=\"black\" stroke-width=\"2\" fill=\"none\"/>\n",
       "<path d=\"M 114.73 -32.4 a 24.299999999999997 48.599999999999994 0 1 1 0.0 64.8\" stroke=\"black\" stroke-width=\"2\" fill=\"none\"/>\n",
       "<path d=\"M 223.56 -48.6 a 24.299999999999997 48.599999999999994 0 1 1 0.0 97.2\" stroke=\"black\" stroke-width=\"2\" fill=\"none\"/>\n",
       "<path d=\"M 390.42 -16.2 a 8.1 16.2 0 1 1 0.0 32.4\" stroke=\"black\" stroke-width=\"2\" fill=\"none\"/>\n",
       "<ellipse cx=\"267.3\" cy=\"-0.0\" rx=\"8.1\" ry=\"16.2\" stroke=\"black\" stroke-width=\"2\" fill=\"none\"/>\n",
       "<path d=\"M 275.56 -16.2 a 11.339999999999998 22.679999999999996 0 1 1 0.0 32.4\" stroke=\"black\" stroke-width=\"2\" fill=\"none\"/>\n",
       "<path d=\"M 374.22 -22.68 a 11.339999999999998 22.679999999999996 0 1 1 0.0 45.36\" stroke=\"black\" stroke-width=\"2\" fill=\"none\"/>\n",
       "<path d=\"M 0.0,-0.0 L 19.439999999999998,-0.0 M 82.61999999999999,-0.0 L 97.19999999999999,-0.0\" style=\"stroke:black;fill:none;stroke-width:2;stroke-linecap:round;stroke-linejoin:round;\" />\n",
       "<path d=\"M 76.45776692478474,-9.719999999999999 L 77.75999999999999,-9.719999999999999\" style=\"stroke:black;fill:none;stroke-width:2;stroke-linecap:round;stroke-linejoin:round;\" />\n",
       "<path d=\"M 76.45776692478474,9.719999999999999 L 77.75999999999999,9.719999999999999\" style=\"stroke:black;fill:none;stroke-width:2;stroke-linecap:round;stroke-linejoin:round;\" />\n",
       "<path d=\"M 19.439999999999998,-9.719999999999999 L 37.57776692478474,-9.719999999999999\" style=\"stroke:black;fill:none;stroke-width:2;stroke-linecap:round;stroke-linejoin:round;\" />\n",
       "<path d=\"M 19.439999999999998,9.719999999999999 L 37.57776692478474,9.719999999999999\" style=\"stroke:black;fill:none;stroke-width:2;stroke-linecap:round;stroke-linejoin:round;\" />\n",
       "<path d=\"M 29.159999999999997,-19.439999999999998 L 68.04,-19.439999999999998\" style=\"stroke:black;fill:none;stroke-width:2;stroke-linecap:round;stroke-linejoin:round;\" />\n",
       "<path d=\"M 29.159999999999997,19.439999999999998 L 68.04,19.439999999999998\" style=\"stroke:black;fill:none;stroke-width:2;stroke-linecap:round;stroke-linejoin:round;\" />\n",
       "<path d=\"M 97.19999999999999,-0.0 L 116.64,-0.0 M 247.86,-0.0\" style=\"stroke:black;fill:none;stroke-width:2;stroke-linecap:round;stroke-linejoin:round;\" />\n",
       "<path d=\"M 116.64,-32.4 L 150.95215061774832,-32.4\" style=\"stroke:black;fill:none;stroke-width:2;stroke-linecap:round;stroke-linejoin:round;\" />\n",
       "<path d=\"M 116.64,32.4 L 150.95215061774832,32.4\" style=\"stroke:black;fill:none;stroke-width:2;stroke-linecap:round;stroke-linejoin:round;\" />\n",
       "<path d=\"M 132.83999999999997,-48.599999999999994 L 223.56,-48.599999999999994\" style=\"stroke:black;fill:none;stroke-width:2;stroke-linecap:round;stroke-linejoin:round;\" />\n",
       "<path d=\"M 132.83999999999997,48.599999999999994 L 223.56,48.599999999999994\" style=\"stroke:black;fill:none;stroke-width:2;stroke-linecap:round;stroke-linejoin:round;\" />\n",
       "<path d=\"M 247.86,-0.0 L 267.3,-0.0 M 398.52,-0.0 L 409.86,-0.0\" style=\"stroke:black;fill:none;stroke-width:2;stroke-linecap:round;stroke-linejoin:round;\" />\n",
       "<path d=\"M 382.1563467666175,-16.2 L 390.42,-16.2\" style=\"stroke:black;fill:none;stroke-width:2;stroke-linecap:round;stroke-linejoin:round;\" />\n",
       "<path d=\"M 382.1563467666175,16.2 L 390.42,16.2\" style=\"stroke:black;fill:none;stroke-width:2;stroke-linecap:round;stroke-linejoin:round;\" />\n",
       "<path d=\"M 267.3,-16.2 L 291.4363467666175,-16.2\" style=\"stroke:black;fill:none;stroke-width:2;stroke-linecap:round;stroke-linejoin:round;\" />\n",
       "<path d=\"M 267.3,16.2 L 291.4363467666175,16.2\" style=\"stroke:black;fill:none;stroke-width:2;stroke-linecap:round;stroke-linejoin:round;\" />\n",
       "<path d=\"M 283.5,-22.679999999999996 L 374.22,-22.679999999999996\" style=\"stroke:black;fill:none;stroke-width:2;stroke-linecap:round;stroke-linejoin:round;\" />\n",
       "<path d=\"M 283.5,22.679999999999996 L 374.22,22.679999999999996\" style=\"stroke:black;fill:none;stroke-width:2;stroke-linecap:round;stroke-linejoin:round;\" />\n",
       "<circle cx=\"29.159999999999997\" cy=\"19.439999999999998\" r=\"2.4299999999999997\" style=\"stroke:red;fill:red;stroke-width:2;\"/>\n",
       "<circle cx=\"68.04\" cy=\"19.439999999999998\" r=\"2.4299999999999997\" style=\"stroke:green;fill:green;stroke-width:2;\"/>\n",
       "<circle cx=\"29.159999999999997\" cy=\"-19.439999999999998\" r=\"2.4299999999999997\" style=\"stroke:blue;fill:blue;stroke-width:2;\"/>\n",
       "<circle cx=\"68.04\" cy=\"-19.439999999999998\" r=\"2.4299999999999997\" style=\"stroke:orange;fill:orange;stroke-width:2;\"/>\n",
       "<circle cx=\"48.599999999999994\" cy=\"19.439999999999998\" r=\"2.4299999999999997\" style=\"stroke:yellow;fill:yellow;stroke-width:2;\"/>\n",
       "<circle cx=\"48.599999999999994\" cy=\"-19.439999999999998\" r=\"2.4299999999999997\" style=\"stroke:cyan;fill:cyan;stroke-width:2;\"/>\n",
       "<circle cx=\"19.439999999999998\" cy=\"9.719999999999999\" r=\"2.4299999999999997\" style=\"stroke:magenta;fill:magenta;stroke-width:2;\"/>\n",
       "<circle cx=\"77.75999999999999\" cy=\"9.719999999999999\" r=\"2.4299999999999997\" style=\"stroke:maroon;fill:maroon;stroke-width:2;\"/>\n",
       "<circle cx=\"19.439999999999998\" cy=\"-9.719999999999999\" r=\"2.4299999999999997\" style=\"stroke:pink;fill:pink;stroke-width:2;\"/>\n",
       "<circle cx=\"77.75999999999999\" cy=\"-9.719999999999999\" r=\"2.4299999999999997\" style=\"stroke:gray;fill:gray;stroke-width:2;\"/>\n",
       "<circle cx=\"132.83999999999997\" cy=\"48.599999999999994\" r=\"2.4299999999999997\" style=\"stroke:red;fill:red;stroke-width:2;\"/>\n",
       "<circle cx=\"223.56\" cy=\"48.599999999999994\" r=\"2.4299999999999997\" style=\"stroke:green;fill:green;stroke-width:2;\"/>\n",
       "<circle cx=\"132.83999999999997\" cy=\"-48.599999999999994\" r=\"2.4299999999999997\" style=\"stroke:blue;fill:blue;stroke-width:2;\"/>\n",
       "<circle cx=\"223.56\" cy=\"-48.599999999999994\" r=\"2.4299999999999997\" style=\"stroke:orange;fill:orange;stroke-width:2;\"/>\n",
       "<circle cx=\"178.2\" cy=\"48.599999999999994\" r=\"2.4299999999999997\" style=\"stroke:yellow;fill:yellow;stroke-width:2;\"/>\n",
       "<circle cx=\"178.2\" cy=\"-48.599999999999994\" r=\"2.4299999999999997\" style=\"stroke:cyan;fill:cyan;stroke-width:2;\"/>\n",
       "<circle cx=\"116.64\" cy=\"32.4\" r=\"2.4299999999999997\" style=\"stroke:magenta;fill:magenta;stroke-width:2;\"/>\n",
       "<circle cx=\"239.76\" cy=\"32.4\" r=\"2.4299999999999997\" style=\"stroke:maroon;fill:maroon;stroke-width:2;\"/>\n",
       "<circle cx=\"116.64\" cy=\"-32.4\" r=\"2.4299999999999997\" style=\"stroke:pink;fill:pink;stroke-width:2;\"/>\n",
       "<circle cx=\"239.76\" cy=\"-32.4\" r=\"2.4299999999999997\" style=\"stroke:gray;fill:gray;stroke-width:2;\"/>\n",
       "<circle cx=\"283.5\" cy=\"22.679999999999996\" r=\"2.4299999999999997\" style=\"stroke:red;fill:red;stroke-width:2;\"/>\n",
       "<circle cx=\"374.22\" cy=\"22.679999999999996\" r=\"2.4299999999999997\" style=\"stroke:green;fill:green;stroke-width:2;\"/>\n",
       "<circle cx=\"283.5\" cy=\"-22.679999999999996\" r=\"2.4299999999999997\" style=\"stroke:blue;fill:blue;stroke-width:2;\"/>\n",
       "<circle cx=\"374.22\" cy=\"-22.679999999999996\" r=\"2.4299999999999997\" style=\"stroke:orange;fill:orange;stroke-width:2;\"/>\n",
       "<circle cx=\"328.86\" cy=\"22.679999999999996\" r=\"2.4299999999999997\" style=\"stroke:yellow;fill:yellow;stroke-width:2;\"/>\n",
       "<circle cx=\"328.86\" cy=\"-22.679999999999996\" r=\"2.4299999999999997\" style=\"stroke:cyan;fill:cyan;stroke-width:2;\"/>\n",
       "<circle cx=\"267.3\" cy=\"16.2\" r=\"2.4299999999999997\" style=\"stroke:magenta;fill:magenta;stroke-width:2;\"/>\n",
       "<circle cx=\"390.42\" cy=\"16.2\" r=\"2.4299999999999997\" style=\"stroke:maroon;fill:maroon;stroke-width:2;\"/>\n",
       "<circle cx=\"267.3\" cy=\"-16.2\" r=\"2.4299999999999997\" style=\"stroke:pink;fill:pink;stroke-width:2;\"/>\n",
       "<circle cx=\"390.42\" cy=\"-16.2\" r=\"2.4299999999999997\" style=\"stroke:gray;fill:gray;stroke-width:2;\"/></svg>"
      ]
     },
     "execution_count": 35,
     "metadata": {},
     "output_type": "execute_result"
    }
   ],
   "source": [
    "d = schemdraw.Drawing()\n",
    "T = d.add(elm.Triax())  # Default triax\n",
    "d.add(elm.Dot().at(T.shieldstart).color('red'))\n",
    "d.add(elm.Dot().at(T.shieldend).color('green'))\n",
    "d.add(elm.Dot().at(T.shieldstart_top).color('blue'))\n",
    "d.add(elm.Dot().at(T.shieldend_top).color('orange'))\n",
    "d.add(elm.Dot().at(T.shieldcenter).color('yellow'))\n",
    "d.add(elm.Dot().at(T.shieldcenter_top).color('cyan'))\n",
    "d.add(elm.Dot().at(T.guardstart).color('magenta'))\n",
    "d.add(elm.Dot().at(T.guardend).color('maroon'))\n",
    "d.add(elm.Dot().at(T.guardstart_top).color('pink'))\n",
    "d.add(elm.Dot().at(T.guardend_top).color('gray'))\n",
    "\n",
    "# Custom triax - end is covered up\n",
    "T2 = d.add(elm.Triax(length=5, radiusinner=1, radiusouter=1.5, \n",
    "                   shieldofststart=.5, shieldofstend=.5).at(T.end))\n",
    "d.add(elm.Dot().at(T2.shieldstart).color('red'))\n",
    "d.add(elm.Dot().at(T2.shieldend).color('green'))\n",
    "d.add(elm.Dot().at(T2.shieldstart_top).color('blue'))\n",
    "d.add(elm.Dot().at(T2.shieldend_top).color('orange'))\n",
    "d.add(elm.Dot().at(T2.shieldcenter).color('yellow'))\n",
    "d.add(elm.Dot().at(T2.shieldcenter_top).color('cyan'))\n",
    "d.add(elm.Dot().at(T2.guardstart).color('magenta'))\n",
    "d.add(elm.Dot().at(T2.guardend).color('maroon'))\n",
    "d.add(elm.Dot().at(T2.guardstart_top).color('pink'))\n",
    "d.add(elm.Dot().at(T2.guardend_top).color('gray'))\n",
    "\n",
    "# Custom triax - end is shown\n",
    "T3 = d.add(elm.Triax(length=5, radiusinner=.5, radiusouter=.7, \n",
    "                     shieldofststart=.5, shieldofstend=.5).at(T2.end))\n",
    "d.add(elm.Dot().at(T3.shieldstart).color('red'))\n",
    "d.add(elm.Dot().at(T3.shieldend).color('green'))\n",
    "d.add(elm.Dot().at(T3.shieldstart_top).color('blue'))\n",
    "d.add(elm.Dot().at(T3.shieldend_top).color('orange'))\n",
    "d.add(elm.Dot().at(T3.shieldcenter).color('yellow'))\n",
    "d.add(elm.Dot().at(T3.shieldcenter_top).color('cyan'))\n",
    "d.add(elm.Dot().at(T3.guardstart).color('magenta'))\n",
    "d.add(elm.Dot().at(T3.guardend).color('maroon'))\n",
    "d.add(elm.Dot().at(T3.guardstart_top).color('pink'))\n",
    "d.add(elm.Dot().at(T3.guardend_top).color('gray'))\n",
    "\n",
    "d.draw()"
   ]
  },
  {
   "cell_type": "code",
   "execution_count": null,
   "metadata": {},
   "outputs": [],
   "source": []
  }
 ],
 "metadata": {
  "kernelspec": {
   "display_name": "Python 3",
   "language": "python",
   "name": "python3"
  },
  "language_info": {
   "codemirror_mode": {
    "name": "ipython",
    "version": 3
   },
   "file_extension": ".py",
   "mimetype": "text/x-python",
   "name": "python",
   "nbconvert_exporter": "python",
   "pygments_lexer": "ipython3",
   "version": "3.8.5"
  }
 },
 "nbformat": 4,
 "nbformat_minor": 4
}
