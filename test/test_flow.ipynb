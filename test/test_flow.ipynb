{
 "cells": [
  {
   "cell_type": "code",
   "execution_count": 1,
   "metadata": {},
   "outputs": [],
   "source": [
    "import schemdraw\n",
    "from schemdraw import flow\n",
    "schemdraw.use('svg')"
   ]
  },
  {
   "cell_type": "code",
   "execution_count": 2,
   "metadata": {},
   "outputs": [
    {
     "data": {
      "image/svg+xml": [
       "<svg xmlns=\"http://www.w3.org/2000/svg\" xml:lang=\"en\" height=\"473.7833534049023pt\" width=\"133.6pt\" viewBox=\"-66.79999999999997 -1.9833534049022878 133.6 473.7833534049023\"><circle cx=\"2.678302549735261e-14\" cy=\"437.4\" r=\"32.4\" style=\"stroke:black;fill:none;stroke-width:2;\" /><path d=\"M 48.599999999999994,32.39999999999999 L 48.20099467180977,36.54322003857799 L 47.01053034369683,40.61840851866804 L 45.04815440701665,44.55865095809172 L 42.346089020396725,48.29924868492758 L 38.94870202278269,51.7787811879154 L 34.91177841474956,54.94011463955296 L 30.301604370334456,57.731340031964166 L 25.193878819891523,60.10662552137321 L 19.67247047574835,62.026968985712315 L 13.828040710268192,63.4608384383878 L 7.7565548986222375,64.38468978262819 L 1.557706669982453,64.78335340490229 L -4.666719059113319,64.65028325955402 L -10.814517390276873,63.98766435469108 L -16.784741644875538,62.80637687441223 L -22.47936090570458,61.12581752648521 L -27.80486968193743,58.97358104894138 L -32.67382326669998,56.38500710524023 L -37.006273576739915,53.40260000797235 L -40.73108189774344,50.07533079922179 L -43.787086980057566,46.457833147408884 L -46.12410930471849,42.609506263965315 L -47.70377502976577,38.59353956992447 L -48.500146087666344,34.47587512737511 L -48.500146087666344,30.324124872624914 L -47.70377502976578,26.206460430075552 L -46.1241093047185,22.190493736034707 L -43.78708698005757,18.34216685259112 L -40.73108189774346,14.72466920077823 L -37.00627357673994,11.397399992027664 L -32.673823266700005,8.414992894759786 L -27.804869681937458,5.826418951058638 L -22.479360905704596,3.674182473514801 L -16.784741644875577,1.9936231255877699 L -10.814517390276889,0.8123356453089153 L -4.666719059113367,0.1497167404459812 L 1.5577066699824262,0.01664659509771215 L 7.75655489862219,0.41531021737181023 L 13.828040710268155,1.339161561612189 L 19.672470475748298,2.7730310142876626 L 25.19387881989149,4.693374478626774 L 30.30160437033444,7.068659968035829 L 34.911778414749534,9.859885360447022 L 38.94870202278268,13.021218812084593 L 42.346089020396704,16.500751315072385 L 45.048154407016646,20.241349041908258 L 47.010530343696814,24.181591481331925 L 48.20099467180976,28.25677996142198 L 48.599999999999994,32.39999999999999\" style=\"stroke:black;fill:none;stroke-width:2;stroke-linecap:round;stroke-linejoin:round;\" /><path d=\"M 3.9678556292374245e-15,64.8 L 4.463837582892102e-15,72.89999999999999 L 4.9598195365467806e-15,81.0\" style=\"stroke:black;fill:none;stroke-width:2;stroke-linecap:round;stroke-linejoin:round;\" /><path d=\"M 4.9598195365467806e-15,81.0 L 48.60000000000001,81.0 L 48.600000000000016,145.79999999999998 L -48.59999999999998,145.79999999999998 L -48.59999999999999,81.0 L 4.9598195365467806e-15,81.0\" style=\"stroke:black;fill:none;stroke-width:2;stroke-linecap:round;stroke-linejoin:round;\" /><path d=\"M 8.927675165784204e-15,145.79999999999998 L 9.423657119438882e-15,153.9 L 9.919639073093561e-15,162.0\" style=\"stroke:black;fill:none;stroke-width:2;stroke-linecap:round;stroke-linejoin:round;\" /><path d=\"M 9.919639073093561e-15,162.0 L 56.7,162.0 L 56.70000000000001,226.79999999999998 L -56.69999999999998,226.79999999999998 L -56.69999999999999,162.0 L 9.919639073093561e-15,162.0\" style=\"stroke:black;fill:none;stroke-width:2;stroke-linecap:round;stroke-linejoin:round;\" /><path d=\"M 46.980000000000004,162.0 L 46.98000000000001,226.79999999999998\" style=\"stroke:black;fill:none;stroke-width:2;stroke-linecap:round;stroke-linejoin:round;\" /><path d=\"M -46.97999999999999,162.0 L -46.97999999999998,226.79999999999998\" style=\"stroke:black;fill:none;stroke-width:2;stroke-linecap:round;stroke-linejoin:round;\" /><path d=\"M 1.3887494702330984e-14,226.79999999999998 L 1.438347665598566e-14,234.89999999999998 L 1.487945860964034e-14,243.0\" style=\"stroke:black;fill:none;stroke-width:2;stroke-linecap:round;stroke-linejoin:round;\" /><path d=\"M 1.487945860964034e-14,243.0 L 56.70000000000001,243.0 L 40.50000000000002,307.8 L -56.699999999999974,307.8 L -40.499999999999986,243.0 L 1.487945860964034e-14,243.0\" style=\"stroke:black;fill:none;stroke-width:2;stroke-linecap:round;stroke-linejoin:round;\" /><path d=\"M 1.8847314238877764e-14,307.8 L 1.934329619253244e-14,315.9 L 1.983927814618712e-14,324.0\" style=\"stroke:black;fill:none;stroke-width:2;stroke-linecap:round;stroke-linejoin:round;\" /><path d=\"M 1.983927814618712e-14,324.0 L 64.80000000000001,356.4 L 2.3807133775424544e-14,388.79999999999995 L -64.79999999999997,356.4 L 1.983927814618712e-14,324.0\" style=\"stroke:black;fill:none;stroke-width:2;stroke-linecap:round;stroke-linejoin:round;\" /><path d=\"M 2.3807133775424544e-14,388.79999999999995 L 2.430311572907922e-14,396.9 L 2.47990976827339e-14,405.0\" style=\"stroke:black;fill:none;stroke-width:2;stroke-linecap:round;stroke-linejoin:round;\" /><text x=\"0.04992695616682903\" y=\"28.4\" fill=\"black\" font-size=\"10\" font-family=\"sans-serif\" text-anchor=\"middle\" transform=\"rotate(0 0.04992695616682903 32.4)\"><tspan x=\"0.04992695616682903\" dy=\"8.0\">Start()</tspan></text><text x=\"6.943747351165492e-15\" y=\"109.39999999999999\" fill=\"black\" font-size=\"10\" font-family=\"sans-serif\" text-anchor=\"middle\" transform=\"rotate(0 6.943747351165492e-15 113.39999999999999)\"><tspan x=\"6.943747351165492e-15\" dy=\"8.0\">Box()</tspan></text><text x=\"1.1903566887712273e-14\" y=\"190.39999999999998\" fill=\"black\" font-size=\"10\" font-family=\"sans-serif\" text-anchor=\"middle\" transform=\"rotate(0 1.1903566887712273e-14 194.39999999999998)\"><tspan x=\"1.1903566887712273e-14\" dy=\"8.0\">Subroutine()</tspan></text><text x=\"1.686338642425905e-14\" y=\"271.4\" fill=\"black\" font-size=\"10\" font-family=\"sans-serif\" text-anchor=\"middle\" transform=\"rotate(0 1.686338642425905e-14 275.4)\"><tspan x=\"1.686338642425905e-14\" dy=\"8.0\">Data()</tspan></text><text x=\"2.182320596080583e-14\" y=\"352.4\" fill=\"black\" font-size=\"10\" font-family=\"sans-serif\" text-anchor=\"middle\" transform=\"rotate(0 2.182320596080583e-14 356.4)\"><tspan x=\"2.182320596080583e-14\" dy=\"8.0\">Decision()</tspan></text><text x=\"2.678302549735261e-14\" y=\"433.4\" fill=\"black\" font-size=\"10\" font-family=\"sans-serif\" text-anchor=\"middle\" transform=\"rotate(0 2.678302549735261e-14 437.4)\"><tspan x=\"2.678302549735261e-14\" dy=\"8.0\">Connect()</tspan></text></svg>"
      ],
      "text/plain": [
       "<svg xmlns=\"http://www.w3.org/2000/svg\" xml:lang=\"en\" height=\"473.7833534049023pt\" width=\"133.6pt\" viewBox=\"-66.79999999999997 -1.9833534049022878 133.6 473.7833534049023\"><circle cx=\"2.678302549735261e-14\" cy=\"437.4\" r=\"32.4\" style=\"stroke:black;fill:none;stroke-width:2;\" /><path d=\"M 48.599999999999994,32.39999999999999 L 48.20099467180977,36.54322003857799 L 47.01053034369683,40.61840851866804 L 45.04815440701665,44.55865095809172 L 42.346089020396725,48.29924868492758 L 38.94870202278269,51.7787811879154 L 34.91177841474956,54.94011463955296 L 30.301604370334456,57.731340031964166 L 25.193878819891523,60.10662552137321 L 19.67247047574835,62.026968985712315 L 13.828040710268192,63.4608384383878 L 7.7565548986222375,64.38468978262819 L 1.557706669982453,64.78335340490229 L -4.666719059113319,64.65028325955402 L -10.814517390276873,63.98766435469108 L -16.784741644875538,62.80637687441223 L -22.47936090570458,61.12581752648521 L -27.80486968193743,58.97358104894138 L -32.67382326669998,56.38500710524023 L -37.006273576739915,53.40260000797235 L -40.73108189774344,50.07533079922179 L -43.787086980057566,46.457833147408884 L -46.12410930471849,42.609506263965315 L -47.70377502976577,38.59353956992447 L -48.500146087666344,34.47587512737511 L -48.500146087666344,30.324124872624914 L -47.70377502976578,26.206460430075552 L -46.1241093047185,22.190493736034707 L -43.78708698005757,18.34216685259112 L -40.73108189774346,14.72466920077823 L -37.00627357673994,11.397399992027664 L -32.673823266700005,8.414992894759786 L -27.804869681937458,5.826418951058638 L -22.479360905704596,3.674182473514801 L -16.784741644875577,1.9936231255877699 L -10.814517390276889,0.8123356453089153 L -4.666719059113367,0.1497167404459812 L 1.5577066699824262,0.01664659509771215 L 7.75655489862219,0.41531021737181023 L 13.828040710268155,1.339161561612189 L 19.672470475748298,2.7730310142876626 L 25.19387881989149,4.693374478626774 L 30.30160437033444,7.068659968035829 L 34.911778414749534,9.859885360447022 L 38.94870202278268,13.021218812084593 L 42.346089020396704,16.500751315072385 L 45.048154407016646,20.241349041908258 L 47.010530343696814,24.181591481331925 L 48.20099467180976,28.25677996142198 L 48.599999999999994,32.39999999999999\" style=\"stroke:black;fill:none;stroke-width:2;stroke-linecap:round;stroke-linejoin:round;\" /><path d=\"M 3.9678556292374245e-15,64.8 L 4.463837582892102e-15,72.89999999999999 L 4.9598195365467806e-15,81.0\" style=\"stroke:black;fill:none;stroke-width:2;stroke-linecap:round;stroke-linejoin:round;\" /><path d=\"M 4.9598195365467806e-15,81.0 L 48.60000000000001,81.0 L 48.600000000000016,145.79999999999998 L -48.59999999999998,145.79999999999998 L -48.59999999999999,81.0 L 4.9598195365467806e-15,81.0\" style=\"stroke:black;fill:none;stroke-width:2;stroke-linecap:round;stroke-linejoin:round;\" /><path d=\"M 8.927675165784204e-15,145.79999999999998 L 9.423657119438882e-15,153.9 L 9.919639073093561e-15,162.0\" style=\"stroke:black;fill:none;stroke-width:2;stroke-linecap:round;stroke-linejoin:round;\" /><path d=\"M 9.919639073093561e-15,162.0 L 56.7,162.0 L 56.70000000000001,226.79999999999998 L -56.69999999999998,226.79999999999998 L -56.69999999999999,162.0 L 9.919639073093561e-15,162.0\" style=\"stroke:black;fill:none;stroke-width:2;stroke-linecap:round;stroke-linejoin:round;\" /><path d=\"M 46.980000000000004,162.0 L 46.98000000000001,226.79999999999998\" style=\"stroke:black;fill:none;stroke-width:2;stroke-linecap:round;stroke-linejoin:round;\" /><path d=\"M -46.97999999999999,162.0 L -46.97999999999998,226.79999999999998\" style=\"stroke:black;fill:none;stroke-width:2;stroke-linecap:round;stroke-linejoin:round;\" /><path d=\"M 1.3887494702330984e-14,226.79999999999998 L 1.438347665598566e-14,234.89999999999998 L 1.487945860964034e-14,243.0\" style=\"stroke:black;fill:none;stroke-width:2;stroke-linecap:round;stroke-linejoin:round;\" /><path d=\"M 1.487945860964034e-14,243.0 L 56.70000000000001,243.0 L 40.50000000000002,307.8 L -56.699999999999974,307.8 L -40.499999999999986,243.0 L 1.487945860964034e-14,243.0\" style=\"stroke:black;fill:none;stroke-width:2;stroke-linecap:round;stroke-linejoin:round;\" /><path d=\"M 1.8847314238877764e-14,307.8 L 1.934329619253244e-14,315.9 L 1.983927814618712e-14,324.0\" style=\"stroke:black;fill:none;stroke-width:2;stroke-linecap:round;stroke-linejoin:round;\" /><path d=\"M 1.983927814618712e-14,324.0 L 64.80000000000001,356.4 L 2.3807133775424544e-14,388.79999999999995 L -64.79999999999997,356.4 L 1.983927814618712e-14,324.0\" style=\"stroke:black;fill:none;stroke-width:2;stroke-linecap:round;stroke-linejoin:round;\" /><path d=\"M 2.3807133775424544e-14,388.79999999999995 L 2.430311572907922e-14,396.9 L 2.47990976827339e-14,405.0\" style=\"stroke:black;fill:none;stroke-width:2;stroke-linecap:round;stroke-linejoin:round;\" /><text x=\"0.04992695616682903\" y=\"28.4\" fill=\"black\" font-size=\"10\" font-family=\"sans-serif\" text-anchor=\"middle\" transform=\"rotate(0 0.04992695616682903 32.4)\"><tspan x=\"0.04992695616682903\" dy=\"8.0\">Start()</tspan></text><text x=\"6.943747351165492e-15\" y=\"109.39999999999999\" fill=\"black\" font-size=\"10\" font-family=\"sans-serif\" text-anchor=\"middle\" transform=\"rotate(0 6.943747351165492e-15 113.39999999999999)\"><tspan x=\"6.943747351165492e-15\" dy=\"8.0\">Box()</tspan></text><text x=\"1.1903566887712273e-14\" y=\"190.39999999999998\" fill=\"black\" font-size=\"10\" font-family=\"sans-serif\" text-anchor=\"middle\" transform=\"rotate(0 1.1903566887712273e-14 194.39999999999998)\"><tspan x=\"1.1903566887712273e-14\" dy=\"8.0\">Subroutine()</tspan></text><text x=\"1.686338642425905e-14\" y=\"271.4\" fill=\"black\" font-size=\"10\" font-family=\"sans-serif\" text-anchor=\"middle\" transform=\"rotate(0 1.686338642425905e-14 275.4)\"><tspan x=\"1.686338642425905e-14\" dy=\"8.0\">Data()</tspan></text><text x=\"2.182320596080583e-14\" y=\"352.4\" fill=\"black\" font-size=\"10\" font-family=\"sans-serif\" text-anchor=\"middle\" transform=\"rotate(0 2.182320596080583e-14 356.4)\"><tspan x=\"2.182320596080583e-14\" dy=\"8.0\">Decision()</tspan></text><text x=\"2.678302549735261e-14\" y=\"433.4\" fill=\"black\" font-size=\"10\" font-family=\"sans-serif\" text-anchor=\"middle\" transform=\"rotate(0 2.678302549735261e-14 437.4)\"><tspan x=\"2.678302549735261e-14\" dy=\"8.0\">Connect()</tspan></text></svg>"
      ]
     },
     "execution_count": 2,
     "metadata": {},
     "output_type": "execute_result"
    }
   ],
   "source": [
    "d = schemdraw.Drawing(fontsize=10, unit=.5)\n",
    "d.add(flow.Start(label='Start()'))\n",
    "d.add(flow.Line())\n",
    "d.add(flow.Box(label='Box()'))\n",
    "d.add(flow.Line())\n",
    "d.add(flow.Subroutine(label='Subroutine()'))\n",
    "d.add(flow.Line())\n",
    "d.add(flow.Data(label='Data()'))\n",
    "d.add(flow.Line())\n",
    "d.add(flow.Decision(label='Decision()'))\n",
    "d.add(flow.LINE)\n",
    "d.add(flow.Connect(r=1, label='Connect()'))\n",
    "d.draw()"
   ]
  },
  {
   "cell_type": "code",
   "execution_count": 3,
   "metadata": {},
   "outputs": [
    {
     "data": {
      "image/png": "[encoded data removed]",
      "image/svg+xml": [
       "<svg xmlns=\"http://www.w3.org/2000/svg\" xml:lang=\"en\" height=\"98.68pt\" width=\"171.92919999999998pt\" viewBox=\"-85.96999999999997 451.24 171.92919999999998 98.68\"><path d=\"M 2.876695331197132e-14,469.79999999999995 L 64.80000000000003,502.2 L 3.273480894120875e-14,534.6 L -64.79999999999997,502.2 L 2.876695331197132e-14,469.79999999999995\" style=\"stroke:black;fill:none;stroke-width:2;stroke-linecap:round;stroke-linejoin:round;\" /><text x=\"4.212000000000029\" y=\"458.59999999999997\" fill=\"black\" font-size=\"14\" font-family=\"sans-serif\" text-anchor=\"start\" transform=\"rotate(0 4.212000000000029 469.79999999999995)\"><tspan x=\"4.212000000000029\" dy=\"11.200000000000001\">N</tspan></text><text x=\"4.212000000000033\" y=\"534.6\" fill=\"black\" font-size=\"14\" font-family=\"sans-serif\" text-anchor=\"start\" transform=\"rotate(0 4.212000000000033 534.6)\"><tspan x=\"4.212000000000033\" dy=\"11.200000000000001\">S</tspan></text><text x=\"69.01200000000003\" y=\"491.0\" fill=\"black\" font-size=\"14\" font-family=\"sans-serif\" text-anchor=\"start\" transform=\"rotate(0 69.01200000000003 502.2)\"><tspan x=\"69.01200000000003\" dy=\"11.200000000000001\">E</tspan></text><text x=\"-69.01199999999996\" y=\"491.0\" fill=\"black\" font-size=\"14\" font-family=\"sans-serif\" text-anchor=\"end\" transform=\"rotate(0 -69.01199999999996 502.2)\"><tspan x=\"-69.01199999999996\" dy=\"11.200000000000001\">W</tspan></text></svg>"
      ],
      "text/plain": [
       "<schemdraw.flow.flow.Decision at 0x78b951073040>"
      ]
     },
     "execution_count": 3,
     "metadata": {},
     "output_type": "execute_result"
    }
   ],
   "source": [
    "d.add(flow.Decision(N='N', S='S', E='E', W='W'))"
   ]
  },
  {
   "cell_type": "code",
   "execution_count": null,
   "metadata": {},
   "outputs": [],
   "source": []
  },
  {
   "cell_type": "code",
   "execution_count": null,
   "metadata": {},
   "outputs": [],
   "source": []
  }
 ],
 "metadata": {
  "kernelspec": {
   "display_name": "Python 3",
   "language": "python",
   "name": "python3"
  },
  "language_info": {
   "codemirror_mode": {
    "name": "ipython",
    "version": 3
   },
   "file_extension": ".py",
   "mimetype": "text/x-python",
   "name": "python",
   "nbconvert_exporter": "python",
   "pygments_lexer": "ipython3",
   "version": "3.8.5"
  }
 },
 "nbformat": 4,
 "nbformat_minor": 4
}
